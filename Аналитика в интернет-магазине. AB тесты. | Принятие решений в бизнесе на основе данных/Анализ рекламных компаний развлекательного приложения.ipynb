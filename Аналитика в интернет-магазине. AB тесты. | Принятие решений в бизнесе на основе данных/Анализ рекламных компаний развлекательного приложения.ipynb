{
 "cells": [
  {
   "cell_type": "markdown",
   "id": "6119c403",
   "metadata": {},
   "source": [
    "## Проект: Анализ бизнес-показателей"
   ]
  },
  {
   "cell_type": "markdown",
   "id": "88bc0849",
   "metadata": {},
   "source": [
    "### Описание проекта\n",
    " Вы — маркетинговый аналитик развлекательного приложения Procrastinate Pro+. Несмотря на огромные вложения в рекламу, последние несколько месяцев компания терпит убытки. \n",
    "#### Задача — разобраться в причинах и помочь компании выйти в плюс.\n",
    "\n",
    "##### Предстоит изучить:\n",
    "* откуда приходят пользователи и какими устройствами они пользуются,\n",
    "* сколько стоит привлечение пользователей из различных рекламных каналов;\n",
    "* сколько денег приносит каждый клиент,\n",
    "* когда расходы на привлечение клиента окупаются,\n",
    "* какие факторы мешают привлечению клиентов.\n",
    "\n",
    "#### Описание данных\n",
    " В вашем распоряжении три датасета. Файл visits_info_short.csv хранит лог сервера с информацией о посещениях сайта, orders_info_short.csv — информацию о заказах, а costs_info_short.csv — информацию о расходах на рекламу.\n",
    " \n",
    "##### Структура visits_info_short.csv:\n",
    "* User Id — уникальный идентификатор пользователя,\n",
    "* Region — страна пользователя,\n",
    "* Device — тип устройства пользователя,\n",
    "* Channel — идентификатор источника перехода,\n",
    "* Session Start — дата и время начала сессии,\n",
    "* Session End — дата и время окончания сессии.\n",
    "##### Структура orders_info_short.csv:\n",
    "* User Id — уникальный идентификатор пользователя,\n",
    "* Event Dt — дата и время покупки,\n",
    "* Revenue — сумма заказа.\n",
    "##### Структура costs_info_short.csv:\n",
    "* dt — дата проведения рекламной кампании,\n",
    "* Channel — идентификатор рекламного источника,\n",
    "* costs — расходы на эту кампанию."
   ]
  },
  {
   "cell_type": "markdown",
   "id": "c52f7728",
   "metadata": {},
   "source": [
    "### План работы выполнения работы\n",
    "#### Шаг 1. Загрузка данных и подготовка их к анализу\n",
    "- Загрузка данных о визитах, заказах и рекламных расходах из CSV-файлов в переменные.\n",
    "- Изучение данные и выполние предобработки. \n",
    "- Проверка на наличие в данных пропусков и дубликатов? \n",
    "- Приведение типов данных во всех колонках к соответствующим сохранённым в них значениям. \n",
    "\n",
    "#### Шаг 2. Задание функций для расчёта и анализа LTV, ROI, удержания и конверсии.\n",
    "- Задание функций  для формирования профилей, для расчета LTV, CAC и ROI:\n",
    "get_profiles() — для создания профилей пользователей,\n",
    "get_retention() — для подсчёта Retention Rate,\n",
    "get_conversion() — для подсчёта конверсии,\n",
    "get_ltv() — для подсчёта LTV.\n",
    "- Задание функций для построения графиков:\n",
    "filter_data() — для сглаживания данных,\n",
    "plot_retention() — для построения графика Retention Rate,\n",
    "plot_conversion() — для построения графика конверсии,\n",
    "plot_ltv_roi — для визуализации LTV и ROI.\n",
    "\n",
    "#### Шаг 3. Исследовательский анализ данных\n",
    "- Составление профилей пользователей. \n",
    "- Определение минимальной и максимальной даты привлечения пользователей.\n",
    "- Определение стран из которых пользователи приходят в приложение и на какую страну приходится больше всего платящих пользователей. \n",
    "- Построение таблицы, отражающей количество пользователей и долю платящих из каждой страны.\n",
    "- Опереление устройств, которыми пользуются клиенты и какие устройства предпочитают платящие пользователи. \n",
    "- Построение таблицы, отражающей количество пользователей и долю платящих для каждого устройства.\n",
    "- Изучение рекламных источников привлечения и определение каналов, из которых пришло больше всего платящих пользователей. - - Построение таблицы, отражающей количество пользователей и долю платящих для каждого канала привлечения.\n",
    "- Формирование выводов.\n",
    "\n",
    "#### Шаг 4. Маркетинг\n",
    "- Определение суммы расходов на маркетинг.\n",
    "- Опереление, как траты распределены по рекламным источникам, то есть сколько денег потратили на каждый источник.\n",
    "- Построение визуализации динамики изменения расходов во времени (по неделям и месяцам) по каждому источнику. \n",
    "- Опереление, сколько в среднем стоило привлечение одного пользователя (CAC) из каждого источника. \n",
    "- Формирование промежуточных выводов.\n",
    "\n",
    "#### Шаг 5. Оценка окупаемости рекламы\n",
    "- Используя графики LTV, ROI и CAC, анализ окупаемости рекламы. \n",
    "- Анализ окупаемости рекламы c помощью графиков LTV и ROI, а также графики динамики LTV, CAC и ROI.\n",
    "- Проверка конверсии пользователей и динамики её изменения. Проверка удержания пользователей. Построение графиков конверсии и удержания.\n",
    "- Анализ окупаемости рекламы с разбивкой по устройствам. Построение графиков LTV и ROI, а также графиков динамики LTV, CAC и ROI.\n",
    "- Анализ окупаемости рекламы с разбивкой по странам. Построение графиков LTV и ROI, а также графиков динамики LTV, CAC и ROI.\n",
    "- Анализ окупаемости рекламы с разбивкой по рекламным каналам. Построение графиков LTV и ROI, а также графиков динамики LTV, CAC и ROI.\n",
    "Ответ на вопросы:\n",
    "- Окупается ли реклама, направленная на привлечение пользователей в целом?\n",
    "- Какие устройства, страны и рекламные каналы могут оказывать негативное влияние на окупаемость рекламы?\n",
    "- Чем могут быть вызваны проблемы окупаемости?\n",
    "- Вывод, опредение возможных причин обнаруженных проблем и  определение промежуточных рекомендаций для рекламного отдела.\n",
    "\n",
    "#### Шаг 6. Выводы\n",
    "- Выделение причин неэффективности привлечения пользователей.\n",
    "- Формулирование рекомендаций для отдела маркетинга."
   ]
  },
  {
   "cell_type": "code",
   "execution_count": null,
   "id": "b543421e",
   "metadata": {},
   "outputs": [],
   "source": [
    "# импортирую библиотеки\n",
    "import pandas as pd #импортировал библиотеку pandas\n",
    "import matplotlib.pyplot as plt #импортировал библиотеку mathplotlib\n",
    "import seaborn as sns #импортировал библиотеку seaborn\n",
    "import numpy as np #импортировал библиотеку numpy\n",
    "from scipy import stats as st # из библиотеки scipy импортировал модуль stats\n",
    "from datetime import date, datetime, timedelta  # из библиотеки datetime импортировал модули datetime, timedelta"
   ]
  },
  {
   "cell_type": "markdown",
   "id": "38b0e3e1",
   "metadata": {},
   "source": [
    "### Шаг 1. Загрузка данных и подготовка к анализу"
   ]
  },
  {
   "cell_type": "code",
   "execution_count": null,
   "id": "072bd2b1",
   "metadata": {},
   "outputs": [],
   "source": [
    "# загружаю данные о посещения сайта\n",
    "try:\n",
    "    visits = pd.read_csv(r\"D:\\DOCS\\datasets\\Проект аналитика бизнес показателей/visits_info_short.csv\")\n",
    "except FileNotFoundError:\n",
    "    visits = pd.read_csv('/datasets/visits_info_short.csv')\n",
    "\n",
    "# загружаю информацию о заказах \n",
    "try:\n",
    "    orders = pd.read_csv(r\"D:\\DOCS\\datasets\\Проект аналитика бизнес показателей/orders_info_short.csv\")\n",
    "except FileNotFoundError:\n",
    "    orders = pd.read_csv('/datasets/orders_info_short.csv')\n",
    "\n",
    "# загружаю информацию о расходах на рекламу\n",
    "try:\n",
    "    costs = pd.read_csv(r\"D:\\DOCS\\datasets\\Проект аналитика бизнес показателей/costs_info_short.csv\")\n",
    "except FileNotFoundError:\n",
    "    costs = pd.read_csv('/datasets/costs_info_short.csv')"
   ]
  },
  {
   "cell_type": "code",
   "execution_count": null,
   "id": "23e03843",
   "metadata": {},
   "outputs": [],
   "source": [
    "visits.head(10) # Вывел первые 10 строчек датафрейма visits на экран с целью изучения данных"
   ]
  },
  {
   "cell_type": "code",
   "execution_count": null,
   "id": "cef194f1",
   "metadata": {},
   "outputs": [],
   "source": [
    "visits.info(); #получил основную информацию о датафрейме visits"
   ]
  },
  {
   "cell_type": "code",
   "execution_count": null,
   "id": "4a3c6884",
   "metadata": {},
   "outputs": [],
   "source": [
    "visits.nunique() # получил количество уникальных значений в столбцах датафрейма visits. \n",
    "# данные в столбце user_id могут дублироваться в связи с тем, что пользованиель с уникальным id \n",
    "# может заходить на сайт несколько раз"
   ]
  },
  {
   "cell_type": "code",
   "execution_count": null,
   "id": "796663c2",
   "metadata": {},
   "outputs": [],
   "source": [
    "visits.isna().sum() #получил количество пропусков в каждом столбце"
   ]
  },
  {
   "cell_type": "code",
   "execution_count": null,
   "id": "a35e285c",
   "metadata": {},
   "outputs": [],
   "source": [
    "# выполнил проверку на дубликаты\n",
    "visits.duplicated().sum()"
   ]
  },
  {
   "cell_type": "code",
   "execution_count": null,
   "id": "c5156b1c",
   "metadata": {},
   "outputs": [],
   "source": [
    "orders.head(10) # вывел первые 10 строчек датафрейма orders на экран с целью изучения данных"
   ]
  },
  {
   "cell_type": "code",
   "execution_count": null,
   "id": "d1047c98",
   "metadata": {},
   "outputs": [],
   "source": [
    "orders.info(); # получил основную информацию о датафрейме visits"
   ]
  },
  {
   "cell_type": "code",
   "execution_count": null,
   "id": "b22b9c82",
   "metadata": {},
   "outputs": [],
   "source": [
    "orders.nunique() # получил количество уникальных значений в столбцах датафрейма orders"
   ]
  },
  {
   "cell_type": "code",
   "execution_count": null,
   "id": "b3236fe9",
   "metadata": {},
   "outputs": [],
   "source": [
    "orders.isna().sum() # получил количество пропусков в каждом столбце"
   ]
  },
  {
   "cell_type": "code",
   "execution_count": null,
   "id": "60095deb",
   "metadata": {},
   "outputs": [],
   "source": [
    "# выполнил проверку на дубликаты\n",
    "orders.duplicated().sum()"
   ]
  },
  {
   "cell_type": "code",
   "execution_count": null,
   "id": "3c40d585",
   "metadata": {},
   "outputs": [],
   "source": [
    "costs.head(10) # вывел первые 10 строчек датафрейма costs на экран с целью изучения данных"
   ]
  },
  {
   "cell_type": "code",
   "execution_count": null,
   "id": "fcda75f2",
   "metadata": {},
   "outputs": [],
   "source": [
    "costs.info(); #получил основную информацию о датафрейме costs"
   ]
  },
  {
   "cell_type": "code",
   "execution_count": null,
   "id": "4bf65963",
   "metadata": {},
   "outputs": [],
   "source": [
    "costs.nunique() # получил количество уникальных значений в столбцах датафрейма costs"
   ]
  },
  {
   "cell_type": "code",
   "execution_count": null,
   "id": "8cd83d7b",
   "metadata": {},
   "outputs": [],
   "source": [
    "costs.isna().sum() # получил количество пропусков в каждом столбце"
   ]
  },
  {
   "cell_type": "code",
   "execution_count": null,
   "id": "768b9417",
   "metadata": {},
   "outputs": [],
   "source": [
    "# выполнил проверку на дубликаты\n",
    "costs.duplicated().sum()"
   ]
  },
  {
   "cell_type": "code",
   "execution_count": null,
   "id": "944edbec",
   "metadata": {},
   "outputs": [],
   "source": [
    "visits.columns = visits.columns.str.lower() # привел названия столбцов датафрейма visits  к нижнему регистру"
   ]
  },
  {
   "cell_type": "code",
   "execution_count": null,
   "id": "f7d65b48",
   "metadata": {},
   "outputs": [],
   "source": [
    "# заменил пробелы в названиях столбцов датафрейма visits на нижнее подчеркивание\n",
    "visits = visits.rename(\n",
    "    columns = {'session start' : 'session_start',\n",
    "               'session end' : 'session_end',\n",
    "               'user id' : 'user_id'}\n",
    ")"
   ]
  },
  {
   "cell_type": "code",
   "execution_count": null,
   "id": "58d9e869",
   "metadata": {},
   "outputs": [],
   "source": [
    "# Check\n",
    "visits.head(5)"
   ]
  },
  {
   "cell_type": "code",
   "execution_count": null,
   "id": "c6727ae3",
   "metadata": {},
   "outputs": [],
   "source": [
    "# привел данные в столбцах session_start и session_end датафрейма visits  к типу datetime\n",
    "visits['session_start'] = pd.to_datetime(visits['session_start'])\n",
    "visits['session_end'] = pd.to_datetime(visits['session_end'])"
   ]
  },
  {
   "cell_type": "code",
   "execution_count": null,
   "id": "e423498a",
   "metadata": {},
   "outputs": [],
   "source": [
    "# Check\n",
    "visits.info();"
   ]
  },
  {
   "cell_type": "code",
   "execution_count": null,
   "id": "f979aadf",
   "metadata": {},
   "outputs": [],
   "source": [
    "orders.columns = orders.columns.str.lower() # привел названия столбцов датафрейма orders к нижнему регистру"
   ]
  },
  {
   "cell_type": "code",
   "execution_count": null,
   "id": "ead900ce",
   "metadata": {},
   "outputs": [],
   "source": [
    "# заменил пробелы в названиях столбцов датафрейма orders на нижнее подчеркивание\n",
    "orders = orders.rename(\n",
    "    columns = {'user id' : 'user_id' ,\n",
    "               'event dt' : 'event_dt'}\n",
    ")"
   ]
  },
  {
   "cell_type": "code",
   "execution_count": null,
   "id": "e8bf3278",
   "metadata": {},
   "outputs": [],
   "source": [
    "# Check\n",
    "orders.head(5)"
   ]
  },
  {
   "cell_type": "code",
   "execution_count": null,
   "id": "b016090c",
   "metadata": {},
   "outputs": [],
   "source": [
    "# привел данные в столбце event_dt датафрейма orders к типу datetime\n",
    "orders['event_dt'] = pd.to_datetime(orders['event_dt'])"
   ]
  },
  {
   "cell_type": "code",
   "execution_count": null,
   "id": "f2984ab0",
   "metadata": {},
   "outputs": [],
   "source": [
    "# Check\n",
    "orders.info();"
   ]
  },
  {
   "cell_type": "code",
   "execution_count": null,
   "id": "bcf3b673",
   "metadata": {},
   "outputs": [],
   "source": [
    "costs.columns = costs.columns.str.lower() # привел названия столбцов датафрейма costs к нижнему регистру"
   ]
  },
  {
   "cell_type": "code",
   "execution_count": null,
   "id": "2d0b4a11",
   "metadata": {},
   "outputs": [],
   "source": [
    "# Check\n",
    "costs.head(5)"
   ]
  },
  {
   "cell_type": "code",
   "execution_count": null,
   "id": "54e431ca",
   "metadata": {},
   "outputs": [],
   "source": [
    "# привел данные в столбце dt датафрейма costs к типу datetime\n",
    "costs['dt'] = pd.to_datetime(costs['dt'])"
   ]
  },
  {
   "cell_type": "code",
   "execution_count": null,
   "id": "9c38ebe2",
   "metadata": {},
   "outputs": [],
   "source": [
    "# Check\n",
    "costs.info();"
   ]
  },
  {
   "cell_type": "markdown",
   "id": "cf79ddc7",
   "metadata": {},
   "source": [
    "* В датафрейме visits выполнено приведение названий столбцов к нижнему регистру, переименование столбцов. Столбцы ['session_start'] и ['session_end'] приведены к формату datetime. Пропусков и дубликатов в датафрейме не обнаружено.\n",
    "* В датафрейме orders выполнено приведение названий столбцов к нижнему регистру, переименование столбцов. Столбец ['event_dt'] приведен к формату datetime. Пропусков и дубликатов в датафрейме не обнаружено.\n",
    "* В датафрейме costs выполнено приведение названий столбцов к нижнему регистру. Столбец ['dt'] приведен к формату datetime. Пропусков и дубликатов в датафрейме не обнаружено.\n",
    "#### Данные готовы к анализу"
   ]
  },
  {
   "cell_type": "markdown",
   "id": "86d66160",
   "metadata": {},
   "source": [
    "### Шаг 2.1 Функции для расчёта и анализа LTV, ROI, удержания и конверсии. Получения профилей пользователей"
   ]
  },
  {
   "cell_type": "code",
   "execution_count": null,
   "id": "c9dd9178",
   "metadata": {},
   "outputs": [],
   "source": [
    "# функция для расчета LTV, CAC и ROI\n",
    "def get_ltv(\n",
    "    profiles,\n",
    "    orders,\n",
    "    observation_date,\n",
    "    horizon_days,\n",
    "    dimensions=[],\n",
    "    ignore_horizon=False,\n",
    "):\n",
    "\n",
    "    # исключаем пользователей, не «доживших» до горизонта анализа\n",
    "    last_suitable_acquisition_date = observation_date\n",
    "    if not ignore_horizon:\n",
    "        last_suitable_acquisition_date = observation_date - timedelta(\n",
    "            days=horizon_days - 1\n",
    "        )\n",
    "    result_raw = profiles.query('dt <= @last_suitable_acquisition_date')\n",
    "    # добавляем данные о покупках в профили\n",
    "    result_raw = result_raw.merge(\n",
    "        orders[['user_id', 'event_dt', 'revenue']], on='user_id', how='left'\n",
    "    )\n",
    "    # рассчитываем лайфтайм пользователя для каждой покупки\n",
    "    result_raw['lifetime'] = (\n",
    "        result_raw['event_dt'] - result_raw['first_ts']\n",
    "    ).dt.days\n",
    "    # группируем по cohort, если в dimensions ничего нет\n",
    "    if len(dimensions) == 0:\n",
    "        result_raw['cohort'] = 'All users'\n",
    "        dimensions = dimensions + ['cohort']\n",
    "\n",
    "    # функция группировки по желаемым признакам\n",
    "    def group_by_dimensions(df, dims, horizon_days):\n",
    "        # строим «треугольную» таблицу выручки\n",
    "        result = df.pivot_table(\n",
    "            index=dims, columns='lifetime', values='revenue', aggfunc='sum'\n",
    "        )\n",
    "        # находим сумму выручки с накоплением\n",
    "        result = result.fillna(0).cumsum(axis=1)\n",
    "        # вычисляем размеры когорт\n",
    "        cohort_sizes = (\n",
    "            df.groupby(dims)\n",
    "            .agg({'user_id': 'nunique'})\n",
    "            .rename(columns={'user_id': 'cohort_size'})\n",
    "        )\n",
    "        # объединяем размеры когорт и таблицу выручки\n",
    "        result = cohort_sizes.merge(result, on=dims, how='left').fillna(0)\n",
    "        # считаем LTV: делим каждую «ячейку» в строке на размер когорты\n",
    "        result = result.div(result['cohort_size'], axis=0)\n",
    "        # исключаем все лайфтаймы, превышающие горизонт анализа\n",
    "        result = result[['cohort_size'] + list(range(horizon_days))]\n",
    "        # восстанавливаем размеры когорт\n",
    "        result['cohort_size'] = cohort_sizes\n",
    "\n",
    "        # собираем датафрейм с данными пользователей и значениями CAC, \n",
    "        # добавляя параметры из dimensions\n",
    "        cac = df[['user_id', 'acquisition_cost'] + dims].drop_duplicates()\n",
    "\n",
    "        # считаем средний CAC по параметрам из dimensions\n",
    "        cac = (\n",
    "            cac.groupby(dims)\n",
    "            .agg({'acquisition_cost': 'mean'})\n",
    "            .rename(columns={'acquisition_cost': 'cac'})\n",
    "        )\n",
    "\n",
    "        # считаем ROI: делим LTV на CAC\n",
    "        roi = result.div(cac['cac'], axis=0)\n",
    "\n",
    "        # удаляем строки с бесконечным ROI\n",
    "        roi = roi[~roi['cohort_size'].isin([np.inf])]\n",
    "\n",
    "        # восстанавливаем размеры когорт в таблице ROI\n",
    "        roi['cohort_size'] = cohort_sizes\n",
    "\n",
    "        # добавляем CAC в таблицу ROI\n",
    "        roi['cac'] = cac['cac']\n",
    "\n",
    "        # в финальной таблице оставляем размеры когорт, CAC\n",
    "        # и ROI в лайфтаймы, не превышающие горизонт анализа\n",
    "        roi = roi[['cohort_size', 'cac'] + list(range(horizon_days))]\n",
    "\n",
    "        # возвращаем таблицы LTV и ROI\n",
    "        return result, roi\n",
    "\n",
    "    # получаем таблицы LTV и ROI\n",
    "    result_grouped, roi_grouped = group_by_dimensions(\n",
    "        result_raw, dimensions, horizon_days\n",
    "    )\n",
    "\n",
    "    # для таблиц динамики убираем 'cohort' из dimensions\n",
    "    if 'cohort' in dimensions:\n",
    "        dimensions = []\n",
    "\n",
    "    # получаем таблицы динамики LTV и ROI\n",
    "    result_in_time, roi_in_time = group_by_dimensions(\n",
    "        result_raw, dimensions + ['dt'], horizon_days\n",
    "    )\n",
    "\n",
    "    return (\n",
    "        result_raw,  # сырые данные\n",
    "        result_grouped,  # таблица LTV\n",
    "        result_in_time,  # таблица динамики LTV\n",
    "        roi_grouped,  # таблица ROI\n",
    "        roi_in_time,  # таблица динамики ROI\n",
    "    ) "
   ]
  },
  {
   "cell_type": "code",
   "execution_count": null,
   "id": "75f706b6",
   "metadata": {},
   "outputs": [],
   "source": [
    "# функция для расчета коэффициента удержания (Retention)\n",
    "def get_retention(\n",
    "    profiles,\n",
    "    sessions,\n",
    "    observation_date,\n",
    "    horizon_days,\n",
    "    dimensions=[],\n",
    "    ignore_horizon=False,\n",
    "):\n",
    "\n",
    "    # добавляем столбец payer в передаваемый dimensions список\n",
    "    dimensions = ['payer'] + dimensions\n",
    "\n",
    "    # исключаем пользователей, не «доживших» до горизонта анализа\n",
    "    last_suitable_acquisition_date = observation_date\n",
    "    if not ignore_horizon:\n",
    "        last_suitable_acquisition_date = observation_date - timedelta(\n",
    "            days=horizon_days - 1\n",
    "        )\n",
    "    result_raw = profiles.query('dt <= @last_suitable_acquisition_date')\n",
    "\n",
    "    # собираем «сырые» данные для расчёта удержания\n",
    "    result_raw = result_raw.merge(\n",
    "        sessions[['user_id', 'session_start']], on='user_id', how='left'\n",
    "    )\n",
    "    result_raw['lifetime'] = (\n",
    "        result_raw['session_start'] - result_raw['first_ts']\n",
    "    ).dt.days\n",
    "\n",
    "    # функция для группировки таблицы по желаемым признакам\n",
    "    def group_by_dimensions(df, dims, horizon_days):\n",
    "        result = df.pivot_table(\n",
    "            index=dims, columns='lifetime', values='user_id', aggfunc='nunique'\n",
    "        )\n",
    "        cohort_sizes = (\n",
    "            df.groupby(dims)\n",
    "            .agg({'user_id': 'nunique'})\n",
    "            .rename(columns={'user_id': 'cohort_size'})\n",
    "        )\n",
    "        result = cohort_sizes.merge(result, on=dims, how='left').fillna(0)\n",
    "        result = result.div(result['cohort_size'], axis=0)\n",
    "        result = result[['cohort_size'] + list(range(horizon_days))]\n",
    "        result['cohort_size'] = cohort_sizes\n",
    "        return result\n",
    "\n",
    "    # получаем таблицу удержания\n",
    "    result_grouped = group_by_dimensions(result_raw, dimensions, horizon_days)\n",
    "\n",
    "    # получаем таблицу динамики удержания\n",
    "    result_in_time = group_by_dimensions(\n",
    "        result_raw, dimensions + ['dt'], horizon_days\n",
    "    )\n",
    "\n",
    "    # возвращаем обе таблицы и сырые данные\n",
    "    return result_raw, result_grouped, result_in_time "
   ]
  },
  {
   "cell_type": "code",
   "execution_count": null,
   "id": "d99abd45",
   "metadata": {},
   "outputs": [],
   "source": [
    "# функция для расчета конверсии (Conversion)\n",
    "def get_conversion(profiles, \n",
    "                   orders, \n",
    "                   observation_date, \n",
    "                   harizom_days, \n",
    "                   dimensions = [], \n",
    "                   ignore_horizon = False\n",
    "):\n",
    "    \n",
    "    # исключаем пользователей, не «доживших» до горизонта анализа\n",
    "    last_suitable_acquisition_date = observation_date\n",
    "    if not ignore_horizon:\n",
    "        last_suitable_acquisition_date = observation_date - timedelta(\n",
    "            days=horizon_days - 1\n",
    "        )\n",
    "    result_raw = profiles.query('dt <= @last_suitable_acquisition_date')\n",
    "    \n",
    "    # определяем дату и время первой покупки для каждого пользователя\n",
    "    first_purchases = (\n",
    "        orders.sort_values(by=['user_id', 'event_dt'])\n",
    "        .groupby('user_id')\n",
    "        .agg({'event_dt': 'first'})\n",
    "        .reset_index()\n",
    "    )\n",
    "\n",
    "    # добавляем данные о покупках в профили\n",
    "    result_raw = result_raw.merge(\n",
    "        first_purchases[['user_id', 'event_dt']], on='user_id', how='left'\n",
    "    )\n",
    "\n",
    "    # рассчитываем лайфтайм для каждой покупки\n",
    "    result_raw['lifetime'] = (\n",
    "        result_raw['event_dt'] - result_raw['first_ts']\n",
    "    ).dt.days\n",
    "    \n",
    "    # группируем по cohort, если в dimensions ничего нет\n",
    "    if len(dimensions) == 0:\n",
    "        result_raw['cohort'] = 'All users' \n",
    "        dimensions = dimensions + ['cohort']\n",
    "\n",
    "    # функция для группировки таблицы по желаемым признакам\n",
    "    def group_by_dimensions(df, dims, horizon_days):\n",
    "        result = df.pivot_table(\n",
    "            index=dims, columns='lifetime', values='user_id', aggfunc='nunique'\n",
    "        )\n",
    "        result = result.fillna(0).cumsum(axis = 1)\n",
    "        cohort_sizes = (\n",
    "            df.groupby(dims)\n",
    "            .agg({'user_id': 'nunique'})\n",
    "            .rename(columns={'user_id': 'cohort_size'})\n",
    "        )\n",
    "        result = cohort_sizes.merge(result, on=dims, how='left').fillna(0)\n",
    "        # делим каждую «ячейку» в строке на размер когорты\n",
    "        # и получаем conversion rate\n",
    "        result = result.div(result['cohort_size'], axis=0)\n",
    "        result = result[['cohort_size'] + list(range(horizon_days))]\n",
    "        result['cohort_size'] = cohort_sizes\n",
    "        return result\n",
    "\n",
    "    # получаем таблицу конверсии\n",
    "    result_grouped = group_by_dimensions(result_raw, dimensions, horizon_days)\n",
    "\n",
    "    # для таблицы динамики конверсии убираем 'cohort' из dimensions\n",
    "    if 'cohort' in dimensions: \n",
    "        dimensions = []\n",
    "\n",
    "    # получаем таблицу динамики конверсии\n",
    "    result_in_time = group_by_dimensions(\n",
    "        result_raw, dimensions + ['dt'], horizon_days\n",
    "    )\n",
    "\n",
    "    # возвращаем обе таблицы и сырые данные\n",
    "    return result_raw, result_grouped, result_in_time "
   ]
  },
  {
   "cell_type": "code",
   "execution_count": null,
   "id": "409bb9f0",
   "metadata": {},
   "outputs": [],
   "source": [
    "# функция для создания пользовательских профилей\n",
    "def get_profiles(sessions, orders, ad_costs):\n",
    "\n",
    "    # находим параметры первых посещений\n",
    "    profiles = (\n",
    "        sessions.sort_values(by=['user_id', 'session_start'])\n",
    "        .groupby('user_id')\n",
    "        .agg(\n",
    "            {\n",
    "                'session_start': 'first',\n",
    "                'channel': 'first',\n",
    "                'device': 'first',\n",
    "                'region': 'first',\n",
    "            }\n",
    "        )\n",
    "        .rename(columns={'session_start': 'first_ts'})\n",
    "        .reset_index()\n",
    "    )\n",
    "\n",
    "    # для когортного анализа определяем дату первого посещения\n",
    "    # и первый день месяца, в который это посещение произошло\n",
    "    profiles['dt'] = pd.to_datetime(profiles['first_ts']).dt.date\n",
    "    profiles['dt'] = pd.to_datetime(profiles['dt'], format=\"%Y-%m-%d\")\n",
    "    profiles['month'] = profiles['first_ts'].astype('datetime64[M]')\n",
    "\n",
    "    # добавляем признак платящих пользователей\n",
    "    profiles['payer'] = profiles['user_id'].isin(orders['user_id'].unique())\n",
    "\n",
    "\n",
    "    # считаем количество уникальных пользователей\n",
    "    # с одинаковыми источником и датой привлечения\n",
    "    new_users = (\n",
    "        profiles.groupby(['dt', 'channel'])\n",
    "        .agg({'user_id': 'nunique'})\n",
    "        .rename(columns={'user_id': 'unique_users'})\n",
    "        .reset_index()\n",
    "    )\n",
    "\n",
    "    # объединяем траты на рекламу и число привлечённых пользователей\n",
    "    ad_costs = ad_costs.merge(new_users, on=['dt', 'channel'], how='left')\n",
    "\n",
    "    # делим рекламные расходы на число привлечённых пользователей\n",
    "    # результаты сохраним в столбец acquisition_cost (CAC)\n",
    "    ad_costs['acquisition_cost'] = ad_costs['costs'] / ad_costs['unique_users']\n",
    "\n",
    "    # добавляем стоимость привлечения в профили\n",
    "    profiles = profiles.merge(\n",
    "        ad_costs[['dt', 'channel', 'acquisition_cost']],\n",
    "        on=['dt', 'channel'],\n",
    "        how='left',\n",
    "    )\n",
    "\n",
    "    # стоимость привлечения органических пользователей равна нулю\n",
    "    profiles['acquisition_cost'] = profiles['acquisition_cost'].fillna(0)\n",
    "\n",
    "    return profiles"
   ]
  },
  {
   "cell_type": "markdown",
   "id": "7cf13c56",
   "metadata": {},
   "source": [
    "### Шаг 2.2 Функции для расчёта сглаживания графиков. Визуализации LTV, CAC и ROI, конверсии и удержания пользователей."
   ]
  },
  {
   "cell_type": "code",
   "execution_count": null,
   "id": "606da5ab",
   "metadata": {},
   "outputs": [],
   "source": [
    "# функция для сглаживания графиков\n",
    "def filter_data(df, window):\n",
    "    # для каждого столбца применяем скользящее среднее\n",
    "    for column in df.columns.values:\n",
    "        df[column] = df[column].rolling(window).mean() \n",
    "    return df "
   ]
  },
  {
   "cell_type": "code",
   "execution_count": null,
   "id": "4408b119",
   "metadata": {},
   "outputs": [],
   "source": [
    "# функция для визуализации LTV, CAC и ROI\n",
    "def plot_ltv_roi(ltv, ltv_history, roi, roi_history, horizon, window=7):\n",
    "\n",
    "    # задаём сетку отрисовки графиков\n",
    "    plt.figure(figsize=(15, 25))\n",
    "\n",
    "    # из таблицы ltv исключаем размеры когорт\n",
    "    ltv = ltv.drop(columns=['cohort_size'])\n",
    "    # в таблице динамики ltv оставляем только нужный лайфтайм\n",
    "    ltv_history = ltv_history.drop(columns=['cohort_size'])[[horizon - 1]]\n",
    "\n",
    "    # стоимость привлечения запишем в отдельный фрейм\n",
    "    cac_history = roi_history[['cac']]\n",
    "\n",
    "    # из таблицы roi исключаем размеры когорт и cac\n",
    "    roi = roi.drop(columns=['cohort_size', 'cac'])\n",
    "    # в таблице динамики roi оставляем только нужный лайфтайм\n",
    "    roi_history = roi_history.drop(columns=['cohort_size', 'cac'])[\n",
    "        [horizon - 1]\n",
    "    ]\n",
    "\n",
    "    # первый график — кривые ltv\n",
    "    ax1 = plt.subplot(5, 1, 1)\n",
    "    ltv.T.plot(grid=True, ax=ax1)\n",
    "    plt.legend()\n",
    "    plt.xlabel('Лайфтайм')\n",
    "    plt.title('LTV')\n",
    "\n",
    "    # второй график — динамика ltv\n",
    "    ax2 = plt.subplot(5, 1, 2, sharey=ax1)\n",
    "    # столбцами сводной таблицы станут все столбцы индекса, кроме даты\n",
    "    columns = [name for name in ltv_history.index.names if name not in ['dt']]\n",
    "    filtered_data = ltv_history.pivot_table(\n",
    "        index='dt', columns=columns, values=horizon - 1, aggfunc='mean'\n",
    "    )\n",
    "    filter_data(filtered_data, window).plot(grid=True, ax=ax2)\n",
    "    plt.xlabel('Дата привлечения')\n",
    "    plt.title('Динамика LTV пользователей на {}-й день'.format(horizon))\n",
    "\n",
    "    # третий график — динамика cac\n",
    "    ax3 = plt.subplot(5, 1, 3, sharey=ax1)\n",
    "    # столбцами сводной таблицы станут все столбцы индекса, кроме даты\n",
    "    columns = [name for name in cac_history.index.names if name not in ['dt']]\n",
    "    filtered_data = cac_history.pivot_table(\n",
    "        index='dt', columns=columns, values='cac', aggfunc='mean'\n",
    "    )\n",
    "    filter_data(filtered_data, window).plot(grid=True, ax=ax3)\n",
    "    plt.xlabel('Дата привлечения')\n",
    "    plt.title('Динамика стоимости привлечения пользователей')\n",
    "\n",
    "    # четвёртый график — кривые roi\n",
    "    ax4 = plt.subplot(5, 1, 4)\n",
    "    roi.T.plot(grid=True, ax=ax4)\n",
    "    plt.axhline(y=1, color='red', linestyle='--', label='Уровень окупаемости')\n",
    "    plt.legend()\n",
    "    plt.xlabel('Лайфтайм')\n",
    "    plt.title('ROI')\n",
    "\n",
    "    # пятый график — динамика roi\n",
    "    ax5 = plt.subplot(5, 1, 5, sharey=ax4)\n",
    "    # столбцами сводной таблицы станут все столбцы индекса, кроме даты\n",
    "    columns = [name for name in roi_history.index.names if name not in ['dt']]\n",
    "    filtered_data = roi_history.pivot_table(\n",
    "        index='dt', columns=columns, values=horizon - 1, aggfunc='mean'\n",
    "    )\n",
    "    filter_data(filtered_data, window).plot(grid=True, ax=ax5)\n",
    "    plt.axhline(y=1, color='red', linestyle='--', label='Уровень окупаемости')\n",
    "    plt.xlabel('Дата привлечения')\n",
    "    plt.title('Динамика ROI пользователей на {}-й день'.format(horizon))\n",
    "\n",
    "    plt.tight_layout()\n",
    "    plt.show() "
   ]
  },
  {
   "cell_type": "code",
   "execution_count": null,
   "id": "84a9a495",
   "metadata": {},
   "outputs": [],
   "source": [
    "# функция для визуализации конверсии\n",
    "def plot_conversion(conversion, conversion_history, horizon, window=7, dimensions=[]):\n",
    "\n",
    "    # задаём размер сетки для графиков\n",
    "    plt.figure(figsize=(15, 10))\n",
    "\n",
    "    # исключаем размеры когорт\n",
    "    conversion = conversion.drop(columns=['cohort_size'])\n",
    "    # в таблице динамики оставляем только нужный лайфтайм\n",
    "    conversion_history = conversion_history.drop(columns=['cohort_size'])[\n",
    "        [horizon - 1]\n",
    "    ]\n",
    "\n",
    "    # первый график — кривые конверсии\n",
    "    ax1 = plt.subplot(2, 1, 1)\n",
    "    conversion.T.plot(grid=True, ax=ax1)\n",
    "    plt.legend()\n",
    "    plt.xlabel('Лайфтайм')\n",
    "    plt.title('Конверсия пользователей')\n",
    "\n",
    "    # второй график — динамика конверсии\n",
    "    ax2 = plt.subplot(2, 1, 2, sharey=ax1)\n",
    "    columns = [\n",
    "        # столбцами сводной таблицы станут все столбцы индекса, кроме даты\n",
    "        name for name in conversion_history.index.names if name not in ['dt']\n",
    "    ]\n",
    "    filtered_data = conversion_history.pivot_table(\n",
    "        index='dt', columns=columns, values=horizon - 1, aggfunc='mean'\n",
    "    )\n",
    "    filter_data(filtered_data, window).plot(grid=True, ax=ax2)\n",
    "    plt.xlabel('Дата привлечения')\n",
    "    plt.title('Динамика конверсии пользователей на {}-й день'.format(horizon))\n",
    "\n",
    "    plt.tight_layout()\n",
    "    plt.show() "
   ]
  },
  {
   "cell_type": "code",
   "execution_count": null,
   "id": "68ae1f7d",
   "metadata": {},
   "outputs": [],
   "source": [
    "# функция для визуализации удержания\n",
    "def plot_retention(retention, retention_history, horizon, window=7):\n",
    "\n",
    "    # задаём размер сетки для графиков\n",
    "    plt.figure(figsize=(15, 25))\n",
    "\n",
    "    # исключаем размеры когорт и удержание первого дня\n",
    "    retention = retention.drop(columns=['cohort_size', 0])\n",
    "    # в таблице динамики оставляем только нужный лайфтайм\n",
    "    retention_history = retention_history.drop(columns=['cohort_size'])[\n",
    "        [horizon - 1]\n",
    "    ]\n",
    "\n",
    "    # если в индексах таблицы удержания только payer,\n",
    "    # добавляем второй признак — cohort\n",
    "    if retention.index.nlevels == 1:\n",
    "        retention['cohort'] = 'All users'\n",
    "        retention = retention.reset_index().set_index(['cohort', 'payer'])\n",
    "\n",
    "    # в таблице графиков — два столбца и две строки, четыре ячейки\n",
    "    # в первой строим кривые удержания платящих пользователей\n",
    "    ax1 = plt.subplot(4, 1, 1)\n",
    "    retention.query('payer == True').droplevel('payer').T.plot(\n",
    "        grid=True, ax=ax1\n",
    "    )\n",
    "    plt.legend()\n",
    "    plt.xlabel('Лайфтайм')\n",
    "    plt.title('Удержание платящих пользователей')\n",
    "\n",
    "    # во второй ячейке строим кривые удержания неплатящих\n",
    "    # вертикальная ось — от графика из первой ячейки\n",
    "    ax2 = plt.subplot(4, 1, 2, sharey=ax1)\n",
    "    retention.query('payer == False').droplevel('payer').T.plot(\n",
    "        grid=True, ax=ax2\n",
    "    )\n",
    "    plt.legend()\n",
    "    plt.xlabel('Лайфтайм')\n",
    "    plt.title('Удержание неплатящих пользователей')\n",
    "\n",
    "    # в третьей ячейке — динамика удержания платящих\n",
    "    ax3 = plt.subplot(4, 1, 3)\n",
    "    # получаем названия столбцов для сводной таблицы\n",
    "    columns = [\n",
    "        name\n",
    "        for name in retention_history.index.names\n",
    "        if name not in ['dt', 'payer']\n",
    "    ]\n",
    "    # фильтруем данные и строим график\n",
    "    filtered_data = retention_history.query('payer == True').pivot_table(\n",
    "        index='dt', columns=columns, values=horizon - 1, aggfunc='mean'\n",
    "    )\n",
    "    filter_data(filtered_data, window).plot(grid=True, ax=ax3)\n",
    "    plt.xlabel('Дата привлечения')\n",
    "    plt.title(\n",
    "        'Динамика удержания платящих пользователей'.format(\n",
    "            horizon\n",
    "        )\n",
    "    )\n",
    "\n",
    "    # в чётвертой ячейке — динамика удержания неплатящих\n",
    "    ax4 = plt.subplot(4, 1, 4, sharey=ax3)\n",
    "    # фильтруем данные и строим график\n",
    "    filtered_data = retention_history.query('payer == False').pivot_table(\n",
    "        index='dt', columns=columns, values=horizon - 1, aggfunc='mean'\n",
    "    )\n",
    "    filter_data(filtered_data, window).plot(grid=True, ax=ax4)\n",
    "    plt.xlabel('Дата привлечения')\n",
    "    plt.title(\n",
    "        'Динамика удержания неплатящих пользователей'.format(\n",
    "            horizon\n",
    "        )\n",
    "    )\n",
    "    \n",
    "    plt.tight_layout()\n",
    "    plt.show() "
   ]
  },
  {
   "cell_type": "markdown",
   "id": "203859c4",
   "metadata": {},
   "source": [
    "### Шаг 3. Исследовательский анализ данных"
   ]
  },
  {
   "cell_type": "code",
   "execution_count": null,
   "id": "701873c1",
   "metadata": {},
   "outputs": [],
   "source": [
    "# составляю профили пользователей\n",
    "profiles = get_profiles(visits, orders, costs)"
   ]
  },
  {
   "cell_type": "code",
   "execution_count": null,
   "id": "c9c1309c",
   "metadata": {},
   "outputs": [],
   "source": [
    "# в столбце dt хранится дата первого посещения пользователя\n",
    "profiles.head()"
   ]
  },
  {
   "cell_type": "code",
   "execution_count": null,
   "id": "7acf5a07",
   "metadata": {},
   "outputs": [],
   "source": [
    "# находим минимальную и максимальную дату привлечения пользователей, \n",
    "# она будет соответствовать минимальному и максимальному значению в столбце dt\n",
    "profiles['dt'].agg(['min','max'])"
   ]
  },
  {
   "cell_type": "markdown",
   "id": "7c852405",
   "metadata": {},
   "source": [
    "#### Минимальная дата привлечения пользователей 01.05.2019 максимальная 27.10.2019"
   ]
  },
  {
   "cell_type": "code",
   "execution_count": null,
   "id": "fd58c776",
   "metadata": {},
   "outputs": [],
   "source": [
    "# добавляем в датафрейм profiles столбец payer, который отражает про True- пользоаватель является платящим, при False - нет\n",
    "profiles['payer'] =  profiles['user_id'].isin(orders['user_id'].unique())"
   ]
  },
  {
   "cell_type": "code",
   "execution_count": null,
   "id": "62ff0377",
   "metadata": {},
   "outputs": [],
   "source": [
    "profiles.head()"
   ]
  },
  {
   "cell_type": "code",
   "execution_count": null,
   "id": "3dc86dfd",
   "metadata": {},
   "outputs": [],
   "source": [
    "# создаем новый датафрейм\n",
    "users = pd.DataFrame()\n",
    "# в столбце count_of_user сгруппировал количестово пользователей по регионам\n",
    "users['count_of_user'] = profiles.groupby('region')['user_id'].count()\n",
    "# в столбце count _of_payer сделал сорез платящих пользоватлей из датафрейма profiles и сгруппировал их число по регионам\n",
    "users['count_of_payer'] = profiles.query('payer == True').groupby('region')['user_id'].count()\n",
    "# в столбце procent_of_payer получил процент платящих полтьзователей от общего числа пользователей\n",
    "users['procent_of_payer'] = (users['count_of_payer'] / users['count_of_user'])\n",
    "# отсортировал полученную таблицу по проценту платящих пользователей от большего к меньшему\n",
    "users.sort_values(by='procent_of_payer', ascending=False).style.format({'procent_of_payer':'{:.2%}'})"
   ]
  },
  {
   "cell_type": "markdown",
   "id": "adf50b0c",
   "metadata": {},
   "source": [
    "#### Наибольшее количество пользователей в США, также среди них самое большое количество и процент платящих пользователей. Наименьшее количество пользователей в Германии, но среди исследованых регионов процент платящих в Германии находится на втором месте после США."
   ]
  },
  {
   "cell_type": "code",
   "execution_count": null,
   "id": "158333a5",
   "metadata": {},
   "outputs": [],
   "source": [
    "# создаю новый датафрейм в котором будет храниться группировка мользователей по платформам\n",
    "platform = pd.DataFrame()\n",
    "# группирую пользователей по платформам\n",
    "platform['count_of_user'] = profiles.groupby('device')['user_id'].count()\n",
    "# создаю срез датафреймва profiles  в котором сохраняются только платящие пользователи\n",
    "platform['count_of_payer'] = profiles.query('payer == True').groupby('device')['user_id'].count()\n",
    "# создаю столбец procent_of_payer который отражает процент платящих пользователей от всех пользователей\n",
    "platform['procent_of_payer'] = (platform['count_of_payer'] / platform['count_of_user'])\n",
    "# сортирую датафрейм platform по проценту платящих пользователей по убыванию\n",
    "platform.sort_values(by='procent_of_payer', ascending=False).style.format({'procent_of_payer':'{:.2%}'})"
   ]
  },
  {
   "cell_type": "markdown",
   "id": "d41dc6bb",
   "metadata": {},
   "source": [
    "#### Наибольшее число пользователей на платформе iPhone, однако, по проценту платящих эта платформа на втором месте. Наименьшее число пользователей на платформе Mac, однако, процент платящих среди них наивысший. В целом число пользователей, пользующихся экосистемой apple - больше в сравнении с числом пользователей, пользующихся Android и PC, и процент платящих пользователей среди них также более высокий."
   ]
  },
  {
   "cell_type": "code",
   "execution_count": null,
   "id": "960b7910",
   "metadata": {},
   "outputs": [],
   "source": [
    "# создаю новый датафрейм channel в котором будет храниться число пользователей, \n",
    "# пришедших в продукт с разных рекламных платформ\n",
    "channel = pd.DataFrame()\n",
    "# группируем общее число пришедших пользователей в разбивке на платформы\n",
    "channel['count_of_user'] = profiles.groupby('channel')['user_id'].count()\n",
    "# делаю срез датафрейма profiles, чтобы в нем остались только платящие пользователи\n",
    "channel['count_of_payer'] = profiles.query('payer == True').groupby('channel')['user_id'].count()\n",
    "# выявляю процент платящих пользователей от общего числа пользователей, пришедших с разных платформ\n",
    "channel['procent_of_payer'] = (channel['count_of_payer'] / channel['count_of_user'])\n",
    "# сортирую датафрейм chfnnel по проценту платящих пользователей, в разбивке по рекламным платформам \n",
    "channel.sort_values(by='procent_of_payer', ascending=False).style.format({'procent_of_payer':'{:.2%}'})"
   ]
  },
  {
   "cell_type": "markdown",
   "id": "7abf33f3",
   "metadata": {},
   "source": [
    "#### Больше всего пользователей пришли в продукт с платформы FaceBoom, среди них также наблюдается самый высокий процент платящих пользователей"
   ]
  },
  {
   "cell_type": "markdown",
   "id": "7292a0e8",
   "metadata": {},
   "source": [
    "### Шаг 4. Маркетинг"
   ]
  },
  {
   "cell_type": "code",
   "execution_count": null,
   "id": "fb9afd09",
   "metadata": {},
   "outputs": [],
   "source": [
    "# определяю сумму трат на рекламу\n",
    "print('Общая сумма трат на рекламу составила:', costs['costs'].sum())"
   ]
  },
  {
   "cell_type": "code",
   "execution_count": null,
   "id": "91883876",
   "metadata": {},
   "outputs": [],
   "source": [
    "# создаю датафрейм advertising_costs в котором будут храниться траты на рекламу в разбивке по источникам, \n",
    "# а также какой процент от трат на рекламу составил каждый источник\n",
    "advertising_costs = pd.DataFrame()\n",
    "# группирую сумму трат на рекламу в разбивке по рекламным платформам\n",
    "advertising_costs['cost'] = costs.groupby('channel')['costs'].sum()\n",
    "# определяю какой процент от суммы трат на рекламу составляет каждая платформа\n",
    "advertising_costs['percent'] = (advertising_costs['cost'] / costs['costs'].sum()) * 100\n",
    "advertising_costs.sort_values(by='cost', ascending=False)"
   ]
  },
  {
   "cell_type": "markdown",
   "id": "bcc07dbf",
   "metadata": {},
   "source": [
    "#### Наибольшие траты на рекламу наблюдаются на платформах TipTop и FaceBoom. Процент трат на эти платформы составляет 82-83% от суммы трат на рекламу."
   ]
  },
  {
   "cell_type": "code",
   "execution_count": null,
   "id": "af9be4c4",
   "metadata": {},
   "outputs": [],
   "source": [
    "#создаем сводную таблицу, где столбцы со значениями недели и рекламной платформы являются теми, по которому группируем данные, \n",
    "# а столбец стоимости рекламы, является тем, по которому мы хотим получить группировку\n",
    "costs_pt = costs.pivot_table(\n",
    "    index=costs['dt'].dt.isocalendar().week, \n",
    "    columns='channel', \n",
    "    values = 'costs',\n",
    "    aggfunc = 'sum')\n",
    "#создаем сводную таблицу, где столбцы со значениями месяца и рекламной платформы являются теми, по которому группируем данные, \n",
    "# а столбец стоимости рекламы, является тем, по которому мы хотим получить группировку\n",
    "costs_pt_1 = costs.pivot_table(\n",
    "    index= costs['dt'].dt.month,\n",
    "    columns='channel',\n",
    "    values = 'costs',\n",
    "    aggfunc = 'sum')\n",
    "\n",
    "# первый график отражает динамику еженедельных затрат на рекламу в разбивке по каналам\n",
    "plt.figure(figsize=(15, 10))\n",
    "ax1 = plt.subplot(2, 1, 1)\n",
    "costs_pt.plot(grid=True, ax=ax1)\n",
    "plt.title('Динамика еженедельных затрат на рекламу в разбивке по каналам ')\n",
    "plt.ylabel('Сумма')\n",
    "plt.xlabel('Неделя')\n",
    "\n",
    "# второй график отражает динамику ежемесячных затрат на рекламу в разбивке по каналам\n",
    "ax2 = plt.subplot(2, 1, 2, sharey=ax1)\n",
    "costs_pt_1.plot(grid=True, ax=ax2)\n",
    "plt.title('Динамика ежемесячных затрат на рекламу в разбивке по каналам')\n",
    "plt.ylabel('Сумма')\n",
    "plt.xlabel('Месяц')\n",
    "  \n",
    "plt.tight_layout()\n",
    "plt.show() "
   ]
  },
  {
   "cell_type": "markdown",
   "id": "d33a7b6b",
   "metadata": {},
   "source": [
    "#### Результаты подтверждают полученные ранее. Наибольшие расходы на рекламу приходятся на платформы TipTop и FaceBoom, и с течением времени они продолжали расти."
   ]
  },
  {
   "cell_type": "code",
   "execution_count": null,
   "id": "c5c727d7",
   "metadata": {},
   "outputs": [],
   "source": [
    "# создаю датафрейм attracted_users в котором будут храниться число привлеченных пользователей, платящих пользователей, \n",
    "# процента платящих пользователей, стоимости рекламы и стоимости привлечения одного пользователя в разбивке по рекламным платформам\n",
    "attracted_users = pd.DataFrame()\n",
    "# число пользователей в разбивке по рекламным платформам\n",
    "attracted_users['count_of_users'] = profiles.query('channel != \"organic\"').groupby('channel')['user_id'].count()\n",
    "# число платящих пользователей в разбивке по реклмным платформам\n",
    "attracted_users['count_of_payer'] = profiles.query('payer == True and channel != \"organic\"').groupby('channel')['user_id'].count()\n",
    "# процент платящих пользователей от общеко числа пользователей\n",
    "attracted_users['procent_of_payer'] = (attracted_users['count_of_payer'] / attracted_users['count_of_users']) * 100\n",
    "# затраты на рекламу\n",
    "attracted_users['advertising_costs'] = costs.groupby('channel')['costs'].sum()\n",
    "# стоимость привлечения одного пользователя\n",
    "attracted_users['price_per_one_user'] = attracted_users['advertising_costs'] / attracted_users['count_of_users']\n",
    "attracted_users.sort_values(by='price_per_one_user', ascending=False)"
   ]
  },
  {
   "cell_type": "code",
   "execution_count": null,
   "id": "4beb7a2a",
   "metadata": {},
   "outputs": [],
   "source": [
    "print('Затраты на привлечение одного пользователя в среднем равны :', attracted_users['advertising_costs'].sum() /\n",
    "      attracted_users['count_of_users'].sum())"
   ]
  },
  {
   "cell_type": "markdown",
   "id": "9a3cadd5",
   "metadata": {},
   "source": [
    "#### Согласно полученным данным, самые большие затраты приходятся на рекламную платформу TipTop, однако она не демонстрирует большое количество привлеченных пользователей, а также не самую лучшую конверсию привлеченных пользователей в платящих. Платформа FaceBoom показывает лучшее число привлечений новых пользователей в сравнении с TipTop, а также лучшую конверсию прользователей, при более чем вдвое низких затратах на привлечение одного пользователя. Стоит обратить внимание на платформы lambdaMediaAds, WahooNetBanner, RocketSuperAds они при значительно более низкой стоимости привлечения одного пользователя показывают от 5 до 10 процентов  конверсии привлеченных пользователей в платящих."
   ]
  },
  {
   "cell_type": "markdown",
   "id": "2ceb23e7",
   "metadata": {},
   "source": [
    "### Шаг 5. Оценка окупаемости рекламы"
   ]
  },
  {
   "cell_type": "code",
   "execution_count": null,
   "id": "ed03a3d1",
   "metadata": {},
   "outputs": [],
   "source": [
    "# Задаю момент и горизонт анализа\n",
    "observation_date = datetime(2019, 11, 1).date()  # момент анализа \n",
    "horizon_days = 14  # горизонт анализа "
   ]
  },
  {
   "cell_type": "code",
   "execution_count": null,
   "id": "e638421a",
   "metadata": {},
   "outputs": [],
   "source": [
    "# считаю LTV, CAC и ROI всех пользователей\n",
    "ltv_raw, ltv_grouped, ltv_history, roi_grouped, roi_history = get_ltv(\n",
    "    profiles[profiles['channel'] != 'organic'], orders, observation_date, horizon_days\n",
    ")\n",
    "\n",
    "# строю графики\n",
    "plot_ltv_roi(ltv_grouped, ltv_history, roi_grouped, roi_history, horizon_days) "
   ]
  },
  {
   "cell_type": "markdown",
   "id": "dda4f32a",
   "metadata": {},
   "source": [
    "#### Сгогласно полученным данным:\n",
    "* LTV с течением времени не поменялся в значительной степени\n",
    "* Cтоимость привлечения новых пользователей неуклонно растет.\n",
    "* Показатель ROI не вышел на уровень окупаемости рекламных компаний.\n",
    "* Динамика ROI в течением времени ухудшается. Привлечение новых пользователей перестает окупаться в мае."
   ]
  },
  {
   "cell_type": "code",
   "execution_count": null,
   "id": "74b1d503",
   "metadata": {},
   "outputs": [],
   "source": [
    "# считаю конверсию всех пользователей\n",
    "conversion_raw, conversion_grouped, conversion_history = get_conversion(\n",
    "    profiles[profiles['channel'] != 'organic'], orders, observation_date, horizon_days\n",
    ")\n",
    "\n",
    "# строю графики\n",
    "plot_conversion(conversion_grouped, conversion_history, horizon_days) "
   ]
  },
  {
   "cell_type": "markdown",
   "id": "5c39803c",
   "metadata": {},
   "source": [
    "#### Общий уровень конверсии пользователей перестал существенно расти в июне."
   ]
  },
  {
   "cell_type": "code",
   "execution_count": null,
   "id": "996b621d",
   "metadata": {},
   "outputs": [],
   "source": [
    "# расчитываю удержание с учётом совершения покупки\n",
    "retention_raw, retention_grouped, retention_history  = get_retention(\n",
    "    profiles[profiles['channel'] != 'organic'], visits, observation_date, horizon_days, dimensions=[]\n",
    ")  \n",
    "\n",
    "# стрю график\n",
    "report = retention_grouped.drop(columns=['cohort_size', 0])\n",
    "report.T.plot(grid=True, xticks=list(report.columns.values), figsize=(15, 5))\n",
    "plt.xlabel('Лайфтайм')\n",
    "plt.title('Кривые удержания с разбивкой по совершению покупок')\n",
    "plt.show()"
   ]
  },
  {
   "cell_type": "markdown",
   "id": "0c448180",
   "metadata": {},
   "source": [
    "#### Удержание платящих пользователей находится на более высоком уровне."
   ]
  },
  {
   "cell_type": "code",
   "execution_count": null,
   "id": "8b092134",
   "metadata": {},
   "outputs": [],
   "source": [
    "# рассчитываю LTV, CAC, ROI в разбивке по платформам\n",
    "ltv_raw, ltv_grouped, ltv_history, roi_grouped, roi_history  = get_ltv(\n",
    "    profiles[profiles['channel'] != 'organic'], orders, observation_date, horizon_days, dimensions=['device']\n",
    ")\n",
    "\n",
    "# строю графики\n",
    "plot_ltv_roi(ltv_grouped, ltv_history, roi_grouped, roi_history, horizon_days) "
   ]
  },
  {
   "cell_type": "markdown",
   "id": "670e5fa6",
   "metadata": {},
   "source": [
    "#### LTV  пользователей PC несколько ниже, в сравнении с другими платформами. Пользователей PC отличает самая низкая стоимость привлечения. Привлечение пользователей PC окупилось в сентябре\n",
    "#### LTV  пользователей Android незначительно ниже пользователей Mac и iPhone, однако выше,чем у пользователей PC. Стоимость привлечения новых пользователей Android также ниже, чем для пользователей Mac и iPhone, однако выше, чем на PC. Привлечение пользователей Android не окупилось.\n",
    "#### LTV  пользователей Mac и iPhone значительно не отличаются друг от друга, и превосходят все остальные платформы. Однако также их отличает самая высокая стоимость привлечения новых пользователей. Рекламные компании на данных платформах также не окупились."
   ]
  },
  {
   "cell_type": "code",
   "execution_count": null,
   "id": "ad69c735",
   "metadata": {},
   "outputs": [],
   "source": [
    "# расчитываю конверсию в разбивке по платформам\n",
    "conversion_raw, conversion_grouped, conversion_history = get_conversion(\n",
    "    profiles[profiles['channel'] != 'organic'], orders, observation_date, horizon_days, dimensions = ['device']\n",
    ")\n",
    "\n",
    "# строю графики\n",
    "plot_conversion(conversion_grouped, conversion_history, horizon_days) "
   ]
  },
  {
   "cell_type": "markdown",
   "id": "3449652f",
   "metadata": {},
   "source": [
    "#### По платформам конверсия распределена так: самый высокий показатель у пользователей Mac. На втором месте по показателю консерсии пользователи iPhone. На третьем месте пользователь Android. Конверсия пользователей PC имеет самый низкий показатель в сравнении с остальными платформами."
   ]
  },
  {
   "cell_type": "code",
   "execution_count": null,
   "id": "66e92efb",
   "metadata": {},
   "outputs": [],
   "source": [
    "# расчитываю удержание в разбивке по платформам\n",
    "retention_raw, retention_grouped, retention_history = get_retention(\n",
    "    profiles[profiles['channel'] != 'organic'], visits, observation_date, horizon_days, dimensions=['device']\n",
    ")\n",
    "\n",
    "# строю графики\n",
    "plot_retention(retention_grouped, retention_history, horizon_days) "
   ]
  },
  {
   "cell_type": "markdown",
   "id": "c3243b1b",
   "metadata": {},
   "source": [
    "#### Удержание платящих пользователей в разбивке по платформам распределилось следующим образом: наиболее сильное удержание демонстрируют пользователи PC. До августа на втором месте по удержанию находились пользователи Android, за ними пользователи iPhone, самое низкое удержание демонстрировали пользователи Mac. Однако с августа и в последующем пользователи Android, iPhone и Mac начали демонстрировать одинаковый уровень удержания."
   ]
  },
  {
   "cell_type": "code",
   "execution_count": null,
   "id": "881d6862",
   "metadata": {},
   "outputs": [],
   "source": [
    "# расчитываю LTV, CAC и ROI с разбивкой по регионам\n",
    "ltv_raw, ltv_grouped, ltv_history, roi_grouped, roi_history  = get_ltv(\n",
    "    profiles[profiles['channel'] != 'organic'], orders, observation_date, horizon_days, dimensions=['region']\n",
    ")\n",
    "\n",
    "# строю графики\n",
    "plot_ltv_roi(ltv_grouped, ltv_history, roi_grouped, roi_history, horizon_days) "
   ]
  },
  {
   "cell_type": "markdown",
   "id": "affebdbd",
   "metadata": {},
   "source": [
    "#### Лучший показатель LTV демонстрируют пользователи из США. На втором месте по показателям LTV пользователи Великобритании, на тетьем пользователи Германии, на четвертом - Франции.\n",
    "#### Самый высокий показатель стоимости привлечения новый пользователей наблюдается в США. В течением времени с мая по октябрь данный показатель вырос в три раза. Показатели стоимости привлечения новых пользователей в Германии, Великобритании и Франции находятся на одинаково низком уровне в стравнении с данным показателем для пользователей США и с течением времени практически не изменяются.\n",
    "#### Рекламные компании для пользователей США не окупились. Для пользователей Германии, Великобритании и Франции окупились уже в июне."
   ]
  },
  {
   "cell_type": "code",
   "execution_count": null,
   "id": "7839b126",
   "metadata": {},
   "outputs": [],
   "source": [
    "# Делаю срез привлеченных пользователей из США\n",
    "profiles_usa = profiles.query('channel != \"organic\" and region == \"United States\"')"
   ]
  },
  {
   "cell_type": "code",
   "execution_count": null,
   "id": "9abdc458",
   "metadata": {},
   "outputs": [],
   "source": [
    "# расчитываю LTV, CAC и ROI с разбивкой по каналам привлечения пользователей США\n",
    "ltv_raw, ltv_grouped, ltv_history, roi_grouped, roi_history  = get_ltv(\n",
    "    profiles_usa, orders, observation_date, horizon_days, dimensions=['channel']\n",
    ")\n",
    "\n",
    "# строю графики\n",
    "plot_ltv_roi(ltv_grouped, ltv_history, roi_grouped, roi_history, horizon_days) "
   ]
  },
  {
   "cell_type": "markdown",
   "id": "02be698d",
   "metadata": {},
   "source": [
    "#### Самыми затратными каналами с точки зрения привлечения новых пользователей являются каналы TipTop и Face Boom. Затраты на оба этих канала не окупились."
   ]
  },
  {
   "cell_type": "code",
   "execution_count": null,
   "id": "cba453b7",
   "metadata": {},
   "outputs": [],
   "source": [
    "# считаю конверсию в разбивке по регионам\n",
    "conversion_raw, conversion_grouped, conversion_history = get_conversion(\n",
    "    profiles[profiles['channel'] != 'organic'], orders, observation_date, horizon_days, dimensions = ['region']\n",
    ")\n",
    "\n",
    "# строю графики\n",
    "plot_conversion(conversion_grouped, conversion_history, horizon_days) "
   ]
  },
  {
   "cell_type": "markdown",
   "id": "ee670ec0",
   "metadata": {},
   "source": [
    "#### Наилучший показатель конверсии наблюдается у пользователей США. В других регионах данный показатель не отличается."
   ]
  },
  {
   "cell_type": "code",
   "execution_count": null,
   "id": "24deb1d7",
   "metadata": {},
   "outputs": [],
   "source": [
    "# считаю удержание в разбивке по регионам\n",
    "retention_raw, retention_grouped, retention_history = get_retention(\n",
    "    profiles[profiles['channel'] != 'organic'], visits, observation_date, horizon_days, dimensions=['region']\n",
    ")\n",
    "\n",
    "# строю графики\n",
    "plot_retention(retention_grouped, retention_history, horizon_days) "
   ]
  },
  {
   "cell_type": "markdown",
   "id": "7cad08a7",
   "metadata": {},
   "source": [
    "#### Германия, Великобритания и Франция имеют схожие показатели удержания. Самый низкий показатель удержания демонстрируют пользователи из США."
   ]
  },
  {
   "cell_type": "code",
   "execution_count": null,
   "id": "c273e048",
   "metadata": {},
   "outputs": [],
   "source": [
    "# расчитываю LTV, CAC и ROI с разбивкой по каналам привлечения\n",
    "ltv_raw, ltv_grouped, ltv_history, roi_grouped, roi_history  = get_ltv(\n",
    "    profiles[profiles['channel'] != 'organic'], orders, observation_date, horizon_days, dimensions=['channel']\n",
    ")\n",
    "\n",
    "# строим графики\n",
    "plot_ltv_roi(ltv_grouped, ltv_history, roi_grouped, roi_history, horizon_days) "
   ]
  },
  {
   "cell_type": "markdown",
   "id": "42812f1b",
   "metadata": {},
   "source": [
    "#### Наилучшие показатели LTV демонстрируют рекламные платформы lambdaMediaAds, TipTop.\n",
    "#### Самая высокая стоимость привлечения новых пользователей наблюдается для рекламной платформы TipTop.\n",
    "#### Затраты на рекламные компании не окупились на рекламных платформах AdNonSense, FaceBoom, Tiptop."
   ]
  },
  {
   "cell_type": "code",
   "execution_count": null,
   "id": "f7820306",
   "metadata": {},
   "outputs": [],
   "source": [
    "# расчитываю конверсию с разбивкой по каналам привлечения\n",
    "conversion_raw, conversion_grouped, conversion_history = get_conversion(\n",
    "    profiles[profiles['channel'] != 'organic'], orders, observation_date, horizon_days, dimensions = ['channel']\n",
    ")\n",
    "\n",
    "# Строю графики\n",
    "plot_conversion(conversion_grouped, conversion_history, horizon_days) "
   ]
  },
  {
   "cell_type": "markdown",
   "id": "ce933941",
   "metadata": {},
   "source": [
    "#### Самые высокие показатели коныерсии наблюдаются на рекламных платформах FaceBoom, AdNonSense, lambdaMediaAds, Tiptop."
   ]
  },
  {
   "cell_type": "code",
   "execution_count": null,
   "id": "a414d1a0",
   "metadata": {},
   "outputs": [],
   "source": [
    "# расчитываю удержание с разбивкой по каналам привлечения\n",
    "retention_raw, retention_grouped, retention_history = get_retention(\n",
    "    profiles[profiles['channel'] != 'organic'], visits, observation_date, horizon_days, dimensions=['channel']\n",
    ")\n",
    "\n",
    "# строю графики\n",
    "plot_retention(retention_grouped, retention_history, horizon_days) "
   ]
  },
  {
   "cell_type": "markdown",
   "id": "8eff97f1",
   "metadata": {},
   "source": [
    "#### Самые низкие показатели удержания платящих пользователей с платформ AdNonSense, FaceBoom."
   ]
  },
  {
   "cell_type": "markdown",
   "id": "c69459c8",
   "metadata": {},
   "source": [
    "#### Окупается ли реклама, направленная на привлечение пользователей в целом? - Рекламные компании к концу второй недели не окупаются.\n",
    "#### Какие устройства, страны и рекламные каналы могут оказывать негативное влияние на окупаемость рекламы? - На отсутвтвие окупаемости рекламных компаний повлияло привлечение пользователей iPhone и Mac из США, так как они имели самую высокую стоимость привлечения новых пользователей и низкий показатель удержания, а также реклама на платформах AdNonSense, FaceBoom, Tiptop.\n",
    "#### Чем могут быть вызваны проблемы окупаемости? - Проблемы вызваны большими тратами на каналы с не выдающимся значением LTV или низким показателем удержания пользователей.\n",
    "#### Промежуточные рекомендации для рекламного отдела. - Рекомендовано обратить внимание на платформу lambdaMediaAds, так как она имеет достаточно назкий показатель стоимости привлечения новых пользователей, с этого канала у пользователей наблюдается хорошие показатели конверсии и удержания. Самым невыгодным с точки затраченных стредств, показателей удержания и окупаемости вложений оказалась рекламная платформа TipTop и пллатформа FaceBoom. Следует увеличить финансирование рекламных полатформ привлекающий новых пользователей с платформы PС, так как пользователи этой платформ имеют хороший показатель удержания."
   ]
  },
  {
   "cell_type": "markdown",
   "id": "184dd27d",
   "metadata": {},
   "source": [
    "### Шаг 6. Выводы"
   ]
  },
  {
   "cell_type": "markdown",
   "id": "fabdb16b",
   "metadata": {},
   "source": [
    "#### Выделите причины неэффективности привлечения пользователей. -  Наибольшие рекламные затраты приходились  на каналы AdNonSense, FaceBoom, Tiptop и они, к сожалению, не окупились. Также большие затраты пришлись на пользователей из США, но они продемонстрировали низкий уровень удержания. Данные расходы также не окупились.\n",
    "\n",
    "#### Была проведена дорогостоящая рекламная компания в США. Привлечение новых пользователей в этом регионе отличается повышенной ценой, но пользователи имеют низкий показатель удержания. В связи с чем наиболее затратные рекламные компании на сервисаз TipTop и FaceBoom не окупились.\n",
    "\n",
    "#### В рекламном канале TipTop в течение всего времени, ежемесячно наблюдается увеличение стоимости привлечения новых пользователей. Данная платформа широко применалась для рекламы в США. Пользователи из данного региона имеют низкий показатель удержания. В связи с этим реклама на канале TipTop не окупилась.\n",
    "\n",
    "####  Пользователи, пришедшие с каналов FaceBoom, AdNonSense также имеют низкий показатель удержания, что послужило причиной не окупаемости рекламы на данных платформах.\n",
    "\n",
    "#### Сформулируйте рекомендации для отдела маркетинга. - Необходимо  обратить внимание на платформы lambdaMediaAds, WahooNetBanner, RocketSuperAds, данные платформы имеют хорошие показатели конверсии и удержания. Рекламные компании на них окупились в июне. Заняться привлечением пользователей PC, в связи с высоким показателем удержания на данной платформе. А также более активно привлекать пользователей из Германии и Великобритании."
   ]
  },
  {
   "cell_type": "code",
   "execution_count": null,
   "id": "a95baa50",
   "metadata": {},
   "outputs": [],
   "source": []
  }
 ],
 "metadata": {
  "ExecuteTimeLog": [
   {
    "duration": 1150,
    "start_time": "2023-01-30T08:33:29.352Z"
   },
   {
    "duration": 787,
    "start_time": "2023-01-30T08:33:30.504Z"
   },
   {
    "duration": 13,
    "start_time": "2023-01-30T08:33:31.293Z"
   },
   {
    "duration": 118,
    "start_time": "2023-01-30T08:33:31.308Z"
   },
   {
    "duration": 297,
    "start_time": "2023-01-30T08:33:31.428Z"
   },
   {
    "duration": 69,
    "start_time": "2023-01-30T08:33:31.727Z"
   },
   {
    "duration": 32,
    "start_time": "2023-01-30T08:33:31.797Z"
   },
   {
    "duration": 25,
    "start_time": "2023-01-30T08:33:31.831Z"
   },
   {
    "duration": 48,
    "start_time": "2023-01-30T08:33:31.858Z"
   },
   {
    "duration": 21,
    "start_time": "2023-01-30T08:33:31.910Z"
   },
   {
    "duration": 39,
    "start_time": "2023-01-30T08:33:31.932Z"
   },
   {
    "duration": 29,
    "start_time": "2023-01-30T08:33:31.972Z"
   },
   {
    "duration": 23,
    "start_time": "2023-01-30T08:33:32.004Z"
   },
   {
    "duration": 17,
    "start_time": "2023-01-30T08:33:32.028Z"
   },
   {
    "duration": 14,
    "start_time": "2023-01-30T08:33:32.046Z"
   },
   {
    "duration": 36,
    "start_time": "2023-01-30T08:33:32.062Z"
   },
   {
    "duration": 9,
    "start_time": "2023-01-30T08:33:32.100Z"
   },
   {
    "duration": 152,
    "start_time": "2023-01-30T08:33:32.111Z"
   },
   {
    "duration": 53,
    "start_time": "2023-01-30T08:33:32.265Z"
   },
   {
    "duration": 13,
    "start_time": "2023-01-30T08:33:32.320Z"
   },
   {
    "duration": 19,
    "start_time": "2023-01-30T08:33:32.335Z"
   },
   {
    "duration": 13,
    "start_time": "2023-01-30T08:33:32.355Z"
   },
   {
    "duration": 21,
    "start_time": "2023-01-30T08:33:32.369Z"
   },
   {
    "duration": 13,
    "start_time": "2023-01-30T08:33:32.391Z"
   },
   {
    "duration": 5,
    "start_time": "2023-01-30T08:33:32.406Z"
   },
   {
    "duration": 14,
    "start_time": "2023-01-30T08:33:32.412Z"
   },
   {
    "duration": 16,
    "start_time": "2023-01-30T08:33:32.428Z"
   },
   {
    "duration": 19,
    "start_time": "2023-01-30T08:33:32.448Z"
   },
   {
    "duration": 11,
    "start_time": "2023-01-30T08:33:32.469Z"
   },
   {
    "duration": 26,
    "start_time": "2023-01-30T08:33:32.482Z"
   },
   {
    "duration": 19,
    "start_time": "2023-01-30T08:33:32.510Z"
   },
   {
    "duration": 21,
    "start_time": "2023-01-30T08:33:32.532Z"
   },
   {
    "duration": 449,
    "start_time": "2023-01-30T08:33:32.555Z"
   },
   {
    "duration": 12,
    "start_time": "2023-01-30T08:33:33.006Z"
   },
   {
    "duration": 9,
    "start_time": "2023-01-30T08:33:33.019Z"
   },
   {
    "duration": 10,
    "start_time": "2023-01-30T08:33:33.029Z"
   },
   {
    "duration": 11,
    "start_time": "2023-01-30T08:33:33.041Z"
   },
   {
    "duration": 88,
    "start_time": "2023-01-30T08:33:33.054Z"
   },
   {
    "duration": 26,
    "start_time": "2023-01-30T08:33:33.144Z"
   },
   {
    "duration": 41,
    "start_time": "2023-01-30T08:33:33.171Z"
   },
   {
    "duration": 4,
    "start_time": "2023-01-30T08:33:33.213Z"
   },
   {
    "duration": 121,
    "start_time": "2023-01-30T08:33:33.219Z"
   },
   {
    "duration": 0,
    "start_time": "2023-01-30T08:33:33.342Z"
   },
   {
    "duration": 0,
    "start_time": "2023-01-30T08:33:33.343Z"
   },
   {
    "duration": 0,
    "start_time": "2023-01-30T08:33:33.344Z"
   },
   {
    "duration": 0,
    "start_time": "2023-01-30T08:33:33.345Z"
   },
   {
    "duration": 0,
    "start_time": "2023-01-30T08:33:33.347Z"
   },
   {
    "duration": 0,
    "start_time": "2023-01-30T08:33:33.348Z"
   },
   {
    "duration": 0,
    "start_time": "2023-01-30T08:33:33.349Z"
   },
   {
    "duration": 0,
    "start_time": "2023-01-30T08:33:33.350Z"
   },
   {
    "duration": 0,
    "start_time": "2023-01-30T08:33:33.351Z"
   },
   {
    "duration": 0,
    "start_time": "2023-01-30T08:33:33.352Z"
   },
   {
    "duration": 0,
    "start_time": "2023-01-30T08:33:33.353Z"
   },
   {
    "duration": 0,
    "start_time": "2023-01-30T08:33:33.355Z"
   },
   {
    "duration": 0,
    "start_time": "2023-01-30T08:33:33.357Z"
   },
   {
    "duration": 0,
    "start_time": "2023-01-30T08:33:33.358Z"
   },
   {
    "duration": 0,
    "start_time": "2023-01-30T08:33:33.359Z"
   },
   {
    "duration": 0,
    "start_time": "2023-01-30T08:33:33.360Z"
   },
   {
    "duration": 0,
    "start_time": "2023-01-30T08:33:33.360Z"
   },
   {
    "duration": 0,
    "start_time": "2023-01-30T08:33:33.361Z"
   },
   {
    "duration": 1,
    "start_time": "2023-01-30T08:33:33.392Z"
   },
   {
    "duration": 43,
    "start_time": "2023-01-30T08:36:37.492Z"
   },
   {
    "duration": 3,
    "start_time": "2023-01-30T08:36:39.373Z"
   },
   {
    "duration": 3,
    "start_time": "2023-01-30T08:36:39.552Z"
   },
   {
    "duration": 11,
    "start_time": "2023-01-30T08:36:39.749Z"
   },
   {
    "duration": 7,
    "start_time": "2023-01-30T08:36:39.927Z"
   },
   {
    "duration": 9,
    "start_time": "2023-01-30T08:36:40.107Z"
   },
   {
    "duration": 1646,
    "start_time": "2023-01-30T08:36:40.280Z"
   },
   {
    "duration": 717,
    "start_time": "2023-01-30T08:36:41.928Z"
   },
   {
    "duration": 396,
    "start_time": "2023-01-30T08:36:42.647Z"
   },
   {
    "duration": 0,
    "start_time": "2023-01-30T08:36:43.045Z"
   },
   {
    "duration": 0,
    "start_time": "2023-01-30T08:36:43.046Z"
   },
   {
    "duration": 0,
    "start_time": "2023-01-30T08:36:43.047Z"
   },
   {
    "duration": 0,
    "start_time": "2023-01-30T08:36:43.048Z"
   },
   {
    "duration": 835,
    "start_time": "2023-01-30T08:36:43.167Z"
   },
   {
    "duration": 1474,
    "start_time": "2023-01-30T08:36:44.004Z"
   },
   {
    "duration": 2456,
    "start_time": "2023-01-30T08:36:45.480Z"
   },
   {
    "duration": 1012,
    "start_time": "2023-01-30T08:36:47.938Z"
   },
   {
    "duration": 1839,
    "start_time": "2023-01-30T08:36:48.952Z"
   },
   {
    "duration": 478,
    "start_time": "2023-01-30T08:37:22.373Z"
   },
   {
    "duration": 281,
    "start_time": "2023-01-30T08:39:32.841Z"
   },
   {
    "duration": 1758,
    "start_time": "2023-01-30T08:39:34.496Z"
   },
   {
    "duration": 771,
    "start_time": "2023-01-30T08:39:37.507Z"
   },
   {
    "duration": 1493,
    "start_time": "2023-01-30T08:39:38.280Z"
   },
   {
    "duration": 1896,
    "start_time": "2023-01-30T08:39:39.775Z"
   },
   {
    "duration": 833,
    "start_time": "2023-01-30T08:39:41.672Z"
   },
   {
    "duration": 1451,
    "start_time": "2023-01-30T08:39:42.507Z"
   },
   {
    "duration": 2324,
    "start_time": "2023-01-30T08:39:43.960Z"
   },
   {
    "duration": 1054,
    "start_time": "2023-01-30T08:39:46.291Z"
   },
   {
    "duration": 1909,
    "start_time": "2023-01-30T08:39:47.346Z"
   },
   {
    "duration": 296,
    "start_time": "2023-01-30T08:39:54.963Z"
   },
   {
    "duration": 1246,
    "start_time": "2023-01-31T09:23:10.676Z"
   },
   {
    "duration": 799,
    "start_time": "2023-01-31T09:23:11.924Z"
   },
   {
    "duration": 14,
    "start_time": "2023-01-31T09:23:12.725Z"
   },
   {
    "duration": 67,
    "start_time": "2023-01-31T09:23:12.740Z"
   },
   {
    "duration": 282,
    "start_time": "2023-01-31T09:23:12.809Z"
   },
   {
    "duration": 51,
    "start_time": "2023-01-31T09:23:13.093Z"
   },
   {
    "duration": 257,
    "start_time": "2023-01-31T09:23:13.146Z"
   },
   {
    "duration": 8,
    "start_time": "2023-01-31T09:23:13.405Z"
   },
   {
    "duration": 29,
    "start_time": "2023-01-31T09:23:13.415Z"
   },
   {
    "duration": 21,
    "start_time": "2023-01-31T09:23:13.446Z"
   },
   {
    "duration": 7,
    "start_time": "2023-01-31T09:23:13.469Z"
   },
   {
    "duration": 27,
    "start_time": "2023-01-31T09:23:13.478Z"
   },
   {
    "duration": 14,
    "start_time": "2023-01-31T09:23:13.507Z"
   },
   {
    "duration": 23,
    "start_time": "2023-01-31T09:23:13.525Z"
   },
   {
    "duration": 13,
    "start_time": "2023-01-31T09:23:13.549Z"
   },
   {
    "duration": 21,
    "start_time": "2023-01-31T09:23:13.564Z"
   },
   {
    "duration": 25,
    "start_time": "2023-01-31T09:23:13.587Z"
   },
   {
    "duration": 11,
    "start_time": "2023-01-31T09:23:13.614Z"
   },
   {
    "duration": 46,
    "start_time": "2023-01-31T09:23:13.627Z"
   },
   {
    "duration": 10,
    "start_time": "2023-01-31T09:23:13.674Z"
   },
   {
    "duration": 144,
    "start_time": "2023-01-31T09:23:13.685Z"
   },
   {
    "duration": 43,
    "start_time": "2023-01-31T09:23:13.830Z"
   },
   {
    "duration": 22,
    "start_time": "2023-01-31T09:23:13.881Z"
   },
   {
    "duration": 50,
    "start_time": "2023-01-31T09:23:13.905Z"
   },
   {
    "duration": 30,
    "start_time": "2023-01-31T09:23:13.957Z"
   },
   {
    "duration": 27,
    "start_time": "2023-01-31T09:23:13.989Z"
   },
   {
    "duration": 20,
    "start_time": "2023-01-31T09:23:14.017Z"
   },
   {
    "duration": 16,
    "start_time": "2023-01-31T09:23:14.038Z"
   },
   {
    "duration": 30,
    "start_time": "2023-01-31T09:23:14.055Z"
   },
   {
    "duration": 16,
    "start_time": "2023-01-31T09:23:14.086Z"
   },
   {
    "duration": 23,
    "start_time": "2023-01-31T09:23:14.104Z"
   },
   {
    "duration": 27,
    "start_time": "2023-01-31T09:23:14.129Z"
   },
   {
    "duration": 24,
    "start_time": "2023-01-31T09:23:14.158Z"
   },
   {
    "duration": 34,
    "start_time": "2023-01-31T09:23:14.183Z"
   },
   {
    "duration": 30,
    "start_time": "2023-01-31T09:23:14.219Z"
   },
   {
    "duration": 16,
    "start_time": "2023-01-31T09:23:14.250Z"
   },
   {
    "duration": 11,
    "start_time": "2023-01-31T09:23:14.268Z"
   },
   {
    "duration": 30,
    "start_time": "2023-01-31T09:23:14.280Z"
   },
   {
    "duration": 18,
    "start_time": "2023-01-31T09:23:14.312Z"
   },
   {
    "duration": 440,
    "start_time": "2023-01-31T09:23:14.332Z"
   },
   {
    "duration": 12,
    "start_time": "2023-01-31T09:23:14.776Z"
   },
   {
    "duration": 18,
    "start_time": "2023-01-31T09:23:14.790Z"
   },
   {
    "duration": 34,
    "start_time": "2023-01-31T09:23:14.810Z"
   },
   {
    "duration": 41,
    "start_time": "2023-01-31T09:23:14.846Z"
   },
   {
    "duration": 92,
    "start_time": "2023-01-31T09:23:14.889Z"
   },
   {
    "duration": 28,
    "start_time": "2023-01-31T09:23:14.983Z"
   },
   {
    "duration": 74,
    "start_time": "2023-01-31T09:23:15.013Z"
   },
   {
    "duration": 22,
    "start_time": "2023-01-31T09:23:15.088Z"
   },
   {
    "duration": 130,
    "start_time": "2023-01-31T09:23:15.112Z"
   },
   {
    "duration": 0,
    "start_time": "2023-01-31T09:23:15.244Z"
   },
   {
    "duration": 0,
    "start_time": "2023-01-31T09:23:15.246Z"
   },
   {
    "duration": 0,
    "start_time": "2023-01-31T09:23:15.248Z"
   },
   {
    "duration": 0,
    "start_time": "2023-01-31T09:23:15.249Z"
   },
   {
    "duration": 0,
    "start_time": "2023-01-31T09:23:15.250Z"
   },
   {
    "duration": 0,
    "start_time": "2023-01-31T09:23:15.252Z"
   },
   {
    "duration": 0,
    "start_time": "2023-01-31T09:23:15.253Z"
   },
   {
    "duration": 0,
    "start_time": "2023-01-31T09:23:15.255Z"
   },
   {
    "duration": 0,
    "start_time": "2023-01-31T09:23:15.256Z"
   },
   {
    "duration": 0,
    "start_time": "2023-01-31T09:23:15.258Z"
   },
   {
    "duration": 0,
    "start_time": "2023-01-31T09:23:15.259Z"
   },
   {
    "duration": 0,
    "start_time": "2023-01-31T09:23:15.281Z"
   },
   {
    "duration": 0,
    "start_time": "2023-01-31T09:23:15.282Z"
   },
   {
    "duration": 0,
    "start_time": "2023-01-31T09:23:15.283Z"
   },
   {
    "duration": 0,
    "start_time": "2023-01-31T09:23:15.285Z"
   },
   {
    "duration": 0,
    "start_time": "2023-01-31T09:23:15.286Z"
   },
   {
    "duration": 0,
    "start_time": "2023-01-31T09:23:15.288Z"
   },
   {
    "duration": 0,
    "start_time": "2023-01-31T09:23:15.289Z"
   },
   {
    "duration": 1333,
    "start_time": "2023-01-31T09:33:30.631Z"
   },
   {
    "duration": 1040,
    "start_time": "2023-01-31T09:33:31.966Z"
   },
   {
    "duration": 22,
    "start_time": "2023-01-31T09:33:33.008Z"
   },
   {
    "duration": 78,
    "start_time": "2023-01-31T09:33:33.032Z"
   },
   {
    "duration": 359,
    "start_time": "2023-01-31T09:33:33.113Z"
   },
   {
    "duration": 67,
    "start_time": "2023-01-31T09:33:33.474Z"
   },
   {
    "duration": 265,
    "start_time": "2023-01-31T09:33:33.542Z"
   },
   {
    "duration": 10,
    "start_time": "2023-01-31T09:33:33.809Z"
   },
   {
    "duration": 30,
    "start_time": "2023-01-31T09:33:33.820Z"
   },
   {
    "duration": 32,
    "start_time": "2023-01-31T09:33:33.853Z"
   },
   {
    "duration": 21,
    "start_time": "2023-01-31T09:33:33.886Z"
   },
   {
    "duration": 39,
    "start_time": "2023-01-31T09:33:33.909Z"
   },
   {
    "duration": 35,
    "start_time": "2023-01-31T09:33:33.949Z"
   },
   {
    "duration": 48,
    "start_time": "2023-01-31T09:33:33.986Z"
   },
   {
    "duration": 46,
    "start_time": "2023-01-31T09:33:34.036Z"
   },
   {
    "duration": 32,
    "start_time": "2023-01-31T09:33:34.083Z"
   },
   {
    "duration": 45,
    "start_time": "2023-01-31T09:33:34.117Z"
   },
   {
    "duration": 30,
    "start_time": "2023-01-31T09:33:34.164Z"
   },
   {
    "duration": 55,
    "start_time": "2023-01-31T09:33:34.196Z"
   },
   {
    "duration": 24,
    "start_time": "2023-01-31T09:33:34.253Z"
   },
   {
    "duration": 168,
    "start_time": "2023-01-31T09:33:34.279Z"
   },
   {
    "duration": 44,
    "start_time": "2023-01-31T09:33:34.449Z"
   },
   {
    "duration": 26,
    "start_time": "2023-01-31T09:33:34.494Z"
   },
   {
    "duration": 31,
    "start_time": "2023-01-31T09:33:34.521Z"
   },
   {
    "duration": 31,
    "start_time": "2023-01-31T09:33:34.554Z"
   },
   {
    "duration": 32,
    "start_time": "2023-01-31T09:33:34.587Z"
   },
   {
    "duration": 33,
    "start_time": "2023-01-31T09:33:34.621Z"
   },
   {
    "duration": 19,
    "start_time": "2023-01-31T09:33:34.658Z"
   },
   {
    "duration": 26,
    "start_time": "2023-01-31T09:33:34.679Z"
   },
   {
    "duration": 22,
    "start_time": "2023-01-31T09:33:34.707Z"
   },
   {
    "duration": 39,
    "start_time": "2023-01-31T09:33:34.731Z"
   },
   {
    "duration": 34,
    "start_time": "2023-01-31T09:33:34.772Z"
   },
   {
    "duration": 34,
    "start_time": "2023-01-31T09:33:34.807Z"
   },
   {
    "duration": 47,
    "start_time": "2023-01-31T09:33:34.843Z"
   },
   {
    "duration": 65,
    "start_time": "2023-01-31T09:33:34.892Z"
   },
   {
    "duration": 34,
    "start_time": "2023-01-31T09:33:34.959Z"
   },
   {
    "duration": 23,
    "start_time": "2023-01-31T09:33:34.995Z"
   },
   {
    "duration": 48,
    "start_time": "2023-01-31T09:33:35.020Z"
   },
   {
    "duration": 56,
    "start_time": "2023-01-31T09:33:35.070Z"
   },
   {
    "duration": 534,
    "start_time": "2023-01-31T09:33:35.128Z"
   },
   {
    "duration": 12,
    "start_time": "2023-01-31T09:33:35.664Z"
   },
   {
    "duration": 39,
    "start_time": "2023-01-31T09:33:35.678Z"
   },
   {
    "duration": 59,
    "start_time": "2023-01-31T09:33:35.719Z"
   },
   {
    "duration": 82,
    "start_time": "2023-01-31T09:33:35.779Z"
   },
   {
    "duration": 96,
    "start_time": "2023-01-31T09:33:35.863Z"
   },
   {
    "duration": 26,
    "start_time": "2023-01-31T09:33:35.961Z"
   },
   {
    "duration": 73,
    "start_time": "2023-01-31T09:33:35.988Z"
   },
   {
    "duration": 55,
    "start_time": "2023-01-31T09:33:36.063Z"
   },
   {
    "duration": 148,
    "start_time": "2023-01-31T09:33:36.120Z"
   },
   {
    "duration": 0,
    "start_time": "2023-01-31T09:33:36.270Z"
   },
   {
    "duration": 0,
    "start_time": "2023-01-31T09:33:36.271Z"
   },
   {
    "duration": 0,
    "start_time": "2023-01-31T09:33:36.272Z"
   },
   {
    "duration": 0,
    "start_time": "2023-01-31T09:33:36.273Z"
   },
   {
    "duration": 0,
    "start_time": "2023-01-31T09:33:36.274Z"
   },
   {
    "duration": 0,
    "start_time": "2023-01-31T09:33:36.275Z"
   },
   {
    "duration": 0,
    "start_time": "2023-01-31T09:33:36.276Z"
   },
   {
    "duration": 0,
    "start_time": "2023-01-31T09:33:36.277Z"
   },
   {
    "duration": 0,
    "start_time": "2023-01-31T09:33:36.278Z"
   },
   {
    "duration": 0,
    "start_time": "2023-01-31T09:33:36.279Z"
   },
   {
    "duration": 0,
    "start_time": "2023-01-31T09:33:36.280Z"
   },
   {
    "duration": 0,
    "start_time": "2023-01-31T09:33:36.281Z"
   },
   {
    "duration": 0,
    "start_time": "2023-01-31T09:33:36.282Z"
   },
   {
    "duration": 0,
    "start_time": "2023-01-31T09:33:36.284Z"
   },
   {
    "duration": 0,
    "start_time": "2023-01-31T09:33:36.285Z"
   },
   {
    "duration": 0,
    "start_time": "2023-01-31T09:33:36.286Z"
   },
   {
    "duration": 0,
    "start_time": "2023-01-31T09:33:36.287Z"
   },
   {
    "duration": 0,
    "start_time": "2023-01-31T09:33:36.288Z"
   },
   {
    "duration": 18,
    "start_time": "2023-01-31T09:34:33.783Z"
   },
   {
    "duration": 17,
    "start_time": "2023-01-31T09:35:54.456Z"
   },
   {
    "duration": 14,
    "start_time": "2023-01-31T09:36:32.406Z"
   },
   {
    "duration": 5,
    "start_time": "2023-01-31T09:37:12.322Z"
   },
   {
    "duration": 11,
    "start_time": "2023-01-31T09:37:18.526Z"
   },
   {
    "duration": 780,
    "start_time": "2023-01-31T09:38:09.718Z"
   },
   {
    "duration": 17,
    "start_time": "2023-01-31T09:38:22.890Z"
   },
   {
    "duration": 13,
    "start_time": "2023-01-31T09:38:59.374Z"
   },
   {
    "duration": 14,
    "start_time": "2023-01-31T09:39:04.340Z"
   },
   {
    "duration": 1187,
    "start_time": "2023-01-31T09:39:25.169Z"
   },
   {
    "duration": 817,
    "start_time": "2023-01-31T09:39:26.358Z"
   },
   {
    "duration": 18,
    "start_time": "2023-01-31T09:39:27.177Z"
   },
   {
    "duration": 131,
    "start_time": "2023-01-31T09:39:27.198Z"
   },
   {
    "duration": 376,
    "start_time": "2023-01-31T09:39:27.331Z"
   },
   {
    "duration": 66,
    "start_time": "2023-01-31T09:39:27.709Z"
   },
   {
    "duration": 283,
    "start_time": "2023-01-31T09:39:27.777Z"
   },
   {
    "duration": 9,
    "start_time": "2023-01-31T09:39:28.062Z"
   },
   {
    "duration": 25,
    "start_time": "2023-01-31T09:39:28.073Z"
   },
   {
    "duration": 25,
    "start_time": "2023-01-31T09:39:28.100Z"
   },
   {
    "duration": 23,
    "start_time": "2023-01-31T09:39:28.127Z"
   },
   {
    "duration": 55,
    "start_time": "2023-01-31T09:39:28.152Z"
   },
   {
    "duration": 26,
    "start_time": "2023-01-31T09:39:28.209Z"
   },
   {
    "duration": 25,
    "start_time": "2023-01-31T09:39:28.237Z"
   },
   {
    "duration": 40,
    "start_time": "2023-01-31T09:39:28.264Z"
   },
   {
    "duration": 40,
    "start_time": "2023-01-31T09:39:28.306Z"
   },
   {
    "duration": 22,
    "start_time": "2023-01-31T09:39:28.348Z"
   },
   {
    "duration": 15,
    "start_time": "2023-01-31T09:39:28.372Z"
   },
   {
    "duration": 44,
    "start_time": "2023-01-31T09:39:28.390Z"
   },
   {
    "duration": 14,
    "start_time": "2023-01-31T09:39:28.436Z"
   },
   {
    "duration": 163,
    "start_time": "2023-01-31T09:39:28.452Z"
   },
   {
    "duration": 54,
    "start_time": "2023-01-31T09:39:28.617Z"
   },
   {
    "duration": 30,
    "start_time": "2023-01-31T09:39:28.673Z"
   },
   {
    "duration": 14,
    "start_time": "2023-01-31T09:39:28.705Z"
   },
   {
    "duration": 35,
    "start_time": "2023-01-31T09:39:28.721Z"
   },
   {
    "duration": 19,
    "start_time": "2023-01-31T09:39:28.758Z"
   },
   {
    "duration": 17,
    "start_time": "2023-01-31T09:39:28.779Z"
   },
   {
    "duration": 30,
    "start_time": "2023-01-31T09:39:28.843Z"
   },
   {
    "duration": 26,
    "start_time": "2023-01-31T09:39:28.875Z"
   },
   {
    "duration": 6,
    "start_time": "2023-01-31T09:39:28.940Z"
   },
   {
    "duration": 40,
    "start_time": "2023-01-31T09:39:28.949Z"
   },
   {
    "duration": 51,
    "start_time": "2023-01-31T09:39:28.991Z"
   },
   {
    "duration": 13,
    "start_time": "2023-01-31T09:39:29.045Z"
   },
   {
    "duration": 16,
    "start_time": "2023-01-31T09:39:29.061Z"
   },
   {
    "duration": 62,
    "start_time": "2023-01-31T09:39:29.080Z"
   },
   {
    "duration": 18,
    "start_time": "2023-01-31T09:39:29.145Z"
   },
   {
    "duration": 35,
    "start_time": "2023-01-31T09:39:29.166Z"
   },
   {
    "duration": 9,
    "start_time": "2023-01-31T09:39:29.239Z"
   },
   {
    "duration": 21,
    "start_time": "2023-01-31T09:39:29.250Z"
   },
   {
    "duration": 1110,
    "start_time": "2023-01-31T09:39:29.273Z"
   },
   {
    "duration": 67,
    "start_time": "2023-01-31T09:39:30.385Z"
   },
   {
    "duration": 47,
    "start_time": "2023-01-31T09:39:30.454Z"
   },
   {
    "duration": 21,
    "start_time": "2023-01-31T09:39:30.539Z"
   },
   {
    "duration": 87,
    "start_time": "2023-01-31T09:39:30.562Z"
   },
   {
    "duration": 110,
    "start_time": "2023-01-31T09:39:30.651Z"
   },
   {
    "duration": 28,
    "start_time": "2023-01-31T09:39:30.762Z"
   },
   {
    "duration": 77,
    "start_time": "2023-01-31T09:39:30.792Z"
   },
   {
    "duration": 30,
    "start_time": "2023-01-31T09:39:30.871Z"
   },
   {
    "duration": 44,
    "start_time": "2023-01-31T09:39:30.902Z"
   },
   {
    "duration": 881,
    "start_time": "2023-01-31T09:39:30.948Z"
   },
   {
    "duration": 45,
    "start_time": "2023-01-31T09:39:31.831Z"
   },
   {
    "duration": 3,
    "start_time": "2023-01-31T09:39:31.878Z"
   },
   {
    "duration": 20,
    "start_time": "2023-01-31T09:39:31.883Z"
   },
   {
    "duration": 1744,
    "start_time": "2023-01-31T09:39:31.904Z"
   },
   {
    "duration": 736,
    "start_time": "2023-01-31T09:39:33.650Z"
   },
   {
    "duration": 462,
    "start_time": "2023-01-31T09:39:34.387Z"
   },
   {
    "duration": 1843,
    "start_time": "2023-01-31T09:39:34.850Z"
   },
   {
    "duration": 792,
    "start_time": "2023-01-31T09:39:36.695Z"
   },
   {
    "duration": 1660,
    "start_time": "2023-01-31T09:39:37.488Z"
   },
   {
    "duration": 1926,
    "start_time": "2023-01-31T09:39:39.150Z"
   },
   {
    "duration": 18,
    "start_time": "2023-01-31T09:39:41.078Z"
   },
   {
    "duration": 1991,
    "start_time": "2023-01-31T09:39:41.098Z"
   },
   {
    "duration": 885,
    "start_time": "2023-01-31T09:39:43.092Z"
   },
   {
    "duration": 1453,
    "start_time": "2023-01-31T09:39:43.980Z"
   },
   {
    "duration": 2303,
    "start_time": "2023-01-31T09:39:45.440Z"
   },
   {
    "duration": 995,
    "start_time": "2023-01-31T09:39:47.745Z"
   },
   {
    "duration": 1771,
    "start_time": "2023-01-31T09:39:48.741Z"
   },
   {
    "duration": 1267,
    "start_time": "2023-01-31T16:25:51.362Z"
   },
   {
    "duration": 1005,
    "start_time": "2023-01-31T16:25:52.630Z"
   },
   {
    "duration": 20,
    "start_time": "2023-01-31T16:25:53.637Z"
   },
   {
    "duration": 75,
    "start_time": "2023-01-31T16:25:53.660Z"
   },
   {
    "duration": 328,
    "start_time": "2023-01-31T16:25:53.738Z"
   },
   {
    "duration": 98,
    "start_time": "2023-01-31T16:25:54.068Z"
   },
   {
    "duration": 334,
    "start_time": "2023-01-31T16:25:54.182Z"
   },
   {
    "duration": 19,
    "start_time": "2023-01-31T16:25:54.518Z"
   },
   {
    "duration": 18,
    "start_time": "2023-01-31T16:25:54.540Z"
   },
   {
    "duration": 35,
    "start_time": "2023-01-31T16:25:54.562Z"
   },
   {
    "duration": 18,
    "start_time": "2023-01-31T16:25:54.599Z"
   },
   {
    "duration": 20,
    "start_time": "2023-01-31T16:25:54.619Z"
   },
   {
    "duration": 11,
    "start_time": "2023-01-31T16:25:54.640Z"
   },
   {
    "duration": 30,
    "start_time": "2023-01-31T16:25:54.654Z"
   },
   {
    "duration": 29,
    "start_time": "2023-01-31T16:25:54.686Z"
   },
   {
    "duration": 24,
    "start_time": "2023-01-31T16:25:54.717Z"
   },
   {
    "duration": 16,
    "start_time": "2023-01-31T16:25:54.746Z"
   },
   {
    "duration": 4,
    "start_time": "2023-01-31T16:25:54.764Z"
   },
   {
    "duration": 45,
    "start_time": "2023-01-31T16:25:54.769Z"
   },
   {
    "duration": 10,
    "start_time": "2023-01-31T16:25:54.816Z"
   },
   {
    "duration": 186,
    "start_time": "2023-01-31T16:25:54.828Z"
   },
   {
    "duration": 74,
    "start_time": "2023-01-31T16:25:55.016Z"
   },
   {
    "duration": 3,
    "start_time": "2023-01-31T16:25:55.092Z"
   },
   {
    "duration": 17,
    "start_time": "2023-01-31T16:25:55.097Z"
   },
   {
    "duration": 18,
    "start_time": "2023-01-31T16:25:55.117Z"
   },
   {
    "duration": 17,
    "start_time": "2023-01-31T16:25:55.137Z"
   },
   {
    "duration": 26,
    "start_time": "2023-01-31T16:25:55.156Z"
   },
   {
    "duration": 5,
    "start_time": "2023-01-31T16:25:55.189Z"
   },
   {
    "duration": 13,
    "start_time": "2023-01-31T16:25:55.208Z"
   },
   {
    "duration": 11,
    "start_time": "2023-01-31T16:25:55.224Z"
   },
   {
    "duration": 18,
    "start_time": "2023-01-31T16:25:55.238Z"
   },
   {
    "duration": 18,
    "start_time": "2023-01-31T16:25:55.259Z"
   },
   {
    "duration": 30,
    "start_time": "2023-01-31T16:25:55.281Z"
   },
   {
    "duration": 14,
    "start_time": "2023-01-31T16:25:55.313Z"
   },
   {
    "duration": 13,
    "start_time": "2023-01-31T16:25:55.329Z"
   },
   {
    "duration": 20,
    "start_time": "2023-01-31T16:25:55.344Z"
   },
   {
    "duration": 12,
    "start_time": "2023-01-31T16:25:55.365Z"
   },
   {
    "duration": 25,
    "start_time": "2023-01-31T16:25:55.379Z"
   },
   {
    "duration": 12,
    "start_time": "2023-01-31T16:25:55.407Z"
   },
   {
    "duration": 505,
    "start_time": "2023-01-31T16:25:55.421Z"
   },
   {
    "duration": 12,
    "start_time": "2023-01-31T16:25:55.928Z"
   },
   {
    "duration": 12,
    "start_time": "2023-01-31T16:25:55.942Z"
   },
   {
    "duration": 8,
    "start_time": "2023-01-31T16:25:55.956Z"
   },
   {
    "duration": 53,
    "start_time": "2023-01-31T16:25:55.966Z"
   },
   {
    "duration": 105,
    "start_time": "2023-01-31T16:25:56.021Z"
   },
   {
    "duration": 25,
    "start_time": "2023-01-31T16:25:56.128Z"
   },
   {
    "duration": 81,
    "start_time": "2023-01-31T16:25:56.155Z"
   },
   {
    "duration": 37,
    "start_time": "2023-01-31T16:25:56.238Z"
   },
   {
    "duration": 72,
    "start_time": "2023-01-31T16:25:56.278Z"
   },
   {
    "duration": 925,
    "start_time": "2023-01-31T16:25:56.353Z"
   },
   {
    "duration": 51,
    "start_time": "2023-01-31T16:25:57.280Z"
   },
   {
    "duration": 4,
    "start_time": "2023-01-31T16:25:57.333Z"
   },
   {
    "duration": 13,
    "start_time": "2023-01-31T16:25:57.339Z"
   },
   {
    "duration": 1687,
    "start_time": "2023-01-31T16:25:57.353Z"
   },
   {
    "duration": 744,
    "start_time": "2023-01-31T16:25:59.042Z"
   },
   {
    "duration": 548,
    "start_time": "2023-01-31T16:25:59.788Z"
   },
   {
    "duration": 2576,
    "start_time": "2023-01-31T16:26:00.338Z"
   },
   {
    "duration": 987,
    "start_time": "2023-01-31T16:26:02.916Z"
   },
   {
    "duration": 1713,
    "start_time": "2023-01-31T16:26:03.906Z"
   },
   {
    "duration": 2006,
    "start_time": "2023-01-31T16:26:05.621Z"
   },
   {
    "duration": 18,
    "start_time": "2023-01-31T16:26:07.628Z"
   },
   {
    "duration": 2079,
    "start_time": "2023-01-31T16:26:07.648Z"
   },
   {
    "duration": 902,
    "start_time": "2023-01-31T16:26:09.729Z"
   },
   {
    "duration": 1577,
    "start_time": "2023-01-31T16:26:10.633Z"
   },
   {
    "duration": 2497,
    "start_time": "2023-01-31T16:26:12.212Z"
   },
   {
    "duration": 1077,
    "start_time": "2023-01-31T16:26:14.711Z"
   },
   {
    "duration": 1981,
    "start_time": "2023-01-31T16:26:15.790Z"
   },
   {
    "duration": 81,
    "start_time": "2023-02-01T04:47:13.206Z"
   },
   {
    "duration": 41,
    "start_time": "2023-02-01T04:47:19.303Z"
   },
   {
    "duration": 9,
    "start_time": "2023-02-01T04:47:29.336Z"
   },
   {
    "duration": 0,
    "start_time": "2023-02-01T04:47:29.346Z"
   },
   {
    "duration": 0,
    "start_time": "2023-02-01T04:47:29.347Z"
   },
   {
    "duration": 0,
    "start_time": "2023-02-01T04:47:29.348Z"
   },
   {
    "duration": 0,
    "start_time": "2023-02-01T04:47:29.349Z"
   },
   {
    "duration": 9,
    "start_time": "2023-02-01T04:47:29.350Z"
   },
   {
    "duration": 0,
    "start_time": "2023-02-01T04:47:29.361Z"
   },
   {
    "duration": 0,
    "start_time": "2023-02-01T04:47:29.361Z"
   },
   {
    "duration": 0,
    "start_time": "2023-02-01T04:47:29.362Z"
   },
   {
    "duration": 12,
    "start_time": "2023-02-01T04:47:29.363Z"
   },
   {
    "duration": 0,
    "start_time": "2023-02-01T04:47:29.376Z"
   },
   {
    "duration": 6,
    "start_time": "2023-02-01T04:47:29.385Z"
   },
   {
    "duration": 0,
    "start_time": "2023-02-01T04:47:29.393Z"
   },
   {
    "duration": 0,
    "start_time": "2023-02-01T04:47:29.393Z"
   },
   {
    "duration": 0,
    "start_time": "2023-02-01T04:47:29.394Z"
   },
   {
    "duration": 0,
    "start_time": "2023-02-01T04:47:29.395Z"
   },
   {
    "duration": 0,
    "start_time": "2023-02-01T04:47:29.396Z"
   },
   {
    "duration": 0,
    "start_time": "2023-02-01T04:47:29.396Z"
   },
   {
    "duration": 1246,
    "start_time": "2023-02-01T04:47:39.341Z"
   },
   {
    "duration": 1992,
    "start_time": "2023-02-01T04:47:40.589Z"
   },
   {
    "duration": 12,
    "start_time": "2023-02-01T04:47:42.583Z"
   },
   {
    "duration": 63,
    "start_time": "2023-02-01T04:47:42.597Z"
   },
   {
    "duration": 282,
    "start_time": "2023-02-01T04:47:42.662Z"
   },
   {
    "duration": 68,
    "start_time": "2023-02-01T04:47:42.946Z"
   },
   {
    "duration": 236,
    "start_time": "2023-02-01T04:47:43.016Z"
   },
   {
    "duration": 9,
    "start_time": "2023-02-01T04:47:43.254Z"
   },
   {
    "duration": 32,
    "start_time": "2023-02-01T04:47:43.265Z"
   },
   {
    "duration": 14,
    "start_time": "2023-02-01T04:47:43.300Z"
   },
   {
    "duration": 6,
    "start_time": "2023-02-01T04:47:43.316Z"
   },
   {
    "duration": 12,
    "start_time": "2023-02-01T04:47:43.324Z"
   },
   {
    "duration": 8,
    "start_time": "2023-02-01T04:47:43.337Z"
   },
   {
    "duration": 52,
    "start_time": "2023-02-01T04:47:43.346Z"
   },
   {
    "duration": 10,
    "start_time": "2023-02-01T04:47:43.400Z"
   },
   {
    "duration": 5,
    "start_time": "2023-02-01T04:47:43.412Z"
   },
   {
    "duration": 7,
    "start_time": "2023-02-01T04:47:43.419Z"
   },
   {
    "duration": 10,
    "start_time": "2023-02-01T04:47:43.428Z"
   },
   {
    "duration": 67,
    "start_time": "2023-02-01T04:47:43.440Z"
   },
   {
    "duration": 10,
    "start_time": "2023-02-01T04:47:43.509Z"
   },
   {
    "duration": 151,
    "start_time": "2023-02-01T04:47:43.521Z"
   },
   {
    "duration": 48,
    "start_time": "2023-02-01T04:47:43.674Z"
   },
   {
    "duration": 2,
    "start_time": "2023-02-01T04:47:43.724Z"
   },
   {
    "duration": 7,
    "start_time": "2023-02-01T04:47:43.728Z"
   },
   {
    "duration": 28,
    "start_time": "2023-02-01T04:47:43.736Z"
   },
   {
    "duration": 15,
    "start_time": "2023-02-01T04:47:43.766Z"
   },
   {
    "duration": 22,
    "start_time": "2023-02-01T04:47:43.782Z"
   },
   {
    "duration": 3,
    "start_time": "2023-02-01T04:47:43.808Z"
   },
   {
    "duration": 16,
    "start_time": "2023-02-01T04:47:43.812Z"
   },
   {
    "duration": 6,
    "start_time": "2023-02-01T04:47:43.830Z"
   },
   {
    "duration": 24,
    "start_time": "2023-02-01T04:47:43.837Z"
   },
   {
    "duration": 11,
    "start_time": "2023-02-01T04:47:43.862Z"
   },
   {
    "duration": 17,
    "start_time": "2023-02-01T04:47:43.874Z"
   },
   {
    "duration": 8,
    "start_time": "2023-02-01T04:47:43.893Z"
   },
   {
    "duration": 18,
    "start_time": "2023-02-01T04:47:43.902Z"
   },
   {
    "duration": 8,
    "start_time": "2023-02-01T04:47:43.921Z"
   },
   {
    "duration": 11,
    "start_time": "2023-02-01T04:47:43.930Z"
   },
   {
    "duration": 18,
    "start_time": "2023-02-01T04:47:43.943Z"
   },
   {
    "duration": 21,
    "start_time": "2023-02-01T04:47:43.963Z"
   },
   {
    "duration": 455,
    "start_time": "2023-02-01T04:47:43.986Z"
   },
   {
    "duration": 11,
    "start_time": "2023-02-01T04:47:44.443Z"
   },
   {
    "duration": 19,
    "start_time": "2023-02-01T04:47:44.455Z"
   },
   {
    "duration": 18,
    "start_time": "2023-02-01T04:47:44.476Z"
   },
   {
    "duration": 11,
    "start_time": "2023-02-01T04:47:44.495Z"
   },
   {
    "duration": 63,
    "start_time": "2023-02-01T04:47:44.507Z"
   },
   {
    "duration": 40,
    "start_time": "2023-02-01T04:47:44.571Z"
   },
   {
    "duration": 24,
    "start_time": "2023-02-01T04:47:44.613Z"
   },
   {
    "duration": 4,
    "start_time": "2023-02-01T04:47:44.638Z"
   },
   {
    "duration": 48,
    "start_time": "2023-02-01T04:47:44.644Z"
   },
   {
    "duration": 709,
    "start_time": "2023-02-01T04:47:44.694Z"
   },
   {
    "duration": 46,
    "start_time": "2023-02-01T04:47:45.405Z"
   },
   {
    "duration": 4,
    "start_time": "2023-02-01T04:47:45.453Z"
   },
   {
    "duration": 34,
    "start_time": "2023-02-01T04:47:45.458Z"
   },
   {
    "duration": 1524,
    "start_time": "2023-02-01T04:47:45.493Z"
   },
   {
    "duration": 659,
    "start_time": "2023-02-01T04:47:47.019Z"
   },
   {
    "duration": 424,
    "start_time": "2023-02-01T04:47:47.679Z"
   },
   {
    "duration": 1690,
    "start_time": "2023-02-01T04:47:48.105Z"
   },
   {
    "duration": 800,
    "start_time": "2023-02-01T04:47:49.796Z"
   },
   {
    "duration": 1421,
    "start_time": "2023-02-01T04:47:50.597Z"
   },
   {
    "duration": 1707,
    "start_time": "2023-02-01T04:47:52.020Z"
   },
   {
    "duration": 17,
    "start_time": "2023-02-01T04:47:53.729Z"
   },
   {
    "duration": 1845,
    "start_time": "2023-02-01T04:47:53.748Z"
   },
   {
    "duration": 839,
    "start_time": "2023-02-01T04:47:55.595Z"
   },
   {
    "duration": 1297,
    "start_time": "2023-02-01T04:47:56.436Z"
   },
   {
    "duration": 2137,
    "start_time": "2023-02-01T04:47:57.735Z"
   },
   {
    "duration": 940,
    "start_time": "2023-02-01T04:47:59.874Z"
   },
   {
    "duration": 1818,
    "start_time": "2023-02-01T04:48:00.816Z"
   },
   {
    "duration": 723,
    "start_time": "2023-02-01T04:51:19.301Z"
   },
   {
    "duration": 593,
    "start_time": "2023-02-01T04:51:52.335Z"
   },
   {
    "duration": 634,
    "start_time": "2023-02-01T04:54:46.293Z"
   },
   {
    "duration": 1241,
    "start_time": "2023-02-01T11:13:38.653Z"
   },
   {
    "duration": 747,
    "start_time": "2023-02-01T11:13:39.896Z"
   },
   {
    "duration": 14,
    "start_time": "2023-02-01T11:13:40.647Z"
   },
   {
    "duration": 110,
    "start_time": "2023-02-01T11:13:40.664Z"
   },
   {
    "duration": 287,
    "start_time": "2023-02-01T11:13:40.777Z"
   },
   {
    "duration": 76,
    "start_time": "2023-02-01T11:13:41.067Z"
   },
   {
    "duration": 239,
    "start_time": "2023-02-01T11:13:41.144Z"
   },
   {
    "duration": 9,
    "start_time": "2023-02-01T11:13:41.385Z"
   },
   {
    "duration": 27,
    "start_time": "2023-02-01T11:13:41.396Z"
   },
   {
    "duration": 22,
    "start_time": "2023-02-01T11:13:41.425Z"
   },
   {
    "duration": 10,
    "start_time": "2023-02-01T11:13:41.449Z"
   },
   {
    "duration": 31,
    "start_time": "2023-02-01T11:13:41.461Z"
   },
   {
    "duration": 12,
    "start_time": "2023-02-01T11:13:41.509Z"
   },
   {
    "duration": 13,
    "start_time": "2023-02-01T11:13:41.523Z"
   },
   {
    "duration": 15,
    "start_time": "2023-02-01T11:13:41.538Z"
   },
   {
    "duration": 22,
    "start_time": "2023-02-01T11:13:41.555Z"
   },
   {
    "duration": 22,
    "start_time": "2023-02-01T11:13:41.579Z"
   },
   {
    "duration": 5,
    "start_time": "2023-02-01T11:13:41.603Z"
   },
   {
    "duration": 31,
    "start_time": "2023-02-01T11:13:41.610Z"
   },
   {
    "duration": 11,
    "start_time": "2023-02-01T11:13:41.643Z"
   },
   {
    "duration": 180,
    "start_time": "2023-02-01T11:13:41.656Z"
   },
   {
    "duration": 48,
    "start_time": "2023-02-01T11:13:41.837Z"
   },
   {
    "duration": 4,
    "start_time": "2023-02-01T11:13:41.887Z"
   },
   {
    "duration": 4,
    "start_time": "2023-02-01T11:13:41.912Z"
   },
   {
    "duration": 17,
    "start_time": "2023-02-01T11:13:41.917Z"
   },
   {
    "duration": 16,
    "start_time": "2023-02-01T11:13:41.936Z"
   },
   {
    "duration": 12,
    "start_time": "2023-02-01T11:13:41.954Z"
   },
   {
    "duration": 3,
    "start_time": "2023-02-01T11:13:41.967Z"
   },
   {
    "duration": 11,
    "start_time": "2023-02-01T11:13:41.972Z"
   },
   {
    "duration": 25,
    "start_time": "2023-02-01T11:13:41.985Z"
   },
   {
    "duration": 12,
    "start_time": "2023-02-01T11:13:42.012Z"
   },
   {
    "duration": 15,
    "start_time": "2023-02-01T11:13:42.026Z"
   },
   {
    "duration": 12,
    "start_time": "2023-02-01T11:13:42.042Z"
   },
   {
    "duration": 13,
    "start_time": "2023-02-01T11:13:42.056Z"
   },
   {
    "duration": 13,
    "start_time": "2023-02-01T11:13:42.071Z"
   },
   {
    "duration": 25,
    "start_time": "2023-02-01T11:13:42.086Z"
   },
   {
    "duration": 20,
    "start_time": "2023-02-01T11:13:42.113Z"
   },
   {
    "duration": 15,
    "start_time": "2023-02-01T11:13:42.135Z"
   },
   {
    "duration": 14,
    "start_time": "2023-02-01T11:13:42.152Z"
   },
   {
    "duration": 484,
    "start_time": "2023-02-01T11:13:42.171Z"
   },
   {
    "duration": 12,
    "start_time": "2023-02-01T11:13:42.657Z"
   },
   {
    "duration": 25,
    "start_time": "2023-02-01T11:13:42.671Z"
   },
   {
    "duration": 12,
    "start_time": "2023-02-01T11:13:42.698Z"
   },
   {
    "duration": 14,
    "start_time": "2023-02-01T11:13:42.712Z"
   },
   {
    "duration": 115,
    "start_time": "2023-02-01T11:13:42.728Z"
   },
   {
    "duration": 39,
    "start_time": "2023-02-01T11:13:42.845Z"
   },
   {
    "duration": 53,
    "start_time": "2023-02-01T11:13:42.886Z"
   },
   {
    "duration": 4,
    "start_time": "2023-02-01T11:13:42.941Z"
   },
   {
    "duration": 31,
    "start_time": "2023-02-01T11:13:42.948Z"
   },
   {
    "duration": 714,
    "start_time": "2023-02-01T11:13:42.982Z"
   },
   {
    "duration": 56,
    "start_time": "2023-02-01T11:13:43.699Z"
   },
   {
    "duration": 5,
    "start_time": "2023-02-01T11:13:43.756Z"
   },
   {
    "duration": 7,
    "start_time": "2023-02-01T11:13:43.763Z"
   },
   {
    "duration": 1486,
    "start_time": "2023-02-01T11:13:43.772Z"
   },
   {
    "duration": 722,
    "start_time": "2023-02-01T11:13:45.259Z"
   },
   {
    "duration": 504,
    "start_time": "2023-02-01T11:13:45.983Z"
   },
   {
    "duration": 1842,
    "start_time": "2023-02-01T11:13:46.488Z"
   },
   {
    "duration": 818,
    "start_time": "2023-02-01T11:13:48.332Z"
   },
   {
    "duration": 1537,
    "start_time": "2023-02-01T11:13:49.152Z"
   },
   {
    "duration": 1828,
    "start_time": "2023-02-01T11:13:50.691Z"
   },
   {
    "duration": 17,
    "start_time": "2023-02-01T11:13:52.521Z"
   },
   {
    "duration": 1888,
    "start_time": "2023-02-01T11:13:52.540Z"
   },
   {
    "duration": 792,
    "start_time": "2023-02-01T11:13:54.430Z"
   },
   {
    "duration": 1366,
    "start_time": "2023-02-01T11:13:55.224Z"
   },
   {
    "duration": 2248,
    "start_time": "2023-02-01T11:13:56.592Z"
   },
   {
    "duration": 1021,
    "start_time": "2023-02-01T11:13:58.841Z"
   },
   {
    "duration": 1691,
    "start_time": "2023-02-01T11:13:59.864Z"
   }
  ],
  "kernelspec": {
   "display_name": "Python 3 (ipykernel)",
   "language": "python",
   "name": "python3"
  },
  "language_info": {
   "codemirror_mode": {
    "name": "ipython",
    "version": 3
   },
   "file_extension": ".py",
   "mimetype": "text/x-python",
   "name": "python",
   "nbconvert_exporter": "python",
   "pygments_lexer": "ipython3",
   "version": "3.9.13"
  },
  "toc": {
   "base_numbering": 1,
   "nav_menu": {},
   "number_sections": true,
   "sideBar": true,
   "skip_h1_title": true,
   "title_cell": "Table of Contents",
   "title_sidebar": "Contents",
   "toc_cell": false,
   "toc_position": {},
   "toc_section_display": true,
   "toc_window_display": true
  }
 },
 "nbformat": 4,
 "nbformat_minor": 5
}
