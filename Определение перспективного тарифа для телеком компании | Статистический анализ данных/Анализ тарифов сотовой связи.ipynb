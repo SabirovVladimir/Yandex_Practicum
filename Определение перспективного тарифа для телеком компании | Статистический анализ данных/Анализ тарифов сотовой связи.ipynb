{
 "cells": [
  {
   "cell_type": "markdown",
   "metadata": {},
   "source": [
    "## Проект: Анализ тарифов сотовой связи"
   ]
  },
  {
   "cell_type": "markdown",
   "metadata": {},
   "source": [
    "### Описание проекта\n",
    "Вы аналитик компании «Мегалайн» — федерального оператора сотовой связи. Клиентам предлагают два тарифных плана: «Смарт» и «Ультра». Чтобы скорректировать рекламный бюджет, коммерческий департамент хочет понять, какой тариф приносит больше денег.\n",
    "Вам предстоит сделать предварительный анализ тарифов на небольшой выборке клиентов. В вашем распоряжении данные 500 пользователей «Мегалайна»: кто они, откуда, каким тарифом пользуются, сколько звонков и сообщений каждый отправил за 2018-й год. Нужно проанализировать поведение клиентов и сделать вывод — какой тариф лучше.\n",
    "\n",
    "#### Описание тарифов\n",
    "Тариф «Смарт»\n",
    "1.\tЕжемесячная плата: 550 рублей\n",
    "2.\tВключено 500 минут разговора, 50 сообщений и 15 Гб интернет-трафика\n",
    "3.\tСтоимость услуг сверх тарифного пакета: \n",
    "o\tМинута разговора — 3 рубля. Количество использованных минут и мегабайтов «Мегалайн» всегда округляет вверх. Если пользователь проговорил всего 1 секунду, в тарифе засчитывается целая минута.\n",
    "o\tСообщение — 3 рубля.\n",
    "o\t1 Гб интернет-трафика — 200 рублей.\n",
    "\n",
    "Тариф «Ультра»\n",
    "1.\tЕжемесячная плата: 1950 рублей\n",
    "2.\tВключено 3000 минут разговора, 1000 сообщений и 30 Гб интернет-трафика\n",
    "3.\tСтоимость услуг сверх тарифного пакета: \n",
    "o\tМинута разговора — 1 рубль;\n",
    "o\tСообщение — 1 рубль;\n",
    "o\t1 Гб интернет-трафика: 150 рублей.\n"
   ]
  },
  {
   "cell_type": "code",
   "execution_count": null,
   "metadata": {
    "deletable": false
   },
   "outputs": [],
   "source": [
    "# импорт необходимых библиотек\n",
    "import pandas as pd\n",
    "import matplotlib.pyplot as plt\n",
    "from scipy import stats as st\n",
    "import numpy as np\n",
    "import seaborn as sns"
   ]
  },
  {
   "cell_type": "markdown",
   "metadata": {},
   "source": [
    "### Шаг 1. Изучение общей информации о данных."
   ]
  },
  {
   "cell_type": "code",
   "execution_count": null,
   "metadata": {
    "deletable": false
   },
   "outputs": [],
   "source": [
    "# имформацию о звонках сохранил в переменной calls\n",
    "try:\n",
    "    calls = pd.read_csv(r\"D:\\DOCS\\datasets\\анализ тарифов сотовой связи Практикум/calls.csv\")\n",
    "except FileNotFoundError:\n",
    "    calls = pd.read_csv('/datasets/calls.csv')"
   ]
  },
  {
   "cell_type": "code",
   "execution_count": null,
   "metadata": {
    "deletable": false
   },
   "outputs": [],
   "source": [
    "#  вывел первые 5 строк датафрейма calls\n",
    "calls.head(5)"
   ]
  },
  {
   "cell_type": "markdown",
   "metadata": {},
   "source": [
    "Таблица calls — информация о звонках:\n",
    "* id — уникальный номер звонка\n",
    "* call_date — дата звонка\n",
    "* duration — длительность звонка в минутах\n",
    "* user_id — идентификатор пользователя, сделавшего звонок"
   ]
  },
  {
   "cell_type": "code",
   "execution_count": null,
   "metadata": {
    "deletable": false
   },
   "outputs": [],
   "source": [
    "# вывел основную информацию для датафрейма calls\n",
    "calls.info()"
   ]
  },
  {
   "cell_type": "code",
   "execution_count": null,
   "metadata": {
    "deletable": false
   },
   "outputs": [],
   "source": [
    "# вывел гистограмму для столбца с продолжительностью звонков.\n",
    "calls['duration'].hist()\n",
    "plt.xlabel('Длительность звонков')\n",
    "plt.ylabel('Количество пользователей')\n",
    "plt.title('Оценка длительности звонков пользователей');"
   ]
  },
  {
   "cell_type": "code",
   "execution_count": null,
   "metadata": {
    "deletable": false
   },
   "outputs": [],
   "source": [
    "# имформацию об интернет- сеесиях сохранил в переменной sessions\n",
    "try:\n",
    "    sessions = pd.read_csv(r\"D:\\DOCS\\datasets\\анализ тарифов сотовой связи Практикум/internet.csv\")\n",
    "except FileNotFoundError:\n",
    "    sessions = pd.read_csv('/datasets/internet.csv')"
   ]
  },
  {
   "cell_type": "code",
   "execution_count": null,
   "metadata": {
    "deletable": false
   },
   "outputs": [],
   "source": [
    "#  вывел первые 5 стрк датафрейма sessions\n",
    "sessions.head(5)"
   ]
  },
  {
   "cell_type": "markdown",
   "metadata": {},
   "source": [
    "Таблица internet — информация об интернет-сессиях:\n",
    "* id — уникальный номер сессии\n",
    "* mb_used — объём потраченного за сессию интернет-трафика (в мегабайтах)\n",
    "* session_date — дата интернет-сессии\n",
    "* user_id — идентификатор пользователя\n"
   ]
  },
  {
   "cell_type": "code",
   "execution_count": null,
   "metadata": {
    "deletable": false
   },
   "outputs": [],
   "source": [
    "# вывел основную информацию для датафрейма sessions\n",
    "sessions.info()"
   ]
  },
  {
   "cell_type": "code",
   "execution_count": null,
   "metadata": {
    "deletable": false
   },
   "outputs": [],
   "source": [
    "sessions['mb_used'].hist()\n",
    "plt.xlabel('Объем потраченного трафика')\n",
    "plt.ylabel('Количество пользователей')\n",
    "plt.title('Оценка потрачченного трафика за интернет сессию');"
   ]
  },
  {
   "cell_type": "code",
   "execution_count": null,
   "metadata": {
    "deletable": false
   },
   "outputs": [],
   "source": [
    "# имформацию о сообщениях сохранил в переменной messages\n",
    "try:\n",
    "    messages = pd.read_csv(r\"D:\\DOCS\\datasets\\анализ тарифов сотовой связи Практикум/messages.csv\")\n",
    "except FileNotFoundError:\n",
    "    messages  = pd.read_csv('/datasets/messages.csv')"
   ]
  },
  {
   "cell_type": "code",
   "execution_count": null,
   "metadata": {
    "deletable": false
   },
   "outputs": [],
   "source": [
    "# вывел первые 5 строк датафрейма messages\n",
    "messages.head(5)"
   ]
  },
  {
   "cell_type": "markdown",
   "metadata": {},
   "source": [
    "Таблица messages — информация о сообщениях:\n",
    "* id — уникальный номер звонка\n",
    "* message_date — дата сообщения\n",
    "* user_id — идентификатор пользователя, отправившего сообщение"
   ]
  },
  {
   "cell_type": "code",
   "execution_count": null,
   "metadata": {
    "deletable": false
   },
   "outputs": [],
   "source": [
    "# вывел основную информацию для датафрейма messages\n",
    "messages.info()"
   ]
  },
  {
   "cell_type": "code",
   "execution_count": null,
   "metadata": {
    "deletable": false
   },
   "outputs": [],
   "source": [
    "# имформацию о тарифах сохранил в переменной tariffs\n",
    "try:\n",
    "    tariffs = pd.read_csv(r\"D:\\DOCS\\datasets\\анализ тарифов сотовой связи Практикум/tariffs.csv\")\n",
    "except FileNotFoundError:\n",
    "    tariffs  = pd.read_csv('/datasets/tariffs.csv')"
   ]
  },
  {
   "cell_type": "code",
   "execution_count": null,
   "metadata": {
    "deletable": false
   },
   "outputs": [],
   "source": [
    "# вывел весь датафрейм tariffs.\n",
    "tariffs"
   ]
  },
  {
   "cell_type": "markdown",
   "metadata": {},
   "source": [
    "Таблица tariffs — информация о тарифах:\n",
    "* tariff_name — название тарифа\n",
    "* rub_monthly_fee — ежемесячная абонентская плата в рублях\n",
    "* minutes_included — количество минут разговора в месяц, включённых в абонентскую плату\n",
    "* messages_included — количество сообщений в месяц, включённых в абонентскую плату\n",
    "* mb_per_month_included — объём интернет-трафика, включённого в абонентскую плату (в мегабайтах)\n",
    "* rub_per_minute — стоимость минуты разговора сверх тарифного пакета (например, если в тарифе 100 минут разговора в месяц, то со 101 минуты будет взиматься плата)\n",
    "* rub_per_message — стоимость отправки сообщения сверх тарифного пакета\n",
    "* rub_per_gb — стоимость дополнительного гигабайта интернет-трафика сверх тарифного пакета (1 гигабайт = 1024 мегабайта)"
   ]
  },
  {
   "cell_type": "code",
   "execution_count": null,
   "metadata": {
    "deletable": false
   },
   "outputs": [],
   "source": [
    "# вывел основную информацию для датафрейма tariffs\n",
    "tariffs.info()"
   ]
  },
  {
   "cell_type": "code",
   "execution_count": null,
   "metadata": {
    "deletable": false
   },
   "outputs": [],
   "source": [
    "# имформацию о пользователях сохранил в переменной users\n",
    "try:\n",
    "    users = pd.read_csv(r\"D:\\DOCS\\datasets\\анализ тарифов сотовой связи Практикум/users.csv\")\n",
    "except FileNotFoundError:\n",
    "    users  = pd.read_csv('/datasets/users.csv')"
   ]
  },
  {
   "cell_type": "code",
   "execution_count": null,
   "metadata": {
    "deletable": false
   },
   "outputs": [],
   "source": [
    "# вывел первые 5 строк датафрейма users\n",
    "users.head(5)"
   ]
  },
  {
   "cell_type": "markdown",
   "metadata": {},
   "source": [
    "Таблица users — информация о пользователях:\n",
    "* user_id — уникальный идентификатор пользователя\n",
    "* first_name — имя пользователя\n",
    "* last_name — фамилия пользователя\n",
    "* age — возраст пользователя (годы)\n",
    "* reg_date — дата подключения тарифа (день, месяц, год)\n",
    "* churn_date — дата прекращения пользования тарифом (если значение пропущено, значит, тариф ещё действовал на момент выгрузки данных)\n",
    "* city — город проживания пользователя\n",
    "* tarif — название тарифного плана"
   ]
  },
  {
   "cell_type": "code",
   "execution_count": null,
   "metadata": {
    "deletable": false
   },
   "outputs": [],
   "source": [
    "# вывел основную информацию для датафрейма users\n",
    "users.info()"
   ]
  },
  {
   "cell_type": "markdown",
   "metadata": {},
   "source": [
    "### Шаг 2.  Подготовка данных"
   ]
  },
  {
   "cell_type": "code",
   "execution_count": null,
   "metadata": {
    "deletable": false
   },
   "outputs": [],
   "source": [
    "# привел столбцы с датой и временем к другому типу\n",
    "users['reg_date'] = pd.to_datetime(users['reg_date'],format='%Y-%m-%d') \n",
    "users['churn_date'] = pd.to_datetime(users['churn_date'],format='%Y-%m-%d') \n",
    "calls['call_date'] = pd.to_datetime(calls['call_date'],format='%Y-%m-%d') \n",
    "messages['message_date'] = pd.to_datetime(messages['message_date'],format='%Y-%m-%d') \n",
    "sessions['session_date'] = pd.to_datetime(sessions['session_date'],format='%Y-%m-%d')"
   ]
  },
  {
   "cell_type": "code",
   "execution_count": null,
   "metadata": {},
   "outputs": [],
   "source": [
    "# вывел описание столбца продолжительности звонков\n",
    "calls['duration'].describe()"
   ]
  },
  {
   "cell_type": "markdown",
   "metadata": {},
   "source": [
    "В данных выявлены звонки с нулевой продолжительностью. Это не ошибка: нулями обозначены пропущенные звонки, поэтому их не нужно удалять.\n"
   ]
  },
  {
   "cell_type": "code",
   "execution_count": null,
   "metadata": {
    "deletable": false
   },
   "outputs": [],
   "source": [
    "# округлил значений столбца duration и привел тип к int\n",
    "calls['duration'] = np.ceil(calls['duration']).astype('int')"
   ]
  },
  {
   "cell_type": "code",
   "execution_count": null,
   "metadata": {
    "deletable": false
   },
   "outputs": [],
   "source": [
    "# удалил столбец Unnamed: 0 из датафрейма sessions\n",
    "sessions = sessions.drop(['Unnamed: 0'], axis=1)"
   ]
  },
  {
   "cell_type": "code",
   "execution_count": null,
   "metadata": {
    "deletable": false
   },
   "outputs": [],
   "source": [
    "# создал столбец month в датафрейме calls с номером месяца из столбца call_date\n",
    "calls['month'] = calls['call_date'].dt.month"
   ]
  },
  {
   "cell_type": "code",
   "execution_count": null,
   "metadata": {
    "deletable": false
   },
   "outputs": [],
   "source": [
    "# cоздал столбец month в датафрейме messages с номером месяца из столбца message_date.\n",
    "messages['month'] = messages['message_date'].dt.month"
   ]
  },
  {
   "cell_type": "code",
   "execution_count": null,
   "metadata": {
    "deletable": false
   },
   "outputs": [],
   "source": [
    "# cоздал столбец month в датафрейме sessions с номером месяца из столбца session_date\n",
    "sessions['month'] = sessions['session_date'].dt.month"
   ]
  },
  {
   "cell_type": "code",
   "execution_count": null,
   "metadata": {
    "deletable": false
   },
   "outputs": [],
   "source": [
    "# подсчитал количества звонков для каждого пользователя по месяцам\n",
    "calls_per_month = calls.groupby(['user_id','month']).agg(calls=('duration','count'))"
   ]
  },
  {
   "cell_type": "code",
   "execution_count": null,
   "metadata": {
    "deletable": false
   },
   "outputs": [],
   "source": [
    "# вывод 30 первых строк на экран\n",
    "calls_per_month.head(30)"
   ]
  },
  {
   "cell_type": "code",
   "execution_count": null,
   "metadata": {
    "deletable": false
   },
   "outputs": [],
   "source": [
    "# подсчёт израсходованных минут для каждого пользователя по месяцам\n",
    "minutes_per_month = calls.groupby(['user_id','month']).agg(minutes=('duration','sum'))"
   ]
  },
  {
   "cell_type": "code",
   "execution_count": null,
   "metadata": {
    "deletable": false
   },
   "outputs": [],
   "source": [
    "# вывод первых 30 строк на экран\n",
    "minutes_per_month.head(30)"
   ]
  },
  {
   "cell_type": "code",
   "execution_count": null,
   "metadata": {
    "deletable": false
   },
   "outputs": [],
   "source": [
    "# подсчёт количества отправленных сообщений для каждого пользователя по месяцам\n",
    "messages_per_month = messages.groupby(['user_id','month']).agg(messages=('message_date','count'))"
   ]
  },
  {
   "cell_type": "code",
   "execution_count": null,
   "metadata": {
    "deletable": false
   },
   "outputs": [],
   "source": [
    "# вывод первых 30 строк на экран\n",
    "messages_per_month.head(30)"
   ]
  },
  {
   "cell_type": "code",
   "execution_count": null,
   "metadata": {
    "deletable": false
   },
   "outputs": [],
   "source": [
    "# подсчёт потраченных мегабайт для каждого пользователя по месяцам\n",
    "sessions_per_month = sessions.groupby(['user_id','month']).agg({'mb_used':'sum'})"
   ]
  },
  {
   "cell_type": "code",
   "execution_count": null,
   "metadata": {
    "deletable": false
   },
   "outputs": [],
   "source": [
    "# вывод первых 30 строк на экран\n",
    "sessions_per_month.head(30)"
   ]
  },
  {
   "cell_type": "markdown",
   "metadata": {},
   "source": [
    "### Шаг 3.  Анализ данных и подсчёт выручки"
   ]
  },
  {
   "cell_type": "code",
   "execution_count": null,
   "metadata": {
    "deletable": false,
    "scrolled": true
   },
   "outputs": [],
   "source": [
    "print('Процент расторгнувших договор клиентов составляет:', users['churn_date'].count() / users['churn_date'].shape[0] * 100)"
   ]
  },
  {
   "cell_type": "code",
   "execution_count": null,
   "metadata": {
    "deletable": false
   },
   "outputs": [],
   "source": [
    "# объединил все посчитанные выше значения в один датафрейм user_behavior\n",
    "user_behavior = calls_per_month\\\n",
    "    .merge(messages_per_month, left_index=True, right_index=True, how='outer')\\\n",
    "    .merge(sessions_per_month, left_index=True, right_index=True, how='outer')\\\n",
    "    .merge(minutes_per_month, left_index=True, right_index=True, how='outer')\\\n",
    "    .reset_index()\\\n",
    "    .merge(users, how='left', left_on='user_id', right_on='user_id')\\\n",
    "\n",
    "user_behavior.head()"
   ]
  },
  {
   "cell_type": "code",
   "execution_count": null,
   "metadata": {
    "deletable": false
   },
   "outputs": [],
   "source": [
    "# проверил количество пропусков в полученном датафрейме\n",
    "user_behavior.isna().sum()"
   ]
  },
  {
   "cell_type": "code",
   "execution_count": null,
   "metadata": {
    "deletable": false
   },
   "outputs": [],
   "source": [
    "# заполнил пропуски 0\n",
    "user_behavior['calls'] = user_behavior['calls'].fillna(0)\n",
    "user_behavior['minutes'] = user_behavior['minutes'].fillna(0)\n",
    "user_behavior['messages'] = user_behavior['messages'].fillna(0)\n",
    "user_behavior['mb_used'] = user_behavior['mb_used'].fillna(0)"
   ]
  },
  {
   "cell_type": "code",
   "execution_count": null,
   "metadata": {
    "deletable": false
   },
   "outputs": [],
   "source": [
    "# переименование столбца tariff_name на более простое tariff\n",
    "tariffs = tariffs.rename(columns={'tariff_name': 'tariff'})"
   ]
  },
  {
   "cell_type": "code",
   "execution_count": null,
   "metadata": {
    "deletable": false
   },
   "outputs": [],
   "source": [
    "# добавил столбец tariffs к датафрейму user_behavior\n",
    "user_behavior = user_behavior.merge(tariffs, on='tariff')"
   ]
  },
  {
   "cell_type": "code",
   "execution_count": null,
   "metadata": {
    "deletable": false
   },
   "outputs": [],
   "source": [
    "# посчитал количество минут разговора, сообщений и мегабайт, превышающих включенные в тариф\n",
    "user_behavior['paid_minutes'] = user_behavior['minutes'] - user_behavior['minutes_included']\n",
    "user_behavior['paid_messages'] = user_behavior['messages'] - user_behavior['messages_included']\n",
    "user_behavior['paid_mb'] = user_behavior['mb_used'] - user_behavior['mb_per_month_included']\n",
    "\n",
    "for col in ['paid_messages', 'paid_minutes', 'paid_mb']:\n",
    "    user_behavior.loc[user_behavior[col] < 0, col] = 0"
   ]
  },
  {
   "cell_type": "code",
   "execution_count": null,
   "metadata": {
    "deletable": false
   },
   "outputs": [],
   "source": [
    "# перевел превышающие тариф мегабайты в гигабайты и сохранил в столбец paid_gb\n",
    "user_behavior['paid_gb'] = np.ceil(user_behavior['paid_mb'] / 1024).astype(int)"
   ]
  },
  {
   "cell_type": "code",
   "execution_count": null,
   "metadata": {
    "deletable": false
   },
   "outputs": [],
   "source": [
    "# посчитал выручку за минуты разговора, сообщения и интернет\n",
    "user_behavior['cost_minutes'] = user_behavior['paid_minutes'] * user_behavior['rub_per_minute']\n",
    "user_behavior['cost_messages'] = user_behavior['paid_messages'] * user_behavior['rub_per_message']\n",
    "user_behavior['cost_gb'] = user_behavior['paid_gb'] * user_behavior['rub_per_gb']"
   ]
  },
  {
   "cell_type": "code",
   "execution_count": null,
   "metadata": {
    "deletable": false
   },
   "outputs": [],
   "source": [
    "# посчитал помесячную выручку с каждого пользователя, она будет храниться в столбец total_cost\n",
    "user_behavior['total_cost'] = \\\n",
    "      user_behavior['rub_monthly_fee']\\\n",
    "    + user_behavior['cost_minutes']\\\n",
    "    + user_behavior['cost_messages']\\\n",
    "    + user_behavior['cost_gb']"
   ]
  },
  {
   "cell_type": "code",
   "execution_count": null,
   "metadata": {
    "deletable": false
   },
   "outputs": [],
   "source": [
    "# датафрейм stats_df для каждой пары \"месяц-тариф\" будет хранить основные характеристики\n",
    "\n",
    "stats_df = user_behavior.pivot_table(\n",
    "            index=['month', 'tariff'],\\\n",
    "            values=['calls', 'minutes', 'messages', 'mb_used'],\\\n",
    "            aggfunc=['mean', 'std', 'median']\\\n",
    ").round(2).reset_index()\n",
    "\n",
    "stats_df.columns=['month', 'tariff', 'calls_mean', 'sessions_mean', 'messages_mean', 'minutes_mean',\n",
    "                                     'calls_std',  'sessions_std', 'messages_std', 'minutes_std', \n",
    "                                     'calls_median', 'sessions_median', 'messages_median',  'minutes_median']\n",
    "\n",
    "stats_df.head(10)"
   ]
  },
  {
   "cell_type": "code",
   "execution_count": null,
   "metadata": {
    "deletable": false
   },
   "outputs": [],
   "source": [
    "# распределение среднего количества звонков по видам тарифов и месяцам\n",
    "ax = sns.barplot(x='month',\n",
    "            y='calls_mean',\n",
    "            hue=\"tariff\",\n",
    "            data=stats_df,\n",
    "            palette=['lightblue', 'blue'])\n",
    "ax.set_title('Распределение количества звонков по видам тарифов и месяцам')\n",
    "ax.set(xlabel='Номер месяца', ylabel='Среднее количество звонков')\n",
    "sns.set(rc={'figure.figsize':(8,5)});"
   ]
  },
  {
   "cell_type": "code",
   "execution_count": null,
   "metadata": {
    "deletable": false
   },
   "outputs": [],
   "source": [
    "# cравнение cредней количества звонков среди пользователей тарифов Smart и Ultra\n",
    "user_behavior.groupby('tariff')['calls'].plot(kind='hist', bins=35, alpha=0.5)\n",
    "plt.legend(['Smart', 'Ultra'])\n",
    "plt.xlabel('Количество звонков')\n",
    "plt.ylabel('Количество клиентов')\n",
    "plt.show()"
   ]
  },
  {
   "cell_type": "code",
   "execution_count": null,
   "metadata": {
    "deletable": false
   },
   "outputs": [],
   "source": [
    "# распределение средней продолжительности звонков по видам тарифов и месяцам\n",
    "ax = sns.barplot(x='month',\n",
    "            y='minutes_mean',\n",
    "            hue=\"tariff\",\n",
    "            data=stats_df,\n",
    "            palette=['lightblue', 'blue'])\n",
    "ax.set_title('Распределение продолжительности звонков по видам тарифов и месяцам')\n",
    "ax.set(xlabel='Номер месяца', ylabel='Средняя продолжительность звонков');"
   ]
  },
  {
   "cell_type": "code",
   "execution_count": null,
   "metadata": {},
   "outputs": [],
   "source": [
    "# cравнение cредней длительности разговоров среди пользователей тарифов Smart и Ultra\n",
    "user_behavior.groupby('tariff')['minutes'].plot(kind='hist', bins=35, alpha=0.5)\n",
    "plt.legend(['Smart', 'Ultra'])\n",
    "plt.xlabel('Количество клиентов')\n",
    "plt.ylabel('Продолжительность звонков в минутах')\n",
    "plt.title('Cравнение cредней длительности разговоров среди пользователей тарифов Smart и Ultra')\n",
    "plt.show()"
   ]
  },
  {
   "cell_type": "markdown",
   "metadata": {},
   "source": [
    "#### Средняя длительность разговоров у абонентов тарифа Ultra больше, чем у абонентов тарифа Smart. В течение года пользователи обоих тарифов увеличивают среднюю продолжительность своих разговоров. Рост средней длительности разговоров у абонентов тарифа Smart равномерный в течение года. Пользователи тарифа Ultra не проявляют подобной линейной стабильности. Стоит отметить, что феврале у абонентов обоих тарифных планов наблюдались самые низкие показатели."
   ]
  },
  {
   "cell_type": "code",
   "execution_count": null,
   "metadata": {
    "deletable": false
   },
   "outputs": [],
   "source": [
    "# распределение среднего количества сообщений по видам тарифов и месяцам\n",
    "ax = sns.barplot(x='month',\n",
    "            y='messages_mean',\n",
    "            hue=\"tariff\",\n",
    "            data=stats_df,\n",
    "            palette=['lightblue', 'blue']\n",
    ")\n",
    "ax.set_title('Распределение количества сообщений по видам тарифов и месяцам')\n",
    "ax.set(xlabel='Номер месяца', ylabel='Среднее количество сообщений');"
   ]
  },
  {
   "cell_type": "code",
   "execution_count": null,
   "metadata": {
    "deletable": false
   },
   "outputs": [],
   "source": [
    "# cравнение количества сообщений среди пользователей тарифов Smart и Ultra\n",
    "user_behavior.groupby('tariff')['messages'].plot(kind='hist', bins=35, alpha=0.5)\n",
    "plt.legend(['Smart', 'Ultra'])\n",
    "plt.xlabel('Количество клиентов')\n",
    "plt.ylabel('Количество сообщений')\n",
    "plt.title('Cравнение количества сообщений среди пользователей тарифов Smart и Ultra')\n",
    "plt.show()"
   ]
  },
  {
   "cell_type": "markdown",
   "metadata": {},
   "source": [
    "#### В среднем количество сообщений пользователи тарифа Ultra отправляют больше - почти на 20 сообщений больше, чем пользователи тарифа Smart. Количество сообщений в течение года на обоих тарифак растет. Динамика по отправке сообщений схожа с тенденциями по длительности разговоров: в феврале отмечено наименьшее количество сообщений за год и пользователи тарифа Ultra также проявляют нелинейную положительную динамику."
   ]
  },
  {
   "cell_type": "code",
   "execution_count": null,
   "metadata": {
    "deletable": false
   },
   "outputs": [],
   "source": [
    "# распределение количества потраченного трафика (Мб) по видам тарифов и месяцам\n",
    "ax = sns.barplot(x='month',\n",
    "            y='sessions_mean',\n",
    "            hue=\"tariff\",\n",
    "            data=stats_df,\n",
    "            palette=['lightblue', 'blue']\n",
    ")\n",
    "ax.set_title('Распределение количества потраченного трафика (Мб) по видам тарифов и месяцам')\n",
    "ax.set(xlabel='Номер месяца', ylabel='Среднее количество мегабайт');"
   ]
  },
  {
   "cell_type": "code",
   "execution_count": null,
   "metadata": {
    "deletable": false,
    "scrolled": false
   },
   "outputs": [],
   "source": [
    "# cравнение потраченных мегабайт среди пользователей тарифов Smart и Ultra\n",
    "user_behavior.groupby('tariff')['mb_used'].plot(kind='hist', bins=35, alpha=0.5)\n",
    "plt.legend(['Smart', 'Ultra'])\n",
    "plt.xlabel('Потраченные мегабайты')\n",
    "plt.ylabel('Количество клиентов')\n",
    "plt.title('Cравнение потраченных мегабайт среди пользователей тарифов Smart и Ultra')\n",
    "plt.show()"
   ]
  },
  {
   "cell_type": "markdown",
   "metadata": {},
   "source": [
    "#### Меньше всего пользователи использовали интернет в январе, феврале и апреле. Чаще всего абоненты тарифа Smart тратят 15-17 Гб, а абоненты тарифного плана Ultra - 19-21 ГБ."
   ]
  },
  {
   "cell_type": "markdown",
   "metadata": {},
   "source": [
    "### Шаг 4.  Проверка гипотез"
   ]
  },
  {
   "cell_type": "markdown",
   "metadata": {},
   "source": [
    "#### Проверка гипотезы: средняя выручка пользователей тарифов «Ультра» и «Смарт» различаются"
   ]
  },
  {
   "cell_type": "markdown",
   "metadata": {},
   "source": [
    "#### Формулирование гипотез:\n",
    "* H_0: Выручка (total_cost) пользователей \"Ультра\" = выручка (total_cost) пользователей \"Смарт\"`\n",
    "* H_a: Выручка (total_cost) пользователей \"Ультра\" ≠ выручка (total_cost) пользователей \"Смарт\"`\n",
    "* alpha = 0.05"
   ]
  },
  {
   "cell_type": "code",
   "execution_count": null,
   "metadata": {
    "deletable": false,
    "scrolled": true
   },
   "outputs": [],
   "source": [
    "smart = user_behavior[user_behavior['tariff']=='smart']['total_cost']\n",
    "ultra = user_behavior[user_behavior['tariff']=='ultra']['total_cost']\n",
    "\n",
    "# results = вызов метода для проверки гипотезы\n",
    "results = st.ttest_ind(smart,ultra,equal_var=False)\n",
    "\n",
    "# alpha = задайте значение уровня значимости\n",
    "alpha = 0.05\n",
    "\n",
    "# вывод значения p-value на экран \n",
    "print(results.pvalue)\n",
    "\n",
    "# условный оператор с выводом строки с ответом\n",
    "if results.pvalue < alpha:\n",
    "    print('Отвергаем нулевую гипотезу ')\n",
    "else:\n",
    "    print('Не получилось отвергнуть нулевую гипотезу ')"
   ]
  },
  {
   "cell_type": "markdown",
   "metadata": {},
   "source": [
    "#### Проверка гипотезы: пользователи из Москвы приносят больше выручки, чем пользователи из других городов"
   ]
  },
  {
   "cell_type": "markdown",
   "metadata": {},
   "source": [
    "#### Формулирование гипотез:\n",
    "* H_0: Выручка (total_cost) пользователей из Москвы = выручка (total_cost) пользователей не из Москвы`\n",
    "* H_1: Выручка (total_cost) пользователей из Москвы ≠ выручка (total_cost) пользователей не из Москвы`\n",
    "* alpha = 0.05"
   ]
  },
  {
   "cell_type": "code",
   "execution_count": null,
   "metadata": {
    "deletable": false
   },
   "outputs": [],
   "source": [
    "# results = вызов метода для проверки гипотезы\n",
    "results = st.ttest_ind(\n",
    "    user_behavior[user_behavior['city']=='Москва']['total_cost'], \n",
    "    user_behavior[user_behavior['city']!='Москва']['total_cost'])\n",
    "\n",
    "# alpha = задайте значение уровня значимости\n",
    "alpha = 0.05\n",
    "\n",
    "# вывод значения p-value на экран \n",
    "print(results.pvalue)\n",
    "\n",
    "# условный оператор с выводом строки с ответом\n",
    "if results.pvalue < alpha:\n",
    "    print('Отвергаем нулевую гипотезу')\n",
    "else:\n",
    "    print('Не получилось отвергнуть нулевую гипотезу')"
   ]
  },
  {
   "cell_type": "markdown",
   "metadata": {},
   "source": [
    "### Общий вывод\n",
    "* Средняя длительность разговоров у абонентов тарифа Ultra больше, чем у абонентов тарифа Smart. В течение года пользователи обоих тарифов увеличивают среднюю продолжительность своих разговоров. Рост средней длительности разговоров у абонентов тарифа Smart равномерный в течение года. Пользователи тарифа Ultra не проявляют подобной линейной стабильности. Стоит отметить, что феврале у абонентов обоих тарифных планов наблюдались самые низкие показатели.\n",
    "* В среднем количество сообщений пользователи тарифа Ultra отправляют больше - почти на 20 сообщений больше, чем пользователи тарифа Smart. Количество сообщений в течение года на обоих тарифак растет. Динамика по отправке сообщений схожа с тенденциями по длительности разговоров: в феврале отмечено наименьшее количество сообщений за год и пользователи тарифа Ultra также проявляют нелинейную положительную динамику.\n",
    "* Меньше всего пользователи использовали интернет в январе, феврале и апреле. Чаще всего абоненты тарифа Smart тратят 15-17 Гб, а абоненты тарифного плана Ultra - 19-21 ГБ.\n",
    "\n",
    "* При проверке гипотезы о равенстве средней выручки пользователей тарифов «Ультра» и «Смарт» - с количестве выручки найдены существенные расличия. Средняя выручка пользователей тарифа «Ультра» НЕ РАВНА средней выручке пользователей тарифа «Смарт».\n",
    "* При проверке гипотезы о превышении количества выручки, приходящей от пользователей Москвы, над выручкой, приходящей от пользователей из других городов. В выручке между пользователями из Москвы и польльзователями из других городов не выявлено значимых различий. Выручка, приходящая от пользователей из Москвы РАВНА выручке, приходящей от пользователей из других городов."
   ]
  },
  {
   "cell_type": "code",
   "execution_count": null,
   "metadata": {},
   "outputs": [],
   "source": []
  }
 ],
 "metadata": {
  "ExecuteTimeLog": [
   {
    "duration": 76,
    "start_time": "2022-12-06T03:49:05.485Z"
   },
   {
    "duration": 389,
    "start_time": "2022-12-06T03:49:11.489Z"
   },
   {
    "duration": 310,
    "start_time": "2022-12-06T03:49:13.879Z"
   },
   {
    "duration": 19,
    "start_time": "2022-12-06T03:49:16.711Z"
   },
   {
    "duration": 28,
    "start_time": "2022-12-06T03:49:49.262Z"
   },
   {
    "duration": 27,
    "start_time": "2022-12-06T03:50:48.412Z"
   },
   {
    "duration": 578,
    "start_time": "2022-12-06T03:50:55.500Z"
   },
   {
    "duration": 167,
    "start_time": "2022-12-06T03:51:09.288Z"
   },
   {
    "duration": 218,
    "start_time": "2022-12-06T03:53:00.814Z"
   },
   {
    "duration": 10,
    "start_time": "2022-12-06T03:53:59.255Z"
   },
   {
    "duration": 23,
    "start_time": "2022-12-06T03:55:11.849Z"
   },
   {
    "duration": 149,
    "start_time": "2022-12-06T03:55:50.680Z"
   },
   {
    "duration": 349,
    "start_time": "2022-12-06T03:57:14.264Z"
   },
   {
    "duration": 8,
    "start_time": "2022-12-06T03:57:45.297Z"
   },
   {
    "duration": 29,
    "start_time": "2022-12-06T03:58:18.276Z"
   },
   {
    "duration": 83,
    "start_time": "2022-12-06T03:59:06.751Z"
   },
   {
    "duration": 18,
    "start_time": "2022-12-06T03:59:29.155Z"
   },
   {
    "duration": 9,
    "start_time": "2022-12-06T03:59:39.950Z"
   },
   {
    "duration": 10,
    "start_time": "2022-12-06T04:00:41.323Z"
   },
   {
    "duration": 92,
    "start_time": "2022-12-06T04:01:55.355Z"
   },
   {
    "duration": 10,
    "start_time": "2022-12-06T04:02:31.565Z"
   },
   {
    "duration": 10,
    "start_time": "2022-12-06T04:03:22.682Z"
   },
   {
    "duration": 7,
    "start_time": "2022-12-06T05:47:23.757Z"
   },
   {
    "duration": 5,
    "start_time": "2022-12-06T05:47:46.249Z"
   },
   {
    "duration": 48,
    "start_time": "2022-12-06T05:49:57.945Z"
   },
   {
    "duration": 46,
    "start_time": "2022-12-06T05:50:33.085Z"
   },
   {
    "duration": 44,
    "start_time": "2022-12-06T05:51:41.293Z"
   },
   {
    "duration": 40,
    "start_time": "2022-12-06T05:52:10.321Z"
   },
   {
    "duration": 100,
    "start_time": "2022-12-06T05:54:41.643Z"
   },
   {
    "duration": 60,
    "start_time": "2022-12-06T05:54:53.128Z"
   },
   {
    "duration": 8,
    "start_time": "2022-12-06T06:06:21.136Z"
   },
   {
    "duration": 10,
    "start_time": "2022-12-06T06:10:35.830Z"
   },
   {
    "duration": 7,
    "start_time": "2022-12-06T06:10:45.846Z"
   },
   {
    "duration": 10,
    "start_time": "2022-12-06T06:14:33.521Z"
   },
   {
    "duration": 19,
    "start_time": "2022-12-06T06:14:42.698Z"
   },
   {
    "duration": 8,
    "start_time": "2022-12-06T06:16:37.048Z"
   },
   {
    "duration": 30,
    "start_time": "2022-12-06T06:19:31.236Z"
   },
   {
    "duration": 19,
    "start_time": "2022-12-06T06:20:52.076Z"
   },
   {
    "duration": 20,
    "start_time": "2022-12-06T06:21:50.337Z"
   },
   {
    "duration": 13,
    "start_time": "2022-12-06T07:07:19.146Z"
   },
   {
    "duration": 48,
    "start_time": "2022-12-06T07:07:29.333Z"
   },
   {
    "duration": 7,
    "start_time": "2022-12-06T07:08:37.127Z"
   },
   {
    "duration": 25,
    "start_time": "2022-12-06T07:08:46.069Z"
   },
   {
    "duration": 10,
    "start_time": "2022-12-06T07:08:47.476Z"
   },
   {
    "duration": 27,
    "start_time": "2022-12-06T07:12:01.957Z"
   },
   {
    "duration": 9,
    "start_time": "2022-12-06T07:12:25.423Z"
   },
   {
    "duration": 8,
    "start_time": "2022-12-06T07:29:22.037Z"
   },
   {
    "duration": 14,
    "start_time": "2022-12-06T07:29:24.985Z"
   },
   {
    "duration": 13,
    "start_time": "2022-12-06T07:31:16.374Z"
   },
   {
    "duration": 16,
    "start_time": "2022-12-06T07:32:44.990Z"
   },
   {
    "duration": 8,
    "start_time": "2022-12-06T07:32:48.109Z"
   },
   {
    "duration": 52,
    "start_time": "2022-12-06T07:35:08.045Z"
   },
   {
    "duration": 22,
    "start_time": "2022-12-06T07:35:14.347Z"
   },
   {
    "duration": 15,
    "start_time": "2022-12-06T07:35:16.322Z"
   },
   {
    "duration": 8,
    "start_time": "2022-12-06T08:46:38.853Z"
   },
   {
    "duration": 8,
    "start_time": "2022-12-06T08:48:54.870Z"
   },
   {
    "duration": 440,
    "start_time": "2022-12-06T08:49:20.810Z"
   },
   {
    "duration": 36,
    "start_time": "2022-12-06T08:49:21.434Z"
   },
   {
    "duration": 3,
    "start_time": "2022-12-06T08:49:52.529Z"
   },
   {
    "duration": 221,
    "start_time": "2022-12-06T08:49:52.535Z"
   },
   {
    "duration": 10,
    "start_time": "2022-12-06T08:49:52.757Z"
   },
   {
    "duration": 44,
    "start_time": "2022-12-06T08:49:52.770Z"
   },
   {
    "duration": 171,
    "start_time": "2022-12-06T08:49:52.816Z"
   },
   {
    "duration": 134,
    "start_time": "2022-12-06T08:49:52.990Z"
   },
   {
    "duration": 11,
    "start_time": "2022-12-06T08:49:53.126Z"
   },
   {
    "duration": 49,
    "start_time": "2022-12-06T08:49:53.140Z"
   },
   {
    "duration": 171,
    "start_time": "2022-12-06T08:49:53.190Z"
   },
   {
    "duration": 92,
    "start_time": "2022-12-06T08:49:53.363Z"
   },
   {
    "duration": 8,
    "start_time": "2022-12-06T08:49:53.457Z"
   },
   {
    "duration": 39,
    "start_time": "2022-12-06T08:49:53.466Z"
   },
   {
    "duration": 27,
    "start_time": "2022-12-06T08:49:53.507Z"
   },
   {
    "duration": 8,
    "start_time": "2022-12-06T08:49:53.535Z"
   },
   {
    "duration": 17,
    "start_time": "2022-12-06T08:49:53.546Z"
   },
   {
    "duration": 33,
    "start_time": "2022-12-06T08:49:53.564Z"
   },
   {
    "duration": 10,
    "start_time": "2022-12-06T08:49:53.599Z"
   },
   {
    "duration": 91,
    "start_time": "2022-12-06T08:49:53.611Z"
   },
   {
    "duration": 106,
    "start_time": "2022-12-06T08:49:53.704Z"
   },
   {
    "duration": 4,
    "start_time": "2022-12-06T08:49:53.812Z"
   },
   {
    "duration": 18,
    "start_time": "2022-12-06T08:49:53.818Z"
   },
   {
    "duration": 66,
    "start_time": "2022-12-06T08:49:53.837Z"
   },
   {
    "duration": 23,
    "start_time": "2022-12-06T08:49:53.905Z"
   },
   {
    "duration": 24,
    "start_time": "2022-12-06T08:49:53.930Z"
   },
   {
    "duration": 25,
    "start_time": "2022-12-06T08:49:53.956Z"
   },
   {
    "duration": 13,
    "start_time": "2022-12-06T08:49:53.982Z"
   },
   {
    "duration": 34,
    "start_time": "2022-12-06T08:49:53.997Z"
   },
   {
    "duration": 10,
    "start_time": "2022-12-06T08:49:54.043Z"
   },
   {
    "duration": 23,
    "start_time": "2022-12-06T08:49:54.056Z"
   },
   {
    "duration": 7,
    "start_time": "2022-12-06T08:49:54.082Z"
   },
   {
    "duration": 20,
    "start_time": "2022-12-06T08:49:54.091Z"
   },
   {
    "duration": 10,
    "start_time": "2022-12-06T08:49:54.113Z"
   },
   {
    "duration": 14,
    "start_time": "2022-12-06T08:49:54.124Z"
   },
   {
    "duration": 45,
    "start_time": "2022-12-06T08:49:54.140Z"
   },
   {
    "duration": 8,
    "start_time": "2022-12-06T08:49:54.187Z"
   },
   {
    "duration": 13,
    "start_time": "2022-12-06T08:49:54.196Z"
   },
   {
    "duration": 25,
    "start_time": "2022-12-06T08:49:54.210Z"
   },
   {
    "duration": 10,
    "start_time": "2022-12-06T08:49:54.237Z"
   },
   {
    "duration": 25,
    "start_time": "2022-12-06T08:49:54.250Z"
   },
   {
    "duration": 60,
    "start_time": "2022-12-06T08:49:54.277Z"
   },
   {
    "duration": 18,
    "start_time": "2022-12-06T08:49:54.338Z"
   },
   {
    "duration": 27,
    "start_time": "2022-12-06T08:49:54.358Z"
   },
   {
    "duration": 60,
    "start_time": "2022-12-06T08:49:54.387Z"
   },
   {
    "duration": 362,
    "start_time": "2022-12-06T08:49:54.448Z"
   },
   {
    "duration": 274,
    "start_time": "2022-12-06T08:49:54.812Z"
   },
   {
    "duration": 314,
    "start_time": "2022-12-06T08:49:55.089Z"
   },
   {
    "duration": 222,
    "start_time": "2022-12-06T08:49:55.407Z"
   },
   {
    "duration": 347,
    "start_time": "2022-12-06T08:49:55.635Z"
   },
   {
    "duration": 229,
    "start_time": "2022-12-06T08:49:55.984Z"
   },
   {
    "duration": 305,
    "start_time": "2022-12-06T08:49:56.215Z"
   },
   {
    "duration": 255,
    "start_time": "2022-12-06T08:49:56.522Z"
   },
   {
    "duration": 3,
    "start_time": "2022-12-06T08:49:56.779Z"
   },
   {
    "duration": 3,
    "start_time": "2022-12-06T08:50:03.213Z"
   },
   {
    "duration": 1049,
    "start_time": "2022-12-06T08:50:04.519Z"
   },
   {
    "duration": 39,
    "start_time": "2022-12-06T08:50:34.077Z"
   },
   {
    "duration": 37,
    "start_time": "2022-12-06T08:51:08.485Z"
   },
   {
    "duration": 9,
    "start_time": "2022-12-06T09:00:04.706Z"
   },
   {
    "duration": 3,
    "start_time": "2022-12-06T09:26:00.474Z"
   },
   {
    "duration": 335,
    "start_time": "2022-12-06T09:26:00.479Z"
   },
   {
    "duration": 9,
    "start_time": "2022-12-06T09:26:00.816Z"
   },
   {
    "duration": 118,
    "start_time": "2022-12-06T09:26:00.826Z"
   },
   {
    "duration": 190,
    "start_time": "2022-12-06T09:26:00.946Z"
   },
   {
    "duration": 141,
    "start_time": "2022-12-06T09:26:01.138Z"
   },
   {
    "duration": 9,
    "start_time": "2022-12-06T09:26:01.281Z"
   },
   {
    "duration": 49,
    "start_time": "2022-12-06T09:26:01.292Z"
   },
   {
    "duration": 144,
    "start_time": "2022-12-06T09:26:01.344Z"
   },
   {
    "duration": 99,
    "start_time": "2022-12-06T09:26:01.490Z"
   },
   {
    "duration": 7,
    "start_time": "2022-12-06T09:26:01.591Z"
   },
   {
    "duration": 52,
    "start_time": "2022-12-06T09:26:01.600Z"
   },
   {
    "duration": 46,
    "start_time": "2022-12-06T09:26:01.655Z"
   },
   {
    "duration": 7,
    "start_time": "2022-12-06T09:26:01.703Z"
   },
   {
    "duration": 15,
    "start_time": "2022-12-06T09:26:01.712Z"
   },
   {
    "duration": 39,
    "start_time": "2022-12-06T09:26:01.729Z"
   },
   {
    "duration": 9,
    "start_time": "2022-12-06T09:26:01.770Z"
   },
   {
    "duration": 31,
    "start_time": "2022-12-06T09:26:01.781Z"
   },
   {
    "duration": 96,
    "start_time": "2022-12-06T09:26:01.814Z"
   },
   {
    "duration": 6,
    "start_time": "2022-12-06T09:26:01.911Z"
   },
   {
    "duration": 15,
    "start_time": "2022-12-06T09:26:01.918Z"
   },
   {
    "duration": 54,
    "start_time": "2022-12-06T09:26:01.935Z"
   },
   {
    "duration": 31,
    "start_time": "2022-12-06T09:26:01.991Z"
   },
   {
    "duration": 26,
    "start_time": "2022-12-06T09:26:02.024Z"
   },
   {
    "duration": 37,
    "start_time": "2022-12-06T09:26:02.052Z"
   },
   {
    "duration": 35,
    "start_time": "2022-12-06T09:26:02.090Z"
   },
   {
    "duration": 92,
    "start_time": "2022-12-06T09:26:02.127Z"
   },
   {
    "duration": 32,
    "start_time": "2022-12-06T09:26:02.221Z"
   },
   {
    "duration": 55,
    "start_time": "2022-12-06T09:26:02.254Z"
   },
   {
    "duration": 34,
    "start_time": "2022-12-06T09:26:02.310Z"
   },
   {
    "duration": 31,
    "start_time": "2022-12-06T09:26:02.345Z"
   },
   {
    "duration": 20,
    "start_time": "2022-12-06T09:26:02.377Z"
   },
   {
    "duration": 66,
    "start_time": "2022-12-06T09:26:02.398Z"
   },
   {
    "duration": 189,
    "start_time": "2022-12-06T09:26:02.466Z"
   },
   {
    "duration": 14,
    "start_time": "2022-12-06T09:26:02.658Z"
   },
   {
    "duration": 33,
    "start_time": "2022-12-06T09:26:02.674Z"
   },
   {
    "duration": 24,
    "start_time": "2022-12-06T09:26:02.712Z"
   },
   {
    "duration": 20,
    "start_time": "2022-12-06T09:26:02.738Z"
   },
   {
    "duration": 19,
    "start_time": "2022-12-06T09:26:02.760Z"
   },
   {
    "duration": 41,
    "start_time": "2022-12-06T09:26:02.781Z"
   },
   {
    "duration": 27,
    "start_time": "2022-12-06T09:26:02.824Z"
   },
   {
    "duration": 89,
    "start_time": "2022-12-06T09:26:02.853Z"
   },
   {
    "duration": 163,
    "start_time": "2022-12-06T09:26:02.943Z"
   },
   {
    "duration": 312,
    "start_time": "2022-12-06T09:26:03.108Z"
   },
   {
    "duration": 265,
    "start_time": "2022-12-06T09:26:03.421Z"
   },
   {
    "duration": 316,
    "start_time": "2022-12-06T09:26:03.688Z"
   },
   {
    "duration": 241,
    "start_time": "2022-12-06T09:26:04.006Z"
   },
   {
    "duration": 286,
    "start_time": "2022-12-06T09:26:04.249Z"
   },
   {
    "duration": 323,
    "start_time": "2022-12-06T09:26:04.537Z"
   },
   {
    "duration": 342,
    "start_time": "2022-12-06T09:26:04.862Z"
   },
   {
    "duration": 241,
    "start_time": "2022-12-06T09:26:05.206Z"
   },
   {
    "duration": 3,
    "start_time": "2022-12-06T09:26:05.449Z"
   },
   {
    "duration": 45,
    "start_time": "2022-12-06T09:26:05.454Z"
   },
   {
    "duration": 36,
    "start_time": "2022-12-06T09:26:05.501Z"
   },
   {
    "duration": 9,
    "start_time": "2022-12-06T11:19:19.391Z"
   },
   {
    "duration": 8,
    "start_time": "2022-12-06T11:20:19.921Z"
   },
   {
    "duration": 25,
    "start_time": "2022-12-06T11:21:01.626Z"
   },
   {
    "duration": 10,
    "start_time": "2022-12-06T11:21:18.252Z"
   },
   {
    "duration": 14,
    "start_time": "2022-12-06T11:33:52.847Z"
   },
   {
    "duration": 9,
    "start_time": "2022-12-06T11:35:18.706Z"
   },
   {
    "duration": 9,
    "start_time": "2022-12-06T11:36:08.881Z"
   },
   {
    "duration": 8,
    "start_time": "2022-12-06T11:36:37.226Z"
   },
   {
    "duration": 12,
    "start_time": "2022-12-06T11:40:18.231Z"
   }
  ],
  "kernelspec": {
   "display_name": "Python 3 (ipykernel)",
   "language": "python",
   "name": "python3"
  },
  "language_info": {
   "codemirror_mode": {
    "name": "ipython",
    "version": 3
   },
   "file_extension": ".py",
   "mimetype": "text/x-python",
   "name": "python",
   "nbconvert_exporter": "python",
   "pygments_lexer": "ipython3",
   "version": "3.9.13"
  },
  "toc": {
   "base_numbering": 1,
   "nav_menu": {},
   "number_sections": true,
   "sideBar": true,
   "skip_h1_title": true,
   "title_cell": "Table of Contents",
   "title_sidebar": "Contents",
   "toc_cell": false,
   "toc_position": {},
   "toc_section_display": true,
   "toc_window_display": false
  }
 },
 "nbformat": 4,
 "nbformat_minor": 2
}
