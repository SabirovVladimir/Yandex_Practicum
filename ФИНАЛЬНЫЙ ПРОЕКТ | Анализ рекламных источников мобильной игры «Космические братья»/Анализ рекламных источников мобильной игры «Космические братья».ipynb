{
 "cells": [
  {
   "cell_type": "markdown",
   "id": "1a78a7fd",
   "metadata": {},
   "source": [
    "## Проект \"Анализ рекламных источников мобильной игры «Космические братья»\"."
   ]
  },
  {
   "cell_type": "markdown",
   "id": "e2dd0992",
   "metadata": {},
   "source": [
    "## Описание проекта.\n",
    "Вы — аналитик мобильной игры «Космические братья». Необходимо проанализировать и определить наиболее выгодные источники трафика. Составить рекомендации для отдела маркетинга."
   ]
  },
  {
   "cell_type": "markdown",
   "id": "fc0173e0",
   "metadata": {},
   "source": [
    "### Ссылка на дашборд\n",
    "https://public.tableau.com/app/profile/vladimir.sabirov/viz/_16822628162880/sheet2\n",
    "\n",
    "### Ссылка на презентацию\n",
    "https://drive.google.com/file/d/1gnxinYAPTnxWdJGv-vDOMlrcIRWEhCcM/view?usp=sharing"
   ]
  },
  {
   "cell_type": "markdown",
   "id": "8bfdae18",
   "metadata": {},
   "source": [
    "## План выполнения работы.\n",
    "\n",
    "### Шаг 1. Ознакомление с данными и предобработка.\n",
    "* Загрузка данных о событиях, источниках, стоимости привлечения.\n",
    "* Изучение данных и выполнение предобработки.\n",
    "* Проверка данных на наличие дубликатов и пропусков.\n",
    "* Приведение типов данных во всех колонках к соответстующим сохраненным в нихзначениям.\n",
    "\n",
    "Промежуточные выводы.\n",
    "\n",
    "### Шаг 2. Исследовательский анализ данных.\n",
    "* Определение минимальной и максимальной даты привлечения.\n",
    "* Определение общего количества пользователей, пришедших из каждого источника, за весь период наблюдения.\n",
    "* Определение общей стоимости кликов по каждому источнику за весь период\n",
    "* Определение количества пользователей в разбикве по источникам и датам. (pivot table)\n",
    "* Построение визуализации количества пользователей в разбикве по источникам и датам (heatmap)\n",
    "* Определение количества активированных пользователей в разбикве по источникам и датам. (pivot table)\n",
    "* Построение визуализации количества активированных пользователей в разбикве по источникам и по датам. (heatmap)\n",
    "* Определение процента активированных пользователей от количества пришедших в разбивке по датам. (Конверсия)\n",
    "* Определение времени активации в разбивке по датам (диаграмма boxplot).\n",
    "* Определение количества построенных зданий в разбивке по их типам.\n",
    "* Определение количества активированных пользователей в разбивке по методам прохождения уровня.\n",
    "* Определение времени активации в разбивке по стратегиям заверешения уровня (диаграммы boxplot).\n",
    "* Расчет DAU, WAU, sticky factor.\n",
    "* Расчет CAC.\n",
    "* (Так как у нас ограниченный по времени только первым уровнем датафрем расчет LTV, Retention Rate невозможен).\n",
    "* (Для расчета ROMI в данных также недостаточно информации в связи с неизвестной суммой, которая будет приходить при каждом показе рекламы на экране постройки).\n",
    "\n",
    "Промежуточные выводы.\n",
    "\n",
    "### Шаг 3. Проверка статистических гипотез \n",
    "Гипотеза 1: время завершения уровня различается в зависимости от способа прохождения:\n",
    "* H0: различий во времени прохождения в зависимости от стратегии прохождения нет.\n",
    "* H1: различия во времени прохождения в зависимости от стратегии прохождения есть.\n",
    " \n",
    "Гипотеза 2: количество построенных объектов не различается в зависимоси от канала привлечения:\n",
    "* H0: количество построек не зависит от канала привлечения пользователя.\n",
    "* H1: количество построек зависит от канала привлечения пользователя.\n",
    "\n",
    "Промежуточные выводы.\n",
    "\n",
    "### Шаг 4. Общий вывод. Рекомендации."
   ]
  },
  {
   "cell_type": "code",
   "execution_count": null,
   "id": "28a974b9",
   "metadata": {},
   "outputs": [],
   "source": [
    "# импортирую библиотеки\n",
    "import pandas as pd \n",
    "import matplotlib.pyplot as plt \n",
    "import seaborn as sns \n",
    "import numpy as np \n",
    "from scipy import stats as st \n",
    "import datetime as dt\n",
    "#dateparse = lambda x: dt.strptime(x, '%Y-%m-%d %H:%M:%S')\n",
    "#dateparse_1 = lambda x: dt.strptime(x, '%Y-%m-%d')\n",
    "import plotly.express as px\n",
    "from plotly import graph_objects as go\n",
    "import numpy as np\n",
    "import math as mth\n",
    "from scipy import stats as st"
   ]
  },
  {
   "cell_type": "code",
   "execution_count": null,
   "id": "bcedda62",
   "metadata": {},
   "outputs": [],
   "source": [
    "sns.set(style=\"whitegrid\", palette=\"pastel\", color_codes=True) "
   ]
  },
  {
   "cell_type": "markdown",
   "id": "fbc4bb34",
   "metadata": {},
   "source": [
    "## Шаг 1. Ознакомление с данными и предобработка."
   ]
  },
  {
   "cell_type": "code",
   "execution_count": null,
   "id": "9719bb69",
   "metadata": {},
   "outputs": [],
   "source": [
    "# загружаю данные\n",
    "try:\n",
    "    actions = pd.read_csv(r\"D:\\DOCS\\datasets\\Финальный проект/game_actions.csv\", parse_dates=['event_datetime'])\n",
    "    source = pd.read_csv(r\"D:\\DOCS\\datasets\\Финальный проект/user_source.csv\")\n",
    "    costs = pd.read_csv(r\"D:\\DOCS\\datasets\\Финальный проект/ad_costs.csv\", parse_dates=['day'])\n",
    "except FileNotFoundError:\n",
    "    actions = pd.read_csv('/datasets/game_actions.csv', parse_dates=['event_datetime'])\n",
    "    source = pd.read_csv('/datasets/user_source.csv')\n",
    "    costs = pd.read_csv('/datasets/ad_costs.csv', parse_dates=['day'])"
   ]
  },
  {
   "cell_type": "code",
   "execution_count": null,
   "id": "146bdbbc",
   "metadata": {
    "scrolled": true
   },
   "outputs": [],
   "source": [
    "# вывожу первые 10 строк датафрейма actions\n",
    "def basic_information(x):\n",
    "    display(x.head(10));\n",
    "    x.info();\n",
    "    print('*'*50)\n",
    "    print('Дубликатов',x.duplicated().sum());\n",
    "    x.drop_duplicates().reset_index(drop=True);\n",
    "    print('*'*50);\n",
    "    print('Количество пропусков');\n",
    "    display(x.isna().sum());"
   ]
  },
  {
   "cell_type": "markdown",
   "id": "f70c33ef",
   "metadata": {},
   "source": [
    "Датасет *game_actions.csv*:\n",
    "\n",
    "- `event_datetime` — время события;\n",
    "- `event` — одно из трёх событий:\n",
    "    1. `building` — объект построен,\n",
    "    2. `finished_stage_1` — первый уровень завершён,\n",
    "    3. `project` — проект завершён;\n",
    "- `building_type` — один из трёх типов здания:\n",
    "    1. `assembly_shop` — сборочный цех,\n",
    "    2. `spaceport` — космопорт,\n",
    "    3. `research_center` — исследовательский центр;\n",
    "- `user_id` — идентификатор пользователя;\n",
    "- `project_type` — тип реализованного проекта;"
   ]
  },
  {
   "cell_type": "code",
   "execution_count": null,
   "id": "551b1206",
   "metadata": {},
   "outputs": [],
   "source": [
    "basic_information(actions)"
   ]
  },
  {
   "cell_type": "markdown",
   "id": "31ec6173",
   "metadata": {},
   "source": [
    "Пропуски в столбце building_type обусловлены тем, не каждый эвент это постройка, а в данном столбце отражены типы построек. В столбце project_type пропуски обусловлены тем, что игроки могли не выполнять проект во время своих игровых сессий. Данные пропуски заполнять не нужно, это может повлиять на результаты исследования."
   ]
  },
  {
   "cell_type": "code",
   "execution_count": null,
   "id": "0607df9c",
   "metadata": {},
   "outputs": [],
   "source": [
    "basic_information(source)"
   ]
  },
  {
   "cell_type": "markdown",
   "id": "e53ee44b",
   "metadata": {},
   "source": [
    "Датасет user_source.csv содержит колонки:\n",
    "\n",
    "- `user_id` - идентификатор пользователя\n",
    "- `source` - источников, с которого пришёл пользователь, установивший приложение"
   ]
  },
  {
   "cell_type": "code",
   "execution_count": null,
   "id": "d3942c80",
   "metadata": {},
   "outputs": [],
   "source": [
    "basic_information(costs)"
   ]
  },
  {
   "cell_type": "markdown",
   "id": "ae2dd0ba",
   "metadata": {},
   "source": [
    "Датасет ad_costs.csv:\n",
    "\n",
    "- `day` - день, в который был совершен клик по объявлению\n",
    "- `source` - источник трафика\n",
    "- `cost` - стоимость кликов"
   ]
  },
  {
   "cell_type": "markdown",
   "id": "c50d0fb9",
   "metadata": {},
   "source": [
    "#### Вывод\n",
    "* Получены данные из таблиц: actions (данные о событиях), source (данные об источниках трафика), costs (данные о стоимости трафика из различных источников)\n",
    "* Таблица actions содержала пропуски в столбцах - building_type(тип построенного задания) - 7683 пропусков, project_type(тип выполненного проекта) - 133774 пропусков. Пропуски в столбце building_type обусловлены тем, не каждый эвент это постройка, а в данном столбце отражены типы построек. В столбце project_type пропуски обусловлены тем, что игроки могли не выполнять проект во время своих игровых сессий. Заполнение пропусков не выполнялось так как это может повлиять на результаты исследования. В таблице source  пропуски отсутствуют. В таблице costs пропуски отсутствуют.\n",
    "* В таблице actions выявлен один дубликат. Так как полтеря одной строки не повлияет на результат исследвоания, его решено удалить. Таблицы sourse. costs дубликатов не содержат.\n",
    "* Выполнено приведение к типу datetime столбца event_datetime таблицы actions, содержащего информацию о времени события. Также выполнено приведение к типу datetime столбца day таблицы costs, содержащего информацию о дне, в который был совершен клик по объявлению."
   ]
  },
  {
   "cell_type": "markdown",
   "id": "1e0b0222",
   "metadata": {},
   "source": [
    "## Шаг 2. Исследовательский анализ данных."
   ]
  },
  {
   "cell_type": "markdown",
   "id": "0a28acac",
   "metadata": {},
   "source": [
    "#### Определение минимальной и максимальной даты привлечения."
   ]
  },
  {
   "cell_type": "code",
   "execution_count": null,
   "id": "78d5a124",
   "metadata": {},
   "outputs": [],
   "source": [
    "first_act_day = actions.groupby('user_id').agg({'event_datetime':'min'})\n",
    "print('Минимальная дата привлечения:', first_act_day['event_datetime'].dt.date.min(), \n",
    "      'Максимальная дата привлечения:', first_act_day['event_datetime'].dt.date.max())"
   ]
  },
  {
   "cell_type": "markdown",
   "id": "efc77775",
   "metadata": {},
   "source": [
    "#### Определение общего количества пользователей, пришедших из каждого источника, за весь период наблюдения."
   ]
  },
  {
   "cell_type": "code",
   "execution_count": null,
   "id": "08fddce1",
   "metadata": {},
   "outputs": [],
   "source": [
    "# определил общее количество пользователей, пришедших из каждого источника, за весь период наблюдения.\n",
    "source_grouped = source.groupby('source').agg({'user_id':'count'})\n",
    "source_grouped = source_grouped.sort_values(by ='user_id', ascending= False)"
   ]
  },
  {
   "cell_type": "code",
   "execution_count": null,
   "id": "470b26d9",
   "metadata": {},
   "outputs": [],
   "source": [
    "sns.set(style=\"whitegrid\", palette=\"pastel\", color_codes=True) \n",
    "source_grouped.plot(kind='bar', grid=True, figsize = (15,5), width = 0.2);\n",
    "plt.xlabel('Источник привлечения', fontsize = 15)\n",
    "plt.ylabel('Количество пользователей', fontsize = 15)\n",
    "plt.xticks(rotation=45)\n",
    "plt.title('Количество пользователей, привлеченных в игру в разбивке по источникам', fontsize = 15)\n",
    "plt.show()"
   ]
  },
  {
   "cell_type": "markdown",
   "id": "dc13fbd8",
   "metadata": {},
   "source": [
    "По количеству привлеченных пользователей источники привлечения расположились в следующем порядке:\n",
    " * yandex direct - 4817 пользователей\n",
    " * instagram new adverts - 3347 пользователей\n",
    " * facebook_ads\t- 2726 пользователей\n",
    " * youtube channel reklama - 2686 пользователей "
   ]
  },
  {
   "cell_type": "markdown",
   "id": "5590f6ac",
   "metadata": {},
   "source": [
    "#### Определение общей стоимости кликов по каждому источнику за весь период"
   ]
  },
  {
   "cell_type": "code",
   "execution_count": null,
   "id": "e20c0a0f",
   "metadata": {},
   "outputs": [],
   "source": [
    "# определил общую стоимость кликов по каждому источнику за весь период\n",
    "costs_grouped = costs.groupby('source').agg({'cost':'sum'})\n",
    "costs_grouped = costs_grouped.sort_values(by ='cost', ascending= False)"
   ]
  },
  {
   "cell_type": "code",
   "execution_count": null,
   "id": "f5c40042",
   "metadata": {},
   "outputs": [],
   "source": [
    "sns.set(style=\"whitegrid\", palette=\"pastel\", color_codes=True) \n",
    "costs_grouped.plot(kind='bar', grid=True, figsize = (15,5), width = 0.2);\n",
    "plt.xlabel('Источник привлечения', fontsize = 15)\n",
    "plt.ylabel('Стоимость', fontsize = 15)\n",
    "plt.xticks(rotation=45)\n",
    "plt.title('Общая стоимость кликов по каждому источнику за весь период', fontsize = 15)\n",
    "plt.show()"
   ]
  },
  {
   "cell_type": "markdown",
   "id": "54a8cb3c",
   "metadata": {},
   "source": [
    "По количеству потраченных на привлечение новых пользователей средств источники привлечения расположились в следующем порядке:\n",
    " * yandex direct - 2233.1 ₽\n",
    " * instagram new adverts - 2161.4 ₽\n",
    " * facebook_ads\t- 2140.9 ₽\n",
    " * youtube channel reklama - 1068.1 ₽"
   ]
  },
  {
   "cell_type": "markdown",
   "id": "f29c6d90",
   "metadata": {},
   "source": [
    "#### Определение количества пользователей в разбикве по источникам и датам. (pivot table)"
   ]
  },
  {
   "cell_type": "code",
   "execution_count": null,
   "id": "268a409e",
   "metadata": {},
   "outputs": [],
   "source": [
    "# добавил к таблице actions источник привлечения пользователя\n",
    "actions = actions.merge(source, how='left', on='user_id')"
   ]
  },
  {
   "cell_type": "code",
   "execution_count": null,
   "id": "42db9721",
   "metadata": {},
   "outputs": [],
   "source": [
    "# создал таблицу events в которой для каждого пользователя определена дата первой и последней сесии и источник привлечения\n",
    "events_min = actions.groupby('user_id').agg({'event_datetime':'min'})\n",
    "events_min.rename(columns={'event_datetime': 'first_act_day'}, inplace=True)\n",
    "events_min['first_act_day'] = events_min['first_act_day'].dt.date\n",
    "events_max = actions.groupby('user_id').agg({'event_datetime':'max'})\n",
    "events_max.rename(columns={'event_datetime': 'last_act_day'}, inplace=True)\n",
    "events_max['last_act_day'] = events_max['last_act_day'].dt.date\n",
    "events = events_min.merge(events_max, how='left', on='user_id')\n",
    "events.reset_index()\n",
    "events = events.merge(source, how='left', on='user_id')\n",
    "events"
   ]
  },
  {
   "cell_type": "code",
   "execution_count": null,
   "id": "55b1b27b",
   "metadata": {},
   "outputs": [],
   "source": [
    "# определил количества пользователей в разбикве по источникам и датам..(pivot table)\n",
    "events_date_sourse_pivot = events.pivot_table(index='first_act_day', columns = 'source', values='user_id',aggfunc='count')\n",
    "events_date_sourse_pivot"
   ]
  },
  {
   "cell_type": "markdown",
   "id": "7930536a",
   "metadata": {},
   "source": [
    "Наибольшее количество пользователей по всем источникам было привлечено 04.05.2020. С каждым днем количество привлеченных пользоваттелей снижалось пока не достигло самых низких значений 10.05.2020. Характер распределения по источникам сохранялся на протяжении всех дней наблюдения: yandex_direct → instagram_new_adverts → facebook_ads → youtube_channel_reklama."
   ]
  },
  {
   "cell_type": "markdown",
   "id": "dc917a39",
   "metadata": {},
   "source": [
    "#### Построение визуализации количества пользователей в разбикве по источникам и датам (heatmap)"
   ]
  },
  {
   "cell_type": "code",
   "execution_count": null,
   "id": "6a48c62c",
   "metadata": {},
   "outputs": [],
   "source": [
    "sns.set(style=\"whitegrid\", palette=\"pastel\", color_codes=True) \n",
    "events_date_sourse_pivot.plot(kind='line',grid=True,figsize=(15, 7));\n",
    "plt.xlabel('Дата', fontsize = 15)\n",
    "plt.ylabel('Количество пользователей', fontsize = 15)\n",
    "plt.xticks(rotation=45)\n",
    "plt.title('Количество пользователей, совершивших первую активность в игре, в разбивке по дате и источнику привлечения', fontsize = 15)\n",
    "plt.show()"
   ]
  },
  {
   "cell_type": "code",
   "execution_count": null,
   "id": "8065f2b1",
   "metadata": {},
   "outputs": [],
   "source": [
    "# построил хитмэп количества пользователей в разбикве по источникам и датам.\n",
    "sns.set(rc = {'figure.figsize':(15,8)})\n",
    "sns.heatmap(events_date_sourse_pivot, \n",
    "            annot = True, \n",
    "            fmt=\".0f\", \n",
    "            annot_kws={\"size\":13}, \n",
    "            cmap= 'coolwarm', \n",
    "            linewidths=1, \n",
    "            linecolor='black');"
   ]
  },
  {
   "cell_type": "markdown",
   "id": "e48e03c2",
   "metadata": {},
   "source": [
    "#### Определение количества активированных пользователей в разбикве по источникам и датам. (pivot table)"
   ]
  },
  {
   "cell_type": "code",
   "execution_count": null,
   "id": "272a119b",
   "metadata": {},
   "outputs": [],
   "source": [
    "# выделил из датафрейма actions пользователей, завершивших первый раунд\n",
    "activ_users = actions.loc[actions['event'].values == 'finished_stage_1']\n",
    "activ_users = activ_users[['user_id','event']]\n",
    "# cоединил полученных пользователей, завершивших первый раунд с таблицей events по user_id\n",
    "events = events.merge(activ_users, how='left', on='user_id')"
   ]
  },
  {
   "cell_type": "code",
   "execution_count": null,
   "id": "0351a852",
   "metadata": {},
   "outputs": [],
   "source": [
    "# заменил название колонки завершивших первый раунд на complite_round \n",
    "# со значениями 1-если пользователь завершил раунд, 0 если нет\n",
    "events.rename(columns={'event': 'complite_round'}, inplace=True)\n",
    "events.loc[(events.complite_round == 'finished_stage_1'), 'complite_round'] = 1\n",
    "events['complite_round'] = events['complite_round'].fillna(0)\n",
    "events['day_in_game'] = (events['last_act_day'] - events['first_act_day']).dt.days\n",
    "events"
   ]
  },
  {
   "cell_type": "code",
   "execution_count": null,
   "id": "9cb46b86",
   "metadata": {},
   "outputs": [],
   "source": [
    "activ_users = events.loc[events['complite_round'].values == 1]\n",
    "not_activ_users = events.loc[events['complite_round'].values != 1]\n",
    "print('Медианное количество дней проведенных в игре у активированных пользователей равно:', activ_users['day_in_game'].median())\n",
    "print('Медианное количество дней проведенных в игре у неактивированных пользователей равно:', not_activ_users['day_in_game'].median())"
   ]
  },
  {
   "cell_type": "code",
   "execution_count": null,
   "id": "4fc75f6e",
   "metadata": {},
   "outputs": [],
   "source": [
    "# определил количество активированных пользователей в разбикве по источникам и датам.\n",
    "activ_users_pivot = activ_users.pivot_table(index='first_act_day', columns = 'source', values='user_id',aggfunc='count')\n",
    "activ_users_pivot"
   ]
  },
  {
   "cell_type": "markdown",
   "id": "5b770ba7",
   "metadata": {},
   "source": [
    "Распределение активированных пользователей сохранило тенденции привлеченных в игру. Максимальное количество активированных пришлось на пользователей, совершивших первое действие в игре 04.05.2020 и постепенно снижалось пропорционально количеству привлеченных пользователей, пока не достигло минимума 10.05.2020. По каналам привлечения, количество активированных пользователей распределилось в следующем порядке: yandex_direct → instagram_new_adverts → facebook_ads → youtube_channel_reklama"
   ]
  },
  {
   "cell_type": "code",
   "execution_count": null,
   "id": "c2811d8b",
   "metadata": {},
   "outputs": [],
   "source": [
    "involved_users_pivot = events.pivot_table(index='first_act_day', columns = 'source', values='user_id',aggfunc='count')\n",
    "activ_users_procent_pivot = round((activ_users_pivot / involved_users_pivot *100),2)\n",
    "activ_users_procent_pivot"
   ]
  },
  {
   "cell_type": "markdown",
   "id": "313dced4",
   "metadata": {},
   "source": [
    "#### Построение визуализации количества активированных пользователей в разбикве по источникам и по датам. (heatmap)"
   ]
  },
  {
   "cell_type": "code",
   "execution_count": null,
   "id": "4da28bad",
   "metadata": {},
   "outputs": [],
   "source": [
    "sns.set(style=\"whitegrid\", palette=\"pastel\", color_codes=True) \n",
    "activ_users_pivot.plot(kind='line',grid=True,figsize=(15, 7));\n",
    "plt.xlabel('Дата', fontsize = 15)\n",
    "plt.ylabel('Количество пользователей', fontsize = 15)\n",
    "plt.xticks(rotation=45)\n",
    "plt.title('Количество активированных пользователей в разбивке по дате первого действия и источнику привлечения', fontsize = 15)\n",
    "plt.show()"
   ]
  },
  {
   "cell_type": "code",
   "execution_count": null,
   "id": "6fe45a8f",
   "metadata": {},
   "outputs": [],
   "source": [
    "# построил хитмэп количества активированных пользователей в разбикве по источникам и датам.\n",
    "sns.set(rc = {'figure.figsize':(15,8)})\n",
    "sns.heatmap(activ_users_pivot,annot = True, \n",
    "            fmt=\".0f\", \n",
    "            annot_kws={\"size\":13}, \n",
    "            cmap= 'coolwarm', \n",
    "            linewidths=1, \n",
    "            linecolor='black');"
   ]
  },
  {
   "cell_type": "markdown",
   "id": "f0a78d47",
   "metadata": {},
   "source": [
    "#### Определение процента активированных пользователей от количества пришедших в разбивке по датам. (Конверсия)"
   ]
  },
  {
   "cell_type": "code",
   "execution_count": null,
   "id": "d0d7c820",
   "metadata": {},
   "outputs": [],
   "source": [
    "activ_users_group = activ_users.groupby('source').agg({'user_id':'count'})\n",
    "activ_users_group = activ_users_group.merge(source_grouped, how='left', on='source')\n",
    "activ_users_group.rename(columns={'user_id_y':'involved','user_id_x':'complite_stage_1'}, inplace=True)\n",
    "activ_users_group"
   ]
  },
  {
   "cell_type": "code",
   "execution_count": null,
   "id": "8125e3d3",
   "metadata": {},
   "outputs": [],
   "source": [
    "sns.set(style=\"whitegrid\", palette=\"pastel\", color_codes=True) \n",
    "activ_users_group.plot(kind='bar', grid=True, figsize = (15,5), width = 0.5);\n",
    "plt.xlabel('Источник привлечения', fontsize = 15)\n",
    "plt.ylabel('Количество пользователей', fontsize = 15)\n",
    "plt.xticks(rotation=45)\n",
    "plt.title('Количество пользователей, прошедших первый уровень, в сравнении с общим числом пользователей в разбивке по источникам', fontsize = 15)\n",
    "plt.show()"
   ]
  },
  {
   "cell_type": "code",
   "execution_count": null,
   "id": "49569044",
   "metadata": {},
   "outputs": [],
   "source": [
    "activ_users_group['percent'] = round((activ_users_group['complite_stage_1']/activ_users_group['involved'] *100),2)\n",
    "activ_users_group"
   ]
  },
  {
   "cell_type": "markdown",
   "id": "7e91cc20",
   "metadata": {},
   "source": [
    "Процент активированнх пользователей от общего числа привлеченных за все время пользователей по всем каналам привлечения расположилса в диапозоне 42-44 %. По каналам процент активированных пользователей распределилсяв  следующем порядке: instagram_new_adverts → youtube_channel_reklama → yandex_direct → facebook_ads"
   ]
  },
  {
   "cell_type": "code",
   "execution_count": null,
   "id": "fa4af528",
   "metadata": {},
   "outputs": [],
   "source": [
    "# определил процент активированных пользователей от количества пришедших в разбивке по датам и источникам. (Конверсия)\n",
    "activ_percent_pivot = round((activ_users_pivot / events_date_sourse_pivot *100),1)\n",
    "activ_percent_pivot "
   ]
  },
  {
   "cell_type": "code",
   "execution_count": null,
   "id": "2fc44cfb",
   "metadata": {},
   "outputs": [],
   "source": [
    "sns.set(style=\"whitegrid\", palette=\"pastel\", color_codes=True) \n",
    "activ_percent_pivot.plot(kind='line',grid=True,figsize=(15, 7));\n",
    "plt.xlabel('Дата', fontsize = 15)\n",
    "plt.ylabel('Процент активированнх пользователей', fontsize = 15)\n",
    "plt.xticks(rotation=45)\n",
    "plt.title('Количество активированных пользователей в разбивке по дате первого действия и источнику привлечения', fontsize = 15)\n",
    "plt.show()"
   ]
  },
  {
   "cell_type": "markdown",
   "id": "b92eff6f",
   "metadata": {},
   "source": [
    "#### Определение времени активации в разбивке по датам и источникам (диаграмма boxplot)."
   ]
  },
  {
   "cell_type": "code",
   "execution_count": null,
   "id": "eb94cd67",
   "metadata": {},
   "outputs": [],
   "source": [
    "# определил время активации в разбивке по датам (диаграмма boxplot).\n",
    "# определил id пользователя и время его первого евента, считаем это за время начала активности \n",
    "first_act_time = actions.groupby('user_id').agg({'event_datetime':'min'})\n",
    "first_act_time.rename(columns={'event_datetime': 'first_act'}, inplace=True)\n",
    "first_act_time.reset_index()"
   ]
  },
  {
   "cell_type": "code",
   "execution_count": null,
   "id": "97302b2c",
   "metadata": {},
   "outputs": [],
   "source": [
    "# сделал срез данных в котором хранятся id пользователей завершивших уровень,\n",
    "# время завершения и источник привлечения данного пользователя\n",
    "final_stage_1 = actions.loc[actions['event'].values == 'finished_stage_1']\n",
    "final_stage_1 = final_stage_1[['event_datetime','user_id','source']]\n",
    "final_stage_1.rename(columns={'event_datetime': 'finish_time'}, inplace=True)\n",
    "final_stage_1"
   ]
  },
  {
   "cell_type": "code",
   "execution_count": null,
   "id": "be766729",
   "metadata": {},
   "outputs": [],
   "source": [
    "# соединил по id таблицы с временем начала активности пользователя и временем завершения первого уровня.\n",
    "# высчитал время потраченное на завершение первого уровня\n",
    "activation_time = first_act_time.merge(final_stage_1, how='right', on='user_id')\n",
    "activation_time['time_spent'] = activation_time['finish_time'] - activation_time['first_act']\n",
    "activation_time"
   ]
  },
  {
   "cell_type": "code",
   "execution_count": null,
   "id": "48602497",
   "metadata": {},
   "outputs": [],
   "source": [
    "# определил день начала активности пользователя, чтобы с дальнейшем оценить активность и время до завершения\n",
    "# первого уровня в разбивке по дням привлечения\n",
    "activation_time['first_act_day'] = activation_time['first_act'].dt.date\n",
    "activation_time['hours_spent'] = activation_time['time_spent'].dt.total_seconds().div(3600).apply(\"{:g}\".format)\n",
    "activation_time['hours_spent'] = activation_time['hours_spent'].astype(float)\n",
    "activation_time"
   ]
  },
  {
   "cell_type": "code",
   "execution_count": null,
   "id": "9df1062a",
   "metadata": {},
   "outputs": [],
   "source": [
    "sns.set(style=\"whitegrid\", palette=\"pastel\", color_codes=True) \n",
    "sns.boxplot(data=activation_time, x='hours_spent', y='first_act_day').set(\n",
    "    title='Время активации в разбивке по дате начала активности');"
   ]
  },
  {
   "cell_type": "markdown",
   "id": "e055bd99",
   "metadata": {},
   "source": [
    "В среднем пользователи тратят от 250 до 285 часов на прохождение первого уровня. Важно отметить, количество сессий и их размер отследить по предоставленным данным невозможно. Реальных геймплейных часов может быть гораздо меньше. В данном случае речь идет о времени от первого действия пользователя до завершения первого уровня."
   ]
  },
  {
   "cell_type": "code",
   "execution_count": null,
   "id": "ab3e9af9",
   "metadata": {},
   "outputs": [],
   "source": [
    "sns.set(style=\"whitegrid\", palette=\"pastel\", color_codes=True) \n",
    "sns.boxplot(data=activation_time, x='hours_spent', y='source').set(title='Время активации в разбивке по источникам');"
   ]
  },
  {
   "cell_type": "markdown",
   "id": "db4749f1",
   "metadata": {},
   "source": [
    "При оценке по каналам привлечения существенной разницы во времени прохождения первого уровня не выявлено. Пользователи, привлеченные со всех каналов, в среднем тратят на прохождение первого уровня около 280-285 часов."
   ]
  },
  {
   "cell_type": "markdown",
   "id": "8174ecc7",
   "metadata": {},
   "source": [
    "#### Определение количества построенных зданий в разбивке по их типам."
   ]
  },
  {
   "cell_type": "code",
   "execution_count": null,
   "id": "ce9e8825",
   "metadata": {},
   "outputs": [],
   "source": [
    "# сгруппировал количество построек для каждого пользователя\n",
    "building_event = actions.loc[actions['event'].values == 'building']\n",
    "building_event = building_event.groupby('user_id').agg({'event':'count'})\n",
    "building_event.rename(columns={'event': 'building_count'}, inplace=True)\n",
    "building_event = building_event.reset_index()\n",
    "building_event = building_event.groupby('building_count').agg({'user_id':'count'})\n",
    "building_event.rename(columns={'user_id': 'users_count'}, inplace=True)\n",
    "#building_event = building_event.sort_values(by='users_count', ascending=False);"
   ]
  },
  {
   "cell_type": "code",
   "execution_count": null,
   "id": "dbd6a2fb",
   "metadata": {},
   "outputs": [],
   "source": [
    "sns.set(style=\"whitegrid\", palette=\"pastel\", color_codes=True) \n",
    "building_event.plot(kind='bar', grid=True, figsize = (15,5), width = 0.6);\n",
    "plt.xlabel('Количество возведенных построек', fontsize = 15)\n",
    "plt.ylabel('Количество пользователей', fontsize = 15)\n",
    "plt.xticks(rotation=0)\n",
    "plt.title('Количество возведенных построек в разбивке по количеству пользователей', fontsize = 15)\n",
    "plt.show()"
   ]
  },
  {
   "cell_type": "markdown",
   "id": "b32a16f8",
   "metadata": {},
   "source": [
    "Максимальное количество пользователей за все свои игровые сессии, данные о которых содержатся в исследуемом датасете, строят зданий в порядке убывания количества пользователей 10 → 11 → 6 → 9 → 12 построек."
   ]
  },
  {
   "cell_type": "code",
   "execution_count": null,
   "id": "1ea30489",
   "metadata": {},
   "outputs": [],
   "source": [
    "# определил общее количество построек в разбивке по дням выполнения эвента постройка\n",
    "builds = actions.loc[actions['event'].values == 'building']\n",
    "pd.options.mode.chained_assignment = None\n",
    "builds['event_datetime'] = builds['event_datetime'].dt.date\n",
    "builds.rename(columns={'event_datetime': 'date'}, inplace=True)\n",
    "builds_count = builds.groupby('date').agg({'building_type':'count'})"
   ]
  },
  {
   "cell_type": "code",
   "execution_count": null,
   "id": "34394503",
   "metadata": {},
   "outputs": [],
   "source": [
    "sns.set(style=\"whitegrid\", palette=\"pastel\", color_codes=True) \n",
    "builds_count.plot(kind='bar', grid=True, width = 0.6);\n",
    "plt.xlabel('Дата возведения постройки', fontsize = 15)\n",
    "plt.ylabel('Количество построек', fontsize = 15)\n",
    "plt.xticks(rotation=45)\n",
    "plt.title('Количество возведенных пользователями построек в разбивке по дням', fontsize = 15)\n",
    "plt.show()"
   ]
  },
  {
   "cell_type": "markdown",
   "id": "cdfd2298",
   "metadata": {},
   "source": [
    "Общее количество построек от 04.05.2020 по 10.05.2020 увеличивается. Резко падает 11.05.2020 и постепенно снижается до конечного дня наблюдения. Данная особенность резкого снижения количества построек детально рассмотрена ниже. Спойлер - все из-за сборных цехов."
   ]
  },
  {
   "cell_type": "code",
   "execution_count": null,
   "id": "b629e36b",
   "metadata": {},
   "outputs": [],
   "source": [
    "events_count = actions.groupby('user_id')['event'].count()\n",
    "events_count = events_count.reset_index()\n",
    "events_count_1 = activation_time.merge(events_count, how='left', on='user_id')\n",
    "events_count_table = events_count_1.groupby(['source','first_act_day',]).agg({'user_id':'count','event':'sum'}).reset_index()\n",
    "#events_count_pivot = events_count_table.pivot_table(index='source',columns='first_act_day',values='event')"
   ]
  },
  {
   "cell_type": "code",
   "execution_count": null,
   "id": "ea383445",
   "metadata": {},
   "outputs": [],
   "source": [
    "events_count_pivot = events_count_table.pivot_table(index='source',columns='first_act_day',values='event')\n",
    "events_count_pivot"
   ]
  },
  {
   "cell_type": "code",
   "execution_count": null,
   "id": "d3020573",
   "metadata": {},
   "outputs": [],
   "source": [
    "sns.set(style=\"whitegrid\", palette=\"pastel\", color_codes=True) \n",
    "events_count_pivot.plot(kind='bar',grid=True,figsize=(15, 7));\n",
    "plt.xlabel('Источник', fontsize = 15)\n",
    "plt.ylabel('Количество действий пользователей', fontsize = 15)\n",
    "plt.xticks(rotation=45)\n",
    "plt.title('Количество действий пользователей в разбивке по дате и источнику привлечения', fontsize = 15)\n",
    "plt.show()"
   ]
  },
  {
   "cell_type": "code",
   "execution_count": null,
   "id": "35ca926b",
   "metadata": {},
   "outputs": [],
   "source": [
    "# привожу столбец day к типу datetime\n",
    "costs['day'] = pd.to_datetime(costs['day'], format='%Y-%m-%d')"
   ]
  },
  {
   "cell_type": "code",
   "execution_count": null,
   "id": "4de2ad22",
   "metadata": {},
   "outputs": [],
   "source": [
    "# определил какое количество сборочных цехов пользователи строили в разбивке по датам\n",
    "builds_assembly_shop = builds.loc[builds['building_type'].values == 'assembly_shop']\n",
    "assembly_shop_count = builds_assembly_shop.groupby('date').agg({'building_type':'count'})\n",
    "assembly_shop_count.rename(columns={'building_type': 'assembly_shop_count'}, inplace=True)\n",
    "assembly_shop_count.reset_index();"
   ]
  },
  {
   "cell_type": "markdown",
   "id": "89a11653",
   "metadata": {},
   "source": [
    "Интересно, что сборочный цех, был очень популярен и пользователи стабильно его строили в начале с 04 по 10 мая, затем же пользователи полностью прекратили его строить. Возможно, мы имеем дело с каким-то техническим багом, который не дает возводить данную постройку. Так как монетизация происходит через экран показа построек баги на этм экране приведут к снижению монетизации."
   ]
  },
  {
   "cell_type": "code",
   "execution_count": null,
   "id": "6ae580f6",
   "metadata": {},
   "outputs": [],
   "source": [
    "# определил какое количество космопотров строили пользователи в разбивке по датам\n",
    "builds_spaceport = builds.loc[builds['building_type'].values == 'spaceport']\n",
    "spaceport_count = builds_spaceport.groupby('date').agg({'building_type':'count'})\n",
    "spaceport_count.rename(columns={'building_type': 'spaceport_count'}, inplace=True)\n",
    "spaceport_count.reset_index();"
   ]
  },
  {
   "cell_type": "markdown",
   "id": "d91253b2",
   "metadata": {},
   "source": [
    "Количество построенных космопортов постепенно увеличивается и становится максимальным к 12 мая. Затем постепенно снижается до даты завершения исследования."
   ]
  },
  {
   "cell_type": "code",
   "execution_count": null,
   "id": "290420dc",
   "metadata": {},
   "outputs": [],
   "source": [
    "# определил какое количество исследотельских центров было построено пользователями за период наблюдения\n",
    "builds_research_center = builds.loc[builds['building_type'].values == 'research_center']\n",
    "research_center_count = builds_research_center.groupby('date').agg({'building_type':'count'})\n",
    "research_center_count.rename(columns={'building_type': 'research_center_count'}, inplace=True)\n",
    "research_center_count.reset_index();"
   ]
  },
  {
   "cell_type": "markdown",
   "id": "ec19d84b",
   "metadata": {},
   "source": [
    "В сравнении с космопортом исследвоательский центр - менее популярная постройка. Начинают данный тип постройки возводить только 6 мая. Максимальная активность строительства исследовательского центра, вероятно, обусловлена с другим подходом к прохождению первого уровня, а именно прохождению через выполнение исследвоания, а не через победу над врагом."
   ]
  },
  {
   "cell_type": "code",
   "execution_count": null,
   "id": "db06b959",
   "metadata": {},
   "outputs": [],
   "source": [
    "# сгруппировал все типы построек по дате их возведения.\n",
    "buildings_count = assembly_shop_count.merge(spaceport_count, how='right', on='date')\n",
    "buildings_count = buildings_count.merge(research_center_count, how='left', on='date')\n",
    "buildings_count = buildings_count.fillna(0)\n",
    "buildings_count"
   ]
  },
  {
   "cell_type": "code",
   "execution_count": null,
   "id": "78e58780",
   "metadata": {},
   "outputs": [],
   "source": [
    "sns.set(style=\"whitegrid\", palette=\"pastel\", color_codes=True) \n",
    "buildings_count.plot(kind='bar', grid=True, width = 0.9);\n",
    "plt.xlabel('Дата возведения постройки', fontsize = 15)\n",
    "plt.ylabel('Количество построек', fontsize = 15)\n",
    "plt.xticks(rotation=45)\n",
    "plt.title('Количество построек разных типов в разбивке по дате возведения', fontsize = 15)\n",
    "plt.show()"
   ]
  },
  {
   "cell_type": "markdown",
   "id": "75b1fb5e",
   "metadata": {},
   "source": [
    "Интересно, что сборочный цех был очень популярен и пользователи стабильно его строили в начале с 04 по 10 мая, затем же пользователи полностью прекратили его строить. Возможно, мы имеем дело с каким-то техническим багом, который не дает возводить данную постройку. Так как монетизация происходит через экран показа построек баги на этм экране приведут к снижению монетизации.\n",
    "\n",
    "Количество построенных космопортов постепенно увеличивается и становится максимальным к 12 мая. Затем постепенно снижается до даты завершения исследования.\n",
    "\n",
    "В сравнении с космопортом исследовательский центр - менее популярная постройка. Начинают данный тип постройки возводить только 6 мая. Максимальная активность строительства исследовательского центра, вероятно, обусловлена с другим подходом к прохождению первого уровня, а именно прохождению через выполнение исследования, а не через победу над врагом."
   ]
  },
  {
   "cell_type": "code",
   "execution_count": null,
   "id": "ff7e0878",
   "metadata": {},
   "outputs": [],
   "source": [
    "#определил общее количество выполненных пользователями проектов в разбивке по датам\n",
    "projects = actions.loc[actions['event'].values == 'project']\n",
    "pd.options.mode.chained_assignment = None\n",
    "projects['event_datetime'] = projects['event_datetime'].dt.date\n",
    "projects.rename(columns={'event_datetime': 'date','event':'project_maker'}, inplace=True)\n",
    "projects_count = projects.groupby('date').agg({'project_maker':'count'})"
   ]
  },
  {
   "cell_type": "code",
   "execution_count": null,
   "id": "e0c26265",
   "metadata": {},
   "outputs": [],
   "source": [
    "sns.set(style=\"whitegrid\", palette=\"pastel\", color_codes=True) \n",
    "projects_count.plot(kind='bar', grid=True, width = 0.6);\n",
    "plt.xlabel('Дата выполнения проекта', fontsize = 15)\n",
    "plt.ylabel('Количестов выполненных проектов', fontsize = 15)\n",
    "plt.xticks(rotation=45)\n",
    "plt.title('Количество выполненных пользователями проектов в разбивке по дате выполнения', fontsize = 15)\n",
    "plt.show()"
   ]
  },
  {
   "cell_type": "markdown",
   "id": "65773dc0",
   "metadata": {},
   "source": [
    "Количество реализованных проектов увеличивается с 06.05.2020 и достигает максимального 15.05.2020, за которым идет постепенный спад, сохраняющийся до 05.06.2020"
   ]
  },
  {
   "cell_type": "markdown",
   "id": "f4d9f394",
   "metadata": {},
   "source": [
    "#### Определение количества активированных пользователей в разбивке по методам прохождения уровня."
   ]
  },
  {
   "cell_type": "code",
   "execution_count": null,
   "id": "1ae98ea4",
   "metadata": {},
   "outputs": [],
   "source": [
    "finish_stage = actions[actions['event'] == 'finished_stage_1']\n",
    "finish_stage"
   ]
  },
  {
   "cell_type": "code",
   "execution_count": null,
   "id": "26c113b3",
   "metadata": {},
   "outputs": [],
   "source": [
    "# выявил количество активированных через выполнение проекта пользователей в разбивке по дате активации и каналу привлечения пользователя\n",
    "finish_project = actions[actions['event'] == 'project']\n",
    "finish_stage = actions[actions['event'] == 'finished_stage_1']\n",
    "finish_stage_project = finish_project.query(\"user_id in @finish_stage.user_id\")\n",
    "finish_stage_project['event_datetime'] = finish_stage_project['event_datetime'].dt.date\n",
    "finish_stage_project = finish_stage_project[['event_datetime','user_id','source']]\n",
    "finish_stage_project_pivot = finish_stage_project.pivot_table(index='event_datetime', columns = 'source', values='user_id',aggfunc='count')"
   ]
  },
  {
   "cell_type": "code",
   "execution_count": null,
   "id": "58bc533f",
   "metadata": {},
   "outputs": [],
   "source": [
    "sns.set(style=\"whitegrid\", palette=\"pastel\", color_codes=True) \n",
    "finish_stage_project_pivot.plot(kind='bar', grid=True,  width = 0.9);\n",
    "plt.xlabel('Дата завершения проекта', fontsize = 15)\n",
    "plt.ylabel('Количество пользователей', fontsize = 15)\n",
    "plt.xticks(rotation=45)\n",
    "plt.title('Количество активированных через выполнение проекта пользователей в разбивке по дате активации и каналу привлечения пользователя', fontsize = 15)\n",
    "plt.show()"
   ]
  },
  {
   "cell_type": "code",
   "execution_count": null,
   "id": "2dd3d9c3",
   "metadata": {},
   "outputs": [],
   "source": [
    "finish_stage_project_group = finish_stage_project.groupby(\n",
    "    ['event_datetime',\n",
    "     'source',\n",
    "     ]\n",
    ").agg({'user_id':'count'}).reset_index()\n",
    "\n",
    "finish_stage_project_instagram = finish_stage_project_group[finish_stage_project_group['source'] == 'instagram_new_adverts']\n",
    "finish_stage_project_facebook_ads = finish_stage_project_group[finish_stage_project_group['source'] == 'facebook_ads']\n",
    "finish_stage_project_youtube = finish_stage_project_group[finish_stage_project_group['source'] == 'youtube_channel_reklama']\n",
    "finish_stage_project_yandex = finish_stage_project_group[finish_stage_project_group['source'] == 'yandex_direct']"
   ]
  },
  {
   "cell_type": "code",
   "execution_count": null,
   "id": "457636d1",
   "metadata": {},
   "outputs": [],
   "source": [
    "fig = go.Figure(data=[\n",
    "    go.Bar(name='instagram_new_adverts', x=finish_stage_project_instagram['event_datetime'], y=finish_stage_project_instagram['user_id']),\n",
    "    go.Bar(name='facebook_ads', x=finish_stage_project_facebook_ads['event_datetime'], y=finish_stage_project_facebook_ads['user_id']),\n",
    "    go.Bar(name='youtube_channel_reklama', x=finish_stage_project_youtube['event_datetime'], y=finish_stage_project_youtube['user_id']),\n",
    "    go.Bar(name='yandex_direct', x=finish_stage_project_yandex['event_datetime'], y=finish_stage_project_yandex['user_id']),\n",
    "])\n",
    "\n",
    "fig.update_layout(barmode='group')\n",
    "fig.update_layout(title_text='Количество активированных через выполнение проекта пользователей в разбивке по дате активации и каналу привлечения пользователя', titlefont_size=12,\n",
    "                  xaxis = dict(\n",
    "                      title='Дата',\n",
    "                      titlefont_size=12),\n",
    "                  yaxis=dict(\n",
    "                      title='Количество пользователей',\n",
    "                      titlefont_size=12,\n",
    "                            ))\n",
    "fig.show()"
   ]
  },
  {
   "cell_type": "code",
   "execution_count": null,
   "id": "17f14ecd",
   "metadata": {},
   "outputs": [],
   "source": [
    "# определил количество активированных пользователей не выполнявших проект \n",
    "# в разбивке по дате активации и каналу привлечения пользователя\n",
    "finish_no_project = actions[actions['event'] != 'project']\n",
    "finish_stage_no_project = finish_stage.query(\"user_id in @finish_no_project.user_id\")\n",
    "finish_stage_no_project['event_datetime'] = finish_stage_no_project['event_datetime'].dt.date\n",
    "finish_stage_no_project = finish_stage_no_project[['event_datetime','user_id','source']]\n",
    "finish_stage_no_project_pivot = finish_stage_no_project.pivot_table(index='event_datetime', columns = 'source', values='user_id',aggfunc='count')"
   ]
  },
  {
   "cell_type": "code",
   "execution_count": null,
   "id": "795f5596",
   "metadata": {},
   "outputs": [],
   "source": [
    "sns.set(style=\"whitegrid\", palette=\"pastel\", color_codes=True) \n",
    "finish_stage_no_project_pivot.plot(kind='bar', grid=True,  width = 0.9);\n",
    "plt.xlabel('Дата', fontsize = 15)\n",
    "plt.ylabel('Количество пользователей', fontsize = 15)\n",
    "plt.xticks(rotation=45)\n",
    "plt.title('Количество активированных пользователей не выполнявших проект в разбивке по дате активации и каналу привлечения', fontsize = 15)\n",
    "plt.show()"
   ]
  },
  {
   "cell_type": "code",
   "execution_count": null,
   "id": "7fb03e1f",
   "metadata": {},
   "outputs": [],
   "source": [
    "finish_stage_no_project_group = finish_stage_no_project.groupby(\n",
    "    ['event_datetime',\n",
    "     'source',\n",
    "     ]\n",
    ").agg({'user_id':'count'}).reset_index()\n",
    "\n",
    "finish_stage_no_project_instagram = finish_stage_no_project_group[finish_stage_no_project_group['source'] == 'instagram_new_adverts']\n",
    "finish_stage_no_project_facebook_ads = finish_stage_no_project_group[finish_stage_no_project_group['source'] == 'facebook_ads']\n",
    "finish_stage_no_project_youtube = finish_stage_no_project_group[finish_stage_no_project_group['source'] == 'youtube_channel_reklama']\n",
    "finish_stage_no_project_yandex = finish_stage_no_project_group[finish_stage_no_project_group['source'] == 'yandex_direct']"
   ]
  },
  {
   "cell_type": "code",
   "execution_count": null,
   "id": "04e72feb",
   "metadata": {},
   "outputs": [],
   "source": [
    "fig = go.Figure(data=[\n",
    "    go.Bar(name='instagram_new_adverts', x=finish_stage_no_project_instagram['event_datetime'], y=finish_stage_no_project_instagram['user_id']),\n",
    "    go.Bar(name='facebook_ads', x=finish_stage_no_project_facebook_ads['event_datetime'], y=finish_stage_no_project_facebook_ads['user_id']),\n",
    "    go.Bar(name='youtube_channel_reklama', x=finish_stage_no_project_youtube['event_datetime'], y=finish_stage_no_project_youtube['user_id']),\n",
    "    go.Bar(name='yandex_direct', x=finish_stage_no_project_yandex['event_datetime'], y=finish_stage_no_project_yandex['user_id']),\n",
    "])\n",
    "\n",
    "fig.update_layout(barmode='group')\n",
    "fig.update_layout(title_text='Количество активированных пользователей не выполнявших проект в разбивке по дате активации и каналу привлечения', titlefont_size=12,\n",
    "                  xaxis = dict(\n",
    "                      title='Дата',\n",
    "                      titlefont_size=12),\n",
    "                  yaxis=dict(\n",
    "                      title='Количество пользователей',\n",
    "                      titlefont_size=12,\n",
    "                            ))\n",
    "fig.show()"
   ]
  },
  {
   "cell_type": "markdown",
   "id": "9a64d25e",
   "metadata": {},
   "source": [
    "#### Определение времени активации в разбивке по стратегиям заверешения уровня, по источникам и дате начала активности (диаграммы boxplot)."
   ]
  },
  {
   "cell_type": "code",
   "execution_count": null,
   "id": "e4f29cc7",
   "metadata": {},
   "outputs": [],
   "source": [
    "finish_stage_project_time = finish_stage_project.merge(activation_time, how='inner', on='user_id')\n",
    "print('Медианное количество часов потраченных пользователями на прохождение первого уровня через реализацию провекта равно:',\n",
    "      finish_stage_project_time['hours_spent'].median(),'часов, или', \n",
    "      round(((finish_stage_project_time['hours_spent'].median())/60),1),'дней')"
   ]
  },
  {
   "cell_type": "code",
   "execution_count": null,
   "id": "dab5da0b",
   "metadata": {},
   "outputs": [],
   "source": [
    "sns.set(style=\"whitegrid\", palette=\"pastel\", color_codes=True) \n",
    "sns.boxplot(data=finish_stage_project_time, x='hours_spent', y='first_act_day').set(\n",
    "    title='Время активации пользователей, выполнявших проект, в разбивке по дате начала игры');"
   ]
  },
  {
   "cell_type": "markdown",
   "id": "99e4ae37",
   "metadata": {},
   "source": [
    "В среднем пользователи тратят на прохождение первого уровня через реализацию проекта от 310 до 370 часов."
   ]
  },
  {
   "cell_type": "code",
   "execution_count": null,
   "id": "818a9f64",
   "metadata": {},
   "outputs": [],
   "source": [
    "sns.set(style=\"whitegrid\", palette=\"pastel\", color_codes=True) \n",
    "sns.boxplot(data=finish_stage_project_time, x='hours_spent', y='source_x').set(\n",
    "    title='Время активации пользователей, выполнявших проект, в разбивке по источнику привлечения');"
   ]
  },
  {
   "cell_type": "markdown",
   "id": "eb6dfa87",
   "metadata": {},
   "source": [
    "В разбивке по каналам привлечения пользователи тратят на прохождение первого уровня через реализацию проекта от 310 до 320 часов"
   ]
  },
  {
   "cell_type": "code",
   "execution_count": null,
   "id": "71e705a4",
   "metadata": {},
   "outputs": [],
   "source": [
    "finish_stage_no_project_time = finish_stage_no_project.merge(activation_time, how='inner', on='user_id')\n",
    "print('Медианное количество часов потраченных пользователями на прохождение первого уровня через победу над врагом равно:',\n",
    "      finish_stage_no_project_time['hours_spent'].median(),'часов, или', \n",
    "      round(((finish_stage_project_time['hours_spent'].median())/60),1),'дней')"
   ]
  },
  {
   "cell_type": "code",
   "execution_count": null,
   "id": "6580c38c",
   "metadata": {},
   "outputs": [],
   "source": [
    "sns.set(style=\"whitegrid\", palette=\"pastel\", color_codes=True) \n",
    "sns.boxplot(data=finish_stage_no_project_time, x='hours_spent', y='first_act_day').set(\n",
    "    title='Время активации пользователей, не выполнявших проект, в разбивке по дате начала игры');"
   ]
  },
  {
   "cell_type": "markdown",
   "id": "063fa2f9",
   "metadata": {},
   "source": [
    "В среднем пользователи тратят на прохождение первого уровня через победу над врагом от 250 до 290 часов. Что существенно меньше, чем время, потраченное на прохождение первого уровня через реализацию проекта."
   ]
  },
  {
   "cell_type": "code",
   "execution_count": null,
   "id": "9eccb471",
   "metadata": {},
   "outputs": [],
   "source": [
    "sns.set(style=\"whitegrid\", palette=\"pastel\", color_codes=True) \n",
    "sns.boxplot(data=finish_stage_no_project_time, x='hours_spent', y='source_x').set(\n",
    "    title='Время активации пользователей, не выполнявших проект, в разбивке по источнику привлечения');"
   ]
  },
  {
   "cell_type": "markdown",
   "id": "da60cc4e",
   "metadata": {},
   "source": [
    "В разбивке по каналам привлечения пользователи тратят на прохождение первого уровня через победу над врагом от 260 до 270 часов. Что существенно меньше чем пользователи, которые проходят первый уровень через реализацию проекта."
   ]
  },
  {
   "cell_type": "markdown",
   "id": "d10bf137",
   "metadata": {},
   "source": [
    "#### Расчет DAU, WAU, sticky factor"
   ]
  },
  {
   "cell_type": "code",
   "execution_count": null,
   "id": "34dd4ffc",
   "metadata": {},
   "outputs": [],
   "source": [
    "actions['activity_week'] = actions['event_datetime'].dt.isocalendar().week\n",
    "source_wau = actions.pivot_table(index='activity_week', columns='source', values='user_id', aggfunc='nunique')\n",
    "\n",
    "sns.set(style=\"whitegrid\", palette=\"pastel\", color_codes=True) \n",
    "source_wau.plot(figsize = (14,8), marker = 'o');\n",
    "plt.title('Количество выполненных действий пользователей в разбивке по неделям и источникам', fontsize=17);\n",
    "plt.xlabel('Неделя', fontsize = 15) \n",
    "plt.ylabel('Количество действий пользователей', fontsize = 15);"
   ]
  },
  {
   "cell_type": "code",
   "execution_count": null,
   "id": "e28324ee",
   "metadata": {},
   "outputs": [],
   "source": [
    "actions['activity_day'] = actions['event_datetime'].dt.date\n",
    "source_dau = actions.pivot_table(index='activity_day', columns='source', values='user_id', aggfunc='nunique')\n",
    "\n",
    "sns.set(style=\"whitegrid\", palette=\"pastel\", color_codes=True) \n",
    "source_dau.plot(figsize = (14,8), marker = 'o');\n",
    "plt.title('Количество выполненных действий пользователей в разбивке по дням и источникам', fontsize=17);\n",
    "plt.xlabel('Дата', fontsize = 15) \n",
    "plt.ylabel('Количество действий пользователей', fontsize = 15);"
   ]
  },
  {
   "cell_type": "markdown",
   "id": "ec54cd6c",
   "metadata": {},
   "source": [
    "Количество выполненных пользователями действий увеличивается с начала наблюдения 04.05.2020 по 10.05.2020. Затем происходит резкий спад активности 11.05.2020 с постепенным снижением количества действий до конца наблюдений. Вероятно, это связано с невозможностью построить очень популярный с 04.05.2020 по 10.05.2020 сборочный цех. По каналам привлечения пользователей количество выполненных действий в день снижается в следующем порядке: yandex_direct → instagram_new_adverts → facebook_ads → youtube_channel_reklama."
   ]
  },
  {
   "cell_type": "markdown",
   "id": "68f79bfa",
   "metadata": {},
   "source": [
    "По каналам привлечения пользователей количество выполненных действий в неделю снижается в следующем порядке: yandex_direct → instagram_new_adverts → facebook_ads → youtube_channel_reklama."
   ]
  },
  {
   "cell_type": "code",
   "execution_count": null,
   "id": "2017fd58",
   "metadata": {},
   "outputs": [],
   "source": [
    "sticky_wau = actions.groupby(['activity_week','activity_day','source']).agg({'user_id':'nunique'}).reset_index()\n",
    "wau_total = actions.groupby('activity_week').agg({'user_id':'nunique'}).reset_index()\n",
    "sticky_wau = sticky_wau.merge(wau_total, how='inner', on='activity_week')\n",
    "sticky_wau.rename(columns={'user_id_x': 'dau','user_id_y': 'wau'}, inplace=True)\n",
    "sticky_wau = sticky_wau[['dau','wau','activity_week','source']]\n",
    "sticky_wau['sticky_wau'] = sticky_wau['dau'] / sticky_wau['wau'] * 100\n",
    "sticky_wau_pivot = sticky_wau.pivot_table(index='activity_week', columns='source', values='sticky_wau')\n",
    "\n",
    "sns.set(style=\"whitegrid\", palette=\"pastel\", color_codes=True) \n",
    "sticky_wau_pivot.plot(figsize = (14,8), marker = 'o');\n",
    "plt.title('STICKY WAU', fontsize=17);\n",
    "plt.xlabel('Неделя', fontsize = 15) \n",
    "plt.ylabel('%', fontsize = 15);"
   ]
  },
  {
   "cell_type": "markdown",
   "id": "4a1dc8a7",
   "metadata": {},
   "source": [
    "По каналам привлечения пользователей STICKY WAU снижается в следующем порядке: yandex_direct → facebook_ads → youtube_channel_reklama → instagram_new_adverts."
   ]
  },
  {
   "cell_type": "markdown",
   "id": "42699d9c",
   "metadata": {},
   "source": [
    "#### Расчет CAC"
   ]
  },
  {
   "cell_type": "code",
   "execution_count": null,
   "id": "3d010029",
   "metadata": {},
   "outputs": [],
   "source": [
    "# определил общее количество пользователей, пришедших из каждого источника, за весь период наблюдения.\n",
    "cac = source.groupby('source').agg({'user_id':'count'})\n",
    "cac.rename(columns={'user_id': 'users_count'}, inplace=True)\n",
    "cac['invest'] = costs.groupby('source').agg({'cost':'sum'})\n",
    "cac['mean_cost'] =  cac['invest'] / cac['users_count']\n",
    "cac = cac.sort_values(by ='mean_cost', ascending= False)\n",
    "cac = cac.reset_index()"
   ]
  },
  {
   "cell_type": "code",
   "execution_count": null,
   "id": "412f1df3",
   "metadata": {},
   "outputs": [],
   "source": [
    "sns.set(style=\"whitegrid\", palette=\"pastel\", color_codes=True) \n",
    "cac.plot(kind='bar', x = 'source', y = 'mean_cost', grid=True, figsize = (15,5), width = 0.2);\n",
    "plt.xlabel('Источник привлечения', fontsize = 15)\n",
    "plt.ylabel('Стоимость привлечения одного пользователя', fontsize = 15)\n",
    "plt.xticks(rotation=45)\n",
    "plt.title('CAC', fontsize = 15)\n",
    "plt.show()"
   ]
  },
  {
   "cell_type": "markdown",
   "id": "fbb90c49",
   "metadata": {},
   "source": [
    "Стоимость привлечения пользователей с исследуемых каналов привлечения снижается в следующем порядке: facebook_ads → instagram_new_adverts → yandex_direct → youtube_channel_reklama.\n",
    "\n",
    "В связи с хорошими показателями STICKY WAU рекомендуется увеличить привлечение пользователей с каналов yandex_direct и youtube_channel_reklama. Снизить траты на канал facebook_ads. Хуже всего показатель STICKY WAU у пользователей с канала instagram_new_adverts, а стоимость привлечения высока. Рекомендовано также снизить траты на привлечение пользователей с канала instagram_new_adverts."
   ]
  },
  {
   "cell_type": "markdown",
   "id": "987966c1",
   "metadata": {},
   "source": [
    "#### Вывод\n",
    "\n",
    "* Минимальная дата привлечения: 2020-05-03 Максимальная дата привлечения: 2020-05-09\n",
    "\n",
    "* По количеству привлеченных пользователей источники привлечения расположились в следующем порядке: yandex direct - 4817 пользователей instagram new adverts - 3347 пользователей facebook_ads - 2726 пользователей youtube channel reklama - 2686 пользователей\n",
    "\n",
    "* По количеству потраченных на привлечение новых пользователей средств источники привлечения расположились в следующем порядке: yandex direct - 2233.1 ₽ instagram new adverts - 2161.4 ₽ facebook_ads - 2140.9 ₽ youtube channel reklama - 1068.1 ₽\n",
    "\n",
    "* Наибольшее количество пользователей по всем источникам было привлечено 04.05.2020. С каждым днем количество привлеченных пользоваттелей снижалось пока не достигло самых низких значений 10.05.2020. Характер распределения по источникам сохранялся на протяжении всех дней наблюдения: yandex_direct → instagram_new_adverts → facebook_ads → youtube_channel_reklama.\n",
    "\n",
    "* Медианное количество дней проведенных в игре у активированных пользователей равно: 12.0. Медианное количество дней проведенных в игре у неактивированных пользователей равно: 10.0\n",
    "\n",
    "* Распределение активированных пользователей сохранило тенденции привлеченных в игру. Максимальное количество активированных пришлось на пользователей, совершивших первое действие в игре 04.05.2020 и постепенно снижалось пропорционально количеству привлеченных пользователей, пока не достигло минимума 10.05.2020. По каналам привлечения, количество активированных пользователей распределилось в следующем порядке: yandex_direct → instagram_new_adverts → facebook_ads → youtube_channel_reklama\n",
    "\n",
    "* Процент активированнх пользователей от общего числа привлеченных за все время пользователей по всем каналам привлечения расположилса в диапозоне 42-44 %. По каналам процент активированных пользователей распределилсяв следующем порядке: instagram_new_adverts → youtube_channel_reklama → yandex_direct → facebook_ads\n",
    "\n",
    "* В среднем пользователи тратят от 250 до 285 часов на прохождение первого уровня. Важно отметить, количество сессий и их размер отследить по предоставленным данным невозможно ю Реальных геймплейных часов можент быть гораздо меньше. В данном случае речь идет о времени от первого действия пользователя до завершения первого уровня. При оценке по каналам привлечения существенной разницы во времени проходения первого уровня не выявлено. Пользователи, привлеченные со всех каналов, в среднем тратят на прохождение первого уровня около 280-285 часов.\n",
    "\n",
    "* Максимальное количество пользователей за все свои игровые сессии, данные о которых содержатся в исследуемом датасете, строят зданий в порядке убывания количества пользователей 10 → 11 → 6 → 9 → 12 построек.\n",
    "\n",
    "* Общее количество построек от 04.05.2020 по 10.05.2020 увеличивается. Резко падает 11.05.2020 и постепенно снижается до конечного дня наблюдения. Данная особенность резкого снижения количества построек детально рассмотрена ниже. Спойлер - все из- за сборных цехов.\n",
    "\n",
    "* Интересно, что сборочный цех, был очень популярен в начале с 04 по 10 мая, затем же пользователи полность прекратили его строить. Возможно, мы имеем дело с каким-то техническим багом, который не дает возводить данную постройку. Так как монетизация происходит через экран показа построек баги на этм экране приведут к снижению монетизации. Количество построенных космопортов постепенно увеличивается и становится максимальным к 12 мая. Затем постепенно снижается до даты завершения исследования. В сравнении с космопортом исследвоательский центр - менее популярная постройка. Начинают данный тип постройки возводить только 6 мая. Максимальная активность строительства исследовательского центра, вероятно, обусловлена с другим подходом к прохождению первого уровня, а именно прохождению через выполнение исследвоания, а не через победу над врагом.\n",
    "\n",
    "* Количество реализованных проектов увеличивается с 06.05.2020 и достигает максимального 15.05.2020 за которым идет постепенный спад сохраняющийся до 05.06.2020\n",
    "\n",
    "* В среднем пользователи тратят на прохождение первого уровня через реализацию проекта от 310 до 370 часов. В разбивке по каналам привлечения пользователи тратят на прохождение первого уровня через реализацию проекта от 310 до 320 часов.\n",
    "\n",
    "* В среднем пользователи тратят на прохождение первого уровня через победу над врагом от 250 до 290 часов. Что существенно меньше, чем сремя птраченное на прохождение первого уровня через реализацию проекта. В разбивке по каналам привлечения пользователи тратят на прохождение первого уровня через победу над врагом от 260 до 270 часов. Что существенно сеньше чем пользователи, которые проходят перввый уровень через реализацию проекта.\n",
    "\n",
    "* Количество выполненных пользователями действий увеличивается с начала наблюдения 04.05.2020 по 10.05.2020. Затем происходит резкий спад активности 11.05.2020 с постепенным снижением количества действий до конца наблюдений. Вероятно, это связано с невозможностью построить очень популярный с 04.05.2020 по 10.05.2020 сборочный цех. По каналам привлечения пользователей количество выполненных действий в день снижается в следующем порядке: yandex_direct → instagram_new_adverts → facebook_ads → youtube_channel_reklama. По каналам привлечения пользователей количество выполненных действий в неделю снижается в следующем порядке: yandex_direct → instagram_new_adverts → facebook_ads → youtube_channel_reklama.\n",
    "\n",
    "* По каналам привлечения пользователей STICKY WAU снижается в следующем порядке: yandex_direct → facebook_ads → youtube_channel_reklama → instagram_new_adverts.\n",
    "\n",
    "* Стоимость привлечения пользователей с исследуемых каналов привлечения снижается в следующем порядке: facebook_ads → instagram_new_adverts → yandex_direct → youtube_channel_reklama.\n",
    "\n",
    "* В связи с хорошими показателями STICKY WAU рекомендуется увеичить привлечение пользователей с каналов yandex_direct и youtube_channel_reklama. Снизить траты на канал facebook_ads. Хуже всего показатель STICKY WAU у пользователей с канала instagram_new_adverts, а стоимость привлечения высока. Рекомендовано также снизить траты на првлечения пользователей с канала instagram_new_adverts."
   ]
  },
  {
   "cell_type": "markdown",
   "id": "bef54da1",
   "metadata": {},
   "source": [
    "## Шаг 3. Проверка статистических гипотез"
   ]
  },
  {
   "cell_type": "code",
   "execution_count": null,
   "id": "3342ce12",
   "metadata": {},
   "outputs": [],
   "source": [
    "# сделано два среза данных пользователей прошедших первый уровень. первый срез id пользователей и потраченное количество\n",
    "# часов на прохождение уровня через реализацию проекта, второй срез - id пользователей и потраченное количество\n",
    "# часов на прохождение уровня через победу над врагом\n",
    "progect = finish_stage_project_time.groupby('hours_spent').agg({'user_id':'unique'})\n",
    "progect = progect.reset_index()\n",
    "progect = progect['hours_spent'].astype(int)\n",
    "no_progect = finish_stage_no_project_time.groupby('hours_spent').agg({'user_id':'unique'})\n",
    "no_progect = no_progect.reset_index()\n",
    "no_progect = no_progect['hours_spent'].astype(int)"
   ]
  },
  {
   "cell_type": "markdown",
   "id": "211f3599",
   "metadata": {},
   "source": [
    "#### Считаю статистическую значимость различий  во времени прохождения уровня с зависимотси от стратегии завершения уровня(победа над врагом или выполнение проекта):\n",
    "\n",
    "  Сформулируем гипотезы:\n",
    "  \n",
    "* H0: различий во времени прохождения в зависимости от стратегии прохождения нет.\n",
    "* H1: различия во времени прохождения в зависимости от стратегии прохождения есть."
   ]
  },
  {
   "cell_type": "code",
   "execution_count": null,
   "id": "1491fd8f",
   "metadata": {},
   "outputs": [],
   "source": [
    "alpha = .05 # критический уровень статистической значимости\n",
    "\n",
    "results = st.ttest_ind(progect, no_progect)\n",
    "\n",
    "print('p-значение:', results.pvalue)\n",
    "\n",
    "if (results.pvalue < alpha):\n",
    "    print(\"Отвергаем нулевую гипотезу\")\n",
    "else:\n",
    "    print(\"Не получилось отвергнуть нулевую гипотезу\")"
   ]
  },
  {
   "cell_type": "markdown",
   "id": "781aa5f4",
   "metadata": {},
   "source": [
    "Ранее было установлено, что пользователи проходящие первый уровень через победу над врагом тратят в среднем меньше времени на прохождение в сравнении с пользователями, выполняющими проект. Данный тезис подтвержден статистическим тестом."
   ]
  },
  {
   "cell_type": "code",
   "execution_count": null,
   "id": "353ee4db",
   "metadata": {},
   "outputs": [],
   "source": [
    "# сделал срез данных всех эвентов постройка. Сгруппировал по источнику и id пользователя\n",
    "sourse_user_build = actions.loc[actions['event'].values == 'building']\n",
    "sourse_user_build = sourse_user_build.groupby(['source','user_id']).agg({'event':'count'})\n",
    "sourse_user_build = sourse_user_build.reset_index()"
   ]
  },
  {
   "cell_type": "code",
   "execution_count": null,
   "id": "c750f82e",
   "metadata": {},
   "outputs": [],
   "source": [
    "# выделил в отдельные таблицы количество построек выполненных пользователями в зависимости от канала привлечения\n",
    "facebook_ads_builds = sourse_user_build[sourse_user_build['source'] == 'facebook_ads']\n",
    "facebook_ads_builds = facebook_ads_builds['event']\n",
    "facebook_ads_builds = facebook_ads_builds.reset_index(drop=True)\n",
    "\n",
    "instagram_new_adverts_builds = sourse_user_build[sourse_user_build['source'] == 'instagram_new_adverts']\n",
    "instagram_new_adverts_builds = instagram_new_adverts_builds['event']\n",
    "instagram_new_adverts_builds = instagram_new_adverts_builds.reset_index(drop=True)\n",
    "\n",
    "yandex_direct_builds = sourse_user_build[sourse_user_build['source'] == 'yandex_direct']\n",
    "yandex_direct_builds = yandex_direct_builds['event']\n",
    "yandex_direct_builds = yandex_direct_builds.reset_index(drop=True)\n",
    "\n",
    "youtube_channel_reklama_builds = sourse_user_build[sourse_user_build['source'] == 'youtube_channel_reklama']\n",
    "youtube_channel_reklama_builds = youtube_channel_reklama_builds['event']\n",
    "youtube_channel_reklama_builds = youtube_channel_reklama_builds.reset_index(drop=True)"
   ]
  },
  {
   "cell_type": "markdown",
   "id": "83e1662b",
   "metadata": {},
   "source": [
    "#### Считаю статистическую значимость различий  в количестве построенных объектов в зависимости от канала привлечения:\n",
    "\n",
    "  Сформулируем гипотезы:\n",
    "  \n",
    "* H0: количество построек не зависит от канала привлечения пользователя.\n",
    "* H1: количество построек зависит от канала привлечения пользователя."
   ]
  },
  {
   "cell_type": "code",
   "execution_count": null,
   "id": "10732caa",
   "metadata": {},
   "outputs": [],
   "source": [
    "def z_test(H0, H1, title):\n",
    "    print(title)\n",
    "\n",
    "    results = st.mannwhitneyu(H0, H1)\n",
    "\n",
    "    print('p-значение: ', results.pvalue)\n",
    "    \n",
    "    bonferroni_alpha =   alpha / 6\n",
    "\n",
    "    if results.pvalue < bonferroni_alpha:\n",
    "        print('Отвергаем нулевую гипотезу: разница статистически значима')\n",
    "    else:\n",
    "        print(\n",
    "            'Не получилось отвергнуть нулевую гипотезу, вывод о различии сделать нельзя'\n",
    "        )"
   ]
  },
  {
   "cell_type": "code",
   "execution_count": null,
   "id": "d3125cdf",
   "metadata": {},
   "outputs": [],
   "source": [
    "z_test(facebook_ads_builds, instagram_new_adverts_builds, 'facebook/instagram')\n",
    "print('************************')\n",
    "z_test(facebook_ads_builds, yandex_direct_builds, 'facebook/yandex')\n",
    "print('************************')\n",
    "z_test(facebook_ads_builds, youtube_channel_reklama_builds, 'facebook/youtube')\n",
    "print('************************')\n",
    "z_test(instagram_new_adverts_builds, yandex_direct_builds, 'instagram/yandex')\n",
    "print('************************')\n",
    "z_test(instagram_new_adverts_builds, youtube_channel_reklama_builds, 'instagram/youtube')\n",
    "print('************************')\n",
    "z_test(yandex_direct_builds, youtube_channel_reklama_builds, 'yandex/youtube')"
   ]
  },
  {
   "cell_type": "markdown",
   "id": "22e64613",
   "metadata": {},
   "source": [
    "Ни в одной из пар сравнений каналов привлечения не удалось получить статистически достоверных различий в количестве выполненных построек. Можно сделать вывод о том, что количество построек не зависит от канала привлечения."
   ]
  },
  {
   "cell_type": "markdown",
   "id": "e26da6a1",
   "metadata": {},
   "source": [
    "#### Вывод:\n",
    "* При проверке статистической значимости гипотезы о различии времени прохождения уровня в зависимотси от стратегии завершения уровня(победа над врагом или выполнение проекта). Выявлены различия во времени прохождения в зависимости от стратегии прохождения. Ранее было установлено, что пользователи проходящие первый уровень через победу над врагом тратят в среднем меньше времени на прохождение в сравнении с пользователями, выполняющими проект. Данный тезис подтвержден статистическим тестом.\n",
    "\n",
    "* При проверке статистической значимости гипотезы о различиях в количестве построенных объектов в зависимости от канала привлечения ни в одной из пар сравнений каналов привлечения не удалось получить статистически достоверных различий в количестве выполненных построек. Можно сделать вывод о том, что количество построек не зависит от канала привлечения."
   ]
  },
  {
   "cell_type": "markdown",
   "id": "8d1dd2f6",
   "metadata": {},
   "source": [
    "### Шаг 4. Общий вывод. Рекомендации.¶"
   ]
  },
  {
   "cell_type": "markdown",
   "id": "2a698832",
   "metadata": {},
   "source": [
    "#### Вывод по шагу 1 \"Ознакомление с данными и предобработка\":\n",
    "\n",
    "* Получены данные из таблиц: actions (данные о событиях), source (данные об источниках трафика), costs (данные о стоимости трафика из различных источников)\n",
    "\n",
    "* Таблица actions содержала пропуски в столбцах - building_type(тип построенного задания) - 7683 пропусков, project_type(тип выполненного проекта) - 133774 пропусков. Пропуски в столбце building_type обусловлены тем, не каждый эвент это постройка, а в данном столбце отражены типы построек. В столбце project_type пропуски обусловлены тем, что игроки могли не выполнять проект во время своих игровых сессий. Заполнение пропусков не выполнялось так как это может повлиять на результаты исследования. В таблице source  пропуски отсутствуют. В таблице costs пропуски отсутствуют.\n",
    "\n",
    "* В таблице actions выявлен один дубликат. Так как полтеря одной строки не повлияет на результат исследвоания, его решено удалить. Таблицы sourse. costs дубликатов не содержат.\n",
    "\n",
    "* Выполнено приведение к типу datetime столбца event_datetime таблицы actions, содержащего информацию о времени события. Также выполнено приведение к типу datetime столбца day таблицы costs, содержащего информацию о дне, в который был совершен клик по объявлению.\n",
    "\n",
    "#### Вывод по шагу 2 \"Исследовательский анализ данных\":\n",
    "\n",
    "* Минимальная дата привлечения: 2020-05-03 Максимальная дата привлечения: 2020-05-09\n",
    "\n",
    "* По количеству привлеченных пользователей источники привлечения расположились в следующем порядке: yandex direct - 4817 пользователей instagram new adverts - 3347 пользователей facebook_ads - 2726 пользователей youtube channel reklama - 2686 пользователей\n",
    "\n",
    "* По количеству потраченных на привлечение новых пользователей средств источники привлечения расположились в следующем порядке: yandex direct - 2233.1 ₽ instagram new adverts - 2161.4 ₽ facebook_ads - 2140.9 ₽ youtube channel reklama - 1068.1 ₽\n",
    "\n",
    "* Наибольшее количество пользователей по всем источникам было привлечено 04.05.2020. С каждым днем количество привлеченных пользоваттелей снижалось пока не достигло самых низких значений 10.05.2020. Характер распределения по источникам сохранялся на протяжении всех дней наблюдения: yandex_direct → instagram_new_adverts → facebook_ads → youtube_channel_reklama.\n",
    "\n",
    "* Медианное количество дней проведенных в игре у активированных пользователей равно: 12.0. Медианное количество дней проведенных в игре у неактивированных пользователей равно: 10.0\n",
    "\n",
    "* Распределение активированных пользователей сохранило тенденции привлеченных в игру. Максимальное количество активированных пришлось на пользователей, совершивших первое действие в игре 04.05.2020 и постепенно снижалось пропорционально количеству привлеченных пользователей, пока не достигло минимума 10.05.2020. По каналам привлечения, количество активированных пользователей распределилось в следующем порядке: yandex_direct → instagram_new_adverts → facebook_ads → youtube_channel_reklama\n",
    "\n",
    "* Процент активированнх пользователей от общего числа привлеченных за все время пользователей по всем каналам привлечения расположилса в диапозоне 42-44 %. По каналам процент активированных пользователей распределилсяв следующем порядке: instagram_new_adverts → youtube_channel_reklama → yandex_direct → facebook_ads\n",
    "\n",
    "* В среднем пользователи тратят от 250 до 285 часов на прохождение первого уровня. Важно отметить, количество сессий и их размер отследить по предоставленным данным невозможно ю Реальных геймплейных часов можент быть гораздо меньше. В данном случае речь идет о времени от первого действия пользователя до завершения первого уровня. При оценке по каналам привлечения существенной разницы во времени проходения первого уровня не выявлено. Пользователи, привлеченные со всех каналов, в среднем тратят на прохождение первого уровня около 280-285 часов.\n",
    "\n",
    "* Максимальное количество пользователей за все свои игровые сессии, данные о которых содержатся в исследуемом датасете, строят зданий в порядке убывания количества пользователей 10 → 11 → 6 → 9 → 12 построек.\n",
    "\n",
    "* Общее количество построек от 04.05.2020 по 10.05.2020 увеличивается. Резко падает 11.05.2020 и постепенно снижается до конечного дня наблюдения. Данная особенность резкого снижения количества построек детально рассмотрена ниже. Спойлер - все из- за сборных цехов.\n",
    "\n",
    "* Интересно, что сборочный цех, был очень популярен в начале с 04 по 10 мая, затем же пользователи полность прекратили его строить. Возможно, мы имеем дело с каким-то техническим багом, который не дает возводить данную постройку. Так как монетизация происходит через экран показа построек баги на этм экране приведут к снижению монетизации. Количество построенных космопортов постепенно увеличивается и становится максимальным к 12 мая. Затем постепенно снижается до даты завершения исследования. В сравнении с космопортом исследвоательский центр - менее популярная постройка. Начинают данный тип постройки возводить только 6 мая. Максимальная активность строительства исследовательского центра, вероятно, обусловлена с другим подходом к прохождению первого уровня, а именно прохождению через выполнение исследвоания, а не через победу над врагом.\n",
    "\n",
    "* Количество реализованных проектов увеличивается с 06.05.2020 и достигает максимального 15.05.2020 за которым идет постепенный спад сохраняющийся до 05.06.2020\n",
    "\n",
    "* В среднем пользователи тратят на прохождение первого уровня через реализацию проекта от 310 до 370 часов. В разбивке по каналам привлечения пользователи тратят на прохождение первого уровня через реализацию проекта от 310 до 320 часов.\n",
    "\n",
    "* В среднем пользователи тратят на прохождение первого уровня через победу над врагом от 250 до 290 часов. Что существенно меньше, чем сремя птраченное на прохождение первого уровня через реализацию проекта. В разбивке по каналам привлечения пользователи тратят на прохождение первого уровня через победу над врагом от 260 до 270 часов. Что существенно сеньше чем пользователи, которые проходят перввый уровень через реализацию проекта.\n",
    "\n",
    "* Количество выполненных пользователями действий увеличивается с начала наблюдения 04.05.2020 по 10.05.2020. Затем происходит резкий спад активности 11.05.2020 с постепенным снижением количества действий до конца наблюдений. Вероятно, это связано с невозможностью построить очень популярный с 04.05.2020 по 10.05.2020 сборочный цех. По каналам привлечения пользователей количество выполненных действий в день снижается в следующем порядке: yandex_direct → instagram_new_adverts → facebook_ads → youtube_channel_reklama. По каналам привлечения пользователей количество выполненных действий в неделю снижается в следующем порядке: yandex_direct → instagram_new_adverts → facebook_ads → youtube_channel_reklama.\n",
    "\n",
    "* По каналам привлечения пользователей STICKY WAU снижается в следующем порядке: yandex_direct → facebook_ads → youtube_channel_reklama → instagram_new_adverts.\n",
    "\n",
    "* Стоимость привлечения пользователей с исследуемых каналов привлечения снижается в следующем порядке: facebook_ads → instagram_new_adverts → yandex_direct → youtube_channel_reklama.\n",
    "\n",
    "* В связи с хорошими показателями STICKY WAU рекомендуется увеичить привлечение пользователей с каналов yandex_direct и youtube_channel_reklama. Снизить траты на канал facebook_ads. Хуже всего показатель STICKY WAU у пользователей с канала instagram_new_adverts, а стоимость привлечения высока. Рекомендовано также снизить траты на првлечения пользователей с канала instagram_new_adverts.\n",
    "\n",
    "#### Вывод по шагу 3 \"Проверка статистических гипотез\":\n",
    "\n",
    "* При проверке статистической значимости гипотезы о различии времени прохождения уровня в зависимотси от стратегии завершения уровня(победа над врагом или выполнение проекта). Выявлены различия во времени прохождения в зависимости от стратегии прохождения. Ранее было установлено, что пользователи проходящие первый уровень через победу над врагом тратят в среднем меньше времени на прохождение в сравнении с пользователями, выполняющими проект. Данный тезис подтвержден статистическим тестом.\n",
    "* При проверке статистической значимости гипотезы о различиях в количестве построенных объектов в зависимости от канала привлечения ни в одной из пар сравнений каналов привлечения не удалось получить статистически достоверных различий в количестве выполненных построек. Можно сделать вывод о том, что количество построек не зависит от канала привлечения."
   ]
  }
 ],
 "metadata": {
  "ExecuteTimeLog": [
   {
    "duration": 1330,
    "start_time": "2023-04-23T13:16:45.804Z"
   },
   {
    "duration": 3,
    "start_time": "2023-04-23T13:16:47.136Z"
   },
   {
    "duration": 678,
    "start_time": "2023-04-23T13:16:47.140Z"
   },
   {
    "duration": 12,
    "start_time": "2023-04-23T13:16:47.820Z"
   },
   {
    "duration": 28,
    "start_time": "2023-04-23T13:16:47.834Z"
   },
   {
    "duration": 24,
    "start_time": "2023-04-23T13:16:47.864Z"
   },
   {
    "duration": 100,
    "start_time": "2023-04-23T13:16:47.889Z"
   },
   {
    "duration": 97,
    "start_time": "2023-04-23T13:16:47.991Z"
   },
   {
    "duration": 31,
    "start_time": "2023-04-23T13:16:48.090Z"
   },
   {
    "duration": 171,
    "start_time": "2023-04-23T13:16:48.122Z"
   },
   {
    "duration": 7,
    "start_time": "2023-04-23T13:16:48.294Z"
   },
   {
    "duration": 11,
    "start_time": "2023-04-23T13:16:48.303Z"
   },
   {
    "duration": 6,
    "start_time": "2023-04-23T13:16:48.316Z"
   },
   {
    "duration": 9,
    "start_time": "2023-04-23T13:16:48.325Z"
   },
   {
    "duration": 98,
    "start_time": "2023-04-23T13:16:48.336Z"
   },
   {
    "duration": 9,
    "start_time": "2023-04-23T13:16:48.435Z"
   },
   {
    "duration": 13,
    "start_time": "2023-04-23T13:16:48.445Z"
   },
   {
    "duration": 6,
    "start_time": "2023-04-23T13:16:48.460Z"
   },
   {
    "duration": 11,
    "start_time": "2023-04-23T13:16:48.468Z"
   },
   {
    "duration": 5,
    "start_time": "2023-04-23T13:16:48.481Z"
   },
   {
    "duration": 8,
    "start_time": "2023-04-23T13:16:48.487Z"
   },
   {
    "duration": 9,
    "start_time": "2023-04-23T13:16:48.497Z"
   },
   {
    "duration": 216,
    "start_time": "2023-04-23T13:16:48.507Z"
   },
   {
    "duration": 6,
    "start_time": "2023-04-23T13:16:48.725Z"
   },
   {
    "duration": 175,
    "start_time": "2023-04-23T13:16:48.733Z"
   },
   {
    "duration": 46,
    "start_time": "2023-04-23T13:16:48.910Z"
   },
   {
    "duration": 102,
    "start_time": "2023-04-23T13:16:48.957Z"
   },
   {
    "duration": 20,
    "start_time": "2023-04-23T13:16:49.060Z"
   },
   {
    "duration": 409,
    "start_time": "2023-04-23T13:16:49.081Z"
   },
   {
    "duration": 377,
    "start_time": "2023-04-23T13:16:49.492Z"
   },
   {
    "duration": 29,
    "start_time": "2023-04-23T13:16:49.871Z"
   },
   {
    "duration": 60,
    "start_time": "2023-04-23T13:16:49.902Z"
   },
   {
    "duration": 10,
    "start_time": "2023-04-23T13:16:49.964Z"
   },
   {
    "duration": 20,
    "start_time": "2023-04-23T13:16:49.976Z"
   },
   {
    "duration": 318,
    "start_time": "2023-04-23T13:16:49.998Z"
   },
   {
    "duration": 343,
    "start_time": "2023-04-23T13:16:50.318Z"
   },
   {
    "duration": 13,
    "start_time": "2023-04-23T13:16:50.663Z"
   },
   {
    "duration": 294,
    "start_time": "2023-04-23T13:16:50.678Z"
   },
   {
    "duration": 8,
    "start_time": "2023-04-23T13:16:50.974Z"
   },
   {
    "duration": 16,
    "start_time": "2023-04-23T13:16:50.983Z"
   },
   {
    "duration": 324,
    "start_time": "2023-04-23T13:16:51.002Z"
   },
   {
    "duration": 51,
    "start_time": "2023-04-23T13:16:51.328Z"
   },
   {
    "duration": 15,
    "start_time": "2023-04-23T13:16:51.380Z"
   },
   {
    "duration": 27,
    "start_time": "2023-04-23T13:16:51.397Z"
   },
   {
    "duration": 42,
    "start_time": "2023-04-23T13:16:51.426Z"
   },
   {
    "duration": 111,
    "start_time": "2023-04-23T13:16:51.470Z"
   },
   {
    "duration": 0,
    "start_time": "2023-04-23T13:16:51.582Z"
   },
   {
    "duration": 0,
    "start_time": "2023-04-23T13:16:51.583Z"
   },
   {
    "duration": 0,
    "start_time": "2023-04-23T13:16:51.584Z"
   },
   {
    "duration": 0,
    "start_time": "2023-04-23T13:16:51.585Z"
   },
   {
    "duration": 0,
    "start_time": "2023-04-23T13:16:51.586Z"
   },
   {
    "duration": 0,
    "start_time": "2023-04-23T13:16:51.587Z"
   },
   {
    "duration": 0,
    "start_time": "2023-04-23T13:16:51.588Z"
   },
   {
    "duration": 0,
    "start_time": "2023-04-23T13:16:51.589Z"
   },
   {
    "duration": 0,
    "start_time": "2023-04-23T13:16:51.589Z"
   },
   {
    "duration": 0,
    "start_time": "2023-04-23T13:16:51.590Z"
   },
   {
    "duration": 0,
    "start_time": "2023-04-23T13:16:51.591Z"
   },
   {
    "duration": 0,
    "start_time": "2023-04-23T13:16:51.592Z"
   },
   {
    "duration": 0,
    "start_time": "2023-04-23T13:16:51.593Z"
   },
   {
    "duration": 0,
    "start_time": "2023-04-23T13:16:51.594Z"
   },
   {
    "duration": 0,
    "start_time": "2023-04-23T13:16:51.594Z"
   },
   {
    "duration": 0,
    "start_time": "2023-04-23T13:16:51.595Z"
   },
   {
    "duration": 0,
    "start_time": "2023-04-23T13:16:51.596Z"
   },
   {
    "duration": 0,
    "start_time": "2023-04-23T13:16:51.598Z"
   },
   {
    "duration": 0,
    "start_time": "2023-04-23T13:16:51.599Z"
   },
   {
    "duration": 0,
    "start_time": "2023-04-23T13:16:51.600Z"
   },
   {
    "duration": 0,
    "start_time": "2023-04-23T13:16:51.601Z"
   },
   {
    "duration": 0,
    "start_time": "2023-04-23T13:16:51.602Z"
   },
   {
    "duration": 0,
    "start_time": "2023-04-23T13:16:51.602Z"
   },
   {
    "duration": 0,
    "start_time": "2023-04-23T13:16:51.603Z"
   },
   {
    "duration": 0,
    "start_time": "2023-04-23T13:16:51.604Z"
   },
   {
    "duration": 0,
    "start_time": "2023-04-23T13:16:51.605Z"
   },
   {
    "duration": 0,
    "start_time": "2023-04-23T13:16:51.606Z"
   },
   {
    "duration": 0,
    "start_time": "2023-04-23T13:16:51.607Z"
   },
   {
    "duration": 0,
    "start_time": "2023-04-23T13:16:51.608Z"
   },
   {
    "duration": 0,
    "start_time": "2023-04-23T13:16:51.609Z"
   },
   {
    "duration": 0,
    "start_time": "2023-04-23T13:16:51.610Z"
   },
   {
    "duration": 0,
    "start_time": "2023-04-23T13:16:51.611Z"
   },
   {
    "duration": 0,
    "start_time": "2023-04-23T13:16:51.612Z"
   },
   {
    "duration": 0,
    "start_time": "2023-04-23T13:16:51.613Z"
   },
   {
    "duration": 0,
    "start_time": "2023-04-23T13:16:51.656Z"
   },
   {
    "duration": 244,
    "start_time": "2023-04-23T13:17:40.871Z"
   },
   {
    "duration": 235,
    "start_time": "2023-04-23T13:17:45.337Z"
   },
   {
    "duration": 57,
    "start_time": "2023-04-23T13:17:49.070Z"
   },
   {
    "duration": 303,
    "start_time": "2023-04-23T13:17:50.372Z"
   },
   {
    "duration": 105,
    "start_time": "2023-04-23T13:17:53.444Z"
   },
   {
    "duration": 515,
    "start_time": "2023-04-23T13:17:53.869Z"
   },
   {
    "duration": 44,
    "start_time": "2023-04-23T13:18:03.173Z"
   },
   {
    "duration": 17,
    "start_time": "2023-04-23T13:18:03.219Z"
   },
   {
    "duration": 20,
    "start_time": "2023-04-23T13:18:03.238Z"
   },
   {
    "duration": 20,
    "start_time": "2023-04-23T13:18:03.260Z"
   },
   {
    "duration": 507,
    "start_time": "2023-04-23T13:18:03.282Z"
   },
   {
    "duration": 10,
    "start_time": "2023-04-23T13:18:03.791Z"
   },
   {
    "duration": 401,
    "start_time": "2023-04-23T13:18:03.802Z"
   },
   {
    "duration": 23,
    "start_time": "2023-04-23T13:18:04.205Z"
   },
   {
    "duration": 138,
    "start_time": "2023-04-23T13:18:04.230Z"
   },
   {
    "duration": 552,
    "start_time": "2023-04-23T13:18:04.371Z"
   },
   {
    "duration": 42,
    "start_time": "2023-04-23T13:18:04.924Z"
   },
   {
    "duration": 596,
    "start_time": "2023-04-23T13:18:04.968Z"
   },
   {
    "duration": 10,
    "start_time": "2023-04-23T13:18:05.566Z"
   },
   {
    "duration": 253,
    "start_time": "2023-04-23T13:18:05.578Z"
   },
   {
    "duration": 214,
    "start_time": "2023-04-23T13:18:05.832Z"
   },
   {
    "duration": 17,
    "start_time": "2023-04-23T13:18:06.048Z"
   },
   {
    "duration": 257,
    "start_time": "2023-04-23T13:18:06.066Z"
   },
   {
    "duration": 228,
    "start_time": "2023-04-23T13:18:06.324Z"
   },
   {
    "duration": 471,
    "start_time": "2023-04-23T13:18:06.555Z"
   },
   {
    "duration": 459,
    "start_time": "2023-04-23T13:18:07.028Z"
   },
   {
    "duration": 398,
    "start_time": "2023-04-23T13:18:07.490Z"
   },
   {
    "duration": 13,
    "start_time": "2023-04-23T13:18:07.890Z"
   },
   {
    "duration": 236,
    "start_time": "2023-04-23T13:18:07.905Z"
   },
   {
    "duration": 430,
    "start_time": "2023-04-23T13:18:08.142Z"
   },
   {
    "duration": 7,
    "start_time": "2023-04-23T13:18:08.573Z"
   },
   {
    "duration": 84,
    "start_time": "2023-04-23T13:18:08.581Z"
   },
   {
    "duration": 14,
    "start_time": "2023-04-23T13:18:08.667Z"
   },
   {
    "duration": 3,
    "start_time": "2023-04-23T13:18:08.684Z"
   },
   {
    "duration": 35,
    "start_time": "2023-04-23T13:18:08.689Z"
   },
   {
    "duration": 1111,
    "start_time": "2023-04-23T13:18:57.800Z"
   },
   {
    "duration": 3,
    "start_time": "2023-04-23T13:18:58.913Z"
   },
   {
    "duration": 252,
    "start_time": "2023-04-23T13:18:58.917Z"
   },
   {
    "duration": 12,
    "start_time": "2023-04-23T13:18:59.171Z"
   },
   {
    "duration": 31,
    "start_time": "2023-04-23T13:18:59.185Z"
   },
   {
    "duration": 39,
    "start_time": "2023-04-23T13:18:59.218Z"
   },
   {
    "duration": 72,
    "start_time": "2023-04-23T13:18:59.259Z"
   },
   {
    "duration": 107,
    "start_time": "2023-04-23T13:18:59.332Z"
   },
   {
    "duration": 36,
    "start_time": "2023-04-23T13:18:59.441Z"
   },
   {
    "duration": 46,
    "start_time": "2023-04-23T13:18:59.478Z"
   },
   {
    "duration": 8,
    "start_time": "2023-04-23T13:18:59.525Z"
   },
   {
    "duration": 13,
    "start_time": "2023-04-23T13:18:59.547Z"
   },
   {
    "duration": 24,
    "start_time": "2023-04-23T13:18:59.562Z"
   },
   {
    "duration": 9,
    "start_time": "2023-04-23T13:18:59.589Z"
   },
   {
    "duration": 41,
    "start_time": "2023-04-23T13:18:59.600Z"
   },
   {
    "duration": 7,
    "start_time": "2023-04-23T13:18:59.643Z"
   },
   {
    "duration": 12,
    "start_time": "2023-04-23T13:18:59.652Z"
   },
   {
    "duration": 6,
    "start_time": "2023-04-23T13:18:59.666Z"
   },
   {
    "duration": 4,
    "start_time": "2023-04-23T13:18:59.674Z"
   },
   {
    "duration": 5,
    "start_time": "2023-04-23T13:18:59.680Z"
   },
   {
    "duration": 6,
    "start_time": "2023-04-23T13:18:59.686Z"
   },
   {
    "duration": 8,
    "start_time": "2023-04-23T13:18:59.693Z"
   },
   {
    "duration": 217,
    "start_time": "2023-04-23T13:18:59.703Z"
   },
   {
    "duration": 6,
    "start_time": "2023-04-23T13:18:59.923Z"
   },
   {
    "duration": 196,
    "start_time": "2023-04-23T13:18:59.931Z"
   },
   {
    "duration": 57,
    "start_time": "2023-04-23T13:19:00.129Z"
   },
   {
    "duration": 108,
    "start_time": "2023-04-23T13:19:00.188Z"
   },
   {
    "duration": 23,
    "start_time": "2023-04-23T13:19:00.300Z"
   },
   {
    "duration": 481,
    "start_time": "2023-04-23T13:19:00.325Z"
   },
   {
    "duration": 383,
    "start_time": "2023-04-23T13:19:00.808Z"
   },
   {
    "duration": 35,
    "start_time": "2023-04-23T13:19:01.193Z"
   },
   {
    "duration": 59,
    "start_time": "2023-04-23T13:19:01.230Z"
   },
   {
    "duration": 15,
    "start_time": "2023-04-23T13:19:01.291Z"
   },
   {
    "duration": 58,
    "start_time": "2023-04-23T13:19:01.308Z"
   },
   {
    "duration": 365,
    "start_time": "2023-04-23T13:19:01.368Z"
   },
   {
    "duration": 347,
    "start_time": "2023-04-23T13:19:01.735Z"
   },
   {
    "duration": 13,
    "start_time": "2023-04-23T13:19:02.084Z"
   },
   {
    "duration": 322,
    "start_time": "2023-04-23T13:19:02.099Z"
   },
   {
    "duration": 10,
    "start_time": "2023-04-23T13:19:02.422Z"
   },
   {
    "duration": 25,
    "start_time": "2023-04-23T13:19:02.434Z"
   },
   {
    "duration": 289,
    "start_time": "2023-04-23T13:19:02.465Z"
   },
   {
    "duration": 57,
    "start_time": "2023-04-23T13:19:02.755Z"
   },
   {
    "duration": 15,
    "start_time": "2023-04-23T13:19:02.814Z"
   },
   {
    "duration": 52,
    "start_time": "2023-04-23T13:19:02.830Z"
   },
   {
    "duration": 33,
    "start_time": "2023-04-23T13:19:02.884Z"
   },
   {
    "duration": 258,
    "start_time": "2023-04-23T13:19:02.920Z"
   },
   {
    "duration": 223,
    "start_time": "2023-04-23T13:19:03.180Z"
   },
   {
    "duration": 57,
    "start_time": "2023-04-23T13:19:03.405Z"
   },
   {
    "duration": 289,
    "start_time": "2023-04-23T13:19:03.464Z"
   },
   {
    "duration": 58,
    "start_time": "2023-04-23T13:19:03.755Z"
   },
   {
    "duration": 456,
    "start_time": "2023-04-23T13:19:03.814Z"
   },
   {
    "duration": 44,
    "start_time": "2023-04-23T13:19:04.272Z"
   },
   {
    "duration": 19,
    "start_time": "2023-04-23T13:19:04.318Z"
   },
   {
    "duration": 12,
    "start_time": "2023-04-23T13:19:04.356Z"
   },
   {
    "duration": 21,
    "start_time": "2023-04-23T13:19:04.370Z"
   },
   {
    "duration": 551,
    "start_time": "2023-04-23T13:19:04.393Z"
   },
   {
    "duration": 17,
    "start_time": "2023-04-23T13:19:04.946Z"
   },
   {
    "duration": 347,
    "start_time": "2023-04-23T13:19:04.965Z"
   },
   {
    "duration": 20,
    "start_time": "2023-04-23T13:19:05.314Z"
   },
   {
    "duration": 140,
    "start_time": "2023-04-23T13:19:05.336Z"
   },
   {
    "duration": 538,
    "start_time": "2023-04-23T13:19:05.478Z"
   },
   {
    "duration": 44,
    "start_time": "2023-04-23T13:19:06.018Z"
   },
   {
    "duration": 576,
    "start_time": "2023-04-23T13:19:06.064Z"
   },
   {
    "duration": 20,
    "start_time": "2023-04-23T13:19:06.642Z"
   },
   {
    "duration": 291,
    "start_time": "2023-04-23T13:19:06.665Z"
   },
   {
    "duration": 242,
    "start_time": "2023-04-23T13:19:06.958Z"
   },
   {
    "duration": 14,
    "start_time": "2023-04-23T13:19:07.201Z"
   },
   {
    "duration": 287,
    "start_time": "2023-04-23T13:19:07.216Z"
   },
   {
    "duration": 255,
    "start_time": "2023-04-23T13:19:07.505Z"
   },
   {
    "duration": 508,
    "start_time": "2023-04-23T13:19:07.762Z"
   },
   {
    "duration": 472,
    "start_time": "2023-04-23T13:19:08.272Z"
   },
   {
    "duration": 410,
    "start_time": "2023-04-23T13:19:08.746Z"
   },
   {
    "duration": 16,
    "start_time": "2023-04-23T13:19:09.157Z"
   },
   {
    "duration": 221,
    "start_time": "2023-04-23T13:19:09.175Z"
   },
   {
    "duration": 397,
    "start_time": "2023-04-23T13:19:09.398Z"
   },
   {
    "duration": 6,
    "start_time": "2023-04-23T13:19:09.797Z"
   },
   {
    "duration": 81,
    "start_time": "2023-04-23T13:19:09.805Z"
   },
   {
    "duration": 12,
    "start_time": "2023-04-23T13:19:09.888Z"
   },
   {
    "duration": 5,
    "start_time": "2023-04-23T13:19:09.901Z"
   },
   {
    "duration": 36,
    "start_time": "2023-04-23T13:19:09.908Z"
   }
  ],
  "kernelspec": {
   "display_name": "Python 3 (ipykernel)",
   "language": "python",
   "name": "python3"
  },
  "language_info": {
   "codemirror_mode": {
    "name": "ipython",
    "version": 3
   },
   "file_extension": ".py",
   "mimetype": "text/x-python",
   "name": "python",
   "nbconvert_exporter": "python",
   "pygments_lexer": "ipython3",
   "version": "3.9.13"
  },
  "toc": {
   "base_numbering": 1,
   "nav_menu": {},
   "number_sections": true,
   "sideBar": true,
   "skip_h1_title": true,
   "title_cell": "Table of Contents",
   "title_sidebar": "Contents",
   "toc_cell": false,
   "toc_position": {},
   "toc_section_display": true,
   "toc_window_display": false
  }
 },
 "nbformat": 4,
 "nbformat_minor": 5
}
