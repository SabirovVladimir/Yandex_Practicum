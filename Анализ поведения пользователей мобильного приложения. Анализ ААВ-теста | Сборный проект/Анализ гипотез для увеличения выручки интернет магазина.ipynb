{
 "cells": [
  {
   "cell_type": "markdown",
   "id": "c29323f1",
   "metadata": {},
   "source": [
    "## Проект: \"Анализ гипотез для увеличения выручки интернет магазина.\""
   ]
  },
  {
   "cell_type": "markdown",
   "id": "23411b60",
   "metadata": {},
   "source": [
    "### Описание проекта\n",
    "Вы — аналитик крупного интернет-магазина. Вместе с отделом маркетинга вы подготовили список гипотез для увеличения выручки.\n",
    "Приоритизируйте гипотезы, запустите A/B-тест и проанализируйте результаты. "
   ]
  },
  {
   "cell_type": "markdown",
   "id": "77038e23",
   "metadata": {},
   "source": [
    "### План выполнения работы\n",
    "#### Часть 1. Приоритизация гипотез.\n",
    "В файле /datasets/hypothesis.csv 9 гипотез по увеличению выручки интернет-магазина с указанными параметрами Reach, Impact, Confidence, Effort.\n",
    "#### Задача\n",
    "* Применить фреймворк ICE для приоритизации гипотез. Отсортировать их по убыванию приоритета.\n",
    "* Применить фреймворк RICE для приоритизации гипотез. Отсортировать их по убыванию приоритета.\n",
    "* Определить, как изменилась приоритизация гипотез при применении RICE вместо ICE. Объяснить, почему так произошло.\n",
    "\n",
    "#### Часть 2. Анализ A/B-теста\n",
    "Вы провели A/B-тест и получили результаты, которые описаны в файлах /datasets/orders.csv и /datasets/visitors.csv.\n",
    "#### Задача\n",
    "* Проанализировать A/B-тест:\n",
    "* Построить график кумулятивной выручки по группам. Сделать выводы и предположения.\n",
    "* Построить график кумулятивного среднего чека по группам. Сделать выводы и предположения.\n",
    "* Построить график относительного изменения кумулятивного среднего чека группы B к группе A. Сделать выводы и предположения.\n",
    "* Построить график кумулятивного среднего количества заказов на посетителя по группам. Сделать выводы и предположения.\n",
    "* Построить график относительного изменения кумулятивного среднего количества заказов на посетителя группы B к группе A. Сделать выводы и предположения.\n",
    "* Построить точечный график количества заказов по пользователям. Сделать выводы и предположения.\n",
    "* Посчитать 95-й и 99-й перцентили количества заказов на пользователя. Выберать границу для определения аномальных пользователей.\n",
    "* Построить точечный график стоимостей заказов. Сделать выводы и предположения.\n",
    "* Посчитать 95-й и 99-й перцентили стоимости заказов. Выберать границу для определения аномальных заказов.\n",
    "* Посчитать статистическую значимость различий в среднем количестве заказов на посетителя между группами по «сырым» данным. Сделать выводы и предположения.\n",
    "* Посчитать статистическую значимость различий в среднем чеке заказа между группами по «сырым» данным. Сделать выводы и предположения.\n",
    "* Посчитать статистическую значимость различий в среднем количестве заказов на посетителя между группами по «очищенным» данным. Сделать выводы и предположения.\n",
    "* Посчитать статистическую значимость различий в среднем чеке заказа между группами по «очищенным» данным. Сделать выводы и предположения.\n",
    "* Принять решение по результатам теста и объяснить его. Варианты решений:\n",
    "    1. Остановить тест, зафиксировать победу одной из групп.\n",
    "    2. Остановить тест, зафиксировать отсутствие различий между группами.\n",
    "    3. Продолжить тест."
   ]
  },
  {
   "cell_type": "code",
   "execution_count": null,
   "id": "6c0dd240",
   "metadata": {},
   "outputs": [],
   "source": [
    "# импортирую библиотеки\n",
    "import pandas as pd #импортировал библиотеку pandas\n",
    "import matplotlib.pyplot as plt #импортировал библиотеку mathplotlib\n",
    "import seaborn as sns #импортировал библиотеку seaborn\n",
    "import numpy as np #импортировал библиотеку numpy\n",
    "from scipy import stats as st # из библиотеки scipy импортировал модуль stats\n",
    "import datetime as dt  #импортировал библиотеку datetime"
   ]
  },
  {
   "cell_type": "markdown",
   "id": "31fb5882",
   "metadata": {},
   "source": [
    "### Часть 1. Приоритизация гипотез."
   ]
  },
  {
   "cell_type": "code",
   "execution_count": null,
   "id": "703cd048",
   "metadata": {},
   "outputs": [],
   "source": [
    "# загружаю данные о гипотезах\n",
    "try:\n",
    "    hypothesis = pd.read_csv(r\"D:\\DOCS\\datasets\\Проект принятие решений/hypothesis.csv\")\n",
    "except FileNotFoundError:\n",
    "    hypothesis = pd.read_csv('/datasets/hypothesis.csv')"
   ]
  },
  {
   "cell_type": "code",
   "execution_count": null,
   "id": "186e029f",
   "metadata": {},
   "outputs": [],
   "source": [
    "pd.set_option('display.max_colwidth', None)\n",
    "# вывел данные о гипотезах\n",
    "hypothesis"
   ]
  },
  {
   "cell_type": "code",
   "execution_count": null,
   "id": "8b355ebe",
   "metadata": {},
   "outputs": [],
   "source": [
    "# привел названия столбцов датафрейма hypothesis к нижнему регистру\n",
    "hypothesis.columns = hypothesis.columns.str.lower()"
   ]
  },
  {
   "cell_type": "code",
   "execution_count": null,
   "id": "6def46d6",
   "metadata": {},
   "outputs": [],
   "source": [
    "# провожу ICE Scoring для представленных гипотез\n",
    "hypothesis['ICE'] = hypothesis['impact'] * hypothesis['confidence'] / hypothesis['efforts']\n",
    "hypothesis['ICE'] = np.round(hypothesis['ICE'], decimals = 2)"
   ]
  },
  {
   "cell_type": "code",
   "execution_count": null,
   "id": "30398247",
   "metadata": {},
   "outputs": [],
   "source": [
    "# Вывожу названия гипотез отсортированные по ICE Scorе\n",
    "hypothesis[['hypothesis','ICE']].sort_values(by='ICE', ascending=False)"
   ]
  },
  {
   "cell_type": "markdown",
   "id": "a57cac16",
   "metadata": {},
   "source": [
    "#### Самыми перспективными по ICE Scorе показали себя 8, 0 и 7 гипотезы. Они обладают высокими показателями влияния и уверенности, а также относительно низким показателем затрат на реализацию в сравнении с остальными."
   ]
  },
  {
   "cell_type": "code",
   "execution_count": null,
   "id": "22b49417",
   "metadata": {},
   "outputs": [],
   "source": [
    "# провожу RICE Scoring для представленных гипотез\n",
    "hypothesis['RICE'] = hypothesis['reach'] * hypothesis['impact'] * hypothesis['confidence'] / hypothesis['efforts']"
   ]
  },
  {
   "cell_type": "code",
   "execution_count": null,
   "id": "35e845c2",
   "metadata": {},
   "outputs": [],
   "source": [
    "# Вывожу названия гипотез отсортированные по RICE Scorе\n",
    "hypothesis[['hypothesis','RICE']].sort_values(by='RICE', ascending=False)"
   ]
  },
  {
   "cell_type": "markdown",
   "id": "4257f2df",
   "metadata": {},
   "source": [
    "#### По RICE Scorе самыми перспективными показали себя 7 и 2 гипотезы, 0 и 6 гипотезы имеют равное количество очков. Помимо критериев, использованных в ICE Score, в RICE учитывается предполагаемый охват аудитории. Данный показатель наивысший у гипотезы под номером 7."
   ]
  },
  {
   "cell_type": "markdown",
   "id": "fd22fa71",
   "metadata": {},
   "source": [
    "### Вывод: \n",
    "#### По результатам ICE_Score лидирующими гипотезами признаем:\n",
    "* №8 Запустить акцию, дающую скидку на товар в день рождения - 16,20 баллов\n",
    "* №0 Добавить два новых канала привлечения трафика, что позволит привлекать на 30% больше пользователей - 13,33 балла\n",
    "* №7 Добавить форму подписки на все основные страницы, чтобы собрать базу клиентов для email-рассылок - 11,20 балла\n",
    "#### По результатам RICE_Score лидирующими гипотезами признаем:\n",
    "* №7 Добавить форму подписки на все основные страницы, чтобы собрать базу клиентов для email-рассылок - 112,0 баллов\n",
    "* №2 Добавить блоки рекомендаций товаров на сайт интернет магазина, чтобы повысить конверсию и средний чек заказа - 56,0 баллов\n",
    "* №0 Добавить два новых канала привлечения трафика, что позволит привлекать на 30% больше пользователей - 40 баллов\n",
    "* №6 Показать на главной странице баннеры с актуальными акциями и распродажами, чтобы увеличить конверсию - 40 баллов\n",
    "#### По результатам обеих фреймворков наиболее приоритетной гипотезой можно признать гипотезу №7"
   ]
  },
  {
   "cell_type": "markdown",
   "id": "43c72cac",
   "metadata": {},
   "source": [
    "### Часть 2. Анализ A/B-теста"
   ]
  },
  {
   "cell_type": "code",
   "execution_count": null,
   "id": "5ce99a85",
   "metadata": {},
   "outputs": [],
   "source": [
    "# загружаю данные о заказах\n",
    "try:\n",
    "    orders = pd.read_csv(r\"D:\\DOCS\\datasets\\Проект принятие решений/orders.csv\")\n",
    "except FileNotFoundError:\n",
    "    orders = pd.read_csv('/datasets/orders.csv')"
   ]
  },
  {
   "cell_type": "code",
   "execution_count": null,
   "id": "70c25120",
   "metadata": {},
   "outputs": [],
   "source": [
    "# вывожу первые 10 строк датафрейма orders\n",
    "orders.head(10)"
   ]
  },
  {
   "cell_type": "code",
   "execution_count": null,
   "id": "0967725f",
   "metadata": {},
   "outputs": [],
   "source": [
    "# вывожу информацию о датафрейме orders\n",
    "orders.info()"
   ]
  },
  {
   "cell_type": "code",
   "execution_count": null,
   "id": "b77b9102",
   "metadata": {},
   "outputs": [],
   "source": [
    "# привожу столбец date к формату datetime\n",
    "orders['date'] = orders['date'].map(lambda x: dt.datetime.strptime(x, '%Y-%m-%d'))"
   ]
  },
  {
   "cell_type": "code",
   "execution_count": null,
   "id": "fe7efafb",
   "metadata": {},
   "outputs": [],
   "source": [
    "# Сheck\n",
    "orders.info()"
   ]
  },
  {
   "cell_type": "code",
   "execution_count": null,
   "id": "7e6fa2a1",
   "metadata": {},
   "outputs": [],
   "source": [
    "# выполнил проверку на пропуски в датафрейме orders\n",
    "orders.isna().sum()"
   ]
  },
  {
   "cell_type": "code",
   "execution_count": null,
   "id": "bc1c77b2",
   "metadata": {},
   "outputs": [],
   "source": [
    "# выполнил проверку на дубликаты в датафрейме orders\n",
    "orders.duplicated().sum()"
   ]
  },
  {
   "cell_type": "code",
   "execution_count": null,
   "id": "131951b2",
   "metadata": {},
   "outputs": [],
   "source": [
    "# загружаю данные о посетителях\n",
    "try:\n",
    "    visitors = pd.read_csv(r\"D:\\DOCS\\datasets\\Проект принятие решений/visitors.csv\")\n",
    "except FileNotFoundError:\n",
    "    visitors = pd.read_csv('/datasets/visitors.csv')"
   ]
  },
  {
   "cell_type": "code",
   "execution_count": null,
   "id": "b32587a7",
   "metadata": {},
   "outputs": [],
   "source": [
    "# вывожу первые 10 строк датафрейма visitors\n",
    "visitors.head(10)"
   ]
  },
  {
   "cell_type": "code",
   "execution_count": null,
   "id": "6c4a396f",
   "metadata": {},
   "outputs": [],
   "source": [
    "# вывожу информацию о датафрейме visitors\n",
    "visitors.info()"
   ]
  },
  {
   "cell_type": "code",
   "execution_count": null,
   "id": "e02e6427",
   "metadata": {},
   "outputs": [],
   "source": [
    "# привожу столбец date к формату datetime\n",
    "visitors['date'] = visitors['date'].map(lambda x: dt.datetime.strptime(x, '%Y-%m-%d'))"
   ]
  },
  {
   "cell_type": "code",
   "execution_count": null,
   "id": "e4628210",
   "metadata": {},
   "outputs": [],
   "source": [
    "# Check\n",
    "visitors.info()"
   ]
  },
  {
   "cell_type": "code",
   "execution_count": null,
   "id": "4191e0be",
   "metadata": {},
   "outputs": [],
   "source": [
    "# выполнил проверку на пропуски в датафрейме visitors\n",
    "visitors.isna().sum()"
   ]
  },
  {
   "cell_type": "code",
   "execution_count": null,
   "id": "ca7ad076",
   "metadata": {},
   "outputs": [],
   "source": [
    "# выполнил проверку на дубликаты в датафрейме visitors\n",
    "visitors.duplicated().sum()"
   ]
  },
  {
   "cell_type": "code",
   "execution_count": null,
   "id": "68cf2cc9",
   "metadata": {},
   "outputs": [],
   "source": [
    "# отображаю количество уникальных групп в датафрейме visitors\n",
    "print('Количество уникальных групп в колонке group датафрейма visitors равно:', visitors['group'].nunique())"
   ]
  },
  {
   "cell_type": "code",
   "execution_count": null,
   "id": "dde514a5",
   "metadata": {},
   "outputs": [],
   "source": [
    "# отображаю количество уникальных групп в датафрейме orders\n",
    "print('Количество уникальных групп в колонке group датафрейма orders равно:', orders['group'].nunique())"
   ]
  },
  {
   "cell_type": "code",
   "execution_count": null,
   "id": "6cac0844",
   "metadata": {},
   "outputs": [],
   "source": [
    "print('Минимальная дата заказа:', orders['date'].dt.date.min(), 'Максимальная дата заказа:', orders['date'].dt.date.max())"
   ]
  },
  {
   "cell_type": "code",
   "execution_count": null,
   "id": "6b98264b",
   "metadata": {},
   "outputs": [],
   "source": [
    "print('Минимальная дата посещения сайта:', visitors['date'].dt.date.min(), 'Максимальная дата посещения сайта:', visitors['date'].dt.date.max())"
   ]
  },
  {
   "cell_type": "code",
   "execution_count": null,
   "id": "83369d71",
   "metadata": {},
   "outputs": [],
   "source": [
    "# делаю срез данных датафрейма orders по группе тестирования А\n",
    "groupA = orders.loc[orders['group'].values == 'A']\n",
    "# вывожу количество уникальных Id пользователей группы А\n",
    "groupA['visitorId'].nunique()"
   ]
  },
  {
   "cell_type": "code",
   "execution_count": null,
   "id": "a8fe7508",
   "metadata": {},
   "outputs": [],
   "source": [
    "# делаю срез данных датафрейма orders по группе тестирования В\n",
    "groupB = orders.loc[orders['group'].values == 'B']\n",
    "# вывожу количество уникальных Id пользователей группы В\n",
    "groupB['visitorId'].nunique()"
   ]
  },
  {
   "cell_type": "code",
   "execution_count": null,
   "id": "bc30401f",
   "metadata": {},
   "outputs": [],
   "source": [
    "print('Количество пользователей в группе А совершивших заказ:', groupA['visitorId'].nunique(),\n",
    "      'Количество пользователей в группе B совершивших заказ:', groupB['visitorId'].nunique())"
   ]
  },
  {
   "cell_type": "code",
   "execution_count": null,
   "id": "f2700686",
   "metadata": {},
   "outputs": [],
   "source": [
    "# соединяю оба среза групп А и В таким образом, чтобы в таблицы остались только записи с Id пользователей, \n",
    "# встречающихся в обеих срезах\n",
    "coincid = pd.merge(groupA, groupB, on=['visitorId'], how='inner')\n",
    "# Вывожу количество уникальных visitorId, встречающихся в обеих группах\n",
    "coincid['visitorId'].nunique()"
   ]
  },
  {
   "cell_type": "markdown",
   "id": "2de0bff7",
   "metadata": {},
   "source": [
    "### Вывод по итогу подготовки данных:\n",
    "* Датафрейм orders содержит 5 колонок: transactionId — идентификатор заказа, visitorId — идентификатор пользователя, совершившего заказ date — дата, когда был совершён заказ, revenue — выручка заказа, group — группа A/B-теста, в которую попал заказ.\n",
    "* Выполнено преобразование столбеца date к формату datetime.\n",
    "* Пропусков и дубликатов в датафрейме orders не обнаружено.\n",
    "* Количество уникальных групп в колонке group датафрейма orders равно: 2\n",
    "* Минимальная дата заказа по данным колонки date, датафрейма orders: 2019-08-01. Максимальная дата заказа по данным колонки date, датафрейма orders: 2019-08-31.\n",
    "\n",
    "* Датафрейм visitors содержит 3 колонки: date — дата. group — группа A/B-теста, visitors — количество пользователей в указанную дату в указанной группе A/B-теста.\n",
    "* Выполнено преобразование столбеца date к формату datetime.\n",
    "* Пропусков и дубликатов в датафрейме visitors не обнаружено.\n",
    "* Количество уникальных групп в колонке group датафрейма visitors равно: 2\n",
    "* Минимальная дата посещения сайта по данным колонки date, датафрейма visitors: 2019-08-01. Максимальная дата посещения сайта по данным колонки date, датафрейма visitors: 2019-08-31\n",
    "\n",
    "### Информация о проводимом А/В тесте \n",
    "* На основе данных дата начала тестирования 2019-08-01, дата окончания тестирования 2019-08-31.\n",
    "* Исследуются 2 группы пользователей\n",
    "* В группах обнаружены дубликаты - 58 пользователей. Чтобы получить доставерные результаты предпочтительно избавиться от дубликатов. Однако в нашем случае иформация о пользователях - visitorId имеется только в датафрейме orders. В виду того, что данная информация отсутствует в датафрейме visitors, полностью избавиться от дубликатов не предсталяется возможным. Решено проводить анализ по имеющимся данным."
   ]
  },
  {
   "cell_type": "code",
   "execution_count": null,
   "id": "09fbba64",
   "metadata": {},
   "outputs": [],
   "source": [
    "# создаю массив уникальных пар значений дат и групп теста\n",
    "datesGroups = orders[['date','group']].drop_duplicates() "
   ]
  },
  {
   "cell_type": "code",
   "execution_count": null,
   "id": "f2f6f7fa",
   "metadata": {},
   "outputs": [],
   "source": [
    "# получаю агрегированные кумулятивные по дням данные о заказах \n",
    "ordersAggregated = datesGroups.apply(\n",
    "    lambda x: orders[np.logical_and(\n",
    "            orders['date'] <= x['date'], orders['group'] == x['group'])\n",
    "                    ].agg({'date' : 'max', \n",
    "                           'group' : 'max', \n",
    "                           'transactionId' : 'nunique', \n",
    "                           'visitorId' : 'nunique', \n",
    "                           'revenue' : 'sum'}\n",
    "                          ), axis=1\n",
    ").sort_values(by=['date','group'])"
   ]
  },
  {
   "cell_type": "code",
   "execution_count": null,
   "id": "c8da3372",
   "metadata": {},
   "outputs": [],
   "source": [
    "# получаю агрегированные кумулятивные по дням данные о посетителях \n",
    "visitorsAggregated = datesGroups.apply(\n",
    "    lambda x: visitors[np.logical_and(\n",
    "        visitors['date'] <= x['date'], visitors['group'] == x['group'])\n",
    "                      ].agg({'date' : 'max', \n",
    "                             'group' : 'max', \n",
    "                             'visitors' : 'sum'}\n",
    "                           ), axis=1\n",
    ").sort_values(by=['date','group'])"
   ]
  },
  {
   "cell_type": "code",
   "execution_count": null,
   "id": "2a2dc64d",
   "metadata": {},
   "outputs": [],
   "source": [
    "# объединяю кумулятивные данные в одной таблице\n",
    "cumulativeData = ordersAggregated.merge(visitorsAggregated, left_on=['date', 'group'], right_on=['date', 'group'])"
   ]
  },
  {
   "cell_type": "code",
   "execution_count": null,
   "id": "8799dfd9",
   "metadata": {},
   "outputs": [],
   "source": [
    "#присваиваю столбцам датафрейма cumulativeData новые названия\n",
    "cumulativeData.columns = ['date', 'group', 'orders', 'buyers', 'revenue', 'visitors']"
   ]
  },
  {
   "cell_type": "code",
   "execution_count": null,
   "id": "c3a38fc9",
   "metadata": {},
   "outputs": [],
   "source": [
    "# вывожу первые 5 строк датафрейма cumulativeData\n",
    "cumulativeData.head(5)"
   ]
  },
  {
   "cell_type": "code",
   "execution_count": null,
   "id": "e5a07970",
   "metadata": {},
   "outputs": [],
   "source": [
    "# создаю датафрейм с кумулятивным количеством заказов и кумулятивной выручкой по дням в группе А\n",
    "cumulativeRevenueA = cumulativeData[cumulativeData['group']=='A'][['date','revenue', 'orders','visitors']]"
   ]
  },
  {
   "cell_type": "code",
   "execution_count": null,
   "id": "bf70d1ef",
   "metadata": {},
   "outputs": [],
   "source": [
    "# создаю датафрейм с кумулятивным количеством заказов и кумулятивной выручкой по дням в группе B\n",
    "cumulativeRevenueB = cumulativeData[cumulativeData['group']=='B'][['date','revenue', 'orders','visitors']]"
   ]
  },
  {
   "cell_type": "code",
   "execution_count": null,
   "id": "692fddee",
   "metadata": {},
   "outputs": [],
   "source": [
    "# Строю график с кумулятивной выручкой по дням в группе А\n",
    "plt.plot(cumulativeRevenueA['date'].dt.day, cumulativeRevenueA['revenue'], label='A')\n",
    "# Строю график с кумулятивной выручкой по дням в группе В\n",
    "plt.plot(cumulativeRevenueB['date'].dt.day, cumulativeRevenueB['revenue'], label='B')\n",
    "# добавляю подписи к осям и заголовок диаграммы\n",
    "plt.xlabel('дата', fontsize=10)\n",
    "plt.ylabel(r'выручка', fontsize=10)\n",
    "plt.title(r'Кумулятивная выручка по группам', fontsize=12)\n",
    "# включаю основную сетку\n",
    "plt.grid(which='major')\n",
    "plt.legend();"
   ]
  },
  {
   "cell_type": "markdown",
   "id": "c1e728a2",
   "metadata": {},
   "source": [
    "#### В группе А мы видим постепенное плавное увеличение выручки в течение всего времени наблюдения. В группе В наблюдается резкий рост выручки 18 числа. Это может говорить о росте числа заказовили или о появлении очень дорогих заказов в этот день. Необходимо анализировать выбросы."
   ]
  },
  {
   "cell_type": "code",
   "execution_count": null,
   "id": "29a6078c",
   "metadata": {},
   "outputs": [],
   "source": [
    "# Строю график с кумулятивным средним чеком в группе А\n",
    "plt.plot(cumulativeRevenueA['date'].dt.day, cumulativeRevenueA['revenue']/cumulativeRevenueA['orders'], label='A')\n",
    "# Строю график с кумулятивным средним чеком в группе В\n",
    "plt.plot(cumulativeRevenueB['date'].dt.day, cumulativeRevenueB['revenue']/cumulativeRevenueB['orders'], label='B')\n",
    "# добавляю подписи к осям и заголовок диаграммы\n",
    "plt.xlabel('дата', fontsize=10)\n",
    "plt.ylabel(r'средний чек', fontsize=10)\n",
    "plt.title(r'Кумулятивный средний чек по группам', fontsize=12)\n",
    "# включаю основную сетку\n",
    "plt.grid(which='major')\n",
    "plt.legend();"
   ]
  },
  {
   "cell_type": "markdown",
   "id": "548e98b1",
   "metadata": {},
   "source": [
    "#### На этом графике мы видим, что в группе А с начала наблюдения до 6 числа наблюдался спад, что говорит о большом числе дешевых заказов. Затем рост до 14 числа говорит о том, что заказы в этой группе стали дороже. С 14 числа и до 26 средний чек в данной группе установился на значении 6800-7000 с положительной динамикой до конца наблюдения. \n",
    "#### В группе В наблюдается скачкообразный рост с начала наблюдения до 4 числа, затем с 5 до 8, с 14 до 16. 18 числа наблюдается разкий подъем. Данные подъемы говорят о приходе дорогостоящих заказов- выбросов, которые повлияли на средний чек. С 19 числа до конча наблюдения мы видим постепенный спад суммы среднего чека в группе В."
   ]
  },
  {
   "cell_type": "code",
   "execution_count": null,
   "id": "bcbed7ba",
   "metadata": {},
   "outputs": [],
   "source": [
    "# собираем данные в одном датафрейме\n",
    "mergedCumulativeRevenue = cumulativeRevenueA.merge(cumulativeRevenueB, left_on='date', right_on='date', how='left', suffixes=['A', 'B'])\n",
    "# cтроим отношение средних чеков группы В к группе А\n",
    "plt.plot(mergedCumulativeRevenue['date'].dt.day, (mergedCumulativeRevenue['revenueB']/mergedCumulativeRevenue['ordersB'])/(mergedCumulativeRevenue['revenueA']/mergedCumulativeRevenue['ordersA'])-1)\n",
    "plt.xlabel(r'день', fontsize=10)\n",
    "plt.ylabel(r'отношение чеков', fontsize=10)\n",
    "plt.title(r'Относительное изменение кумулятивного среднего чека группы B к группе A', fontsize=12)\n",
    "# включаем сетку\n",
    "plt.grid(which='major')\n",
    "# добавляем ось X\n",
    "plt.axhline(y=0, color='black', linestyle='--');"
   ]
  },
  {
   "cell_type": "markdown",
   "id": "5bd40117",
   "metadata": {},
   "source": [
    "#### Места пересечения отметка 0 по оси у говорият об отсутствии различий между группами в значении среднего кумутятивного чека в момент пересечения. Эпизоды подъема графика говорят либо об относительном повышении среднего чека в группе В, в момент снижения среднего чера в группе А, как на предыдущем графике с 1 по 4 день. Либо о резком повышении среднего чека в группе В относительно стагнирующего или незначительно меняющегося в группе А, как мы наблюдали на предыдущем графике 18 числа. Эпизоды снижения графика говорят о повышении среднего чека в группе А в сравнении со стагирующим или снижающимся в группе В. Налисчие подобных скачков графика говорит о наличии заказов, резко изменивших средний чек в дату наблюдения."
   ]
  },
  {
   "cell_type": "code",
   "execution_count": null,
   "id": "b389df2b",
   "metadata": {},
   "outputs": [],
   "source": [
    "# Строю график кумулятивного среднего количества заказов на посетителя в группе А\n",
    "plt.plot(cumulativeRevenueA['date'].dt.day, cumulativeRevenueA['orders']/cumulativeRevenueA['visitors'], label='A')\n",
    "# Строю график кумулятивного среднего количества заказов на посетителя в группе В\n",
    "plt.plot(cumulativeRevenueB['date'].dt.day, cumulativeRevenueB['orders']/cumulativeRevenueB['visitors'], label='B')\n",
    "# добавляю подписи к осям и заголовок диаграммы\n",
    "plt.xlabel('дата', fontsize=10)\n",
    "plt.ylabel(r'количество заказов', fontsize=10)\n",
    "plt.title(r'Кумулятивное среднего количества заказов на посетителя по группам', fontsize=12)\n",
    "# включаю основную сетку\n",
    "plt.grid(which='major')\n",
    "plt.legend();"
   ]
  },
  {
   "cell_type": "markdown",
   "id": "9368056a",
   "metadata": {},
   "source": [
    "#### Кумулятивное среднее значение заказов на одного посетителя в группе А ниже в сравнении с группой В. Это говорит о том, что посетители в группе А менее охотно оформляют заказы в сравнении с посетителями из группы В "
   ]
  },
  {
   "cell_type": "code",
   "execution_count": null,
   "id": "d02de296",
   "metadata": {},
   "outputs": [],
   "source": [
    "# cтроим отношение средних чеков группы В к группе А\n",
    "plt.plot(mergedCumulativeRevenue['date'].dt.day, (mergedCumulativeRevenue['ordersB']/mergedCumulativeRevenue['visitorsB'])/(mergedCumulativeRevenue['ordersA']/mergedCumulativeRevenue['visitorsA'])-1)\n",
    "plt.xlabel(r'день', fontsize=10)\n",
    "plt.ylabel(r'отношение среднего количества заказов', fontsize=10)\n",
    "plt.title(r'Относительное изменение кумулятивного среднего количества заказов группы B к группе A', fontsize=12)\n",
    "# включаем сетку\n",
    "plt.grid(which='major')\n",
    "# добавляем ось X\n",
    "plt.axhline(y=0, color='black', linestyle='--');"
   ]
  },
  {
   "cell_type": "markdown",
   "id": "c29d3291",
   "metadata": {},
   "source": [
    "#### Кумлятивное среднее количество заказов в группе В больше в сравнении с группой А."
   ]
  },
  {
   "cell_type": "markdown",
   "id": "e4915c71",
   "metadata": {},
   "source": [
    "### Оценка количества заказов по пользователям"
   ]
  },
  {
   "cell_type": "code",
   "execution_count": null,
   "id": "e8e382cb",
   "metadata": {},
   "outputs": [],
   "source": [
    "# считаю количество уникальных заказов в разбивке по пользователям\n",
    "ordersByUsers = (orders.groupby('visitorId', as_index=False).agg({'transactionId': 'nunique'}))\n",
    "# переименовываю столбцы датафрейма ordersByUsers\n",
    "ordersByUsers.columns = ['userId', 'orders']\n",
    "# сортирую пользователей по количеству заказов, по убыванию\n",
    "ordersByUsers.sort_values(by='orders', ascending=False).head(10)"
   ]
  },
  {
   "cell_type": "code",
   "execution_count": null,
   "id": "5d3f840d",
   "metadata": {},
   "outputs": [],
   "source": [
    "# по оси Х задам количество строк датафрейма ordersByUsers\n",
    "x_values = pd.Series(range(0,len(ordersByUsers)))\n",
    "# строю точечную диаграмму количества заказов пользователями\n",
    "plt.scatter(x_values, ordersByUsers['orders']);\n",
    "# добавил подписи и название графика\n",
    "plt.xlabel(r'номер записи пользователя в датафрейме ordersByUsers', fontsize=10)\n",
    "plt.ylabel(r'количество заказов', fontsize=10)\n",
    "plt.title(r'Количество заказов по пользователям', fontsize=12)\n",
    "# включаю дополнительную разметку графика\n",
    "plt.minorticks_on()\n",
    "#  определяю внешний вид линий основной сетки\n",
    "plt.grid(which='major',\n",
    "         color = 'k', \n",
    "         linewidth = 0.5)\n",
    "# определяю внешний вид дополнительной сетки\n",
    "plt.grid(which='minor', \n",
    "         color = 'k', \n",
    "         linestyle = ':')"
   ]
  },
  {
   "cell_type": "markdown",
   "id": "136cf741",
   "metadata": {},
   "source": [
    "#### Большинство пользователей делают на сайте до 3 заказов включительно."
   ]
  },
  {
   "cell_type": "code",
   "execution_count": null,
   "id": "b78cd26f",
   "metadata": {},
   "outputs": [],
   "source": [
    "# считаю 95-й и 99-й перцентили количества заказов на пользователя\n",
    "print('95-й и 99-й перцентили количества заказов на пользователя:', np.percentile(ordersByUsers['orders'], [95, 99]))"
   ]
  },
  {
   "cell_type": "markdown",
   "id": "b22133e0",
   "metadata": {},
   "source": [
    "#### За верхниюю границу количества заказов возьмем 3. Таким образом аномальными значениями будем считать 4 и выше."
   ]
  },
  {
   "cell_type": "markdown",
   "id": "410c9b3d",
   "metadata": {},
   "source": [
    "### Оценка стоимости заказов пользователей"
   ]
  },
  {
   "cell_type": "code",
   "execution_count": null,
   "id": "3300f8a4",
   "metadata": {},
   "outputs": [],
   "source": [
    "# считаю стоимость заказов в разбивке по пользователям\n",
    "revenueByUsers = (orders.groupby('visitorId', as_index=False).agg({'revenue': 'sum'}))\n",
    "# переименовываю столбцы датафрейма revenueByUsers\n",
    "revenueByUsers.columns = ['userId', 'revenue']\n",
    "# сортирую пользователей по стоимости заказов, по убыванию\n",
    "revenueByUsers.sort_values(by='revenue', ascending=False).head(10)"
   ]
  },
  {
   "cell_type": "code",
   "execution_count": null,
   "id": "ece177a7",
   "metadata": {},
   "outputs": [],
   "source": [
    "# по оси Х задам количество строк датафрейма revenueByUsers\n",
    "x_values = pd.Series(range(0,len(revenueByUsers)))\n",
    "# строю точечную диаграмму стоимости заказов пользователей\n",
    "plt.scatter(x_values, revenueByUsers['revenue']);\n",
    "# добавил подписи и название графика\n",
    "plt.xlabel(r'номер записи пользователя в датафрейме ordersByUsers', fontsize=10)\n",
    "plt.ylabel(r'сумма заказа', fontsize=10)\n",
    "plt.title(r'Стоимость заказов по пользователям', fontsize=12)\n",
    "# включаю дополнительную разметку графика\n",
    "plt.minorticks_on()\n",
    "#  определяю внешний вид линий основной сетки\n",
    "plt.grid(which='major',\n",
    "         color = 'k', \n",
    "         linewidth = 0.5)\n",
    "# определяю внешний вид дополнительной сетки\n",
    "plt.grid(which='minor', \n",
    "         color = 'k', \n",
    "         linestyle = ':')"
   ]
  },
  {
   "cell_type": "code",
   "execution_count": null,
   "id": "6a522b67",
   "metadata": {},
   "outputs": [],
   "source": [
    "# делаю срез данных датафрейма revenueByUsers со стоимостью заказов ниже 50000\n",
    "revenueByUsers_slice = revenueByUsers.loc[revenueByUsers['revenue'].values < 50000]\n",
    "# вывожу первые 5 записей полученного среза\n",
    "revenueByUsers_slice.sort_values(by='revenue', ascending=False).head(5)"
   ]
  },
  {
   "cell_type": "code",
   "execution_count": null,
   "id": "c584e81b",
   "metadata": {},
   "outputs": [],
   "source": [
    "# по оси Х задам количество строк датафрейма revenueByUsers_slice\n",
    "x_values = pd.Series(range(0,len(revenueByUsers_slice)))\n",
    "# строю точечную диаграмму стоимости заказов пользователей\n",
    "plt.scatter(x_values, revenueByUsers_slice['revenue']);\n",
    "# добавил подписи и название графика\n",
    "plt.xlabel(r'номер записи пользователя в датафрейме revenueByUsers_slice', fontsize=10)\n",
    "plt.ylabel(r'сумма заказа', fontsize=10)\n",
    "plt.title(r'Стоимость заказов по пользователям', fontsize=12)\n",
    "# включаю дополнительную разметку графика\n",
    "plt.minorticks_on()\n",
    "#  определяю внешний вид линий основной сетки\n",
    "plt.grid(which='major',\n",
    "         color = 'k', \n",
    "         linewidth = 0.5)\n",
    "# определяю внешний вид дополнительной сетки\n",
    "plt.grid(which='minor', \n",
    "         color = 'k', \n",
    "         linestyle = ':')"
   ]
  },
  {
   "cell_type": "markdown",
   "id": "a7a21c0d",
   "metadata": {},
   "source": [
    "#### По графику видно, что большинство пользователей делают заказы на сумму не превышающую 30000"
   ]
  },
  {
   "cell_type": "code",
   "execution_count": null,
   "id": "dabfbb46",
   "metadata": {},
   "outputs": [],
   "source": [
    "# считаю 95-й и 99-й перцентили стоимости заказов пользователей\n",
    "print('95-й и 99-й перцентили стоимости заказов на пользователя:', np.percentile(revenueByUsers['revenue'], [95, 99]))"
   ]
  },
  {
   "cell_type": "markdown",
   "id": "a6944640",
   "metadata": {},
   "source": [
    "#### Менее 5% пользователей заказывали на сумму выше 33000. Аномальными будем считать значения выше этой суммы."
   ]
  },
  {
   "cell_type": "markdown",
   "id": "86e180e5",
   "metadata": {},
   "source": [
    "### Статистическая значимость различий"
   ]
  },
  {
   "cell_type": "code",
   "execution_count": null,
   "id": "a97d6d94",
   "metadata": {},
   "outputs": [],
   "source": [
    "# создал таблицу пользователей группы А, заходивших на сайт, с сортировкой по дням\n",
    "visitorsADaily = visitors[visitors['group'] == 'A'][['date', 'visitors']]\n",
    "# # переименовал колонки таблицы и вывел первые 5 строк\n",
    "visitorsADaily.columns = ['date', 'visitorsPerDateA']\n",
    "visitorsADaily.head(5)"
   ]
  },
  {
   "cell_type": "code",
   "execution_count": null,
   "id": "4db3db46",
   "metadata": {},
   "outputs": [],
   "source": [
    "# создал таблицу пользователей группы В, заходивших на сайт, с сортировкой по дням\n",
    "visitorsBDaily = visitors[visitors['group'] == 'B'][['date', 'visitors']]\n",
    "# переименовал колонки таблицы и вывел первые 5 строк\n",
    "visitorsBDaily.columns = ['date', 'visitorsPerDateB']\n",
    "visitorsBDaily.head(5)"
   ]
  },
  {
   "cell_type": "code",
   "execution_count": null,
   "id": "3535242a",
   "metadata": {},
   "outputs": [],
   "source": [
    "# создал таблицу ordersByUsersA в которой каждому пользователю из группы А, совершившиму хотя бы один заказ \n",
    "# будет соответствовать количество заказов\n",
    "ordersByUsersA = (\n",
    "    orders[orders['group'] == 'A']\n",
    "    .groupby('visitorId', as_index=False)\n",
    "    .agg({'transactionId': pd.Series.nunique})\n",
    ")\n",
    "# переименовал колонки таблицы и вывел первые 5 строк\n",
    "ordersByUsersA.columns = ['userId', 'orders']\n",
    "ordersByUsersA.head(5)"
   ]
  },
  {
   "cell_type": "code",
   "execution_count": null,
   "id": "cf1c8329",
   "metadata": {},
   "outputs": [],
   "source": [
    "# создал таблицу ordersByUsersВ в которой каждому пользователю из группы В, совершившиму хотя бы один заказ \n",
    "# будет соответствовать количество заказов\n",
    "ordersByUsersB = (\n",
    "    orders[orders['group'] == 'B']\n",
    "    .groupby('visitorId', as_index=False)\n",
    "    .agg({'transactionId': pd.Series.nunique})\n",
    ")\n",
    "# переименовал колонки таблицы и вывел первые 5 строк\n",
    "ordersByUsersB.columns = ['userId', 'orders'] \n",
    "ordersByUsersB.head(5)"
   ]
  },
  {
   "cell_type": "code",
   "execution_count": null,
   "id": "5c015ad3",
   "metadata": {},
   "outputs": [],
   "source": [
    "# Создал таблицу sampleA, в которой пользователям группы А будет соответствовать количество заказов. \n",
    "# Тем, кто ничего не заказал, будут соответствовать нули.\n",
    "sampleA = pd.concat([ordersByUsersA['orders'],pd.Series(0, index=np.arange(visitorsADaily['visitorsPerDateA'].sum() - len(ordersByUsersA['orders'])), name='orders')],axis=0)"
   ]
  },
  {
   "cell_type": "code",
   "execution_count": null,
   "id": "429f07a0",
   "metadata": {},
   "outputs": [],
   "source": [
    "# Создал таблицу sampleB, в которой пользователям группы B будет соответствовать количество заказов. \n",
    "# Тем, кто ничего не заказал, будут соответствовать нули.\n",
    "sampleB = pd.concat([ordersByUsersB['orders'],pd.Series(0, index=np.arange(visitorsBDaily['visitorsPerDateB'].sum() - len(ordersByUsersB['orders'])), name='orders')],axis=0)"
   ]
  },
  {
   "cell_type": "markdown",
   "id": "1c048b24",
   "metadata": {},
   "source": [
    "### Относительные различия в среднем количестве заказов на посетителя по \"сырым\" данным"
   ]
  },
  {
   "cell_type": "markdown",
   "id": "9951ede2",
   "metadata": {},
   "source": [
    "#### Считаю статистическую значимость различий в среднем числе заказов на пользователя по «сырым» данным — без удаления аномальных пользователей.\n",
    "#### Сформулируем гипотезы: \n",
    "* H0: различий в среднем количестве заказов между группами нет. \n",
    "* H1: различия в среднем между группами есть.\n",
    "##### С целью проверки гипотез используем непараметрический тест Уилкоксона-Манна-Уитни. В связи с тем, что данные о покупках имеют не упорядоченный характер, работа критерия происходит не на основании значений, а на основании их рангов. Проверке подлежат сдвиги рангов одинаковых значенийю На основании их сходства или различия принимается решение о сходстве или различии совокупности"
   ]
  },
  {
   "cell_type": "code",
   "execution_count": null,
   "id": "f43f6fb9",
   "metadata": {},
   "outputs": [],
   "source": [
    "alpha = .05 # критический уровень статистической значимости\n",
    "p_value = st.mannwhitneyu(sampleA, sampleB)[1]\n",
    "print('p-значение: ',\"{0:.3f}\".format(p_value))\n",
    "if p_value < alpha:\n",
    "    print('Отвергаем нулевую гипотезу: между долями есть значимая разница')\n",
    "else:\n",
    "    print(\n",
    "        'Не получилось отвергнуть нулевую гипотезу, нет оснований считать доли разными'\n",
    "    ) \n",
    "print('Относительные различия в среднем количестве заказов на посетителя по \"сырым\" данным: составляет: ',\"{0:.1%}\".format(sampleB.mean() / sampleA.mean() - 1))"
   ]
  },
  {
   "cell_type": "markdown",
   "id": "48b15fe9",
   "metadata": {},
   "source": [
    "#### p-value = 0.017 меньше 0.05. Значит, нулевую гипотезу о том, что статистически значимых различий в среднем числе заказов между группами нет, отвергаем. В группах есть статичтически значимые различия в среднем количестве заказов. Относительный показатель количества заказов в группе В на 13,8% выше, чем в группе А."
   ]
  },
  {
   "cell_type": "markdown",
   "id": "1c13ef02",
   "metadata": {},
   "source": [
    "### Относительные различия в среднем чеке между группами по \"сырым\" данным"
   ]
  },
  {
   "cell_type": "markdown",
   "id": "968061db",
   "metadata": {},
   "source": [
    "#### Считаю статистическую значимость различий в  среднем чеке между группами по «сырым» данным — без удаления аномальных пользователей.\n",
    "#### Сформулируем гипотезы: \n",
    "* H0: различий в среднем чеке между группами нет. \n",
    "* H1: различия в среднем между группами есть."
   ]
  },
  {
   "cell_type": "code",
   "execution_count": null,
   "id": "eafdedb1",
   "metadata": {},
   "outputs": [],
   "source": [
    "alpha = .05 # критический уровень статистической значимости\n",
    "p_value = st.mannwhitneyu(orders[orders['group']=='A']['revenue'], orders[orders['group']=='B']['revenue'])[1]\n",
    "print('p-значение: ',\"{0:.3f}\".format(p_value))\n",
    "if p_value < alpha:\n",
    "    print('Отвергаем нулевую гипотезу: между долями есть значимая разница')\n",
    "else:\n",
    "    print(\n",
    "        'Не получилось отвергнуть нулевую гипотезу, нет оснований считать доли разными'\n",
    "    ) \n",
    "print('Относительные различия в среднем чеке между группами по \"сырым\" данным: ',\"{0:.1%}\".\n",
    "      format(orders[orders['group']=='B']['revenue'].mean()/orders[orders['group']=='A']['revenue'].mean()-1)) "
   ]
  },
  {
   "cell_type": "markdown",
   "id": "57bc13ad",
   "metadata": {},
   "source": [
    "#### p-value = 0.729 больше 0.05. Значит, нулевую гипотезу о том, что статистически значимых различий в среднем чеке между группами нет, не отвергаем. Относительный показатель среднего чека в группе В на 25.9% выше, чем в группе А."
   ]
  },
  {
   "cell_type": "code",
   "execution_count": null,
   "id": "e6239eb9",
   "metadata": {},
   "outputs": [],
   "source": [
    "# делаю срез пользователей с числом заказов более 3 и суммой заказов более 33000\n",
    "usersWithManyOrders = pd.concat([ordersByUsersA[ordersByUsersA['orders'] > np.percentile(ordersByUsersA['orders'],95)]['userId'],\n",
    "        ordersByUsersB[ordersByUsersB['orders'] > np.percentile(ordersByUsersB['orders'],95)]['userId']], axis=0)\n",
    "\n",
    "usersWithExpensiveOrders = orders[orders['revenue'] > np.percentile(orders['revenue'],95)]['visitorId']\n",
    "abnormalUsers = (pd.concat([usersWithManyOrders, usersWithExpensiveOrders], axis=0)\n",
    "    .drop_duplicates()\n",
    "    .sort_values())\n",
    "\n",
    "print('Количество пользователей с аномальным количеством заказов и с аномальной суммой заказов равно: ',\n",
    "      abnormalUsers.nunique()) "
   ]
  },
  {
   "cell_type": "code",
   "execution_count": null,
   "id": "c83271ee",
   "metadata": {},
   "outputs": [],
   "source": [
    "abnormalUsers_pepcent = (groupA['visitorId'].nunique() + groupB['visitorId'].nunique()) / abnormalUsers.nunique()\n",
    "print('Процент пользователей с аномальным количеством заказов и с аномальной суммой заказов равен: ',\n",
    "      \"{0:.1f}\".format(abnormalUsers_pepcent))"
   ]
  },
  {
   "cell_type": "markdown",
   "id": "55088c00",
   "metadata": {},
   "source": [
    "#### Пользователей с аномальной большим количеством и суммой заказа в группах оказалось 74, что составляет 14,7%"
   ]
  },
  {
   "cell_type": "code",
   "execution_count": null,
   "id": "7b4bf667",
   "metadata": {},
   "outputs": [],
   "source": [
    "# делаю выборку пользователей без аномальных значений в группе А\n",
    "sampleAFiltered = pd.concat([ordersByUsersA[np.logical_not(ordersByUsersA['userId'].isin(abnormalUsers))]['orders'],\n",
    "        pd.Series(0, index=np.arange(visitorsADaily['visitorsPerDateA'].sum() - len(ordersByUsersA['orders'])), name='orders')], axis=0)"
   ]
  },
  {
   "cell_type": "code",
   "execution_count": null,
   "id": "43cba41f",
   "metadata": {},
   "outputs": [],
   "source": [
    "# делаю выборку пользователей без аномальных значений в группе В\n",
    "sampleBFiltered = pd.concat([ordersByUsersB[np.logical_not(ordersByUsersB['userId'].isin(abnormalUsers))]['orders'],\n",
    "        pd.Series(0, index=np.arange(visitorsBDaily['visitorsPerDateB'].sum() - len(ordersByUsersB['orders'])), name='orders')], axis=0) "
   ]
  },
  {
   "cell_type": "markdown",
   "id": "f5ff8dfd",
   "metadata": {},
   "source": [
    "### Относительные различия  в среднем количестве заказов на посетителя по \"очищенным\" данным"
   ]
  },
  {
   "cell_type": "markdown",
   "id": "a90b441e",
   "metadata": {},
   "source": [
    "#### Считаю статистическую значимость различий в среднем числе заказов на пользователя по «очищенным» данным — без аномальных пользователей.\n",
    "#### Сформулируем гипотезы: \n",
    "* H0: различий в среднем количестве заказов между группами нет. \n",
    "* H1: различия в среднем между группами есть."
   ]
  },
  {
   "cell_type": "code",
   "execution_count": null,
   "id": "92598f97",
   "metadata": {},
   "outputs": [],
   "source": [
    "alpha = .05 # критический уровень статистической значимости\n",
    "p_value = st.mannwhitneyu(sampleAFiltered, sampleBFiltered)[1]\n",
    "print('p-значение: ',\"{0:.3f}\".format(p_value))\n",
    "if p_value < alpha:\n",
    "    print('Отвергаем нулевую гипотезу: между долями есть значимая разница')\n",
    "else:\n",
    "    print(\n",
    "        'Не получилось отвергнуть нулевую гипотезу, нет оснований считать доли разными'\n",
    "    ) \n",
    "print('Относительные различия  в среднем количестве заказов на посетителя по \"очищенным\" данным: ',\"{0:.1%}\".\n",
    "      format(sampleBFiltered.mean()/sampleAFiltered.mean()-1))"
   ]
  },
  {
   "cell_type": "markdown",
   "id": "734ff4dc",
   "metadata": {},
   "source": [
    "#### p-value = 0.016 меньше 0.05. Значит, нулевую гипотезу о том, что статистически значимых различий в среднем числе заказов между группами нет, отвергаем. В группах есть статичтически значимые различия в среднем количестве заказов.  Относительный показатель количества заказов в группе В на 15,2% выше, чем в группе А."
   ]
  },
  {
   "cell_type": "markdown",
   "id": "24e460c8",
   "metadata": {},
   "source": [
    "### Относительные различия  в среднем чеке на посетителя по \"очищенным\" данным"
   ]
  },
  {
   "cell_type": "markdown",
   "id": "802412c6",
   "metadata": {},
   "source": [
    "#### Считаю статистическую значимость различий в  среднем чеке между группами по «очищенным» данным — без аномальных пользователей.\n",
    "#### Сформулируем гипотезы: \n",
    "* H0: различий в среднем чеке между группами нет. \n",
    "* H1: различия в среднем между группами есть."
   ]
  },
  {
   "cell_type": "code",
   "execution_count": null,
   "id": "0a1345a8",
   "metadata": {},
   "outputs": [],
   "source": [
    "alpha = .05 # критический уровень статистической значимости\n",
    "p_value = st.mannwhitneyu(\n",
    "            orders[np.logical_and(orders['group'] == 'A', np.logical_not(orders['visitorId'].isin(abnormalUsers)))]['revenue'],\n",
    "            orders[np.logical_and(orders['group'] == 'B', np.logical_not(orders['visitorId'].isin(abnormalUsers)))]['revenue'])[1]\n",
    "print('p-значение: ',\"{0:.3f}\".format(p_value))\n",
    "if p_value < alpha:\n",
    "    print('Отвергаем нулевую гипотезу: между долями есть значимая разница')\n",
    "else:\n",
    "    print(\n",
    "        'Не получилось отвергнуть нулевую гипотезу, нет оснований считать доли разными'\n",
    "    ) \n",
    "print('Относительные различия в среднем чеке между группами по \"сырым\" данным: ',\"{0:.1%}\".\n",
    "      format(\n",
    "        orders[np.logical_and(orders['group'] == 'B', np.logical_not(orders['visitorId'].isin(abnormalUsers)))]['revenue'].mean()\n",
    "      / orders[np.logical_and(orders['group'] == 'A', np.logical_not(orders['visitorId'].isin(abnormalUsers)))]['revenue'].mean()\n",
    "        - 1))  "
   ]
  },
  {
   "cell_type": "markdown",
   "id": "c20bbc13",
   "metadata": {},
   "source": [
    "#### p-value = 0.738 больше 0.05. Значит, нулевую гипотезу о том, что статистически значимых различий в среднем чеке между группами нет, не отвергаем. Относительный показатель среднего чека в группе В на 2% ниже, чем в группе А."
   ]
  },
  {
   "cell_type": "markdown",
   "id": "7590c4fc",
   "metadata": {},
   "source": [
    "### Вывод по проведенному А/В тесту\n",
    "* Относительные различия в среднем количестве заказов на посетителя имело статистическую значимость как по \"сырым\" данным p-value = 0,017, так и по \"очищенным\" данным p-value = 0,016. В группе В по \"сырым данным\" пользователи делали на 13,8% заказов больше, по \"очищенным\" данным среднее количество заказов на пользователя увеличилось до 15,2%\n",
    "* Относительные различия  в среднем чеке не имело статистической значимости как по \"сырым\" данным p-value = 0,729, так и по \"очищенным\" данным p-value = 0,738. В группе В по \"сырым\" данным средний чек на пользователя был выше на 25,9% , по \"очищенным\" данным средний чек на пользователя в группе В оказался ниже на 2%\n",
    "* Данное различие среднего чека по \"сырым\" данным в группах, судя по всему, имело место в связи в бОльшим количеством пользователей совершивших аномально дорогие заказы в группе В\n",
    "* Исходя из вышеизложенных фактов, А/В тест стоит остановить и признать успешным. Так как доказано различие групп. Группа В показала себя лучше группы А."
   ]
  },
  {
   "cell_type": "markdown",
   "id": "2e35ab2b",
   "metadata": {},
   "source": [
    "### Вывод\n",
    "* Кумулятивная выручка в обеих группах росла равномерно, однако с середины теста группа В значительно превзошла группу А и до конца теста имела более успешные показатели\n",
    "* Среднее количество заказов в группе В также превосходит этот показатель в группе А\n",
    "* Более 95 % пользователей не делают более 3 заказов. Максимальное количество заказов пользователем = 11\n",
    "* Более 95 % пользователей не тратят на заказы более 33000. Максимальная трата на заказы пользователем = 1294500\n",
    "* Выявлены статистичестки значимые раличия в среднем количестве заказов на посетителя как по\"сырым\", так и по \"очищенным\" данным. Относительные различия  в среднем чеке не имело статистической значимости как по \"сырым\" так и по \"очищенным\" данным."
   ]
  }
 ],
 "metadata": {
  "kernelspec": {
   "display_name": "Python 3 (ipykernel)",
   "language": "python",
   "name": "python3"
  },
  "language_info": {
   "codemirror_mode": {
    "name": "ipython",
    "version": 3
   },
   "file_extension": ".py",
   "mimetype": "text/x-python",
   "name": "python",
   "nbconvert_exporter": "python",
   "pygments_lexer": "ipython3",
   "version": "3.9.13"
  },
  "toc": {
   "base_numbering": 1,
   "nav_menu": {},
   "number_sections": true,
   "sideBar": true,
   "skip_h1_title": true,
   "title_cell": "Table of Contents",
   "title_sidebar": "Contents",
   "toc_cell": false,
   "toc_position": {},
   "toc_section_display": true,
   "toc_window_display": true
  }
 },
 "nbformat": 4,
 "nbformat_minor": 5
}
