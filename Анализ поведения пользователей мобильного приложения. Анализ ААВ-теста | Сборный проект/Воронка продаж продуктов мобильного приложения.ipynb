{
 "cells": [
  {
   "cell_type": "markdown",
   "id": "262c01d3",
   "metadata": {},
   "source": [
    "## Воронка продаж продуктов мобильного приложения. А/А/В тест"
   ]
  },
  {
   "cell_type": "markdown",
   "id": "ad8fa28e",
   "metadata": {},
   "source": [
    "### Описание проекта\n",
    "Вы работаете в стартапе, который продаёт продукты питания. Нужно разобраться, как ведут себя пользователи вашего мобильного приложения. Изучить воронку продаж. Узнать, как пользователи доходят до покупки. Сколько пользователей доходит до покупки, а сколько — «застревает» на предыдущих шагах? На каких именно? Исследовать результаты A/A/B-эксперимента. Дизайнеры захотели поменять шрифты во всём приложении, а менеджеры испугались, что пользователям будет непривычно. Договорились принять решение по результатам A/A/B-теста. Пользователей разбили на 3 группы: 2 контрольные со старыми шрифтами и одну экспериментальную — с новыми. Необходимо выяснить, какой шрифт лучше."
   ]
  },
  {
   "cell_type": "markdown",
   "id": "624adb7b",
   "metadata": {},
   "source": [
    "### План выполнения работы\n",
    "#### Шаг 1. Изучение общей информации\n",
    "#### Шаг 2. Подготовка данных\n",
    "* Замена названия столбцов.\n",
    "* Проверка данных на пропуски и оценка типов данных. \n",
    "* Добавление столбецов даты и времени, а также отдельного столбца дат.\n",
    "#### Шаг 3. Изучение и проверка данных\n",
    "* Сколько всего событий в логе?\n",
    "* Сколько всего пользователей в логе?\n",
    "* Сколько в среднем событий приходится на пользователя?\n",
    "* Данными за какой период мы располагаем? Оценка максимальной и минимальной даты. Постройка гистограммы по дате и времени. Можно ли быть уверенным, что у нас одинаково полные данные за весь период? Технически в логи новых дней по некоторым пользователям могут «доезжать» события из прошлого — это может «перекашивать данные». Определение, с какого момента данные можно считать полными и отбросить более старые. Данными за какой период времени мы располагаем на самом деле?\n",
    "* Много ли событий и пользователей мы потеряли, отбросив старые данные?\n",
    "* Проверка, что у нас есть пользователи из всех трёх экспериментальных групп.\n",
    "#### Шаг 4. Изучение воронки событий\n",
    "* Определение, событий в логах, как часто они встречаются. Сортировка событий по частоте.\n",
    "* Определение пользователей, совершавших каждое из этих событий. Сортировка событий по числу пользователей. Подсчет доли пользователей, которые хоть раз совершали событие.\n",
    "* Определение, в каком порядке происходят события. Все ли они выстраиваются в последовательную цепочку? Их не нужно учитывать при расчёте воронки.\n",
    "* Подсчет по воронке событий, какая доля пользователей проходит на следующий шаг воронки (от числа пользователей на предыдущем). То есть для последовательности событий A → B → C подсчет отношения числа пользователей с событием B к количеству пользователей с событием A, а также отношения числа пользователей с событием C к количеству пользователей с событием B.\n",
    "* На каком шаге теряется больше всего пользователей?\n",
    "* Какая доля пользователей доходит от первого события до оплаты?\n",
    "#### Шаг 5. Изучение результатов эксперимента\n",
    "* Сколько пользователей в каждой экспериментальной группе?\n",
    "* Есть 2 контрольные группы для А/А-эксперимента, чтобы проверить корректность всех механизмов и расчётов. Проверка, находят ли статистические критерии разницу между выборками 246 и 247.\n",
    "* Определение самого популярного события. Подсчет числа пользователей, совершивших это событие в каждой из контрольных групп. Подсчет доли пользователей, совершивших это событие. Проверка на наличие статистически достоверных отличий между группами. Проверка на наличие статистически достоверных отличий для всех других событий (удобно обернуть проверку в отдельную функцию). Можно ли сказать, что разбиение на группы работает корректно?\n",
    "* Аналогичная проверка  в группе с изменённым шрифтом. Сравнение результатов с каждой из контрольных групп в отдельности по каждому событию. Сравнение результатов с объединённой контрольной группой. Какие выводы из эксперимента можно сделать?\n",
    "* Определение и обоснование уровеня значимости при проверке статистических гипотез. Подсчет количества проверок статистических гипотез. При уровне значимости 0.1 каждый десятый раз можно получать ложный результат. Какой уровень значимости стоит применить? Если вы хотите изменить его, проделайте предыдущие пункты и проверьте свои выводы."
   ]
  },
  {
   "cell_type": "code",
   "execution_count": 1,
   "id": "6a9b1a09",
   "metadata": {},
   "outputs": [],
   "source": [
    "# импортирую библиотеки\n",
    "import pandas as pd \n",
    "import matplotlib.pyplot as plt \n",
    "import seaborn as sns \n",
    "import numpy as np \n",
    "from scipy import stats as st \n",
    "import datetime as dt  \n",
    "import plotly.express as px\n",
    "from plotly import graph_objects as go\n",
    "import numpy as np\n",
    "import math as mth"
   ]
  },
  {
   "cell_type": "markdown",
   "id": "9b7858d0",
   "metadata": {},
   "source": [
    "## Шаг 1. Изучение общей информации"
   ]
  },
  {
   "cell_type": "code",
   "execution_count": 2,
   "id": "816a3126",
   "metadata": {},
   "outputs": [],
   "source": [
    "# загружаю данные \n",
    "try:\n",
    "    data = pd.read_csv(r\"D:\\DOCS\\datasets\\Сборный проект №2/logs_exp.csv\", sep='\\t')\n",
    "except FileNotFoundError:\n",
    "    data = pd.read_csv('/datasets/logs_exp.csv',sep='\\t')"
   ]
  },
  {
   "cell_type": "code",
   "execution_count": 3,
   "id": "e7f07cae",
   "metadata": {},
   "outputs": [
    {
     "data": {
      "text/html": [
       "<div>\n",
       "<style scoped>\n",
       "    .dataframe tbody tr th:only-of-type {\n",
       "        vertical-align: middle;\n",
       "    }\n",
       "\n",
       "    .dataframe tbody tr th {\n",
       "        vertical-align: top;\n",
       "    }\n",
       "\n",
       "    .dataframe thead th {\n",
       "        text-align: right;\n",
       "    }\n",
       "</style>\n",
       "<table border=\"1\" class=\"dataframe\">\n",
       "  <thead>\n",
       "    <tr style=\"text-align: right;\">\n",
       "      <th></th>\n",
       "      <th>EventName</th>\n",
       "      <th>DeviceIDHash</th>\n",
       "      <th>EventTimestamp</th>\n",
       "      <th>ExpId</th>\n",
       "    </tr>\n",
       "  </thead>\n",
       "  <tbody>\n",
       "    <tr>\n",
       "      <th>0</th>\n",
       "      <td>MainScreenAppear</td>\n",
       "      <td>4575588528974610257</td>\n",
       "      <td>1564029816</td>\n",
       "      <td>246</td>\n",
       "    </tr>\n",
       "    <tr>\n",
       "      <th>1</th>\n",
       "      <td>MainScreenAppear</td>\n",
       "      <td>7416695313311560658</td>\n",
       "      <td>1564053102</td>\n",
       "      <td>246</td>\n",
       "    </tr>\n",
       "    <tr>\n",
       "      <th>2</th>\n",
       "      <td>PaymentScreenSuccessful</td>\n",
       "      <td>3518123091307005509</td>\n",
       "      <td>1564054127</td>\n",
       "      <td>248</td>\n",
       "    </tr>\n",
       "    <tr>\n",
       "      <th>3</th>\n",
       "      <td>CartScreenAppear</td>\n",
       "      <td>3518123091307005509</td>\n",
       "      <td>1564054127</td>\n",
       "      <td>248</td>\n",
       "    </tr>\n",
       "    <tr>\n",
       "      <th>4</th>\n",
       "      <td>PaymentScreenSuccessful</td>\n",
       "      <td>6217807653094995999</td>\n",
       "      <td>1564055322</td>\n",
       "      <td>248</td>\n",
       "    </tr>\n",
       "    <tr>\n",
       "      <th>5</th>\n",
       "      <td>CartScreenAppear</td>\n",
       "      <td>6217807653094995999</td>\n",
       "      <td>1564055323</td>\n",
       "      <td>248</td>\n",
       "    </tr>\n",
       "    <tr>\n",
       "      <th>6</th>\n",
       "      <td>OffersScreenAppear</td>\n",
       "      <td>8351860793733343758</td>\n",
       "      <td>1564066242</td>\n",
       "      <td>246</td>\n",
       "    </tr>\n",
       "    <tr>\n",
       "      <th>7</th>\n",
       "      <td>MainScreenAppear</td>\n",
       "      <td>5682100281902512875</td>\n",
       "      <td>1564085677</td>\n",
       "      <td>246</td>\n",
       "    </tr>\n",
       "    <tr>\n",
       "      <th>8</th>\n",
       "      <td>MainScreenAppear</td>\n",
       "      <td>1850981295691852772</td>\n",
       "      <td>1564086702</td>\n",
       "      <td>247</td>\n",
       "    </tr>\n",
       "    <tr>\n",
       "      <th>9</th>\n",
       "      <td>MainScreenAppear</td>\n",
       "      <td>5407636962369102641</td>\n",
       "      <td>1564112112</td>\n",
       "      <td>246</td>\n",
       "    </tr>\n",
       "  </tbody>\n",
       "</table>\n",
       "</div>"
      ],
      "text/plain": [
       "                 EventName         DeviceIDHash  EventTimestamp  ExpId\n",
       "0         MainScreenAppear  4575588528974610257      1564029816    246\n",
       "1         MainScreenAppear  7416695313311560658      1564053102    246\n",
       "2  PaymentScreenSuccessful  3518123091307005509      1564054127    248\n",
       "3         CartScreenAppear  3518123091307005509      1564054127    248\n",
       "4  PaymentScreenSuccessful  6217807653094995999      1564055322    248\n",
       "5         CartScreenAppear  6217807653094995999      1564055323    248\n",
       "6       OffersScreenAppear  8351860793733343758      1564066242    246\n",
       "7         MainScreenAppear  5682100281902512875      1564085677    246\n",
       "8         MainScreenAppear  1850981295691852772      1564086702    247\n",
       "9         MainScreenAppear  5407636962369102641      1564112112    246"
      ]
     },
     "execution_count": 3,
     "metadata": {},
     "output_type": "execute_result"
    }
   ],
   "source": [
    "# вывожу первые 10 строк датафрейма\n",
    "data.head(10)"
   ]
  },
  {
   "cell_type": "markdown",
   "id": "4a1f7d56",
   "metadata": {},
   "source": [
    "#### Описание данных\n",
    "Каждая запись в логе — это действие пользователя, или событие. \n",
    "* EventName — название события;\n",
    "* DeviceIDHash — уникальный идентификатор пользователя;\n",
    "* EventTimestamp — время события;\n",
    "* ExpId — номер эксперимента: 246 и 247 — контрольные группы, а 248 — экспериментальная."
   ]
  },
  {
   "cell_type": "markdown",
   "id": "d8257452",
   "metadata": {},
   "source": [
    "## Шаг 2. Подготовка данных"
   ]
  },
  {
   "cell_type": "code",
   "execution_count": 4,
   "id": "635ba09a",
   "metadata": {},
   "outputs": [
    {
     "name": "stdout",
     "output_type": "stream",
     "text": [
      "<class 'pandas.core.frame.DataFrame'>\n",
      "RangeIndex: 244126 entries, 0 to 244125\n",
      "Data columns (total 4 columns):\n",
      " #   Column          Non-Null Count   Dtype \n",
      "---  ------          --------------   ----- \n",
      " 0   EventName       244126 non-null  object\n",
      " 1   DeviceIDHash    244126 non-null  int64 \n",
      " 2   EventTimestamp  244126 non-null  int64 \n",
      " 3   ExpId           244126 non-null  int64 \n",
      "dtypes: int64(3), object(1)\n",
      "memory usage: 7.5+ MB\n"
     ]
    }
   ],
   "source": [
    "# вывожу информацию о датафрейме\n",
    "data.info()"
   ]
  },
  {
   "cell_type": "code",
   "execution_count": 5,
   "id": "88e1d3bc",
   "metadata": {},
   "outputs": [],
   "source": [
    "# переименовываю колонки\n",
    "data.columns = ['event_name', 'userId', 'date_time', 'group']"
   ]
  },
  {
   "cell_type": "code",
   "execution_count": 6,
   "id": "2a083d39",
   "metadata": {},
   "outputs": [],
   "source": [
    "# заменил числовые значения групп на A1- контрольная группа, А2 - контрольная группа, В - эксперементальная группа\n",
    "data['group'] = data['group'].replace(246, 'A1')\n",
    "data['group'] = data['group'].replace(247, 'A2')\n",
    "data['group'] = data['group'].replace(248, 'B')"
   ]
  },
  {
   "cell_type": "code",
   "execution_count": 7,
   "id": "24278cc9",
   "metadata": {},
   "outputs": [
    {
     "data": {
      "text/plain": [
       "event_name    0\n",
       "userId        0\n",
       "date_time     0\n",
       "group         0\n",
       "dtype: int64"
      ]
     },
     "execution_count": 7,
     "metadata": {},
     "output_type": "execute_result"
    }
   ],
   "source": [
    "# вывожу количество пропусков в датафрейме\n",
    "data.isna().sum()"
   ]
  },
  {
   "cell_type": "code",
   "execution_count": 8,
   "id": "c7746ab8",
   "metadata": {},
   "outputs": [
    {
     "name": "stdout",
     "output_type": "stream",
     "text": [
      "Количество дубликатов равно: 413\n"
     ]
    }
   ],
   "source": [
    "# вывожу количество дубликатов в датафрейме\n",
    "dup_count = data.duplicated().sum()\n",
    "print('Количество дубликатов равно:', dup_count)"
   ]
  },
  {
   "cell_type": "code",
   "execution_count": 9,
   "id": "dfec16a1",
   "metadata": {},
   "outputs": [
    {
     "name": "stdout",
     "output_type": "stream",
     "text": [
      "Количество строк в датафрейме равно: 244126\n"
     ]
    }
   ],
   "source": [
    "# выводу общее количество строк\n",
    "count_row = data.shape[0]\n",
    "print('Количество строк в датафрейме равно:', count_row)"
   ]
  },
  {
   "cell_type": "code",
   "execution_count": 10,
   "id": "2a2ad310",
   "metadata": {},
   "outputs": [
    {
     "name": "stdout",
     "output_type": "stream",
     "text": [
      "Процент дубликатов от общего количества строк составляет: 0.169\n"
     ]
    }
   ],
   "source": [
    "# вывожу какой процент дубликаты составляют от общего количества строк\n",
    "duplicated_procent = dup_count / count_row * 100\n",
    "print('Процент дубликатов от общего количества строк составляет:',\"{0:.3f}\".format(duplicated_procent))"
   ]
  },
  {
   "cell_type": "code",
   "execution_count": 11,
   "id": "2d83163a",
   "metadata": {},
   "outputs": [],
   "source": [
    "# удаляю дубликаты, их процент мал и не повлияет на дальнейший анализ\n",
    "data = data.drop_duplicates()"
   ]
  },
  {
   "cell_type": "code",
   "execution_count": 12,
   "id": "e4c2f224",
   "metadata": {},
   "outputs": [],
   "source": [
    "# сбрасываю индексы\n",
    "data = data.reset_index(drop=True)"
   ]
  },
  {
   "cell_type": "code",
   "execution_count": 13,
   "id": "8b8ca2b7",
   "metadata": {},
   "outputs": [],
   "source": [
    "# преобразую значения столбца date_time к формату datetime\n",
    "data['date_time'] = pd.to_datetime(data['date_time'], unit='s')"
   ]
  },
  {
   "cell_type": "code",
   "execution_count": 14,
   "id": "15045741",
   "metadata": {},
   "outputs": [],
   "source": [
    "# создаю столбец date, который будет включать только дату события\n",
    "data['date'] = data['date_time'].dt.date"
   ]
  },
  {
   "cell_type": "code",
   "execution_count": 15,
   "id": "a8ea7db4",
   "metadata": {},
   "outputs": [
    {
     "data": {
      "text/html": [
       "<div>\n",
       "<style scoped>\n",
       "    .dataframe tbody tr th:only-of-type {\n",
       "        vertical-align: middle;\n",
       "    }\n",
       "\n",
       "    .dataframe tbody tr th {\n",
       "        vertical-align: top;\n",
       "    }\n",
       "\n",
       "    .dataframe thead th {\n",
       "        text-align: right;\n",
       "    }\n",
       "</style>\n",
       "<table border=\"1\" class=\"dataframe\">\n",
       "  <thead>\n",
       "    <tr style=\"text-align: right;\">\n",
       "      <th></th>\n",
       "      <th>event_name</th>\n",
       "      <th>userId</th>\n",
       "      <th>date_time</th>\n",
       "      <th>group</th>\n",
       "      <th>date</th>\n",
       "    </tr>\n",
       "  </thead>\n",
       "  <tbody>\n",
       "    <tr>\n",
       "      <th>0</th>\n",
       "      <td>MainScreenAppear</td>\n",
       "      <td>4575588528974610257</td>\n",
       "      <td>2019-07-25 04:43:36</td>\n",
       "      <td>A1</td>\n",
       "      <td>2019-07-25</td>\n",
       "    </tr>\n",
       "    <tr>\n",
       "      <th>1</th>\n",
       "      <td>MainScreenAppear</td>\n",
       "      <td>7416695313311560658</td>\n",
       "      <td>2019-07-25 11:11:42</td>\n",
       "      <td>A1</td>\n",
       "      <td>2019-07-25</td>\n",
       "    </tr>\n",
       "    <tr>\n",
       "      <th>2</th>\n",
       "      <td>PaymentScreenSuccessful</td>\n",
       "      <td>3518123091307005509</td>\n",
       "      <td>2019-07-25 11:28:47</td>\n",
       "      <td>B</td>\n",
       "      <td>2019-07-25</td>\n",
       "    </tr>\n",
       "    <tr>\n",
       "      <th>3</th>\n",
       "      <td>CartScreenAppear</td>\n",
       "      <td>3518123091307005509</td>\n",
       "      <td>2019-07-25 11:28:47</td>\n",
       "      <td>B</td>\n",
       "      <td>2019-07-25</td>\n",
       "    </tr>\n",
       "    <tr>\n",
       "      <th>4</th>\n",
       "      <td>PaymentScreenSuccessful</td>\n",
       "      <td>6217807653094995999</td>\n",
       "      <td>2019-07-25 11:48:42</td>\n",
       "      <td>B</td>\n",
       "      <td>2019-07-25</td>\n",
       "    </tr>\n",
       "  </tbody>\n",
       "</table>\n",
       "</div>"
      ],
      "text/plain": [
       "                event_name               userId           date_time group  \\\n",
       "0         MainScreenAppear  4575588528974610257 2019-07-25 04:43:36    A1   \n",
       "1         MainScreenAppear  7416695313311560658 2019-07-25 11:11:42    A1   \n",
       "2  PaymentScreenSuccessful  3518123091307005509 2019-07-25 11:28:47     B   \n",
       "3         CartScreenAppear  3518123091307005509 2019-07-25 11:28:47     B   \n",
       "4  PaymentScreenSuccessful  6217807653094995999 2019-07-25 11:48:42     B   \n",
       "\n",
       "         date  \n",
       "0  2019-07-25  \n",
       "1  2019-07-25  \n",
       "2  2019-07-25  \n",
       "3  2019-07-25  \n",
       "4  2019-07-25  "
      ]
     },
     "execution_count": 15,
     "metadata": {},
     "output_type": "execute_result"
    }
   ],
   "source": [
    "# Check\n",
    "data.head(5)"
   ]
  },
  {
   "cell_type": "code",
   "execution_count": 16,
   "id": "6a3bbfd4",
   "metadata": {},
   "outputs": [],
   "source": [
    "# преобразую столбец date к формату datetime\n",
    "data['date'] = pd.to_datetime(data['date'])"
   ]
  },
  {
   "cell_type": "code",
   "execution_count": 17,
   "id": "5eed6ce4",
   "metadata": {},
   "outputs": [
    {
     "name": "stdout",
     "output_type": "stream",
     "text": [
      "<class 'pandas.core.frame.DataFrame'>\n",
      "RangeIndex: 243713 entries, 0 to 243712\n",
      "Data columns (total 5 columns):\n",
      " #   Column      Non-Null Count   Dtype         \n",
      "---  ------      --------------   -----         \n",
      " 0   event_name  243713 non-null  object        \n",
      " 1   userId      243713 non-null  int64         \n",
      " 2   date_time   243713 non-null  datetime64[ns]\n",
      " 3   group       243713 non-null  object        \n",
      " 4   date        243713 non-null  datetime64[ns]\n",
      "dtypes: datetime64[ns](2), int64(1), object(2)\n",
      "memory usage: 9.3+ MB\n"
     ]
    }
   ],
   "source": [
    "# Check\n",
    "data.info()"
   ]
  },
  {
   "cell_type": "code",
   "execution_count": 18,
   "id": "8ab8922c",
   "metadata": {},
   "outputs": [
    {
     "data": {
      "text/plain": [
       "0"
      ]
     },
     "execution_count": 18,
     "metadata": {},
     "output_type": "execute_result"
    }
   ],
   "source": [
    "# Check\n",
    "data.duplicated().sum()"
   ]
  },
  {
   "cell_type": "code",
   "execution_count": 19,
   "id": "d6f43798",
   "metadata": {},
   "outputs": [
    {
     "data": {
      "text/plain": [
       "event_name    0\n",
       "userId        0\n",
       "date_time     0\n",
       "group         0\n",
       "date          0\n",
       "dtype: int64"
      ]
     },
     "execution_count": 19,
     "metadata": {},
     "output_type": "execute_result"
    }
   ],
   "source": [
    "# Check\n",
    "data.isna().sum()"
   ]
  },
  {
   "cell_type": "code",
   "execution_count": 20,
   "id": "6eddff36",
   "metadata": {},
   "outputs": [],
   "source": [
    "# выделил группы пользователей\n",
    "a1_group = data[data['group'] == 'A1']\n",
    "a2_group = data[data['group'] == 'A2']\n",
    "b_group = data[data['group'] == 'B']"
   ]
  },
  {
   "cell_type": "code",
   "execution_count": 21,
   "id": "67a32ff6",
   "metadata": {},
   "outputs": [
    {
     "name": "stdout",
     "output_type": "stream",
     "text": [
      "Количество совпадений пользователей в группах А1, A2 составляет: 0\n"
     ]
    }
   ],
   "source": [
    "# соединил полученные группы пользователей по userId\n",
    "coincid = pd.merge(a1_group, a2_group, on=['userId'], how='inner')\n",
    "print('Количество совпадений пользователей в группах А1, A2 составляет:', coincid['userId'].nunique())"
   ]
  },
  {
   "cell_type": "code",
   "execution_count": 22,
   "id": "b535a334",
   "metadata": {},
   "outputs": [
    {
     "name": "stdout",
     "output_type": "stream",
     "text": [
      "Количество совпадений пользователей в группах А1, B составляет: 0\n"
     ]
    }
   ],
   "source": [
    "coincid_1 = pd.merge(a1_group, b_group, on=['userId'], how='inner')\n",
    "print('Количество совпадений пользователей в группах А1, B составляет:',coincid_1['userId'].nunique())"
   ]
  },
  {
   "cell_type": "code",
   "execution_count": 23,
   "id": "658d7219",
   "metadata": {},
   "outputs": [
    {
     "name": "stdout",
     "output_type": "stream",
     "text": [
      "Количество совпадений пользователей в группах А2, B составляет: 0\n"
     ]
    }
   ],
   "source": [
    "coincid_2 = pd.merge(a2_group, b_group, on=['userId'], how='inner')\n",
    "print('Количество совпадений пользователей в группах А2, B составляет:',coincid_1['userId'].nunique())"
   ]
  },
  {
   "cell_type": "markdown",
   "id": "d4a29626",
   "metadata": {},
   "source": [
    "### Вывод по итогу подготовки данных:\n",
    "* Датафрейм data содержит 4 колонки: EventName — название события; DeviceIDHash — уникальный идентификатор пользователя; EventTimestamp — время события ExpId — номер эксперимента: 246 и 247 — контрольные группы, а 248 — экспериментальная.\n",
    "* Выполнено переименование столбцов датафрейма.\n",
    "* Выполнена проверка на пропуски. Пропусков не вывлено.\n",
    "* Выполнена проверка на дубликаты. Выявлено 413 строк-дубликатов, что составляет 0,169% от общего числа строк. Так как процент дубликатов мал, их удаление не повлияет на дальнейший анализ. Решено их удалить.\n",
    "* Выполнена замена числовых значений групп на A1- контрольная группа, А2 - контрольная группа, В - эксперементальная группа\n",
    "* Выполнено преобразование столбеца date_time к формату datetime.\n",
    "* Добавлен столбец date, который будет включать только дату события.\n",
    "* Выполнено преобразование столбеца date к формату datetime.\n",
    "* Совпадений userId пользователей в группах не выявлено."
   ]
  },
  {
   "cell_type": "markdown",
   "id": "3c86838f",
   "metadata": {},
   "source": [
    "## Шаг 3. Изучение и проверка данных"
   ]
  },
  {
   "cell_type": "code",
   "execution_count": 24,
   "id": "242708e3",
   "metadata": {},
   "outputs": [
    {
     "name": "stdout",
     "output_type": "stream",
     "text": [
      "Всего событий в логе: 243713\n",
      "Уникальных событий в логе: 5\n"
     ]
    }
   ],
   "source": [
    "print('Всего событий в логе:', data['event_name'].count())\n",
    "print('Уникальных событий в логе:', data['event_name'].nunique())"
   ]
  },
  {
   "cell_type": "code",
   "execution_count": 25,
   "id": "26eb56be",
   "metadata": {},
   "outputs": [
    {
     "name": "stdout",
     "output_type": "stream",
     "text": [
      "Всего пользователей в логе: 7551\n"
     ]
    }
   ],
   "source": [
    "print('Всего пользователей в логе:', data['userId'].nunique())"
   ]
  },
  {
   "cell_type": "code",
   "execution_count": 26,
   "id": "9a33db87",
   "metadata": {},
   "outputs": [
    {
     "name": "stdout",
     "output_type": "stream",
     "text": [
      "Среднее количество событий на пользователя равно: 32\n"
     ]
    }
   ],
   "source": [
    "avg_events = data['event_name'].count() // data['userId'].nunique()\n",
    "print('Среднее количество событий на пользователя равно:', avg_events)"
   ]
  },
  {
   "cell_type": "code",
   "execution_count": 27,
   "id": "fb79f659",
   "metadata": {},
   "outputs": [
    {
     "data": {
      "text/plain": [
       "count    7551.000000\n",
       "mean       32.275593\n",
       "std        65.154219\n",
       "min         1.000000\n",
       "25%         9.000000\n",
       "50%        20.000000\n",
       "75%        37.000000\n",
       "max      2307.000000\n",
       "Name: event_name, dtype: float64"
      ]
     },
     "execution_count": 27,
     "metadata": {},
     "output_type": "execute_result"
    }
   ],
   "source": [
    "event_per_user = data.groupby('userId')['event_name'].count()\n",
    "event_per_user.describe()"
   ]
  },
  {
   "cell_type": "code",
   "execution_count": 28,
   "id": "0fc58c47",
   "metadata": {},
   "outputs": [
    {
     "data": {
      "image/png": "[encoded data removed]",
      "text/plain": [
       "<Figure size 1500x500 with 1 Axes>"
      ]
     },
     "metadata": {},
     "output_type": "display_data"
    }
   ],
   "source": [
    "plt.figure(figsize=(15,5))\n",
    "plt.hist(event_per_user, bins=100, range=(200,2400)) \n",
    "plt.xlabel('Кол-во пользователей')\n",
    "plt.grid()\n",
    "plt.ylabel('Кол-во событий')\n",
    "plt.title('Кол-ва событий на пользователя');"
   ]
  },
  {
   "cell_type": "code",
   "execution_count": 29,
   "id": "43f909cd",
   "metadata": {},
   "outputs": [
    {
     "data": {
      "text/plain": [
       "count    7551.000000\n",
       "mean       32.275593\n",
       "std        65.154219\n",
       "min         1.000000\n",
       "25%         9.000000\n",
       "50%        20.000000\n",
       "75%        37.000000\n",
       "max      2307.000000\n",
       "Name: event_name, dtype: float64"
      ]
     },
     "execution_count": 29,
     "metadata": {},
     "output_type": "execute_result"
    }
   ],
   "source": [
    "event_per_user.describe()"
   ]
  },
  {
   "cell_type": "markdown",
   "id": "c28ed2d2",
   "metadata": {},
   "source": [
    "* В данных наблюдаются выбросы. Есть пользователи, количество событий с которыми более 2300. В таком случае более показательным будет медианное значение, так как оно не подвержено выбросам."
   ]
  },
  {
   "cell_type": "code",
   "execution_count": 30,
   "id": "d5f771ac",
   "metadata": {},
   "outputs": [
    {
     "name": "stdout",
     "output_type": "stream",
     "text": [
      "Медианное значение событий на пользователя равно: 20.0\n"
     ]
    }
   ],
   "source": [
    "print('Медианное значение событий на пользователя равно:', event_per_user.median())"
   ]
  },
  {
   "cell_type": "code",
   "execution_count": 31,
   "id": "deacc60c",
   "metadata": {},
   "outputs": [
    {
     "name": "stdout",
     "output_type": "stream",
     "text": [
      "Дата начала исследования: 2019-07-25\n",
      "Дата окончания исследования: 2019-08-07\n",
      "Всего дней исследования: 13\n"
     ]
    }
   ],
   "source": [
    "print('Дата начала исследования:', data['date'].dt.date.min())\n",
    "print('Дата окончания исследования:', data['date'].dt.date.max())\n",
    "print('Всего дней исследования:', (data['date'].dt.date.max() - data['date'].dt.date.min()).days)"
   ]
  },
  {
   "cell_type": "code",
   "execution_count": 32,
   "id": "59dc66c2",
   "metadata": {},
   "outputs": [
    {
     "data": {
      "image/png": "[encoded data removed]",
      "text/plain": [
       "<Figure size 1500x500 with 1 Axes>"
      ]
     },
     "metadata": {},
     "output_type": "display_data"
    }
   ],
   "source": [
    "# Строю график распределения событий по датам\n",
    "data.groupby('date').agg({'event_name':'count'}).plot(kind='bar', grid=True, figsize=(15,5))\n",
    "plt.xticks(rotation=45)\n",
    "plt.ylabel('Число событий')\n",
    "plt.title('Распределение событий по времени')\n",
    "plt.show()"
   ]
  },
  {
   "cell_type": "code",
   "execution_count": 33,
   "id": "8c57904a",
   "metadata": {},
   "outputs": [
    {
     "data": {
      "image/png": "[encoded data removed]",
      "text/plain": [
       "<Figure size 1500x500 with 1 Axes>"
      ]
     },
     "metadata": {},
     "output_type": "display_data"
    }
   ],
   "source": [
    "# Строю график распределения событий по датам и времени\n",
    "data_for_plot = (data.assign(datetime_3H = lambda x: x['date_time'].dt.floor('3H').dt.strftime('%m-%d %H:%M'))\n",
    "                .groupby('datetime_3H').agg({'event_name':'count'}).reset_index())\n",
    "data_for_plot.plot(kind='bar', x='datetime_3H', y='event_name', grid=True, figsize=(15,5))\n",
    "plt.xticks(rotation=90)\n",
    "plt.ylabel('Число событий')\n",
    "plt.title('Распределение событий по времени')\n",
    "plt.show()"
   ]
  },
  {
   "cell_type": "code",
   "execution_count": 34,
   "id": "49629757",
   "metadata": {},
   "outputs": [
    {
     "data": {
      "text/html": [
       "<div>\n",
       "<style scoped>\n",
       "    .dataframe tbody tr th:only-of-type {\n",
       "        vertical-align: middle;\n",
       "    }\n",
       "\n",
       "    .dataframe tbody tr th {\n",
       "        vertical-align: top;\n",
       "    }\n",
       "\n",
       "    .dataframe thead th {\n",
       "        text-align: right;\n",
       "    }\n",
       "</style>\n",
       "<table border=\"1\" class=\"dataframe\">\n",
       "  <thead>\n",
       "    <tr style=\"text-align: right;\">\n",
       "      <th>event_name</th>\n",
       "      <th>CartScreenAppear</th>\n",
       "      <th>MainScreenAppear</th>\n",
       "      <th>OffersScreenAppear</th>\n",
       "      <th>PaymentScreenSuccessful</th>\n",
       "      <th>Tutorial</th>\n",
       "    </tr>\n",
       "    <tr>\n",
       "      <th>date</th>\n",
       "      <th></th>\n",
       "      <th></th>\n",
       "      <th></th>\n",
       "      <th></th>\n",
       "      <th></th>\n",
       "    </tr>\n",
       "  </thead>\n",
       "  <tbody>\n",
       "    <tr>\n",
       "      <th>2019-07-25</th>\n",
       "      <td>2.0</td>\n",
       "      <td>4.0</td>\n",
       "      <td>1.0</td>\n",
       "      <td>2.0</td>\n",
       "      <td>NaN</td>\n",
       "    </tr>\n",
       "    <tr>\n",
       "      <th>2019-07-26</th>\n",
       "      <td>6.0</td>\n",
       "      <td>16.0</td>\n",
       "      <td>4.0</td>\n",
       "      <td>3.0</td>\n",
       "      <td>2.0</td>\n",
       "    </tr>\n",
       "    <tr>\n",
       "      <th>2019-07-27</th>\n",
       "      <td>4.0</td>\n",
       "      <td>39.0</td>\n",
       "      <td>9.0</td>\n",
       "      <td>1.0</td>\n",
       "      <td>2.0</td>\n",
       "    </tr>\n",
       "    <tr>\n",
       "      <th>2019-07-28</th>\n",
       "      <td>24.0</td>\n",
       "      <td>53.0</td>\n",
       "      <td>16.0</td>\n",
       "      <td>12.0</td>\n",
       "      <td>NaN</td>\n",
       "    </tr>\n",
       "    <tr>\n",
       "      <th>2019-07-29</th>\n",
       "      <td>23.0</td>\n",
       "      <td>132.0</td>\n",
       "      <td>20.0</td>\n",
       "      <td>9.0</td>\n",
       "      <td>NaN</td>\n",
       "    </tr>\n",
       "    <tr>\n",
       "      <th>2019-07-30</th>\n",
       "      <td>49.0</td>\n",
       "      <td>279.0</td>\n",
       "      <td>51.0</td>\n",
       "      <td>33.0</td>\n",
       "      <td>NaN</td>\n",
       "    </tr>\n",
       "    <tr>\n",
       "      <th>2019-07-31</th>\n",
       "      <td>257.0</td>\n",
       "      <td>1250.0</td>\n",
       "      <td>374.0</td>\n",
       "      <td>140.0</td>\n",
       "      <td>9.0</td>\n",
       "    </tr>\n",
       "    <tr>\n",
       "      <th>2019-08-01</th>\n",
       "      <td>6217.0</td>\n",
       "      <td>17945.0</td>\n",
       "      <td>6988.0</td>\n",
       "      <td>4771.0</td>\n",
       "      <td>220.0</td>\n",
       "    </tr>\n",
       "    <tr>\n",
       "      <th>2019-08-02</th>\n",
       "      <td>6522.0</td>\n",
       "      <td>16792.0</td>\n",
       "      <td>6924.0</td>\n",
       "      <td>5148.0</td>\n",
       "      <td>168.0</td>\n",
       "    </tr>\n",
       "    <tr>\n",
       "      <th>2019-08-03</th>\n",
       "      <td>6374.0</td>\n",
       "      <td>14832.0</td>\n",
       "      <td>6795.0</td>\n",
       "      <td>5119.0</td>\n",
       "      <td>162.0</td>\n",
       "    </tr>\n",
       "    <tr>\n",
       "      <th>2019-08-04</th>\n",
       "      <td>6155.0</td>\n",
       "      <td>15203.0</td>\n",
       "      <td>6487.0</td>\n",
       "      <td>4983.0</td>\n",
       "      <td>140.0</td>\n",
       "    </tr>\n",
       "    <tr>\n",
       "      <th>2019-08-05</th>\n",
       "      <td>6248.0</td>\n",
       "      <td>18005.0</td>\n",
       "      <td>6666.0</td>\n",
       "      <td>5024.0</td>\n",
       "      <td>115.0</td>\n",
       "    </tr>\n",
       "    <tr>\n",
       "      <th>2019-08-06</th>\n",
       "      <td>5733.0</td>\n",
       "      <td>18761.0</td>\n",
       "      <td>6533.0</td>\n",
       "      <td>4631.0</td>\n",
       "      <td>130.0</td>\n",
       "    </tr>\n",
       "    <tr>\n",
       "      <th>2019-08-07</th>\n",
       "      <td>5054.0</td>\n",
       "      <td>15790.0</td>\n",
       "      <td>5940.0</td>\n",
       "      <td>4242.0</td>\n",
       "      <td>70.0</td>\n",
       "    </tr>\n",
       "  </tbody>\n",
       "</table>\n",
       "</div>"
      ],
      "text/plain": [
       "event_name  CartScreenAppear  MainScreenAppear  OffersScreenAppear  \\\n",
       "date                                                                 \n",
       "2019-07-25               2.0               4.0                 1.0   \n",
       "2019-07-26               6.0              16.0                 4.0   \n",
       "2019-07-27               4.0              39.0                 9.0   \n",
       "2019-07-28              24.0              53.0                16.0   \n",
       "2019-07-29              23.0             132.0                20.0   \n",
       "2019-07-30              49.0             279.0                51.0   \n",
       "2019-07-31             257.0            1250.0               374.0   \n",
       "2019-08-01            6217.0           17945.0              6988.0   \n",
       "2019-08-02            6522.0           16792.0              6924.0   \n",
       "2019-08-03            6374.0           14832.0              6795.0   \n",
       "2019-08-04            6155.0           15203.0              6487.0   \n",
       "2019-08-05            6248.0           18005.0              6666.0   \n",
       "2019-08-06            5733.0           18761.0              6533.0   \n",
       "2019-08-07            5054.0           15790.0              5940.0   \n",
       "\n",
       "event_name  PaymentScreenSuccessful  Tutorial  \n",
       "date                                           \n",
       "2019-07-25                      2.0       NaN  \n",
       "2019-07-26                      3.0       2.0  \n",
       "2019-07-27                      1.0       2.0  \n",
       "2019-07-28                     12.0       NaN  \n",
       "2019-07-29                      9.0       NaN  \n",
       "2019-07-30                     33.0       NaN  \n",
       "2019-07-31                    140.0       9.0  \n",
       "2019-08-01                   4771.0     220.0  \n",
       "2019-08-02                   5148.0     168.0  \n",
       "2019-08-03                   5119.0     162.0  \n",
       "2019-08-04                   4983.0     140.0  \n",
       "2019-08-05                   5024.0     115.0  \n",
       "2019-08-06                   4631.0     130.0  \n",
       "2019-08-07                   4242.0      70.0  "
      ]
     },
     "execution_count": 34,
     "metadata": {},
     "output_type": "execute_result"
    }
   ],
   "source": [
    "# строю таблицу распределения событий по датам\n",
    "data_pivot = data.pivot_table(index=['date'],columns='event_name',values='userId',aggfunc='count')\n",
    "data_pivot "
   ]
  },
  {
   "cell_type": "markdown",
   "id": "e86ae7aa",
   "metadata": {},
   "source": [
    "#### По гистограмме и таблице можно сделать вывод о том, что наиболее полные данные поступили с 21.00 31.07.2019. Срез данных в дальнейшем буду проводить по этой границе"
   ]
  },
  {
   "cell_type": "code",
   "execution_count": 35,
   "id": "b5909a57",
   "metadata": {},
   "outputs": [],
   "source": [
    "# сделал срез событий, которые не будут входить в данные для дальнейшего анализа\n",
    "old_events = data.loc[data['date_time']<='2019-07-31 21:00:00']"
   ]
  },
  {
   "cell_type": "code",
   "execution_count": 36,
   "id": "3f7ad3f3",
   "metadata": {},
   "outputs": [],
   "source": [
    "# сделал срез актуальных данных\n",
    "new_data = data.loc[data['date_time']>'2019-07-31 21:00:00']"
   ]
  },
  {
   "cell_type": "code",
   "execution_count": 37,
   "id": "5e72a13c",
   "metadata": {},
   "outputs": [],
   "source": [
    "# выделил в отдельную таблицу логи пользователей, которые совершали действия до 21:00 2019-07-31\n",
    "old_users = old_events[~old_events['userId'].isin(new_data['userId'])]"
   ]
  },
  {
   "cell_type": "code",
   "execution_count": 38,
   "id": "ae193a8d",
   "metadata": {},
   "outputs": [
    {
     "name": "stdout",
     "output_type": "stream",
     "text": [
      "Количество записей событий до отчистки: 243713\n",
      "Количество удаленных событий: 1989\n",
      "Количество записей событий после отчистки: 241724\n",
      "Процент потери составил: 0.82%\n"
     ]
    }
   ],
   "source": [
    "print('Количество записей событий до отчистки:', len(data['event_name']))\n",
    "print('Количество удаленных событий:', len(old_events['event_name']))\n",
    "print('Количество записей событий после отчистки:', len(data['event_name']) - len(old_events['event_name']))\n",
    "print('Процент потери составил:', \"{0:.2%}\".format(len(old_events['event_name']) /  len(data['event_name'])))"
   ]
  },
  {
   "cell_type": "code",
   "execution_count": 39,
   "id": "398282b7",
   "metadata": {},
   "outputs": [
    {
     "name": "stdout",
     "output_type": "stream",
     "text": [
      "Всего уникальных пользователей в логе до отчистки: 7551\n",
      "Количество потерянных пользователей: 13\n",
      "Всего уникальных пользователей в логе после отчистки: 7538\n",
      "Процент потери пользователей составил: 0.17%\n"
     ]
    }
   ],
   "source": [
    "print('Всего уникальных пользователей в логе до отчистки:', len(data['userId'].unique()))\n",
    "print('Количество потерянных пользователей:', old_users['userId'].nunique())\n",
    "print('Всего уникальных пользователей в логе после отчистки:', (data['userId'].nunique() - old_users['userId'].nunique()))\n",
    "print('Процент потери пользователей составил:',\"{0:.2%}\".format(len(old_users['userId'].unique()) / len(data['userId'].unique())))"
   ]
  },
  {
   "cell_type": "code",
   "execution_count": 40,
   "id": "4e6d13c1",
   "metadata": {},
   "outputs": [],
   "source": [
    "data = data.loc[data['date_time']>'2019-07-31 21:00:00']"
   ]
  },
  {
   "cell_type": "code",
   "execution_count": 41,
   "id": "72e69b6e",
   "metadata": {},
   "outputs": [
    {
     "data": {
      "text/plain": [
       "group\n",
       "A1    79556\n",
       "A2    77293\n",
       "B     84875\n",
       "Name: event_name, dtype: int64"
      ]
     },
     "execution_count": 41,
     "metadata": {},
     "output_type": "execute_result"
    }
   ],
   "source": [
    "# Сгруппировал события по  исследуемым группам, по результатам события в соизмеримом количестве есть во всех трех группах\n",
    "data.groupby('group')['event_name'].count()"
   ]
  },
  {
   "cell_type": "code",
   "execution_count": 42,
   "id": "f73e30e3",
   "metadata": {},
   "outputs": [
    {
     "data": {
      "text/plain": [
       "group\n",
       "A1    2484\n",
       "A2    2517\n",
       "B     2537\n",
       "Name: userId, dtype: int64"
      ]
     },
     "execution_count": 42,
     "metadata": {},
     "output_type": "execute_result"
    }
   ],
   "source": [
    "# Сгруппировал ID пользователей по исследуемым группам, по результатам пользователи в соизмеримом количестве\n",
    "# есть во всех трех группах\n",
    "data.groupby('group')['userId'].nunique()"
   ]
  },
  {
   "cell_type": "markdown",
   "id": "73ac8293",
   "metadata": {},
   "source": [
    "### Вывод по итогу изучения и проверки данных\n",
    "* После исследования выявлено Дата начала исследования: 2019-07-25 Дата окончания исследования: 2019-08-07 Всего дней исследования: 13\n",
    "* Наиболее полные данные начали поступать после 21:00 2019-07-31. Дальнейшее исследование решено проводить на данных после 2019-07-31 21:00\n",
    "* Количество записей событий до отчистки: 243713. Количество удаленных событий - 1989. Количество записей событий после отчистки: 241724. Процент потери составил: 0.82%\n",
    "* Всего уникальных пользователей в логе до отчистки: 7551. Количество потерянных пользователей: 13. Всего уникальных пользователей в логе после отчистки: 7538. Процент потери составил: 0.17%\n",
    "* Определено, что в полученном после среза  датафрейме во всех трех исследуемых группах осталось соизмеримое количество событий и пользователей. "
   ]
  },
  {
   "cell_type": "markdown",
   "id": "71e991aa",
   "metadata": {},
   "source": [
    "## Шаг 4. Изучение воронки событий"
   ]
  },
  {
   "cell_type": "code",
   "execution_count": 43,
   "id": "08d9b478",
   "metadata": {
    "scrolled": true
   },
   "outputs": [
    {
     "data": {
      "text/plain": [
       "MainScreenAppear           117889\n",
       "OffersScreenAppear          46531\n",
       "CartScreenAppear            42343\n",
       "PaymentScreenSuccessful     33951\n",
       "Tutorial                     1010\n",
       "Name: event_name, dtype: int64"
      ]
     },
     "execution_count": 43,
     "metadata": {},
     "output_type": "execute_result"
    }
   ],
   "source": [
    "# вывел количество каждого события с сортировкой от большего к меньшему\n",
    "data['event_name'].value_counts()"
   ]
  },
  {
   "cell_type": "markdown",
   "id": "f82559ba",
   "metadata": {},
   "source": [
    "#### События в порядке убывания количества расположились в порядке:\n",
    "* Появление главного экрана\n",
    "* Появление экрана предложений\n",
    "* Появление экрана корзины\n",
    "* Появление сообщения об успешной оплате\n",
    "* Обучение\n",
    "#### Думаю что обучение не входит полный цикл использования сайта. Его пропускают многие пользователи знакомые с интерфейсом. Обучение может игнорироваться большим количеством пользователей сайта."
   ]
  },
  {
   "cell_type": "code",
   "execution_count": 44,
   "id": "a81c63ab",
   "metadata": {},
   "outputs": [],
   "source": [
    "# решил исключть tutorial из дальнейшего анализа\n",
    "data = data[data['event_name'] != 'Tutorial']"
   ]
  },
  {
   "cell_type": "code",
   "execution_count": 61,
   "id": "2fa35ced",
   "metadata": {},
   "outputs": [
    {
     "data": {
      "text/html": [
       "<div>\n",
       "<style scoped>\n",
       "    .dataframe tbody tr th:only-of-type {\n",
       "        vertical-align: middle;\n",
       "    }\n",
       "\n",
       "    .dataframe tbody tr th {\n",
       "        vertical-align: top;\n",
       "    }\n",
       "\n",
       "    .dataframe thead th {\n",
       "        text-align: right;\n",
       "    }\n",
       "</style>\n",
       "<table border=\"1\" class=\"dataframe\">\n",
       "  <thead>\n",
       "    <tr style=\"text-align: right;\">\n",
       "      <th></th>\n",
       "      <th>event_name</th>\n",
       "      <th>userId</th>\n",
       "      <th>percent</th>\n",
       "      <th>pass_percent</th>\n",
       "    </tr>\n",
       "  </thead>\n",
       "  <tbody>\n",
       "    <tr>\n",
       "      <th>0</th>\n",
       "      <td>MainScreenAppear</td>\n",
       "      <td>7423</td>\n",
       "      <td>98.53</td>\n",
       "      <td>NaN</td>\n",
       "    </tr>\n",
       "    <tr>\n",
       "      <th>1</th>\n",
       "      <td>OffersScreenAppear</td>\n",
       "      <td>4597</td>\n",
       "      <td>61.02</td>\n",
       "      <td>61.93</td>\n",
       "    </tr>\n",
       "    <tr>\n",
       "      <th>2</th>\n",
       "      <td>CartScreenAppear</td>\n",
       "      <td>3736</td>\n",
       "      <td>49.59</td>\n",
       "      <td>81.27</td>\n",
       "    </tr>\n",
       "    <tr>\n",
       "      <th>3</th>\n",
       "      <td>PaymentScreenSuccessful</td>\n",
       "      <td>3540</td>\n",
       "      <td>46.99</td>\n",
       "      <td>94.75</td>\n",
       "    </tr>\n",
       "  </tbody>\n",
       "</table>\n",
       "</div>"
      ],
      "text/plain": [
       "                event_name  userId  percent  pass_percent\n",
       "0         MainScreenAppear    7423    98.53           NaN\n",
       "1       OffersScreenAppear    4597    61.02         61.93\n",
       "2         CartScreenAppear    3736    49.59         81.27\n",
       "3  PaymentScreenSuccessful    3540    46.99         94.75"
      ]
     },
     "execution_count": 61,
     "metadata": {},
     "output_type": "execute_result"
    }
   ],
   "source": [
    "# Создаю таблицу в которой уникальные пользователи будут сортрованы по совершенным на сайте дествиям.\n",
    "# По таблице видно, что большое количество пользователей всех групп не доходят до экрана предложений\n",
    "data_ev_pivot = (data.pivot_table(index='event_name',values='userId',aggfunc='nunique')\n",
    "                    .sort_values(by='userId', ascending=False))\n",
    "# добавляю к таблице котонку percent. Она показывает, какой процент уникальных пользователей от всех пользователей \n",
    "# переходит на сайте к следующему этапу\n",
    "data_ev_pivot['percent'] = data_ev_pivot['userId'] / data['userId'].nunique()*100\n",
    "data_ev_pivot['percent'] = round(data_ev_pivot['percent'],2)\n",
    "# добавляю к таблице колонку pass_percent. Она показывает, какой процент от пользователей у которых появился главный экран,\n",
    "# перешел от предыдущего этапа к последующему \n",
    "data_ev_pivot['pass_percent'] = data_ev_pivot['userId'].pct_change()*100\n",
    "data_ev_pivot['pass_percent'] = 100 + round(data_ev_pivot['pass_percent'],2)\n",
    "# заполнил пропуск в pass_percent, в строке MainScreenAppear значением 100, так как подсчет вел от числа пользователей\n",
    "# у которых появился главный экран\n",
    "data_ev_pivot = data_ev_pivot.fillna(data_ev_pivot['userId'] / data['userId'].nunique()*100)\n",
    "# выделил названия эвентов в отдельную колонку\n",
    "data_ev_pivot = data_ev_pivot.reset_index()\n",
    "data_ev_pivot"
   ]
  },
  {
   "cell_type": "code",
   "execution_count": 63,
   "id": "4ded5af2",
   "metadata": {},
   "outputs": [
    {
     "data": {
      "application/vnd.plotly.v1+json": {
       "config": {
        "plotlyServerURL": "https://plot.ly"
       },
       "data": [
        {
         "textinfo": "value+percent initial",
         "textposition": "inside",
         "type": "funnel",
         "x": [
          7423,
          4597,
          3736,
          3540
         ],
         "y": [
          "MainScreenAppear",
          "OffersScreenAppear",
          "CartScreenAppear",
          "PaymentScreenSuccessful"
         ]
        }
       ],
       "layout": {
        "template": {
         "data": {
          "bar": [
           {
            "error_x": {
             "color": "#2a3f5f"
            },
            "error_y": {
             "color": "#2a3f5f"
            },
            "marker": {
             "line": {
              "color": "#E5ECF6",
              "width": 0.5
             },
             "pattern": {
              "fillmode": "overlay",
              "size": 10,
              "solidity": 0.2
             }
            },
            "type": "bar"
           }
          ],
          "barpolar": [
           {
            "marker": {
             "line": {
              "color": "#E5ECF6",
              "width": 0.5
             },
             "pattern": {
              "fillmode": "overlay",
              "size": 10,
              "solidity": 0.2
             }
            },
            "type": "barpolar"
           }
          ],
          "carpet": [
           {
            "aaxis": {
             "endlinecolor": "#2a3f5f",
             "gridcolor": "white",
             "linecolor": "white",
             "minorgridcolor": "white",
             "startlinecolor": "#2a3f5f"
            },
            "baxis": {
             "endlinecolor": "#2a3f5f",
             "gridcolor": "white",
             "linecolor": "white",
             "minorgridcolor": "white",
             "startlinecolor": "#2a3f5f"
            },
            "type": "carpet"
           }
          ],
          "choropleth": [
           {
            "colorbar": {
             "outlinewidth": 0,
             "ticks": ""
            },
            "type": "choropleth"
           }
          ],
          "contour": [
           {
            "colorbar": {
             "outlinewidth": 0,
             "ticks": ""
            },
            "colorscale": [
             [
              0,
              "#0d0887"
             ],
             [
              0.1111111111111111,
              "#46039f"
             ],
             [
              0.2222222222222222,
              "#7201a8"
             ],
             [
              0.3333333333333333,
              "#9c179e"
             ],
             [
              0.4444444444444444,
              "#bd3786"
             ],
             [
              0.5555555555555556,
              "#d8576b"
             ],
             [
              0.6666666666666666,
              "#ed7953"
             ],
             [
              0.7777777777777778,
              "#fb9f3a"
             ],
             [
              0.8888888888888888,
              "#fdca26"
             ],
             [
              1,
              "#f0f921"
             ]
            ],
            "type": "contour"
           }
          ],
          "contourcarpet": [
           {
            "colorbar": {
             "outlinewidth": 0,
             "ticks": ""
            },
            "type": "contourcarpet"
           }
          ],
          "heatmap": [
           {
            "colorbar": {
             "outlinewidth": 0,
             "ticks": ""
            },
            "colorscale": [
             [
              0,
              "#0d0887"
             ],
             [
              0.1111111111111111,
              "#46039f"
             ],
             [
              0.2222222222222222,
              "#7201a8"
             ],
             [
              0.3333333333333333,
              "#9c179e"
             ],
             [
              0.4444444444444444,
              "#bd3786"
             ],
             [
              0.5555555555555556,
              "#d8576b"
             ],
             [
              0.6666666666666666,
              "#ed7953"
             ],
             [
              0.7777777777777778,
              "#fb9f3a"
             ],
             [
              0.8888888888888888,
              "#fdca26"
             ],
             [
              1,
              "#f0f921"
             ]
            ],
            "type": "heatmap"
           }
          ],
          "heatmapgl": [
           {
            "colorbar": {
             "outlinewidth": 0,
             "ticks": ""
            },
            "colorscale": [
             [
              0,
              "#0d0887"
             ],
             [
              0.1111111111111111,
              "#46039f"
             ],
             [
              0.2222222222222222,
              "#7201a8"
             ],
             [
              0.3333333333333333,
              "#9c179e"
             ],
             [
              0.4444444444444444,
              "#bd3786"
             ],
             [
              0.5555555555555556,
              "#d8576b"
             ],
             [
              0.6666666666666666,
              "#ed7953"
             ],
             [
              0.7777777777777778,
              "#fb9f3a"
             ],
             [
              0.8888888888888888,
              "#fdca26"
             ],
             [
              1,
              "#f0f921"
             ]
            ],
            "type": "heatmapgl"
           }
          ],
          "histogram": [
           {
            "marker": {
             "pattern": {
              "fillmode": "overlay",
              "size": 10,
              "solidity": 0.2
             }
            },
            "type": "histogram"
           }
          ],
          "histogram2d": [
           {
            "colorbar": {
             "outlinewidth": 0,
             "ticks": ""
            },
            "colorscale": [
             [
              0,
              "#0d0887"
             ],
             [
              0.1111111111111111,
              "#46039f"
             ],
             [
              0.2222222222222222,
              "#7201a8"
             ],
             [
              0.3333333333333333,
              "#9c179e"
             ],
             [
              0.4444444444444444,
              "#bd3786"
             ],
             [
              0.5555555555555556,
              "#d8576b"
             ],
             [
              0.6666666666666666,
              "#ed7953"
             ],
             [
              0.7777777777777778,
              "#fb9f3a"
             ],
             [
              0.8888888888888888,
              "#fdca26"
             ],
             [
              1,
              "#f0f921"
             ]
            ],
            "type": "histogram2d"
           }
          ],
          "histogram2dcontour": [
           {
            "colorbar": {
             "outlinewidth": 0,
             "ticks": ""
            },
            "colorscale": [
             [
              0,
              "#0d0887"
             ],
             [
              0.1111111111111111,
              "#46039f"
             ],
             [
              0.2222222222222222,
              "#7201a8"
             ],
             [
              0.3333333333333333,
              "#9c179e"
             ],
             [
              0.4444444444444444,
              "#bd3786"
             ],
             [
              0.5555555555555556,
              "#d8576b"
             ],
             [
              0.6666666666666666,
              "#ed7953"
             ],
             [
              0.7777777777777778,
              "#fb9f3a"
             ],
             [
              0.8888888888888888,
              "#fdca26"
             ],
             [
              1,
              "#f0f921"
             ]
            ],
            "type": "histogram2dcontour"
           }
          ],
          "mesh3d": [
           {
            "colorbar": {
             "outlinewidth": 0,
             "ticks": ""
            },
            "type": "mesh3d"
           }
          ],
          "parcoords": [
           {
            "line": {
             "colorbar": {
              "outlinewidth": 0,
              "ticks": ""
             }
            },
            "type": "parcoords"
           }
          ],
          "pie": [
           {
            "automargin": true,
            "type": "pie"
           }
          ],
          "scatter": [
           {
            "fillpattern": {
             "fillmode": "overlay",
             "size": 10,
             "solidity": 0.2
            },
            "type": "scatter"
           }
          ],
          "scatter3d": [
           {
            "line": {
             "colorbar": {
              "outlinewidth": 0,
              "ticks": ""
             }
            },
            "marker": {
             "colorbar": {
              "outlinewidth": 0,
              "ticks": ""
             }
            },
            "type": "scatter3d"
           }
          ],
          "scattercarpet": [
           {
            "marker": {
             "colorbar": {
              "outlinewidth": 0,
              "ticks": ""
             }
            },
            "type": "scattercarpet"
           }
          ],
          "scattergeo": [
           {
            "marker": {
             "colorbar": {
              "outlinewidth": 0,
              "ticks": ""
             }
            },
            "type": "scattergeo"
           }
          ],
          "scattergl": [
           {
            "marker": {
             "colorbar": {
              "outlinewidth": 0,
              "ticks": ""
             }
            },
            "type": "scattergl"
           }
          ],
          "scattermapbox": [
           {
            "marker": {
             "colorbar": {
              "outlinewidth": 0,
              "ticks": ""
             }
            },
            "type": "scattermapbox"
           }
          ],
          "scatterpolar": [
           {
            "marker": {
             "colorbar": {
              "outlinewidth": 0,
              "ticks": ""
             }
            },
            "type": "scatterpolar"
           }
          ],
          "scatterpolargl": [
           {
            "marker": {
             "colorbar": {
              "outlinewidth": 0,
              "ticks": ""
             }
            },
            "type": "scatterpolargl"
           }
          ],
          "scatterternary": [
           {
            "marker": {
             "colorbar": {
              "outlinewidth": 0,
              "ticks": ""
             }
            },
            "type": "scatterternary"
           }
          ],
          "surface": [
           {
            "colorbar": {
             "outlinewidth": 0,
             "ticks": ""
            },
            "colorscale": [
             [
              0,
              "#0d0887"
             ],
             [
              0.1111111111111111,
              "#46039f"
             ],
             [
              0.2222222222222222,
              "#7201a8"
             ],
             [
              0.3333333333333333,
              "#9c179e"
             ],
             [
              0.4444444444444444,
              "#bd3786"
             ],
             [
              0.5555555555555556,
              "#d8576b"
             ],
             [
              0.6666666666666666,
              "#ed7953"
             ],
             [
              0.7777777777777778,
              "#fb9f3a"
             ],
             [
              0.8888888888888888,
              "#fdca26"
             ],
             [
              1,
              "#f0f921"
             ]
            ],
            "type": "surface"
           }
          ],
          "table": [
           {
            "cells": {
             "fill": {
              "color": "#EBF0F8"
             },
             "line": {
              "color": "white"
             }
            },
            "header": {
             "fill": {
              "color": "#C8D4E3"
             },
             "line": {
              "color": "white"
             }
            },
            "type": "table"
           }
          ]
         },
         "layout": {
          "annotationdefaults": {
           "arrowcolor": "#2a3f5f",
           "arrowhead": 0,
           "arrowwidth": 1
          },
          "autotypenumbers": "strict",
          "coloraxis": {
           "colorbar": {
            "outlinewidth": 0,
            "ticks": ""
           }
          },
          "colorscale": {
           "diverging": [
            [
             0,
             "#8e0152"
            ],
            [
             0.1,
             "#c51b7d"
            ],
            [
             0.2,
             "#de77ae"
            ],
            [
             0.3,
             "#f1b6da"
            ],
            [
             0.4,
             "#fde0ef"
            ],
            [
             0.5,
             "#f7f7f7"
            ],
            [
             0.6,
             "#e6f5d0"
            ],
            [
             0.7,
             "#b8e186"
            ],
            [
             0.8,
             "#7fbc41"
            ],
            [
             0.9,
             "#4d9221"
            ],
            [
             1,
             "#276419"
            ]
           ],
           "sequential": [
            [
             0,
             "#0d0887"
            ],
            [
             0.1111111111111111,
             "#46039f"
            ],
            [
             0.2222222222222222,
             "#7201a8"
            ],
            [
             0.3333333333333333,
             "#9c179e"
            ],
            [
             0.4444444444444444,
             "#bd3786"
            ],
            [
             0.5555555555555556,
             "#d8576b"
            ],
            [
             0.6666666666666666,
             "#ed7953"
            ],
            [
             0.7777777777777778,
             "#fb9f3a"
            ],
            [
             0.8888888888888888,
             "#fdca26"
            ],
            [
             1,
             "#f0f921"
            ]
           ],
           "sequentialminus": [
            [
             0,
             "#0d0887"
            ],
            [
             0.1111111111111111,
             "#46039f"
            ],
            [
             0.2222222222222222,
             "#7201a8"
            ],
            [
             0.3333333333333333,
             "#9c179e"
            ],
            [
             0.4444444444444444,
             "#bd3786"
            ],
            [
             0.5555555555555556,
             "#d8576b"
            ],
            [
             0.6666666666666666,
             "#ed7953"
            ],
            [
             0.7777777777777778,
             "#fb9f3a"
            ],
            [
             0.8888888888888888,
             "#fdca26"
            ],
            [
             1,
             "#f0f921"
            ]
           ]
          },
          "colorway": [
           "#636efa",
           "#EF553B",
           "#00cc96",
           "#ab63fa",
           "#FFA15A",
           "#19d3f3",
           "#FF6692",
           "#B6E880",
           "#FF97FF",
           "#FECB52"
          ],
          "font": {
           "color": "#2a3f5f"
          },
          "geo": {
           "bgcolor": "white",
           "lakecolor": "white",
           "landcolor": "#E5ECF6",
           "showlakes": true,
           "showland": true,
           "subunitcolor": "white"
          },
          "hoverlabel": {
           "align": "left"
          },
          "hovermode": "closest",
          "mapbox": {
           "style": "light"
          },
          "paper_bgcolor": "white",
          "plot_bgcolor": "#E5ECF6",
          "polar": {
           "angularaxis": {
            "gridcolor": "white",
            "linecolor": "white",
            "ticks": ""
           },
           "bgcolor": "#E5ECF6",
           "radialaxis": {
            "gridcolor": "white",
            "linecolor": "white",
            "ticks": ""
           }
          },
          "scene": {
           "xaxis": {
            "backgroundcolor": "#E5ECF6",
            "gridcolor": "white",
            "gridwidth": 2,
            "linecolor": "white",
            "showbackground": true,
            "ticks": "",
            "zerolinecolor": "white"
           },
           "yaxis": {
            "backgroundcolor": "#E5ECF6",
            "gridcolor": "white",
            "gridwidth": 2,
            "linecolor": "white",
            "showbackground": true,
            "ticks": "",
            "zerolinecolor": "white"
           },
           "zaxis": {
            "backgroundcolor": "#E5ECF6",
            "gridcolor": "white",
            "gridwidth": 2,
            "linecolor": "white",
            "showbackground": true,
            "ticks": "",
            "zerolinecolor": "white"
           }
          },
          "shapedefaults": {
           "line": {
            "color": "#2a3f5f"
           }
          },
          "ternary": {
           "aaxis": {
            "gridcolor": "white",
            "linecolor": "white",
            "ticks": ""
           },
           "baxis": {
            "gridcolor": "white",
            "linecolor": "white",
            "ticks": ""
           },
           "bgcolor": "#E5ECF6",
           "caxis": {
            "gridcolor": "white",
            "linecolor": "white",
            "ticks": ""
           }
          },
          "title": {
           "x": 0.05
          },
          "xaxis": {
           "automargin": true,
           "gridcolor": "white",
           "linecolor": "white",
           "ticks": "",
           "title": {
            "standoff": 15
           },
           "zerolinecolor": "white",
           "zerolinewidth": 2
          },
          "yaxis": {
           "automargin": true,
           "gridcolor": "white",
           "linecolor": "white",
           "ticks": "",
           "title": {
            "standoff": 15
           },
           "zerolinecolor": "white",
           "zerolinewidth": 2
          }
         }
        }
       }
      },
      "text/html": [
       "<div>                            <div id=\"452b832b-03e9-4cda-b375-5ac2c8b3bc06\" class=\"plotly-graph-div\" style=\"height:525px; width:100%;\"></div>            <script type=\"text/javascript\">                require([\"plotly\"], function(Plotly) {                    window.PLOTLYENV=window.PLOTLYENV || {};                                    if (document.getElementById(\"452b832b-03e9-4cda-b375-5ac2c8b3bc06\")) {                    Plotly.newPlot(                        \"452b832b-03e9-4cda-b375-5ac2c8b3bc06\",                        [{\"textinfo\":\"value+percent initial\",\"textposition\":\"inside\",\"x\":[7423,4597,3736,3540],\"y\":[\"MainScreenAppear\",\"OffersScreenAppear\",\"CartScreenAppear\",\"PaymentScreenSuccessful\"],\"type\":\"funnel\"}],                        {\"template\":{\"data\":{\"histogram2dcontour\":[{\"type\":\"histogram2dcontour\",\"colorbar\":{\"outlinewidth\":0,\"ticks\":\"\"},\"colorscale\":[[0.0,\"#0d0887\"],[0.1111111111111111,\"#46039f\"],[0.2222222222222222,\"#7201a8\"],[0.3333333333333333,\"#9c179e\"],[0.4444444444444444,\"#bd3786\"],[0.5555555555555556,\"#d8576b\"],[0.6666666666666666,\"#ed7953\"],[0.7777777777777778,\"#fb9f3a\"],[0.8888888888888888,\"#fdca26\"],[1.0,\"#f0f921\"]]}],\"choropleth\":[{\"type\":\"choropleth\",\"colorbar\":{\"outlinewidth\":0,\"ticks\":\"\"}}],\"histogram2d\":[{\"type\":\"histogram2d\",\"colorbar\":{\"outlinewidth\":0,\"ticks\":\"\"},\"colorscale\":[[0.0,\"#0d0887\"],[0.1111111111111111,\"#46039f\"],[0.2222222222222222,\"#7201a8\"],[0.3333333333333333,\"#9c179e\"],[0.4444444444444444,\"#bd3786\"],[0.5555555555555556,\"#d8576b\"],[0.6666666666666666,\"#ed7953\"],[0.7777777777777778,\"#fb9f3a\"],[0.8888888888888888,\"#fdca26\"],[1.0,\"#f0f921\"]]}],\"heatmap\":[{\"type\":\"heatmap\",\"colorbar\":{\"outlinewidth\":0,\"ticks\":\"\"},\"colorscale\":[[0.0,\"#0d0887\"],[0.1111111111111111,\"#46039f\"],[0.2222222222222222,\"#7201a8\"],[0.3333333333333333,\"#9c179e\"],[0.4444444444444444,\"#bd3786\"],[0.5555555555555556,\"#d8576b\"],[0.6666666666666666,\"#ed7953\"],[0.7777777777777778,\"#fb9f3a\"],[0.8888888888888888,\"#fdca26\"],[1.0,\"#f0f921\"]]}],\"heatmapgl\":[{\"type\":\"heatmapgl\",\"colorbar\":{\"outlinewidth\":0,\"ticks\":\"\"},\"colorscale\":[[0.0,\"#0d0887\"],[0.1111111111111111,\"#46039f\"],[0.2222222222222222,\"#7201a8\"],[0.3333333333333333,\"#9c179e\"],[0.4444444444444444,\"#bd3786\"],[0.5555555555555556,\"#d8576b\"],[0.6666666666666666,\"#ed7953\"],[0.7777777777777778,\"#fb9f3a\"],[0.8888888888888888,\"#fdca26\"],[1.0,\"#f0f921\"]]}],\"contourcarpet\":[{\"type\":\"contourcarpet\",\"colorbar\":{\"outlinewidth\":0,\"ticks\":\"\"}}],\"contour\":[{\"type\":\"contour\",\"colorbar\":{\"outlinewidth\":0,\"ticks\":\"\"},\"colorscale\":[[0.0,\"#0d0887\"],[0.1111111111111111,\"#46039f\"],[0.2222222222222222,\"#7201a8\"],[0.3333333333333333,\"#9c179e\"],[0.4444444444444444,\"#bd3786\"],[0.5555555555555556,\"#d8576b\"],[0.6666666666666666,\"#ed7953\"],[0.7777777777777778,\"#fb9f3a\"],[0.8888888888888888,\"#fdca26\"],[1.0,\"#f0f921\"]]}],\"surface\":[{\"type\":\"surface\",\"colorbar\":{\"outlinewidth\":0,\"ticks\":\"\"},\"colorscale\":[[0.0,\"#0d0887\"],[0.1111111111111111,\"#46039f\"],[0.2222222222222222,\"#7201a8\"],[0.3333333333333333,\"#9c179e\"],[0.4444444444444444,\"#bd3786\"],[0.5555555555555556,\"#d8576b\"],[0.6666666666666666,\"#ed7953\"],[0.7777777777777778,\"#fb9f3a\"],[0.8888888888888888,\"#fdca26\"],[1.0,\"#f0f921\"]]}],\"mesh3d\":[{\"type\":\"mesh3d\",\"colorbar\":{\"outlinewidth\":0,\"ticks\":\"\"}}],\"scatter\":[{\"fillpattern\":{\"fillmode\":\"overlay\",\"size\":10,\"solidity\":0.2},\"type\":\"scatter\"}],\"parcoords\":[{\"type\":\"parcoords\",\"line\":{\"colorbar\":{\"outlinewidth\":0,\"ticks\":\"\"}}}],\"scatterpolargl\":[{\"type\":\"scatterpolargl\",\"marker\":{\"colorbar\":{\"outlinewidth\":0,\"ticks\":\"\"}}}],\"bar\":[{\"error_x\":{\"color\":\"#2a3f5f\"},\"error_y\":{\"color\":\"#2a3f5f\"},\"marker\":{\"line\":{\"color\":\"#E5ECF6\",\"width\":0.5},\"pattern\":{\"fillmode\":\"overlay\",\"size\":10,\"solidity\":0.2}},\"type\":\"bar\"}],\"scattergeo\":[{\"type\":\"scattergeo\",\"marker\":{\"colorbar\":{\"outlinewidth\":0,\"ticks\":\"\"}}}],\"scatterpolar\":[{\"type\":\"scatterpolar\",\"marker\":{\"colorbar\":{\"outlinewidth\":0,\"ticks\":\"\"}}}],\"histogram\":[{\"marker\":{\"pattern\":{\"fillmode\":\"overlay\",\"size\":10,\"solidity\":0.2}},\"type\":\"histogram\"}],\"scattergl\":[{\"type\":\"scattergl\",\"marker\":{\"colorbar\":{\"outlinewidth\":0,\"ticks\":\"\"}}}],\"scatter3d\":[{\"type\":\"scatter3d\",\"line\":{\"colorbar\":{\"outlinewidth\":0,\"ticks\":\"\"}},\"marker\":{\"colorbar\":{\"outlinewidth\":0,\"ticks\":\"\"}}}],\"scattermapbox\":[{\"type\":\"scattermapbox\",\"marker\":{\"colorbar\":{\"outlinewidth\":0,\"ticks\":\"\"}}}],\"scatterternary\":[{\"type\":\"scatterternary\",\"marker\":{\"colorbar\":{\"outlinewidth\":0,\"ticks\":\"\"}}}],\"scattercarpet\":[{\"type\":\"scattercarpet\",\"marker\":{\"colorbar\":{\"outlinewidth\":0,\"ticks\":\"\"}}}],\"carpet\":[{\"aaxis\":{\"endlinecolor\":\"#2a3f5f\",\"gridcolor\":\"white\",\"linecolor\":\"white\",\"minorgridcolor\":\"white\",\"startlinecolor\":\"#2a3f5f\"},\"baxis\":{\"endlinecolor\":\"#2a3f5f\",\"gridcolor\":\"white\",\"linecolor\":\"white\",\"minorgridcolor\":\"white\",\"startlinecolor\":\"#2a3f5f\"},\"type\":\"carpet\"}],\"table\":[{\"cells\":{\"fill\":{\"color\":\"#EBF0F8\"},\"line\":{\"color\":\"white\"}},\"header\":{\"fill\":{\"color\":\"#C8D4E3\"},\"line\":{\"color\":\"white\"}},\"type\":\"table\"}],\"barpolar\":[{\"marker\":{\"line\":{\"color\":\"#E5ECF6\",\"width\":0.5},\"pattern\":{\"fillmode\":\"overlay\",\"size\":10,\"solidity\":0.2}},\"type\":\"barpolar\"}],\"pie\":[{\"automargin\":true,\"type\":\"pie\"}]},\"layout\":{\"autotypenumbers\":\"strict\",\"colorway\":[\"#636efa\",\"#EF553B\",\"#00cc96\",\"#ab63fa\",\"#FFA15A\",\"#19d3f3\",\"#FF6692\",\"#B6E880\",\"#FF97FF\",\"#FECB52\"],\"font\":{\"color\":\"#2a3f5f\"},\"hovermode\":\"closest\",\"hoverlabel\":{\"align\":\"left\"},\"paper_bgcolor\":\"white\",\"plot_bgcolor\":\"#E5ECF6\",\"polar\":{\"bgcolor\":\"#E5ECF6\",\"angularaxis\":{\"gridcolor\":\"white\",\"linecolor\":\"white\",\"ticks\":\"\"},\"radialaxis\":{\"gridcolor\":\"white\",\"linecolor\":\"white\",\"ticks\":\"\"}},\"ternary\":{\"bgcolor\":\"#E5ECF6\",\"aaxis\":{\"gridcolor\":\"white\",\"linecolor\":\"white\",\"ticks\":\"\"},\"baxis\":{\"gridcolor\":\"white\",\"linecolor\":\"white\",\"ticks\":\"\"},\"caxis\":{\"gridcolor\":\"white\",\"linecolor\":\"white\",\"ticks\":\"\"}},\"coloraxis\":{\"colorbar\":{\"outlinewidth\":0,\"ticks\":\"\"}},\"colorscale\":{\"sequential\":[[0.0,\"#0d0887\"],[0.1111111111111111,\"#46039f\"],[0.2222222222222222,\"#7201a8\"],[0.3333333333333333,\"#9c179e\"],[0.4444444444444444,\"#bd3786\"],[0.5555555555555556,\"#d8576b\"],[0.6666666666666666,\"#ed7953\"],[0.7777777777777778,\"#fb9f3a\"],[0.8888888888888888,\"#fdca26\"],[1.0,\"#f0f921\"]],\"sequentialminus\":[[0.0,\"#0d0887\"],[0.1111111111111111,\"#46039f\"],[0.2222222222222222,\"#7201a8\"],[0.3333333333333333,\"#9c179e\"],[0.4444444444444444,\"#bd3786\"],[0.5555555555555556,\"#d8576b\"],[0.6666666666666666,\"#ed7953\"],[0.7777777777777778,\"#fb9f3a\"],[0.8888888888888888,\"#fdca26\"],[1.0,\"#f0f921\"]],\"diverging\":[[0,\"#8e0152\"],[0.1,\"#c51b7d\"],[0.2,\"#de77ae\"],[0.3,\"#f1b6da\"],[0.4,\"#fde0ef\"],[0.5,\"#f7f7f7\"],[0.6,\"#e6f5d0\"],[0.7,\"#b8e186\"],[0.8,\"#7fbc41\"],[0.9,\"#4d9221\"],[1,\"#276419\"]]},\"xaxis\":{\"gridcolor\":\"white\",\"linecolor\":\"white\",\"ticks\":\"\",\"title\":{\"standoff\":15},\"zerolinecolor\":\"white\",\"automargin\":true,\"zerolinewidth\":2},\"yaxis\":{\"gridcolor\":\"white\",\"linecolor\":\"white\",\"ticks\":\"\",\"title\":{\"standoff\":15},\"zerolinecolor\":\"white\",\"automargin\":true,\"zerolinewidth\":2},\"scene\":{\"xaxis\":{\"backgroundcolor\":\"#E5ECF6\",\"gridcolor\":\"white\",\"linecolor\":\"white\",\"showbackground\":true,\"ticks\":\"\",\"zerolinecolor\":\"white\",\"gridwidth\":2},\"yaxis\":{\"backgroundcolor\":\"#E5ECF6\",\"gridcolor\":\"white\",\"linecolor\":\"white\",\"showbackground\":true,\"ticks\":\"\",\"zerolinecolor\":\"white\",\"gridwidth\":2},\"zaxis\":{\"backgroundcolor\":\"#E5ECF6\",\"gridcolor\":\"white\",\"linecolor\":\"white\",\"showbackground\":true,\"ticks\":\"\",\"zerolinecolor\":\"white\",\"gridwidth\":2}},\"shapedefaults\":{\"line\":{\"color\":\"#2a3f5f\"}},\"annotationdefaults\":{\"arrowcolor\":\"#2a3f5f\",\"arrowhead\":0,\"arrowwidth\":1},\"geo\":{\"bgcolor\":\"white\",\"landcolor\":\"#E5ECF6\",\"subunitcolor\":\"white\",\"showland\":true,\"showlakes\":true,\"lakecolor\":\"white\"},\"title\":{\"x\":0.05},\"mapbox\":{\"style\":\"light\"}}}},                        {\"responsive\": true}                    ).then(function(){\n",
       "                            \n",
       "var gd = document.getElementById('452b832b-03e9-4cda-b375-5ac2c8b3bc06');\n",
       "var x = new MutationObserver(function (mutations, observer) {{\n",
       "        var display = window.getComputedStyle(gd).display;\n",
       "        if (!display || display === 'none') {{\n",
       "            console.log([gd, 'removed!']);\n",
       "            Plotly.purge(gd);\n",
       "            observer.disconnect();\n",
       "        }}\n",
       "}});\n",
       "\n",
       "// Listen for the removal of the full notebook cells\n",
       "var notebookContainer = gd.closest('#notebook-container');\n",
       "if (notebookContainer) {{\n",
       "    x.observe(notebookContainer, {childList: true});\n",
       "}}\n",
       "\n",
       "// Listen for the clearing of the current output cell\n",
       "var outputEl = gd.closest('.output');\n",
       "if (outputEl) {{\n",
       "    x.observe(outputEl, {childList: true});\n",
       "}}\n",
       "\n",
       "                        })                };                });            </script>        </div>"
      ]
     },
     "metadata": {},
     "output_type": "display_data"
    }
   ],
   "source": [
    "# Построил воронку процента прохождения к последующему этапу от общего количества пользователей\n",
    "fig = go.Figure(go.Funnel(\n",
    "    y = data_ev_pivot['event_name'],\n",
    "    x = data_ev_pivot['userId'],\n",
    "    textposition = \"inside\",\n",
    "    textinfo = \"value+percent initial\"\n",
    "    ))\n",
    "fig.show()"
   ]
  },
  {
   "cell_type": "markdown",
   "id": "fba2241a",
   "metadata": {},
   "source": [
    "#### По данной воронке мы видим, что с главного экрана на экран предложений переходит 61,9% пользователей от общего числа. Больщое количество пользователей, а точнее 38,1% от общего числа пользователей, теряются именно на этом этапе.  50,3% от числа открывших приложение пользователей, переходят на станицу корзины.Экран успешной оплаты появляется у 47,7% пользователей от общего числа пользователей."
   ]
  },
  {
   "cell_type": "markdown",
   "id": "67a9fad1",
   "metadata": {},
   "source": [
    "### Вывод по итогу изучения воронки событий\n",
    "* В логах мы имеем 5 типов событий MainScreenAppear(Появление главного экрана)-117889, OffersScreenAppear(Появление экрана предложений)-46531, CartScreenAppear(Появление экрана корзины)-42343, PaymentScreenSuccessful(Появление сообщения об успешной оплате)-33951, Tutorial(Обучение)-1010. Tutorial пропускают многие пользователи знакомые с интерфейсом. Обучение может игнорироваться большим количеством пользователей сайта. Принял решение исключить его из дальшейшей визуальзации.\n",
    "* С главного экрана на экран предложений переходит 61,9% пользователей от общего числа. Больщое количество пользователей, а точнее 38,1% от общего числа пользователей, теряются именно на этом этапе.  50,3% от числа открывших приложение пользователей, переходят на станицу корзины.Экран успешной оплаты появляется у 47,7% пользователей от общего числа пользователей.\n",
    "* От первого события до оплаты доходит 45,52% пользователей. У 1,47% пользователей не произошло регистрации первого события."
   ]
  },
  {
   "cell_type": "markdown",
   "id": "40d804b5",
   "metadata": {},
   "source": [
    "## Шаг 5. Изучение результатов эксперимента"
   ]
  },
  {
   "cell_type": "code",
   "execution_count": 49,
   "id": "5ff47233",
   "metadata": {},
   "outputs": [
    {
     "data": {
      "text/html": [
       "<div>\n",
       "<style scoped>\n",
       "    .dataframe tbody tr th:only-of-type {\n",
       "        vertical-align: middle;\n",
       "    }\n",
       "\n",
       "    .dataframe tbody tr th {\n",
       "        vertical-align: top;\n",
       "    }\n",
       "\n",
       "    .dataframe thead th {\n",
       "        text-align: right;\n",
       "    }\n",
       "</style>\n",
       "<table border=\"1\" class=\"dataframe\">\n",
       "  <thead>\n",
       "    <tr style=\"text-align: right;\">\n",
       "      <th></th>\n",
       "      <th>group</th>\n",
       "      <th>userId</th>\n",
       "    </tr>\n",
       "  </thead>\n",
       "  <tbody>\n",
       "    <tr>\n",
       "      <th>0</th>\n",
       "      <td>A1</td>\n",
       "      <td>2483</td>\n",
       "    </tr>\n",
       "    <tr>\n",
       "      <th>1</th>\n",
       "      <td>A2</td>\n",
       "      <td>2516</td>\n",
       "    </tr>\n",
       "    <tr>\n",
       "      <th>2</th>\n",
       "      <td>B</td>\n",
       "      <td>2535</td>\n",
       "    </tr>\n",
       "    <tr>\n",
       "      <th>3</th>\n",
       "      <td>A1+A2</td>\n",
       "      <td>4999</td>\n",
       "    </tr>\n",
       "  </tbody>\n",
       "</table>\n",
       "</div>"
      ],
      "text/plain": [
       "   group  userId\n",
       "0     A1    2483\n",
       "1     A2    2516\n",
       "2      B    2535\n",
       "3  A1+A2    4999"
      ]
     },
     "execution_count": 49,
     "metadata": {},
     "output_type": "execute_result"
    }
   ],
   "source": [
    "# вывел количество уникальных пользователей каждой из групп\n",
    "users_grouped = data.groupby('group')['userId'].nunique()\n",
    "users_grouped['A1+A2'] = users_grouped['A1'] + users_grouped['A2']\n",
    "users_grouped = users_grouped.reset_index()\n",
    "users_grouped"
   ]
  },
  {
   "cell_type": "code",
   "execution_count": 50,
   "id": "4c839da0",
   "metadata": {},
   "outputs": [
    {
     "data": {
      "text/html": [
       "<div>\n",
       "<style scoped>\n",
       "    .dataframe tbody tr th:only-of-type {\n",
       "        vertical-align: middle;\n",
       "    }\n",
       "\n",
       "    .dataframe tbody tr th {\n",
       "        vertical-align: top;\n",
       "    }\n",
       "\n",
       "    .dataframe thead th {\n",
       "        text-align: right;\n",
       "    }\n",
       "</style>\n",
       "<table border=\"1\" class=\"dataframe\">\n",
       "  <thead>\n",
       "    <tr style=\"text-align: right;\">\n",
       "      <th>group</th>\n",
       "      <th>event_name</th>\n",
       "      <th>A1</th>\n",
       "      <th>A2</th>\n",
       "      <th>B</th>\n",
       "      <th>A1+A2</th>\n",
       "    </tr>\n",
       "  </thead>\n",
       "  <tbody>\n",
       "    <tr>\n",
       "      <th>0</th>\n",
       "      <td>MainScreenAppear</td>\n",
       "      <td>2450</td>\n",
       "      <td>2479</td>\n",
       "      <td>2494</td>\n",
       "      <td>4929</td>\n",
       "    </tr>\n",
       "    <tr>\n",
       "      <th>1</th>\n",
       "      <td>OffersScreenAppear</td>\n",
       "      <td>1542</td>\n",
       "      <td>1524</td>\n",
       "      <td>1531</td>\n",
       "      <td>3066</td>\n",
       "    </tr>\n",
       "    <tr>\n",
       "      <th>2</th>\n",
       "      <td>CartScreenAppear</td>\n",
       "      <td>1266</td>\n",
       "      <td>1239</td>\n",
       "      <td>1231</td>\n",
       "      <td>2505</td>\n",
       "    </tr>\n",
       "    <tr>\n",
       "      <th>3</th>\n",
       "      <td>PaymentScreenSuccessful</td>\n",
       "      <td>1200</td>\n",
       "      <td>1158</td>\n",
       "      <td>1182</td>\n",
       "      <td>2358</td>\n",
       "    </tr>\n",
       "  </tbody>\n",
       "</table>\n",
       "</div>"
      ],
      "text/plain": [
       "group               event_name    A1    A2     B  A1+A2\n",
       "0             MainScreenAppear  2450  2479  2494   4929\n",
       "1           OffersScreenAppear  1542  1524  1531   3066\n",
       "2             CartScreenAppear  1266  1239  1231   2505\n",
       "3      PaymentScreenSuccessful  1200  1158  1182   2358"
      ]
     },
     "execution_count": 50,
     "metadata": {},
     "output_type": "execute_result"
    }
   ],
   "source": [
    "# создал таблицу с разделением уникальных пользователей по группам и по событиям\n",
    "data_pivot = (data.pivot_table(index=['event_name'],columns='group', values = 'userId',aggfunc='nunique')\n",
    "           .sort_values(by='A1', ascending=False))\n",
    "data_pivot = data_pivot.reset_index()\n",
    "data_pivot['A1+A2'] = data_pivot['A1'] + data_pivot['A2']\n",
    "data_pivot"
   ]
  },
  {
   "cell_type": "code",
   "execution_count": 51,
   "id": "4a9806fb",
   "metadata": {},
   "outputs": [],
   "source": [
    "# выделил количество уникальных пользователей каждой из групп\n",
    "a1_group = data[data['group'] == 'A1']['userId'].nunique()\n",
    "a2_group = data[data['group'] == 'A2']['userId'].nunique()\n",
    "b_group = data[data['group'] == 'B']['userId'].nunique()"
   ]
  },
  {
   "cell_type": "code",
   "execution_count": 52,
   "id": "c9081174",
   "metadata": {},
   "outputs": [],
   "source": [
    "# вывел процент прохождения пользователями групп к последующим этапам от общего числа пользователей групп\n",
    "data_pivot['percent_A1'] = round(data_pivot['A1'] / a1_group * 100,2)\n",
    "data_pivot['percent_A2'] = round(data_pivot['A2'] / a2_group * 100,2)\n",
    "data_pivot['percent_B'] = round(data_pivot['B'] / b_group * 100,2)\n",
    "data_pivot['percent_A1+A2'] = round(data_pivot['A1+A2'] / (a1_group + a2_group) * 100,2)"
   ]
  },
  {
   "cell_type": "code",
   "execution_count": 53,
   "id": "3044f328",
   "metadata": {},
   "outputs": [
    {
     "data": {
      "text/html": [
       "<div>\n",
       "<style scoped>\n",
       "    .dataframe tbody tr th:only-of-type {\n",
       "        vertical-align: middle;\n",
       "    }\n",
       "\n",
       "    .dataframe tbody tr th {\n",
       "        vertical-align: top;\n",
       "    }\n",
       "\n",
       "    .dataframe thead th {\n",
       "        text-align: right;\n",
       "    }\n",
       "</style>\n",
       "<table border=\"1\" class=\"dataframe\">\n",
       "  <thead>\n",
       "    <tr style=\"text-align: right;\">\n",
       "      <th>group</th>\n",
       "      <th>event_name</th>\n",
       "      <th>A1</th>\n",
       "      <th>A2</th>\n",
       "      <th>B</th>\n",
       "      <th>A1+A2</th>\n",
       "      <th>percent_A1</th>\n",
       "      <th>percent_A2</th>\n",
       "      <th>percent_B</th>\n",
       "      <th>percent_A1+A2</th>\n",
       "      <th>pass_percent_A1</th>\n",
       "      <th>pass_percent_A2</th>\n",
       "      <th>pass_percent_B</th>\n",
       "      <th>pass_percent_A1+A2</th>\n",
       "    </tr>\n",
       "  </thead>\n",
       "  <tbody>\n",
       "    <tr>\n",
       "      <th>0</th>\n",
       "      <td>MainScreenAppear</td>\n",
       "      <td>2450</td>\n",
       "      <td>2479</td>\n",
       "      <td>2494</td>\n",
       "      <td>4929</td>\n",
       "      <td>98.67</td>\n",
       "      <td>98.53</td>\n",
       "      <td>98.38</td>\n",
       "      <td>98.60</td>\n",
       "      <td>100.00</td>\n",
       "      <td>100.00</td>\n",
       "      <td>100.00</td>\n",
       "      <td>100.00</td>\n",
       "    </tr>\n",
       "    <tr>\n",
       "      <th>1</th>\n",
       "      <td>OffersScreenAppear</td>\n",
       "      <td>1542</td>\n",
       "      <td>1524</td>\n",
       "      <td>1531</td>\n",
       "      <td>3066</td>\n",
       "      <td>62.10</td>\n",
       "      <td>60.57</td>\n",
       "      <td>60.39</td>\n",
       "      <td>61.33</td>\n",
       "      <td>62.94</td>\n",
       "      <td>61.48</td>\n",
       "      <td>61.39</td>\n",
       "      <td>62.20</td>\n",
       "    </tr>\n",
       "    <tr>\n",
       "      <th>2</th>\n",
       "      <td>CartScreenAppear</td>\n",
       "      <td>1266</td>\n",
       "      <td>1239</td>\n",
       "      <td>1231</td>\n",
       "      <td>2505</td>\n",
       "      <td>50.99</td>\n",
       "      <td>49.24</td>\n",
       "      <td>48.56</td>\n",
       "      <td>50.11</td>\n",
       "      <td>82.10</td>\n",
       "      <td>81.30</td>\n",
       "      <td>80.40</td>\n",
       "      <td>81.70</td>\n",
       "    </tr>\n",
       "    <tr>\n",
       "      <th>3</th>\n",
       "      <td>PaymentScreenSuccessful</td>\n",
       "      <td>1200</td>\n",
       "      <td>1158</td>\n",
       "      <td>1182</td>\n",
       "      <td>2358</td>\n",
       "      <td>48.33</td>\n",
       "      <td>46.03</td>\n",
       "      <td>46.63</td>\n",
       "      <td>47.17</td>\n",
       "      <td>94.79</td>\n",
       "      <td>93.46</td>\n",
       "      <td>96.02</td>\n",
       "      <td>94.13</td>\n",
       "    </tr>\n",
       "  </tbody>\n",
       "</table>\n",
       "</div>"
      ],
      "text/plain": [
       "group               event_name    A1    A2     B  A1+A2  percent_A1  \\\n",
       "0             MainScreenAppear  2450  2479  2494   4929       98.67   \n",
       "1           OffersScreenAppear  1542  1524  1531   3066       62.10   \n",
       "2             CartScreenAppear  1266  1239  1231   2505       50.99   \n",
       "3      PaymentScreenSuccessful  1200  1158  1182   2358       48.33   \n",
       "\n",
       "group  percent_A2  percent_B  percent_A1+A2  pass_percent_A1  pass_percent_A2  \\\n",
       "0           98.53      98.38          98.60           100.00           100.00   \n",
       "1           60.57      60.39          61.33            62.94            61.48   \n",
       "2           49.24      48.56          50.11            82.10            81.30   \n",
       "3           46.03      46.63          47.17            94.79            93.46   \n",
       "\n",
       "group  pass_percent_B  pass_percent_A1+A2  \n",
       "0              100.00              100.00  \n",
       "1               61.39               62.20  \n",
       "2               80.40               81.70  \n",
       "3               96.02               94.13  "
      ]
     },
     "execution_count": 53,
     "metadata": {},
     "output_type": "execute_result"
    }
   ],
   "source": [
    "# вывел процент прохождени я пользователями групп к последующим этапам от числа пользоватей групп, прошедших предыдущий этап\n",
    "data_pivot['pass_percent_A1'] = data_pivot['A1'].pct_change()*100\n",
    "data_pivot['pass_percent_A1'] = 100 + round(data_pivot['pass_percent_A1'],2) \n",
    "data_pivot['pass_percent_A2'] = data_pivot['A2'].pct_change()*100\n",
    "data_pivot['pass_percent_A2'] = 100 + round(data_pivot['pass_percent_A2'],2) \n",
    "data_pivot['pass_percent_B'] = data_pivot['B'].pct_change()*100\n",
    "data_pivot['pass_percent_B'] = 100 + round(data_pivot['pass_percent_B'],2) \n",
    "data_pivot['pass_percent_A1+A2'] = data_pivot['A1+A2'].pct_change()*100\n",
    "data_pivot['pass_percent_A1+A2'] = 100 + round(data_pivot['pass_percent_A1+A2'],2) \n",
    "data_pivot = data_pivot.fillna(100)\n",
    "data_pivot"
   ]
  },
  {
   "cell_type": "code",
   "execution_count": 54,
   "id": "3b1fb439",
   "metadata": {},
   "outputs": [
    {
     "data": {
      "application/vnd.plotly.v1+json": {
       "config": {
        "plotlyServerURL": "https://plot.ly"
       },
       "data": [
        {
         "name": "A1",
         "textinfo": "value+percent previous",
         "type": "funnel",
         "x": [
          2450,
          1542,
          1266,
          1200
         ],
         "y": [
          "MainScreenAppear",
          "OffersScreenAppear",
          "CartScreenAppear",
          "PaymentScreenSuccessful"
         ]
        },
        {
         "name": "A2",
         "orientation": "h",
         "textinfo": "value+percent previous",
         "textposition": "inside",
         "type": "funnel",
         "x": [
          2479,
          1524,
          1239,
          1158
         ],
         "y": [
          "MainScreenAppear",
          "OffersScreenAppear",
          "CartScreenAppear",
          "PaymentScreenSuccessful"
         ]
        },
        {
         "name": "B",
         "orientation": "h",
         "textinfo": "value+percent previous",
         "textposition": "inside",
         "type": "funnel",
         "x": [
          2494,
          1531,
          1231,
          1182
         ],
         "y": [
          "MainScreenAppear",
          "OffersScreenAppear",
          "CartScreenAppear",
          "PaymentScreenSuccessful"
         ]
        }
       ],
       "layout": {
        "template": {
         "data": {
          "bar": [
           {
            "error_x": {
             "color": "#2a3f5f"
            },
            "error_y": {
             "color": "#2a3f5f"
            },
            "marker": {
             "line": {
              "color": "#E5ECF6",
              "width": 0.5
             },
             "pattern": {
              "fillmode": "overlay",
              "size": 10,
              "solidity": 0.2
             }
            },
            "type": "bar"
           }
          ],
          "barpolar": [
           {
            "marker": {
             "line": {
              "color": "#E5ECF6",
              "width": 0.5
             },
             "pattern": {
              "fillmode": "overlay",
              "size": 10,
              "solidity": 0.2
             }
            },
            "type": "barpolar"
           }
          ],
          "carpet": [
           {
            "aaxis": {
             "endlinecolor": "#2a3f5f",
             "gridcolor": "white",
             "linecolor": "white",
             "minorgridcolor": "white",
             "startlinecolor": "#2a3f5f"
            },
            "baxis": {
             "endlinecolor": "#2a3f5f",
             "gridcolor": "white",
             "linecolor": "white",
             "minorgridcolor": "white",
             "startlinecolor": "#2a3f5f"
            },
            "type": "carpet"
           }
          ],
          "choropleth": [
           {
            "colorbar": {
             "outlinewidth": 0,
             "ticks": ""
            },
            "type": "choropleth"
           }
          ],
          "contour": [
           {
            "colorbar": {
             "outlinewidth": 0,
             "ticks": ""
            },
            "colorscale": [
             [
              0,
              "#0d0887"
             ],
             [
              0.1111111111111111,
              "#46039f"
             ],
             [
              0.2222222222222222,
              "#7201a8"
             ],
             [
              0.3333333333333333,
              "#9c179e"
             ],
             [
              0.4444444444444444,
              "#bd3786"
             ],
             [
              0.5555555555555556,
              "#d8576b"
             ],
             [
              0.6666666666666666,
              "#ed7953"
             ],
             [
              0.7777777777777778,
              "#fb9f3a"
             ],
             [
              0.8888888888888888,
              "#fdca26"
             ],
             [
              1,
              "#f0f921"
             ]
            ],
            "type": "contour"
           }
          ],
          "contourcarpet": [
           {
            "colorbar": {
             "outlinewidth": 0,
             "ticks": ""
            },
            "type": "contourcarpet"
           }
          ],
          "heatmap": [
           {
            "colorbar": {
             "outlinewidth": 0,
             "ticks": ""
            },
            "colorscale": [
             [
              0,
              "#0d0887"
             ],
             [
              0.1111111111111111,
              "#46039f"
             ],
             [
              0.2222222222222222,
              "#7201a8"
             ],
             [
              0.3333333333333333,
              "#9c179e"
             ],
             [
              0.4444444444444444,
              "#bd3786"
             ],
             [
              0.5555555555555556,
              "#d8576b"
             ],
             [
              0.6666666666666666,
              "#ed7953"
             ],
             [
              0.7777777777777778,
              "#fb9f3a"
             ],
             [
              0.8888888888888888,
              "#fdca26"
             ],
             [
              1,
              "#f0f921"
             ]
            ],
            "type": "heatmap"
           }
          ],
          "heatmapgl": [
           {
            "colorbar": {
             "outlinewidth": 0,
             "ticks": ""
            },
            "colorscale": [
             [
              0,
              "#0d0887"
             ],
             [
              0.1111111111111111,
              "#46039f"
             ],
             [
              0.2222222222222222,
              "#7201a8"
             ],
             [
              0.3333333333333333,
              "#9c179e"
             ],
             [
              0.4444444444444444,
              "#bd3786"
             ],
             [
              0.5555555555555556,
              "#d8576b"
             ],
             [
              0.6666666666666666,
              "#ed7953"
             ],
             [
              0.7777777777777778,
              "#fb9f3a"
             ],
             [
              0.8888888888888888,
              "#fdca26"
             ],
             [
              1,
              "#f0f921"
             ]
            ],
            "type": "heatmapgl"
           }
          ],
          "histogram": [
           {
            "marker": {
             "pattern": {
              "fillmode": "overlay",
              "size": 10,
              "solidity": 0.2
             }
            },
            "type": "histogram"
           }
          ],
          "histogram2d": [
           {
            "colorbar": {
             "outlinewidth": 0,
             "ticks": ""
            },
            "colorscale": [
             [
              0,
              "#0d0887"
             ],
             [
              0.1111111111111111,
              "#46039f"
             ],
             [
              0.2222222222222222,
              "#7201a8"
             ],
             [
              0.3333333333333333,
              "#9c179e"
             ],
             [
              0.4444444444444444,
              "#bd3786"
             ],
             [
              0.5555555555555556,
              "#d8576b"
             ],
             [
              0.6666666666666666,
              "#ed7953"
             ],
             [
              0.7777777777777778,
              "#fb9f3a"
             ],
             [
              0.8888888888888888,
              "#fdca26"
             ],
             [
              1,
              "#f0f921"
             ]
            ],
            "type": "histogram2d"
           }
          ],
          "histogram2dcontour": [
           {
            "colorbar": {
             "outlinewidth": 0,
             "ticks": ""
            },
            "colorscale": [
             [
              0,
              "#0d0887"
             ],
             [
              0.1111111111111111,
              "#46039f"
             ],
             [
              0.2222222222222222,
              "#7201a8"
             ],
             [
              0.3333333333333333,
              "#9c179e"
             ],
             [
              0.4444444444444444,
              "#bd3786"
             ],
             [
              0.5555555555555556,
              "#d8576b"
             ],
             [
              0.6666666666666666,
              "#ed7953"
             ],
             [
              0.7777777777777778,
              "#fb9f3a"
             ],
             [
              0.8888888888888888,
              "#fdca26"
             ],
             [
              1,
              "#f0f921"
             ]
            ],
            "type": "histogram2dcontour"
           }
          ],
          "mesh3d": [
           {
            "colorbar": {
             "outlinewidth": 0,
             "ticks": ""
            },
            "type": "mesh3d"
           }
          ],
          "parcoords": [
           {
            "line": {
             "colorbar": {
              "outlinewidth": 0,
              "ticks": ""
             }
            },
            "type": "parcoords"
           }
          ],
          "pie": [
           {
            "automargin": true,
            "type": "pie"
           }
          ],
          "scatter": [
           {
            "fillpattern": {
             "fillmode": "overlay",
             "size": 10,
             "solidity": 0.2
            },
            "type": "scatter"
           }
          ],
          "scatter3d": [
           {
            "line": {
             "colorbar": {
              "outlinewidth": 0,
              "ticks": ""
             }
            },
            "marker": {
             "colorbar": {
              "outlinewidth": 0,
              "ticks": ""
             }
            },
            "type": "scatter3d"
           }
          ],
          "scattercarpet": [
           {
            "marker": {
             "colorbar": {
              "outlinewidth": 0,
              "ticks": ""
             }
            },
            "type": "scattercarpet"
           }
          ],
          "scattergeo": [
           {
            "marker": {
             "colorbar": {
              "outlinewidth": 0,
              "ticks": ""
             }
            },
            "type": "scattergeo"
           }
          ],
          "scattergl": [
           {
            "marker": {
             "colorbar": {
              "outlinewidth": 0,
              "ticks": ""
             }
            },
            "type": "scattergl"
           }
          ],
          "scattermapbox": [
           {
            "marker": {
             "colorbar": {
              "outlinewidth": 0,
              "ticks": ""
             }
            },
            "type": "scattermapbox"
           }
          ],
          "scatterpolar": [
           {
            "marker": {
             "colorbar": {
              "outlinewidth": 0,
              "ticks": ""
             }
            },
            "type": "scatterpolar"
           }
          ],
          "scatterpolargl": [
           {
            "marker": {
             "colorbar": {
              "outlinewidth": 0,
              "ticks": ""
             }
            },
            "type": "scatterpolargl"
           }
          ],
          "scatterternary": [
           {
            "marker": {
             "colorbar": {
              "outlinewidth": 0,
              "ticks": ""
             }
            },
            "type": "scatterternary"
           }
          ],
          "surface": [
           {
            "colorbar": {
             "outlinewidth": 0,
             "ticks": ""
            },
            "colorscale": [
             [
              0,
              "#0d0887"
             ],
             [
              0.1111111111111111,
              "#46039f"
             ],
             [
              0.2222222222222222,
              "#7201a8"
             ],
             [
              0.3333333333333333,
              "#9c179e"
             ],
             [
              0.4444444444444444,
              "#bd3786"
             ],
             [
              0.5555555555555556,
              "#d8576b"
             ],
             [
              0.6666666666666666,
              "#ed7953"
             ],
             [
              0.7777777777777778,
              "#fb9f3a"
             ],
             [
              0.8888888888888888,
              "#fdca26"
             ],
             [
              1,
              "#f0f921"
             ]
            ],
            "type": "surface"
           }
          ],
          "table": [
           {
            "cells": {
             "fill": {
              "color": "#EBF0F8"
             },
             "line": {
              "color": "white"
             }
            },
            "header": {
             "fill": {
              "color": "#C8D4E3"
             },
             "line": {
              "color": "white"
             }
            },
            "type": "table"
           }
          ]
         },
         "layout": {
          "annotationdefaults": {
           "arrowcolor": "#2a3f5f",
           "arrowhead": 0,
           "arrowwidth": 1
          },
          "autotypenumbers": "strict",
          "coloraxis": {
           "colorbar": {
            "outlinewidth": 0,
            "ticks": ""
           }
          },
          "colorscale": {
           "diverging": [
            [
             0,
             "#8e0152"
            ],
            [
             0.1,
             "#c51b7d"
            ],
            [
             0.2,
             "#de77ae"
            ],
            [
             0.3,
             "#f1b6da"
            ],
            [
             0.4,
             "#fde0ef"
            ],
            [
             0.5,
             "#f7f7f7"
            ],
            [
             0.6,
             "#e6f5d0"
            ],
            [
             0.7,
             "#b8e186"
            ],
            [
             0.8,
             "#7fbc41"
            ],
            [
             0.9,
             "#4d9221"
            ],
            [
             1,
             "#276419"
            ]
           ],
           "sequential": [
            [
             0,
             "#0d0887"
            ],
            [
             0.1111111111111111,
             "#46039f"
            ],
            [
             0.2222222222222222,
             "#7201a8"
            ],
            [
             0.3333333333333333,
             "#9c179e"
            ],
            [
             0.4444444444444444,
             "#bd3786"
            ],
            [
             0.5555555555555556,
             "#d8576b"
            ],
            [
             0.6666666666666666,
             "#ed7953"
            ],
            [
             0.7777777777777778,
             "#fb9f3a"
            ],
            [
             0.8888888888888888,
             "#fdca26"
            ],
            [
             1,
             "#f0f921"
            ]
           ],
           "sequentialminus": [
            [
             0,
             "#0d0887"
            ],
            [
             0.1111111111111111,
             "#46039f"
            ],
            [
             0.2222222222222222,
             "#7201a8"
            ],
            [
             0.3333333333333333,
             "#9c179e"
            ],
            [
             0.4444444444444444,
             "#bd3786"
            ],
            [
             0.5555555555555556,
             "#d8576b"
            ],
            [
             0.6666666666666666,
             "#ed7953"
            ],
            [
             0.7777777777777778,
             "#fb9f3a"
            ],
            [
             0.8888888888888888,
             "#fdca26"
            ],
            [
             1,
             "#f0f921"
            ]
           ]
          },
          "colorway": [
           "#636efa",
           "#EF553B",
           "#00cc96",
           "#ab63fa",
           "#FFA15A",
           "#19d3f3",
           "#FF6692",
           "#B6E880",
           "#FF97FF",
           "#FECB52"
          ],
          "font": {
           "color": "#2a3f5f"
          },
          "geo": {
           "bgcolor": "white",
           "lakecolor": "white",
           "landcolor": "#E5ECF6",
           "showlakes": true,
           "showland": true,
           "subunitcolor": "white"
          },
          "hoverlabel": {
           "align": "left"
          },
          "hovermode": "closest",
          "mapbox": {
           "style": "light"
          },
          "paper_bgcolor": "white",
          "plot_bgcolor": "#E5ECF6",
          "polar": {
           "angularaxis": {
            "gridcolor": "white",
            "linecolor": "white",
            "ticks": ""
           },
           "bgcolor": "#E5ECF6",
           "radialaxis": {
            "gridcolor": "white",
            "linecolor": "white",
            "ticks": ""
           }
          },
          "scene": {
           "xaxis": {
            "backgroundcolor": "#E5ECF6",
            "gridcolor": "white",
            "gridwidth": 2,
            "linecolor": "white",
            "showbackground": true,
            "ticks": "",
            "zerolinecolor": "white"
           },
           "yaxis": {
            "backgroundcolor": "#E5ECF6",
            "gridcolor": "white",
            "gridwidth": 2,
            "linecolor": "white",
            "showbackground": true,
            "ticks": "",
            "zerolinecolor": "white"
           },
           "zaxis": {
            "backgroundcolor": "#E5ECF6",
            "gridcolor": "white",
            "gridwidth": 2,
            "linecolor": "white",
            "showbackground": true,
            "ticks": "",
            "zerolinecolor": "white"
           }
          },
          "shapedefaults": {
           "line": {
            "color": "#2a3f5f"
           }
          },
          "ternary": {
           "aaxis": {
            "gridcolor": "white",
            "linecolor": "white",
            "ticks": ""
           },
           "baxis": {
            "gridcolor": "white",
            "linecolor": "white",
            "ticks": ""
           },
           "bgcolor": "#E5ECF6",
           "caxis": {
            "gridcolor": "white",
            "linecolor": "white",
            "ticks": ""
           }
          },
          "title": {
           "x": 0.05
          },
          "xaxis": {
           "automargin": true,
           "gridcolor": "white",
           "linecolor": "white",
           "ticks": "",
           "title": {
            "standoff": 15
           },
           "zerolinecolor": "white",
           "zerolinewidth": 2
          },
          "yaxis": {
           "automargin": true,
           "gridcolor": "white",
           "linecolor": "white",
           "ticks": "",
           "title": {
            "standoff": 15
           },
           "zerolinecolor": "white",
           "zerolinewidth": 2
          }
         }
        }
       }
      },
      "text/html": [
       "<div>                            <div id=\"64ed6d49-b4b1-4da1-9b44-b0bc4712f41b\" class=\"plotly-graph-div\" style=\"height:525px; width:100%;\"></div>            <script type=\"text/javascript\">                require([\"plotly\"], function(Plotly) {                    window.PLOTLYENV=window.PLOTLYENV || {};                                    if (document.getElementById(\"64ed6d49-b4b1-4da1-9b44-b0bc4712f41b\")) {                    Plotly.newPlot(                        \"64ed6d49-b4b1-4da1-9b44-b0bc4712f41b\",                        [{\"name\":\"A1\",\"textinfo\":\"value+percent previous\",\"x\":[2450,1542,1266,1200],\"y\":[\"MainScreenAppear\",\"OffersScreenAppear\",\"CartScreenAppear\",\"PaymentScreenSuccessful\"],\"type\":\"funnel\"},{\"name\":\"A2\",\"orientation\":\"h\",\"textinfo\":\"value+percent previous\",\"textposition\":\"inside\",\"x\":[2479,1524,1239,1158],\"y\":[\"MainScreenAppear\",\"OffersScreenAppear\",\"CartScreenAppear\",\"PaymentScreenSuccessful\"],\"type\":\"funnel\"},{\"name\":\"B\",\"orientation\":\"h\",\"textinfo\":\"value+percent previous\",\"textposition\":\"inside\",\"x\":[2494,1531,1231,1182],\"y\":[\"MainScreenAppear\",\"OffersScreenAppear\",\"CartScreenAppear\",\"PaymentScreenSuccessful\"],\"type\":\"funnel\"}],                        {\"template\":{\"data\":{\"histogram2dcontour\":[{\"type\":\"histogram2dcontour\",\"colorbar\":{\"outlinewidth\":0,\"ticks\":\"\"},\"colorscale\":[[0.0,\"#0d0887\"],[0.1111111111111111,\"#46039f\"],[0.2222222222222222,\"#7201a8\"],[0.3333333333333333,\"#9c179e\"],[0.4444444444444444,\"#bd3786\"],[0.5555555555555556,\"#d8576b\"],[0.6666666666666666,\"#ed7953\"],[0.7777777777777778,\"#fb9f3a\"],[0.8888888888888888,\"#fdca26\"],[1.0,\"#f0f921\"]]}],\"choropleth\":[{\"type\":\"choropleth\",\"colorbar\":{\"outlinewidth\":0,\"ticks\":\"\"}}],\"histogram2d\":[{\"type\":\"histogram2d\",\"colorbar\":{\"outlinewidth\":0,\"ticks\":\"\"},\"colorscale\":[[0.0,\"#0d0887\"],[0.1111111111111111,\"#46039f\"],[0.2222222222222222,\"#7201a8\"],[0.3333333333333333,\"#9c179e\"],[0.4444444444444444,\"#bd3786\"],[0.5555555555555556,\"#d8576b\"],[0.6666666666666666,\"#ed7953\"],[0.7777777777777778,\"#fb9f3a\"],[0.8888888888888888,\"#fdca26\"],[1.0,\"#f0f921\"]]}],\"heatmap\":[{\"type\":\"heatmap\",\"colorbar\":{\"outlinewidth\":0,\"ticks\":\"\"},\"colorscale\":[[0.0,\"#0d0887\"],[0.1111111111111111,\"#46039f\"],[0.2222222222222222,\"#7201a8\"],[0.3333333333333333,\"#9c179e\"],[0.4444444444444444,\"#bd3786\"],[0.5555555555555556,\"#d8576b\"],[0.6666666666666666,\"#ed7953\"],[0.7777777777777778,\"#fb9f3a\"],[0.8888888888888888,\"#fdca26\"],[1.0,\"#f0f921\"]]}],\"heatmapgl\":[{\"type\":\"heatmapgl\",\"colorbar\":{\"outlinewidth\":0,\"ticks\":\"\"},\"colorscale\":[[0.0,\"#0d0887\"],[0.1111111111111111,\"#46039f\"],[0.2222222222222222,\"#7201a8\"],[0.3333333333333333,\"#9c179e\"],[0.4444444444444444,\"#bd3786\"],[0.5555555555555556,\"#d8576b\"],[0.6666666666666666,\"#ed7953\"],[0.7777777777777778,\"#fb9f3a\"],[0.8888888888888888,\"#fdca26\"],[1.0,\"#f0f921\"]]}],\"contourcarpet\":[{\"type\":\"contourcarpet\",\"colorbar\":{\"outlinewidth\":0,\"ticks\":\"\"}}],\"contour\":[{\"type\":\"contour\",\"colorbar\":{\"outlinewidth\":0,\"ticks\":\"\"},\"colorscale\":[[0.0,\"#0d0887\"],[0.1111111111111111,\"#46039f\"],[0.2222222222222222,\"#7201a8\"],[0.3333333333333333,\"#9c179e\"],[0.4444444444444444,\"#bd3786\"],[0.5555555555555556,\"#d8576b\"],[0.6666666666666666,\"#ed7953\"],[0.7777777777777778,\"#fb9f3a\"],[0.8888888888888888,\"#fdca26\"],[1.0,\"#f0f921\"]]}],\"surface\":[{\"type\":\"surface\",\"colorbar\":{\"outlinewidth\":0,\"ticks\":\"\"},\"colorscale\":[[0.0,\"#0d0887\"],[0.1111111111111111,\"#46039f\"],[0.2222222222222222,\"#7201a8\"],[0.3333333333333333,\"#9c179e\"],[0.4444444444444444,\"#bd3786\"],[0.5555555555555556,\"#d8576b\"],[0.6666666666666666,\"#ed7953\"],[0.7777777777777778,\"#fb9f3a\"],[0.8888888888888888,\"#fdca26\"],[1.0,\"#f0f921\"]]}],\"mesh3d\":[{\"type\":\"mesh3d\",\"colorbar\":{\"outlinewidth\":0,\"ticks\":\"\"}}],\"scatter\":[{\"fillpattern\":{\"fillmode\":\"overlay\",\"size\":10,\"solidity\":0.2},\"type\":\"scatter\"}],\"parcoords\":[{\"type\":\"parcoords\",\"line\":{\"colorbar\":{\"outlinewidth\":0,\"ticks\":\"\"}}}],\"scatterpolargl\":[{\"type\":\"scatterpolargl\",\"marker\":{\"colorbar\":{\"outlinewidth\":0,\"ticks\":\"\"}}}],\"bar\":[{\"error_x\":{\"color\":\"#2a3f5f\"},\"error_y\":{\"color\":\"#2a3f5f\"},\"marker\":{\"line\":{\"color\":\"#E5ECF6\",\"width\":0.5},\"pattern\":{\"fillmode\":\"overlay\",\"size\":10,\"solidity\":0.2}},\"type\":\"bar\"}],\"scattergeo\":[{\"type\":\"scattergeo\",\"marker\":{\"colorbar\":{\"outlinewidth\":0,\"ticks\":\"\"}}}],\"scatterpolar\":[{\"type\":\"scatterpolar\",\"marker\":{\"colorbar\":{\"outlinewidth\":0,\"ticks\":\"\"}}}],\"histogram\":[{\"marker\":{\"pattern\":{\"fillmode\":\"overlay\",\"size\":10,\"solidity\":0.2}},\"type\":\"histogram\"}],\"scattergl\":[{\"type\":\"scattergl\",\"marker\":{\"colorbar\":{\"outlinewidth\":0,\"ticks\":\"\"}}}],\"scatter3d\":[{\"type\":\"scatter3d\",\"line\":{\"colorbar\":{\"outlinewidth\":0,\"ticks\":\"\"}},\"marker\":{\"colorbar\":{\"outlinewidth\":0,\"ticks\":\"\"}}}],\"scattermapbox\":[{\"type\":\"scattermapbox\",\"marker\":{\"colorbar\":{\"outlinewidth\":0,\"ticks\":\"\"}}}],\"scatterternary\":[{\"type\":\"scatterternary\",\"marker\":{\"colorbar\":{\"outlinewidth\":0,\"ticks\":\"\"}}}],\"scattercarpet\":[{\"type\":\"scattercarpet\",\"marker\":{\"colorbar\":{\"outlinewidth\":0,\"ticks\":\"\"}}}],\"carpet\":[{\"aaxis\":{\"endlinecolor\":\"#2a3f5f\",\"gridcolor\":\"white\",\"linecolor\":\"white\",\"minorgridcolor\":\"white\",\"startlinecolor\":\"#2a3f5f\"},\"baxis\":{\"endlinecolor\":\"#2a3f5f\",\"gridcolor\":\"white\",\"linecolor\":\"white\",\"minorgridcolor\":\"white\",\"startlinecolor\":\"#2a3f5f\"},\"type\":\"carpet\"}],\"table\":[{\"cells\":{\"fill\":{\"color\":\"#EBF0F8\"},\"line\":{\"color\":\"white\"}},\"header\":{\"fill\":{\"color\":\"#C8D4E3\"},\"line\":{\"color\":\"white\"}},\"type\":\"table\"}],\"barpolar\":[{\"marker\":{\"line\":{\"color\":\"#E5ECF6\",\"width\":0.5},\"pattern\":{\"fillmode\":\"overlay\",\"size\":10,\"solidity\":0.2}},\"type\":\"barpolar\"}],\"pie\":[{\"automargin\":true,\"type\":\"pie\"}]},\"layout\":{\"autotypenumbers\":\"strict\",\"colorway\":[\"#636efa\",\"#EF553B\",\"#00cc96\",\"#ab63fa\",\"#FFA15A\",\"#19d3f3\",\"#FF6692\",\"#B6E880\",\"#FF97FF\",\"#FECB52\"],\"font\":{\"color\":\"#2a3f5f\"},\"hovermode\":\"closest\",\"hoverlabel\":{\"align\":\"left\"},\"paper_bgcolor\":\"white\",\"plot_bgcolor\":\"#E5ECF6\",\"polar\":{\"bgcolor\":\"#E5ECF6\",\"angularaxis\":{\"gridcolor\":\"white\",\"linecolor\":\"white\",\"ticks\":\"\"},\"radialaxis\":{\"gridcolor\":\"white\",\"linecolor\":\"white\",\"ticks\":\"\"}},\"ternary\":{\"bgcolor\":\"#E5ECF6\",\"aaxis\":{\"gridcolor\":\"white\",\"linecolor\":\"white\",\"ticks\":\"\"},\"baxis\":{\"gridcolor\":\"white\",\"linecolor\":\"white\",\"ticks\":\"\"},\"caxis\":{\"gridcolor\":\"white\",\"linecolor\":\"white\",\"ticks\":\"\"}},\"coloraxis\":{\"colorbar\":{\"outlinewidth\":0,\"ticks\":\"\"}},\"colorscale\":{\"sequential\":[[0.0,\"#0d0887\"],[0.1111111111111111,\"#46039f\"],[0.2222222222222222,\"#7201a8\"],[0.3333333333333333,\"#9c179e\"],[0.4444444444444444,\"#bd3786\"],[0.5555555555555556,\"#d8576b\"],[0.6666666666666666,\"#ed7953\"],[0.7777777777777778,\"#fb9f3a\"],[0.8888888888888888,\"#fdca26\"],[1.0,\"#f0f921\"]],\"sequentialminus\":[[0.0,\"#0d0887\"],[0.1111111111111111,\"#46039f\"],[0.2222222222222222,\"#7201a8\"],[0.3333333333333333,\"#9c179e\"],[0.4444444444444444,\"#bd3786\"],[0.5555555555555556,\"#d8576b\"],[0.6666666666666666,\"#ed7953\"],[0.7777777777777778,\"#fb9f3a\"],[0.8888888888888888,\"#fdca26\"],[1.0,\"#f0f921\"]],\"diverging\":[[0,\"#8e0152\"],[0.1,\"#c51b7d\"],[0.2,\"#de77ae\"],[0.3,\"#f1b6da\"],[0.4,\"#fde0ef\"],[0.5,\"#f7f7f7\"],[0.6,\"#e6f5d0\"],[0.7,\"#b8e186\"],[0.8,\"#7fbc41\"],[0.9,\"#4d9221\"],[1,\"#276419\"]]},\"xaxis\":{\"gridcolor\":\"white\",\"linecolor\":\"white\",\"ticks\":\"\",\"title\":{\"standoff\":15},\"zerolinecolor\":\"white\",\"automargin\":true,\"zerolinewidth\":2},\"yaxis\":{\"gridcolor\":\"white\",\"linecolor\":\"white\",\"ticks\":\"\",\"title\":{\"standoff\":15},\"zerolinecolor\":\"white\",\"automargin\":true,\"zerolinewidth\":2},\"scene\":{\"xaxis\":{\"backgroundcolor\":\"#E5ECF6\",\"gridcolor\":\"white\",\"linecolor\":\"white\",\"showbackground\":true,\"ticks\":\"\",\"zerolinecolor\":\"white\",\"gridwidth\":2},\"yaxis\":{\"backgroundcolor\":\"#E5ECF6\",\"gridcolor\":\"white\",\"linecolor\":\"white\",\"showbackground\":true,\"ticks\":\"\",\"zerolinecolor\":\"white\",\"gridwidth\":2},\"zaxis\":{\"backgroundcolor\":\"#E5ECF6\",\"gridcolor\":\"white\",\"linecolor\":\"white\",\"showbackground\":true,\"ticks\":\"\",\"zerolinecolor\":\"white\",\"gridwidth\":2}},\"shapedefaults\":{\"line\":{\"color\":\"#2a3f5f\"}},\"annotationdefaults\":{\"arrowcolor\":\"#2a3f5f\",\"arrowhead\":0,\"arrowwidth\":1},\"geo\":{\"bgcolor\":\"white\",\"landcolor\":\"#E5ECF6\",\"subunitcolor\":\"white\",\"showland\":true,\"showlakes\":true,\"lakecolor\":\"white\"},\"title\":{\"x\":0.05},\"mapbox\":{\"style\":\"light\"}}}},                        {\"responsive\": true}                    ).then(function(){\n",
       "                            \n",
       "var gd = document.getElementById('64ed6d49-b4b1-4da1-9b44-b0bc4712f41b');\n",
       "var x = new MutationObserver(function (mutations, observer) {{\n",
       "        var display = window.getComputedStyle(gd).display;\n",
       "        if (!display || display === 'none') {{\n",
       "            console.log([gd, 'removed!']);\n",
       "            Plotly.purge(gd);\n",
       "            observer.disconnect();\n",
       "        }}\n",
       "}});\n",
       "\n",
       "// Listen for the removal of the full notebook cells\n",
       "var notebookContainer = gd.closest('#notebook-container');\n",
       "if (notebookContainer) {{\n",
       "    x.observe(notebookContainer, {childList: true});\n",
       "}}\n",
       "\n",
       "// Listen for the clearing of the current output cell\n",
       "var outputEl = gd.closest('.output');\n",
       "if (outputEl) {{\n",
       "    x.observe(outputEl, {childList: true});\n",
       "}}\n",
       "\n",
       "                        })                };                });            </script>        </div>"
      ]
     },
     "metadata": {},
     "output_type": "display_data"
    }
   ],
   "source": [
    "# Построил воронку числа и процента прохождения к последующему этапу от предыдцщего в разбивке по группам\n",
    "fig = go.Figure()\n",
    "\n",
    "fig.add_trace(go.Funnel(\n",
    "    name = 'A1',\n",
    "    y = data_pivot['event_name'],\n",
    "    x = data_pivot['A1'],\n",
    "    textinfo = \"value+percent previous\"))\n",
    "\n",
    "fig.add_trace(go.Funnel(\n",
    "    name = 'A2',\n",
    "    orientation = \"h\",\n",
    "    y = data_pivot['event_name'],\n",
    "    x = data_pivot['A2'],\n",
    "    textposition = \"inside\",\n",
    "    textinfo = \"value+percent previous\"))\n",
    "\n",
    "fig.add_trace(go.Funnel(\n",
    "    name = 'B',\n",
    "    orientation = \"h\",\n",
    "    y =  data_pivot['event_name'],\n",
    "    x = data_pivot['B'],\n",
    "    textposition = \"inside\",\n",
    "    textinfo = \"value+percent previous\"))\n",
    "\n",
    "fig.show()"
   ]
  },
  {
   "cell_type": "markdown",
   "id": "6f5d15da",
   "metadata": {},
   "source": [
    "#### Данная воронка отражает процент прохождения пользователей от предыдущего к последующему этапу в разбивке по группам. Наименьший процент успешного прохождения во всех группах имеет этап OffersScreenAppear. Именно здесь уходит большое количество пользователей в группе А1-37%, А2-39%, В-39%."
   ]
  },
  {
   "cell_type": "code",
   "execution_count": 55,
   "id": "880b196b",
   "metadata": {},
   "outputs": [],
   "source": [
    "def z_test(actA,actB,groupA,groupB, eventname,alpha):\n",
    "    \n",
    "    p1 = actA/groupA\n",
    "    p2 = actB/groupB\n",
    "\n",
    "    p_combined = (actA + actB) / (groupA + groupB)\n",
    "    # считаем статистику в ст.отклонениях стандартного нормального распределения\n",
    "    difference = p1 - p2\n",
    "    z_value = difference / mth.sqrt(p_combined * (1 - p_combined) * (1/groupA + 1/groupB))\n",
    "    # задаем стандартное нормальное распределение (среднее 0, ст.отклонение 1)\n",
    "    distr = st.norm(0, 1)\n",
    "    p_value =(1 - distr.cdf(abs(z_value))) * 2\n",
    "\n",
    "    print(f'{eventname} p-значение: ', p_value)\n",
    "    \n",
    "    bonferroni_alpha =   alpha / 16\n",
    "\n",
    "    if p_value < bonferroni_alpha:\n",
    "        print('Отвергаем нулевую гипотезу: между долями есть значимая разница')\n",
    "    else:\n",
    "        print('Не получилось отвергнуть нулевую гипотезу, нет оснований считать доли разными')\n",
    "        print('**************')"
   ]
  },
  {
   "cell_type": "markdown",
   "id": "88130ec3",
   "metadata": {},
   "source": [
    "#### Провожу А/А- тест. Проверка гипотезы о равенстве долей пользователей перешедших на этап взаимодействия с сайтом от общего числа уникальных пользователей группы в группах А1 и А2"
   ]
  },
  {
   "cell_type": "markdown",
   "id": "7e7acf82",
   "metadata": {},
   "source": [
    "#### Формулирую гипотезы\n",
    "* H0 Доли уникальных посетителей, побывавших на этапе воронки, одинаковы.\n",
    "* H1 Между долями уникальных посетителей, побывавших на этапе воронки, есть значимая разница."
   ]
  },
  {
   "cell_type": "code",
   "execution_count": 56,
   "id": "829287b2",
   "metadata": {},
   "outputs": [
    {
     "name": "stdout",
     "output_type": "stream",
     "text": [
      "MainScreenAppear p-значение:  0.6702082653142836\n",
      "Не получилось отвергнуть нулевую гипотезу, нет оснований считать доли разными\n",
      "**************\n",
      "OffersScreenAppear p-значение:  0.2667347868697105\n",
      "Не получилось отвергнуть нулевую гипотезу, нет оснований считать доли разными\n",
      "**************\n",
      "CartScreenAppear p-значение:  0.21811883651016095\n",
      "Не получилось отвергнуть нулевую гипотезу, нет оснований считать доли разными\n",
      "**************\n",
      "PaymentScreenSuccessful p-значение:  0.10288527362638322\n",
      "Не получилось отвергнуть нулевую гипотезу, нет оснований считать доли разными\n",
      "**************\n"
     ]
    }
   ],
   "source": [
    "AAtest = [z_test(data_pivot['A1'][i],data_pivot['A2'][i],users_grouped['userId'][0],users_grouped['userId'][1],data_pivot['event_name'][i],alpha = .05)\n",
    "        for i in range(len(data_pivot['A1']))]"
   ]
  },
  {
   "cell_type": "markdown",
   "id": "18c0b158",
   "metadata": {},
   "source": [
    "#### Провожу А/B- тест. Проверка гипотезы о равенстве долей пользователей перешедших на этап взаимодействия с сайтом от общего числа уникальных пользователей  группы в группах А1 и B"
   ]
  },
  {
   "cell_type": "code",
   "execution_count": 57,
   "id": "d305f85f",
   "metadata": {},
   "outputs": [
    {
     "name": "stdout",
     "output_type": "stream",
     "text": [
      "MainScreenAppear p-значение:  0.396910049618151\n",
      "Не получилось отвергнуть нулевую гипотезу, нет оснований считать доли разными\n",
      "**************\n",
      "OffersScreenAppear p-значение:  0.21442476639710506\n",
      "Не получилось отвергнуть нулевую гипотезу, нет оснований считать доли разными\n",
      "**************\n",
      "CartScreenAppear p-значение:  0.08564271892834707\n",
      "Не получилось отвергнуть нулевую гипотезу, нет оснований считать доли разными\n",
      "**************\n",
      "PaymentScreenSuccessful p-значение:  0.22753674585530037\n",
      "Не получилось отвергнуть нулевую гипотезу, нет оснований считать доли разными\n",
      "**************\n"
     ]
    }
   ],
   "source": [
    "# А/В тест для групп А1 и В\n",
    "A1Btest = [z_test(data_pivot['A1'][i],data_pivot['B'][i],users_grouped['userId'][0],users_grouped['userId'][2],data_pivot['event_name'][i],alpha = .05)\n",
    "        for i in range(len(data_pivot['A1']))]"
   ]
  },
  {
   "cell_type": "markdown",
   "id": "884bd7ca",
   "metadata": {},
   "source": [
    "#### Провожу А/B- тест. Проверка гипотезы о равенстве долей пользователей перешедших на этап взаимодействия с сайтом от общего числа уникальных пользователей  группы в группах А2 и B"
   ]
  },
  {
   "cell_type": "code",
   "execution_count": 58,
   "id": "177dded1",
   "metadata": {},
   "outputs": [
    {
     "name": "stdout",
     "output_type": "stream",
     "text": [
      "MainScreenAppear p-значение:  0.6723167704766229\n",
      "Не получилось отвергнуть нулевую гипотезу, нет оснований считать доли разными\n",
      "**************\n",
      "OffersScreenAppear p-значение:  0.8971376549155397\n",
      "Не получилось отвергнуть нулевую гипотезу, нет оснований считать доли разными\n",
      "**************\n",
      "CartScreenAppear p-значение:  0.6264599792848009\n",
      "Не получилось отвергнуть нулевую гипотезу, нет оснований считать доли разными\n",
      "**************\n",
      "PaymentScreenSuccessful p-значение:  0.6680367850275775\n",
      "Не получилось отвергнуть нулевую гипотезу, нет оснований считать доли разными\n",
      "**************\n"
     ]
    }
   ],
   "source": [
    "# А/В тест для групп А2 и В\n",
    "A2Btest = [z_test(data_pivot['A2'][i],data_pivot['B'][i],users_grouped['userId'][1],users_grouped['userId'][2],data_pivot['event_name'][i],alpha = .05)\n",
    "        for i in range(len(data_pivot['A1']))]"
   ]
  },
  {
   "cell_type": "markdown",
   "id": "a89cb751",
   "metadata": {},
   "source": [
    "#### Провожу А/B- тест. Проверка гипотезы о равенстве долей пользователей перешедших на этап взаимодействия с сайтом от общего числа уникальных пользователей группы в общей контрольной группе А1+А2 и эксперементальной группе В"
   ]
  },
  {
   "cell_type": "code",
   "execution_count": 59,
   "id": "e47d43ef",
   "metadata": {},
   "outputs": [
    {
     "name": "stdout",
     "output_type": "stream",
     "text": [
      "MainScreenAppear p-значение:  0.4599468774918498\n",
      "Не получилось отвергнуть нулевую гипотезу, нет оснований считать доли разными\n",
      "**************\n",
      "OffersScreenAppear p-значение:  0.4303431159342346\n",
      "Не получилось отвергнуть нулевую гипотезу, нет оснований считать доли разными\n",
      "**************\n",
      "CartScreenAppear p-значение:  0.20361356481451098\n",
      "Не получилось отвергнуть нулевую гипотезу, нет оснований считать доли разными\n",
      "**************\n",
      "PaymentScreenSuccessful p-значение:  0.6559128929243401\n",
      "Не получилось отвергнуть нулевую гипотезу, нет оснований считать доли разными\n",
      "**************\n"
     ]
    }
   ],
   "source": [
    "# А/В тест для групп A1 + А2 и В\n",
    "A1A2Btest = [z_test(data_pivot['A1+A2'][i],data_pivot['B'][i],users_grouped['userId'][3],users_grouped['userId'][2],data_pivot['event_name'][i],alpha = .05)\n",
    "        for i in range(len(data_pivot['A1']))]"
   ]
  },
  {
   "cell_type": "markdown",
   "id": "996700d8",
   "metadata": {},
   "source": [
    "#### При принятии уровня статистической значимости 0.05 в 5 % случаев мы можем получить ошибку 1 рода- выявление значимых различий в двух генеральных совокупностях при отсутствии таковых. Для того, чтлбы снизить риск ошибки применена поправка Бонферрони: уровень статистической значимости разделен на количество проведенных проверок гипотез. Всего проверено  16 гипотез"
   ]
  },
  {
   "cell_type": "markdown",
   "id": "fd502fca",
   "metadata": {},
   "source": [
    "### Вывод по итогу изучения результатов эксперимента.\n",
    "* Количество уникальных пользователей в группах составило: A1-2483, A2-2516, B-2535, в объединенной контрольной группе(A1+A2)-4999 пользователей.\n",
    "* Проведен А/А тест.  Проверка гипотезы о равенстве долей пользователей перешедших на этап взаимодействия с сайтом от общего числа пользователей в группах А1 и А2. При проведении А/А теста был задан уровень статистической значимости alpha = .05. По результатам проверки pначимых различий в долях групп не выявлно.\n",
    "* Подсчитано кроличество уникальных пользователей в разбивке по группам, совершивших каждое событие, подсчитан процент прохождения пользователями групп к последующим этапам от общего числа пользователей групп. подсчитан процент прохождения пользователями групп к последующим этапам от числа пользоватей групп, прошедших предыдущий этап.\n",
    "* Проведен А/В тест. Проверка гипотезы о равенстве долей успешно перешедших на этап использования сайта от общего числа уникальных пользователей группы. Исследованы группы А1/В- значимых различий в долях групп не выявлено А2/В- значимых различий в долях групп не выявлено А1+А2/ В- значимых различий в долях групп не выявлено. При проведении А/В теста был задан уровень статистической значимости alpha = .05. В связи с тем, что проводилось множественное сравнение долей генеральных совокупностей с целью снижения появления ошибкии 1 рода применена поправка Бонферрони. По результатам 12 проверок значимых различий в долях групп не выявлно. А/В тест можно считать завершенным, положительным. Изменение шрифта не повлияло на поведение пользователей."
   ]
  },
  {
   "cell_type": "markdown",
   "id": "c5f8f094",
   "metadata": {},
   "source": [
    "## Общий вывод"
   ]
  },
  {
   "cell_type": "markdown",
   "id": "e462ed9e",
   "metadata": {},
   "source": [
    "### По итогу подготовки данных:\n",
    "* Датафрейм data содержит 4 колонки: EventName — название события; DeviceIDHash — уникальный идентификатор пользователя; EventTimestamp — время события ExpId — номер эксперимента: 246 и 247 — контрольные группы, а 248 — экспериментальная.\n",
    "* Выполнено переименование столбцов датафрейма.\n",
    "* Выполнена проверка на пропуски. Пропусков не вывлено.\n",
    "* Выполнена проверка на дубликаты. Выявлено 413 строк-дубликатов, что составляет 0,169% от общего числа строк. Так как процент дубликатов мал, их удаление не повлияет на дальнейший анализ. Решено их удалить.\n",
    "* Выполнена замена числовых значений групп на A1- контрольная группа, А2 - контрольная группа, В - эксперементальная группа\n",
    "* Выполнено преобразование столбеца date_time к формату datetime.\n",
    "* Добавлен столбец date, который будет включать только дату события.\n",
    "* Выполнено преобразование столбеца date к формату datetime.\n",
    "### По итогу изучения и проверки данных:\n",
    "* После исследования выявлено Дата начала исследования: 2019-07-25 Дата окончания исследования: 2019-08-07 Всего дней исследования: 13\n",
    "* Наиболее полные данные начали поступать после 21:00 2019-07-31. Дальнейшее исследование решено проводить на данных после 2019-07-31 21:00\n",
    "* Количество записей событий до отчистки: 243713. Количество удаленных событий - 1989. Количество записей событий после отчистки: 241724. Процент потери составил: 0.82%\n",
    "* Всего уникальных пользователей в логе до отчистки: 7551. Количество потерянных пользователей: 13. Всего уникальных пользователей в логе после отчистки: 7538. Процент потери составил: 0.17%\n",
    "* Определено, что в полученном после среза  датафрейме во всех трех исследуемых группах осталось соизмеримое количество событий и пользователей. \n",
    "### По итогу изучения воронки событий:\n",
    "* В логах мы имеем 5 типов событий MainScreenAppear(Появление главного экрана)-117889, OffersScreenAppear(Появление экрана предложений)-46531, CartScreenAppear(Появление экрана корзины)-42343, PaymentScreenSuccessful(Появление сообщения об успешной оплате)-33951, Tutorial(Обучение)-1010. Tutorial пропускают многие пользователи знакомые с интерфейсом. Обучение может игнорироваться большим количеством пользователей сайта. Принял решение исключить его из дальшейшей визуальзации.\n",
    "* Появление главного экрана происходит у 98,53% пользователей от общего числа пользователей. Переходят на станицу корзины 49,59% от числа открывших приложение пользователей.Экран успешной оплаты появляется у 46,99% пользователей от общего числа пользователей. Большой проццент пользователей теряется на этапе перехода к предолжениям. Он составляет 38,98% от общего числа пользователей.\n",
    "* Процент пользователей, перешедших с главного экрана на экран предложений составляет 61,93%. Процент перешедших к корзине, от просмотревших предолжения пользвателей составляет 81,27%. К успешной оплате переходит 94,75 % от просмотревших корзину. На этапе OffersScreenAppear уходит большое количество пользователей - 38,07%. На дальнейших этапах сильных просадок не выявлено.\n",
    "* От первого события до оплаты доходит 45,52% пользователей. У 1,47% пользователей не произошло регистрации первого события.\n",
    "### По итогу изучения результатов эксперимента:\n",
    "* Количество уникальных пользователей в группах составило: A1-2483, A2-2516, B-2535, в объединенной контрольной группе(A1+A2)-4999 пользователей.\n",
    "* Проведен А/А тест. Проверка гипотезы о равенстве долей успешно оплативших товар пользователей от пользователей, перешедших на страницу корзины в группах А1 и А2 равны. H0 Доля успешно оплативших товар пользователей от пользователей, перешедших на страницу корзины в группе A1 равна соответствующей доле пользователей в группе A2. H1 Доля успешно оплативших товар пользователей от пользователей, перешедших на страницу корзины в группе A1 не равна соответствующей доле пользователей в группе A2.При проведении А/А теста был задан уровень статистической значимости alpha = .01. По результатам проверки H0 отвергнуть не удолось. Значимых различий в долях групп не выявлно.\n",
    "* Подсчитано кроличество уникальных пользователей в разбивке по группам, совершивших каждое событие, подсчитан процент прохождения пользователями групп к последующим этапам от общего числа пользователей групп. подсчитан процент прохождени я пользователями групп к последующим этапам от числа пользоватей групп, прошедших предыдущий этап.\n",
    "* Проведен А/В тест. Проверка гипотезы о равенстве долей успешно перешедших на последующий этап от пользователей, предущего этапа. Исследованы группы А1/В- значимых различий в долях групп не выявлено А2/В- значимых различий в долях групп не выявлено А1+А2/ В- значимых различий в долях групп не выявлено. При проведении А/В теста был задан уровень статистической значимости alpha = .05. В связи с тем, что проводилось множественное сравнение долей генеральных совокупностей с целью снижения появления ошибкии 1 рода применена поправка Бонферрони. По результатам 12 проверок значимых различий в долях групп не выявлно. \n",
    "### А/В тест можно считать завершенным, положительным. Изменение шрифта не повлияло на поведение пользователей."
   ]
  }
 ],
 "metadata": {
  "ExecuteTimeLog": [
   {
    "duration": 1483,
    "start_time": "2023-03-06T11:25:32.045Z"
   },
   {
    "duration": 1176,
    "start_time": "2023-03-06T11:25:33.531Z"
   },
   {
    "duration": 12,
    "start_time": "2023-03-06T11:25:34.709Z"
   },
   {
    "duration": 32,
    "start_time": "2023-03-06T11:25:34.723Z"
   },
   {
    "duration": 3,
    "start_time": "2023-03-06T11:25:34.758Z"
   },
   {
    "duration": 87,
    "start_time": "2023-03-06T11:25:34.763Z"
   },
   {
    "duration": 34,
    "start_time": "2023-03-06T11:25:34.853Z"
   },
   {
    "duration": 95,
    "start_time": "2023-03-06T11:25:34.888Z"
   },
   {
    "duration": 4,
    "start_time": "2023-03-06T11:25:34.985Z"
   },
   {
    "duration": 23,
    "start_time": "2023-03-06T11:25:34.992Z"
   },
   {
    "duration": 145,
    "start_time": "2023-03-06T11:25:35.017Z"
   },
   {
    "duration": 6,
    "start_time": "2023-03-06T11:25:35.165Z"
   },
   {
    "duration": 8,
    "start_time": "2023-03-06T11:25:35.173Z"
   },
   {
    "duration": 95,
    "start_time": "2023-03-06T11:25:35.186Z"
   },
   {
    "duration": 12,
    "start_time": "2023-03-06T11:25:35.284Z"
   },
   {
    "duration": 79,
    "start_time": "2023-03-06T11:25:35.299Z"
   },
   {
    "duration": 33,
    "start_time": "2023-03-06T11:25:35.381Z"
   },
   {
    "duration": 75,
    "start_time": "2023-03-06T11:25:35.416Z"
   },
   {
    "duration": 33,
    "start_time": "2023-03-06T11:25:35.493Z"
   },
   {
    "duration": 47,
    "start_time": "2023-03-06T11:25:35.528Z"
   },
   {
    "duration": 9,
    "start_time": "2023-03-06T11:25:35.576Z"
   },
   {
    "duration": 32,
    "start_time": "2023-03-06T11:25:35.587Z"
   },
   {
    "duration": 335,
    "start_time": "2023-03-06T11:25:35.621Z"
   },
   {
    "duration": 291,
    "start_time": "2023-03-06T11:25:35.957Z"
   },
   {
    "duration": 2911,
    "start_time": "2023-03-06T11:25:36.250Z"
   },
   {
    "duration": 68,
    "start_time": "2023-03-06T11:25:39.163Z"
   },
   {
    "duration": 15,
    "start_time": "2023-03-06T11:25:39.233Z"
   },
   {
    "duration": 6,
    "start_time": "2023-03-06T11:25:39.249Z"
   },
   {
    "duration": 18,
    "start_time": "2023-03-06T11:25:39.256Z"
   },
   {
    "duration": 47,
    "start_time": "2023-03-06T11:25:39.276Z"
   },
   {
    "duration": 28,
    "start_time": "2023-03-06T11:25:39.324Z"
   },
   {
    "duration": 19,
    "start_time": "2023-03-06T11:25:39.354Z"
   },
   {
    "duration": 45,
    "start_time": "2023-03-06T11:25:39.375Z"
   },
   {
    "duration": 25,
    "start_time": "2023-03-06T11:25:39.422Z"
   },
   {
    "duration": 105,
    "start_time": "2023-03-06T11:25:39.449Z"
   },
   {
    "duration": 697,
    "start_time": "2023-03-06T11:25:39.556Z"
   },
   {
    "duration": 64,
    "start_time": "2023-03-06T11:25:40.255Z"
   },
   {
    "duration": 46,
    "start_time": "2023-03-06T11:25:40.321Z"
   },
   {
    "duration": 102,
    "start_time": "2023-03-06T11:25:40.369Z"
   },
   {
    "duration": 121,
    "start_time": "2023-03-06T11:25:40.473Z"
   },
   {
    "duration": 56,
    "start_time": "2023-03-06T11:25:40.599Z"
   },
   {
    "duration": 10,
    "start_time": "2023-03-06T11:25:40.657Z"
   },
   {
    "duration": 25,
    "start_time": "2023-03-06T11:25:40.668Z"
   },
   {
    "duration": 13,
    "start_time": "2023-03-06T11:25:40.713Z"
   },
   {
    "duration": 5,
    "start_time": "2023-03-06T11:25:40.728Z"
   },
   {
    "duration": 13,
    "start_time": "2023-03-06T11:25:40.735Z"
   },
   {
    "duration": 9,
    "start_time": "2023-03-06T11:25:40.749Z"
   },
   {
    "duration": 11,
    "start_time": "2023-03-06T11:25:40.759Z"
   },
   {
    "duration": 1191,
    "start_time": "2023-03-07T19:59:49.010Z"
   },
   {
    "duration": 506,
    "start_time": "2023-03-07T19:59:50.203Z"
   },
   {
    "duration": 11,
    "start_time": "2023-03-07T19:59:50.711Z"
   },
   {
    "duration": 23,
    "start_time": "2023-03-07T19:59:50.724Z"
   },
   {
    "duration": 3,
    "start_time": "2023-03-07T19:59:50.749Z"
   },
   {
    "duration": 47,
    "start_time": "2023-03-07T19:59:50.753Z"
   },
   {
    "duration": 19,
    "start_time": "2023-03-07T19:59:50.802Z"
   },
   {
    "duration": 85,
    "start_time": "2023-03-07T19:59:50.831Z"
   },
   {
    "duration": 4,
    "start_time": "2023-03-07T19:59:50.918Z"
   },
   {
    "duration": 11,
    "start_time": "2023-03-07T19:59:50.923Z"
   },
   {
    "duration": 95,
    "start_time": "2023-03-07T19:59:50.936Z"
   },
   {
    "duration": 6,
    "start_time": "2023-03-07T19:59:51.033Z"
   },
   {
    "duration": 16,
    "start_time": "2023-03-07T19:59:51.040Z"
   },
   {
    "duration": 75,
    "start_time": "2023-03-07T19:59:51.059Z"
   },
   {
    "duration": 9,
    "start_time": "2023-03-07T19:59:51.136Z"
   },
   {
    "duration": 37,
    "start_time": "2023-03-07T19:59:51.147Z"
   },
   {
    "duration": 29,
    "start_time": "2023-03-07T19:59:51.186Z"
   },
   {
    "duration": 71,
    "start_time": "2023-03-07T19:59:51.231Z"
   },
   {
    "duration": 28,
    "start_time": "2023-03-07T19:59:51.304Z"
   },
   {
    "duration": 52,
    "start_time": "2023-03-07T19:59:51.334Z"
   },
   {
    "duration": 19,
    "start_time": "2023-03-07T19:59:51.388Z"
   },
   {
    "duration": 15,
    "start_time": "2023-03-07T19:59:51.432Z"
   },
   {
    "duration": 14,
    "start_time": "2023-03-07T19:59:51.449Z"
   },
   {
    "duration": 42,
    "start_time": "2023-03-07T19:59:51.465Z"
   },
   {
    "duration": 24,
    "start_time": "2023-03-07T19:59:51.509Z"
   },
   {
    "duration": 20,
    "start_time": "2023-03-07T19:59:51.534Z"
   },
   {
    "duration": 26,
    "start_time": "2023-03-07T19:59:51.556Z"
   },
   {
    "duration": 255,
    "start_time": "2023-03-07T19:59:51.583Z"
   },
   {
    "duration": 7,
    "start_time": "2023-03-07T19:59:51.840Z"
   },
   {
    "duration": 11,
    "start_time": "2023-03-07T19:59:51.849Z"
   },
   {
    "duration": 288,
    "start_time": "2023-03-07T19:59:51.862Z"
   },
   {
    "duration": 263,
    "start_time": "2023-03-07T19:59:52.151Z"
   },
   {
    "duration": 2542,
    "start_time": "2023-03-07T19:59:52.415Z"
   },
   {
    "duration": 56,
    "start_time": "2023-03-07T19:59:54.959Z"
   },
   {
    "duration": 17,
    "start_time": "2023-03-07T19:59:55.016Z"
   },
   {
    "duration": 18,
    "start_time": "2023-03-07T19:59:55.035Z"
   },
   {
    "duration": 5,
    "start_time": "2023-03-07T19:59:55.054Z"
   },
   {
    "duration": 35,
    "start_time": "2023-03-07T19:59:55.061Z"
   },
   {
    "duration": 25,
    "start_time": "2023-03-07T19:59:55.098Z"
   },
   {
    "duration": 44,
    "start_time": "2023-03-07T19:59:55.125Z"
   },
   {
    "duration": 20,
    "start_time": "2023-03-07T19:59:55.173Z"
   },
   {
    "duration": 41,
    "start_time": "2023-03-07T19:59:55.195Z"
   },
   {
    "duration": 73,
    "start_time": "2023-03-07T19:59:55.238Z"
   },
   {
    "duration": 600,
    "start_time": "2023-03-07T19:59:55.313Z"
   },
   {
    "duration": 60,
    "start_time": "2023-03-07T19:59:55.915Z"
   },
   {
    "duration": 111,
    "start_time": "2023-03-07T19:59:55.977Z"
   },
   {
    "duration": 104,
    "start_time": "2023-03-07T19:59:56.090Z"
   },
   {
    "duration": 61,
    "start_time": "2023-03-07T19:59:56.196Z"
   },
   {
    "duration": 8,
    "start_time": "2023-03-07T19:59:56.258Z"
   },
   {
    "duration": 33,
    "start_time": "2023-03-07T19:59:56.267Z"
   },
   {
    "duration": 15,
    "start_time": "2023-03-07T19:59:56.301Z"
   },
   {
    "duration": 13,
    "start_time": "2023-03-07T19:59:56.318Z"
   },
   {
    "duration": 8,
    "start_time": "2023-03-07T19:59:56.333Z"
   },
   {
    "duration": 20,
    "start_time": "2023-03-07T19:59:56.343Z"
   },
   {
    "duration": 13,
    "start_time": "2023-03-07T19:59:56.366Z"
   },
   {
    "duration": 13,
    "start_time": "2023-03-07T19:59:56.381Z"
   },
   {
    "duration": 1454,
    "start_time": "2023-03-07T22:54:25.056Z"
   },
   {
    "duration": 710,
    "start_time": "2023-03-07T22:54:26.511Z"
   },
   {
    "duration": 12,
    "start_time": "2023-03-07T22:54:27.223Z"
   },
   {
    "duration": 20,
    "start_time": "2023-03-07T22:54:27.237Z"
   },
   {
    "duration": 3,
    "start_time": "2023-03-07T22:54:27.259Z"
   },
   {
    "duration": 46,
    "start_time": "2023-03-07T22:54:27.263Z"
   },
   {
    "duration": 21,
    "start_time": "2023-03-07T22:54:27.311Z"
   },
   {
    "duration": 96,
    "start_time": "2023-03-07T22:54:27.334Z"
   },
   {
    "duration": 3,
    "start_time": "2023-03-07T22:54:27.432Z"
   },
   {
    "duration": 16,
    "start_time": "2023-03-07T22:54:27.438Z"
   },
   {
    "duration": 96,
    "start_time": "2023-03-07T22:54:27.455Z"
   },
   {
    "duration": 7,
    "start_time": "2023-03-07T22:54:27.553Z"
   },
   {
    "duration": 23,
    "start_time": "2023-03-07T22:54:27.562Z"
   },
   {
    "duration": 72,
    "start_time": "2023-03-07T22:54:27.586Z"
   },
   {
    "duration": 11,
    "start_time": "2023-03-07T22:54:27.660Z"
   },
   {
    "duration": 45,
    "start_time": "2023-03-07T22:54:27.681Z"
   },
   {
    "duration": 34,
    "start_time": "2023-03-07T22:54:27.728Z"
   },
   {
    "duration": 82,
    "start_time": "2023-03-07T22:54:27.764Z"
   },
   {
    "duration": 20,
    "start_time": "2023-03-07T22:54:27.848Z"
   },
   {
    "duration": 79,
    "start_time": "2023-03-07T22:54:27.870Z"
   },
   {
    "duration": 18,
    "start_time": "2023-03-07T22:54:27.950Z"
   },
   {
    "duration": 19,
    "start_time": "2023-03-07T22:54:27.969Z"
   },
   {
    "duration": 16,
    "start_time": "2023-03-07T22:54:27.989Z"
   },
   {
    "duration": 35,
    "start_time": "2023-03-07T22:54:28.007Z"
   },
   {
    "duration": 8,
    "start_time": "2023-03-07T22:54:28.044Z"
   },
   {
    "duration": 38,
    "start_time": "2023-03-07T22:54:28.054Z"
   },
   {
    "duration": 21,
    "start_time": "2023-03-07T22:54:28.093Z"
   },
   {
    "duration": 252,
    "start_time": "2023-03-07T22:54:28.117Z"
   },
   {
    "duration": 18,
    "start_time": "2023-03-07T22:54:28.371Z"
   },
   {
    "duration": 11,
    "start_time": "2023-03-07T22:54:28.394Z"
   },
   {
    "duration": 278,
    "start_time": "2023-03-07T22:54:28.406Z"
   },
   {
    "duration": 248,
    "start_time": "2023-03-07T22:54:28.685Z"
   },
   {
    "duration": 2637,
    "start_time": "2023-03-07T22:54:28.934Z"
   },
   {
    "duration": 68,
    "start_time": "2023-03-07T22:54:31.572Z"
   },
   {
    "duration": 34,
    "start_time": "2023-03-07T22:54:31.642Z"
   },
   {
    "duration": 64,
    "start_time": "2023-03-07T22:54:31.678Z"
   },
   {
    "duration": 26,
    "start_time": "2023-03-07T22:54:31.744Z"
   },
   {
    "duration": 45,
    "start_time": "2023-03-07T22:54:31.771Z"
   },
   {
    "duration": 43,
    "start_time": "2023-03-07T22:54:31.818Z"
   },
   {
    "duration": 61,
    "start_time": "2023-03-07T22:54:31.863Z"
   },
   {
    "duration": 20,
    "start_time": "2023-03-07T22:54:31.926Z"
   },
   {
    "duration": 57,
    "start_time": "2023-03-07T22:54:31.947Z"
   },
   {
    "duration": 88,
    "start_time": "2023-03-07T22:54:32.005Z"
   },
   {
    "duration": 344,
    "start_time": "2023-03-07T22:54:32.095Z"
   },
   {
    "duration": 51,
    "start_time": "2023-03-07T22:54:32.440Z"
   },
   {
    "duration": 116,
    "start_time": "2023-03-07T22:54:32.493Z"
   },
   {
    "duration": 106,
    "start_time": "2023-03-07T22:54:32.610Z"
   },
   {
    "duration": 72,
    "start_time": "2023-03-07T22:54:32.717Z"
   },
   {
    "duration": 7,
    "start_time": "2023-03-07T22:54:32.793Z"
   },
   {
    "duration": 27,
    "start_time": "2023-03-07T22:54:32.802Z"
   },
   {
    "duration": 15,
    "start_time": "2023-03-07T22:54:32.830Z"
   },
   {
    "duration": 6,
    "start_time": "2023-03-07T22:54:32.846Z"
   },
   {
    "duration": 19,
    "start_time": "2023-03-07T22:54:32.854Z"
   },
   {
    "duration": 34,
    "start_time": "2023-03-07T22:54:32.874Z"
   },
   {
    "duration": 30,
    "start_time": "2023-03-07T22:54:32.910Z"
   },
   {
    "duration": 27,
    "start_time": "2023-03-07T22:54:32.942Z"
   },
   {
    "duration": 1237,
    "start_time": "2023-03-08T08:09:26.564Z"
   },
   {
    "duration": 232,
    "start_time": "2023-03-08T08:09:27.803Z"
   },
   {
    "duration": 13,
    "start_time": "2023-03-08T08:09:28.036Z"
   },
   {
    "duration": 51,
    "start_time": "2023-03-08T08:09:28.050Z"
   },
   {
    "duration": 4,
    "start_time": "2023-03-08T08:09:28.115Z"
   },
   {
    "duration": 43,
    "start_time": "2023-03-08T08:09:28.120Z"
   },
   {
    "duration": 33,
    "start_time": "2023-03-08T08:09:28.164Z"
   },
   {
    "duration": 91,
    "start_time": "2023-03-08T08:09:28.198Z"
   },
   {
    "duration": 16,
    "start_time": "2023-03-08T08:09:28.293Z"
   },
   {
    "duration": 9,
    "start_time": "2023-03-08T08:09:28.311Z"
   },
   {
    "duration": 100,
    "start_time": "2023-03-08T08:09:28.322Z"
   },
   {
    "duration": 5,
    "start_time": "2023-03-08T08:09:28.423Z"
   },
   {
    "duration": 12,
    "start_time": "2023-03-08T08:09:28.430Z"
   },
   {
    "duration": 78,
    "start_time": "2023-03-08T08:09:28.444Z"
   },
   {
    "duration": 7,
    "start_time": "2023-03-08T08:09:28.524Z"
   },
   {
    "duration": 38,
    "start_time": "2023-03-08T08:09:28.533Z"
   },
   {
    "duration": 41,
    "start_time": "2023-03-08T08:09:28.589Z"
   },
   {
    "duration": 82,
    "start_time": "2023-03-08T08:09:28.632Z"
   },
   {
    "duration": 21,
    "start_time": "2023-03-08T08:09:28.716Z"
   },
   {
    "duration": 76,
    "start_time": "2023-03-08T08:09:28.739Z"
   },
   {
    "duration": 19,
    "start_time": "2023-03-08T08:09:28.816Z"
   },
   {
    "duration": 15,
    "start_time": "2023-03-08T08:09:28.836Z"
   },
   {
    "duration": 13,
    "start_time": "2023-03-08T08:09:28.852Z"
   },
   {
    "duration": 48,
    "start_time": "2023-03-08T08:09:28.886Z"
   },
   {
    "duration": 11,
    "start_time": "2023-03-08T08:09:28.935Z"
   },
   {
    "duration": 45,
    "start_time": "2023-03-08T08:09:28.947Z"
   },
   {
    "duration": 23,
    "start_time": "2023-03-08T08:09:29.001Z"
   },
   {
    "duration": 275,
    "start_time": "2023-03-08T08:09:29.025Z"
   },
   {
    "duration": 8,
    "start_time": "2023-03-08T08:09:29.306Z"
   },
   {
    "duration": 7,
    "start_time": "2023-03-08T08:09:29.316Z"
   },
   {
    "duration": 306,
    "start_time": "2023-03-08T08:09:29.324Z"
   },
   {
    "duration": 273,
    "start_time": "2023-03-08T08:09:29.632Z"
   },
   {
    "duration": 2813,
    "start_time": "2023-03-08T08:09:29.908Z"
   },
   {
    "duration": 82,
    "start_time": "2023-03-08T08:09:32.723Z"
   },
   {
    "duration": 5,
    "start_time": "2023-03-08T08:09:32.806Z"
   },
   {
    "duration": 18,
    "start_time": "2023-03-08T08:09:32.813Z"
   },
   {
    "duration": 5,
    "start_time": "2023-03-08T08:09:32.833Z"
   },
   {
    "duration": 10,
    "start_time": "2023-03-08T08:09:32.839Z"
   },
   {
    "duration": 23,
    "start_time": "2023-03-08T08:09:32.851Z"
   },
   {
    "duration": 30,
    "start_time": "2023-03-08T08:09:32.876Z"
   },
   {
    "duration": 33,
    "start_time": "2023-03-08T08:09:32.910Z"
   },
   {
    "duration": 60,
    "start_time": "2023-03-08T08:09:32.945Z"
   },
   {
    "duration": 23,
    "start_time": "2023-03-08T08:09:33.010Z"
   },
   {
    "duration": 26,
    "start_time": "2023-03-08T08:09:33.034Z"
   },
   {
    "duration": 88,
    "start_time": "2023-03-08T08:09:33.062Z"
   },
   {
    "duration": 653,
    "start_time": "2023-03-08T08:09:33.152Z"
   },
   {
    "duration": 14,
    "start_time": "2023-03-08T08:09:33.806Z"
   },
   {
    "duration": 99,
    "start_time": "2023-03-08T08:09:33.821Z"
   },
   {
    "duration": 101,
    "start_time": "2023-03-08T08:09:33.922Z"
   },
   {
    "duration": 110,
    "start_time": "2023-03-08T08:09:34.024Z"
   },
   {
    "duration": 71,
    "start_time": "2023-03-08T08:09:34.135Z"
   },
   {
    "duration": 8,
    "start_time": "2023-03-08T08:09:34.209Z"
   },
   {
    "duration": 26,
    "start_time": "2023-03-08T08:09:34.219Z"
   },
   {
    "duration": 20,
    "start_time": "2023-03-08T08:09:34.246Z"
   },
   {
    "duration": 17,
    "start_time": "2023-03-08T08:09:34.268Z"
   },
   {
    "duration": 32,
    "start_time": "2023-03-08T08:09:34.286Z"
   },
   {
    "duration": 20,
    "start_time": "2023-03-08T08:09:34.320Z"
   },
   {
    "duration": 20,
    "start_time": "2023-03-08T08:09:34.342Z"
   },
   {
    "duration": 14,
    "start_time": "2023-03-08T08:09:34.364Z"
   }
  ],
  "kernelspec": {
   "display_name": "Python 3 (ipykernel)",
   "language": "python",
   "name": "python3"
  },
  "language_info": {
   "codemirror_mode": {
    "name": "ipython",
    "version": 3
   },
   "file_extension": ".py",
   "mimetype": "text/x-python",
   "name": "python",
   "nbconvert_exporter": "python",
   "pygments_lexer": "ipython3",
   "version": "3.9.13"
  },
  "toc": {
   "base_numbering": 1,
   "nav_menu": {},
   "number_sections": false,
   "sideBar": true,
   "skip_h1_title": false,
   "title_cell": "Table of Contents",
   "title_sidebar": "Contents",
   "toc_cell": false,
   "toc_position": {
    "height": "calc(100% - 180px)",
    "left": "10px",
    "top": "150px",
    "width": "271.42px"
   },
   "toc_section_display": true,
   "toc_window_display": true
  }
 },
 "nbformat": 4,
 "nbformat_minor": 5
}
