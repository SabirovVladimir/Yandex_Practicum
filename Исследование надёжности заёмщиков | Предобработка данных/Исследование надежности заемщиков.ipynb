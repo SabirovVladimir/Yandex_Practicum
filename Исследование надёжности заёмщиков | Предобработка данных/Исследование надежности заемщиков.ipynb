{
 "cells": [
  {
   "cell_type": "markdown",
   "id": "c998615f",
   "metadata": {},
   "source": [
    "## Проект: Исследование надежности заемщиков\n",
    "\n",
    "#### Описание проекта\n",
    "Заказчик — кредитный отдел банка. Нужно разобраться, влияет ли семейное положение и количество детей клиента на факт погашения кредита в срок. Входные данные от банка — статистика о платёжеспособности клиентов.\n",
    "\n",
    "Результаты исследования будут учтены при построении модели кредитного скоринга — специальной системы, которая оценивает способность потенциального заёмщика вернуть кредит банку."
   ]
  },
  {
   "cell_type": "markdown",
   "id": "041de215",
   "metadata": {},
   "source": [
    "### Шаг 1  Изучение общей информации о данных"
   ]
  },
  {
   "cell_type": "code",
   "execution_count": 22,
   "id": "7bcf75c9",
   "metadata": {
    "id": "7bcf75c9"
   },
   "outputs": [],
   "source": [
    "# импортировал библиотеку pandas\n",
    "import pandas as pd"
   ]
  },
  {
   "cell_type": "code",
   "execution_count": 23,
   "id": "4d240ee2",
   "metadata": {
    "id": "4d240ee2"
   },
   "outputs": [],
   "source": [
    "# прочитал csv-файл\n",
    "try:\n",
    "    data = pd.read_csv(r\"D:\\DOCS\\datasets/data.csv\")\n",
    "except FileNotFoundError:\n",
    "    data = pd.read_csv('/datasets/data.csv')"
   ]
  },
  {
   "cell_type": "code",
   "execution_count": 45,
   "id": "2a7cab99",
   "metadata": {
    "id": "2a7cab99"
   },
   "outputs": [
    {
     "data": {
      "text/html": [
       "<div>\n",
       "<style scoped>\n",
       "    .dataframe tbody tr th:only-of-type {\n",
       "        vertical-align: middle;\n",
       "    }\n",
       "\n",
       "    .dataframe tbody tr th {\n",
       "        vertical-align: top;\n",
       "    }\n",
       "\n",
       "    .dataframe thead th {\n",
       "        text-align: right;\n",
       "    }\n",
       "</style>\n",
       "<table border=\"1\" class=\"dataframe\">\n",
       "  <thead>\n",
       "    <tr style=\"text-align: right;\">\n",
       "      <th></th>\n",
       "      <th>children</th>\n",
       "      <th>days_employed</th>\n",
       "      <th>dob_years</th>\n",
       "      <th>education</th>\n",
       "      <th>education_id</th>\n",
       "      <th>family_status</th>\n",
       "      <th>family_status_id</th>\n",
       "      <th>gender</th>\n",
       "      <th>income_type</th>\n",
       "      <th>debt</th>\n",
       "      <th>total_income</th>\n",
       "      <th>purpose</th>\n",
       "      <th>purpose_category</th>\n",
       "    </tr>\n",
       "  </thead>\n",
       "  <tbody>\n",
       "    <tr>\n",
       "      <th>0</th>\n",
       "      <td>1</td>\n",
       "      <td>8437.673028</td>\n",
       "      <td>42</td>\n",
       "      <td>высшее</td>\n",
       "      <td>0</td>\n",
       "      <td>женат / замужем</td>\n",
       "      <td>0</td>\n",
       "      <td>F</td>\n",
       "      <td>сотрудник</td>\n",
       "      <td>0</td>\n",
       "      <td>253875</td>\n",
       "      <td>покупка жилья</td>\n",
       "      <td>операции с недвижимостью</td>\n",
       "    </tr>\n",
       "    <tr>\n",
       "      <th>1</th>\n",
       "      <td>1</td>\n",
       "      <td>4024.803754</td>\n",
       "      <td>36</td>\n",
       "      <td>среднее</td>\n",
       "      <td>1</td>\n",
       "      <td>женат / замужем</td>\n",
       "      <td>0</td>\n",
       "      <td>F</td>\n",
       "      <td>сотрудник</td>\n",
       "      <td>0</td>\n",
       "      <td>112080</td>\n",
       "      <td>приобретение автомобиля</td>\n",
       "      <td>операции с автомобилем</td>\n",
       "    </tr>\n",
       "    <tr>\n",
       "      <th>2</th>\n",
       "      <td>0</td>\n",
       "      <td>5623.422610</td>\n",
       "      <td>33</td>\n",
       "      <td>Среднее</td>\n",
       "      <td>1</td>\n",
       "      <td>женат / замужем</td>\n",
       "      <td>0</td>\n",
       "      <td>M</td>\n",
       "      <td>сотрудник</td>\n",
       "      <td>0</td>\n",
       "      <td>145885</td>\n",
       "      <td>покупка жилья</td>\n",
       "      <td>операции с недвижимостью</td>\n",
       "    </tr>\n",
       "    <tr>\n",
       "      <th>3</th>\n",
       "      <td>3</td>\n",
       "      <td>4124.747207</td>\n",
       "      <td>32</td>\n",
       "      <td>среднее</td>\n",
       "      <td>1</td>\n",
       "      <td>женат / замужем</td>\n",
       "      <td>0</td>\n",
       "      <td>M</td>\n",
       "      <td>сотрудник</td>\n",
       "      <td>0</td>\n",
       "      <td>267628</td>\n",
       "      <td>дополнительное образование</td>\n",
       "      <td>получение образования</td>\n",
       "    </tr>\n",
       "    <tr>\n",
       "      <th>4</th>\n",
       "      <td>0</td>\n",
       "      <td>340266.072047</td>\n",
       "      <td>53</td>\n",
       "      <td>среднее</td>\n",
       "      <td>1</td>\n",
       "      <td>гражданский брак</td>\n",
       "      <td>1</td>\n",
       "      <td>F</td>\n",
       "      <td>пенсионер</td>\n",
       "      <td>0</td>\n",
       "      <td>158616</td>\n",
       "      <td>сыграть свадьбу</td>\n",
       "      <td>проведение свадьбы</td>\n",
       "    </tr>\n",
       "    <tr>\n",
       "      <th>5</th>\n",
       "      <td>0</td>\n",
       "      <td>926.185831</td>\n",
       "      <td>27</td>\n",
       "      <td>высшее</td>\n",
       "      <td>0</td>\n",
       "      <td>гражданский брак</td>\n",
       "      <td>1</td>\n",
       "      <td>M</td>\n",
       "      <td>компаньон</td>\n",
       "      <td>0</td>\n",
       "      <td>255763</td>\n",
       "      <td>покупка жилья</td>\n",
       "      <td>операции с недвижимостью</td>\n",
       "    </tr>\n",
       "    <tr>\n",
       "      <th>6</th>\n",
       "      <td>0</td>\n",
       "      <td>2879.202052</td>\n",
       "      <td>43</td>\n",
       "      <td>высшее</td>\n",
       "      <td>0</td>\n",
       "      <td>женат / замужем</td>\n",
       "      <td>0</td>\n",
       "      <td>F</td>\n",
       "      <td>компаньон</td>\n",
       "      <td>0</td>\n",
       "      <td>240525</td>\n",
       "      <td>операции с жильем</td>\n",
       "      <td>операции с недвижимостью</td>\n",
       "    </tr>\n",
       "    <tr>\n",
       "      <th>7</th>\n",
       "      <td>0</td>\n",
       "      <td>152.779569</td>\n",
       "      <td>50</td>\n",
       "      <td>СРЕДНЕЕ</td>\n",
       "      <td>1</td>\n",
       "      <td>женат / замужем</td>\n",
       "      <td>0</td>\n",
       "      <td>M</td>\n",
       "      <td>сотрудник</td>\n",
       "      <td>0</td>\n",
       "      <td>135823</td>\n",
       "      <td>образование</td>\n",
       "      <td>получение образования</td>\n",
       "    </tr>\n",
       "    <tr>\n",
       "      <th>8</th>\n",
       "      <td>2</td>\n",
       "      <td>6929.865299</td>\n",
       "      <td>35</td>\n",
       "      <td>ВЫСШЕЕ</td>\n",
       "      <td>0</td>\n",
       "      <td>гражданский брак</td>\n",
       "      <td>1</td>\n",
       "      <td>F</td>\n",
       "      <td>сотрудник</td>\n",
       "      <td>0</td>\n",
       "      <td>95856</td>\n",
       "      <td>на проведение свадьбы</td>\n",
       "      <td>проведение свадьбы</td>\n",
       "    </tr>\n",
       "    <tr>\n",
       "      <th>9</th>\n",
       "      <td>0</td>\n",
       "      <td>2188.756445</td>\n",
       "      <td>41</td>\n",
       "      <td>среднее</td>\n",
       "      <td>1</td>\n",
       "      <td>женат / замужем</td>\n",
       "      <td>0</td>\n",
       "      <td>M</td>\n",
       "      <td>сотрудник</td>\n",
       "      <td>0</td>\n",
       "      <td>144425</td>\n",
       "      <td>покупка жилья для семьи</td>\n",
       "      <td>операции с недвижимостью</td>\n",
       "    </tr>\n",
       "    <tr>\n",
       "      <th>10</th>\n",
       "      <td>2</td>\n",
       "      <td>4171.483647</td>\n",
       "      <td>36</td>\n",
       "      <td>высшее</td>\n",
       "      <td>0</td>\n",
       "      <td>женат / замужем</td>\n",
       "      <td>0</td>\n",
       "      <td>M</td>\n",
       "      <td>компаньон</td>\n",
       "      <td>0</td>\n",
       "      <td>113943</td>\n",
       "      <td>покупка недвижимости</td>\n",
       "      <td>операции с недвижимостью</td>\n",
       "    </tr>\n",
       "    <tr>\n",
       "      <th>11</th>\n",
       "      <td>0</td>\n",
       "      <td>792.701887</td>\n",
       "      <td>40</td>\n",
       "      <td>среднее</td>\n",
       "      <td>1</td>\n",
       "      <td>женат / замужем</td>\n",
       "      <td>0</td>\n",
       "      <td>F</td>\n",
       "      <td>сотрудник</td>\n",
       "      <td>0</td>\n",
       "      <td>77069</td>\n",
       "      <td>покупка коммерческой недвижимости</td>\n",
       "      <td>операции с недвижимостью</td>\n",
       "    </tr>\n",
       "    <tr>\n",
       "      <th>12</th>\n",
       "      <td>0</td>\n",
       "      <td>365286.622650</td>\n",
       "      <td>65</td>\n",
       "      <td>среднее</td>\n",
       "      <td>1</td>\n",
       "      <td>гражданский брак</td>\n",
       "      <td>1</td>\n",
       "      <td>M</td>\n",
       "      <td>пенсионер</td>\n",
       "      <td>0</td>\n",
       "      <td>118514</td>\n",
       "      <td>сыграть свадьбу</td>\n",
       "      <td>проведение свадьбы</td>\n",
       "    </tr>\n",
       "    <tr>\n",
       "      <th>13</th>\n",
       "      <td>0</td>\n",
       "      <td>1846.641941</td>\n",
       "      <td>54</td>\n",
       "      <td>неоконченное высшее</td>\n",
       "      <td>2</td>\n",
       "      <td>женат / замужем</td>\n",
       "      <td>0</td>\n",
       "      <td>F</td>\n",
       "      <td>сотрудник</td>\n",
       "      <td>0</td>\n",
       "      <td>130458</td>\n",
       "      <td>приобретение автомобиля</td>\n",
       "      <td>операции с автомобилем</td>\n",
       "    </tr>\n",
       "    <tr>\n",
       "      <th>14</th>\n",
       "      <td>0</td>\n",
       "      <td>1844.956182</td>\n",
       "      <td>56</td>\n",
       "      <td>высшее</td>\n",
       "      <td>0</td>\n",
       "      <td>гражданский брак</td>\n",
       "      <td>1</td>\n",
       "      <td>F</td>\n",
       "      <td>компаньон</td>\n",
       "      <td>1</td>\n",
       "      <td>165127</td>\n",
       "      <td>покупка жилой недвижимости</td>\n",
       "      <td>операции с недвижимостью</td>\n",
       "    </tr>\n",
       "    <tr>\n",
       "      <th>15</th>\n",
       "      <td>1</td>\n",
       "      <td>972.364419</td>\n",
       "      <td>26</td>\n",
       "      <td>среднее</td>\n",
       "      <td>1</td>\n",
       "      <td>женат / замужем</td>\n",
       "      <td>0</td>\n",
       "      <td>F</td>\n",
       "      <td>сотрудник</td>\n",
       "      <td>0</td>\n",
       "      <td>116820</td>\n",
       "      <td>строительство собственной недвижимости</td>\n",
       "      <td>операции с недвижимостью</td>\n",
       "    </tr>\n",
       "    <tr>\n",
       "      <th>16</th>\n",
       "      <td>0</td>\n",
       "      <td>1719.934226</td>\n",
       "      <td>35</td>\n",
       "      <td>среднее</td>\n",
       "      <td>1</td>\n",
       "      <td>женат / замужем</td>\n",
       "      <td>0</td>\n",
       "      <td>F</td>\n",
       "      <td>сотрудник</td>\n",
       "      <td>0</td>\n",
       "      <td>289202</td>\n",
       "      <td>недвижимость</td>\n",
       "      <td>операции с недвижимостью</td>\n",
       "    </tr>\n",
       "    <tr>\n",
       "      <th>17</th>\n",
       "      <td>0</td>\n",
       "      <td>2369.999720</td>\n",
       "      <td>33</td>\n",
       "      <td>высшее</td>\n",
       "      <td>0</td>\n",
       "      <td>гражданский брак</td>\n",
       "      <td>1</td>\n",
       "      <td>M</td>\n",
       "      <td>сотрудник</td>\n",
       "      <td>0</td>\n",
       "      <td>90410</td>\n",
       "      <td>строительство недвижимости</td>\n",
       "      <td>операции с недвижимостью</td>\n",
       "    </tr>\n",
       "    <tr>\n",
       "      <th>18</th>\n",
       "      <td>0</td>\n",
       "      <td>400281.136913</td>\n",
       "      <td>53</td>\n",
       "      <td>среднее</td>\n",
       "      <td>1</td>\n",
       "      <td>вдовец / вдова</td>\n",
       "      <td>2</td>\n",
       "      <td>F</td>\n",
       "      <td>пенсионер</td>\n",
       "      <td>0</td>\n",
       "      <td>56823</td>\n",
       "      <td>на покупку подержанного автомобиля</td>\n",
       "      <td>операции с автомобилем</td>\n",
       "    </tr>\n",
       "    <tr>\n",
       "      <th>19</th>\n",
       "      <td>0</td>\n",
       "      <td>10038.818549</td>\n",
       "      <td>48</td>\n",
       "      <td>СРЕДНЕЕ</td>\n",
       "      <td>1</td>\n",
       "      <td>в разводе</td>\n",
       "      <td>3</td>\n",
       "      <td>F</td>\n",
       "      <td>сотрудник</td>\n",
       "      <td>0</td>\n",
       "      <td>242831</td>\n",
       "      <td>на покупку своего автомобиля</td>\n",
       "      <td>операции с автомобилем</td>\n",
       "    </tr>\n",
       "  </tbody>\n",
       "</table>\n",
       "</div>"
      ],
      "text/plain": [
       "    children  days_employed  dob_years            education  education_id  \\\n",
       "0          1    8437.673028         42               высшее             0   \n",
       "1          1    4024.803754         36              среднее             1   \n",
       "2          0    5623.422610         33              Среднее             1   \n",
       "3          3    4124.747207         32              среднее             1   \n",
       "4          0  340266.072047         53              среднее             1   \n",
       "5          0     926.185831         27               высшее             0   \n",
       "6          0    2879.202052         43               высшее             0   \n",
       "7          0     152.779569         50              СРЕДНЕЕ             1   \n",
       "8          2    6929.865299         35               ВЫСШЕЕ             0   \n",
       "9          0    2188.756445         41              среднее             1   \n",
       "10         2    4171.483647         36               высшее             0   \n",
       "11         0     792.701887         40              среднее             1   \n",
       "12         0  365286.622650         65              среднее             1   \n",
       "13         0    1846.641941         54  неоконченное высшее             2   \n",
       "14         0    1844.956182         56               высшее             0   \n",
       "15         1     972.364419         26              среднее             1   \n",
       "16         0    1719.934226         35              среднее             1   \n",
       "17         0    2369.999720         33               высшее             0   \n",
       "18         0  400281.136913         53              среднее             1   \n",
       "19         0   10038.818549         48              СРЕДНЕЕ             1   \n",
       "\n",
       "       family_status  family_status_id gender income_type  debt  total_income  \\\n",
       "0    женат / замужем                 0      F   сотрудник     0        253875   \n",
       "1    женат / замужем                 0      F   сотрудник     0        112080   \n",
       "2    женат / замужем                 0      M   сотрудник     0        145885   \n",
       "3    женат / замужем                 0      M   сотрудник     0        267628   \n",
       "4   гражданский брак                 1      F   пенсионер     0        158616   \n",
       "5   гражданский брак                 1      M   компаньон     0        255763   \n",
       "6    женат / замужем                 0      F   компаньон     0        240525   \n",
       "7    женат / замужем                 0      M   сотрудник     0        135823   \n",
       "8   гражданский брак                 1      F   сотрудник     0         95856   \n",
       "9    женат / замужем                 0      M   сотрудник     0        144425   \n",
       "10   женат / замужем                 0      M   компаньон     0        113943   \n",
       "11   женат / замужем                 0      F   сотрудник     0         77069   \n",
       "12  гражданский брак                 1      M   пенсионер     0        118514   \n",
       "13   женат / замужем                 0      F   сотрудник     0        130458   \n",
       "14  гражданский брак                 1      F   компаньон     1        165127   \n",
       "15   женат / замужем                 0      F   сотрудник     0        116820   \n",
       "16   женат / замужем                 0      F   сотрудник     0        289202   \n",
       "17  гражданский брак                 1      M   сотрудник     0         90410   \n",
       "18    вдовец / вдова                 2      F   пенсионер     0         56823   \n",
       "19         в разводе                 3      F   сотрудник     0        242831   \n",
       "\n",
       "                                   purpose          purpose_category  \n",
       "0                            покупка жилья  операции с недвижимостью  \n",
       "1                  приобретение автомобиля    операции с автомобилем  \n",
       "2                            покупка жилья  операции с недвижимостью  \n",
       "3               дополнительное образование     получение образования  \n",
       "4                          сыграть свадьбу        проведение свадьбы  \n",
       "5                            покупка жилья  операции с недвижимостью  \n",
       "6                        операции с жильем  операции с недвижимостью  \n",
       "7                              образование     получение образования  \n",
       "8                    на проведение свадьбы        проведение свадьбы  \n",
       "9                  покупка жилья для семьи  операции с недвижимостью  \n",
       "10                    покупка недвижимости  операции с недвижимостью  \n",
       "11       покупка коммерческой недвижимости  операции с недвижимостью  \n",
       "12                         сыграть свадьбу        проведение свадьбы  \n",
       "13                 приобретение автомобиля    операции с автомобилем  \n",
       "14              покупка жилой недвижимости  операции с недвижимостью  \n",
       "15  строительство собственной недвижимости  операции с недвижимостью  \n",
       "16                            недвижимость  операции с недвижимостью  \n",
       "17              строительство недвижимости  операции с недвижимостью  \n",
       "18      на покупку подержанного автомобиля    операции с автомобилем  \n",
       "19            на покупку своего автомобиля    операции с автомобилем  "
      ]
     },
     "execution_count": 45,
     "metadata": {},
     "output_type": "execute_result"
    }
   ],
   "source": [
    "# вывел первые 20 строк датафрейма data.\n",
    "data.head(20)"
   ]
  },
  {
   "cell_type": "code",
   "execution_count": 25,
   "id": "2b757bca",
   "metadata": {
    "id": "2b757bca"
   },
   "outputs": [
    {
     "name": "stdout",
     "output_type": "stream",
     "text": [
      "<class 'pandas.core.frame.DataFrame'>\n",
      "RangeIndex: 21525 entries, 0 to 21524\n",
      "Data columns (total 12 columns):\n",
      " #   Column            Non-Null Count  Dtype  \n",
      "---  ------            --------------  -----  \n",
      " 0   children          21525 non-null  int64  \n",
      " 1   days_employed     19351 non-null  float64\n",
      " 2   dob_years         21525 non-null  int64  \n",
      " 3   education         21525 non-null  object \n",
      " 4   education_id      21525 non-null  int64  \n",
      " 5   family_status     21525 non-null  object \n",
      " 6   family_status_id  21525 non-null  int64  \n",
      " 7   gender            21525 non-null  object \n",
      " 8   income_type       21525 non-null  object \n",
      " 9   debt              21525 non-null  int64  \n",
      " 10  total_income      19351 non-null  float64\n",
      " 11  purpose           21525 non-null  object \n",
      "dtypes: float64(2), int64(5), object(5)\n",
      "memory usage: 2.0+ MB\n"
     ]
    }
   ],
   "source": [
    "# вывел основную информацию о датафрейме\n",
    "data.info()"
   ]
  },
  {
   "cell_type": "markdown",
   "id": "464e8479",
   "metadata": {},
   "source": [
    "#### Описание данных\n",
    "* children — количество детей в семье\n",
    "* days_employed — общий трудовой стаж в днях\n",
    "* dob_years — возраст клиента в годах\n",
    "* education — уровень образования клиента\n",
    "* education_id — идентификатор уровня образования\n",
    "* family_status — семейное положение\n",
    "* family_status_id — идентификатор семейного положения\n",
    "* gender — пол клиента\n",
    "* income_type — тип занятости\n",
    "* debt — имел ли задолженность по возврату кредитов\n",
    "* total_income — ежемесячный доход\n",
    "* purpose — цель получения кредита"
   ]
  },
  {
   "cell_type": "markdown",
   "id": "ec8e9000",
   "metadata": {},
   "source": [
    "### Шаг 2  Предобработка данных"
   ]
  },
  {
   "cell_type": "code",
   "execution_count": 26,
   "id": "7f9b2309",
   "metadata": {
    "id": "7f9b2309"
   },
   "outputs": [
    {
     "data": {
      "text/plain": [
       "children               0\n",
       "days_employed       2174\n",
       "dob_years              0\n",
       "education              0\n",
       "education_id           0\n",
       "family_status          0\n",
       "family_status_id       0\n",
       "gender                 0\n",
       "income_type            0\n",
       "debt                   0\n",
       "total_income        2174\n",
       "purpose                0\n",
       "dtype: int64"
      ]
     },
     "execution_count": 26,
     "metadata": {},
     "output_type": "execute_result"
    }
   ],
   "source": [
    "# вывел количество пропущенных значений для каждого столбца.\n",
    "data.isna().sum()"
   ]
  },
  {
   "cell_type": "markdown",
   "id": "e9dd4ae6",
   "metadata": {},
   "source": [
    "В столбцах days_employed, total_income есть пропущенные значения. \n",
    "\n",
    "Столбец total_income — хранит данные о доходах. На сумму дохода сильнее всего влияет тип занятости, поэтому заполнить пропуски в этом столбце нужно медианным значением по каждому типу из столбца income_type."
   ]
  },
  {
   "cell_type": "code",
   "execution_count": 27,
   "id": "42006a93",
   "metadata": {
    "id": "42006a93"
   },
   "outputs": [],
   "source": [
    "# заполнил пропуски в столбце total_income медианным значением по каждому типу из столбца income_type\n",
    "for type in data['income_type'].unique():\n",
    "    data.loc[(data['income_type'] == type) & (data['total_income'].isna()),'total_income']=\\\n",
    "    data.loc[(data['income_type'] == type), 'total_income'].median() "
   ]
  },
  {
   "cell_type": "markdown",
   "id": "eaa9db62",
   "metadata": {},
   "source": [
    "В данных могут встречаться артефакты (аномалии) — значения, которые не отражают действительность и появились по какой-то ошибке. Таким артефактом будет отрицательное количество дней трудового стажа в столбце days_employed."
   ]
  },
  {
   "cell_type": "code",
   "execution_count": 28,
   "id": "f6f055bf",
   "metadata": {
    "id": "f6f055bf"
   },
   "outputs": [],
   "source": [
    "# заменил все отрицательные значения в столбце days_employed положительными\n",
    "data['days_employed'] = data['days_employed'].abs()# ваш код здесь"
   ]
  },
  {
   "cell_type": "code",
   "execution_count": 29,
   "id": "85a5faf6",
   "metadata": {
    "id": "85a5faf6"
   },
   "outputs": [
    {
     "name": "stdout",
     "output_type": "stream",
     "text": [
      "income_type\n",
      "безработный        366413.652744\n",
      "в декрете            3296.759962\n",
      "госслужащий          2689.368353\n",
      "компаньон            1547.382223\n",
      "пенсионер          365213.306266\n",
      "предприниматель       520.848083\n",
      "сотрудник            1574.202821\n",
      "студент               578.751554\n",
      "Name: days_employed, dtype: float64\n"
     ]
    }
   ],
   "source": [
    "# для каждого типа занятости вывел медианное значение трудового стажа days_employed в днях.\n",
    "days_employed_median_grouped = data.groupby('income_type')['days_employed'].median()\n",
    "print(days_employed_median_grouped) "
   ]
  },
  {
   "cell_type": "markdown",
   "id": "75ebb576",
   "metadata": {},
   "source": [
    "У двух типов (безработные и пенсионеры) получатся аномально большие значения. Исправить такие значения сложно, поэтому оставьте их как есть. Тем более этот столбец не понадобится вам для исследования."
   ]
  },
  {
   "cell_type": "code",
   "execution_count": 30,
   "id": "ef5056eb",
   "metadata": {
    "id": "ef5056eb"
   },
   "outputs": [
    {
     "name": "stdout",
     "output_type": "stream",
     "text": [
      "[ 1  0  3  2 -1  4 20  5]\n"
     ]
    }
   ],
   "source": [
    "# вывел перечень уникальных значений в столбце children.\n",
    "print(data['children'].unique()) "
   ]
  },
  {
   "cell_type": "code",
   "execution_count": 31,
   "id": "3ff9801d",
   "metadata": {
    "id": "3ff9801d"
   },
   "outputs": [],
   "source": [
    "# удалил строки, в которых встречаются аномальные значения в столбце children\n",
    "data = data.loc[(data['children'] >= 0) & (data['children'] != 20)] # ваш код здесь"
   ]
  },
  {
   "cell_type": "code",
   "execution_count": 32,
   "id": "ad4fa8b7",
   "metadata": {
    "id": "ad4fa8b7"
   },
   "outputs": [
    {
     "name": "stdout",
     "output_type": "stream",
     "text": [
      "[1 0 3 2 4 5]\n"
     ]
    }
   ],
   "source": [
    "# проверка уникальных значений в столбце children.\n",
    "print(data['children'].unique())# ваш код здесь"
   ]
  },
  {
   "cell_type": "code",
   "execution_count": 33,
   "id": "af6b1a7e",
   "metadata": {
    "id": "af6b1a7e"
   },
   "outputs": [],
   "source": [
    "# заполнил пропуски в столбце days_employed медианными значениями по каждому типу занятости income_type.\n",
    "for days in data['income_type'].unique():\n",
    "    data.loc[(data['income_type'] == days) & (data['days_employed'].isna()),'days_employed']=\\\n",
    "    data.loc[(data['income_type'] == days),'days_employed'].median() "
   ]
  },
  {
   "cell_type": "code",
   "execution_count": 34,
   "id": "55f78bc2",
   "metadata": {
    "id": "55f78bc2"
   },
   "outputs": [
    {
     "name": "stdout",
     "output_type": "stream",
     "text": [
      "children            0\n",
      "days_employed       0\n",
      "dob_years           0\n",
      "education           0\n",
      "education_id        0\n",
      "family_status       0\n",
      "family_status_id    0\n",
      "gender              0\n",
      "income_type         0\n",
      "debt                0\n",
      "total_income        0\n",
      "purpose             0\n",
      "dtype: int64\n"
     ]
    }
   ],
   "source": [
    "# проверка количества пропущенных значений для каждого столбца \n",
    "print(data.isna().sum())"
   ]
  },
  {
   "cell_type": "code",
   "execution_count": 35,
   "id": "920b65ad",
   "metadata": {
    "id": "920b65ad"
   },
   "outputs": [],
   "source": [
    "# Заменил вещественный тип данных в столбце total_income на целочисленный\n",
    "data['total_income'] = data['total_income'].astype('int') "
   ]
  },
  {
   "cell_type": "code",
   "execution_count": 37,
   "id": "9fefab1c",
   "metadata": {},
   "outputs": [
    {
     "data": {
      "text/plain": [
       "array(['высшее', 'среднее', 'Среднее', 'СРЕДНЕЕ', 'ВЫСШЕЕ',\n",
       "       'неоконченное высшее', 'начальное', 'Высшее',\n",
       "       'НЕОКОНЧЕННОЕ ВЫСШЕЕ', 'Неоконченное высшее', 'НАЧАЛЬНОЕ',\n",
       "       'Начальное', 'Ученая степень', 'УЧЕНАЯ СТЕПЕНЬ', 'ученая степень'],\n",
       "      dtype=object)"
      ]
     },
     "execution_count": 37,
     "metadata": {},
     "output_type": "execute_result"
    }
   ],
   "source": [
    "# вывел уникальные значения столбца education\n",
    "data['education'].unique()"
   ]
  },
  {
   "cell_type": "markdown",
   "id": "1316e1d3",
   "metadata": {},
   "source": [
    "В столбце education есть одни и те же значения, но записанные по-разному: с использованием заглавных и строчных букв. "
   ]
  },
  {
   "cell_type": "code",
   "execution_count": 19,
   "id": "a9f8e2bf",
   "metadata": {
    "id": "a9f8e2bf"
   },
   "outputs": [],
   "source": [
    "# привел значения в столбце education к нижнему регистру.\n",
    "data['education'] = data['education'].str.lower() "
   ]
  },
  {
   "cell_type": "code",
   "execution_count": 39,
   "id": "3ee445e4",
   "metadata": {
    "id": "3ee445e4"
   },
   "outputs": [
    {
     "name": "stdout",
     "output_type": "stream",
     "text": [
      "Количество дубликатов равно: 54\n"
     ]
    }
   ],
   "source": [
    "# вывел количество строк-дубликатов в данных.\n",
    "print('Количество дубликатов равно:', data.duplicated().sum())"
   ]
  },
  {
   "cell_type": "code",
   "execution_count": 40,
   "id": "8575fe05",
   "metadata": {
    "id": "8575fe05"
   },
   "outputs": [],
   "source": [
    "# удалил дубликаты \n",
    "data = data.drop_duplicates().reset_index(drop=True)"
   ]
  },
  {
   "cell_type": "markdown",
   "id": "5fd8b00b",
   "metadata": {},
   "source": [
    "Создадим в датафрейме data столбец total_income_category с категориями дохода:\n",
    "\n",
    "* 0–30000 — 'E';\n",
    "* 30001–50000 — 'D';\n",
    "* 50001–200000 — 'C';\n",
    "* 200001–1000000 — 'B';\n",
    "* 1000001 и выше — 'A'."
   ]
  },
  {
   "cell_type": "code",
   "execution_count": 41,
   "id": "e1771346",
   "metadata": {
    "id": "e1771346"
   },
   "outputs": [],
   "source": [
    "# создал функцию categorize_income\n",
    "def categorize_income(total_income): # создайте функцию categorize_income()\n",
    "    if total_income <= 30000:\n",
    "        return 'E'\n",
    "    if total_income <= 50000:\n",
    "        return 'D'\n",
    "    if total_income <= 200000:\n",
    "        return 'C'\n",
    "    if total_income <= 1000000:\n",
    "        return 'B'\n",
    "    return 'A'"
   ]
  },
  {
   "cell_type": "code",
   "execution_count": 50,
   "id": "d5f3586d",
   "metadata": {
    "id": "d5f3586d"
   },
   "outputs": [],
   "source": [
    "# примените функцию к столбцу total_income\n",
    "data['total_income_category']=data['total_income'].apply(categorize_income) "
   ]
  },
  {
   "cell_type": "code",
   "execution_count": 42,
   "id": "f67ce9b3",
   "metadata": {
    "id": "f67ce9b3"
   },
   "outputs": [
    {
     "data": {
      "text/plain": [
       "array(['покупка жилья', 'приобретение автомобиля',\n",
       "       'дополнительное образование', 'сыграть свадьбу',\n",
       "       'операции с жильем', 'образование', 'на проведение свадьбы',\n",
       "       'покупка жилья для семьи', 'покупка недвижимости',\n",
       "       'покупка коммерческой недвижимости', 'покупка жилой недвижимости',\n",
       "       'строительство собственной недвижимости', 'недвижимость',\n",
       "       'строительство недвижимости', 'на покупку подержанного автомобиля',\n",
       "       'на покупку своего автомобиля',\n",
       "       'операции с коммерческой недвижимостью',\n",
       "       'строительство жилой недвижимости', 'жилье',\n",
       "       'операции со своей недвижимостью', 'автомобили',\n",
       "       'заняться образованием', 'сделка с подержанным автомобилем',\n",
       "       'получение образования', 'автомобиль', 'свадьба',\n",
       "       'получение дополнительного образования', 'покупка своего жилья',\n",
       "       'операции с недвижимостью', 'получение высшего образования',\n",
       "       'свой автомобиль', 'сделка с автомобилем',\n",
       "       'профильное образование', 'высшее образование',\n",
       "       'покупка жилья для сдачи', 'на покупку автомобиля', 'ремонт жилью',\n",
       "       'заняться высшим образованием'], dtype=object)"
      ]
     },
     "execution_count": 42,
     "metadata": {},
     "output_type": "execute_result"
    }
   ],
   "source": [
    "# вывел на экран перечень уникальных целей взятия кредита из столбца purpose\n",
    "data['purpose'].unique()"
   ]
  },
  {
   "cell_type": "markdown",
   "id": "2b9bd94b",
   "metadata": {},
   "source": [
    "Создадим функцию, которая на основании данных из столбца purpose сформирует новый столбец purpose_category, в который войдут следующие категории:\n",
    "\n",
    "* 'операции с автомобилем',\n",
    "* 'операции с недвижимостью',\n",
    "* 'проведение свадьбы',\n",
    "* 'получение образования'."
   ]
  },
  {
   "cell_type": "code",
   "execution_count": 43,
   "id": "e149fab4",
   "metadata": {
    "id": "e149fab4"
   },
   "outputs": [],
   "source": [
    "# создал функцию categorize_purpose\n",
    "def categorize_purpose(purpose): \n",
    "    if 'жиль' in purpose:\n",
    "        return 'операции с недвижимостью'\n",
    "    if 'недвиж' in purpose:\n",
    "        return 'операции с недвижимостью'\n",
    "    if 'авто' in purpose:\n",
    "        return 'операции с автомобилем'\n",
    "    if 'образ' in purpose:\n",
    "        return 'получение образования'\n",
    "    if 'свадьб' in purpose:\n",
    "        return 'проведение свадьбы'"
   ]
  },
  {
   "cell_type": "code",
   "execution_count": 44,
   "id": "bf36e69b",
   "metadata": {
    "id": "bf36e69b"
   },
   "outputs": [],
   "source": [
    "# примените функцию к столбцу purpose\n",
    "data['purpose_category'] = data['purpose'].apply(categorize_purpose) "
   ]
  },
  {
   "cell_type": "markdown",
   "id": "a9026c88",
   "metadata": {},
   "source": [
    "### Шаг 3. Исследование данных и ответ на поставнленные в задаче вопросы"
   ]
  },
  {
   "cell_type": "markdown",
   "id": "5cb6ea56",
   "metadata": {},
   "source": [
    "### Есть ли зависимость между количеством детей и возвратом кредита в срок?"
   ]
  },
  {
   "cell_type": "code",
   "execution_count": 47,
   "id": "54a57cfc",
   "metadata": {},
   "outputs": [
    {
     "data": {
      "text/html": [
       "<style type=\"text/css\">\n",
       "</style>\n",
       "<table id=\"T_d57ac\">\n",
       "  <thead>\n",
       "    <tr>\n",
       "      <th class=\"blank level0\" >&nbsp;</th>\n",
       "      <th id=\"T_d57ac_level0_col0\" class=\"col_heading level0 col0\" >общее количество</th>\n",
       "      <th id=\"T_d57ac_level0_col1\" class=\"col_heading level0 col1\" >количество задолжностей</th>\n",
       "      <th id=\"T_d57ac_level0_col2\" class=\"col_heading level0 col2\" >процент задолжностей</th>\n",
       "    </tr>\n",
       "    <tr>\n",
       "      <th class=\"index_name level0\" >Количество детей</th>\n",
       "      <th class=\"blank col0\" >&nbsp;</th>\n",
       "      <th class=\"blank col1\" >&nbsp;</th>\n",
       "      <th class=\"blank col2\" >&nbsp;</th>\n",
       "    </tr>\n",
       "  </thead>\n",
       "  <tbody>\n",
       "    <tr>\n",
       "      <th id=\"T_d57ac_level0_row0\" class=\"row_heading level0 row0\" >0</th>\n",
       "      <td id=\"T_d57ac_row0_col0\" class=\"data row0 col0\" >14107</td>\n",
       "      <td id=\"T_d57ac_row0_col1\" class=\"data row0 col1\" >1063</td>\n",
       "      <td id=\"T_d57ac_row0_col2\" class=\"data row0 col2\" >7.54%</td>\n",
       "    </tr>\n",
       "    <tr>\n",
       "      <th id=\"T_d57ac_level0_row1\" class=\"row_heading level0 row1\" >1</th>\n",
       "      <td id=\"T_d57ac_row1_col0\" class=\"data row1 col0\" >4809</td>\n",
       "      <td id=\"T_d57ac_row1_col1\" class=\"data row1 col1\" >444</td>\n",
       "      <td id=\"T_d57ac_row1_col2\" class=\"data row1 col2\" >9.23%</td>\n",
       "    </tr>\n",
       "    <tr>\n",
       "      <th id=\"T_d57ac_level0_row2\" class=\"row_heading level0 row2\" >2</th>\n",
       "      <td id=\"T_d57ac_row2_col0\" class=\"data row2 col0\" >2052</td>\n",
       "      <td id=\"T_d57ac_row2_col1\" class=\"data row2 col1\" >194</td>\n",
       "      <td id=\"T_d57ac_row2_col2\" class=\"data row2 col2\" >9.45%</td>\n",
       "    </tr>\n",
       "    <tr>\n",
       "      <th id=\"T_d57ac_level0_row3\" class=\"row_heading level0 row3\" >3</th>\n",
       "      <td id=\"T_d57ac_row3_col0\" class=\"data row3 col0\" >330</td>\n",
       "      <td id=\"T_d57ac_row3_col1\" class=\"data row3 col1\" >27</td>\n",
       "      <td id=\"T_d57ac_row3_col2\" class=\"data row3 col2\" >8.18%</td>\n",
       "    </tr>\n",
       "    <tr>\n",
       "      <th id=\"T_d57ac_level0_row4\" class=\"row_heading level0 row4\" >4</th>\n",
       "      <td id=\"T_d57ac_row4_col0\" class=\"data row4 col0\" >41</td>\n",
       "      <td id=\"T_d57ac_row4_col1\" class=\"data row4 col1\" >4</td>\n",
       "      <td id=\"T_d57ac_row4_col2\" class=\"data row4 col2\" >9.76%</td>\n",
       "    </tr>\n",
       "    <tr>\n",
       "      <th id=\"T_d57ac_level0_row5\" class=\"row_heading level0 row5\" >5</th>\n",
       "      <td id=\"T_d57ac_row5_col0\" class=\"data row5 col0\" >9</td>\n",
       "      <td id=\"T_d57ac_row5_col1\" class=\"data row5 col1\" >0</td>\n",
       "      <td id=\"T_d57ac_row5_col2\" class=\"data row5 col2\" >0.00%</td>\n",
       "    </tr>\n",
       "  </tbody>\n",
       "</table>\n"
      ],
      "text/plain": [
       "<pandas.io.formats.style.Styler at 0x28fb2a6ad60>"
      ]
     },
     "execution_count": 47,
     "metadata": {},
     "output_type": "execute_result"
    }
   ],
   "source": [
    "#создал сводную таблицу с индексом- кол-во детей, значениями: суммой кредитов, задолжностей, процентом задолжностей\n",
    "data_pivot_children = data.pivot_table(index=['children'], values='debt',aggfunc=['count','sum']) \n",
    "data_pivot_children.index.names = ['Количество детей'] \n",
    "debt_related_to_children = data_pivot_children['sum'] / data_pivot_children['count'] \n",
    "data_pivot_children['debt_related_to_children_percent'] = debt_related_to_children \n",
    "data_pivot_children.columns = data_pivot_children.columns.get_level_values(0)\n",
    "data_pivot_children.rename(columns={'count':'общее количество',\n",
    "                                    'debt':' ','sum':'количество задолжностей',\n",
    "                                    'debt_related_to_children_percent':'процент задолжностей'}, \n",
    "                           inplace=True)\n",
    "data_pivot_children.style.format({'процент задолжностей':'{:.2%}'}) "
   ]
  },
  {
   "cell_type": "markdown",
   "id": "b67db9dd",
   "metadata": {},
   "source": [
    "Среди заемщиков не имеющих детей меньше процент имеющих долгов, в сравнении с заемщиками, имеющими 1-2 ребенка. "
   ]
  },
  {
   "cell_type": "markdown",
   "id": "d6d33b99",
   "metadata": {},
   "source": [
    "### Есть ли зависимость между семейным положением и возвратом кредита в срок?"
   ]
  },
  {
   "cell_type": "code",
   "execution_count": 48,
   "id": "51f24b79",
   "metadata": {},
   "outputs": [
    {
     "data": {
      "text/html": [
       "<style type=\"text/css\">\n",
       "</style>\n",
       "<table id=\"T_cf7a7\">\n",
       "  <thead>\n",
       "    <tr>\n",
       "      <th class=\"blank level0\" >&nbsp;</th>\n",
       "      <th id=\"T_cf7a7_level0_col0\" class=\"col_heading level0 col0\" >всего</th>\n",
       "      <th id=\"T_cf7a7_level0_col1\" class=\"col_heading level0 col1\" >количество задолжностей</th>\n",
       "      <th id=\"T_cf7a7_level0_col2\" class=\"col_heading level0 col2\" >процент задолжностей</th>\n",
       "    </tr>\n",
       "    <tr>\n",
       "      <th class=\"index_name level0\" >Семейное положение</th>\n",
       "      <th class=\"blank col0\" >&nbsp;</th>\n",
       "      <th class=\"blank col1\" >&nbsp;</th>\n",
       "      <th class=\"blank col2\" >&nbsp;</th>\n",
       "    </tr>\n",
       "  </thead>\n",
       "  <tbody>\n",
       "    <tr>\n",
       "      <th id=\"T_cf7a7_level0_row0\" class=\"row_heading level0 row0\" >Не женат / не замужем</th>\n",
       "      <td id=\"T_cf7a7_row0_col0\" class=\"data row0 col0\" >2796</td>\n",
       "      <td id=\"T_cf7a7_row0_col1\" class=\"data row0 col1\" >273</td>\n",
       "      <td id=\"T_cf7a7_row0_col2\" class=\"data row0 col2\" >9.76%</td>\n",
       "    </tr>\n",
       "    <tr>\n",
       "      <th id=\"T_cf7a7_level0_row1\" class=\"row_heading level0 row1\" >в разводе</th>\n",
       "      <td id=\"T_cf7a7_row1_col0\" class=\"data row1 col0\" >1189</td>\n",
       "      <td id=\"T_cf7a7_row1_col1\" class=\"data row1 col1\" >84</td>\n",
       "      <td id=\"T_cf7a7_row1_col2\" class=\"data row1 col2\" >7.06%</td>\n",
       "    </tr>\n",
       "    <tr>\n",
       "      <th id=\"T_cf7a7_level0_row2\" class=\"row_heading level0 row2\" >вдовец / вдова</th>\n",
       "      <td id=\"T_cf7a7_row2_col0\" class=\"data row2 col0\" >951</td>\n",
       "      <td id=\"T_cf7a7_row2_col1\" class=\"data row2 col1\" >63</td>\n",
       "      <td id=\"T_cf7a7_row2_col2\" class=\"data row2 col2\" >6.62%</td>\n",
       "    </tr>\n",
       "    <tr>\n",
       "      <th id=\"T_cf7a7_level0_row3\" class=\"row_heading level0 row3\" >гражданский брак</th>\n",
       "      <td id=\"T_cf7a7_row3_col0\" class=\"data row3 col0\" >4146</td>\n",
       "      <td id=\"T_cf7a7_row3_col1\" class=\"data row3 col1\" >385</td>\n",
       "      <td id=\"T_cf7a7_row3_col2\" class=\"data row3 col2\" >9.29%</td>\n",
       "    </tr>\n",
       "    <tr>\n",
       "      <th id=\"T_cf7a7_level0_row4\" class=\"row_heading level0 row4\" >женат / замужем</th>\n",
       "      <td id=\"T_cf7a7_row4_col0\" class=\"data row4 col0\" >12266</td>\n",
       "      <td id=\"T_cf7a7_row4_col1\" class=\"data row4 col1\" >927</td>\n",
       "      <td id=\"T_cf7a7_row4_col2\" class=\"data row4 col2\" >7.56%</td>\n",
       "    </tr>\n",
       "  </tbody>\n",
       "</table>\n"
      ],
      "text/plain": [
       "<pandas.io.formats.style.Styler at 0x28fb4e5a430>"
      ]
     },
     "execution_count": 48,
     "metadata": {},
     "output_type": "execute_result"
    }
   ],
   "source": [
    "# создал сводную таблицу, с индексом-семейным положением, значениями: суммой кредитов, задолжностей, процентом задолжностей\n",
    "data_pivot_family_status = data.pivot_table(index=['family_status'], values='debt',aggfunc=['count','sum'])\n",
    "data_pivot_family_status.index.names = ['Семейное положение'] \n",
    "debt_related_to_family_status = data_pivot_family_status['sum'] / data_pivot_family_status['count'] \n",
    "data_pivot_family_status['debt_related_to_family_status'] = debt_related_to_family_status \n",
    "data_pivot_family_status.columns = data_pivot_family_status.columns.get_level_values(0)\n",
    "data_pivot_family_status.rename(columns={'count':'всего','debt':' ',\n",
    "                                         'sum':'количество задолжностей',\n",
    "                                         'debt_related_to_family_status':'процент задолжностей'}, \n",
    "                                inplace=True)\n",
    "data_pivot_family_status.style.format({'процент задолжностей':'{:.2%}'}) "
   ]
  },
  {
   "cell_type": "markdown",
   "id": "cef9f22b",
   "metadata": {},
   "source": [
    "Чаще всех имеют задолжности по кредитам не женатые и не находящиеся замужем люди, а также люди находящиеся в гражданском браке. Однако, находящиеся в гражданском браке, в целом, чаще, чем не женатые, берут кредиты. Процент задолжностей в этих группах от 9,7% до 9,3% соответственно. Больше всего кредитов приходится на людей находящихся в браке, процент задолжностей в этой кагорде на 0,5% больше, чем у людей находящихся в разводе и составляет от 7% до 7,5% соответственно. Меньше всего кредитов приходится на кагорту вдовцов, также среди них меньше всего % задолжностей, который составляет 6,6%."
   ]
  },
  {
   "cell_type": "markdown",
   "id": "85e8db83",
   "metadata": {},
   "source": [
    "### Есть ли зависимость между уровнем дохода и возвратом кредита в срок?"
   ]
  },
  {
   "cell_type": "code",
   "execution_count": 51,
   "id": "de6913d6",
   "metadata": {},
   "outputs": [
    {
     "data": {
      "text/html": [
       "<style type=\"text/css\">\n",
       "</style>\n",
       "<table id=\"T_e6a36\">\n",
       "  <thead>\n",
       "    <tr>\n",
       "      <th class=\"blank level0\" >&nbsp;</th>\n",
       "      <th id=\"T_e6a36_level0_col0\" class=\"col_heading level0 col0\" >всего</th>\n",
       "      <th id=\"T_e6a36_level0_col1\" class=\"col_heading level0 col1\" >количество задолжностей</th>\n",
       "      <th id=\"T_e6a36_level0_col2\" class=\"col_heading level0 col2\" >процент задолжностей</th>\n",
       "    </tr>\n",
       "    <tr>\n",
       "      <th class=\"index_name level0\" >категория дохода</th>\n",
       "      <th class=\"blank col0\" >&nbsp;</th>\n",
       "      <th class=\"blank col1\" >&nbsp;</th>\n",
       "      <th class=\"blank col2\" >&nbsp;</th>\n",
       "    </tr>\n",
       "  </thead>\n",
       "  <tbody>\n",
       "    <tr>\n",
       "      <th id=\"T_e6a36_level0_row0\" class=\"row_heading level0 row0\" >A</th>\n",
       "      <td id=\"T_e6a36_row0_col0\" class=\"data row0 col0\" >25</td>\n",
       "      <td id=\"T_e6a36_row0_col1\" class=\"data row0 col1\" >2</td>\n",
       "      <td id=\"T_e6a36_row0_col2\" class=\"data row0 col2\" >8.00%</td>\n",
       "    </tr>\n",
       "    <tr>\n",
       "      <th id=\"T_e6a36_level0_row1\" class=\"row_heading level0 row1\" >B</th>\n",
       "      <td id=\"T_e6a36_row1_col0\" class=\"data row1 col0\" >5014</td>\n",
       "      <td id=\"T_e6a36_row1_col1\" class=\"data row1 col1\" >354</td>\n",
       "      <td id=\"T_e6a36_row1_col2\" class=\"data row1 col2\" >7.06%</td>\n",
       "    </tr>\n",
       "    <tr>\n",
       "      <th id=\"T_e6a36_level0_row2\" class=\"row_heading level0 row2\" >C</th>\n",
       "      <td id=\"T_e6a36_row2_col0\" class=\"data row2 col0\" >15938</td>\n",
       "      <td id=\"T_e6a36_row2_col1\" class=\"data row2 col1\" >1353</td>\n",
       "      <td id=\"T_e6a36_row2_col2\" class=\"data row2 col2\" >8.49%</td>\n",
       "    </tr>\n",
       "    <tr>\n",
       "      <th id=\"T_e6a36_level0_row3\" class=\"row_heading level0 row3\" >D</th>\n",
       "      <td id=\"T_e6a36_row3_col0\" class=\"data row3 col0\" >349</td>\n",
       "      <td id=\"T_e6a36_row3_col1\" class=\"data row3 col1\" >21</td>\n",
       "      <td id=\"T_e6a36_row3_col2\" class=\"data row3 col2\" >6.02%</td>\n",
       "    </tr>\n",
       "    <tr>\n",
       "      <th id=\"T_e6a36_level0_row4\" class=\"row_heading level0 row4\" >E</th>\n",
       "      <td id=\"T_e6a36_row4_col0\" class=\"data row4 col0\" >22</td>\n",
       "      <td id=\"T_e6a36_row4_col1\" class=\"data row4 col1\" >2</td>\n",
       "      <td id=\"T_e6a36_row4_col2\" class=\"data row4 col2\" >9.09%</td>\n",
       "    </tr>\n",
       "  </tbody>\n",
       "</table>\n"
      ],
      "text/plain": [
       "<pandas.io.formats.style.Styler at 0x28fb4df19d0>"
      ]
     },
     "execution_count": 51,
     "metadata": {},
     "output_type": "execute_result"
    }
   ],
   "source": [
    "# создал таблицу, с индексом-категория дохода, значениями: суммой кредитов, задолжностей, процентом задолжностей\n",
    "data_pivot_total_income_category = data.pivot_table(index=['total_income_category'], values='debt',aggfunc=['count','sum'])\n",
    "data_pivot_total_income_category.index.names = ['категория дохода'] \n",
    "debt_related_to_total_income_category = data_pivot_total_income_category['sum'] / data_pivot_total_income_category['count'] \n",
    "data_pivot_total_income_category['debt_related_to_total_income_category'] = debt_related_to_total_income_category \n",
    "data_pivot_total_income_category.columns = data_pivot_total_income_category.columns.get_level_values(0)\n",
    "data_pivot_total_income_category.rename(columns={'count':'всего','debt':' ',\n",
    "                                                 'sum':'количество задолжностей',\n",
    "                                                 'debt_related_to_total_income_category':'процент задолжностей'}, \n",
    "                                        inplace=True)\n",
    "data_pivot_total_income_category.style.format({'процент задолжностей':'{:.2%}'}) "
   ]
  },
  {
   "cell_type": "markdown",
   "id": "dacbc326",
   "metadata": {},
   "source": [
    "Наибольший процент задолжностей в группах с наименьшим и наивысшим доходом, однако наибольшие риски для банка представляют заемщики с наименьшим уровнем дохода"
   ]
  },
  {
   "cell_type": "markdown",
   "id": "b64198b0",
   "metadata": {},
   "source": [
    "### Как разные цели кредита влияют на его возврат в срок?"
   ]
  },
  {
   "cell_type": "code",
   "execution_count": 53,
   "id": "2555b420",
   "metadata": {},
   "outputs": [
    {
     "data": {
      "text/html": [
       "<style type=\"text/css\">\n",
       "</style>\n",
       "<table id=\"T_5a6f6\">\n",
       "  <thead>\n",
       "    <tr>\n",
       "      <th class=\"blank level0\" >&nbsp;</th>\n",
       "      <th id=\"T_5a6f6_level0_col0\" class=\"col_heading level0 col0\" >всего</th>\n",
       "      <th id=\"T_5a6f6_level0_col1\" class=\"col_heading level0 col1\" >количество задолжностей</th>\n",
       "      <th id=\"T_5a6f6_level0_col2\" class=\"col_heading level0 col2\" >процент задолжностей</th>\n",
       "    </tr>\n",
       "    <tr>\n",
       "      <th class=\"index_name level0\" >цель</th>\n",
       "      <th class=\"blank col0\" >&nbsp;</th>\n",
       "      <th class=\"blank col1\" >&nbsp;</th>\n",
       "      <th class=\"blank col2\" >&nbsp;</th>\n",
       "    </tr>\n",
       "  </thead>\n",
       "  <tbody>\n",
       "    <tr>\n",
       "      <th id=\"T_5a6f6_level0_row0\" class=\"row_heading level0 row0\" >операции с автомобилем</th>\n",
       "      <td id=\"T_5a6f6_row0_col0\" class=\"data row0 col0\" >4281</td>\n",
       "      <td id=\"T_5a6f6_row0_col1\" class=\"data row0 col1\" >400</td>\n",
       "      <td id=\"T_5a6f6_row0_col2\" class=\"data row0 col2\" >9.34%</td>\n",
       "    </tr>\n",
       "    <tr>\n",
       "      <th id=\"T_5a6f6_level0_row1\" class=\"row_heading level0 row1\" >операции с недвижимостью</th>\n",
       "      <td id=\"T_5a6f6_row1_col0\" class=\"data row1 col0\" >10754</td>\n",
       "      <td id=\"T_5a6f6_row1_col1\" class=\"data row1 col1\" >780</td>\n",
       "      <td id=\"T_5a6f6_row1_col2\" class=\"data row1 col2\" >7.25%</td>\n",
       "    </tr>\n",
       "    <tr>\n",
       "      <th id=\"T_5a6f6_level0_row2\" class=\"row_heading level0 row2\" >получение образования</th>\n",
       "      <td id=\"T_5a6f6_row2_col0\" class=\"data row2 col0\" >3989</td>\n",
       "      <td id=\"T_5a6f6_row2_col1\" class=\"data row2 col1\" >369</td>\n",
       "      <td id=\"T_5a6f6_row2_col2\" class=\"data row2 col2\" >9.25%</td>\n",
       "    </tr>\n",
       "    <tr>\n",
       "      <th id=\"T_5a6f6_level0_row3\" class=\"row_heading level0 row3\" >проведение свадьбы</th>\n",
       "      <td id=\"T_5a6f6_row3_col0\" class=\"data row3 col0\" >2324</td>\n",
       "      <td id=\"T_5a6f6_row3_col1\" class=\"data row3 col1\" >183</td>\n",
       "      <td id=\"T_5a6f6_row3_col2\" class=\"data row3 col2\" >7.87%</td>\n",
       "    </tr>\n",
       "  </tbody>\n",
       "</table>\n"
      ],
      "text/plain": [
       "<pandas.io.formats.style.Styler at 0x28fb5d06d30>"
      ]
     },
     "execution_count": 53,
     "metadata": {},
     "output_type": "execute_result"
    }
   ],
   "source": [
    "# создал таблицу, с индексом-цель займа, значениями: суммой кредитов, задолжностей, процентом задолжностей\n",
    "data_pivot_purpose_category = data.pivot_table(index=['purpose_category'], values='debt',aggfunc=['count','sum'])\n",
    "data_pivot_purpose_category.index.names = ['цель'] \n",
    "debt_related_to_purpose_category = data_pivot_purpose_category['sum'] / data_pivot_purpose_category['count'] \n",
    "data_pivot_purpose_category['debt_related_to_purpose_category'] = debt_related_to_purpose_category \n",
    "data_pivot_purpose_category.columns = data_pivot_purpose_category.columns.get_level_values(0)\n",
    "data_pivot_purpose_category.rename(columns={'count':'всего','debt':' ',\n",
    "                                            'sum':'количество задолжностей',\n",
    "                                            'debt_related_to_purpose_category':'процент задолжностей'}, \n",
    "                                   inplace=True)\n",
    "data_pivot_purpose_category.style.format({'процент задолжностей':'{:.2%}'}) "
   ]
  },
  {
   "cell_type": "markdown",
   "id": "f3a1af29",
   "metadata": {},
   "source": [
    "Категории целей на получение кредита: операции с автомобилем и получение образования являются наиболее рискрованными для банка, так как имеют больший процент задолжностей в сравнении с остальными"
   ]
  },
  {
   "cell_type": "markdown",
   "id": "781aaf24",
   "metadata": {},
   "source": [
    "### Шаг 4: Вывод."
   ]
  },
  {
   "cell_type": "markdown",
   "id": "61c61891",
   "metadata": {},
   "source": [
    "Согласно полученным данным:\n",
    "* Заемщики имеющие 1-2 ребенка представляют бОльшие финансовые риск для банка в сравнении с теми, у кого нет детей. \n",
    "* Также бОльшие финансовые риски для банка представляют не женатые и не находящиеся в браке люди, а также люди живущие в гражданском браке, в сравнении с женатыми и находящимися в разводе. \n",
    "* При рассмотрении категорий общего дохода наибольший процент задолжностей в группах с наименьшим и наивысшим доходом, однако наибольшие риски для банка представляют заемщики с наименьшим уровнем дохода. \n",
    "* В категориях целей на получения кредита операции с автомобилем и получение образования являются наиболее рискрованными для банка, так как имеют больший процент задолжностей в сравнении с остальными"
   ]
  }
 ],
 "metadata": {
  "ExecuteTimeLog": [
   {
    "duration": 50,
    "start_time": "2022-11-08T04:31:20.318Z"
   },
   {
    "duration": 391,
    "start_time": "2022-11-08T04:31:23.860Z"
   },
   {
    "duration": 118,
    "start_time": "2022-11-08T04:31:24.972Z"
   },
   {
    "duration": 10,
    "start_time": "2022-11-08T04:31:27.743Z"
   },
   {
    "duration": 14,
    "start_time": "2022-11-08T04:31:44.801Z"
   },
   {
    "duration": 14,
    "start_time": "2022-11-08T04:33:59.966Z"
   },
   {
    "duration": 2,
    "start_time": "2022-11-08T05:32:52.155Z"
   },
   {
    "duration": 78,
    "start_time": "2022-11-08T05:32:52.161Z"
   },
   {
    "duration": 8,
    "start_time": "2022-11-08T05:32:52.241Z"
   },
   {
    "duration": 16,
    "start_time": "2022-11-08T05:32:52.251Z"
   },
   {
    "duration": 21,
    "start_time": "2022-11-08T05:32:52.269Z"
   },
   {
    "duration": 34,
    "start_time": "2022-11-08T05:32:52.292Z"
   },
   {
    "duration": 4,
    "start_time": "2022-11-08T05:32:52.327Z"
   },
   {
    "duration": 4,
    "start_time": "2022-11-08T05:32:52.333Z"
   },
   {
    "duration": 5,
    "start_time": "2022-11-08T05:32:52.338Z"
   },
   {
    "duration": 4,
    "start_time": "2022-11-08T05:32:52.344Z"
   },
   {
    "duration": 5,
    "start_time": "2022-11-08T05:32:52.349Z"
   },
   {
    "duration": 5,
    "start_time": "2022-11-08T05:32:52.355Z"
   },
   {
    "duration": 14,
    "start_time": "2022-11-08T05:32:52.361Z"
   },
   {
    "duration": 10,
    "start_time": "2022-11-08T05:32:52.376Z"
   },
   {
    "duration": 6,
    "start_time": "2022-11-08T05:32:52.389Z"
   },
   {
    "duration": 11,
    "start_time": "2022-11-08T05:32:52.397Z"
   },
   {
    "duration": 4,
    "start_time": "2022-11-08T05:32:52.410Z"
   },
   {
    "duration": 5,
    "start_time": "2022-11-08T05:32:52.415Z"
   },
   {
    "duration": 6,
    "start_time": "2022-11-08T05:32:52.422Z"
   },
   {
    "duration": 4,
    "start_time": "2022-11-08T05:32:52.429Z"
   },
   {
    "duration": 4,
    "start_time": "2022-11-08T05:32:52.434Z"
   },
   {
    "duration": 5,
    "start_time": "2022-11-08T05:32:52.439Z"
   },
   {
    "duration": 7,
    "start_time": "2022-11-08T05:36:23.938Z"
   },
   {
    "duration": 4,
    "start_time": "2022-11-08T05:36:48.053Z"
   },
   {
    "duration": 99,
    "start_time": "2022-11-08T05:37:42.241Z"
   },
   {
    "duration": 2,
    "start_time": "2022-11-08T05:38:25.832Z"
   },
   {
    "duration": 64,
    "start_time": "2022-11-08T05:38:25.836Z"
   },
   {
    "duration": 8,
    "start_time": "2022-11-08T05:38:25.902Z"
   },
   {
    "duration": 16,
    "start_time": "2022-11-08T05:38:25.912Z"
   },
   {
    "duration": 10,
    "start_time": "2022-11-08T05:38:25.931Z"
   },
   {
    "duration": 55,
    "start_time": "2022-11-08T05:38:25.943Z"
   },
   {
    "duration": 3,
    "start_time": "2022-11-08T05:38:26.000Z"
   },
   {
    "duration": 11,
    "start_time": "2022-11-08T05:38:26.005Z"
   },
   {
    "duration": 70,
    "start_time": "2022-11-08T05:38:26.018Z"
   },
   {
    "duration": 0,
    "start_time": "2022-11-08T05:38:26.090Z"
   },
   {
    "duration": 0,
    "start_time": "2022-11-08T05:38:26.091Z"
   },
   {
    "duration": 0,
    "start_time": "2022-11-08T05:38:26.091Z"
   },
   {
    "duration": 0,
    "start_time": "2022-11-08T05:38:26.093Z"
   },
   {
    "duration": 0,
    "start_time": "2022-11-08T05:38:26.094Z"
   },
   {
    "duration": 0,
    "start_time": "2022-11-08T05:38:26.095Z"
   },
   {
    "duration": 0,
    "start_time": "2022-11-08T05:38:26.096Z"
   },
   {
    "duration": 0,
    "start_time": "2022-11-08T05:38:26.097Z"
   },
   {
    "duration": 0,
    "start_time": "2022-11-08T05:38:26.098Z"
   },
   {
    "duration": 0,
    "start_time": "2022-11-08T05:38:26.099Z"
   },
   {
    "duration": 0,
    "start_time": "2022-11-08T05:38:26.100Z"
   },
   {
    "duration": 0,
    "start_time": "2022-11-08T05:38:26.100Z"
   },
   {
    "duration": 0,
    "start_time": "2022-11-08T05:38:26.101Z"
   },
   {
    "duration": 4,
    "start_time": "2022-11-08T05:39:07.365Z"
   },
   {
    "duration": 1193,
    "start_time": "2022-11-08T05:53:24.609Z"
   },
   {
    "duration": 3,
    "start_time": "2022-11-08T05:53:57.186Z"
   },
   {
    "duration": 62,
    "start_time": "2022-11-08T05:53:57.191Z"
   },
   {
    "duration": 7,
    "start_time": "2022-11-08T05:53:57.255Z"
   },
   {
    "duration": 22,
    "start_time": "2022-11-08T05:53:57.263Z"
   },
   {
    "duration": 15,
    "start_time": "2022-11-08T05:53:57.399Z"
   },
   {
    "duration": 44,
    "start_time": "2022-11-08T05:53:57.416Z"
   },
   {
    "duration": 4,
    "start_time": "2022-11-08T05:53:57.462Z"
   },
   {
    "duration": 15,
    "start_time": "2022-11-08T05:53:57.467Z"
   },
   {
    "duration": 10,
    "start_time": "2022-11-08T05:53:57.485Z"
   },
   {
    "duration": 1121,
    "start_time": "2022-11-08T05:53:57.496Z"
   },
   {
    "duration": 0,
    "start_time": "2022-11-08T05:53:58.619Z"
   },
   {
    "duration": 0,
    "start_time": "2022-11-08T05:53:58.620Z"
   },
   {
    "duration": 0,
    "start_time": "2022-11-08T05:53:58.621Z"
   },
   {
    "duration": 0,
    "start_time": "2022-11-08T05:53:58.622Z"
   },
   {
    "duration": 0,
    "start_time": "2022-11-08T05:53:58.623Z"
   },
   {
    "duration": 0,
    "start_time": "2022-11-08T05:53:58.624Z"
   },
   {
    "duration": 0,
    "start_time": "2022-11-08T05:53:58.625Z"
   },
   {
    "duration": 0,
    "start_time": "2022-11-08T05:53:58.626Z"
   },
   {
    "duration": 0,
    "start_time": "2022-11-08T05:53:58.627Z"
   },
   {
    "duration": 0,
    "start_time": "2022-11-08T05:53:58.628Z"
   },
   {
    "duration": 0,
    "start_time": "2022-11-08T05:53:58.630Z"
   },
   {
    "duration": 0,
    "start_time": "2022-11-08T05:53:58.631Z"
   },
   {
    "duration": 1181,
    "start_time": "2022-11-08T05:54:06.883Z"
   },
   {
    "duration": 1140,
    "start_time": "2022-11-08T05:55:15.464Z"
   },
   {
    "duration": 1089,
    "start_time": "2022-11-08T05:56:55.784Z"
   },
   {
    "duration": 2,
    "start_time": "2022-11-08T05:57:05.518Z"
   },
   {
    "duration": 64,
    "start_time": "2022-11-08T05:57:06.984Z"
   },
   {
    "duration": 11,
    "start_time": "2022-11-08T05:57:10.188Z"
   },
   {
    "duration": 14,
    "start_time": "2022-11-08T05:57:13.880Z"
   },
   {
    "duration": 10,
    "start_time": "2022-11-08T05:57:17.775Z"
   },
   {
    "duration": 31,
    "start_time": "2022-11-08T05:57:23.481Z"
   },
   {
    "duration": 3,
    "start_time": "2022-11-08T05:57:27.049Z"
   },
   {
    "duration": 7,
    "start_time": "2022-11-08T05:57:29.135Z"
   },
   {
    "duration": 4,
    "start_time": "2022-11-08T05:57:32.072Z"
   },
   {
    "duration": 7,
    "start_time": "2022-11-08T05:57:56.946Z"
   },
   {
    "duration": 4,
    "start_time": "2022-11-08T05:58:59.067Z"
   },
   {
    "duration": 9,
    "start_time": "2022-11-08T06:28:49.794Z"
   },
   {
    "duration": 8,
    "start_time": "2022-11-08T06:29:38.797Z"
   },
   {
    "duration": 17,
    "start_time": "2022-11-08T06:32:53.091Z"
   },
   {
    "duration": 33,
    "start_time": "2022-11-08T06:33:13.051Z"
   },
   {
    "duration": 9,
    "start_time": "2022-11-08T06:34:59.742Z"
   },
   {
    "duration": 4,
    "start_time": "2022-11-08T06:37:20.485Z"
   },
   {
    "duration": 18,
    "start_time": "2022-11-08T06:39:45.067Z"
   },
   {
    "duration": 9,
    "start_time": "2022-11-08T06:39:53.559Z"
   },
   {
    "duration": 17,
    "start_time": "2022-11-08T06:41:32.389Z"
   },
   {
    "duration": 2,
    "start_time": "2022-11-08T06:43:37.889Z"
   },
   {
    "duration": 6,
    "start_time": "2022-11-08T06:47:26.186Z"
   },
   {
    "duration": 6,
    "start_time": "2022-11-08T06:48:38.578Z"
   },
   {
    "duration": 7,
    "start_time": "2022-11-08T06:55:16.557Z"
   },
   {
    "duration": 6,
    "start_time": "2022-11-08T06:55:48.797Z"
   },
   {
    "duration": 2,
    "start_time": "2022-11-08T06:55:58.704Z"
   },
   {
    "duration": 80,
    "start_time": "2022-11-08T06:55:58.709Z"
   },
   {
    "duration": 9,
    "start_time": "2022-11-08T06:55:58.791Z"
   },
   {
    "duration": 21,
    "start_time": "2022-11-08T06:55:58.802Z"
   },
   {
    "duration": 16,
    "start_time": "2022-11-08T06:55:58.826Z"
   },
   {
    "duration": 60,
    "start_time": "2022-11-08T06:55:58.844Z"
   },
   {
    "duration": 3,
    "start_time": "2022-11-08T06:55:58.906Z"
   },
   {
    "duration": 12,
    "start_time": "2022-11-08T06:55:58.911Z"
   },
   {
    "duration": 5,
    "start_time": "2022-11-08T06:55:58.924Z"
   },
   {
    "duration": 10,
    "start_time": "2022-11-08T06:55:58.930Z"
   },
   {
    "duration": 6,
    "start_time": "2022-11-08T06:55:58.942Z"
   },
   {
    "duration": 54,
    "start_time": "2022-11-08T06:55:58.949Z"
   },
   {
    "duration": 9,
    "start_time": "2022-11-08T06:55:59.005Z"
   },
   {
    "duration": 4,
    "start_time": "2022-11-08T06:55:59.016Z"
   },
   {
    "duration": 12,
    "start_time": "2022-11-08T06:55:59.022Z"
   },
   {
    "duration": 23,
    "start_time": "2022-11-08T06:55:59.036Z"
   },
   {
    "duration": 46,
    "start_time": "2022-11-08T06:55:59.061Z"
   },
   {
    "duration": 3,
    "start_time": "2022-11-08T06:55:59.109Z"
   },
   {
    "duration": 10,
    "start_time": "2022-11-08T06:55:59.113Z"
   },
   {
    "duration": 9,
    "start_time": "2022-11-08T06:55:59.124Z"
   },
   {
    "duration": 4,
    "start_time": "2022-11-08T06:55:59.135Z"
   },
   {
    "duration": 9,
    "start_time": "2022-11-08T06:55:59.141Z"
   },
   {
    "duration": 7,
    "start_time": "2022-11-08T07:03:58.933Z"
   },
   {
    "duration": 3,
    "start_time": "2022-11-08T07:04:20.547Z"
   },
   {
    "duration": 7,
    "start_time": "2022-11-08T07:04:22.411Z"
   },
   {
    "duration": 5,
    "start_time": "2022-11-08T07:05:24.681Z"
   },
   {
    "duration": 3,
    "start_time": "2022-11-08T07:16:36.696Z"
   },
   {
    "duration": 8,
    "start_time": "2022-11-08T07:17:34.371Z"
   },
   {
    "duration": 441,
    "start_time": "2022-11-21T11:05:24.123Z"
   },
   {
    "duration": 128,
    "start_time": "2022-11-21T11:05:24.566Z"
   },
   {
    "duration": 10,
    "start_time": "2022-11-21T11:05:24.696Z"
   },
   {
    "duration": 21,
    "start_time": "2022-11-21T11:05:24.708Z"
   },
   {
    "duration": 28,
    "start_time": "2022-11-21T11:05:24.731Z"
   },
   {
    "duration": 36,
    "start_time": "2022-11-21T11:05:24.760Z"
   },
   {
    "duration": 4,
    "start_time": "2022-11-21T11:05:24.798Z"
   },
   {
    "duration": 31,
    "start_time": "2022-11-21T11:05:24.804Z"
   },
   {
    "duration": 14,
    "start_time": "2022-11-21T11:05:24.837Z"
   },
   {
    "duration": 22,
    "start_time": "2022-11-21T11:05:24.853Z"
   },
   {
    "duration": 11,
    "start_time": "2022-11-21T11:05:24.876Z"
   },
   {
    "duration": 52,
    "start_time": "2022-11-21T11:05:24.889Z"
   },
   {
    "duration": 10,
    "start_time": "2022-11-21T11:05:24.944Z"
   },
   {
    "duration": 11,
    "start_time": "2022-11-21T11:05:24.957Z"
   },
   {
    "duration": 22,
    "start_time": "2022-11-21T11:05:24.970Z"
   },
   {
    "duration": 31,
    "start_time": "2022-11-21T11:05:24.993Z"
   },
   {
    "duration": 19,
    "start_time": "2022-11-21T11:05:25.025Z"
   },
   {
    "duration": 3,
    "start_time": "2022-11-21T11:05:25.046Z"
   },
   {
    "duration": 14,
    "start_time": "2022-11-21T11:05:25.051Z"
   },
   {
    "duration": 6,
    "start_time": "2022-11-21T11:05:25.067Z"
   },
   {
    "duration": 5,
    "start_time": "2022-11-21T11:05:25.074Z"
   },
   {
    "duration": 11,
    "start_time": "2022-11-21T11:05:25.080Z"
   }
  ],
  "colab": {
   "provenance": []
  },
  "kernelspec": {
   "display_name": "Python 3 (ipykernel)",
   "language": "python",
   "name": "python3"
  },
  "language_info": {
   "codemirror_mode": {
    "name": "ipython",
    "version": 3
   },
   "file_extension": ".py",
   "mimetype": "text/x-python",
   "name": "python",
   "nbconvert_exporter": "python",
   "pygments_lexer": "ipython3",
   "version": "3.9.13"
  },
  "toc": {
   "base_numbering": 1,
   "nav_menu": {},
   "number_sections": true,
   "sideBar": true,
   "skip_h1_title": true,
   "title_cell": "Table of Contents",
   "title_sidebar": "Contents",
   "toc_cell": false,
   "toc_position": {},
   "toc_section_display": true,
   "toc_window_display": false
  }
 },
 "nbformat": 4,
 "nbformat_minor": 5
}
