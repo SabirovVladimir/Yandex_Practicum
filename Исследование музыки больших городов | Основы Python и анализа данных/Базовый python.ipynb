{
 "cells": [
  {
   "cell_type": "markdown",
   "metadata": {
    "deletable": false,
    "editable": false,
    "id": "E0vqbgi9ay0H"
   },
   "source": [
    "# Яндекс Музыка"
   ]
  },
  {
   "cell_type": "markdown",
   "metadata": {
    "deletable": false,
    "editable": false,
    "id": "VUC88oWjTJw2"
   },
   "source": [
    "Сравнение Москвы и Петербурга окружено мифами. Например:\n",
    " * Москва — мегаполис, подчинённый жёсткому ритму рабочей недели;\n",
    " * Петербург — культурная столица, со своими вкусами.\n",
    "\n",
    "На данных Яндекс Музыки вы сравните поведение пользователей двух столиц.\n",
    "\n",
    "**Цель исследования** — проверьте три гипотезы:\n",
    "1. Активность пользователей зависит от дня недели. Причём в Москве и Петербурге это проявляется по-разному.\n",
    "2. В понедельник утром в Москве преобладают одни жанры, а в Петербурге — другие. Так же и вечером пятницы преобладают разные жанры — в зависимости от города. \n",
    "3. Москва и Петербург предпочитают разные жанры музыки. В Москве чаще слушают поп-музыку, в Петербурге — русский рэп.\n",
    "\n",
    "**Ход исследования**\n",
    "\n",
    "Данные о поведении пользователей вы получите из файла `yandex_music_project.csv`. О качестве данных ничего не известно. Поэтому перед проверкой гипотез понадобится обзор данных. \n",
    "\n",
    "Вы проверите данные на ошибки и оцените их влияние на исследование. Затем, на этапе предобработки вы поищете возможность исправить самые критичные ошибки данных.\n",
    " \n",
    "Таким образом, исследование пройдёт в три этапа:\n",
    " 1. Обзор данных.\n",
    " 2. Предобработка данных.\n",
    " 3. Проверка гипотез.\n",
    "\n"
   ]
  },
  {
   "cell_type": "markdown",
   "metadata": {
    "deletable": false,
    "editable": false,
    "id": "Ml1hmfXC_Zcs"
   },
   "source": [
    "## Обзор данных\n",
    "\n",
    "Составьте первое представление о данных Яндекс Музыки.\n",
    "\n",
    "\n"
   ]
  },
  {
   "cell_type": "markdown",
   "metadata": {
    "deletable": false,
    "editable": false,
    "id": "57eAOGIz_Zcs",
    "tags": [
     "start_task"
    ]
   },
   "source": [
    "**Задание 1**\n",
    "\n",
    "Основной инструмент аналитика — `pandas`. Импортируйте эту библиотеку."
   ]
  },
  {
   "cell_type": "code",
   "execution_count": 481,
   "metadata": {
    "deletable": false,
    "id": "AXN7PHPN_Zcs"
   },
   "outputs": [],
   "source": [
    "import pandas as pd # импорт библиотеки pandas"
   ]
  },
  {
   "cell_type": "markdown",
   "metadata": {
    "deletable": false,
    "editable": false,
    "id": "SG23P8tt_Zcs",
    "tags": [
     "start_task"
    ]
   },
   "source": [
    "**Задание 2**\n",
    "\n",
    "Прочитайте файл `yandex_music_project.csv` из папки `/datasets` и сохраните его в переменной `df`:"
   ]
  },
  {
   "cell_type": "code",
   "execution_count": 482,
   "metadata": {
    "deletable": false,
    "id": "fFVu7vqh_Zct"
   },
   "outputs": [],
   "source": [
    "df = pd.read_csv('/datasets/yandex_music_project.csv')# чтение файла с данными и сохранение в df"
   ]
  },
  {
   "cell_type": "markdown",
   "metadata": {
    "deletable": false,
    "editable": false,
    "id": "rDoOMd3uTqnZ",
    "tags": [
     "start_task"
    ]
   },
   "source": [
    "**Задание 3**\n",
    "\n",
    "\n",
    "Выведите на экран первые десять строк таблицы:"
   ]
  },
  {
   "cell_type": "code",
   "execution_count": 483,
   "metadata": {
    "deletable": false,
    "id": "oWTVX3gW_Zct"
   },
   "outputs": [
    {
     "data": {
      "text/html": [
       "<div>\n",
       "<style scoped>\n",
       "    .dataframe tbody tr th:only-of-type {\n",
       "        vertical-align: middle;\n",
       "    }\n",
       "\n",
       "    .dataframe tbody tr th {\n",
       "        vertical-align: top;\n",
       "    }\n",
       "\n",
       "    .dataframe thead th {\n",
       "        text-align: right;\n",
       "    }\n",
       "</style>\n",
       "<table border=\"1\" class=\"dataframe\">\n",
       "  <thead>\n",
       "    <tr style=\"text-align: right;\">\n",
       "      <th></th>\n",
       "      <th>userID</th>\n",
       "      <th>Track</th>\n",
       "      <th>artist</th>\n",
       "      <th>genre</th>\n",
       "      <th>City</th>\n",
       "      <th>time</th>\n",
       "      <th>Day</th>\n",
       "    </tr>\n",
       "  </thead>\n",
       "  <tbody>\n",
       "    <tr>\n",
       "      <th>0</th>\n",
       "      <td>FFB692EC</td>\n",
       "      <td>Kamigata To Boots</td>\n",
       "      <td>The Mass Missile</td>\n",
       "      <td>rock</td>\n",
       "      <td>Saint-Petersburg</td>\n",
       "      <td>20:28:33</td>\n",
       "      <td>Wednesday</td>\n",
       "    </tr>\n",
       "    <tr>\n",
       "      <th>1</th>\n",
       "      <td>55204538</td>\n",
       "      <td>Delayed Because of Accident</td>\n",
       "      <td>Andreas Rönnberg</td>\n",
       "      <td>rock</td>\n",
       "      <td>Moscow</td>\n",
       "      <td>14:07:09</td>\n",
       "      <td>Friday</td>\n",
       "    </tr>\n",
       "    <tr>\n",
       "      <th>2</th>\n",
       "      <td>20EC38</td>\n",
       "      <td>Funiculì funiculà</td>\n",
       "      <td>Mario Lanza</td>\n",
       "      <td>pop</td>\n",
       "      <td>Saint-Petersburg</td>\n",
       "      <td>20:58:07</td>\n",
       "      <td>Wednesday</td>\n",
       "    </tr>\n",
       "    <tr>\n",
       "      <th>3</th>\n",
       "      <td>A3DD03C9</td>\n",
       "      <td>Dragons in the Sunset</td>\n",
       "      <td>Fire + Ice</td>\n",
       "      <td>folk</td>\n",
       "      <td>Saint-Petersburg</td>\n",
       "      <td>08:37:09</td>\n",
       "      <td>Monday</td>\n",
       "    </tr>\n",
       "    <tr>\n",
       "      <th>4</th>\n",
       "      <td>E2DC1FAE</td>\n",
       "      <td>Soul People</td>\n",
       "      <td>Space Echo</td>\n",
       "      <td>dance</td>\n",
       "      <td>Moscow</td>\n",
       "      <td>08:34:34</td>\n",
       "      <td>Monday</td>\n",
       "    </tr>\n",
       "    <tr>\n",
       "      <th>5</th>\n",
       "      <td>842029A1</td>\n",
       "      <td>Преданная</td>\n",
       "      <td>IMPERVTOR</td>\n",
       "      <td>rusrap</td>\n",
       "      <td>Saint-Petersburg</td>\n",
       "      <td>13:09:41</td>\n",
       "      <td>Friday</td>\n",
       "    </tr>\n",
       "    <tr>\n",
       "      <th>6</th>\n",
       "      <td>4CB90AA5</td>\n",
       "      <td>True</td>\n",
       "      <td>Roman Messer</td>\n",
       "      <td>dance</td>\n",
       "      <td>Moscow</td>\n",
       "      <td>13:00:07</td>\n",
       "      <td>Wednesday</td>\n",
       "    </tr>\n",
       "    <tr>\n",
       "      <th>7</th>\n",
       "      <td>F03E1C1F</td>\n",
       "      <td>Feeling This Way</td>\n",
       "      <td>Polina Griffith</td>\n",
       "      <td>dance</td>\n",
       "      <td>Moscow</td>\n",
       "      <td>20:47:49</td>\n",
       "      <td>Wednesday</td>\n",
       "    </tr>\n",
       "    <tr>\n",
       "      <th>8</th>\n",
       "      <td>8FA1D3BE</td>\n",
       "      <td>И вновь продолжается бой</td>\n",
       "      <td>NaN</td>\n",
       "      <td>ruspop</td>\n",
       "      <td>Moscow</td>\n",
       "      <td>09:17:40</td>\n",
       "      <td>Friday</td>\n",
       "    </tr>\n",
       "    <tr>\n",
       "      <th>9</th>\n",
       "      <td>E772D5C0</td>\n",
       "      <td>Pessimist</td>\n",
       "      <td>NaN</td>\n",
       "      <td>dance</td>\n",
       "      <td>Saint-Petersburg</td>\n",
       "      <td>21:20:49</td>\n",
       "      <td>Wednesday</td>\n",
       "    </tr>\n",
       "  </tbody>\n",
       "</table>\n",
       "</div>"
      ],
      "text/plain": [
       "     userID                        Track            artist   genre  \\\n",
       "0  FFB692EC            Kamigata To Boots  The Mass Missile    rock   \n",
       "1  55204538  Delayed Because of Accident  Andreas Rönnberg    rock   \n",
       "2    20EC38            Funiculì funiculà       Mario Lanza     pop   \n",
       "3  A3DD03C9        Dragons in the Sunset        Fire + Ice    folk   \n",
       "4  E2DC1FAE                  Soul People        Space Echo   dance   \n",
       "5  842029A1                    Преданная         IMPERVTOR  rusrap   \n",
       "6  4CB90AA5                         True      Roman Messer   dance   \n",
       "7  F03E1C1F             Feeling This Way   Polina Griffith   dance   \n",
       "8  8FA1D3BE     И вновь продолжается бой               NaN  ruspop   \n",
       "9  E772D5C0                    Pessimist               NaN   dance   \n",
       "\n",
       "             City        time        Day  \n",
       "0  Saint-Petersburg  20:28:33  Wednesday  \n",
       "1            Moscow  14:07:09     Friday  \n",
       "2  Saint-Petersburg  20:58:07  Wednesday  \n",
       "3  Saint-Petersburg  08:37:09     Monday  \n",
       "4            Moscow  08:34:34     Monday  \n",
       "5  Saint-Petersburg  13:09:41     Friday  \n",
       "6            Moscow  13:00:07  Wednesday  \n",
       "7            Moscow  20:47:49  Wednesday  \n",
       "8            Moscow  09:17:40     Friday  \n",
       "9  Saint-Petersburg  21:20:49  Wednesday  "
      ]
     },
     "execution_count": 483,
     "metadata": {},
     "output_type": "execute_result"
    }
   ],
   "source": [
    "df.head(10)# получение первых 10 строк таблицы df"
   ]
  },
  {
   "cell_type": "markdown",
   "metadata": {
    "deletable": false,
    "editable": false,
    "id": "EO73Kwic_Zct",
    "tags": [
     "start_task"
    ]
   },
   "source": [
    "**Задание 4**\n",
    "\n",
    "\n",
    "Одной командой получить общую информацию о таблице c помощью метода `info()`:"
   ]
  },
  {
   "cell_type": "code",
   "execution_count": 484,
   "metadata": {
    "deletable": false,
    "id": "DSf2kIb-_Zct"
   },
   "outputs": [
    {
     "name": "stdout",
     "output_type": "stream",
     "text": [
      "<class 'pandas.core.frame.DataFrame'>\n",
      "RangeIndex: 65079 entries, 0 to 65078\n",
      "Data columns (total 7 columns):\n",
      " #   Column    Non-Null Count  Dtype \n",
      "---  ------    --------------  ----- \n",
      " 0     userID  65079 non-null  object\n",
      " 1   Track     63848 non-null  object\n",
      " 2   artist    57876 non-null  object\n",
      " 3   genre     63881 non-null  object\n",
      " 4     City    65079 non-null  object\n",
      " 5   time      65079 non-null  object\n",
      " 6   Day       65079 non-null  object\n",
      "dtypes: object(7)\n",
      "memory usage: 3.5+ MB\n"
     ]
    }
   ],
   "source": [
    "df.info()# получение общей информации о данных в таблице df"
   ]
  },
  {
   "cell_type": "markdown",
   "metadata": {
    "deletable": false,
    "editable": false,
    "id": "TaQ2Iwbr_Zct"
   },
   "source": [
    "Итак, в таблице семь столбцов. Тип данных во всех столбцах — `object`.\n",
    "\n",
    "Согласно документации к данным:\n",
    "* `userID` — идентификатор пользователя;\n",
    "* `Track` — название трека;  \n",
    "* `artist` — имя исполнителя;\n",
    "* `genre` — название жанра;\n",
    "* `City` — город пользователя;\n",
    "* `time` — время начала прослушивания;\n",
    "* `Day` — день недели.\n",
    "\n",
    "Количество значений в столбцах различается. Значит, в данных есть пропущенные значения."
   ]
  },
  {
   "cell_type": "markdown",
   "metadata": {
    "deletable": false,
    "editable": false,
    "id": "rAfziTBDmf2h",
    "tags": [
     "start_task"
    ]
   },
   "source": [
    "**Задание 5**\n",
    "\n",
    "**Вопрос со свободной формой ответа**\n",
    "\n",
    "В названиях колонок видны нарушения стиля:\n",
    "* Строчные буквы сочетаются с прописными.\n",
    "* Встречаются пробелы.\n",
    "\n",
    "Какое третье нарушение?"
   ]
  },
  {
   "cell_type": "code",
   "execution_count": 485,
   "metadata": {
    "id": "jD8EXEIvmf2h"
   },
   "outputs": [],
   "source": [
    "#Не применен змеиный тип редактирования прим. usreID, user_id# Напишите ваш ответ здесь комментарием. Не удаляйте символ #. Не меняйте тип этой ячейки на Markdown."
   ]
  },
  {
   "cell_type": "markdown",
   "metadata": {
    "deletable": false,
    "editable": false,
    "id": "MCB6-dXG_Zct"
   },
   "source": [
    "**Выводы**\n",
    "\n",
    "В каждой строке таблицы — данные о прослушанном треке. Часть колонок описывает саму композицию: название, исполнителя и жанр. Остальные данные рассказывают о пользователе: из какого он города, когда он слушал музыку. \n",
    "\n",
    "Предварительно можно утверждать, что данных достаточно для проверки гипотез. Но встречаются пропуски в данных, а в названиях колонок — расхождения с хорошим стилем.\n",
    "\n",
    "Чтобы двигаться дальше, нужно устранить проблемы в данных."
   ]
  },
  {
   "cell_type": "markdown",
   "metadata": {
    "deletable": false,
    "editable": false,
    "id": "SjYF6Ub9_Zct"
   },
   "source": [
    "## Предобработка данных\n",
    "Исправьте стиль в заголовках столбцов, исключите пропуски. Затем проверьте данные на дубликаты."
   ]
  },
  {
   "cell_type": "markdown",
   "metadata": {
    "deletable": false,
    "editable": false,
    "id": "dIaKXr29_Zct",
    "tags": [
     "start_task"
    ]
   },
   "source": [
    "### Стиль заголовков\n",
    "\n",
    "**Задание 6**\n",
    "\n",
    "Выведите на экран названия столбцов:"
   ]
  },
  {
   "cell_type": "code",
   "execution_count": 486,
   "metadata": {
    "deletable": false,
    "id": "oKOTdF_Q_Zct"
   },
   "outputs": [
    {
     "data": {
      "text/plain": [
       "Index(['  userID', 'Track', 'artist', 'genre', '  City  ', 'time', 'Day'], dtype='object')"
      ]
     },
     "execution_count": 486,
     "metadata": {},
     "output_type": "execute_result"
    }
   ],
   "source": [
    "df.columns# перечень названий столбцов таблицы df"
   ]
  },
  {
   "cell_type": "markdown",
   "metadata": {
    "deletable": false,
    "editable": false,
    "id": "zj5534cv_Zct",
    "tags": [
     "start_task"
    ]
   },
   "source": [
    "**Задание 7**\n",
    "\n",
    "\n",
    "Приведите названия в соответствие с хорошим стилем:\n",
    "* несколько слов в названии запишите в «змеином_регистре»,\n",
    "* все символы сделайте строчными,\n",
    "* устраните пробелы.\n",
    "\n",
    "Для этого переименуйте колонки так:\n",
    "* `'  userID'` → `'user_id'`;\n",
    "* `'Track'` → `'track'`;\n",
    "* `'  City  '` → `'city'`;\n",
    "* `'Day'` → `'day'`."
   ]
  },
  {
   "cell_type": "code",
   "execution_count": 487,
   "metadata": {
    "deletable": false,
    "id": "ISlFqs5y_Zct"
   },
   "outputs": [],
   "source": [
    "df = df.rename(columns={'  userID':'user_id','Track':'track','  City  ':'city','Day':'day'}) # переименование столбцов"
   ]
  },
  {
   "cell_type": "markdown",
   "metadata": {
    "deletable": false,
    "editable": false,
    "id": "1dqbh00J_Zct",
    "tags": [
     "start_task"
    ]
   },
   "source": [
    "**Задание 8**\n",
    "\n",
    "\n",
    "Проверьте результат. Для этого ещё раз выведите на экран названия столбцов:"
   ]
  },
  {
   "cell_type": "code",
   "execution_count": 488,
   "metadata": {
    "deletable": false,
    "id": "d4NOAmTW_Zct"
   },
   "outputs": [
    {
     "data": {
      "text/plain": [
       "Index(['user_id', 'track', 'artist', 'genre', 'city', 'time', 'day'], dtype='object')"
      ]
     },
     "execution_count": 488,
     "metadata": {},
     "output_type": "execute_result"
    }
   ],
   "source": [
    "df.columns# проверка результатов - перечень названий столбцов"
   ]
  },
  {
   "cell_type": "markdown",
   "metadata": {
    "deletable": false,
    "editable": false,
    "id": "5ISfbcfY_Zct",
    "tags": [
     "start_task"
    ]
   },
   "source": [
    "### Пропуски значений\n",
    "\n",
    "**Задание 9**\n",
    "\n",
    "Сначала посчитайте, сколько в таблице пропущенных значений. Для этого достаточно двух методов `pandas`:"
   ]
  },
  {
   "cell_type": "code",
   "execution_count": 489,
   "metadata": {
    "deletable": false,
    "id": "RskX29qr_Zct"
   },
   "outputs": [
    {
     "data": {
      "text/plain": [
       "user_id       0\n",
       "track      1231\n",
       "artist     7203\n",
       "genre      1198\n",
       "city          0\n",
       "time          0\n",
       "day           0\n",
       "dtype: int64"
      ]
     },
     "execution_count": 489,
     "metadata": {},
     "output_type": "execute_result"
    }
   ],
   "source": [
    "df.isna().sum()# подсчёт пропусков"
   ]
  },
  {
   "cell_type": "markdown",
   "metadata": {
    "deletable": false,
    "editable": false,
    "id": "qubhgnlO_Zct"
   },
   "source": [
    "Не все пропущенные значения влияют на исследование. Так в `track` и `artist` пропуски не важны для вашей работы. Достаточно заменить их явными обозначениями.\n",
    "\n",
    "Но пропуски в `genre` могут помешать сравнению музыкальных вкусов в Москве и Санкт-Петербурге. На практике было бы правильно установить причину пропусков и восстановить данные. Такой возможности нет в учебном проекте. Придётся:\n",
    "* заполнить и эти пропуски явными обозначениями;\n",
    "* оценить, насколько они повредят расчётам. "
   ]
  },
  {
   "cell_type": "markdown",
   "metadata": {
    "deletable": false,
    "editable": false,
    "id": "fSv2laPA_Zct",
    "tags": [
     "start_task"
    ]
   },
   "source": [
    "**Задание 10**\n",
    "\n",
    "Замените пропущенные значения в столбцах `track`, `artist` и `genre` на строку `'unknown'`. Для этого создайте список `columns_to_replace`, переберите его элементы циклом `for` и для каждого столбца выполните замену пропущенных значений:"
   ]
  },
  {
   "cell_type": "code",
   "execution_count": 490,
   "metadata": {
    "deletable": false,
    "id": "KplB5qWs_Zct"
   },
   "outputs": [],
   "source": [
    "columns_to_replace = ['track','artist','genre']\n",
    "for column in columns_to_replace:\n",
    "    df[column] = df[column].fillna('unknown') # перебор названий столбцов в цикле и замена пропущенных значений на 'unknown'"
   ]
  },
  {
   "cell_type": "markdown",
   "metadata": {
    "deletable": false,
    "editable": false,
    "id": "Ilsm-MZo_Zct",
    "tags": [
     "start_task"
    ]
   },
   "source": [
    "**Задание 11**\n",
    "\n",
    "Убедитесь, что в таблице не осталось пропусков. Для этого ещё раз посчитайте пропущенные значения."
   ]
  },
  {
   "cell_type": "code",
   "execution_count": 491,
   "metadata": {
    "deletable": false,
    "id": "Tq4nYRX4_Zct"
   },
   "outputs": [
    {
     "data": {
      "text/plain": [
       "user_id    0\n",
       "track      0\n",
       "artist     0\n",
       "genre      0\n",
       "city       0\n",
       "time       0\n",
       "day        0\n",
       "dtype: int64"
      ]
     },
     "execution_count": 491,
     "metadata": {},
     "output_type": "execute_result"
    }
   ],
   "source": [
    "df.isna().sum()# подсчёт пропусков"
   ]
  },
  {
   "cell_type": "markdown",
   "metadata": {
    "deletable": false,
    "editable": false,
    "id": "BWKRtBJ3_Zct",
    "tags": [
     "start_task"
    ]
   },
   "source": [
    "### Дубликаты\n",
    "\n",
    "**Задание 12**\n",
    "\n",
    "Посчитайте явные дубликаты в таблице одной командой:"
   ]
  },
  {
   "cell_type": "code",
   "execution_count": 492,
   "metadata": {
    "deletable": false,
    "id": "36eES_S0_Zct"
   },
   "outputs": [
    {
     "data": {
      "text/plain": [
       "3826"
      ]
     },
     "execution_count": 492,
     "metadata": {},
     "output_type": "execute_result"
    }
   ],
   "source": [
    "df.duplicated().sum()# подсчёт явных дубликатов"
   ]
  },
  {
   "cell_type": "markdown",
   "metadata": {
    "deletable": false,
    "editable": false,
    "id": "Ot25h6XR_Zct",
    "tags": [
     "start_task"
    ]
   },
   "source": [
    "**Задание 13**\n",
    "\n",
    "Вызовите специальный метод `pandas`, чтобы удалить явные дубликаты:"
   ]
  },
  {
   "cell_type": "code",
   "execution_count": 493,
   "metadata": {
    "deletable": false,
    "id": "exFHq6tt_Zct"
   },
   "outputs": [],
   "source": [
    "df = df.drop_duplicates().reset_index(drop=True)# удаление явных дубликатов"
   ]
  },
  {
   "cell_type": "markdown",
   "metadata": {
    "deletable": false,
    "editable": false,
    "id": "Im2YwBEG_Zct",
    "tags": [
     "start_task"
    ]
   },
   "source": [
    "**Задание 14**\n",
    "\n",
    "Ещё раз посчитайте явные дубликаты в таблице — убедитесь, что полностью от них избавились:"
   ]
  },
  {
   "cell_type": "code",
   "execution_count": 494,
   "metadata": {
    "deletable": false,
    "id": "-8PuNWQ0_Zct"
   },
   "outputs": [
    {
     "data": {
      "text/plain": [
       "0"
      ]
     },
     "execution_count": 494,
     "metadata": {},
     "output_type": "execute_result"
    }
   ],
   "source": [
    "df.duplicated().sum()# проверка на отсутствие дубликатов"
   ]
  },
  {
   "cell_type": "markdown",
   "metadata": {
    "deletable": false,
    "editable": false,
    "id": "QlFBsxAr_Zct"
   },
   "source": [
    "Теперь избавьтесь от неявных дубликатов в колонке `genre`. Например, название одного и того же жанра может быть записано немного по-разному. Такие ошибки тоже повлияют на результат исследования."
   ]
  },
  {
   "cell_type": "markdown",
   "metadata": {
    "deletable": false,
    "editable": false,
    "id": "eSjWwsOh_Zct",
    "tags": [
     "start_task"
    ]
   },
   "source": [
    "**Задание 15**\n",
    "\n",
    "Выведите на экран список уникальных названий жанров, отсортированный в алфавитном порядке. Для этого:\n",
    "1. извлеките нужный столбец датафрейма; \n",
    "2. примените к нему метод сортировки;\n",
    "3. для отсортированного столбца вызовите метод, который вернёт уникальные значения из столбца."
   ]
  },
  {
   "cell_type": "code",
   "execution_count": 495,
   "metadata": {
    "deletable": false,
    "id": "JIUcqzZN_Zct"
   },
   "outputs": [
    {
     "data": {
      "text/plain": [
       "array(['acid', 'acoustic', 'action', 'adult', 'africa', 'afrikaans',\n",
       "       'alternative', 'alternativepunk', 'ambient', 'americana',\n",
       "       'animated', 'anime', 'arabesk', 'arabic', 'arena',\n",
       "       'argentinetango', 'art', 'audiobook', 'author', 'avantgarde',\n",
       "       'axé', 'baile', 'balkan', 'beats', 'bigroom', 'black', 'bluegrass',\n",
       "       'blues', 'bollywood', 'bossa', 'brazilian', 'breakbeat', 'breaks',\n",
       "       'broadway', 'cantautori', 'cantopop', 'canzone', 'caribbean',\n",
       "       'caucasian', 'celtic', 'chamber', 'chanson', 'children', 'chill',\n",
       "       'chinese', 'choral', 'christian', 'christmas', 'classical',\n",
       "       'classicmetal', 'club', 'colombian', 'comedy', 'conjazz',\n",
       "       'contemporary', 'country', 'cuban', 'dance', 'dancehall',\n",
       "       'dancepop', 'dark', 'death', 'deep', 'deutschrock', 'deutschspr',\n",
       "       'dirty', 'disco', 'dnb', 'documentary', 'downbeat', 'downtempo',\n",
       "       'drum', 'dub', 'dubstep', 'eastern', 'easy', 'electronic',\n",
       "       'electropop', 'emo', 'entehno', 'epicmetal', 'estrada', 'ethnic',\n",
       "       'eurofolk', 'european', 'experimental', 'extrememetal', 'fado',\n",
       "       'fairytail', 'film', 'fitness', 'flamenco', 'folk', 'folklore',\n",
       "       'folkmetal', 'folkrock', 'folktronica', 'forró', 'frankreich',\n",
       "       'französisch', 'french', 'funk', 'future', 'gangsta', 'garage',\n",
       "       'german', 'ghazal', 'gitarre', 'glitch', 'gospel', 'gothic',\n",
       "       'grime', 'grunge', 'gypsy', 'handsup', \"hard'n'heavy\", 'hardcore',\n",
       "       'hardstyle', 'hardtechno', 'hip', 'hip-hop', 'hiphop',\n",
       "       'historisch', 'holiday', 'hop', 'horror', 'house', 'hymn', 'idm',\n",
       "       'independent', 'indian', 'indie', 'indipop', 'industrial',\n",
       "       'inspirational', 'instrumental', 'international', 'irish', 'jam',\n",
       "       'japanese', 'jazz', 'jewish', 'jpop', 'jungle', 'k-pop',\n",
       "       'karadeniz', 'karaoke', 'kayokyoku', 'korean', 'laiko', 'latin',\n",
       "       'latino', 'leftfield', 'local', 'lounge', 'loungeelectronic',\n",
       "       'lovers', 'malaysian', 'mandopop', 'marschmusik', 'meditative',\n",
       "       'mediterranean', 'melodic', 'metal', 'metalcore', 'mexican',\n",
       "       'middle', 'minimal', 'miscellaneous', 'modern', 'mood', 'mpb',\n",
       "       'muslim', 'native', 'neoklassik', 'neue', 'new', 'newage',\n",
       "       'newwave', 'nu', 'nujazz', 'numetal', 'oceania', 'old', 'opera',\n",
       "       'orchestral', 'other', 'piano', 'podcasts', 'pop', 'popdance',\n",
       "       'popelectronic', 'popeurodance', 'poprussian', 'post',\n",
       "       'posthardcore', 'postrock', 'power', 'progmetal', 'progressive',\n",
       "       'psychedelic', 'punjabi', 'punk', 'quebecois', 'ragga', 'ram',\n",
       "       'rancheras', 'rap', 'rave', 'reggae', 'reggaeton', 'regional',\n",
       "       'relax', 'religious', 'retro', 'rhythm', 'rnb', 'rnr', 'rock',\n",
       "       'rockabilly', 'rockalternative', 'rockindie', 'rockother',\n",
       "       'romance', 'roots', 'ruspop', 'rusrap', 'rusrock', 'russian',\n",
       "       'salsa', 'samba', 'scenic', 'schlager', 'self', 'sertanejo',\n",
       "       'shanson', 'shoegazing', 'showtunes', 'singer', 'ska', 'skarock',\n",
       "       'slow', 'smooth', 'soft', 'soul', 'soulful', 'sound', 'soundtrack',\n",
       "       'southern', 'specialty', 'speech', 'spiritual', 'sport',\n",
       "       'stonerrock', 'surf', 'swing', 'synthpop', 'synthrock',\n",
       "       'sängerportrait', 'tango', 'tanzorchester', 'taraftar', 'tatar',\n",
       "       'tech', 'techno', 'teen', 'thrash', 'top', 'traditional',\n",
       "       'tradjazz', 'trance', 'tribal', 'trip', 'triphop', 'tropical',\n",
       "       'türk', 'türkçe', 'ukrrock', 'unknown', 'urban', 'uzbek',\n",
       "       'variété', 'vi', 'videogame', 'vocal', 'western', 'world',\n",
       "       'worldbeat', 'ïîï', 'электроника'], dtype=object)"
      ]
     },
     "execution_count": 495,
     "metadata": {},
     "output_type": "execute_result"
    }
   ],
   "source": [
    "genre_sorted = df['genre'].sort_values().unique()\n",
    "genre_sorted\n",
    "# Просмотр уникальных названий жанров"
   ]
  },
  {
   "cell_type": "markdown",
   "metadata": {
    "deletable": false,
    "editable": false,
    "id": "qej-Qmuo_Zct",
    "tags": [
     "start_task"
    ]
   },
   "source": [
    "**Задание 16**\n",
    "\n",
    "Просмотрите список и найдите неявные дубликаты названия `hiphop`. Это могут быть названия с ошибками или альтернативные названия того же жанра.\n",
    "\n",
    "Вы увидите следующие неявные дубликаты:\n",
    "* *hip*,\n",
    "* *hop*,\n",
    "* *hip-hop*.\n",
    "\n",
    "Чтобы очистить от них таблицу используйте метод `replace()` с двумя аргументами: списком строк-дубликатов (включащий *hip*, *hop* и *hip-hop*) и строкой с правильным значением. Вам нужно исправить колонку `genre` в таблице `df`: заменить каждое значение из списка дубликатов на верное. Вместо `hip`, `hop` и `hip-hop` в таблице должно быть значение `hiphop`:"
   ]
  },
  {
   "cell_type": "code",
   "execution_count": 496,
   "metadata": {
    "deletable": false,
    "id": "ErNDkmns_Zct"
   },
   "outputs": [],
   "source": [
    "duplicates = ['hip','hop','hip-hop']\n",
    "name = 'hiphop'\n",
    "df['genre'] = df['genre'].replace(duplicates, name)# Устранение неявных дубликатов"
   ]
  },
  {
   "cell_type": "markdown",
   "metadata": {
    "deletable": false,
    "editable": false,
    "id": "zQKF16_RG15m",
    "tags": [
     "start_task"
    ]
   },
   "source": [
    "**Задание 17**\n",
    "\n",
    "Проверьте, что заменили неправильные названия:\n",
    "\n",
    "*   hip,\n",
    "*   hop,\n",
    "*   hip-hop.\n",
    "\n",
    "Выведите отсортированный список уникальных значений столбца `genre`:"
   ]
  },
  {
   "cell_type": "code",
   "execution_count": 497,
   "metadata": {
    "deletable": false,
    "id": "wvixALnFG15m"
   },
   "outputs": [
    {
     "data": {
      "text/plain": [
       "array(['acid', 'acoustic', 'action', 'adult', 'africa', 'afrikaans',\n",
       "       'alternative', 'alternativepunk', 'ambient', 'americana',\n",
       "       'animated', 'anime', 'arabesk', 'arabic', 'arena',\n",
       "       'argentinetango', 'art', 'audiobook', 'author', 'avantgarde',\n",
       "       'axé', 'baile', 'balkan', 'beats', 'bigroom', 'black', 'bluegrass',\n",
       "       'blues', 'bollywood', 'bossa', 'brazilian', 'breakbeat', 'breaks',\n",
       "       'broadway', 'cantautori', 'cantopop', 'canzone', 'caribbean',\n",
       "       'caucasian', 'celtic', 'chamber', 'chanson', 'children', 'chill',\n",
       "       'chinese', 'choral', 'christian', 'christmas', 'classical',\n",
       "       'classicmetal', 'club', 'colombian', 'comedy', 'conjazz',\n",
       "       'contemporary', 'country', 'cuban', 'dance', 'dancehall',\n",
       "       'dancepop', 'dark', 'death', 'deep', 'deutschrock', 'deutschspr',\n",
       "       'dirty', 'disco', 'dnb', 'documentary', 'downbeat', 'downtempo',\n",
       "       'drum', 'dub', 'dubstep', 'eastern', 'easy', 'electronic',\n",
       "       'electropop', 'emo', 'entehno', 'epicmetal', 'estrada', 'ethnic',\n",
       "       'eurofolk', 'european', 'experimental', 'extrememetal', 'fado',\n",
       "       'fairytail', 'film', 'fitness', 'flamenco', 'folk', 'folklore',\n",
       "       'folkmetal', 'folkrock', 'folktronica', 'forró', 'frankreich',\n",
       "       'französisch', 'french', 'funk', 'future', 'gangsta', 'garage',\n",
       "       'german', 'ghazal', 'gitarre', 'glitch', 'gospel', 'gothic',\n",
       "       'grime', 'grunge', 'gypsy', 'handsup', \"hard'n'heavy\", 'hardcore',\n",
       "       'hardstyle', 'hardtechno', 'hiphop', 'historisch', 'holiday',\n",
       "       'horror', 'house', 'hymn', 'idm', 'independent', 'indian', 'indie',\n",
       "       'indipop', 'industrial', 'inspirational', 'instrumental',\n",
       "       'international', 'irish', 'jam', 'japanese', 'jazz', 'jewish',\n",
       "       'jpop', 'jungle', 'k-pop', 'karadeniz', 'karaoke', 'kayokyoku',\n",
       "       'korean', 'laiko', 'latin', 'latino', 'leftfield', 'local',\n",
       "       'lounge', 'loungeelectronic', 'lovers', 'malaysian', 'mandopop',\n",
       "       'marschmusik', 'meditative', 'mediterranean', 'melodic', 'metal',\n",
       "       'metalcore', 'mexican', 'middle', 'minimal', 'miscellaneous',\n",
       "       'modern', 'mood', 'mpb', 'muslim', 'native', 'neoklassik', 'neue',\n",
       "       'new', 'newage', 'newwave', 'nu', 'nujazz', 'numetal', 'oceania',\n",
       "       'old', 'opera', 'orchestral', 'other', 'piano', 'podcasts', 'pop',\n",
       "       'popdance', 'popelectronic', 'popeurodance', 'poprussian', 'post',\n",
       "       'posthardcore', 'postrock', 'power', 'progmetal', 'progressive',\n",
       "       'psychedelic', 'punjabi', 'punk', 'quebecois', 'ragga', 'ram',\n",
       "       'rancheras', 'rap', 'rave', 'reggae', 'reggaeton', 'regional',\n",
       "       'relax', 'religious', 'retro', 'rhythm', 'rnb', 'rnr', 'rock',\n",
       "       'rockabilly', 'rockalternative', 'rockindie', 'rockother',\n",
       "       'romance', 'roots', 'ruspop', 'rusrap', 'rusrock', 'russian',\n",
       "       'salsa', 'samba', 'scenic', 'schlager', 'self', 'sertanejo',\n",
       "       'shanson', 'shoegazing', 'showtunes', 'singer', 'ska', 'skarock',\n",
       "       'slow', 'smooth', 'soft', 'soul', 'soulful', 'sound', 'soundtrack',\n",
       "       'southern', 'specialty', 'speech', 'spiritual', 'sport',\n",
       "       'stonerrock', 'surf', 'swing', 'synthpop', 'synthrock',\n",
       "       'sängerportrait', 'tango', 'tanzorchester', 'taraftar', 'tatar',\n",
       "       'tech', 'techno', 'teen', 'thrash', 'top', 'traditional',\n",
       "       'tradjazz', 'trance', 'tribal', 'trip', 'triphop', 'tropical',\n",
       "       'türk', 'türkçe', 'ukrrock', 'unknown', 'urban', 'uzbek',\n",
       "       'variété', 'vi', 'videogame', 'vocal', 'western', 'world',\n",
       "       'worldbeat', 'ïîï', 'электроника'], dtype=object)"
      ]
     },
     "execution_count": 497,
     "metadata": {},
     "output_type": "execute_result"
    }
   ],
   "source": [
    "genre_sorted = df['genre'].sort_values().unique()\n",
    "genre_sorted# Проверка на неявные дубликаты"
   ]
  },
  {
   "cell_type": "markdown",
   "metadata": {
    "deletable": false,
    "editable": false,
    "id": "jz6a9-7HQUDd"
   },
   "source": [
    "**Выводы**\n",
    "\n",
    "Предобработка обнаружила три проблемы в данных:\n",
    "\n",
    "- нарушения в стиле заголовков,\n",
    "- пропущенные значения,\n",
    "- дубликаты — явные и неявные.\n",
    "\n",
    "Вы исправили заголовки, чтобы упростить работу с таблицей. Без дубликатов исследование станет более точным.\n",
    "\n",
    "Пропущенные значения вы заменили на `'unknown'`. Ещё предстоит увидеть, не повредят ли исследованию пропуски в колонке `genre`.\n",
    "\n",
    "Теперь можно перейти к проверке гипотез. "
   ]
  },
  {
   "cell_type": "markdown",
   "metadata": {
    "deletable": false,
    "editable": false,
    "id": "WttZHXH0SqKk"
   },
   "source": [
    "## Проверка гипотез"
   ]
  },
  {
   "cell_type": "markdown",
   "metadata": {
    "deletable": false,
    "editable": false,
    "id": "Im936VVi_Zcu"
   },
   "source": [
    "### Сравнение поведения пользователей двух столиц"
   ]
  },
  {
   "cell_type": "markdown",
   "metadata": {
    "deletable": false,
    "editable": false,
    "id": "nwt_MuaL_Zcu"
   },
   "source": [
    "Первая гипотеза утверждает, что пользователи по-разному слушают музыку в Москве и Санкт-Петербурге. Проверьте это предположение по данным о трёх днях недели — понедельнике, среде и пятнице. Для этого:\n",
    "\n",
    "* Разделите пользователей Москвы и Санкт-Петербурга.\n",
    "* Сравните, сколько треков послушала каждая группа пользователей в понедельник, среду и пятницу.\n"
   ]
  },
  {
   "cell_type": "markdown",
   "metadata": {
    "deletable": false,
    "editable": false,
    "id": "8Dw_YMmT_Zcu",
    "tags": [
     "start_task"
    ]
   },
   "source": [
    "**Задание 18**\n",
    "\n",
    "Для тренировки сначала выполните каждый из расчётов по отдельности. \n",
    "\n",
    "Оцените активность пользователей в каждом городе. Сгруппируйте данные по городу и посчитайте прослушивания в каждой группе.\n",
    "\n"
   ]
  },
  {
   "cell_type": "code",
   "execution_count": 498,
   "metadata": {
    "deletable": false,
    "id": "0_Qs96oh_Zcu"
   },
   "outputs": [
    {
     "data": {
      "text/plain": [
       "city\n",
       "Moscow              42741\n",
       "Saint-Petersburg    18512\n",
       "Name: time, dtype: int64"
      ]
     },
     "execution_count": 498,
     "metadata": {},
     "output_type": "execute_result"
    }
   ],
   "source": [
    "df.groupby('city')['time'].count()# Подсчёт прослушиваний в каждом городе"
   ]
  },
  {
   "cell_type": "markdown",
   "metadata": {
    "deletable": false,
    "editable": false,
    "id": "dzli3w8o_Zcu",
    "tags": [
     "start_task"
    ]
   },
   "source": [
    "В Москве прослушиваний больше, чем в Петербурге. Из этого не следует, что московские пользователи чаще слушают музыку. Просто самих пользователей в Москве больше.\n",
    "\n",
    "**Задание 19**\n",
    "\n",
    "Теперь сгруппируйте данные по дню недели и посчитайте прослушивания в понедельник, среду и пятницу. Учтите, что в данных есть информация о прослушиваниях только за эти дни.\n"
   ]
  },
  {
   "cell_type": "code",
   "execution_count": 499,
   "metadata": {
    "deletable": false,
    "id": "uZMKjiJz_Zcu"
   },
   "outputs": [
    {
     "data": {
      "text/plain": [
       "day\n",
       "Friday       21840\n",
       "Monday       21354\n",
       "Wednesday    18059\n",
       "Name: time, dtype: int64"
      ]
     },
     "execution_count": 499,
     "metadata": {},
     "output_type": "execute_result"
    }
   ],
   "source": [
    "df.groupby('day',)['time'].count()# Подсчёт прослушиваний в каждый из трёх дней"
   ]
  },
  {
   "cell_type": "markdown",
   "metadata": {
    "deletable": false,
    "editable": false,
    "id": "cC2tNrlL_Zcu"
   },
   "source": [
    "В среднем пользователи из двух городов менее активны по средам. Но картина может измениться, если рассмотреть каждый город в отдельности."
   ]
  },
  {
   "cell_type": "markdown",
   "metadata": {
    "deletable": false,
    "editable": false,
    "id": "POzs8bGa_Zcu",
    "tags": [
     "start_task"
    ]
   },
   "source": [
    "**Задание 20**\n",
    "\n",
    "\n",
    "Вы видели, как работает группировка по городу и по дням недели. Теперь напишите функцию, которая объединит два эти расчёта.\n",
    "\n",
    "Создайте функцию `number_tracks()`, которая посчитает прослушивания для заданного дня и города. Ей понадобятся два параметра:\n",
    "* день недели,\n",
    "* название города.\n",
    "\n",
    "В функции сохраните в переменную строки исходной таблицы, у которых значение:\n",
    "  * в колонке `day` равно параметру `day`,\n",
    "  * в колонке `city` равно параметру `city`.\n",
    "\n",
    "Для этого примените последовательную фильтрацию с логической индексацией (или сложные логические выражения в одну строку, если вы уже знакомы с ними).\n",
    "\n",
    "Затем посчитайте значения в столбце `user_id` получившейся таблицы. Результат сохраните в новую переменную. Верните эту переменную из функции."
   ]
  },
  {
   "cell_type": "code",
   "execution_count": 500,
   "metadata": {
    "deletable": false,
    "id": "Nz3GdQB1_Zcu"
   },
   "outputs": [],
   "source": [
    "def number_tracks(day, city):\n",
    "    track_list = df.loc[df.loc[:,'day'] == day]\n",
    "    track_list = track_list.loc[track_list.loc[:,'city'] == city]\n",
    "    track_list_count = track_list['user_id'].count()\n",
    "    return track_list_count\n",
    "    \n",
    "# Объявляется функция с двумя параметрами: day, city.\n",
    "# В переменной track_list сохраняются те строки таблицы df, для которых \n",
    "# значение в столбце 'day' равно параметру day и одновременно значение\n",
    "# в столбце 'city' равно параметру city (используйте последовательную фильтрацию\n",
    "# с помощью логической индексации или сложные логические выражения в одну строку, если вы уже знакомы с ними).\n",
    "# В переменной track_list_count сохраняется число значений столбца 'user_id',\n",
    "# рассчитанное методом count() для таблицы track_list.\n",
    "# Функция возвращает число - значение track_list_count.\n",
    "\n",
    "# Функция для подсчёта прослушиваний для конкретного города и дня.\n",
    "# С помощью последовательной фильтрации с логической индексацией она \n",
    "# сначала получит из исходной таблицы строки с нужным днём,\n",
    "# затем из результата отфильтрует строки с нужным городом,\n",
    "# методом count() посчитает количество значений в колонке user_id. \n",
    "# Это количество функция вернёт в качестве результата"
   ]
  },
  {
   "cell_type": "markdown",
   "metadata": {
    "deletable": false,
    "editable": false,
    "id": "ytf7xFrFJQ2r",
    "tags": [
     "start_task"
    ]
   },
   "source": [
    "**Задание 21**\n",
    "\n",
    "Вызовите `number_tracks()` шесть раз, меняя значение параметров — так, чтобы получить данные для каждого города в каждый из трёх дней."
   ]
  },
  {
   "cell_type": "code",
   "execution_count": 501,
   "metadata": {
    "deletable": false,
    "id": "rJcRATNQ_Zcu"
   },
   "outputs": [
    {
     "data": {
      "text/plain": [
       "15740"
      ]
     },
     "execution_count": 501,
     "metadata": {},
     "output_type": "execute_result"
    }
   ],
   "source": [
    "number_tracks('Monday', 'Moscow')# количество прослушиваний в Москве по понедельникам"
   ]
  },
  {
   "cell_type": "code",
   "execution_count": 502,
   "metadata": {
    "deletable": false,
    "id": "hq_ncZ5T_Zcu"
   },
   "outputs": [
    {
     "data": {
      "text/plain": [
       "5614"
      ]
     },
     "execution_count": 502,
     "metadata": {},
     "output_type": "execute_result"
    }
   ],
   "source": [
    "number_tracks('Monday', 'Saint-Petersburg')# количество прослушиваний в Санкт-Петербурге по понедельникам# количество прослушиваний в Санкт-Петербурге по понедельникам"
   ]
  },
  {
   "cell_type": "code",
   "execution_count": 503,
   "metadata": {
    "deletable": false,
    "id": "_NTy2VPU_Zcu"
   },
   "outputs": [
    {
     "data": {
      "text/plain": [
       "11056"
      ]
     },
     "execution_count": 503,
     "metadata": {},
     "output_type": "execute_result"
    }
   ],
   "source": [
    "number_tracks('Wednesday', 'Moscow')# количество прослушиваний в Москве по средам"
   ]
  },
  {
   "cell_type": "code",
   "execution_count": 504,
   "metadata": {
    "deletable": false,
    "id": "j2y3TAwo_Zcu"
   },
   "outputs": [
    {
     "data": {
      "text/plain": [
       "7003"
      ]
     },
     "execution_count": 504,
     "metadata": {},
     "output_type": "execute_result"
    }
   ],
   "source": [
    "number_tracks('Wednesday', 'Saint-Petersburg')# количество прослушиваний в Санкт-Петербурге по средам"
   ]
  },
  {
   "cell_type": "code",
   "execution_count": 505,
   "metadata": {
    "deletable": false,
    "id": "vYDw5u_K_Zcu"
   },
   "outputs": [
    {
     "data": {
      "text/plain": [
       "15945"
      ]
     },
     "execution_count": 505,
     "metadata": {},
     "output_type": "execute_result"
    }
   ],
   "source": [
    "number_tracks('Friday', 'Moscow')# количество прослушиваний в Москве по пятницам"
   ]
  },
  {
   "cell_type": "code",
   "execution_count": 506,
   "metadata": {
    "deletable": false,
    "id": "8_yzFtW3_Zcu"
   },
   "outputs": [
    {
     "data": {
      "text/plain": [
       "5895"
      ]
     },
     "execution_count": 506,
     "metadata": {},
     "output_type": "execute_result"
    }
   ],
   "source": [
    "number_tracks('Friday', 'Saint-Petersburg')# количество прослушиваний в Санкт-Петербурге по пятницам"
   ]
  },
  {
   "cell_type": "markdown",
   "metadata": {
    "deletable": false,
    "editable": false,
    "id": "7QXffbO-_Zcu",
    "tags": [
     "start_task"
    ]
   },
   "source": [
    "**Задание 22**\n",
    "\n",
    "Создайте c помощью конструктора `pd.DataFrame` таблицу, где\n",
    "* названия колонок — `['city', 'monday', 'wednesday', 'friday']`;\n",
    "* данные — результаты, которые вы получили с помощью `number_tracks`."
   ]
  },
  {
   "cell_type": "code",
   "execution_count": 507,
   "metadata": {
    "deletable": false,
    "id": "APAcLpOr_Zcu"
   },
   "outputs": [],
   "source": [
    "data = [\n",
    "    ['Moscow', '15740', '11056', '15945'],\n",
    "    ['Saint-Petersburg', '5614', '7003', '5895']\n",
    "]\n",
    "columns = ['city', 'monday', 'wednesday', 'friday']\n",
    "music_time = pd.DataFrame(data = data, columns = columns)\n",
    "# Таблица с результатами"
   ]
  },
  {
   "cell_type": "markdown",
   "metadata": {
    "deletable": false,
    "editable": false,
    "id": "-EgPIHYu_Zcu"
   },
   "source": [
    "**Выводы**\n",
    "\n",
    "Данные показывают разницу поведения пользователей:\n",
    "\n",
    "- В Москве пик прослушиваний приходится на понедельник и пятницу, а в среду заметен спад.\n",
    "- В Петербурге, наоборот, больше слушают музыку по средам. Активность в понедельник и пятницу здесь почти в равной мере уступает среде.\n",
    "\n",
    "Значит, данные говорят в пользу первой гипотезы."
   ]
  },
  {
   "cell_type": "markdown",
   "metadata": {
    "deletable": false,
    "editable": false,
    "id": "atZAxtq4_Zcu"
   },
   "source": [
    "### Музыка в начале и в конце недели"
   ]
  },
  {
   "cell_type": "markdown",
   "metadata": {
    "deletable": false,
    "editable": false,
    "id": "eXrQqXFH_Zcu"
   },
   "source": [
    "Согласно второй гипотезе, утром в понедельник в Москве преобладают одни жанры, а в Петербурге — другие. Так же и вечером пятницы преобладают разные жанры — в зависимости от города."
   ]
  },
  {
   "cell_type": "markdown",
   "metadata": {
    "deletable": false,
    "editable": false,
    "id": "S8UcW6Hw_Zcu",
    "tags": [
     "start_task"
    ]
   },
   "source": [
    "**Задание 23**\n",
    "\n",
    "Сохраните таблицы с данными в две переменные:\n",
    "* по Москве — в `moscow_general`;\n",
    "* по Санкт-Петербургу — в `spb_general`."
   ]
  },
  {
   "cell_type": "code",
   "execution_count": 521,
   "metadata": {
    "deletable": false,
    "id": "qeaFfM_P_Zcu"
   },
   "outputs": [
    {
     "data": {
      "text/html": [
       "<div>\n",
       "<style scoped>\n",
       "    .dataframe tbody tr th:only-of-type {\n",
       "        vertical-align: middle;\n",
       "    }\n",
       "\n",
       "    .dataframe tbody tr th {\n",
       "        vertical-align: top;\n",
       "    }\n",
       "\n",
       "    .dataframe thead th {\n",
       "        text-align: right;\n",
       "    }\n",
       "</style>\n",
       "<table border=\"1\" class=\"dataframe\">\n",
       "  <thead>\n",
       "    <tr style=\"text-align: right;\">\n",
       "      <th></th>\n",
       "      <th>user_id</th>\n",
       "      <th>track</th>\n",
       "      <th>artist</th>\n",
       "      <th>genre</th>\n",
       "      <th>city</th>\n",
       "      <th>time</th>\n",
       "      <th>day</th>\n",
       "    </tr>\n",
       "  </thead>\n",
       "  <tbody>\n",
       "    <tr>\n",
       "      <th>1</th>\n",
       "      <td>55204538</td>\n",
       "      <td>Delayed Because of Accident</td>\n",
       "      <td>Andreas Rönnberg</td>\n",
       "      <td>rock</td>\n",
       "      <td>Moscow</td>\n",
       "      <td>14:07:09</td>\n",
       "      <td>Friday</td>\n",
       "    </tr>\n",
       "    <tr>\n",
       "      <th>4</th>\n",
       "      <td>E2DC1FAE</td>\n",
       "      <td>Soul People</td>\n",
       "      <td>Space Echo</td>\n",
       "      <td>dance</td>\n",
       "      <td>Moscow</td>\n",
       "      <td>08:34:34</td>\n",
       "      <td>Monday</td>\n",
       "    </tr>\n",
       "    <tr>\n",
       "      <th>6</th>\n",
       "      <td>4CB90AA5</td>\n",
       "      <td>True</td>\n",
       "      <td>Roman Messer</td>\n",
       "      <td>dance</td>\n",
       "      <td>Moscow</td>\n",
       "      <td>13:00:07</td>\n",
       "      <td>Wednesday</td>\n",
       "    </tr>\n",
       "    <tr>\n",
       "      <th>7</th>\n",
       "      <td>F03E1C1F</td>\n",
       "      <td>Feeling This Way</td>\n",
       "      <td>Polina Griffith</td>\n",
       "      <td>dance</td>\n",
       "      <td>Moscow</td>\n",
       "      <td>20:47:49</td>\n",
       "      <td>Wednesday</td>\n",
       "    </tr>\n",
       "    <tr>\n",
       "      <th>8</th>\n",
       "      <td>8FA1D3BE</td>\n",
       "      <td>И вновь продолжается бой</td>\n",
       "      <td>unknown</td>\n",
       "      <td>ruspop</td>\n",
       "      <td>Moscow</td>\n",
       "      <td>09:17:40</td>\n",
       "      <td>Friday</td>\n",
       "    </tr>\n",
       "    <tr>\n",
       "      <th>...</th>\n",
       "      <td>...</td>\n",
       "      <td>...</td>\n",
       "      <td>...</td>\n",
       "      <td>...</td>\n",
       "      <td>...</td>\n",
       "      <td>...</td>\n",
       "      <td>...</td>\n",
       "    </tr>\n",
       "    <tr>\n",
       "      <th>61247</th>\n",
       "      <td>83A474E7</td>\n",
       "      <td>I Worship Only What You Bleed</td>\n",
       "      <td>The Black Dahlia Murder</td>\n",
       "      <td>extrememetal</td>\n",
       "      <td>Moscow</td>\n",
       "      <td>21:07:12</td>\n",
       "      <td>Monday</td>\n",
       "    </tr>\n",
       "    <tr>\n",
       "      <th>61248</th>\n",
       "      <td>729CBB09</td>\n",
       "      <td>My Name</td>\n",
       "      <td>McLean</td>\n",
       "      <td>rnb</td>\n",
       "      <td>Moscow</td>\n",
       "      <td>13:32:28</td>\n",
       "      <td>Wednesday</td>\n",
       "    </tr>\n",
       "    <tr>\n",
       "      <th>61250</th>\n",
       "      <td>C5E3A0D5</td>\n",
       "      <td>Jalopiina</td>\n",
       "      <td>unknown</td>\n",
       "      <td>industrial</td>\n",
       "      <td>Moscow</td>\n",
       "      <td>20:09:26</td>\n",
       "      <td>Friday</td>\n",
       "    </tr>\n",
       "    <tr>\n",
       "      <th>61251</th>\n",
       "      <td>321D0506</td>\n",
       "      <td>Freight Train</td>\n",
       "      <td>Chas McDevitt</td>\n",
       "      <td>rock</td>\n",
       "      <td>Moscow</td>\n",
       "      <td>21:43:59</td>\n",
       "      <td>Friday</td>\n",
       "    </tr>\n",
       "    <tr>\n",
       "      <th>61252</th>\n",
       "      <td>3A64EF84</td>\n",
       "      <td>Tell Me Sweet Little Lies</td>\n",
       "      <td>Monica Lopez</td>\n",
       "      <td>country</td>\n",
       "      <td>Moscow</td>\n",
       "      <td>21:59:46</td>\n",
       "      <td>Friday</td>\n",
       "    </tr>\n",
       "  </tbody>\n",
       "</table>\n",
       "<p>42741 rows × 7 columns</p>\n",
       "</div>"
      ],
      "text/plain": [
       "        user_id                          track                   artist  \\\n",
       "1      55204538    Delayed Because of Accident         Andreas Rönnberg   \n",
       "4      E2DC1FAE                    Soul People               Space Echo   \n",
       "6      4CB90AA5                           True             Roman Messer   \n",
       "7      F03E1C1F               Feeling This Way          Polina Griffith   \n",
       "8      8FA1D3BE       И вновь продолжается бой                  unknown   \n",
       "...         ...                            ...                      ...   \n",
       "61247  83A474E7  I Worship Only What You Bleed  The Black Dahlia Murder   \n",
       "61248  729CBB09                        My Name                   McLean   \n",
       "61250  C5E3A0D5                      Jalopiina                  unknown   \n",
       "61251  321D0506                  Freight Train            Chas McDevitt   \n",
       "61252  3A64EF84      Tell Me Sweet Little Lies             Monica Lopez   \n",
       "\n",
       "              genre    city      time        day  \n",
       "1              rock  Moscow  14:07:09     Friday  \n",
       "4             dance  Moscow  08:34:34     Monday  \n",
       "6             dance  Moscow  13:00:07  Wednesday  \n",
       "7             dance  Moscow  20:47:49  Wednesday  \n",
       "8            ruspop  Moscow  09:17:40     Friday  \n",
       "...             ...     ...       ...        ...  \n",
       "61247  extrememetal  Moscow  21:07:12     Monday  \n",
       "61248           rnb  Moscow  13:32:28  Wednesday  \n",
       "61250    industrial  Moscow  20:09:26     Friday  \n",
       "61251          rock  Moscow  21:43:59     Friday  \n",
       "61252       country  Moscow  21:59:46     Friday  \n",
       "\n",
       "[42741 rows x 7 columns]"
      ]
     },
     "execution_count": 521,
     "metadata": {},
     "output_type": "execute_result"
    }
   ],
   "source": [
    "moscow_general = df[df['city'] == 'Moscow']\n",
    "moscow_general\n",
    "# получение таблицы moscow_general из тех строк таблицы df, \n",
    "# для которых значение в столбце 'city' равно 'Moscow'\n"
   ]
  },
  {
   "cell_type": "code",
   "execution_count": 509,
   "metadata": {
    "deletable": false,
    "id": "ORaVRKto_Zcu"
   },
   "outputs": [],
   "source": [
    "spb_general = df[df['city'] == 'Saint-Petersburg'] \n",
    "# получение таблицы spb_general из тех строк таблицы df,\n",
    "# для которых значение в столбце 'city' равно 'Saint-Petersburg'\n"
   ]
  },
  {
   "cell_type": "markdown",
   "metadata": {
    "deletable": false,
    "editable": false,
    "id": "MEJV-CX2_Zcu",
    "tags": [
     "start_task"
    ]
   },
   "source": [
    "**Задание 24**\n",
    "\n",
    "Создайте функцию `genre_weekday()` с четырьмя параметрами:\n",
    "* таблица (датафрейм) с данными,\n",
    "* день недели,\n",
    "* начальная временная метка в формате 'hh:mm', \n",
    "* последняя временная метка в формате 'hh:mm'.\n",
    "\n",
    "Функция должна вернуть информацию о топ-10 жанров тех треков, которые прослушивали в указанный день, в промежутке между двумя отметками времени."
   ]
  },
  {
   "cell_type": "code",
   "execution_count": 510,
   "metadata": {
    "deletable": false,
    "id": "laJT9BYl_Zcu"
   },
   "outputs": [],
   "source": [
    "# Объявление функции genre_weekday() с параметрами table, day, time1, time2,\n",
    "# которая возвращает информацию о самых популярных жанрах в указанный день в\n",
    "# заданное время:\n",
    "# 1) в переменную genre_df сохраняются те строки переданного датафрейма table, для\n",
    "#    которых одновременно:\n",
    "#    - значение в столбце day равно значению аргумента day\n",
    "#    - значение в столбце time больше значения аргумента time1\n",
    "#    - значение в столбце time меньше значения аргумента time2\n",
    "#    Используйте последовательную фильтрацию с помощью логической индексации.\n",
    "# 2) сгруппировать датафрейм genre_df по столбцу genre, взять один из его\n",
    "#    столбцов и посчитать методом count() количество записей для каждого из\n",
    "#    присутствующих жанров, получившийся Series записать в переменную\n",
    "#    genre_df_count\n",
    "# 3) отсортировать genre_df_count по убыванию встречаемости и сохранить\n",
    "#    в переменную genre_df_sorted\n",
    "# 4) вернуть Series из 10 первых значений genre_df_sorted, это будут топ-10\n",
    "#    популярных жанров (в указанный день, в заданное время)\n",
    "\n",
    "def genre_weekday(df, day, time1, time2):\n",
    "    # последовательная фильтрация\n",
    "    # оставляем в genre_df только те строки df, у которых день равен day\n",
    "    genre_df = df[df['day'] == day] # ваш код здесь\n",
    "    # оставляем в genre_df только те строки genre_df, у которых время меньше time2\n",
    "    genre_df = genre_df[genre_df['time'] < time2]# ваш код здесь\n",
    "    # оставляем в genre_df только те строки genre_df, у которых время больше time1\n",
    "    genre_df = genre_df[genre_df['time'] > time1]# ваш код здесь\n",
    "    # сгруппируем отфильтрованный датафрейм по столбцу с названиями жанров, возьмём столбец genre и посчитаем кол-во строк для каждого жанра методом count()\n",
    "    genre_df_grouped = genre_df.groupby('genre')['genre'].count()# ваш код здесь\n",
    "    # отсортируем результат по убыванию (чтобы в начале Series оказались самые популярные жанры)\n",
    "    genre_df_sorted = genre_df_grouped.sort_values(ascending=False) # ваш код здесь\n",
    "    # вернём Series с 10 самыми популярными жанрами в указанный отрезок времени заданного дня\n",
    "    return genre_df_sorted[:10]   \n"
   ]
  },
  {
   "cell_type": "markdown",
   "metadata": {
    "deletable": false,
    "editable": false,
    "id": "la2s2_PF_Zcu",
    "tags": [
     "start_task"
    ]
   },
   "source": [
    "**Задание 25**\n",
    "\n",
    "\n",
    "Cравните результаты функции `genre_weekday()` для Москвы и Санкт-Петербурга в понедельник утром (с 7:00 до 11:00) и в пятницу вечером (с 17:00 до 23:00):"
   ]
  },
  {
   "cell_type": "code",
   "execution_count": 511,
   "metadata": {
    "deletable": false,
    "id": "yz7itPUQ_Zcu"
   },
   "outputs": [
    {
     "data": {
      "text/plain": [
       "genre\n",
       "pop            781\n",
       "dance          549\n",
       "electronic     480\n",
       "rock           474\n",
       "hiphop         286\n",
       "ruspop         186\n",
       "world          181\n",
       "rusrap         175\n",
       "alternative    164\n",
       "unknown        161\n",
       "Name: genre, dtype: int64"
      ]
     },
     "execution_count": 511,
     "metadata": {},
     "output_type": "execute_result"
    }
   ],
   "source": [
    "genre_weekday(moscow_general, 'Monday', '07:00', '11:00')# вызов функции для утра понедельника в Москве (вместо df — таблица moscow_general)\n",
    "# объекты, хранящие время, являются строками и сравниваются как строки\n",
    "# пример вызова: genre_weekday(moscow_general, 'Monday', '07:00', '11:00')"
   ]
  },
  {
   "cell_type": "code",
   "execution_count": 512,
   "metadata": {
    "deletable": false,
    "id": "kwUcHPdy_Zcu"
   },
   "outputs": [
    {
     "data": {
      "text/plain": [
       "genre\n",
       "pop            218\n",
       "dance          182\n",
       "rock           162\n",
       "electronic     147\n",
       "hiphop          80\n",
       "ruspop          64\n",
       "alternative     58\n",
       "rusrap          55\n",
       "jazz            44\n",
       "classical       40\n",
       "Name: genre, dtype: int64"
      ]
     },
     "execution_count": 512,
     "metadata": {},
     "output_type": "execute_result"
    }
   ],
   "source": [
    "genre_weekday(spb_general, 'Monday', '07:00', '11:00')# вызов функции для утра понедельника в Петербурге (вместо df — таблица spb_general)"
   ]
  },
  {
   "cell_type": "code",
   "execution_count": 513,
   "metadata": {
    "deletable": false,
    "id": "EzXVRE1o_Zcu"
   },
   "outputs": [
    {
     "data": {
      "text/plain": [
       "genre\n",
       "pop            713\n",
       "rock           517\n",
       "dance          495\n",
       "electronic     482\n",
       "hiphop         273\n",
       "world          208\n",
       "ruspop         170\n",
       "alternative    163\n",
       "classical      163\n",
       "rusrap         142\n",
       "Name: genre, dtype: int64"
      ]
     },
     "execution_count": 513,
     "metadata": {},
     "output_type": "execute_result"
    }
   ],
   "source": [
    "genre_weekday(moscow_general, 'Friday', '17:00', '23:00')# вызов функции для вечера пятницы в Москве"
   ]
  },
  {
   "cell_type": "code",
   "execution_count": 514,
   "metadata": {
    "deletable": false,
    "id": "JZaEKu5v_Zcu"
   },
   "outputs": [
    {
     "data": {
      "text/plain": [
       "genre\n",
       "pop            256\n",
       "electronic     216\n",
       "rock           216\n",
       "dance          210\n",
       "hiphop          97\n",
       "alternative     63\n",
       "jazz            61\n",
       "classical       60\n",
       "rusrap          59\n",
       "world           54\n",
       "Name: genre, dtype: int64"
      ]
     },
     "execution_count": 514,
     "metadata": {},
     "output_type": "execute_result"
    }
   ],
   "source": [
    "genre_weekday(spb_general, 'Friday', '17:00', '23:00')# вызов функции для вечера пятницы в Петербурге"
   ]
  },
  {
   "cell_type": "markdown",
   "metadata": {
    "deletable": false,
    "editable": false,
    "id": "wrCe4MNX_Zcu"
   },
   "source": [
    "**Выводы**\n",
    "\n",
    "Если сравнить топ-10 жанров в понедельник утром, можно сделать такие выводы:\n",
    "\n",
    "1. В Москве и Петербурге слушают похожую музыку. Единственное отличие — в московский рейтинг вошёл жанр “world”, а в петербургский — джаз и классика.\n",
    "\n",
    "2. В Москве пропущенных значений оказалось так много, что значение `'unknown'` заняло десятое место среди самых популярных жанров. Значит, пропущенные значения занимают существенную долю в данных и угрожают достоверности исследования.\n",
    "\n",
    "Вечер пятницы не меняет эту картину. Некоторые жанры поднимаются немного выше, другие спускаются, но в целом топ-10 остаётся тем же самым.\n",
    "\n",
    "Таким образом, вторая гипотеза подтвердилась лишь частично:\n",
    "* Пользователи слушают похожую музыку в начале недели и в конце.\n",
    "* Разница между Москвой и Петербургом не слишком выражена. В Москве чаще слушают русскую популярную музыку, в Петербурге — джаз.\n",
    "\n",
    "Однако пропуски в данных ставят под сомнение этот результат. В Москве их так много, что рейтинг топ-10 мог бы выглядеть иначе, если бы не утерянные  данные о жанрах."
   ]
  },
  {
   "cell_type": "markdown",
   "metadata": {
    "deletable": false,
    "editable": false,
    "id": "JolODAqr_Zcu"
   },
   "source": [
    "### Жанровые предпочтения в Москве и Петербурге\n",
    "\n",
    "Гипотеза: Петербург — столица рэпа, музыку этого жанра там слушают чаще, чем в Москве.  А Москва — город контрастов, в котором, тем не менее, преобладает поп-музыка."
   ]
  },
  {
   "cell_type": "markdown",
   "metadata": {
    "deletable": false,
    "editable": false,
    "id": "DlegSvaT_Zcu",
    "tags": [
     "start_task"
    ]
   },
   "source": [
    "**Задание 26**\n",
    "\n",
    "Сгруппируйте таблицу `moscow_general` по жанру и посчитайте прослушивания треков каждого жанра методом `count()`. Затем отсортируйте результат в порядке убывания и сохраните его в таблице `moscow_genres`."
   ]
  },
  {
   "cell_type": "code",
   "execution_count": 522,
   "metadata": {
    "deletable": false,
    "id": "r19lIPke_Zcu"
   },
   "outputs": [],
   "source": [
    "moscow_genres = moscow_general.groupby('genre')['genre'].count()# одной строкой: группировка таблицы moscow_general по столбцу 'genre', \n",
    "# подсчёт числа значений 'genre' в этой группировке методом count(), \n",
    "moscow_genres = moscow_genres.sort_values(ascending = False)\n",
    "# сортировка получившегося Series в порядке убывания и сохранение в moscow_genres"
   ]
  },
  {
   "cell_type": "markdown",
   "metadata": {
    "deletable": false,
    "editable": false,
    "id": "6kMuomxTiIr8",
    "tags": [
     "start_task"
    ]
   },
   "source": [
    "**Задание 27**\n",
    "\n",
    "Выведите на экран первые десять строк `moscow_genres`:"
   ]
  },
  {
   "cell_type": "code",
   "execution_count": 519,
   "metadata": {
    "deletable": false,
    "id": "WhCSooF8_Zcv"
   },
   "outputs": [
    {
     "data": {
      "text/plain": [
       "genre\n",
       "pop            5892\n",
       "dance          4435\n",
       "rock           3965\n",
       "electronic     3786\n",
       "hiphop         2096\n",
       "classical      1616\n",
       "world          1432\n",
       "alternative    1379\n",
       "ruspop         1372\n",
       "rusrap         1161\n",
       "Name: genre, dtype: int64"
      ]
     },
     "execution_count": 519,
     "metadata": {},
     "output_type": "execute_result"
    }
   ],
   "source": [
    "moscow_genres.head(10)# просмотр первых 10 строк moscow_genres"
   ]
  },
  {
   "cell_type": "markdown",
   "metadata": {
    "deletable": false,
    "editable": false,
    "id": "cnPG2vnN_Zcv",
    "tags": [
     "start_task"
    ]
   },
   "source": [
    "**Задание 28**\n",
    "\n",
    "\n",
    "Теперь повторите то же и для Петербурга.\n",
    "\n",
    "Сгруппируйте таблицу `spb_general` по жанру. Посчитайте прослушивания треков каждого жанра. Результат отсортируйте в порядке убывания и сохраните в таблице `spb_genres`:\n"
   ]
  },
  {
   "cell_type": "code",
   "execution_count": 523,
   "metadata": {
    "deletable": false,
    "id": "gluLIpE7_Zcv"
   },
   "outputs": [],
   "source": [
    "spb_genres = spb_general.groupby('genre')['genre'].count()\n",
    "spb_genres = spb_genres.sort_values(ascending = False)\n",
    "# одной строкой: группировка таблицы spb_general по столбцу 'genre', \n",
    "# подсчёт числа значений 'genre' в этой группировке методом count(), \n",
    "# сортировка получившегося Series в порядке убывания и сохранение в spb_genres"
   ]
  },
  {
   "cell_type": "markdown",
   "metadata": {
    "deletable": false,
    "editable": false,
    "id": "5Doha_ODgyQ8",
    "tags": [
     "start_task"
    ]
   },
   "source": [
    "**Задание 29**\n",
    "\n",
    "Выведите на экран первые десять строк `spb_genres`:"
   ]
  },
  {
   "cell_type": "code",
   "execution_count": 524,
   "metadata": {
    "deletable": false,
    "id": "uaGJHjVU_Zcv"
   },
   "outputs": [
    {
     "data": {
      "text/plain": [
       "genre\n",
       "pop            2431\n",
       "dance          1932\n",
       "rock           1879\n",
       "electronic     1736\n",
       "hiphop          960\n",
       "alternative     649\n",
       "classical       646\n",
       "rusrap          564\n",
       "ruspop          538\n",
       "world           515\n",
       "Name: genre, dtype: int64"
      ]
     },
     "execution_count": 524,
     "metadata": {},
     "output_type": "execute_result"
    }
   ],
   "source": [
    "spb_genres.head(10)# просмотр первых 10 строк spb_genres"
   ]
  },
  {
   "cell_type": "markdown",
   "metadata": {
    "deletable": false,
    "editable": false,
    "id": "RY51YJYu_Zcv"
   },
   "source": [
    "**Выводы**"
   ]
  },
  {
   "cell_type": "markdown",
   "metadata": {
    "deletable": false,
    "editable": false,
    "id": "nVhnJEm__Zcv"
   },
   "source": [
    "Гипотеза частично подтвердилась:\n",
    "* Поп-музыка — самый популярный жанр в Москве, как и предполагала гипотеза. Более того, в топ-10 жанров встречается близкий жанр — русская популярная музыка.\n",
    "* Вопреки ожиданиям, рэп одинаково популярен в Москве и Петербурге. \n"
   ]
  },
  {
   "cell_type": "markdown",
   "metadata": {
    "deletable": false,
    "editable": false,
    "id": "ykKQ0N65_Zcv"
   },
   "source": [
    "## Итоги исследования"
   ]
  },
  {
   "cell_type": "markdown",
   "metadata": {
    "deletable": false,
    "editable": false,
    "id": "tjUwbHb3_Zcv"
   },
   "source": [
    "Вы проверили три гипотезы и установили:\n",
    "\n",
    "1. День недели по-разному влияет на активность пользователей в Москве и Петербурге. \n",
    "\n",
    "Первая гипотеза полностью подтвердилась.\n",
    "\n",
    "2. Музыкальные предпочтения не сильно меняются в течение недели — будь то Москва или Петербург. Небольшие различия заметны в начале недели, по понедельникам:\n",
    "* в Москве слушают музыку жанра “world”,\n",
    "* в Петербурге — джаз и классику.\n",
    "\n",
    "Таким образом, вторая гипотеза подтвердилась лишь отчасти. Этот результат мог оказаться иным, если бы не пропуски в данных.\n",
    "\n",
    "3. Во вкусах пользователей Москвы и Петербурга больше общего чем различий. Вопреки ожиданиям, предпочтения жанров в Петербурге напоминают московские.\n",
    "\n",
    "Третья гипотеза не подтвердилась. Если различия в предпочтениях и существуют, на основной массе пользователей они незаметны.\n",
    "\n",
    "**На практике исследования содержат проверки статистических гипотез.**\n",
    "Из данных одного сервиса не всегда можно сделать вывод о всех жителях города.\n",
    "Проверки статистических гипотез покажут, насколько они достоверны, исходя из имеющихся данных. \n",
    "С методами проверок гипотез вы ещё познакомитесь в следующих темах."
   ]
  }
 ],
 "metadata": {
  "ExecuteTimeLog": [
   {
    "duration": 63,
    "start_time": "2022-10-25T09:11:04.729Z"
   },
   {
    "duration": 7,
    "start_time": "2022-10-25T09:11:16.205Z"
   },
   {
    "duration": 374,
    "start_time": "2022-10-25T09:12:10.534Z"
   },
   {
    "duration": 52,
    "start_time": "2022-10-25T09:12:14.717Z"
   },
   {
    "duration": 8,
    "start_time": "2022-10-25T09:12:34.417Z"
   },
   {
    "duration": 2,
    "start_time": "2022-10-25T09:20:41.655Z"
   },
   {
    "duration": 188,
    "start_time": "2022-10-25T09:21:58.740Z"
   },
   {
    "duration": 17,
    "start_time": "2022-10-25T09:22:16.681Z"
   },
   {
    "duration": 30,
    "start_time": "2022-10-25T09:22:54.529Z"
   },
   {
    "duration": 5,
    "start_time": "2022-10-25T09:40:05.037Z"
   },
   {
    "duration": 11,
    "start_time": "2022-10-25T09:47:08.189Z"
   },
   {
    "duration": 7,
    "start_time": "2022-10-25T09:48:28.082Z"
   },
   {
    "duration": 4,
    "start_time": "2022-10-25T09:48:37.009Z"
   },
   {
    "duration": 14,
    "start_time": "2022-10-25T09:49:05.648Z"
   },
   {
    "duration": 5,
    "start_time": "2022-10-25T09:49:09.173Z"
   },
   {
    "duration": 25,
    "start_time": "2022-10-25T09:58:05.342Z"
   },
   {
    "duration": 58,
    "start_time": "2022-10-25T10:04:17.051Z"
   },
   {
    "duration": 812,
    "start_time": "2022-10-25T10:04:54.553Z"
   },
   {
    "duration": 781,
    "start_time": "2022-10-25T10:09:18.127Z"
   },
   {
    "duration": 833,
    "start_time": "2022-10-25T10:10:14.356Z"
   },
   {
    "duration": 17,
    "start_time": "2022-10-25T10:11:38.276Z"
   },
   {
    "duration": 24,
    "start_time": "2022-10-25T10:15:10.911Z"
   },
   {
    "duration": 7,
    "start_time": "2022-10-25T10:36:09.442Z"
   },
   {
    "duration": 62,
    "start_time": "2022-10-25T10:36:16.248Z"
   },
   {
    "duration": 58,
    "start_time": "2022-10-25T10:36:55.790Z"
   },
   {
    "duration": 73,
    "start_time": "2022-10-25T10:37:35.504Z"
   },
   {
    "duration": 58,
    "start_time": "2022-10-25T10:38:24.227Z"
   },
   {
    "duration": 68,
    "start_time": "2022-10-25T10:38:30.766Z"
   },
   {
    "duration": 60,
    "start_time": "2022-10-25T10:38:34.641Z"
   },
   {
    "duration": 10,
    "start_time": "2022-10-25T10:38:54.217Z"
   },
   {
    "duration": 76,
    "start_time": "2022-10-25T10:39:38.759Z"
   },
   {
    "duration": 8,
    "start_time": "2022-10-25T10:39:43.062Z"
   },
   {
    "duration": 58,
    "start_time": "2022-10-25T10:39:48.214Z"
   },
   {
    "duration": 66,
    "start_time": "2022-10-25T10:39:58.840Z"
   },
   {
    "duration": 72,
    "start_time": "2022-10-25T10:40:02.481Z"
   },
   {
    "duration": 72,
    "start_time": "2022-10-25T10:40:08.832Z"
   },
   {
    "duration": 68,
    "start_time": "2022-10-25T10:40:43.552Z"
   },
   {
    "duration": 52,
    "start_time": "2022-10-25T10:40:43.621Z"
   },
   {
    "duration": 55,
    "start_time": "2022-10-25T10:40:58.657Z"
   },
   {
    "duration": 56,
    "start_time": "2022-10-25T10:41:12.306Z"
   },
   {
    "duration": 55,
    "start_time": "2022-10-25T10:41:49.295Z"
   },
   {
    "duration": 66,
    "start_time": "2022-10-25T10:41:56.377Z"
   },
   {
    "duration": 58,
    "start_time": "2022-10-25T10:42:22.656Z"
   },
   {
    "duration": 57,
    "start_time": "2022-10-25T10:42:46.733Z"
   },
   {
    "duration": 52,
    "start_time": "2022-10-25T10:42:52.297Z"
   },
   {
    "duration": 53,
    "start_time": "2022-10-25T13:23:48.879Z"
   },
   {
    "duration": 7,
    "start_time": "2022-10-25T13:24:13.044Z"
   },
   {
    "duration": 410,
    "start_time": "2022-10-25T13:24:26.701Z"
   },
   {
    "duration": 221,
    "start_time": "2022-10-25T13:24:30.878Z"
   },
   {
    "duration": 18,
    "start_time": "2022-10-25T13:24:37.008Z"
   },
   {
    "duration": 36,
    "start_time": "2022-10-25T13:24:42.717Z"
   },
   {
    "duration": 4,
    "start_time": "2022-10-25T13:24:51.340Z"
   },
   {
    "duration": 11,
    "start_time": "2022-10-25T13:24:55.462Z"
   },
   {
    "duration": 4,
    "start_time": "2022-10-25T13:25:01.346Z"
   },
   {
    "duration": 23,
    "start_time": "2022-10-25T13:25:06.393Z"
   },
   {
    "duration": 18,
    "start_time": "2022-10-25T13:25:10.735Z"
   },
   {
    "duration": 22,
    "start_time": "2022-10-25T13:25:16.985Z"
   },
   {
    "duration": 65,
    "start_time": "2022-10-25T13:25:23.541Z"
   },
   {
    "duration": 74,
    "start_time": "2022-10-25T13:25:28.542Z"
   },
   {
    "duration": 61,
    "start_time": "2022-10-25T13:25:31.506Z"
   },
   {
    "duration": 366,
    "start_time": "2022-10-25T13:25:42.250Z"
   },
   {
    "duration": 39,
    "start_time": "2022-10-25T13:27:57.561Z"
   },
   {
    "duration": 49,
    "start_time": "2022-10-25T13:28:02.703Z"
   },
   {
    "duration": 66,
    "start_time": "2022-10-25T13:28:13.251Z"
   },
   {
    "duration": 10,
    "start_time": "2022-10-25T13:33:42.877Z"
   },
   {
    "duration": 5,
    "start_time": "2022-10-25T13:39:09.993Z"
   },
   {
    "duration": 4,
    "start_time": "2022-10-25T13:40:20.335Z"
   },
   {
    "duration": 40,
    "start_time": "2022-10-25T13:41:11.485Z"
   },
   {
    "duration": 16,
    "start_time": "2022-10-25T16:25:00.207Z"
   },
   {
    "duration": 29,
    "start_time": "2022-10-25T16:25:11.847Z"
   },
   {
    "duration": 11,
    "start_time": "2022-10-25T16:27:51.664Z"
   },
   {
    "duration": 10,
    "start_time": "2022-10-25T16:29:40.853Z"
   },
   {
    "duration": 9,
    "start_time": "2022-10-25T16:29:56.625Z"
   },
   {
    "duration": 7,
    "start_time": "2022-10-25T16:30:03.001Z"
   },
   {
    "duration": 9,
    "start_time": "2022-10-25T16:30:13.337Z"
   },
   {
    "duration": 10,
    "start_time": "2022-10-25T16:30:50.422Z"
   },
   {
    "duration": 9,
    "start_time": "2022-10-25T16:30:59.430Z"
   },
   {
    "duration": 8,
    "start_time": "2022-10-25T16:31:05.881Z"
   },
   {
    "duration": 30,
    "start_time": "2022-10-25T16:32:50.561Z"
   },
   {
    "duration": 10,
    "start_time": "2022-10-25T16:33:33.617Z"
   },
   {
    "duration": 9,
    "start_time": "2022-10-25T16:34:02.684Z"
   },
   {
    "duration": 6,
    "start_time": "2022-10-25T16:34:18.546Z"
   },
   {
    "duration": 30,
    "start_time": "2022-10-25T16:34:25.849Z"
   },
   {
    "duration": 8,
    "start_time": "2022-10-25T16:35:04.953Z"
   },
   {
    "duration": 12,
    "start_time": "2022-10-25T16:35:31.801Z"
   },
   {
    "duration": 4,
    "start_time": "2022-10-25T16:50:21.736Z"
   },
   {
    "duration": 4,
    "start_time": "2022-10-25T16:51:53.351Z"
   },
   {
    "duration": 4,
    "start_time": "2022-10-25T16:53:19.008Z"
   },
   {
    "duration": 3,
    "start_time": "2022-10-25T16:54:22.569Z"
   },
   {
    "duration": 4,
    "start_time": "2022-10-25T17:08:59.861Z"
   },
   {
    "duration": 15,
    "start_time": "2022-10-25T17:10:57.949Z"
   },
   {
    "duration": 14,
    "start_time": "2022-10-25T17:12:06.115Z"
   },
   {
    "duration": 14,
    "start_time": "2022-10-25T17:12:09.785Z"
   },
   {
    "duration": 16,
    "start_time": "2022-10-25T17:12:11.558Z"
   },
   {
    "duration": 13,
    "start_time": "2022-10-25T17:12:12.298Z"
   },
   {
    "duration": 16,
    "start_time": "2022-10-25T17:12:12.960Z"
   },
   {
    "duration": 8,
    "start_time": "2022-10-25T17:18:14.566Z"
   },
   {
    "duration": 9,
    "start_time": "2022-10-25T17:18:53.795Z"
   },
   {
    "duration": 8,
    "start_time": "2022-10-25T17:19:35.460Z"
   },
   {
    "duration": 4,
    "start_time": "2022-10-25T17:19:54.950Z"
   },
   {
    "duration": 4,
    "start_time": "2022-10-25T17:20:05.116Z"
   },
   {
    "duration": 4,
    "start_time": "2022-10-25T17:20:31.309Z"
   },
   {
    "duration": 8,
    "start_time": "2022-10-25T17:51:55.906Z"
   },
   {
    "duration": 8,
    "start_time": "2022-10-25T17:52:57.179Z"
   },
   {
    "duration": 6,
    "start_time": "2022-10-25T17:54:24.122Z"
   },
   {
    "duration": 6,
    "start_time": "2022-10-25T17:54:41.538Z"
   },
   {
    "duration": 9,
    "start_time": "2022-10-25T17:57:07.956Z"
   },
   {
    "duration": 7,
    "start_time": "2022-10-25T17:58:50.283Z"
   },
   {
    "duration": 9,
    "start_time": "2022-10-25T17:59:14.932Z"
   },
   {
    "duration": 11,
    "start_time": "2022-10-25T18:03:32.748Z"
   },
   {
    "duration": 11,
    "start_time": "2022-10-25T18:03:35.511Z"
   },
   {
    "duration": 20,
    "start_time": "2022-10-25T18:04:00.757Z"
   },
   {
    "duration": 22,
    "start_time": "2022-10-25T18:04:11.108Z"
   },
   {
    "duration": 4,
    "start_time": "2022-10-25T18:21:13.556Z"
   },
   {
    "duration": 4,
    "start_time": "2022-10-25T18:26:51.939Z"
   },
   {
    "duration": 4,
    "start_time": "2022-10-25T18:31:30.954Z"
   },
   {
    "duration": 3,
    "start_time": "2022-10-25T18:39:28.235Z"
   },
   {
    "duration": 208,
    "start_time": "2022-10-25T18:39:28.241Z"
   },
   {
    "duration": 11,
    "start_time": "2022-10-25T18:39:28.450Z"
   },
   {
    "duration": 31,
    "start_time": "2022-10-25T18:39:28.462Z"
   },
   {
    "duration": 3,
    "start_time": "2022-10-25T18:39:28.494Z"
   },
   {
    "duration": 9,
    "start_time": "2022-10-25T18:39:28.499Z"
   },
   {
    "duration": 21,
    "start_time": "2022-10-25T18:39:28.509Z"
   },
   {
    "duration": 7,
    "start_time": "2022-10-25T18:39:28.532Z"
   },
   {
    "duration": 30,
    "start_time": "2022-10-25T18:39:28.540Z"
   },
   {
    "duration": 14,
    "start_time": "2022-10-25T18:39:28.571Z"
   },
   {
    "duration": 28,
    "start_time": "2022-10-25T18:39:28.587Z"
   },
   {
    "duration": 70,
    "start_time": "2022-10-25T18:39:28.617Z"
   },
   {
    "duration": 71,
    "start_time": "2022-10-25T18:39:28.689Z"
   },
   {
    "duration": 65,
    "start_time": "2022-10-25T18:39:28.762Z"
   },
   {
    "duration": 49,
    "start_time": "2022-10-25T18:39:28.831Z"
   },
   {
    "duration": 10,
    "start_time": "2022-10-25T18:39:28.882Z"
   },
   {
    "duration": 73,
    "start_time": "2022-10-25T18:39:28.894Z"
   },
   {
    "duration": 11,
    "start_time": "2022-10-25T18:39:28.969Z"
   },
   {
    "duration": 29,
    "start_time": "2022-10-25T18:39:28.982Z"
   },
   {
    "duration": 6,
    "start_time": "2022-10-25T18:39:29.024Z"
   },
   {
    "duration": 24,
    "start_time": "2022-10-25T18:39:29.031Z"
   },
   {
    "duration": 18,
    "start_time": "2022-10-25T18:39:29.058Z"
   },
   {
    "duration": 33,
    "start_time": "2022-10-25T18:39:29.078Z"
   },
   {
    "duration": 15,
    "start_time": "2022-10-25T18:39:29.125Z"
   },
   {
    "duration": 27,
    "start_time": "2022-10-25T18:39:29.142Z"
   },
   {
    "duration": 18,
    "start_time": "2022-10-25T18:39:29.171Z"
   },
   {
    "duration": 8,
    "start_time": "2022-10-25T18:39:29.191Z"
   },
   {
    "duration": 35,
    "start_time": "2022-10-25T18:39:29.211Z"
   },
   {
    "duration": 23,
    "start_time": "2022-10-25T18:39:29.248Z"
   },
   {
    "duration": 5,
    "start_time": "2022-10-25T18:39:29.273Z"
   },
   {
    "duration": 11,
    "start_time": "2022-10-25T18:39:29.280Z"
   },
   {
    "duration": 7,
    "start_time": "2022-10-25T18:39:29.293Z"
   },
   {
    "duration": 18,
    "start_time": "2022-10-25T18:39:29.302Z"
   },
   {
    "duration": 13,
    "start_time": "2022-10-25T18:39:29.323Z"
   },
   {
    "duration": 9,
    "start_time": "2022-10-25T18:39:29.338Z"
   },
   {
    "duration": 11,
    "start_time": "2022-10-25T18:39:29.349Z"
   },
   {
    "duration": 7,
    "start_time": "2022-10-25T18:39:29.361Z"
   },
   {
    "duration": 8,
    "start_time": "2022-10-25T18:39:29.370Z"
   },
   {
    "duration": 3,
    "start_time": "2022-10-25T18:40:58.787Z"
   },
   {
    "duration": 174,
    "start_time": "2022-10-25T18:40:58.792Z"
   },
   {
    "duration": 10,
    "start_time": "2022-10-25T18:40:58.967Z"
   },
   {
    "duration": 29,
    "start_time": "2022-10-25T18:40:58.980Z"
   },
   {
    "duration": 6,
    "start_time": "2022-10-25T18:40:59.021Z"
   },
   {
    "duration": 8,
    "start_time": "2022-10-25T18:40:59.029Z"
   },
   {
    "duration": 9,
    "start_time": "2022-10-25T18:40:59.039Z"
   },
   {
    "duration": 4,
    "start_time": "2022-10-25T18:40:59.050Z"
   },
   {
    "duration": 22,
    "start_time": "2022-10-25T18:40:59.056Z"
   },
   {
    "duration": 42,
    "start_time": "2022-10-25T18:40:59.081Z"
   },
   {
    "duration": 22,
    "start_time": "2022-10-25T18:40:59.125Z"
   },
   {
    "duration": 72,
    "start_time": "2022-10-25T18:40:59.148Z"
   },
   {
    "duration": 64,
    "start_time": "2022-10-25T18:40:59.222Z"
   },
   {
    "duration": 58,
    "start_time": "2022-10-25T18:40:59.288Z"
   },
   {
    "duration": 37,
    "start_time": "2022-10-25T18:40:59.348Z"
   },
   {
    "duration": 34,
    "start_time": "2022-10-25T18:40:59.386Z"
   },
   {
    "duration": 40,
    "start_time": "2022-10-25T18:40:59.422Z"
   },
   {
    "duration": 12,
    "start_time": "2022-10-25T18:40:59.464Z"
   },
   {
    "duration": 16,
    "start_time": "2022-10-25T18:40:59.477Z"
   },
   {
    "duration": 20,
    "start_time": "2022-10-25T18:40:59.495Z"
   },
   {
    "duration": 45,
    "start_time": "2022-10-25T18:40:59.516Z"
   },
   {
    "duration": 13,
    "start_time": "2022-10-25T18:40:59.562Z"
   },
   {
    "duration": 31,
    "start_time": "2022-10-25T18:40:59.576Z"
   },
   {
    "duration": 33,
    "start_time": "2022-10-25T18:40:59.608Z"
   },
   {
    "duration": 16,
    "start_time": "2022-10-25T18:40:59.643Z"
   },
   {
    "duration": 20,
    "start_time": "2022-10-25T18:40:59.660Z"
   },
   {
    "duration": 8,
    "start_time": "2022-10-25T18:40:59.682Z"
   },
   {
    "duration": 33,
    "start_time": "2022-10-25T18:40:59.693Z"
   },
   {
    "duration": 19,
    "start_time": "2022-10-25T18:40:59.728Z"
   },
   {
    "duration": 4,
    "start_time": "2022-10-25T18:40:59.749Z"
   },
   {
    "duration": 33,
    "start_time": "2022-10-25T18:40:59.755Z"
   },
   {
    "duration": 21,
    "start_time": "2022-10-25T18:40:59.790Z"
   },
   {
    "duration": 17,
    "start_time": "2022-10-25T18:40:59.812Z"
   },
   {
    "duration": 13,
    "start_time": "2022-10-25T18:40:59.830Z"
   },
   {
    "duration": 12,
    "start_time": "2022-10-25T18:40:59.846Z"
   },
   {
    "duration": 16,
    "start_time": "2022-10-25T18:40:59.859Z"
   },
   {
    "duration": 12,
    "start_time": "2022-10-25T18:40:59.876Z"
   },
   {
    "duration": 29,
    "start_time": "2022-10-25T18:40:59.889Z"
   },
   {
    "duration": 13,
    "start_time": "2022-10-25T18:42:36.907Z"
   },
   {
    "duration": 186,
    "start_time": "2022-10-25T18:42:36.922Z"
   },
   {
    "duration": 15,
    "start_time": "2022-10-25T18:42:37.113Z"
   },
   {
    "duration": 25,
    "start_time": "2022-10-25T18:42:37.130Z"
   },
   {
    "duration": 3,
    "start_time": "2022-10-25T18:42:37.156Z"
   },
   {
    "duration": 7,
    "start_time": "2022-10-25T18:42:37.160Z"
   },
   {
    "duration": 8,
    "start_time": "2022-10-25T18:42:37.168Z"
   },
   {
    "duration": 4,
    "start_time": "2022-10-25T18:42:37.179Z"
   },
   {
    "duration": 56,
    "start_time": "2022-10-25T18:42:37.184Z"
   },
   {
    "duration": 19,
    "start_time": "2022-10-25T18:42:37.244Z"
   },
   {
    "duration": 58,
    "start_time": "2022-10-25T18:42:37.265Z"
   },
   {
    "duration": 94,
    "start_time": "2022-10-25T18:42:37.325Z"
   },
   {
    "duration": 81,
    "start_time": "2022-10-25T18:42:37.421Z"
   },
   {
    "duration": 57,
    "start_time": "2022-10-25T18:42:37.503Z"
   },
   {
    "duration": 50,
    "start_time": "2022-10-25T18:42:37.561Z"
   },
   {
    "duration": 16,
    "start_time": "2022-10-25T18:42:37.612Z"
   },
   {
    "duration": 52,
    "start_time": "2022-10-25T18:42:37.630Z"
   },
   {
    "duration": 11,
    "start_time": "2022-10-25T18:42:37.683Z"
   },
   {
    "duration": 41,
    "start_time": "2022-10-25T18:42:37.696Z"
   },
   {
    "duration": 16,
    "start_time": "2022-10-25T18:42:37.739Z"
   },
   {
    "duration": 50,
    "start_time": "2022-10-25T18:42:37.756Z"
   },
   {
    "duration": 40,
    "start_time": "2022-10-25T18:42:37.807Z"
   },
   {
    "duration": 44,
    "start_time": "2022-10-25T18:42:37.849Z"
   },
   {
    "duration": 42,
    "start_time": "2022-10-25T18:42:37.894Z"
   },
   {
    "duration": 81,
    "start_time": "2022-10-25T18:42:37.938Z"
   },
   {
    "duration": 46,
    "start_time": "2022-10-25T18:42:38.020Z"
   },
   {
    "duration": 31,
    "start_time": "2022-10-25T18:42:38.067Z"
   },
   {
    "duration": 69,
    "start_time": "2022-10-25T18:42:38.101Z"
   },
   {
    "duration": 48,
    "start_time": "2022-10-25T18:42:38.174Z"
   },
   {
    "duration": 76,
    "start_time": "2022-10-25T18:42:38.225Z"
   },
   {
    "duration": 50,
    "start_time": "2022-10-25T18:42:38.303Z"
   },
   {
    "duration": 35,
    "start_time": "2022-10-25T18:42:38.354Z"
   },
   {
    "duration": 56,
    "start_time": "2022-10-25T18:42:38.391Z"
   },
   {
    "duration": 29,
    "start_time": "2022-10-25T18:42:38.449Z"
   },
   {
    "duration": 63,
    "start_time": "2022-10-25T18:42:38.479Z"
   },
   {
    "duration": 45,
    "start_time": "2022-10-25T18:42:38.543Z"
   },
   {
    "duration": 41,
    "start_time": "2022-10-25T18:42:38.590Z"
   },
   {
    "duration": 27,
    "start_time": "2022-10-25T18:42:38.632Z"
   },
   {
    "duration": 3,
    "start_time": "2022-10-25T18:46:41.468Z"
   },
   {
    "duration": 215,
    "start_time": "2022-10-25T18:46:41.473Z"
   },
   {
    "duration": 16,
    "start_time": "2022-10-25T18:46:41.691Z"
   },
   {
    "duration": 75,
    "start_time": "2022-10-25T18:46:41.712Z"
   },
   {
    "duration": 10,
    "start_time": "2022-10-25T18:46:41.789Z"
   },
   {
    "duration": 36,
    "start_time": "2022-10-25T18:46:41.801Z"
   },
   {
    "duration": 26,
    "start_time": "2022-10-25T18:46:41.839Z"
   },
   {
    "duration": 28,
    "start_time": "2022-10-25T18:46:41.867Z"
   },
   {
    "duration": 46,
    "start_time": "2022-10-25T18:46:41.897Z"
   },
   {
    "duration": 40,
    "start_time": "2022-10-25T18:46:41.945Z"
   },
   {
    "duration": 62,
    "start_time": "2022-10-25T18:46:41.987Z"
   },
   {
    "duration": 79,
    "start_time": "2022-10-25T18:46:42.050Z"
   },
   {
    "duration": 68,
    "start_time": "2022-10-25T18:46:42.131Z"
   },
   {
    "duration": 69,
    "start_time": "2022-10-25T18:46:42.200Z"
   },
   {
    "duration": 50,
    "start_time": "2022-10-25T18:46:42.271Z"
   },
   {
    "duration": 34,
    "start_time": "2022-10-25T18:46:42.322Z"
   },
   {
    "duration": 74,
    "start_time": "2022-10-25T18:46:42.357Z"
   },
   {
    "duration": 17,
    "start_time": "2022-10-25T18:46:42.433Z"
   },
   {
    "duration": 35,
    "start_time": "2022-10-25T18:46:42.452Z"
   },
   {
    "duration": 44,
    "start_time": "2022-10-25T18:46:42.488Z"
   },
   {
    "duration": 64,
    "start_time": "2022-10-25T18:46:42.533Z"
   },
   {
    "duration": 55,
    "start_time": "2022-10-25T18:46:42.599Z"
   },
   {
    "duration": 91,
    "start_time": "2022-10-25T18:46:42.656Z"
   },
   {
    "duration": 29,
    "start_time": "2022-10-25T18:46:42.749Z"
   },
   {
    "duration": 104,
    "start_time": "2022-10-25T18:46:42.780Z"
   },
   {
    "duration": 42,
    "start_time": "2022-10-25T18:46:42.886Z"
   },
   {
    "duration": 40,
    "start_time": "2022-10-25T18:46:42.930Z"
   },
   {
    "duration": 23,
    "start_time": "2022-10-25T18:46:42.975Z"
   },
   {
    "duration": 51,
    "start_time": "2022-10-25T18:46:43.000Z"
   },
   {
    "duration": 41,
    "start_time": "2022-10-25T18:46:43.053Z"
   },
   {
    "duration": 40,
    "start_time": "2022-10-25T18:46:43.096Z"
   },
   {
    "duration": 24,
    "start_time": "2022-10-25T18:46:43.138Z"
   },
   {
    "duration": 33,
    "start_time": "2022-10-25T18:46:43.164Z"
   },
   {
    "duration": 35,
    "start_time": "2022-10-25T18:46:43.198Z"
   },
   {
    "duration": 33,
    "start_time": "2022-10-25T18:46:43.235Z"
   },
   {
    "duration": 56,
    "start_time": "2022-10-25T18:46:43.269Z"
   },
   {
    "duration": 37,
    "start_time": "2022-10-25T18:46:43.327Z"
   },
   {
    "duration": 27,
    "start_time": "2022-10-25T18:46:43.366Z"
   },
   {
    "duration": 3,
    "start_time": "2022-10-25T18:50:49.547Z"
   },
   {
    "duration": 169,
    "start_time": "2022-10-25T18:50:49.552Z"
   },
   {
    "duration": 11,
    "start_time": "2022-10-25T18:50:49.723Z"
   },
   {
    "duration": 31,
    "start_time": "2022-10-25T18:50:49.736Z"
   },
   {
    "duration": 3,
    "start_time": "2022-10-25T18:50:49.768Z"
   },
   {
    "duration": 7,
    "start_time": "2022-10-25T18:50:49.772Z"
   },
   {
    "duration": 11,
    "start_time": "2022-10-25T18:50:49.781Z"
   },
   {
    "duration": 4,
    "start_time": "2022-10-25T18:50:49.793Z"
   },
   {
    "duration": 26,
    "start_time": "2022-10-25T18:50:49.812Z"
   },
   {
    "duration": 21,
    "start_time": "2022-10-25T18:50:49.841Z"
   },
   {
    "duration": 22,
    "start_time": "2022-10-25T18:50:49.863Z"
   },
   {
    "duration": 80,
    "start_time": "2022-10-25T18:50:49.887Z"
   },
   {
    "duration": 76,
    "start_time": "2022-10-25T18:50:49.969Z"
   },
   {
    "duration": 53,
    "start_time": "2022-10-25T18:50:50.047Z"
   },
   {
    "duration": 55,
    "start_time": "2022-10-25T18:50:50.101Z"
   },
   {
    "duration": 10,
    "start_time": "2022-10-25T18:50:50.158Z"
   },
   {
    "duration": 60,
    "start_time": "2022-10-25T18:50:50.170Z"
   },
   {
    "duration": 12,
    "start_time": "2022-10-25T18:50:50.232Z"
   },
   {
    "duration": 11,
    "start_time": "2022-10-25T18:50:50.246Z"
   },
   {
    "duration": 5,
    "start_time": "2022-10-25T18:50:50.259Z"
   },
   {
    "duration": 29,
    "start_time": "2022-10-25T18:50:50.266Z"
   },
   {
    "duration": 29,
    "start_time": "2022-10-25T18:50:50.297Z"
   },
   {
    "duration": 16,
    "start_time": "2022-10-25T18:50:50.327Z"
   },
   {
    "duration": 13,
    "start_time": "2022-10-25T18:50:50.345Z"
   },
   {
    "duration": 16,
    "start_time": "2022-10-25T18:50:50.360Z"
   },
   {
    "duration": 49,
    "start_time": "2022-10-25T18:50:50.378Z"
   },
   {
    "duration": 9,
    "start_time": "2022-10-25T18:50:50.428Z"
   },
   {
    "duration": 13,
    "start_time": "2022-10-25T18:50:50.439Z"
   },
   {
    "duration": 9,
    "start_time": "2022-10-25T18:50:50.454Z"
   },
   {
    "duration": 6,
    "start_time": "2022-10-25T18:50:53.554Z"
   },
   {
    "duration": 7,
    "start_time": "2022-10-25T18:50:53.562Z"
   },
   {
    "duration": 5,
    "start_time": "2022-10-25T18:50:53.570Z"
   },
   {
    "duration": 6,
    "start_time": "2022-10-25T18:50:53.577Z"
   },
   {
    "duration": 6,
    "start_time": "2022-10-25T18:50:53.585Z"
   },
   {
    "duration": 16,
    "start_time": "2022-10-25T18:50:53.592Z"
   },
   {
    "duration": 22,
    "start_time": "2022-10-25T18:50:53.609Z"
   },
   {
    "duration": 5,
    "start_time": "2022-10-25T18:50:53.632Z"
   },
   {
    "duration": 5,
    "start_time": "2022-10-25T18:50:53.638Z"
   },
   {
    "duration": 9,
    "start_time": "2022-10-25T18:51:35.526Z"
   },
   {
    "duration": 2,
    "start_time": "2022-10-25T18:56:25.939Z"
   },
   {
    "duration": 156,
    "start_time": "2022-10-25T18:56:25.943Z"
   },
   {
    "duration": 21,
    "start_time": "2022-10-25T18:56:26.101Z"
   },
   {
    "duration": 30,
    "start_time": "2022-10-25T18:56:26.123Z"
   },
   {
    "duration": 2,
    "start_time": "2022-10-25T18:56:26.155Z"
   },
   {
    "duration": 8,
    "start_time": "2022-10-25T18:56:26.158Z"
   },
   {
    "duration": 12,
    "start_time": "2022-10-25T18:56:26.168Z"
   },
   {
    "duration": 8,
    "start_time": "2022-10-25T18:56:26.181Z"
   },
   {
    "duration": 37,
    "start_time": "2022-10-25T18:56:26.190Z"
   },
   {
    "duration": 17,
    "start_time": "2022-10-25T18:56:26.228Z"
   },
   {
    "duration": 19,
    "start_time": "2022-10-25T18:56:26.246Z"
   },
   {
    "duration": 76,
    "start_time": "2022-10-25T18:56:26.266Z"
   },
   {
    "duration": 79,
    "start_time": "2022-10-25T18:56:26.344Z"
   },
   {
    "duration": 55,
    "start_time": "2022-10-25T18:56:26.426Z"
   },
   {
    "duration": 55,
    "start_time": "2022-10-25T18:56:26.483Z"
   },
   {
    "duration": 10,
    "start_time": "2022-10-25T18:56:26.539Z"
   },
   {
    "duration": 39,
    "start_time": "2022-10-25T18:56:26.551Z"
   },
   {
    "duration": 33,
    "start_time": "2022-10-25T18:56:26.592Z"
   },
   {
    "duration": 13,
    "start_time": "2022-10-25T18:56:26.627Z"
   },
   {
    "duration": 3,
    "start_time": "2022-10-25T18:56:26.641Z"
   },
   {
    "duration": 22,
    "start_time": "2022-10-25T18:56:26.646Z"
   },
   {
    "duration": 13,
    "start_time": "2022-10-25T18:56:26.669Z"
   },
   {
    "duration": 38,
    "start_time": "2022-10-25T18:56:26.683Z"
   },
   {
    "duration": 12,
    "start_time": "2022-10-25T18:56:26.723Z"
   },
   {
    "duration": 15,
    "start_time": "2022-10-25T18:56:26.737Z"
   },
   {
    "duration": 12,
    "start_time": "2022-10-25T18:56:26.754Z"
   },
   {
    "duration": 3,
    "start_time": "2022-10-25T18:56:26.768Z"
   },
   {
    "duration": 47,
    "start_time": "2022-10-25T18:56:26.773Z"
   },
   {
    "duration": 12,
    "start_time": "2022-10-25T18:56:26.825Z"
   },
   {
    "duration": 7,
    "start_time": "2022-10-25T18:56:26.839Z"
   },
   {
    "duration": 9,
    "start_time": "2022-10-25T18:56:26.848Z"
   },
   {
    "duration": 4,
    "start_time": "2022-10-25T18:56:26.858Z"
   },
   {
    "duration": 6,
    "start_time": "2022-10-25T18:56:26.864Z"
   },
   {
    "duration": 8,
    "start_time": "2022-10-25T18:56:26.872Z"
   },
   {
    "duration": 7,
    "start_time": "2022-10-25T18:56:26.882Z"
   },
   {
    "duration": 9,
    "start_time": "2022-10-25T18:56:26.890Z"
   },
   {
    "duration": 6,
    "start_time": "2022-10-25T18:56:26.900Z"
   },
   {
    "duration": 19,
    "start_time": "2022-10-25T18:56:26.908Z"
   },
   {
    "duration": 50,
    "start_time": "2022-10-25T19:04:34.770Z"
   },
   {
    "duration": 45,
    "start_time": "2022-10-25T19:04:58.338Z"
   },
   {
    "duration": 16,
    "start_time": "2022-10-25T19:05:53.307Z"
   },
   {
    "duration": 19,
    "start_time": "2022-10-25T19:06:21.938Z"
   },
   {
    "duration": 4,
    "start_time": "2022-10-25T19:08:11.435Z"
   },
   {
    "duration": 4,
    "start_time": "2022-10-25T19:08:56.159Z"
   },
   {
    "duration": 4,
    "start_time": "2022-10-25T19:09:01.640Z"
   },
   {
    "duration": 4,
    "start_time": "2022-10-25T19:09:04.967Z"
   },
   {
    "duration": 6,
    "start_time": "2022-10-25T19:09:22.560Z"
   },
   {
    "duration": 20,
    "start_time": "2022-10-25T19:09:59.087Z"
   },
   {
    "duration": 22,
    "start_time": "2022-10-25T19:10:44.149Z"
   },
   {
    "duration": 5,
    "start_time": "2022-10-25T19:14:26.970Z"
   },
   {
    "duration": 3,
    "start_time": "2022-10-25T19:16:24.672Z"
   },
   {
    "duration": 161,
    "start_time": "2022-10-25T19:16:24.677Z"
   },
   {
    "duration": 13,
    "start_time": "2022-10-25T19:16:24.840Z"
   },
   {
    "duration": 39,
    "start_time": "2022-10-25T19:16:24.854Z"
   },
   {
    "duration": 2,
    "start_time": "2022-10-25T19:16:24.895Z"
   },
   {
    "duration": 20,
    "start_time": "2022-10-25T19:16:24.898Z"
   },
   {
    "duration": 22,
    "start_time": "2022-10-25T19:16:24.919Z"
   },
   {
    "duration": 4,
    "start_time": "2022-10-25T19:16:24.943Z"
   },
   {
    "duration": 23,
    "start_time": "2022-10-25T19:16:24.948Z"
   },
   {
    "duration": 15,
    "start_time": "2022-10-25T19:16:24.972Z"
   },
   {
    "duration": 26,
    "start_time": "2022-10-25T19:16:24.989Z"
   },
   {
    "duration": 77,
    "start_time": "2022-10-25T19:16:25.017Z"
   },
   {
    "duration": 67,
    "start_time": "2022-10-25T19:16:25.096Z"
   },
   {
    "duration": 63,
    "start_time": "2022-10-25T19:16:25.166Z"
   },
   {
    "duration": 37,
    "start_time": "2022-10-25T19:16:25.231Z"
   },
   {
    "duration": 9,
    "start_time": "2022-10-25T19:16:25.270Z"
   },
   {
    "duration": 64,
    "start_time": "2022-10-25T19:16:25.281Z"
   },
   {
    "duration": 11,
    "start_time": "2022-10-25T19:16:25.346Z"
   },
   {
    "duration": 11,
    "start_time": "2022-10-25T19:16:25.359Z"
   },
   {
    "duration": 4,
    "start_time": "2022-10-25T19:16:25.371Z"
   },
   {
    "duration": 45,
    "start_time": "2022-10-25T19:16:25.376Z"
   },
   {
    "duration": 14,
    "start_time": "2022-10-25T19:16:25.423Z"
   },
   {
    "duration": 16,
    "start_time": "2022-10-25T19:16:25.438Z"
   },
   {
    "duration": 13,
    "start_time": "2022-10-25T19:16:25.456Z"
   },
   {
    "duration": 40,
    "start_time": "2022-10-25T19:16:25.471Z"
   },
   {
    "duration": 21,
    "start_time": "2022-10-25T19:16:25.513Z"
   },
   {
    "duration": 4,
    "start_time": "2022-10-25T19:16:25.536Z"
   },
   {
    "duration": 22,
    "start_time": "2022-10-25T19:16:25.541Z"
   },
   {
    "duration": 13,
    "start_time": "2022-10-25T19:16:25.564Z"
   },
   {
    "duration": 6,
    "start_time": "2022-10-25T19:16:25.579Z"
   },
   {
    "duration": 30,
    "start_time": "2022-10-25T19:16:25.586Z"
   },
   {
    "duration": 8,
    "start_time": "2022-10-25T19:16:25.617Z"
   },
   {
    "duration": 8,
    "start_time": "2022-10-25T19:16:25.626Z"
   },
   {
    "duration": 5,
    "start_time": "2022-10-25T19:16:25.636Z"
   },
   {
    "duration": 6,
    "start_time": "2022-10-25T19:16:25.643Z"
   },
   {
    "duration": 14,
    "start_time": "2022-10-25T19:16:25.650Z"
   },
   {
    "duration": 7,
    "start_time": "2022-10-25T19:16:25.666Z"
   },
   {
    "duration": 5,
    "start_time": "2022-10-25T19:16:25.675Z"
   },
   {
    "duration": 4,
    "start_time": "2022-10-25T19:18:01.450Z"
   },
   {
    "duration": 21,
    "start_time": "2022-10-25T19:19:01.978Z"
   },
   {
    "duration": 21,
    "start_time": "2022-10-25T19:21:32.266Z"
   },
   {
    "duration": 28,
    "start_time": "2022-10-25T19:22:32.603Z"
   },
   {
    "duration": 19,
    "start_time": "2022-10-25T19:22:36.697Z"
   },
   {
    "duration": 5,
    "start_time": "2022-10-25T19:25:29.241Z"
   },
   {
    "duration": 3,
    "start_time": "2022-10-25T19:25:44.352Z"
   },
   {
    "duration": 203,
    "start_time": "2022-10-25T19:25:44.356Z"
   },
   {
    "duration": 11,
    "start_time": "2022-10-25T19:25:44.560Z"
   },
   {
    "duration": 50,
    "start_time": "2022-10-25T19:25:44.572Z"
   },
   {
    "duration": 28,
    "start_time": "2022-10-25T19:25:44.624Z"
   },
   {
    "duration": 26,
    "start_time": "2022-10-25T19:25:44.653Z"
   },
   {
    "duration": 37,
    "start_time": "2022-10-25T19:25:44.680Z"
   },
   {
    "duration": 45,
    "start_time": "2022-10-25T19:25:44.718Z"
   },
   {
    "duration": 51,
    "start_time": "2022-10-25T19:25:44.765Z"
   },
   {
    "duration": 43,
    "start_time": "2022-10-25T19:25:44.818Z"
   },
   {
    "duration": 31,
    "start_time": "2022-10-25T19:25:44.862Z"
   },
   {
    "duration": 92,
    "start_time": "2022-10-25T19:25:44.895Z"
   },
   {
    "duration": 69,
    "start_time": "2022-10-25T19:25:44.989Z"
   },
   {
    "duration": 55,
    "start_time": "2022-10-25T19:25:45.061Z"
   },
   {
    "duration": 40,
    "start_time": "2022-10-25T19:25:45.117Z"
   },
   {
    "duration": 15,
    "start_time": "2022-10-25T19:25:45.159Z"
   },
   {
    "duration": 77,
    "start_time": "2022-10-25T19:25:45.176Z"
   },
   {
    "duration": 10,
    "start_time": "2022-10-25T19:25:45.255Z"
   },
   {
    "duration": 10,
    "start_time": "2022-10-25T19:25:45.267Z"
   },
   {
    "duration": 6,
    "start_time": "2022-10-25T19:25:45.278Z"
   },
   {
    "duration": 35,
    "start_time": "2022-10-25T19:25:45.285Z"
   },
   {
    "duration": 14,
    "start_time": "2022-10-25T19:25:45.321Z"
   },
   {
    "duration": 15,
    "start_time": "2022-10-25T19:25:45.337Z"
   },
   {
    "duration": 65,
    "start_time": "2022-10-25T19:25:45.354Z"
   },
   {
    "duration": 16,
    "start_time": "2022-10-25T19:25:45.420Z"
   },
   {
    "duration": 14,
    "start_time": "2022-10-25T19:25:45.438Z"
   },
   {
    "duration": 5,
    "start_time": "2022-10-25T19:25:45.453Z"
   },
   {
    "duration": 13,
    "start_time": "2022-10-25T19:25:45.459Z"
   },
   {
    "duration": 37,
    "start_time": "2022-10-25T19:25:45.474Z"
   },
   {
    "duration": 5,
    "start_time": "2022-10-25T19:25:45.513Z"
   },
   {
    "duration": 6,
    "start_time": "2022-10-25T19:25:45.520Z"
   },
   {
    "duration": 5,
    "start_time": "2022-10-25T19:25:45.528Z"
   },
   {
    "duration": 5,
    "start_time": "2022-10-25T19:25:45.534Z"
   },
   {
    "duration": 6,
    "start_time": "2022-10-25T19:25:45.541Z"
   },
   {
    "duration": 4,
    "start_time": "2022-10-25T19:25:45.548Z"
   },
   {
    "duration": 11,
    "start_time": "2022-10-25T19:25:45.553Z"
   },
   {
    "duration": 5,
    "start_time": "2022-10-25T19:25:45.566Z"
   },
   {
    "duration": 6,
    "start_time": "2022-10-25T19:25:45.573Z"
   },
   {
    "duration": 58,
    "start_time": "2022-10-25T19:30:14.184Z"
   },
   {
    "duration": 3,
    "start_time": "2022-10-25T19:30:26.171Z"
   },
   {
    "duration": 162,
    "start_time": "2022-10-25T19:30:26.176Z"
   },
   {
    "duration": 10,
    "start_time": "2022-10-25T19:30:26.340Z"
   },
   {
    "duration": 28,
    "start_time": "2022-10-25T19:30:26.351Z"
   },
   {
    "duration": 2,
    "start_time": "2022-10-25T19:30:26.381Z"
   },
   {
    "duration": 6,
    "start_time": "2022-10-25T19:30:26.384Z"
   },
   {
    "duration": 21,
    "start_time": "2022-10-25T19:30:26.392Z"
   },
   {
    "duration": 11,
    "start_time": "2022-10-25T19:30:26.415Z"
   },
   {
    "duration": 22,
    "start_time": "2022-10-25T19:30:26.428Z"
   },
   {
    "duration": 28,
    "start_time": "2022-10-25T19:30:26.451Z"
   },
   {
    "duration": 29,
    "start_time": "2022-10-25T19:30:26.480Z"
   },
   {
    "duration": 59,
    "start_time": "2022-10-25T19:30:26.511Z"
   },
   {
    "duration": 78,
    "start_time": "2022-10-25T19:30:26.571Z"
   },
   {
    "duration": 58,
    "start_time": "2022-10-25T19:30:26.653Z"
   },
   {
    "duration": 39,
    "start_time": "2022-10-25T19:30:26.713Z"
   },
   {
    "duration": 11,
    "start_time": "2022-10-25T19:30:26.754Z"
   },
   {
    "duration": 60,
    "start_time": "2022-10-25T19:30:26.767Z"
   },
   {
    "duration": 15,
    "start_time": "2022-10-25T19:30:26.829Z"
   },
   {
    "duration": 14,
    "start_time": "2022-10-25T19:30:26.846Z"
   },
   {
    "duration": 5,
    "start_time": "2022-10-25T19:30:26.861Z"
   },
   {
    "duration": 22,
    "start_time": "2022-10-25T19:30:26.868Z"
   },
   {
    "duration": 15,
    "start_time": "2022-10-25T19:30:26.909Z"
   },
   {
    "duration": 44,
    "start_time": "2022-10-25T19:30:26.926Z"
   },
   {
    "duration": 12,
    "start_time": "2022-10-25T19:30:26.971Z"
   },
   {
    "duration": 14,
    "start_time": "2022-10-25T19:30:26.985Z"
   },
   {
    "duration": 13,
    "start_time": "2022-10-25T19:30:27.000Z"
   },
   {
    "duration": 4,
    "start_time": "2022-10-25T19:30:27.014Z"
   },
   {
    "duration": 14,
    "start_time": "2022-10-25T19:30:27.020Z"
   },
   {
    "duration": 8,
    "start_time": "2022-10-25T19:30:27.036Z"
   },
   {
    "duration": 4,
    "start_time": "2022-10-25T19:30:27.046Z"
   },
   {
    "duration": 47,
    "start_time": "2022-10-25T19:30:27.052Z"
   },
   {
    "duration": 0,
    "start_time": "2022-10-25T19:30:27.100Z"
   },
   {
    "duration": 0,
    "start_time": "2022-10-25T19:30:27.101Z"
   },
   {
    "duration": 0,
    "start_time": "2022-10-25T19:30:27.102Z"
   },
   {
    "duration": 0,
    "start_time": "2022-10-25T19:30:27.103Z"
   },
   {
    "duration": 0,
    "start_time": "2022-10-25T19:30:27.104Z"
   },
   {
    "duration": 0,
    "start_time": "2022-10-25T19:30:27.105Z"
   },
   {
    "duration": 0,
    "start_time": "2022-10-25T19:30:27.106Z"
   },
   {
    "duration": 15,
    "start_time": "2022-10-25T19:30:38.635Z"
   },
   {
    "duration": 12,
    "start_time": "2022-10-25T19:31:38.923Z"
   },
   {
    "duration": 17,
    "start_time": "2022-10-25T19:32:31.658Z"
   },
   {
    "duration": 11,
    "start_time": "2022-10-25T19:32:52.970Z"
   },
   {
    "duration": 2,
    "start_time": "2022-10-25T19:36:09.816Z"
   },
   {
    "duration": 150,
    "start_time": "2022-10-25T19:36:09.822Z"
   },
   {
    "duration": 11,
    "start_time": "2022-10-25T19:36:09.974Z"
   },
   {
    "duration": 34,
    "start_time": "2022-10-25T19:36:09.986Z"
   },
   {
    "duration": 3,
    "start_time": "2022-10-25T19:36:10.022Z"
   },
   {
    "duration": 8,
    "start_time": "2022-10-25T19:36:10.026Z"
   },
   {
    "duration": 17,
    "start_time": "2022-10-25T19:36:10.035Z"
   },
   {
    "duration": 4,
    "start_time": "2022-10-25T19:36:10.053Z"
   },
   {
    "duration": 25,
    "start_time": "2022-10-25T19:36:10.058Z"
   },
   {
    "duration": 31,
    "start_time": "2022-10-25T19:36:10.085Z"
   },
   {
    "duration": 21,
    "start_time": "2022-10-25T19:36:10.119Z"
   },
   {
    "duration": 77,
    "start_time": "2022-10-25T19:36:10.142Z"
   },
   {
    "duration": 68,
    "start_time": "2022-10-25T19:36:10.220Z"
   },
   {
    "duration": 61,
    "start_time": "2022-10-25T19:36:10.290Z"
   },
   {
    "duration": 38,
    "start_time": "2022-10-25T19:36:10.352Z"
   },
   {
    "duration": 23,
    "start_time": "2022-10-25T19:36:10.392Z"
   },
   {
    "duration": 38,
    "start_time": "2022-10-25T19:36:10.417Z"
   },
   {
    "duration": 12,
    "start_time": "2022-10-25T19:36:10.456Z"
   },
   {
    "duration": 11,
    "start_time": "2022-10-25T19:36:10.469Z"
   },
   {
    "duration": 29,
    "start_time": "2022-10-25T19:36:10.482Z"
   },
   {
    "duration": 20,
    "start_time": "2022-10-25T19:36:10.512Z"
   },
   {
    "duration": 12,
    "start_time": "2022-10-25T19:36:10.534Z"
   },
   {
    "duration": 13,
    "start_time": "2022-10-25T19:36:10.548Z"
   },
   {
    "duration": 12,
    "start_time": "2022-10-25T19:36:10.563Z"
   },
   {
    "duration": 42,
    "start_time": "2022-10-25T19:36:10.577Z"
   },
   {
    "duration": 13,
    "start_time": "2022-10-25T19:36:10.621Z"
   },
   {
    "duration": 4,
    "start_time": "2022-10-25T19:36:10.635Z"
   },
   {
    "duration": 20,
    "start_time": "2022-10-25T19:36:10.641Z"
   },
   {
    "duration": 9,
    "start_time": "2022-10-25T19:36:10.664Z"
   },
   {
    "duration": 5,
    "start_time": "2022-10-25T19:36:10.674Z"
   },
   {
    "duration": 43,
    "start_time": "2022-10-25T19:36:10.680Z"
   },
   {
    "duration": 10,
    "start_time": "2022-10-25T19:36:10.725Z"
   },
   {
    "duration": 15,
    "start_time": "2022-10-25T19:36:10.736Z"
   },
   {
    "duration": 11,
    "start_time": "2022-10-25T19:36:10.753Z"
   },
   {
    "duration": 2,
    "start_time": "2022-10-25T19:36:10.765Z"
   },
   {
    "duration": 4,
    "start_time": "2022-10-25T19:36:10.769Z"
   },
   {
    "duration": 7,
    "start_time": "2022-10-25T19:36:10.774Z"
   },
   {
    "duration": 7,
    "start_time": "2022-10-25T19:36:10.809Z"
   },
   {
    "duration": 47,
    "start_time": "2022-10-25T19:38:05.484Z"
   },
   {
    "duration": 4,
    "start_time": "2022-10-25T19:38:24.566Z"
   },
   {
    "duration": 18,
    "start_time": "2022-10-25T19:40:47.008Z"
   },
   {
    "duration": 7,
    "start_time": "2022-10-25T19:40:56.119Z"
   },
   {
    "duration": 8,
    "start_time": "2022-10-25T19:44:09.503Z"
   },
   {
    "duration": 12,
    "start_time": "2022-10-25T19:44:30.748Z"
   },
   {
    "duration": 10,
    "start_time": "2022-10-25T19:45:09.488Z"
   },
   {
    "duration": 4,
    "start_time": "2022-10-25T19:45:13.671Z"
   },
   {
    "duration": 3,
    "start_time": "2022-10-25T19:47:08.836Z"
   },
   {
    "duration": 195,
    "start_time": "2022-10-25T19:47:08.841Z"
   },
   {
    "duration": 11,
    "start_time": "2022-10-25T19:47:09.037Z"
   },
   {
    "duration": 61,
    "start_time": "2022-10-25T19:47:09.049Z"
   },
   {
    "duration": 40,
    "start_time": "2022-10-25T19:47:09.112Z"
   },
   {
    "duration": 50,
    "start_time": "2022-10-25T19:47:09.153Z"
   },
   {
    "duration": 24,
    "start_time": "2022-10-25T19:47:09.205Z"
   },
   {
    "duration": 41,
    "start_time": "2022-10-25T19:47:09.230Z"
   },
   {
    "duration": 67,
    "start_time": "2022-10-25T19:47:09.272Z"
   },
   {
    "duration": 53,
    "start_time": "2022-10-25T19:47:09.341Z"
   },
   {
    "duration": 32,
    "start_time": "2022-10-25T19:47:09.396Z"
   },
   {
    "duration": 90,
    "start_time": "2022-10-25T19:47:09.430Z"
   },
   {
    "duration": 64,
    "start_time": "2022-10-25T19:47:09.522Z"
   },
   {
    "duration": 67,
    "start_time": "2022-10-25T19:47:09.590Z"
   },
   {
    "duration": 38,
    "start_time": "2022-10-25T19:47:09.659Z"
   },
   {
    "duration": 22,
    "start_time": "2022-10-25T19:47:09.699Z"
   },
   {
    "duration": 65,
    "start_time": "2022-10-25T19:47:09.722Z"
   },
   {
    "duration": 12,
    "start_time": "2022-10-25T19:47:09.789Z"
   },
   {
    "duration": 43,
    "start_time": "2022-10-25T19:47:09.803Z"
   },
   {
    "duration": 5,
    "start_time": "2022-10-25T19:47:09.848Z"
   },
   {
    "duration": 62,
    "start_time": "2022-10-25T19:47:09.855Z"
   },
   {
    "duration": 43,
    "start_time": "2022-10-25T19:47:09.918Z"
   },
   {
    "duration": 47,
    "start_time": "2022-10-25T19:47:09.963Z"
   },
   {
    "duration": 32,
    "start_time": "2022-10-25T19:47:10.012Z"
   },
   {
    "duration": 40,
    "start_time": "2022-10-25T19:47:10.046Z"
   },
   {
    "duration": 26,
    "start_time": "2022-10-25T19:47:10.088Z"
   },
   {
    "duration": 36,
    "start_time": "2022-10-25T19:47:10.115Z"
   },
   {
    "duration": 37,
    "start_time": "2022-10-25T19:47:10.153Z"
   },
   {
    "duration": 23,
    "start_time": "2022-10-25T19:47:10.192Z"
   },
   {
    "duration": 34,
    "start_time": "2022-10-25T19:47:10.216Z"
   },
   {
    "duration": 41,
    "start_time": "2022-10-25T19:47:10.252Z"
   },
   {
    "duration": 32,
    "start_time": "2022-10-25T19:47:10.294Z"
   },
   {
    "duration": 57,
    "start_time": "2022-10-25T19:47:10.327Z"
   },
   {
    "duration": 16,
    "start_time": "2022-10-25T19:47:10.385Z"
   },
   {
    "duration": 42,
    "start_time": "2022-10-25T19:47:10.402Z"
   },
   {
    "duration": 34,
    "start_time": "2022-10-25T19:47:10.446Z"
   },
   {
    "duration": 38,
    "start_time": "2022-10-25T19:47:10.482Z"
   },
   {
    "duration": 25,
    "start_time": "2022-10-25T19:47:10.521Z"
   },
   {
    "duration": 5,
    "start_time": "2022-10-25T19:49:05.606Z"
   },
   {
    "duration": 7,
    "start_time": "2022-10-25T19:49:46.741Z"
   },
   {
    "duration": 19,
    "start_time": "2022-10-25T19:51:17.193Z"
   },
   {
    "duration": 9,
    "start_time": "2022-10-25T19:53:19.041Z"
   },
   {
    "duration": 7,
    "start_time": "2022-10-25T19:54:56.483Z"
   },
   {
    "duration": 5,
    "start_time": "2022-10-25T19:56:30.678Z"
   }
  ],
  "colab": {
   "collapsed_sections": [
    "E0vqbgi9ay0H",
    "VUC88oWjTJw2"
   ],
   "name": "automatization_template_upd4.ipynb",
   "provenance": []
  },
  "kernelspec": {
   "display_name": "Python 3 (ipykernel)",
   "language": "python",
   "name": "python3"
  },
  "language_info": {
   "codemirror_mode": {
    "name": "ipython",
    "version": 3
   },
   "file_extension": ".py",
   "mimetype": "text/x-python",
   "name": "python",
   "nbconvert_exporter": "python",
   "pygments_lexer": "ipython3",
   "version": "3.9.5"
  },
  "toc": {
   "base_numbering": 1,
   "nav_menu": {
    "height": "215px",
    "width": "403px"
   },
   "number_sections": true,
   "sideBar": true,
   "skip_h1_title": true,
   "title_cell": "Table of Contents",
   "title_sidebar": "Contents",
   "toc_cell": false,
   "toc_position": {
    "height": "calc(100% - 180px)",
    "left": "10px",
    "top": "150px",
    "width": "285.825px"
   },
   "toc_section_display": true,
   "toc_window_display": false
  }
 },
 "nbformat": 4,
 "nbformat_minor": 1
}
