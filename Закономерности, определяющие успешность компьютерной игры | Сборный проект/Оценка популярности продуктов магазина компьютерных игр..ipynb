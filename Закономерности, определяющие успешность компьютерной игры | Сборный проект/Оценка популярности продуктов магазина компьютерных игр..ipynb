{
 "cells": [
  {
   "cell_type": "markdown",
   "id": "c70aa38a",
   "metadata": {},
   "source": [
    "## Оценка популярности продуктов магазина компьютерных игр. Планирование рекламных компаний."
   ]
  },
  {
   "cell_type": "markdown",
   "id": "8ec6a022",
   "metadata": {},
   "source": [
    "### Описание проекта\n",
    "#### Вы работаете в интернет-магазине «Стримчик», который продаёт по всему миру компьютерные игры. Из открытых источников доступны исторические данные о продажах игр, оценки пользователей и экспертов, жанры и платформы (например, Xbox или PlayStation). \n",
    "#### Задача - выявить определяющие успешность игры закономерности. Это позволит сделать ставку на потенциально популярный продукт и спланировать рекламные кампании.\n",
    "#### Рассмотрены данные до 2016 года. Отработаны принципы работы с данными. Спрогнозированы продажи на 2017 год по данным 2016."
   ]
  },
  {
   "cell_type": "code",
   "execution_count": null,
   "id": "34b5a223",
   "metadata": {},
   "outputs": [],
   "source": [
    "import pandas as pd #импортировал библиотеку pandas\n",
    "import matplotlib.pyplot as plt #импортировал библиотеку mathplotlib\n",
    "import seaborn as sns #импортировал библиотеку seaborn\n",
    "import numpy as np #импортировал библиотеку numpy\n",
    "from scipy import stats as st # из библиотеки scipy импортировал модуль stats"
   ]
  },
  {
   "cell_type": "markdown",
   "id": "66b3e8ff",
   "metadata": {},
   "source": [
    "## Шаг 1. Ознакомление с данными."
   ]
  },
  {
   "cell_type": "code",
   "execution_count": null,
   "id": "0dc952f8",
   "metadata": {},
   "outputs": [],
   "source": [
    "try:\n",
    "    df = pd.read_csv(r\"D:\\DOCS\\datasets\\games.csv\")\n",
    "except FileNotFoundError:\n",
    "    df = pd.read_csv('/datasets/games.csv')"
   ]
  },
  {
   "cell_type": "code",
   "execution_count": null,
   "id": "3adfa916",
   "metadata": {},
   "outputs": [],
   "source": [
    "# Вывел первые 20 строк DataFrame\n",
    "df.head(20)"
   ]
  },
  {
   "cell_type": "code",
   "execution_count": null,
   "id": "ce92abfc",
   "metadata": {
    "scrolled": true
   },
   "outputs": [],
   "source": [
    "#получил основную информацию о датафрейме\n",
    "df.info(); "
   ]
  },
  {
   "cell_type": "code",
   "execution_count": null,
   "id": "e5f0d1e2",
   "metadata": {},
   "outputs": [],
   "source": [
    "#получил количество пропусков в каждом столбце\n",
    "df.isna().sum() "
   ]
  },
  {
   "cell_type": "code",
   "execution_count": null,
   "id": "5f7d95a8",
   "metadata": {},
   "outputs": [],
   "source": [
    "# вывел для наглядности пропущенные значения бары\n",
    "def pass_value_barh(df):\n",
    "    try:\n",
    "        (\n",
    "            (df.isna().mean()*100)\n",
    "            .to_frame()\n",
    "            .rename(columns = {0:'space'})\n",
    "            .query('space > 0')\n",
    "            .sort_values(by = 'space', ascending = True)\n",
    "            .plot(kind = 'barh', figsize = (19,6), rot = -5, legend = False, fontsize = 16)\n",
    "            .set_title('Количество пропусков' + \"\\n\", fontsize = 22, color = 'SteelBlue')    \n",
    "        );    \n",
    "    except:\n",
    "        print('пропусков не осталось :) ')"
   ]
  },
  {
   "cell_type": "code",
   "execution_count": null,
   "id": "387e5c8e",
   "metadata": {
    "scrolled": true
   },
   "outputs": [],
   "source": [
    "pass_value_barh(df)"
   ]
  },
  {
   "cell_type": "markdown",
   "id": "a754ccf4",
   "metadata": {},
   "source": [
    "##### В столбцах Genre  и Name есть небольшое количество пропусков. Эти строки планируется удалить. Также поступим со строками в коропых есть пропуски в столбце Year_of_Release. Пропуски в значениях рейтинга заменим на значение unknown. Пропуски в столбцах Critic_Score и User_Score решено оставить с свзи с тем, что заполнение их медианным и средним значением отразилось бы на дальнейшем исследовании и могло бы привести к некорректным результатам."
   ]
  },
  {
   "cell_type": "markdown",
   "id": "d6d14f81",
   "metadata": {},
   "source": [
    "## Шаг 2. Предобработка данных"
   ]
  },
  {
   "cell_type": "code",
   "execution_count": null,
   "id": "dd94e586",
   "metadata": {},
   "outputs": [],
   "source": [
    "# Удалил строки с пропущенным значением в названии игры\n",
    "df.dropna(subset=['Name'], inplace = True)"
   ]
  },
  {
   "cell_type": "markdown",
   "id": "d09a1cc3",
   "metadata": {},
   "source": [
    "##### Пропуски в столбце Name восстановить не получится. Так как данных строк небольшое количество, их удаление не повлияет на дальнейший анализ. В связи с этим, решил удалить эти строки"
   ]
  },
  {
   "cell_type": "code",
   "execution_count": null,
   "id": "c78e74b4",
   "metadata": {},
   "outputs": [],
   "source": [
    "# Удалил строки с пропущенным значением в жанре\n",
    "df.dropna(subset=['Genre'], inplace = True)"
   ]
  },
  {
   "cell_type": "markdown",
   "id": "564cb269",
   "metadata": {},
   "source": [
    "##### Пропуски в столбце Genre также восстоновить возможности нет. Их также небольшое количество. Строки с пропусками в Genre также можно удалить. Это не повлияет на дальнейший анализ."
   ]
  },
  {
   "cell_type": "code",
   "execution_count": null,
   "id": "d3fb9f33",
   "metadata": {},
   "outputs": [],
   "source": [
    "# Удалил строки с пропущенным значением в году релиза\n",
    "df.dropna(subset=['Year_of_Release'], inplace = True)"
   ]
  },
  {
   "cell_type": "markdown",
   "id": "012c75dd",
   "metadata": {},
   "source": [
    "##### Пропусков в столбце Year_of_Release уже больше, некритичная потеря данных для анализа составялет 5%. В связи с тем, что восстановить эти строки не представляется возможным, решено их удалить"
   ]
  },
  {
   "cell_type": "code",
   "execution_count": null,
   "id": "4cd25000",
   "metadata": {},
   "outputs": [],
   "source": [
    "# Заменил пропуски в значениях рейтинга на значение Unknown. Это действие понадобится в дальнейшем\n",
    "# Написал его в этот блок, чтобы сохроанить структуру.\n",
    "df['Rating'] = df['Rating'].fillna('unknown')"
   ]
  },
  {
   "cell_type": "code",
   "execution_count": null,
   "id": "0a28eed1",
   "metadata": {
    "scrolled": false
   },
   "outputs": [],
   "source": [
    "# Выведем все дубликаты по столбцам name и platform\n",
    "df[df.duplicated(subset = ['Name','Platform'], keep = False)]"
   ]
  },
  {
   "cell_type": "code",
   "execution_count": null,
   "id": "6abeac8b",
   "metadata": {},
   "outputs": [],
   "source": [
    "# Дубликатов небольшое количество, их можно удалить без критической потри данных\n",
    "df = df.drop_duplicates(subset = ['Name','Platform'], keep = False).reset_index(drop=True)"
   ]
  },
  {
   "cell_type": "code",
   "execution_count": null,
   "id": "fa572c08",
   "metadata": {},
   "outputs": [],
   "source": [
    "# Check\n",
    "df[df.duplicated(subset = ['Name','Platform'], keep = False)]"
   ]
  },
  {
   "cell_type": "code",
   "execution_count": null,
   "id": "1a3461cf",
   "metadata": {},
   "outputs": [],
   "source": [
    "# Check\n",
    "df.info()"
   ]
  },
  {
   "cell_type": "markdown",
   "id": "ede2d51b",
   "metadata": {},
   "source": [
    "##### Заполнил пропуски в столбце Rating значением unknown, восстановить пропуски истинным значением не представляется возможным. Пропуски в столбцах Critic_Score и User_Score решено оставить с свзи с тем, что заполнение их медианным и средним значением отразилось бы на дальнейшем исследовании и могло бы привести к некорректным результатам."
   ]
  },
  {
   "cell_type": "code",
   "execution_count": null,
   "id": "958e793b",
   "metadata": {},
   "outputs": [],
   "source": [
    "# Привел названия столбцов к нижнему регистру\n",
    "df.columns = df.columns.str.lower()"
   ]
  },
  {
   "cell_type": "code",
   "execution_count": null,
   "id": "5373ffd8",
   "metadata": {},
   "outputs": [],
   "source": [
    "# Check\n",
    "df.head(5)"
   ]
  },
  {
   "cell_type": "code",
   "execution_count": null,
   "id": "e4415575",
   "metadata": {
    "scrolled": true
   },
   "outputs": [],
   "source": [
    "df.info()"
   ]
  },
  {
   "cell_type": "markdown",
   "id": "2033b394",
   "metadata": {},
   "source": [
    "###### Видим в столбце year_of_relaese тип float64, необходимо привести его к Int64. Год - целое число"
   ]
  },
  {
   "cell_type": "code",
   "execution_count": null,
   "id": "9e740f19",
   "metadata": {},
   "outputs": [],
   "source": [
    "# Привел значения в столбце year_of_release к Int64\n",
    "df['year_of_release'] = df['year_of_release'].astype('Int64')"
   ]
  },
  {
   "cell_type": "code",
   "execution_count": null,
   "id": "f30e04fe",
   "metadata": {},
   "outputs": [],
   "source": [
    "# Check\n",
    "df.info()"
   ]
  },
  {
   "cell_type": "code",
   "execution_count": null,
   "id": "83ef69d6",
   "metadata": {},
   "outputs": [],
   "source": [
    "# Вывел уникальные значения оценки игры  гроками\n",
    "df['user_score'].unique()"
   ]
  },
  {
   "cell_type": "code",
   "execution_count": null,
   "id": "039208b7",
   "metadata": {},
   "outputs": [],
   "source": [
    "# Выявил рейтинг tbd. Предположил, что это to be determined, то есть рейтиг формируется. \n",
    "# Такое возможно, если это новый релиз. Решил подробнее изучить строки с данной оценкой игроков\n",
    "df.query('user_score == \"tbd\"')"
   ]
  },
  {
   "cell_type": "code",
   "execution_count": null,
   "id": "e8189f44",
   "metadata": {},
   "outputs": [],
   "source": [
    "# Предположение не подтвердилось. Рейтинг tbd имеют релизы как новые, так и старые. \n",
    "# Также это может быть связанос тем, что продажи данных игр были слишком малы для формирования рейтинга.\n",
    "# Решил заменить значения tbd в столбце  user_score на NaN. Что значит, что в данный момент рейтинг отсутствует.\n",
    "df['user_score'] = df['user_score'].replace('tbd', np.NaN, regex=True)"
   ]
  },
  {
   "cell_type": "code",
   "execution_count": null,
   "id": "497f19e1",
   "metadata": {},
   "outputs": [],
   "source": [
    "# Check\n",
    "df['user_score'].unique()"
   ]
  },
  {
   "cell_type": "code",
   "execution_count": null,
   "id": "581b849d",
   "metadata": {},
   "outputs": [],
   "source": [
    "# Привел значения столбца user_score к типу float\n",
    "df['user_score'] = df['user_score'].astype('float64')"
   ]
  },
  {
   "cell_type": "markdown",
   "id": "8790c5cd",
   "metadata": {},
   "source": [
    "###### Привел значения в столбце user_score к типу float64, так как оценкци выражены в числах с плавающей точкой."
   ]
  },
  {
   "cell_type": "code",
   "execution_count": null,
   "id": "8d4d4aae",
   "metadata": {},
   "outputs": [],
   "source": [
    "# Добавил столбец общих продах, который равен сумме продаж по всем регионам\n",
    "df['total_sales'] = df['na_sales'] + df['eu_sales'] + df['jp_sales'] + df['other_sales']"
   ]
  },
  {
   "cell_type": "code",
   "execution_count": null,
   "id": "58b9d25e",
   "metadata": {},
   "outputs": [],
   "source": [
    "# Check\n",
    "df.head(5)"
   ]
  },
  {
   "cell_type": "code",
   "execution_count": null,
   "id": "e1aa381d",
   "metadata": {
    "scrolled": true
   },
   "outputs": [],
   "source": [
    "df.info()"
   ]
  },
  {
   "cell_type": "markdown",
   "id": "2ac9c91b",
   "metadata": {},
   "source": [
    "## Шаг 3. Исследовательский анализ данных"
   ]
  },
  {
   "cell_type": "code",
   "execution_count": null,
   "id": "142d922e",
   "metadata": {
    "scrolled": false
   },
   "outputs": [],
   "source": [
    "# проверил число релизов по годам\n",
    "releases_count = df.groupby('year_of_release')['name'].count()\n",
    "releases_count.plot(kind='bar', grid=True, figsize = (15,5), title='Число релизов в год');"
   ]
  },
  {
   "cell_type": "code",
   "execution_count": null,
   "id": "9cf86f73",
   "metadata": {},
   "outputs": [],
   "source": [
    "# Оценил суммарные продажи по всем платформам\n",
    "platform_total_sales = df.groupby(['platform'])['total_sales'].sum()\n",
    "platform_total_sales.sort_values(ascending=False)"
   ]
  },
  {
   "cell_type": "markdown",
   "id": "711313b9",
   "metadata": {},
   "source": [
    "##### Максимальные продажи ха весь периожд наблюдения у платформ PS2 и Xbox360. Оценим динамику продаж на этих платформах по годам."
   ]
  },
  {
   "cell_type": "code",
   "execution_count": null,
   "id": "df33352a",
   "metadata": {},
   "outputs": [],
   "source": [
    "# Создал датафрейм с релизами только на PS2 и XBox360\n",
    "max_total_sales_platform = df.loc[(df['platform'] == \"PS3\") | (df['platform'] == \"X360\")]\n",
    "# Оценил динамику продаж на этих платформах по годам\n",
    "max_total_sales_platform_pivot = max_total_sales_platform.pivot_table(index=['year_of_release'],\n",
    "                                                  columns='platform',\n",
    "                                                  values='total_sales',\n",
    "                                                  aggfunc='sum')\n",
    "max_total_sales_platform_pivot.plot(kind='line',grid=True,figsize=(15, 7));"
   ]
  },
  {
   "cell_type": "markdown",
   "id": "59b89f7c",
   "metadata": {},
   "source": [
    "##### По данному графику можно оценить срок жизни платформы. В предыдущем поколении  он состовил 8 лет активных продаж новых релизов."
   ]
  },
  {
   "cell_type": "markdown",
   "id": "a56c5ef9",
   "metadata": {},
   "source": [
    "##### В связи с тем, что наш анализ направлен на оценку нынешней популярности платформ и прогнозе  их популярности в будущем, решил в дальнейшем анализе оставить релизы с 2014 по 2016 год"
   ]
  },
  {
   "cell_type": "code",
   "execution_count": null,
   "id": "0b02661f",
   "metadata": {},
   "outputs": [],
   "source": [
    "# взял срез вктуальных релизов, чтобы сократить число платворим, на которые уже не выходят новые игры \n",
    "# для оценки прадаж по платформам в дальнейшем\n",
    "actual_release = df.loc[(df['year_of_release']>=2014) & (df['year_of_release']<=2016)]\n",
    "# оценил продажи по платформам, на которых выходят актуальные игры\n",
    "artual_release_pivot = actual_release.pivot_table(index=['year_of_release'],\n",
    "                                                  columns='platform',\n",
    "                                                  values='total_sales',\n",
    "                                                  aggfunc='sum')\n",
    "# постотоил график\n",
    "artual_release_pivot.plot(kind='line',grid=True,figsize=(15, 7), title = 'Динамика продаж актуальных релизов за 2015-2016');"
   ]
  },
  {
   "cell_type": "markdown",
   "id": "9144fcfd",
   "metadata": {},
   "source": [
    "#### По данному графику можно судить о том, что новые релизы выходят на PS4 и XOne, они являются актуальными платформами по которым в дальшейшем будем делать анализ. На текущий период отмечается спад продаж по всем платформам в течение последнего года."
   ]
  },
  {
   "cell_type": "code",
   "execution_count": null,
   "id": "0e301977",
   "metadata": {
    "scrolled": true
   },
   "outputs": [],
   "source": [
    "actual_release.boxplot(column='total_sales', by='platform', figsize=(25,7));"
   ]
  },
  {
   "cell_type": "markdown",
   "id": "ae191a44",
   "metadata": {},
   "source": [
    "##### По данному графику можно судить о том, что наибольшие продажи актуальных релизов на платформах Nintendo 3DS, XBoxOne и PS4"
   ]
  },
  {
   "cell_type": "code",
   "execution_count": null,
   "id": "41abbc9b",
   "metadata": {},
   "outputs": [],
   "source": [
    "actual_release_1 = actual_release.loc[actual_release['total_sales']<=2].boxplot(\n",
    "    column='total_sales', \n",
    "    by='platform', \n",
    "    figsize=(25,7))"
   ]
  },
  {
   "cell_type": "markdown",
   "id": "c8e841dd",
   "metadata": {},
   "source": [
    "##### Тот же график диаграмма размаха со сниженным значением total_sales"
   ]
  },
  {
   "cell_type": "code",
   "execution_count": null,
   "id": "5035c4ec",
   "metadata": {
    "scrolled": false
   },
   "outputs": [],
   "source": [
    "actual_release"
   ]
  },
  {
   "cell_type": "code",
   "execution_count": null,
   "id": "26d3e1d7",
   "metadata": {},
   "outputs": [],
   "source": [
    "# Создал DataFrame actual_platform  в котором отражаются актуальные релизы на PS4 и XOne за 2014-2016 год\n",
    "actual_platform = actual_release.loc[(actual_release['platform'] == 'PS4') | (actual_release['platform'] == 'XOne')]"
   ]
  },
  {
   "cell_type": "code",
   "execution_count": null,
   "id": "7b5238ab",
   "metadata": {},
   "outputs": [],
   "source": [
    "# Создал DataFrame actaul_PS4  в котором отражены релизы на PS4 с 2014 по 2016\n",
    "actual_PS4 = actual_platform.loc[actual_platform['platform'] == 'PS4']"
   ]
  },
  {
   "cell_type": "code",
   "execution_count": null,
   "id": "86d15c93",
   "metadata": {},
   "outputs": [],
   "source": [
    "# Создал DataFrame actaul_XOne  в котором отражены релизы на XBoxOne с 2014 по 2016\n",
    "actual_XOne = actual_platform.loc[actual_platform['platform'] == 'XOne']"
   ]
  },
  {
   "cell_type": "code",
   "execution_count": null,
   "id": "9029ad81",
   "metadata": {},
   "outputs": [],
   "source": [
    "# Построил диаграмму рассеяния влияния оценки критиков на продажи актуальных релизов на PS4\n",
    "actual_PS4.plot(x='critic_score', y='total_sales', kind='scatter', alpha=0.5, grid=True, \n",
    "                title='Влияние оценки критиков на продажи актуальных релизов на PS4');\n",
    "# Посчитал коэффициент Пирсона влияния оценки критиков на продажи актуальных релизов на PS4\n",
    "print('Коэффициент Пирсона =', actual_PS4['critic_score'].corr(actual_PS4['total_sales']))"
   ]
  },
  {
   "cell_type": "markdown",
   "id": "52ed243a",
   "metadata": {},
   "source": [
    "##### Существует слабая связь между оценками критиков и общими продажами новых релизов на PS4. В некоторых случаях релизы получившие более высокие оценки лучше продаются"
   ]
  },
  {
   "cell_type": "code",
   "execution_count": null,
   "id": "41c20a5a",
   "metadata": {},
   "outputs": [],
   "source": [
    "# Построил диаграмму рассеяния влияния оценки игроков на продажи актуальных релизов на PS4\n",
    "actual_PS4.plot(x='user_score', y='total_sales', kind='scatter', alpha=0.5, grid=True,\n",
    "               title='Влияние оценки игроков на продажи актуальных релизов на PS4');\n",
    "# Посчитал коэффициент Пирсона влияния оценки игроков на продажи актуальных релизов на PS4\n",
    "print('Коэффициент Пирсона =',actual_PS4['user_score'].corr(actual_PS4['total_sales']))"
   ]
  },
  {
   "cell_type": "markdown",
   "id": "c63318ee",
   "metadata": {},
   "source": [
    "##### Связь между оценками игроков и общими продажами новых релизов на PS4 отсутствует. Что говорит о том, новый релиз даже с низкими оценками игроков может иметь коммерческий успех "
   ]
  },
  {
   "cell_type": "code",
   "execution_count": null,
   "id": "1d8bea34",
   "metadata": {},
   "outputs": [],
   "source": [
    "# Построил диаграмму рассеяния влияния оценки критиков на продажи актуальных релизов на XBoxOne\n",
    "actual_XOne.plot(x='critic_score', y='total_sales', kind='scatter', alpha=0.5, grid=True,\n",
    "                title='Влияние оценки критиков на продажи актуальных релизов на XBoxOne');\n",
    "# Посчитал коэффициент Пирсона влияния оценки критиков на продажи актуальных релизов на XBoxOne\n",
    "print('Коэффициент Пирсона =', actual_XOne['critic_score'].corr(actual_XOne['total_sales']))"
   ]
  },
  {
   "cell_type": "markdown",
   "id": "b9c6b066",
   "metadata": {},
   "source": [
    "##### Существует слабая связь между оценками критиков и общими продажами новых релизов на XBoxOne. Релизы получившие более высокие оценки в некоторых случаях лучше продаются, результат сопоставим с полученным результатом на PS4¶"
   ]
  },
  {
   "cell_type": "code",
   "execution_count": null,
   "id": "3fe3ddfa",
   "metadata": {
    "scrolled": false
   },
   "outputs": [],
   "source": [
    "# Построил диаграмму рассеяния влияния оценки игроков на продажи актуальных релизов на XBoxOne\n",
    "actual_XOne.plot(x='user_score', y='total_sales', kind='scatter', alpha=0.5, grid=True,\n",
    "                title='Влияние оценки игроков на продажи актуальных релизов на XBoxOne');\n",
    "# Посчитал коэффициент Пирсона влияния оценки игроков на продажи актуальных релизов на XBoxOne\n",
    "print('Коэффициент Пирсона =',actual_XOne['user_score'].corr(actual_XOne['total_sales']))"
   ]
  },
  {
   "cell_type": "markdown",
   "id": "d4601e7a",
   "metadata": {},
   "source": [
    "##### Связь между оценками игроков и общими продажами новых релизов на XBoxOne отсутствует. Релизы получившие низкие оценки игроков могут иметь коммерческий успех."
   ]
  },
  {
   "cell_type": "code",
   "execution_count": null,
   "id": "14efa236",
   "metadata": {
    "scrolled": true
   },
   "outputs": [],
   "source": [
    "# Оценил самые прибыльные жанры всех релизов\n",
    "genre_sales = df.groupby('genre')['total_sales'].sum()\n",
    "genre_sales_sorted = genre_sales.sort_values(ascending=True)\n",
    "genre_sales_sorted.plot(kind = 'barh', figsize = (19,6), fontsize = 16, \n",
    "                        title='Прибыльность жанров за все время продаж');"
   ]
  },
  {
   "cell_type": "markdown",
   "id": "038bfd22",
   "metadata": {},
   "source": [
    "#####  Самыми прибыльными жанрами за все время наблюдения являются Action, Sports, Shooter, Role_Playing"
   ]
  },
  {
   "cell_type": "code",
   "execution_count": null,
   "id": "652ff761",
   "metadata": {
    "scrolled": true
   },
   "outputs": [],
   "source": [
    "# Оценил самые прибыльные жанры на актуальных платформах \n",
    "acrual_genre_sales = actual_platform.groupby('genre')['total_sales'].sum()\n",
    "acrual_genre_sales_sorted = acrual_genre_sales.sort_values(ascending=True)\n",
    "acrual_genre_sales_sorted.plot(kind = 'barh', figsize = (19,6), fontsize = 16, \n",
    "                               title='Прибыльность жанров на актуальных платформах');"
   ]
  },
  {
   "cell_type": "code",
   "execution_count": null,
   "id": "18231ae0",
   "metadata": {},
   "outputs": [],
   "source": [
    "actual_release.boxplot(column='total_sales', by='genre', figsize=(25,7));"
   ]
  },
  {
   "cell_type": "code",
   "execution_count": null,
   "id": "c46904af",
   "metadata": {
    "scrolled": true
   },
   "outputs": [],
   "source": [
    "actual_release.boxplot(column='total_sales', by='genre', figsize=(25,7));\n",
    "ylim=(0,2)"
   ]
  },
  {
   "cell_type": "markdown",
   "id": "28fbe7fc",
   "metadata": {},
   "source": [
    "#####  На данной диаграмме размаха можно оценить продажи актуальных релизов в разбтвке по жанрам. Самым прибыльным жанром среди актульных релизов является жанр Shooter, у релизов этого жанра наблюдается высокий показатель медианы и межквартильного размаха продаж. Жано Sports также показывает хорошие показатели медианы продаж, но новые релизы на платформах, определенных, как популярные, имеют меньший коммерческий успех в отличии от жанра Action. "
   ]
  },
  {
   "cell_type": "code",
   "execution_count": null,
   "id": "e8bbb659",
   "metadata": {},
   "outputs": [],
   "source": [
    "# Создал срез актуальных релизов жанра Shooter\n",
    "actual_shooter = actual_release.loc[actual_release['genre'] == 'Shooter']\n",
    "# Вывел более детальное числовое описание общих продаж новых релизов жанра Shooter\n",
    "actual_shooter['total_sales'].describe()"
   ]
  },
  {
   "cell_type": "code",
   "execution_count": null,
   "id": "9d7a94fb",
   "metadata": {},
   "outputs": [],
   "source": [
    "# Создал срез актуальных релизов жанра Action\n",
    "actual_action = actual_release.loc[actual_release['genre'] == 'Action']\n",
    "# Вывел более детальное числовое описание общих продаж новых релизов жанра Action\n",
    "actual_action['total_sales'].describe()"
   ]
  },
  {
   "cell_type": "code",
   "execution_count": null,
   "id": "19c138d8",
   "metadata": {},
   "outputs": [],
   "source": [
    "# Создал срез актуальных релизов жанра Sports\n",
    "actual_sports = actual_release.loc[actual_release['genre'] == 'Sports']\n",
    "# Вывел более детальное числовое описание общих продаж новых релизов жанра Sports\n",
    "actual_sports['total_sales'].describe()"
   ]
  },
  {
   "cell_type": "markdown",
   "id": "f4dfcecd",
   "metadata": {},
   "source": [
    "##### Самым прибыльным жанром на актуальных платформах является Shooter. Action показал себя более прибыльным чем Sports."
   ]
  },
  {
   "cell_type": "code",
   "execution_count": null,
   "id": "a2ac41bd",
   "metadata": {},
   "outputs": [],
   "source": [
    "# Отдельно решил оценить прибыльные жанры на PS4 \n",
    "actual_PS4_genre = actual_PS4.groupby('genre')['total_sales'].sum()\n",
    "actual_PS4_genre_sorted = actual_PS4_genre.sort_values(ascending=True)\n",
    "actual_PS4_genre_sorted.plot(kind = 'barh', figsize = (19,6), fontsize = 16, title='Прибыльность жанров на PS4');"
   ]
  },
  {
   "cell_type": "markdown",
   "id": "c0f84938",
   "metadata": {},
   "source": [
    "##### На PS4 наиболее прибыльным оказался жанр Action, на втором месте жанр Shooterб на третьем Sports, на четвертом также остается Role_Playing"
   ]
  },
  {
   "cell_type": "code",
   "execution_count": null,
   "id": "492b4475",
   "metadata": {},
   "outputs": [],
   "source": [
    "# Также отдельная оценка прибыльных жанров на XBoxOne \n",
    "actual_XOne_genre = actual_XOne.groupby('genre')['total_sales'].sum()\n",
    "actual_XOne_genre_sorted = actual_XOne_genre.sort_values(ascending=True)\n",
    "actual_XOne_genre_sorted.plot(kind = 'barh', figsize = (19,6), fontsize = 16, title='Прибыльность жанров на XBoxOne');"
   ]
  },
  {
   "cell_type": "markdown",
   "id": "e4a6db73",
   "metadata": {},
   "source": [
    "##### На XBoxOne самым прибыльным жанром оказался Shooter. на втором месте Action, Sports и Role_Playing не изменили своих позиций"
   ]
  },
  {
   "cell_type": "markdown",
   "id": "6186ddf6",
   "metadata": {},
   "source": [
    "### Портрет пользователя в Северной Америке"
   ]
  },
  {
   "cell_type": "code",
   "execution_count": null,
   "id": "50b69d08",
   "metadata": {},
   "outputs": [],
   "source": [
    "# Оценил на каких платформах лучше всего продаются новые релизы в Северной Америке\n",
    "na_top_platform = actual_release.groupby('platform')['na_sales'].sum().sort_values(ascending=True)\n",
    "na_top_platform.plot(kind = 'barh', figsize = (19,6), fontsize = 16, title='Актуальность платформ в Северной Америке');"
   ]
  },
  {
   "cell_type": "markdown",
   "id": "aa11e7ae",
   "metadata": {},
   "source": [
    "##### Самыми популярными платформами для покупки новых релизов в Северной Америке являются PS4 и XBoxOne. Между основными платформами наблюдается небольшой отрыв. Лидирует PS4"
   ]
  },
  {
   "cell_type": "code",
   "execution_count": null,
   "id": "19a0b915",
   "metadata": {
    "scrolled": true
   },
   "outputs": [],
   "source": [
    "na_top_platform = actual_release.groupby('genre')['na_sales'].sum().sort_values(ascending=True)\n",
    "na_top_platform.plot(kind = 'barh', figsize = (19,6), fontsize = 16, title='Актуальность жанров в Северной Америке');"
   ]
  },
  {
   "cell_type": "markdown",
   "id": "c4008f94",
   "metadata": {},
   "source": [
    "##### Самыми популярными жанрами в Северной Америке являются Shooter, Action, Sports, Role-Playing"
   ]
  },
  {
   "cell_type": "code",
   "execution_count": null,
   "id": "57d5f51f",
   "metadata": {},
   "outputs": [],
   "source": [
    "na_rating = actual_release.groupby('rating')['na_sales'].agg(['sum']).reset_index()\n",
    "na_rating = na_rating.sort_values(by='sum',ascending=False)\n",
    "na_rating = na_rating.set_index('rating')\n",
    "na_rating.plot(kind='pie', y='sum', autopct='%1.0f%%', legend=False, figsize=(7,7), title='Рейтинг релизов ESRB');"
   ]
  },
  {
   "cell_type": "markdown",
   "id": "5115e84f",
   "metadata": {},
   "source": [
    "##### Наибольший коммерческий успех у релизов с рейтингом М(для лиц старше 17 лет)"
   ]
  },
  {
   "cell_type": "markdown",
   "id": "9f6627d0",
   "metadata": {},
   "source": [
    "#### Таким образом в Северной Америке наибольшую популярность имеют платформы PS4 и XBoxOne. Наиболее популярными жанрами(топ-3) являются: Shooter,  Action, Sport. Наиболее популярны релизы с рейтингом М(для лиц старше 17 лет)"
   ]
  },
  {
   "cell_type": "markdown",
   "id": "86a0a4ae",
   "metadata": {},
   "source": [
    "### Портрет пользователя в Европе"
   ]
  },
  {
   "cell_type": "code",
   "execution_count": null,
   "id": "eb74f0e5",
   "metadata": {},
   "outputs": [],
   "source": [
    "# Оценил на каких платформах лучше всего продаются новые релизы в Европе\n",
    "eu_top_platform = actual_release.groupby('platform')['eu_sales'].sum().sort_values(ascending=True)\n",
    "eu_top_platform.plot(kind = 'barh', figsize = (19,6), fontsize = 16, title='Актуальность платформ в Европе');"
   ]
  },
  {
   "cell_type": "markdown",
   "id": "90aa09c1",
   "metadata": {},
   "source": [
    "##### Основными платформами для покупки новых релизов являются PS4 и XBoxOne, причем PS4 лидируется с большим отрывом."
   ]
  },
  {
   "cell_type": "code",
   "execution_count": null,
   "id": "1d4341e7",
   "metadata": {},
   "outputs": [],
   "source": [
    "eu_top_platform = actual_release.groupby('genre')['eu_sales'].sum().sort_values(ascending=True)\n",
    "eu_top_platform.plot(kind = 'barh', figsize = (19,6), fontsize = 16, title='Актуальность жанров в Европе');"
   ]
  },
  {
   "cell_type": "markdown",
   "id": "67355981",
   "metadata": {},
   "source": [
    "##### В Европе чаще покупают игры жанра Action, чем Shooter. Эти жанры являются лидирующими. На третьем месте Sports, за ним Role_Playing"
   ]
  },
  {
   "cell_type": "code",
   "execution_count": null,
   "id": "246e9297",
   "metadata": {},
   "outputs": [],
   "source": [
    "eu_rating = actual_release.groupby('rating')['eu_sales'].agg(['sum']).reset_index()\n",
    "eu_rating = eu_rating.sort_values(by='sum',ascending=False)\n",
    "eu_rating = eu_rating.set_index('rating')\n",
    "eu_rating.plot(kind='pie', y='sum', autopct='%1.0f%%', legend=False, figsize=(7,7), title='Рейтинг релизов ESRB');"
   ]
  },
  {
   "cell_type": "markdown",
   "id": "8917dbc5",
   "metadata": {},
   "source": [
    "##### В Европе также наблюдается наибольший коммерческий успех у релизов с рейтингом М(для лиц старше 17 лет)"
   ]
  },
  {
   "cell_type": "markdown",
   "id": "e3a08eb7",
   "metadata": {},
   "source": [
    "#### В Европе наибольший коммерческий успех имеют платформы PS4 и XBoxOne. Но PS4 лидирует с гораздо большим отрывом. Топ - 3 популярными жанрами являются: Action, Shooter, Sports. Коммерческий успех имеют релизы с рейтингом М(для лиц старше 17 лет)"
   ]
  },
  {
   "cell_type": "markdown",
   "id": "989c24a3",
   "metadata": {},
   "source": [
    "### Портрет пользователя в Японии"
   ]
  },
  {
   "cell_type": "code",
   "execution_count": null,
   "id": "27800486",
   "metadata": {},
   "outputs": [],
   "source": [
    "jp_top_platform = actual_release.groupby('platform')['jp_sales'].sum().sort_values(ascending=True)\n",
    "jp_top_platform.plot(kind = 'barh', figsize = (19,6), fontsize = 16, title='Актуальность платформ в Японии');"
   ]
  },
  {
   "cell_type": "markdown",
   "id": "1910c231",
   "metadata": {},
   "source": [
    "##### Наибольшее число новых релизов в Японии покупают на Nintendo 3DS, эта платформа значительно лидирует в сравнении с PS4. В этом заключается основное отличие пользователей Европы и Северной Америки в сравнении с пользователями в Японии. На рынке Азии большой коммерческий успех имеют платформы NIntendo"
   ]
  },
  {
   "cell_type": "code",
   "execution_count": null,
   "id": "01654b58",
   "metadata": {},
   "outputs": [],
   "source": [
    "jp_top_platform = actual_release.groupby('genre')['jp_sales'].sum().sort_values(ascending=True)\n",
    "jp_top_platform.plot(kind = 'barh', figsize = (19,6), fontsize = 16, title='Актуальность жанров в Японии');"
   ]
  },
  {
   "cell_type": "markdown",
   "id": "b40bea13",
   "metadata": {},
   "source": [
    "##### На Японском рынке самым популярным на новых платформах является жанр Role_Playing, он незначительно превосходит второй по значимости жанр Action. На третьем месте жанр Fighting"
   ]
  },
  {
   "cell_type": "code",
   "execution_count": null,
   "id": "97be6cb5",
   "metadata": {},
   "outputs": [],
   "source": [
    "jp_rating = actual_release.groupby('rating')['jp_sales'].agg(['sum']).reset_index()\n",
    "jp_rating = jp_rating.sort_values(by='sum',ascending=False)\n",
    "jp_rating = jp_rating.set_index('rating')\n",
    "jp_rating.plot(kind='pie', y='sum', autopct='%1.0f%%', legend=False, figsize=(7,7), title='Рейтинг релизов ESRB');"
   ]
  },
  {
   "cell_type": "markdown",
   "id": "b0797026",
   "metadata": {},
   "source": [
    "##### По продажам новых релизов у значительной части выявлен неопределенный рейтинг. В сравнении с пользователями Европы и Северной Америки релизы имеющие рейтинг М имеют меньший процент. Вероятно, это связано с популярностью платформы Nintendo, которая специализируется на семейном контенте для всех категорй пользователей."
   ]
  },
  {
   "cell_type": "markdown",
   "id": "aa5fef00",
   "metadata": {},
   "source": [
    "#### В Японии самой аоаулярной платформос с большим отрывом является Nintendo 3DS.Топ-3 популярными жанрами являются: Role_Playing, Action, Fighting. В топе рейтинга корректно оценить показатели невозможно в виду популярности Nintendo в Японии. Релизы Nintendo имеют другой оценочный рейтинг CERO в нашем анализе эти релизы попали в категорию рейтинга unknown."
   ]
  },
  {
   "cell_type": "markdown",
   "id": "42fc86f5",
   "metadata": {},
   "source": [
    "## Шаг 4. Проверка гипотез"
   ]
  },
  {
   "cell_type": "markdown",
   "id": "97ae4628",
   "metadata": {},
   "source": [
    "### Гипотеза: cредние пользовательские рейтинги платформ Xbox One и PC одинаковые:\n",
    "* H0: средние рейтинги по платформам одинаковые\n",
    "* H1: средние рейтинги по платформам разные"
   ]
  },
  {
   "cell_type": "code",
   "execution_count": null,
   "id": "4a1a86c8",
   "metadata": {},
   "outputs": [],
   "source": [
    "# Удалил пропуски в столбце user_score так как они помешали бы дальшейшему анализу\n",
    "actual_release.dropna(subset=['user_score'], inplace=True)"
   ]
  },
  {
   "cell_type": "code",
   "execution_count": null,
   "id": "fdae815f",
   "metadata": {},
   "outputs": [],
   "source": [
    "# Сделал срез строк с платформами XboxOne и PC\n",
    "XOne = actual_release[actual_release['platform'] == 'XOne']\n",
    "PC = actual_release[actual_release['platform'] == 'PC']\n",
    "# Для анализа нам понадобятся колонки с рейтингами XboxOne и PC\n",
    "XOne_rating = XOne['user_score']\n",
    "PC_rating = PC['user_score']\n",
    "# Уровень статистической значимости, если p-value окажется меньше него - отвергнем гипотезу\n",
    "alpha = .05\n",
    "\n",
    "results = st.ttest_ind(\n",
    "    XOne_rating, \n",
    "    PC_rating)\n",
    "\n",
    "print('p-значение:', results.pvalue)\n",
    "\n",
    "if results.pvalue < alpha:\n",
    "    print('Отвергаем нулевую гипотезу')\n",
    "else:\n",
    "    print('Не получилось отвергнуть нулевую гипотезу')"
   ]
  },
  {
   "cell_type": "code",
   "execution_count": null,
   "id": "f862eaed",
   "metadata": {},
   "outputs": [],
   "source": [
    "print('Средний пользовательский рейтинг релизов на XBox One равен:', XOne_rating.mean())\n",
    "print('Средний пользовательский рейтинг релизов на PC равен:', PC_rating.mean())"
   ]
  },
  {
   "cell_type": "markdown",
   "id": "1cea08bc",
   "metadata": {},
   "source": [
    "* Гипотеза о равенстве средних значений пользовательского рейтинга новых релизов двух генеральных совокупностей платформ XBoxOne и PC не опровергнута. Средние рейтинги новых релизов по данным платформам одинаковые."
   ]
  },
  {
   "cell_type": "markdown",
   "id": "3e67483d",
   "metadata": {},
   "source": [
    "### Гипотеза: средние пользовательские рейтинги жанров Action и Sports разные.\n",
    "* H0: средние рейтинги по жанрам одинаковые\n",
    "* H1: средние рейтинги по жанрам разные"
   ]
  },
  {
   "cell_type": "code",
   "execution_count": null,
   "id": "3a368049",
   "metadata": {},
   "outputs": [],
   "source": [
    "# Сделал срез строк с жанрами Action и Sports\n",
    "action = actual_release[actual_release['genre'] == 'Action']\n",
    "sports = actual_release[actual_release['genre'] == 'Sports']\n",
    "# Для анализа нам понадобятся колонки с пользовательскими рейтингами жанров Action и Sports\n",
    "action_rating = action['user_score']\n",
    "sports_rating = sports['user_score']\n",
    "# Уровень статистической значимости, если p-value окажется меньше него - отвергнем гипотезу\n",
    "alpha = .05 \n",
    "\n",
    "results = st.ttest_ind(\n",
    "    action_rating,\n",
    "    sports_rating)\n",
    "\n",
    "print('p-значение:', results.pvalue)\n",
    "\n",
    "if results.pvalue < alpha:\n",
    "    print(\"Отвергаем нулевую гипотезу\")\n",
    "else:\n",
    "    print(\"Не получилось отвергнуть нулевую гипотезу\") "
   ]
  },
  {
   "cell_type": "code",
   "execution_count": null,
   "id": "a973fe3e",
   "metadata": {},
   "outputs": [],
   "source": [
    "print('Средний пользовательский рейтинг релизов жанра Action равен:', action_rating.mean())\n",
    "print('Средний пользовательский рейтинг релизов жанра Sports равен:', sports_rating.mean())"
   ]
  },
  {
   "cell_type": "markdown",
   "id": "e9c4598a",
   "metadata": {},
   "source": [
    "* Гипотеза о равенстве средних значений пользовательского рейтинга двух генеральных совокупностей данра Action и жанра Sports опровергнута. Средние рейтинги новых релизов в жанрах Action и Sports отличаются."
   ]
  },
  {
   "cell_type": "markdown",
   "id": "7c2a641b",
   "metadata": {},
   "source": [
    "## Общий вывод"
   ]
  },
  {
   "cell_type": "markdown",
   "id": "6a6de324",
   "metadata": {},
   "source": [
    "* Для анализа были взяты платформы с наибольшими продажами актуальных релизов за 2014 - 2016 год. Такими платформами оказались PS4 и XBoxOne. \n",
    "* Самыми прибыльными жанрами на актуальных платформах являются Shooter, Action.\n",
    "* В Северной Америке и Европе также самыми популярными платформами являются PS4 и Xbox One, самыми популярными жарнами являются Action и Shooter. Популярной категорией продуктов в данных регионах является категоря M (для лиц старше 17 лет). Отдельно был рассмотрен портрет пользователя в Японии, в этом регионе самой популярной платформой является Nintendo 3DS, самым популярным жанром является Role-Playing. \n",
    "* В будущем году основную рекламную компанию для пользователей в Северной Америки и Европы рекомендовано проводить с платформами PS4 и XBoxOne, жанрами Action и Shooter, релизами категории М. В Японии рекомендовано проводить рекламную компанию с релизами на Nintendo 3DS, жанрами Role-Playing."
   ]
  }
 ],
 "metadata": {
  "ExecuteTimeLog": [
   {
    "duration": 1297,
    "start_time": "2022-12-16T16:42:58.499Z"
   },
   {
    "duration": 117,
    "start_time": "2022-12-16T16:42:59.798Z"
   },
   {
    "duration": 26,
    "start_time": "2022-12-16T16:42:59.917Z"
   },
   {
    "duration": 16,
    "start_time": "2022-12-16T16:42:59.946Z"
   },
   {
    "duration": 9,
    "start_time": "2022-12-16T16:42:59.964Z"
   },
   {
    "duration": 22,
    "start_time": "2022-12-16T16:42:59.975Z"
   },
   {
    "duration": 188,
    "start_time": "2022-12-16T16:42:59.999Z"
   },
   {
    "duration": 9,
    "start_time": "2022-12-16T16:43:00.195Z"
   },
   {
    "duration": 28,
    "start_time": "2022-12-16T16:43:00.205Z"
   },
   {
    "duration": 28,
    "start_time": "2022-12-16T16:43:00.236Z"
   },
   {
    "duration": 36,
    "start_time": "2022-12-16T16:43:00.266Z"
   },
   {
    "duration": 51,
    "start_time": "2022-12-16T16:43:00.304Z"
   },
   {
    "duration": 40,
    "start_time": "2022-12-16T16:43:00.357Z"
   },
   {
    "duration": 43,
    "start_time": "2022-12-16T16:43:00.399Z"
   },
   {
    "duration": 15,
    "start_time": "2022-12-16T16:43:00.444Z"
   },
   {
    "duration": 42,
    "start_time": "2022-12-16T16:43:00.461Z"
   },
   {
    "duration": 20,
    "start_time": "2022-12-16T16:43:00.504Z"
   },
   {
    "duration": 73,
    "start_time": "2022-12-16T16:43:00.526Z"
   },
   {
    "duration": 30,
    "start_time": "2022-12-16T16:43:00.600Z"
   },
   {
    "duration": 44,
    "start_time": "2022-12-16T16:43:00.632Z"
   },
   {
    "duration": 32,
    "start_time": "2022-12-16T16:43:00.678Z"
   },
   {
    "duration": 26,
    "start_time": "2022-12-16T16:43:00.711Z"
   },
   {
    "duration": 39,
    "start_time": "2022-12-16T16:43:00.739Z"
   },
   {
    "duration": 70,
    "start_time": "2022-12-16T16:43:00.779Z"
   },
   {
    "duration": 308,
    "start_time": "2022-12-16T16:43:00.851Z"
   },
   {
    "duration": 345,
    "start_time": "2022-12-16T16:43:01.161Z"
   },
   {
    "duration": 282,
    "start_time": "2022-12-16T16:43:01.508Z"
   },
   {
    "duration": 302,
    "start_time": "2022-12-16T16:43:01.796Z"
   },
   {
    "duration": 23,
    "start_time": "2022-12-16T16:43:02.099Z"
   },
   {
    "duration": 76,
    "start_time": "2022-12-16T16:43:02.124Z"
   },
   {
    "duration": 11,
    "start_time": "2022-12-16T16:43:02.203Z"
   },
   {
    "duration": 6,
    "start_time": "2022-12-16T16:43:02.217Z"
   },
   {
    "duration": 237,
    "start_time": "2022-12-16T16:43:02.225Z"
   },
   {
    "duration": 168,
    "start_time": "2022-12-16T16:43:02.464Z"
   },
   {
    "duration": 172,
    "start_time": "2022-12-16T16:43:02.634Z"
   },
   {
    "duration": 163,
    "start_time": "2022-12-16T16:43:02.808Z"
   },
   {
    "duration": 200,
    "start_time": "2022-12-16T16:43:02.973Z"
   },
   {
    "duration": 203,
    "start_time": "2022-12-16T16:43:03.175Z"
   },
   {
    "duration": 205,
    "start_time": "2022-12-16T16:43:03.379Z"
   },
   {
    "duration": 191,
    "start_time": "2022-12-16T16:43:03.586Z"
   },
   {
    "duration": 211,
    "start_time": "2022-12-16T16:43:34.598Z"
   },
   {
    "duration": 208,
    "start_time": "2022-12-16T16:43:40.424Z"
   },
   {
    "duration": 1147,
    "start_time": "2022-12-16T16:51:25.748Z"
   },
   {
    "duration": 70,
    "start_time": "2022-12-16T16:51:26.896Z"
   },
   {
    "duration": 22,
    "start_time": "2022-12-16T16:51:26.968Z"
   },
   {
    "duration": 14,
    "start_time": "2022-12-16T16:51:26.992Z"
   },
   {
    "duration": 8,
    "start_time": "2022-12-16T16:51:27.008Z"
   },
   {
    "duration": 4,
    "start_time": "2022-12-16T16:51:27.018Z"
   },
   {
    "duration": 187,
    "start_time": "2022-12-16T16:51:27.024Z"
   },
   {
    "duration": 9,
    "start_time": "2022-12-16T16:51:27.213Z"
   },
   {
    "duration": 11,
    "start_time": "2022-12-16T16:51:27.224Z"
   },
   {
    "duration": 7,
    "start_time": "2022-12-16T16:51:27.238Z"
   },
   {
    "duration": 6,
    "start_time": "2022-12-16T16:51:27.247Z"
   },
   {
    "duration": 7,
    "start_time": "2022-12-16T16:51:27.254Z"
   },
   {
    "duration": 40,
    "start_time": "2022-12-16T16:51:27.262Z"
   },
   {
    "duration": 19,
    "start_time": "2022-12-16T16:51:27.304Z"
   },
   {
    "duration": 4,
    "start_time": "2022-12-16T16:51:27.325Z"
   },
   {
    "duration": 19,
    "start_time": "2022-12-16T16:51:27.330Z"
   },
   {
    "duration": 13,
    "start_time": "2022-12-16T16:51:27.351Z"
   },
   {
    "duration": 38,
    "start_time": "2022-12-16T16:51:27.366Z"
   },
   {
    "duration": 18,
    "start_time": "2022-12-16T16:51:27.406Z"
   },
   {
    "duration": 7,
    "start_time": "2022-12-16T16:51:27.426Z"
   },
   {
    "duration": 11,
    "start_time": "2022-12-16T16:51:27.435Z"
   },
   {
    "duration": 16,
    "start_time": "2022-12-16T16:51:27.447Z"
   },
   {
    "duration": 33,
    "start_time": "2022-12-16T16:51:27.465Z"
   },
   {
    "duration": 17,
    "start_time": "2022-12-16T16:51:27.500Z"
   },
   {
    "duration": 294,
    "start_time": "2022-12-16T16:51:27.519Z"
   },
   {
    "duration": 352,
    "start_time": "2022-12-16T16:51:27.814Z"
   },
   {
    "duration": 281,
    "start_time": "2022-12-16T16:51:28.167Z"
   },
   {
    "duration": 284,
    "start_time": "2022-12-16T16:51:28.452Z"
   },
   {
    "duration": 23,
    "start_time": "2022-12-16T16:51:28.737Z"
   },
   {
    "duration": 17,
    "start_time": "2022-12-16T16:51:28.762Z"
   },
   {
    "duration": 18,
    "start_time": "2022-12-16T16:51:28.781Z"
   },
   {
    "duration": 17,
    "start_time": "2022-12-16T16:51:28.801Z"
   },
   {
    "duration": 238,
    "start_time": "2022-12-16T16:51:28.820Z"
   },
   {
    "duration": 172,
    "start_time": "2022-12-16T16:51:29.060Z"
   },
   {
    "duration": 165,
    "start_time": "2022-12-16T16:51:29.233Z"
   },
   {
    "duration": 169,
    "start_time": "2022-12-16T16:51:29.400Z"
   },
   {
    "duration": 206,
    "start_time": "2022-12-16T16:51:29.570Z"
   },
   {
    "duration": 220,
    "start_time": "2022-12-16T16:51:29.778Z"
   },
   {
    "duration": 199,
    "start_time": "2022-12-16T16:51:30.000Z"
   },
   {
    "duration": 205,
    "start_time": "2022-12-16T16:51:30.201Z"
   },
   {
    "duration": 188,
    "start_time": "2022-12-16T16:51:30.408Z"
   },
   {
    "duration": 212,
    "start_time": "2022-12-16T16:51:30.598Z"
   },
   {
    "duration": 138,
    "start_time": "2022-12-16T16:51:30.811Z"
   },
   {
    "duration": 282,
    "start_time": "2022-12-16T16:51:30.951Z"
   },
   {
    "duration": 222,
    "start_time": "2022-12-16T16:51:31.234Z"
   },
   {
    "duration": 138,
    "start_time": "2022-12-16T16:51:31.458Z"
   },
   {
    "duration": 181,
    "start_time": "2022-12-16T16:51:31.599Z"
   },
   {
    "duration": 228,
    "start_time": "2022-12-16T16:51:31.782Z"
   },
   {
    "duration": 151,
    "start_time": "2022-12-16T16:51:32.012Z"
   },
   {
    "duration": 7,
    "start_time": "2022-12-16T16:51:32.165Z"
   },
   {
    "duration": 33,
    "start_time": "2022-12-16T16:51:32.174Z"
   },
   {
    "duration": 5,
    "start_time": "2022-12-16T16:51:32.209Z"
   },
   {
    "duration": 19,
    "start_time": "2022-12-16T16:51:32.216Z"
   },
   {
    "duration": 24,
    "start_time": "2022-12-16T16:51:32.237Z"
   },
   {
    "duration": 1265,
    "start_time": "2022-12-18T18:09:36.872Z"
   },
   {
    "duration": 127,
    "start_time": "2022-12-18T18:09:38.139Z"
   },
   {
    "duration": 22,
    "start_time": "2022-12-18T18:09:38.268Z"
   },
   {
    "duration": 15,
    "start_time": "2022-12-18T18:09:38.291Z"
   },
   {
    "duration": 8,
    "start_time": "2022-12-18T18:09:38.307Z"
   },
   {
    "duration": 4,
    "start_time": "2022-12-18T18:09:38.317Z"
   },
   {
    "duration": 174,
    "start_time": "2022-12-18T18:09:38.323Z"
   },
   {
    "duration": 16,
    "start_time": "2022-12-18T18:09:38.499Z"
   },
   {
    "duration": 7,
    "start_time": "2022-12-18T18:09:38.517Z"
   },
   {
    "duration": 6,
    "start_time": "2022-12-18T18:09:38.526Z"
   },
   {
    "duration": 8,
    "start_time": "2022-12-18T18:09:38.533Z"
   },
   {
    "duration": 22,
    "start_time": "2022-12-18T18:09:38.543Z"
   },
   {
    "duration": 9,
    "start_time": "2022-12-18T18:09:38.567Z"
   },
   {
    "duration": 16,
    "start_time": "2022-12-18T18:09:38.578Z"
   },
   {
    "duration": 31,
    "start_time": "2022-12-18T18:09:38.595Z"
   },
   {
    "duration": 2,
    "start_time": "2022-12-18T18:09:38.628Z"
   },
   {
    "duration": 14,
    "start_time": "2022-12-18T18:09:38.632Z"
   },
   {
    "duration": 14,
    "start_time": "2022-12-18T18:09:38.647Z"
   },
   {
    "duration": 4,
    "start_time": "2022-12-18T18:09:38.662Z"
   },
   {
    "duration": 13,
    "start_time": "2022-12-18T18:09:38.667Z"
   },
   {
    "duration": 35,
    "start_time": "2022-12-18T18:09:38.682Z"
   },
   {
    "duration": 27,
    "start_time": "2022-12-18T18:09:38.719Z"
   },
   {
    "duration": 17,
    "start_time": "2022-12-18T18:09:38.748Z"
   },
   {
    "duration": 13,
    "start_time": "2022-12-18T18:09:38.767Z"
   },
   {
    "duration": 16,
    "start_time": "2022-12-18T18:09:38.782Z"
   },
   {
    "duration": 9,
    "start_time": "2022-12-18T18:09:38.800Z"
   },
   {
    "duration": 22,
    "start_time": "2022-12-18T18:09:38.815Z"
   },
   {
    "duration": 13,
    "start_time": "2022-12-18T18:09:38.840Z"
   },
   {
    "duration": 296,
    "start_time": "2022-12-18T18:09:38.854Z"
   },
   {
    "duration": 8,
    "start_time": "2022-12-18T18:09:39.152Z"
   },
   {
    "duration": 195,
    "start_time": "2022-12-18T18:09:39.162Z"
   },
   {
    "duration": 320,
    "start_time": "2022-12-18T18:09:39.359Z"
   },
   {
    "duration": 262,
    "start_time": "2022-12-18T18:09:39.681Z"
   },
   {
    "duration": 362,
    "start_time": "2022-12-18T18:09:39.945Z"
   },
   {
    "duration": 25,
    "start_time": "2022-12-18T18:09:40.309Z"
   },
   {
    "duration": 12,
    "start_time": "2022-12-18T18:09:40.336Z"
   },
   {
    "duration": 12,
    "start_time": "2022-12-18T18:09:40.349Z"
   },
   {
    "duration": 6,
    "start_time": "2022-12-18T18:09:40.362Z"
   },
   {
    "duration": 147,
    "start_time": "2022-12-18T18:09:40.370Z"
   },
   {
    "duration": 149,
    "start_time": "2022-12-18T18:09:40.518Z"
   },
   {
    "duration": 156,
    "start_time": "2022-12-18T18:09:40.669Z"
   },
   {
    "duration": 145,
    "start_time": "2022-12-18T18:09:40.827Z"
   },
   {
    "duration": 197,
    "start_time": "2022-12-18T18:09:40.974Z"
   },
   {
    "duration": 198,
    "start_time": "2022-12-18T18:09:41.174Z"
   },
   {
    "duration": 289,
    "start_time": "2022-12-18T18:09:41.374Z"
   },
   {
    "duration": 303,
    "start_time": "2022-12-18T18:09:41.664Z"
   },
   {
    "duration": 383,
    "start_time": "2022-12-18T18:09:58.329Z"
   },
   {
    "duration": 264,
    "start_time": "2022-12-18T18:10:21.643Z"
   },
   {
    "duration": 147,
    "start_time": "2022-12-18T18:10:29.396Z"
   },
   {
    "duration": 39,
    "start_time": "2022-12-18T18:10:33.059Z"
   },
   {
    "duration": 313,
    "start_time": "2022-12-18T18:11:06.228Z"
   },
   {
    "duration": 1149,
    "start_time": "2022-12-18T18:12:51.878Z"
   },
   {
    "duration": 77,
    "start_time": "2022-12-18T18:12:53.029Z"
   },
   {
    "duration": 26,
    "start_time": "2022-12-18T18:12:53.107Z"
   },
   {
    "duration": 16,
    "start_time": "2022-12-18T18:12:53.135Z"
   },
   {
    "duration": 8,
    "start_time": "2022-12-18T18:12:53.153Z"
   },
   {
    "duration": 6,
    "start_time": "2022-12-18T18:12:53.163Z"
   },
   {
    "duration": 204,
    "start_time": "2022-12-18T18:12:53.171Z"
   },
   {
    "duration": 11,
    "start_time": "2022-12-18T18:12:53.377Z"
   },
   {
    "duration": 8,
    "start_time": "2022-12-18T18:12:53.390Z"
   },
   {
    "duration": 8,
    "start_time": "2022-12-18T18:12:53.415Z"
   },
   {
    "duration": 7,
    "start_time": "2022-12-18T18:12:53.425Z"
   },
   {
    "duration": 26,
    "start_time": "2022-12-18T18:12:53.434Z"
   },
   {
    "duration": 11,
    "start_time": "2022-12-18T18:12:53.462Z"
   },
   {
    "duration": 12,
    "start_time": "2022-12-18T18:12:53.474Z"
   },
   {
    "duration": 44,
    "start_time": "2022-12-18T18:12:53.488Z"
   },
   {
    "duration": 4,
    "start_time": "2022-12-18T18:12:53.534Z"
   },
   {
    "duration": 22,
    "start_time": "2022-12-18T18:12:53.539Z"
   },
   {
    "duration": 20,
    "start_time": "2022-12-18T18:12:53.563Z"
   },
   {
    "duration": 4,
    "start_time": "2022-12-18T18:12:53.585Z"
   },
   {
    "duration": 32,
    "start_time": "2022-12-18T18:12:53.591Z"
   },
   {
    "duration": 6,
    "start_time": "2022-12-18T18:12:53.624Z"
   },
   {
    "duration": 31,
    "start_time": "2022-12-18T18:12:53.631Z"
   },
   {
    "duration": 15,
    "start_time": "2022-12-18T18:12:53.664Z"
   },
   {
    "duration": 11,
    "start_time": "2022-12-18T18:12:53.680Z"
   },
   {
    "duration": 8,
    "start_time": "2022-12-18T18:12:53.692Z"
   },
   {
    "duration": 17,
    "start_time": "2022-12-18T18:12:53.701Z"
   },
   {
    "duration": 22,
    "start_time": "2022-12-18T18:12:53.720Z"
   },
   {
    "duration": 13,
    "start_time": "2022-12-18T18:12:53.747Z"
   },
   {
    "duration": 319,
    "start_time": "2022-12-18T18:12:53.762Z"
   },
   {
    "duration": 10,
    "start_time": "2022-12-18T18:12:54.083Z"
   },
   {
    "duration": 204,
    "start_time": "2022-12-18T18:12:54.094Z"
   },
   {
    "duration": 331,
    "start_time": "2022-12-18T18:12:54.300Z"
   },
   {
    "duration": 287,
    "start_time": "2022-12-18T18:12:54.633Z"
   },
   {
    "duration": 366,
    "start_time": "2022-12-18T18:12:54.922Z"
   },
   {
    "duration": 31,
    "start_time": "2022-12-18T18:12:55.290Z"
   },
   {
    "duration": 5,
    "start_time": "2022-12-18T18:12:55.322Z"
   },
   {
    "duration": 5,
    "start_time": "2022-12-18T18:12:55.328Z"
   },
   {
    "duration": 9,
    "start_time": "2022-12-18T18:12:55.334Z"
   },
   {
    "duration": 162,
    "start_time": "2022-12-18T18:12:55.344Z"
   },
   {
    "duration": 158,
    "start_time": "2022-12-18T18:12:55.508Z"
   },
   {
    "duration": 155,
    "start_time": "2022-12-18T18:12:55.668Z"
   },
   {
    "duration": 163,
    "start_time": "2022-12-18T18:12:55.824Z"
   },
   {
    "duration": 217,
    "start_time": "2022-12-18T18:12:55.989Z"
   },
   {
    "duration": 245,
    "start_time": "2022-12-18T18:12:56.208Z"
   },
   {
    "duration": 298,
    "start_time": "2022-12-18T18:12:56.454Z"
   },
   {
    "duration": 295,
    "start_time": "2022-12-18T18:12:56.753Z"
   },
   {
    "duration": 9,
    "start_time": "2022-12-18T18:12:57.049Z"
   },
   {
    "duration": 11,
    "start_time": "2022-12-18T18:12:57.059Z"
   },
   {
    "duration": 10,
    "start_time": "2022-12-18T18:12:57.071Z"
   },
   {
    "duration": 301,
    "start_time": "2022-12-18T18:12:57.083Z"
   },
   {
    "duration": 188,
    "start_time": "2022-12-18T18:12:57.386Z"
   },
   {
    "duration": 183,
    "start_time": "2022-12-18T18:12:57.576Z"
   },
   {
    "duration": 220,
    "start_time": "2022-12-18T18:12:57.761Z"
   },
   {
    "duration": 162,
    "start_time": "2022-12-18T18:12:57.983Z"
   },
   {
    "duration": 257,
    "start_time": "2022-12-18T18:12:58.147Z"
   },
   {
    "duration": 215,
    "start_time": "2022-12-18T18:12:58.406Z"
   },
   {
    "duration": 114,
    "start_time": "2022-12-18T18:12:58.623Z"
   },
   {
    "duration": 172,
    "start_time": "2022-12-18T18:12:58.739Z"
   },
   {
    "duration": 185,
    "start_time": "2022-12-18T18:12:58.916Z"
   },
   {
    "duration": 124,
    "start_time": "2022-12-18T18:12:59.103Z"
   },
   {
    "duration": 6,
    "start_time": "2022-12-18T18:12:59.228Z"
   },
   {
    "duration": 8,
    "start_time": "2022-12-18T18:12:59.236Z"
   },
   {
    "duration": 6,
    "start_time": "2022-12-18T18:12:59.246Z"
   },
   {
    "duration": 7,
    "start_time": "2022-12-18T18:12:59.253Z"
   },
   {
    "duration": 10,
    "start_time": "2022-12-18T18:12:59.262Z"
   }
  ],
  "kernelspec": {
   "display_name": "Python 3 (ipykernel)",
   "language": "python",
   "name": "python3"
  },
  "language_info": {
   "codemirror_mode": {
    "name": "ipython",
    "version": 3
   },
   "file_extension": ".py",
   "mimetype": "text/x-python",
   "name": "python",
   "nbconvert_exporter": "python",
   "pygments_lexer": "ipython3",
   "version": "3.9.13"
  },
  "toc": {
   "base_numbering": 1,
   "nav_menu": {},
   "number_sections": true,
   "sideBar": true,
   "skip_h1_title": true,
   "title_cell": "Table of Contents",
   "title_sidebar": "Contents",
   "toc_cell": false,
   "toc_position": {},
   "toc_section_display": true,
   "toc_window_display": false
  }
 },
 "nbformat": 4,
 "nbformat_minor": 5
}
