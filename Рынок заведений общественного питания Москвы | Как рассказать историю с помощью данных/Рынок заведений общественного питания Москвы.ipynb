{
 "cells": [
  {
   "cell_type": "markdown",
   "id": "4b51595b",
   "metadata": {},
   "source": [
    "## Проект \"Рынок заведений общественного питания Москвы\"."
   ]
  },
  {
   "cell_type": "markdown",
   "id": "f8f8e1fe",
   "metadata": {},
   "source": [
    "### В проекте использован датасет с заведениями общественного питания Москвы, составленный на основе данных сервисов Яндекс Карты и Яндекс Бизнес на лето 2022 года. Информация, размещённая в сервисе Яндекс Бизнес, могла быть добавлена пользователями или найдена в общедоступных источниках. Она носит исключительно справочный характер.\n",
    "### Цель: подготовить исследование рынка Москвы, найти интересные особенности и презентовать полученные результаты, которые в будущем помогут в выборе подходящего инвесторам места."
   ]
  },
  {
   "cell_type": "markdown",
   "id": "9bbc2cc1",
   "metadata": {},
   "source": [
    "### План выполнения проекта:\n",
    "\n",
    "#### Шаг 1. Загрузка данных и изучение общей информации\n",
    "\n",
    "* Загрузка данных о заведениях общественного питания Москвы.\n",
    "* Изучение общуей информации о датасете. Сколько заведений представлено? Что можно сказать о каждом столбце? Значения какого типа они хранят? \n",
    "\n",
    "#### Шаг 2. Предобработка данных\n",
    "\n",
    "* Изучение данных на дубликаты, пропуски: встречаются ли они, в каких столбцах? Можно ли их обработать или оставить как есть?\n",
    "* Выполнение предобработки данных.\n",
    "\n",
    "#### Шаг 3. Анализ данных\n",
    "\n",
    "* Изучение категорий заведений представленных в данных? Изучение количества объектов общественного питания по категориям: рестораны, кофейни, пиццерии, бары и так далее. Постройка визуализации. \n",
    "* Исследование количество посадочных мест в местах по категориям: рестораны, кофейни, пиццерии, бары и так далее. Постройка визуализации. \n",
    "* Анализ результатов и формирование промежуточных выводов.\n",
    "* Оценка  соотношения сетевых и несетевых заведений в датасете. Каких заведений больше? Постройка визуализации.\n",
    "* Оценка категорий сетевых заведений? Постройка визуализации.\n",
    "* Составление топ-15 популярных сетей в Москве. Под популярностью понимается количество заведений этой сети в регионе. Постройка визуализации. \n",
    "* определение административных районов Москвы, представленных в датасете? Постройка визуализации.\n",
    "* Визуализация распределения средних рейтингов по категориям заведений. Оценка различия усреднённых рейтингов в разных типах общепита?\n",
    "* Постройка фоновой картограммы (хороплет) со средним рейтингом заведений каждого района.\n",
    "* Определение топ-15 улиц по количеству заведений. Постройка визуализации.\n",
    "* Опереление улиц, на которых находится только один объект общепита. Характеристика данных заведений.\n",
    "* Посчет медианы средних чеков для каждого района. Постройка фоновой картограммы (хороплет) со значениями медианы средних чеков для каждого района. Анализ цен в центральном административном округе и других. Как удалённость от центра влияет на цены в заведениях?\n",
    "* Исследование часов работы заведений и их зависимость от расположения и категории заведения. \n",
    "* Исследование особенностей заведений с плохими рейтингами, средних чеков в таких местах и распределение по категориям заведений.\n",
    "* Формирование промежуточныъх выводов \n",
    "\n",
    "#### Шаг 4. Детализация исследования: открытие кофейни\n",
    "#### Ответ на вопросы заказчиков:\n",
    "\n",
    "* Сколько всего кофеен в датасете? В каких районах их больше всего, каковы особенности их расположения?\n",
    "* Есть ли круглосуточные кофейни?\n",
    "* Какие у кофеен рейтинги? Как они распределяются по районам?\n",
    "* На какую стоимость чашки капучино стоит ориентироваться при открытии и почему?\n",
    "* Постройка визуализации. Рекомендации для открытия нового заведения. Объяснение рекомендаций.\n",
    "\n",
    "#### Шаг 5. Подготовка презентации\n",
    "\n",
    "* Ссылка на презентацию"
   ]
  },
  {
   "cell_type": "code",
   "execution_count": null,
   "id": "8a96b9a6",
   "metadata": {},
   "outputs": [],
   "source": [
    "# импортирую библиотеки\n",
    "import pandas as pd \n",
    "import matplotlib.pyplot as plt\n",
    "from matplotlib import style\n",
    "import seaborn as sns \n",
    "import numpy as np \n",
    "from scipy import stats as st \n",
    "import datetime as dt  \n",
    "import plotly.express as px\n",
    "from plotly import graph_objects as go\n",
    "import numpy as np\n",
    "import math as mth\n",
    "import json\n",
    "import folium\n",
    "from folium import Map, Marker\n",
    "from folium.plugins import MarkerCluster"
   ]
  },
  {
   "cell_type": "code",
   "execution_count": null,
   "id": "ff3b2063",
   "metadata": {},
   "outputs": [],
   "source": [
    " from matplotlib.axes._axes import _log as matplotlib_axes_logger\n",
    " matplotlib_axes_logger.setLevel('ERROR')"
   ]
  },
  {
   "cell_type": "code",
   "execution_count": null,
   "id": "534461b9",
   "metadata": {},
   "outputs": [],
   "source": [
    "plt.style.use('seaborn-notebook')\n",
    "sns.set_style(\"whitegrid\")"
   ]
  },
  {
   "cell_type": "markdown",
   "id": "5f12ac17",
   "metadata": {},
   "source": [
    "## Шаг 1. Загрузка данных и изучение общей информации."
   ]
  },
  {
   "cell_type": "markdown",
   "id": "f6532b5f",
   "metadata": {},
   "source": [
    "#### 1.1 Загрузка данных о заведениях общественного питания Москвы."
   ]
  },
  {
   "cell_type": "code",
   "execution_count": null,
   "id": "a5665455",
   "metadata": {},
   "outputs": [],
   "source": [
    "# # загружаю данные \n",
    "try:\n",
    "    df = pd.read_csv(r\"D:\\DOCS\\datasets\\Анализ зведений общественного питания в Москве/moscow_places.csv\")\n",
    "except FileNotFoundError:\n",
    "    df = pd.read_csv('/datasets/moscow_places.csv')"
   ]
  },
  {
   "cell_type": "code",
   "execution_count": null,
   "id": "7e86f5e3",
   "metadata": {},
   "outputs": [],
   "source": [
    "# вывожу первые 5 строк датафрейма\n",
    "df.head(5)"
   ]
  },
  {
   "cell_type": "markdown",
   "id": "302da4c8",
   "metadata": {},
   "source": [
    "#### 1.2 Изучение общей информации о датасете."
   ]
  },
  {
   "cell_type": "markdown",
   "id": "b5490b9e",
   "metadata": {},
   "source": [
    "#### Описание данных\n",
    "##### Файл moscow_places.csv:\n",
    "* name — название заведения;\n",
    "* address — адрес заведения;\n",
    "* category — категория заведения, например «кафе», «пиццерия» или «кофейня»;\n",
    "* hours — информация о днях и часах работы;\n",
    "* lat — широта географической точки, в которой находится заведение;\n",
    "* lng — долгота географической точки, в которой находится заведение;\n",
    "* rating — рейтинг заведения по оценкам пользователей в Яндекс Картах (высшая оценка — 5.0);\n",
    "* price — категория цен в заведении, например «средние», «ниже среднего», «выше среднего» и так далее;\n",
    "* avg_bill — строка, которая хранит среднюю стоимость заказа в виде диапазона, например: «Средний счёт: 1000–1500 ₽»; «Цена чашки капучино: 130–220 ₽»; «Цена бокала пива: 400–600 ₽» и так далее;\n",
    "* middle_avg_bill — число с оценкой среднего чека, которое указано только для значений из столбца avg_bill, начинающихся с подстроки «Средний счёт»: Если в строке указан ценовой диапазон из двух значений, в столбец войдёт медиана этих двух значений. Если в строке указано одно число — цена без диапазона, то в столбец войдёт это число. Если значения нет или оно не начинается с подстроки «Средний счёт», то в столбец ничего не войдёт.\n",
    "* middle_coffee_cup — число с оценкой одной чашки капучино, которое указано только для значений из столбца avg_bill, начинающихся с подстроки «Цена одной чашки капучино»: Если в строке указан ценовой диапазон из двух значений, в столбец войдёт медиана этих двух значений. Если в строке указано одно число — цена без диапазона, то в столбец войдёт это число. Если значения нет или оно не начинается с подстроки «Цена одной чашки капучино», то в столбец ничего не войдёт.\n",
    "* chain — число, выраженное 0 или 1, которое показывает, является ли заведение сетевым (для маленьких сетей могут встречаться ошибки): 0 — заведение не является сетевым 1 — заведение является сетевым\n",
    "* district — административный район, в котором находится заведение, например Центральный административный округ;\n",
    "* seats — количество посадочных мест."
   ]
  },
  {
   "cell_type": "code",
   "execution_count": null,
   "id": "c6742c55",
   "metadata": {},
   "outputs": [],
   "source": [
    "# вывожу общую информацию о датасете\n",
    "df.info()"
   ]
  },
  {
   "cell_type": "code",
   "execution_count": null,
   "id": "7325f6d8",
   "metadata": {},
   "outputs": [],
   "source": [
    "# привел столбец с количеством посадочных мест к типу int\n",
    "df['seats'] = df['seats'].astype('Int64')"
   ]
  },
  {
   "cell_type": "markdown",
   "id": "9a19cee8",
   "metadata": {},
   "source": [
    "Необходимости менять типы данных в других столбцах на данном этапе исследования не выявлено."
   ]
  },
  {
   "cell_type": "code",
   "execution_count": null,
   "id": "55aa65bd",
   "metadata": {},
   "outputs": [],
   "source": [
    "print('Всего в датафрейме представлено', df['name'].count(),'заведений общепита.')\n",
    "print('Всего в датафрейме представлено', df['name'].nunique(),'уникальных заведений общепита.')"
   ]
  },
  {
   "cell_type": "markdown",
   "id": "5ce05d39",
   "metadata": {},
   "source": [
    "#### Вывод: \n",
    "* Всего в датафрейме представлено 8406 заведений общепита из них уникальных 5614.\n",
    "* Выполнено приведение столбца с количеством посадочных мест к типу int\n",
    "* Необходимости менять типы данных в других столбцах на данном этапе исследования не выявлено."
   ]
  },
  {
   "cell_type": "markdown",
   "id": "3e3700cb",
   "metadata": {},
   "source": [
    "## Шаг 2. Предобработка данных"
   ]
  },
  {
   "cell_type": "markdown",
   "id": "8f203d2f",
   "metadata": {},
   "source": [
    "#### 2.1 Изучение данных на дубликаты и пропуски? Можно ли их обработать или оставить как есть?"
   ]
  },
  {
   "cell_type": "code",
   "execution_count": null,
   "id": "f3905ced",
   "metadata": {},
   "outputs": [],
   "source": [
    "print('Количество дубликатов в данных равно', df.duplicated().sum())"
   ]
  },
  {
   "cell_type": "code",
   "execution_count": null,
   "id": "534a7a88",
   "metadata": {},
   "outputs": [],
   "source": [
    "# неявные дубликаты\n",
    "df['name'] = df['name'].str.lower()\n",
    "df[df.duplicated(subset=['name', 'address'])]"
   ]
  },
  {
   "cell_type": "code",
   "execution_count": null,
   "id": "bb76eb8e",
   "metadata": {
    "scrolled": true
   },
   "outputs": [],
   "source": [
    "# вывел количество пропусков в датафрейме\n",
    "df.isnull().sum()"
   ]
  },
  {
   "cell_type": "markdown",
   "id": "cf4c285a",
   "metadata": {},
   "source": [
    "Пропуски решено оставить как есть, так как заполнение синтетическими значениями скажется на результате исследования."
   ]
  },
  {
   "cell_type": "markdown",
   "id": "204b53b4",
   "metadata": {},
   "source": [
    "####  2.2 Выполнение предобработки данных."
   ]
  },
  {
   "cell_type": "code",
   "execution_count": null,
   "id": "e616549b",
   "metadata": {},
   "outputs": [],
   "source": [
    "# добавил к датафрейму столбец street значениями которого будут улицы из столбца address\n",
    "df['street'] = df['address'].str.split(',').str[1]"
   ]
  },
  {
   "cell_type": "code",
   "execution_count": null,
   "id": "1b366413",
   "metadata": {},
   "outputs": [],
   "source": [
    "# добавил к датафрейму столбец is 24/7 значениями которого будут True- если заведение работает ежедневно, коуглосуточно,\n",
    "# False - если заведение имеет другой режим работы\n",
    "df['is_24/7'] = df['hours'] == 'ежедневно, круглосуточно'"
   ]
  },
  {
   "cell_type": "code",
   "execution_count": null,
   "id": "7ed2ff76",
   "metadata": {},
   "outputs": [],
   "source": [
    "df.head(5)"
   ]
  },
  {
   "cell_type": "markdown",
   "id": "249091d8",
   "metadata": {},
   "source": [
    "#### Вывод: \n",
    "* Полных дубликатов в датафрейме не выявлено.\n",
    "* Выявлены пропуски в столбцах hours-536, price-5091, avg_bill-4590, middle_avg_bill-5257, middle_coffee_cup-7871, seats-3611. Пропуски решено оставить как есть, так как заполнение синтетическими значениями скажется на результате исследования.\n",
    "* К датафрейму добавлен столбец street значениями которого будут улицы из столбца address\n",
    "* К датафрейму добавлен столбец is 24/7 значениями которого будут True- если заведение работает ежедневно, коуглосуточно, False - если заведение имеет другой режим работы."
   ]
  },
  {
   "cell_type": "markdown",
   "id": "adcb261a",
   "metadata": {},
   "source": [
    "## Шаг 3. Анализ данных"
   ]
  },
  {
   "cell_type": "markdown",
   "id": "6f89ee28",
   "metadata": {},
   "source": [
    "#### 3.1 Изучение категорий объектов общественного питания в представленных данных. Построение визуализации с распределением заведений по категориям."
   ]
  },
  {
   "cell_type": "code",
   "execution_count": null,
   "id": "08c4ca19",
   "metadata": {},
   "outputs": [],
   "source": [
    "print('В датафрейме представлены заведения категорий:', df['category'].unique().tolist())"
   ]
  },
  {
   "cell_type": "code",
   "execution_count": null,
   "id": "068ca3d8",
   "metadata": {},
   "outputs": [],
   "source": [
    "# вывел количество и процент от общего числа заведений каждого типа из представленных в датафрейме.\n",
    "df_category_grouped = df.groupby('category').agg({'category':'count'})\n",
    "df_category_grouped.rename(columns={'category': 'count'}, inplace=True)\n",
    "df_category_grouped['percent'] = round(((df_category_grouped['count'] / df_category_grouped['count'].sum())*100),1)\n",
    "df_category_grouped = df_category_grouped.sort_values(by ='count', ascending= False)"
   ]
  },
  {
   "cell_type": "code",
   "execution_count": null,
   "id": "7d9f91da",
   "metadata": {},
   "outputs": [],
   "source": [
    "# построил столбчатую диаграмму с количеством объектов общественного питания с разбивкой по категориям.\n",
    "df_category_grouped['count'].plot(kind='bar', grid=True, figsize=(15,5))\n",
    "\n",
    "plt.xlabel('Категория заведения')\n",
    "plt.ylabel('Число заведений')\n",
    "plt.xticks(rotation=45)\n",
    "plt.title('Количество заведений общественного питания в разбивке по категориям')\n",
    "plt.show()"
   ]
  },
  {
   "cell_type": "code",
   "execution_count": null,
   "id": "10a13844",
   "metadata": {},
   "outputs": [],
   "source": [
    "# построил круговую диаграмму с процентом объектов общественного питания от общего числа объектов с разбивкой по категориям.\n",
    "df_category_grouped['percent'].plot(kind='pie', \n",
    "                                  legend=False, \n",
    "                                  figsize=(7,7), \n",
    "                                  autopct='%1.1f%%', \n",
    "                                  title='Процент объектов общественного питания от общего числа объектов с разбивкой по категориям');"
   ]
  },
  {
   "cell_type": "markdown",
   "id": "df115789",
   "metadata": {},
   "source": [
    "В датафрейме заведения категории: кафе-2378 заведений, что составляет-28.3%, рестораны-2043,что составляет-24.3%, кофейни-1413, что составляет-16.8%, бар,паб-765 заведений, что составляет-9.1%, пиццерии-633 заведения, что составляет-\t7.5%, заведение быстрого питания-603 заведений, что составляет-7.2%, столовые-315 заведений, что составляет-3.7%, булочные-256 заведений, что составляет-3.0% "
   ]
  },
  {
   "cell_type": "markdown",
   "id": "7da5c903",
   "metadata": {},
   "source": [
    "#### 3.2 Исследование количества посадочных мест на объектах общественного питания по категориям. Построение визуализации. "
   ]
  },
  {
   "cell_type": "code",
   "execution_count": null,
   "id": "cc60a247",
   "metadata": {},
   "outputs": [],
   "source": [
    "# Сгруппировал медианное количество посадочных мест на объектах общественного питания по такегориям\n",
    "df_seats_grouped = df.groupby('category').agg({'seats':'median'})\n",
    "df_seats_grouped.sort_values(by ='seats', ascending= False)"
   ]
  },
  {
   "cell_type": "code",
   "execution_count": null,
   "id": "70827907",
   "metadata": {},
   "outputs": [],
   "source": [
    "sns.set_style(\"whitegrid\")\n",
    "df.boxplot(by ='category', column =['seats'], grid = True, figsize=(15,5));"
   ]
  },
  {
   "cell_type": "markdown",
   "id": "4002eda6",
   "metadata": {},
   "source": [
    "В большинстве категорий количество посадочных мест менее 400"
   ]
  },
  {
   "cell_type": "code",
   "execution_count": null,
   "id": "b7ba1689",
   "metadata": {},
   "outputs": [],
   "source": [
    "# построил диаграмму ящик с усами по выполненному срезу \n",
    "sns.set_style(\"whitegrid\")\n",
    "ax = df.boxplot(by ='category', column =['seats'], grid = True, figsize=(15,5))\n",
    "ax.set_ylim([0, 400]);"
   ]
  },
  {
   "cell_type": "markdown",
   "id": "a684102f",
   "metadata": {},
   "source": [
    "Наибольшим количеством посадочных мест среди преставленных категорий обладают рестораны, бары,пабы и кофейни. Наименьшим - пиццерии и булочные."
   ]
  },
  {
   "cell_type": "markdown",
   "id": "b6dd06b7",
   "metadata": {},
   "source": [
    "#### 3.3 Оценка соотношения сетевых и несетевых заведений в датасете. "
   ]
  },
  {
   "cell_type": "code",
   "execution_count": null,
   "id": "17c7a6b0",
   "metadata": {},
   "outputs": [],
   "source": [
    "# изменил значения в столбце chain 0:'Несетевое', 1:'Сетевое'\n",
    "df['chain'] = df['chain'].map({0:'Несетевое', 1:'Сетевое'})"
   ]
  },
  {
   "cell_type": "code",
   "execution_count": null,
   "id": "84edadcf",
   "metadata": {},
   "outputs": [],
   "source": [
    "# сгруппировал все объекты общественного питания на сетевые и несетевые\n",
    "df_chain_grouped = df.groupby('chain')['name'].agg(['count']).reset_index()\n",
    "df_chain_grouped = df_chain_grouped.set_index('chain')\n",
    "df_chain_grouped"
   ]
  },
  {
   "cell_type": "code",
   "execution_count": null,
   "id": "009d695b",
   "metadata": {},
   "outputs": [],
   "source": [
    "# построил круговую диаграмму с разбивкой всех заведений на сетевые и несетевые\n",
    "df_chain_grouped.plot(kind='pie', \n",
    "                      y='count', \n",
    "                      autopct='%1.1f%%', \n",
    "                      legend=False, \n",
    "                      figsize=(7,7), \n",
    "                      title='Процент объектов общественного питания в разбивке на сетевые и несетевые заведения');"
   ]
  },
  {
   "cell_type": "markdown",
   "id": "bdd8e62a",
   "metadata": {},
   "source": [
    "В датафрейме преобладают несетевые объекты общественного питания. Несетевых заведений представлено 5201 объект, что составляет 61,9% от всех объектов. Сетевых объектов представлено 3205, что составляет 38,1%."
   ]
  },
  {
   "cell_type": "code",
   "execution_count": null,
   "id": "0c486920",
   "metadata": {},
   "outputs": [],
   "source": [
    "df_chain_grouped = df.groupby('category').agg({'name':'count'}).sort_values(by='name', ascending = False).reset_index()\n",
    "df_chain_grouped.rename(columns={'name': 'all_count'}, inplace=True)\n",
    "df_net_slice = df.loc[df['chain'] == 'Сетевое'].groupby('category')['name'].count().reset_index()\n",
    "df_net_slice.rename(columns={'name': 'net_count'}, inplace=True)\n",
    "df_chain_grouped = df_chain_grouped.merge(df_net_slice, on='category').sort_values(by='all_count', ascending=False).reset_index(drop=True)\n",
    "df_chain_grouped['net_procent'] = round((df_chain_grouped['net_count'] / df_chain_grouped['all_count'] * 100),2)\n",
    "df_nonnet_slice = df.loc[df['chain'] == 'Несетевое'].groupby('category')['name'].count().reset_index()\n",
    "df_nonnet_slice.rename(columns={'name': 'nonnet_count'}, inplace=True)\n",
    "df_chain_grouped = df_chain_grouped.merge(df_nonnet_slice, on='category').sort_values(by='all_count', ascending=False).reset_index(drop=True)\n",
    "df_chain_grouped['nonnet_procent'] = round((df_chain_grouped['nonnet_count'] / df_chain_grouped['all_count'] * 100),2)\n",
    "df_chain_grouped"
   ]
  },
  {
   "cell_type": "code",
   "execution_count": null,
   "id": "056f0d03",
   "metadata": {},
   "outputs": [],
   "source": [
    "fig = go.Figure()\n",
    "\n",
    "fig.add_trace(go.Funnel(\n",
    "    name = ' Сетевое',\n",
    "    y = df_chain_grouped['category'],\n",
    "    x = df_chain_grouped['net_procent'],\n",
    "    textinfo = \"value\"))\n",
    "\n",
    "fig.add_trace(go.Funnel(\n",
    "    name = 'Несетевое',\n",
    "    orientation = \"h\",\n",
    "    y = df_chain_grouped['category'],\n",
    "    x = df_chain_grouped['nonnet_procent'],\n",
    "    textposition = \"inside\",\n",
    "    textinfo = \"value\"))\n",
    "\n",
    "fig.show()"
   ]
  },
  {
   "cell_type": "markdown",
   "id": "3ab4bec0",
   "metadata": {},
   "source": [
    "Сетевые заведения преобладают в трех категориях: кофейня, пиццерия, булочная. В осстальных категориях значительно преобладают несетевые заведения"
   ]
  },
  {
   "cell_type": "markdown",
   "id": "39d93d31",
   "metadata": {},
   "source": [
    "#### 3.4 Исследование категорий сетевых заведений. Построение графика."
   ]
  },
  {
   "cell_type": "code",
   "execution_count": null,
   "id": "190ead93",
   "metadata": {},
   "outputs": [],
   "source": [
    "# выделил из датафрейма все сетевые заведения\n",
    "df_network = df.loc[df['chain'] == 'Сетевое']"
   ]
  },
  {
   "cell_type": "code",
   "execution_count": null,
   "id": "0caebbd0",
   "metadata": {},
   "outputs": [],
   "source": [
    "# сгруппировал сетевые заведения по категориям и посчитал их количество\n",
    "df_network_grouped = df_network.groupby('category').agg({'name':'count'})\n",
    "df_network_grouped.rename(columns={'name': 'count'}, inplace=True)\n",
    "df_network_grouped = df_network_grouped.sort_values(by ='count', ascending= False).reset_index()"
   ]
  },
  {
   "cell_type": "code",
   "execution_count": null,
   "id": "d0fc418f",
   "metadata": {},
   "outputs": [],
   "source": [
    "# построил столбчатую диаграмму количества сетевых заведений в разбивке по категориям.\n",
    "ax = df_network_grouped.plot(\n",
    "    kind='bar',\n",
    "    x='category',\n",
    "    y='count',\n",
    "    legend=None,\n",
    "    figsize=(15, 7)\n",
    ");\n",
    "\n",
    "\n",
    "plt.xlabel('Категория заведения')\n",
    "plt.ylabel('Число заведений')\n",
    "plt.xticks(rotation=45)\n",
    "plt.title('Количество сетевых заведений общественного питания')\n",
    "plt.show()"
   ]
  },
  {
   "cell_type": "markdown",
   "id": "2442dfab",
   "metadata": {},
   "source": [
    "Среди сетевых заведений преобладают кафе-779 объектов, рестораны-730 объектов и кофейни-720 объектов. Наименьшее количество среди представленных сетевых заведений имеют столовые-88 объектов."
   ]
  },
  {
   "cell_type": "markdown",
   "id": "c17f19cb",
   "metadata": {},
   "source": [
    "#### 3.5 Определение топ-15 популярных сетей в Москве. Оценка количества заведений этих сетей в регионе. Построение визуализации.  Оценка наличия общих признаков, оценка категории данных сетей."
   ]
  },
  {
   "cell_type": "code",
   "execution_count": null,
   "id": "a6f8ca27",
   "metadata": {},
   "outputs": [],
   "source": [
    "# сделал таблицу с топ-15 по количеству сетевыз заведений \n",
    "df_network_pivot = df_network.pivot_table(index=['name','category'], values='address',aggfunc='count')\n",
    "df_network_pivot.rename(columns={'address': 'count'}, inplace=True)\n",
    "df_network_pivot = df_network_pivot.sort_values(by='count',ascending=False).head(15).reset_index()\n",
    "df_network_pivot"
   ]
  },
  {
   "cell_type": "markdown",
   "id": "7236c37c",
   "metadata": {},
   "source": [
    "<div class=\"alert alert-success\"; style=\"border-left: 7px solid green\">\n",
    "<font size='4'><b>👍 Комментарий ревьюера 2</b></font>\n",
    "\n",
    "Верно\n",
    "</div>"
   ]
  },
  {
   "cell_type": "code",
   "execution_count": null,
   "id": "c375c971",
   "metadata": {},
   "outputs": [],
   "source": [
    "# вывел количество категорий сетевых заведений вошедших в топ-15\n",
    "df_network_pivot['category'].value_counts()"
   ]
  },
  {
   "cell_type": "markdown",
   "id": "c0f83f45",
   "metadata": {},
   "source": [
    "Среди крупных сетевых заведений преобладают кофейни. Кофейных сетей, попавших в топ-15 сетевых заведений по количеству в Москве - 6. "
   ]
  },
  {
   "cell_type": "code",
   "execution_count": null,
   "id": "f3ae3198",
   "metadata": {},
   "outputs": [],
   "source": [
    "# создал срез датафрейма в котором хранится вся информация о топ-15 сетевых заведениях\n",
    "df_top_slice = df.query('name in @df_network_pivot.name')"
   ]
  },
  {
   "cell_type": "code",
   "execution_count": null,
   "id": "b0b8f855",
   "metadata": {},
   "outputs": [],
   "source": [
    "# ввел пепеменные широты и долготы центра Москвы\n",
    "moscow_lat, moscow_lng = 55.751244, 37.618423\n",
    "\n",
    "# созранил в переменную карту Москвы\n",
    "m = Map(location=[moscow_lat, moscow_lng], zoom_start=10)\n",
    "# создал пустой кластер, добавляем его на карту\n",
    "marker_cluster = MarkerCluster().add_to(m)\n",
    "\n",
    "# прописал функцию, которая принимает строку датафрейма,\n",
    "# создаёт маркер в текущей точке и добавляет его в кластер marker_cluster\n",
    "def create_clusters(row):\n",
    "    Marker(\n",
    "        [row['lat'], row['lng']],\n",
    "        popup=f\"{row['name']}\",\n",
    "    ).add_to(marker_cluster)\n",
    "# применил функцию create_clusters() к каждой строке датафрейма\n",
    "df_top_slice.apply(create_clusters, axis=1)\n",
    "# вывел карту\n",
    "m"
   ]
  },
  {
   "cell_type": "markdown",
   "id": "2bb8f4cf",
   "metadata": {},
   "source": [
    "Наибольшее количество объектов топ-15 сетевых заведений сосредоточены в Центральном и Северном административных округах."
   ]
  },
  {
   "cell_type": "code",
   "execution_count": null,
   "id": "fca94326",
   "metadata": {},
   "outputs": [],
   "source": [
    "# создал срез датафрейма в котором хранится вся информация о кофейнях из топ-15 сетевых заведениях\n",
    "df_network_cofe = df_network_pivot.loc[df_network_pivot['category'] == 'кофейня']\n",
    "df_top_cofe_slice = df.query('name in @df_network_cofe.name')"
   ]
  },
  {
   "cell_type": "code",
   "execution_count": null,
   "id": "e5259ede",
   "metadata": {},
   "outputs": [],
   "source": [
    "# ввел пепеменные широты и долготы центра Москвы\n",
    "moscow_lat, moscow_lng = 55.751244, 37.618423\n",
    "\n",
    "# созранил в переменную карту Москвы\n",
    "m = Map(location=[moscow_lat, moscow_lng], zoom_start=10)\n",
    "# создал пустой кластер, добавляем его на карту\n",
    "marker_cluster = MarkerCluster().add_to(m)\n",
    "\n",
    "# прописал функцию, которая принимает строку датафрейма,\n",
    "# создаёт маркер в текущей точке и добавляет его в кластер marker_cluster\n",
    "def create_clusters(row):\n",
    "    Marker(\n",
    "        [row['lat'], row['lng']],\n",
    "        popup=f\"{row['name']}\",\n",
    "    ).add_to(marker_cluster)\n",
    "    \n",
    "# применяем функцию create_clusters() к каждой строке датафрейма\n",
    "df_top_cofe_slice.apply(create_clusters, axis=1)\n",
    "\n",
    "# выводим карту\n",
    "m"
   ]
  },
  {
   "cell_type": "markdown",
   "id": "7967c0b7",
   "metadata": {},
   "source": [
    "Большинство объектов кофейных сетей, вошедших в топ-15 сетей, сосредоточены в Центральном административном округе."
   ]
  },
  {
   "cell_type": "markdown",
   "id": "a41bbbbd",
   "metadata": {},
   "source": [
    "#### 3.6 Оценка распределения объектов общественного питания по административным округам города Москвы. Построение визуализации."
   ]
  },
  {
   "cell_type": "code",
   "execution_count": null,
   "id": "c33a2794",
   "metadata": {},
   "outputs": [],
   "source": [
    "adm_distr_pivot = df.pivot_table(index=['district','category'], values='name', aggfunc='count').reset_index()\n",
    "adm_distr_pivot.rename(columns={'name': 'count'}, inplace=True)\n",
    "adm_distr_pivot['sum'] = adm_distr_pivot.groupby('district')['count'].transform(sum)\n",
    "adm_distr_pivot['procent'] = round((adm_distr_pivot['sum']/adm_distr_pivot['count']),1)\n",
    "adm_distr_pivot"
   ]
  },
  {
   "cell_type": "code",
   "execution_count": null,
   "id": "6d0d405e",
   "metadata": {},
   "outputs": [],
   "source": [
    "fig = px.bar(adm_distr_pivot, \n",
    "             x='procent', \n",
    "             y='district', \n",
    "             color='category', \n",
    "             title='Распределение заведений по административным округам', \n",
    "             text='procent')\n",
    "fig.update_layout(\n",
    "    yaxis_title=\"Административный округ\",\n",
    "    xaxis_title='%',\n",
    "    yaxis = dict(\n",
    "        tickmode='array',\n",
    "        tickvals=adm_distr_pivot['district'],\n",
    "        ticktext=adm_distr_pivot['district'],\n",
    "          ),\n",
    "    legend_title='Категория заведений',\n",
    "    autosize=False,\n",
    "    width=1000,\n",
    "    height=500\n",
    ")\n",
    "    \n",
    "fig.show()"
   ]
  },
  {
   "cell_type": "markdown",
   "id": "7c603926",
   "metadata": {},
   "source": [
    "#### 3.7 Оценка распределения средних рейтингов по категориям заведений. Построение визуализации."
   ]
  },
  {
   "cell_type": "code",
   "execution_count": null,
   "id": "baad0095",
   "metadata": {},
   "outputs": [],
   "source": [
    "df_rating_grouped = df.groupby('category').agg({'rating':'mean'})\n",
    "df_rating_grouped['rating'] = round((df_rating_grouped ['rating']),2)\n",
    "df_rating_grouped = df_rating_grouped.sort_values(by='rating', ascending = False).reset_index()"
   ]
  },
  {
   "cell_type": "code",
   "execution_count": null,
   "id": "00845798",
   "metadata": {},
   "outputs": [],
   "source": [
    "ax = df_rating_grouped.plot(\n",
    "    kind='bar',\n",
    "    x='category',\n",
    "    y='rating',\n",
    "    legend=None,\n",
    "    figsize=(15, 5)\n",
    ");\n",
    "\n",
    "\n",
    "plt.xlabel('Категория заведения')\n",
    "plt.ylabel('средний рейтинг по всем районам')\n",
    "plt.xticks(rotation=45)\n",
    "plt.title('Средний рейтинг заведений в разбивке по категориям')\n",
    "plt.show()"
   ]
  },
  {
   "cell_type": "markdown",
   "id": "20204d74",
   "metadata": {},
   "source": [
    "Средний рейтинг всех категорий заведений не ниже 4. Самый высокий средний рейтинг у категории заведений бар,паб, он составляет 4,39 балла. Самый низкий у заведений быстрого питания, он составляет 4,05 балла."
   ]
  },
  {
   "cell_type": "code",
   "execution_count": null,
   "id": "ec2c96db",
   "metadata": {},
   "outputs": [],
   "source": [
    "# построил таблицу распределения средних рейтингов категорий заведений в разбивке по административным округам.\n",
    "avg_rating_pivot = df.pivot_table(index='district', columns='category', values='rating', aggfunc='mean')\n",
    "avg_rating_pivot.rename(columns={'rating': 'avg_rating'}, inplace=True)\n",
    "avg_rating_pivot = np.round(avg_rating_pivot, decimals=2)\n",
    "avg_rating_pivot"
   ]
  },
  {
   "cell_type": "code",
   "execution_count": null,
   "id": "228e182e",
   "metadata": {},
   "outputs": [],
   "source": [
    "# построил хитмэп средних рейтингов категорий заведений в разбивке по административным округам.\n",
    "sns.set(rc = {'figure.figsize':(15,8)})\n",
    "sns.heatmap(avg_rating_pivot, annot = True, square=True);"
   ]
  },
  {
   "cell_type": "markdown",
   "id": "bb344d32",
   "metadata": {},
   "source": [
    "Наивысший средний балл у большинства категорий заведений общественного питания в Центральном административном округе."
   ]
  },
  {
   "cell_type": "markdown",
   "id": "3cc88eb3",
   "metadata": {},
   "source": [
    "#### 3.8 Фоновая картограмма (хороплет) со средним рейтингом заведений каждого района."
   ]
  },
  {
   "cell_type": "code",
   "execution_count": null,
   "id": "919ce4e1",
   "metadata": {},
   "outputs": [],
   "source": [
    "# построил таблицу со средним рейтингом заведений общественного питания в разбивке по административным округам.\n",
    "avg_rat_dist_pivot = df.pivot_table(index='district', values='rating', aggfunc='mean').reset_index()\n",
    "avg_rat_dist_pivot['rating'] = round((avg_rat_dist_pivot['rating']),2)\n",
    "avg_rat_dist_pivot.sort_values(by='rating', ascending=False).reset_index(drop=True)"
   ]
  },
  {
   "cell_type": "code",
   "execution_count": null,
   "id": "15d4c0d6",
   "metadata": {},
   "outputs": [],
   "source": [
    "state_geo = 'https://code.s3.yandex.net/data-analyst/admin_level_geomap.geojson'\n",
    "# ввел пепеменные широты и долготы центра Москвы\n",
    "moscow_lat, moscow_lng = 55.751244, 37.618423\n",
    "\n",
    "# вывел карту Москвы\n",
    "m = folium.Map(location=[moscow_lat, moscow_lng], zoom_start=10)\n",
    "\n",
    "# создаёл и добавил его на карту\n",
    "folium.Choropleth(\n",
    "    geo_data=state_geo,\n",
    "    name='choropleth',\n",
    "    data=avg_rat_dist_pivot ,\n",
    "    columns=['district', 'rating'],\n",
    "    key_on='feature.name',\n",
    "    fill_color='Reds',\n",
    "    fill_opacity=0.5,\n",
    "    line_opacity=0.5,\n",
    "    legend_name='Рейтинг заведений',\n",
    ").add_to(m)\n",
    "\n",
    "# вывел карту\n",
    "m"
   ]
  },
  {
   "cell_type": "markdown",
   "id": "50065bb1",
   "metadata": {},
   "source": [
    "Данная визуализация подтверждает, что наивысшим средним баллом обладают заведения общественного питания в Центральном административном округе. В то время как самый низкий средний балл у заведений в Юго-Восточном административном округе."
   ]
  },
  {
   "cell_type": "markdown",
   "id": "776bd2b2",
   "metadata": {},
   "source": [
    "#### 3.9 Отображение всех заведений датасета на карте с помощью кластеров. "
   ]
  },
  {
   "cell_type": "code",
   "execution_count": null,
   "id": "6a7b92b6",
   "metadata": {},
   "outputs": [],
   "source": [
    "# ввел пепеменные широты и долготы центра Москвы\n",
    "moscow_lat, moscow_lng = 55.751244, 37.618423\n",
    "\n",
    "# вывел карту Москвы\n",
    "m = Map(location=[moscow_lat, moscow_lng], zoom_start=10)\n",
    "# создал пустой кластер, добавил его на карту\n",
    "marker_cluster = MarkerCluster().add_to(m)\n",
    "\n",
    "# прописал функцию, которая принимает строку датафрейма,\n",
    "# создаёт маркер в текущей точке и добавляет его в кластер marker_cluster\n",
    "def create_clusters(row):\n",
    "    Marker(\n",
    "        [row['lat'], row['lng']],\n",
    "        popup=f\"{row['name']}\",\n",
    "    ).add_to(marker_cluster)\n",
    "\n",
    "# применил функцию create_clusters() к каждой строке датафрейма\n",
    "df.apply(create_clusters, axis=1)\n",
    "\n",
    "# выводим карту\n",
    "m"
   ]
  },
  {
   "cell_type": "markdown",
   "id": "c6be2965",
   "metadata": {},
   "source": [
    "#### 3.10 Определение топ-15 улиц по количеству заведений. Построение визуализации."
   ]
  },
  {
   "cell_type": "code",
   "execution_count": null,
   "id": "ae8aee21",
   "metadata": {},
   "outputs": [],
   "source": [
    "# построил таблицу топ-15 улиц по количество заведений\n",
    "top_streets_pivot = df.pivot_table(index='street', values='name', aggfunc='count').reset_index()\n",
    "top_15_streets = top_streets_pivot.sort_values(by='name',ascending=False).head(15).reset_index(drop=True)\n",
    "top_15 = df.loc[df['street'].isin(top_15_streets['street'])]\n",
    "top_15.head(5)"
   ]
  },
  {
   "cell_type": "code",
   "execution_count": null,
   "id": "9c827566",
   "metadata": {
    "scrolled": false
   },
   "outputs": [],
   "source": [
    "# ввел пепеменные широты и долготы центра Москвы\n",
    "moscow_lat, moscow_lng = 55.751244, 37.618423\n",
    "\n",
    "# вывел карту Москвы\n",
    "m = Map(location=[moscow_lat, moscow_lng], zoom_start=10)\n",
    "# создал пустой кластер, добавил его на карту\n",
    "marker_cluster = MarkerCluster().add_to(m)\n",
    "\n",
    "# прописал функцию, которая принимает строку датафрейма,\n",
    "# создаёт маркер в текущей точке и добавляет его в кластер marker_cluster\n",
    "def create_clusters(row):\n",
    "    Marker(\n",
    "        [row['lat'], row['lng']],\n",
    "        popup=f\"{row['name']}\",\n",
    "    ).add_to(marker_cluster)\n",
    "\n",
    "# применил функцию create_clusters() к каждой строке датафрейма\n",
    "top_15.apply(create_clusters, axis=1)\n",
    "\n",
    "# выводим карту\n",
    "m"
   ]
  },
  {
   "cell_type": "markdown",
   "id": "a8db6ecc",
   "metadata": {},
   "source": [
    "Топ-15 улицами по количеству заведений являются длинные улицы идущие от центра к МКАД."
   ]
  },
  {
   "cell_type": "code",
   "execution_count": null,
   "id": "759b0346",
   "metadata": {},
   "outputs": [],
   "source": [
    "# создал таблицу с количеством и процентом заведений на топ-15 улицах по количеству заведений, с разбивкой по категориям\n",
    "top_streets = top_15.pivot_table(index=['street','category'], values='name', aggfunc='count').reset_index()\n",
    "top_streets.rename(columns={'name': 'count'}, inplace=True)\n",
    "top_streets['sum'] = top_streets.groupby('street')['count'].transform(sum)\n",
    "top_streets['procent'] = round((top_streets['sum']/top_streets['count']),1)\n",
    "top_streets"
   ]
  },
  {
   "cell_type": "code",
   "execution_count": null,
   "id": "acbb381f",
   "metadata": {},
   "outputs": [],
   "source": [
    "fig = px.bar(top_streets, \n",
    "             x='procent', \n",
    "             y='street', \n",
    "             color='category', \n",
    "             title='Распределение заведений на топ-15 улиц', \n",
    "             text='procent')\n",
    "fig.update_layout(\n",
    "    yaxis_title=\"Улица\",\n",
    "    xaxis_title='%',\n",
    "    yaxis = dict(\n",
    "        tickmode='array',\n",
    "        tickvals=top_streets['street'],\n",
    "        ticktext=top_streets['street'],\n",
    "          ),\n",
    "    legend_title='Категория заведений',\n",
    "    autosize=False,\n",
    "    width=1000,\n",
    "    height=500\n",
    ")\n",
    "    \n",
    "fig.show()"
   ]
  },
  {
   "cell_type": "markdown",
   "id": "729c65ff",
   "metadata": {},
   "source": [
    "#### 3.11 Определение и оценка улиц, на которых находится только один объект общепита."
   ]
  },
  {
   "cell_type": "code",
   "execution_count": null,
   "id": "457e105a",
   "metadata": {},
   "outputs": [],
   "source": [
    "# создал таблицу со всей информацией о заведениях, являющихся единственными на улице расположения\n",
    "one_inst_street = top_streets_pivot.loc[top_streets_pivot['name'] == 1]\n",
    "one_inst_street = df.loc[df['street'].isin(one_inst_street['street'])]\n",
    "one_inst_street.head(5)"
   ]
  },
  {
   "cell_type": "code",
   "execution_count": null,
   "id": "3c740c3a",
   "metadata": {},
   "outputs": [],
   "source": [
    "# ввел пепеменные широты и долготы центра Москвы\n",
    "moscow_lat, moscow_lng = 55.751244, 37.618423\n",
    "\n",
    "# вывел карту Москвы\n",
    "m = Map(location=[moscow_lat, moscow_lng], zoom_start=10)\n",
    "# создал пустой кластер, добавил его на карту\n",
    "marker_cluster = MarkerCluster().add_to(m)\n",
    "\n",
    "# прописал функцию, которая принимает строку датафрейма,\n",
    "# создаёт маркер в текущей точке и добавляет его в кластер marker_cluster\n",
    "def create_clusters(row):\n",
    "    Marker(\n",
    "        [row['lat'], row['lng']],\n",
    "        popup=f\"{row['name']}\",\n",
    "    ).add_to(marker_cluster)\n",
    "\n",
    "# применил функцию create_clusters() к каждой строке датафрейма\n",
    "one_inst_street.apply(create_clusters, axis=1)\n",
    "\n",
    "# вывел карту\n",
    "m"
   ]
  },
  {
   "cell_type": "markdown",
   "id": "9dfc0960",
   "metadata": {},
   "source": [
    "Наибольшее количество заведений общественного питания, являющихся единственными на улице расположения, находятся в Центральном административном округе. Вероятно, это связано с бОльшим количеством небольших пешеходных улиц в центре Москвы."
   ]
  },
  {
   "cell_type": "code",
   "execution_count": null,
   "id": "1f29fdd8",
   "metadata": {},
   "outputs": [],
   "source": [
    "# построил таблицу со средним рейтингом, количеством, средним чеком заведений, являющихся единственными на улице расположения\n",
    "one_inst_grouped = one_inst_street.groupby('category').agg({'rating': ['mean'],\n",
    "                                                            'name' : ['count'],\n",
    "                                                            'middle_avg_bill' : ['mean']})\n",
    "one_inst_grouped['rating'] = round((one_inst_grouped['rating']),2)\n",
    "one_inst_grouped['middle_avg_bill'] = round((one_inst_grouped['middle_avg_bill']),2)\n",
    "one_inst_grouped.reset_index()"
   ]
  },
  {
   "cell_type": "markdown",
   "id": "eb2d7ae8",
   "metadata": {},
   "source": [
    "Наивысшим рейтингом среди заведений, являющихся единственными на улице расположения обладают бары и пабы. Эта категория заведений также обладают вторым по величине средним чеком-1456,33. Наивысшим средним чеком среди заведений данной группы обладают рестораны- 1707,14. В то время как наименьший рейтинг среди заведений данной группы в категории быстрое питание, он составляет 4,08."
   ]
  },
  {
   "cell_type": "markdown",
   "id": "2f50e489",
   "metadata": {},
   "source": [
    "#### 3.12 Подсчет медианы значений средних чеков заведений для каждого района. Построение визуализации. Анализ цен в центральном административном округе и других. "
   ]
  },
  {
   "cell_type": "code",
   "execution_count": null,
   "id": "1c2079ba",
   "metadata": {},
   "outputs": [],
   "source": [
    "# построил таблицу среднего чека в заведениях разных административных округов с разбивкой по категориям заведений.\n",
    "avg_bill_pivot = df.pivot_table(index='district', columns='category', values='middle_avg_bill', aggfunc='mean')\n",
    "avg_bill_pivot = np.round(avg_bill_pivot, decimals=1)\n",
    "avg_bill_pivot"
   ]
  },
  {
   "cell_type": "code",
   "execution_count": null,
   "id": "9313428f",
   "metadata": {},
   "outputs": [],
   "source": [
    "# построил хитмэп среднего чека в заведениях разных административных округов с разбивкой по категориям заведений.\n",
    "sns.set(rc = {'figure.figsize':(15,8)})\n",
    "sns.heatmap(avg_bill_pivot);"
   ]
  },
  {
   "cell_type": "markdown",
   "id": "73584a07",
   "metadata": {},
   "source": [
    "По данному графику можно судить о том, что наивысщий средний чек имеют заведения категории ресторан, расположенные в Центральном административном округе. В то время как наименьший средний чек имеют заведения категории столовая."
   ]
  },
  {
   "cell_type": "code",
   "execution_count": null,
   "id": "65b6c620",
   "metadata": {},
   "outputs": [],
   "source": [
    "# построил таблицу среднего чека в заведениях разных административных округов\n",
    "avg_bill_dist_pivot = df.pivot_table(index='district', values='middle_avg_bill', aggfunc='median').reset_index()\n",
    "avg_bill_dist_pivot.sort_values(by='middle_avg_bill', ascending=False).reset_index(drop=True) "
   ]
  },
  {
   "cell_type": "code",
   "execution_count": null,
   "id": "6d2bbca6",
   "metadata": {},
   "outputs": [],
   "source": [
    "state_geo = 'https://code.s3.yandex.net/data-analyst/admin_level_geomap.geojson'\n",
    "# ввел пепеменные широты и долготы центра Москвы\n",
    "moscow_lat, moscow_lng = 55.751244, 37.618423\n",
    "\n",
    "# вывел карту Москвы\n",
    "m = folium.Map(location=[moscow_lat, moscow_lng], zoom_start=10)\n",
    "\n",
    "# создал хороплет и добавил его на карту\n",
    "folium.Choropleth(\n",
    "    geo_data=state_geo,\n",
    "    name='choropleth',\n",
    "    data=avg_bill_dist_pivot  ,\n",
    "    columns=['district', 'middle_avg_bill'],\n",
    "    key_on='feature.name',\n",
    "    fill_color='Reds',\n",
    "    fill_opacity=0.5,\n",
    "    line_opacity=0.5,\n",
    "    legend_name='Средний счёт заведений',\n",
    ").add_to(m)\n",
    "\n",
    "# вывел карту\n",
    "m"
   ]
  },
  {
   "cell_type": "markdown",
   "id": "8b192e67",
   "metadata": {},
   "source": [
    "Наивысший средний чек в заведениях Центрального и Западного административных округов. Наименьшие средние чеки в заведениях Юго-Восточного административного округа."
   ]
  },
  {
   "cell_type": "markdown",
   "id": "43b4357b",
   "metadata": {},
   "source": [
    "#### Вывод: \n",
    "* В датафрейме представлены заведения категорий: кафе-2378 заведений, что составляет-28.3%, рестораны-2043,что составляет-24.3%, кофейни-1413, что составляет-16.8%, бар,паб-765 заведений, что составляет-9.1%, пиццерии-633 заведения, что составляет-7.5%, заведение быстрого питания-603 заведений, что составляет-7.2%, столовые-315 заведений, что составляет-3.7%, булочные-256 заведений, что составляет-3.0% \n",
    "* В большинстве категорий количество посадочных мест менее 400. Наибольшим средним количеством посадочных мест среди преставленных категорий обладают рестораны - 86 мест, бары,пабы - 83 и кофейни - 80. Наименьшим - пиццерии - 55 и булочные - 50 мест.\n",
    "* В датафрейме преобладают несетевые объекты общественного питания. Несетевых заведений представлено в количестве -  5201 объект, что составляет 61,9% от всех объектов. Сетевых объектов представлено 3205, что составляет 38,1%. Сетевые заведения преобладают в трех категориях: кофейня, пиццерия, булочная. В остальных категориях значительно преобладают несетевые заведения.\n",
    "* Среди сетевых заведений преобладают кафе-779 объектов, рестораны-730 объектов и кофейни-720 объектов. Наименьшее количество среди представленных сетевых заведений имеют столовые-88 объектов.\n",
    "* Среди крупных сетевых заведений преобладают кофейни. Кофейных сетей, попавших в топ-15 сетевых заведений по количеству в Москве - 6. Наибольшее количество объектов среди всех категорий из топ-15 сетевых заведений сосредоточены в Центральном и Северном административных округах. Большинство объектов кофейных сетей, вошедших в топ-15 сетей, сосредоточены в Центральном административном округе.\n",
    "* Средний рейтинг всех категорий заведений не ниже 4. Самый высокий средний рейтинг у категории заведений бар,паб, он составляет 4,39 балла. Самый низкий у заведений быстрого питания, он составляет 4,05 балла. Наивысший средний балл у большинства категорий заведений общественного питания в Центральном административном округе.\n",
    "* Топ-15 улицами по количеству заведений являются длинные улицы идущие от центра к МКАД.\n",
    "* Наибольшее количество заведений общественного питания, являющихся единственными на улице расположения, находятся в Центральном административном округе. Вероятно, это связано с бОльшим количеством небольших пешеходных улиц в центре Москвы. Наивысшим рейтингом среди заведений, являющихся единственными на улице расположения обладают бары и пабы. Эта категория заведений также обладают вторым по величине средним чеком-1456,33. Наивысшим средним чеком среди заведений данной группы обладают рестораны- 1707,14. В то время как наименьший рейтинг среди заведений данной группы в категории быстрое питание, он составляет 4,08.\n",
    "* Наивысщий средний чек имеют заведения категории ресторан, расположенные в Центральном административном округе. В то время как наименьший средний чек имеют заведения категории столовая. Наивысший средний чек в заведениях Центрального и Западного административных округов. Наименьшие средние чеки в заведениях Юго-Восточного административного округа."
   ]
  },
  {
   "cell_type": "markdown",
   "id": "98632bd3",
   "metadata": {},
   "source": [
    "## Шаг 4. Детализация исследования: открытие кофейни"
   ]
  },
  {
   "cell_type": "markdown",
   "id": "77982365",
   "metadata": {},
   "source": [
    "#### 4.1 Оценка количества кофеен и их расположения. "
   ]
  },
  {
   "cell_type": "code",
   "execution_count": null,
   "id": "443e3f97",
   "metadata": {},
   "outputs": [],
   "source": [
    "# сделал срез данных к который вошли только заведения категории кофейня\n",
    "df_coffee = df.loc[df['category'] == 'кофейня']"
   ]
  },
  {
   "cell_type": "code",
   "execution_count": null,
   "id": "4ab737ad",
   "metadata": {},
   "outputs": [],
   "source": [
    "print('В датасете представлено', df_coffee['name'].count(), 'кофейни.')"
   ]
  },
  {
   "cell_type": "code",
   "execution_count": null,
   "id": "c1bdc704",
   "metadata": {},
   "outputs": [],
   "source": [
    "# построил таблицу количества кофеен в разных административных округах\n",
    "df_coffee_pivot = df_coffee.pivot_table(index='district', values='name', aggfunc='count').reset_index()\n",
    "df_coffee_pivot = df_coffee_pivot.sort_values(by='name', ascending=False).reset_index(drop=True) "
   ]
  },
  {
   "cell_type": "code",
   "execution_count": null,
   "id": "73a0396b",
   "metadata": {},
   "outputs": [],
   "source": [
    "# построил столбчатую диаграмму количества кофеен в разных административных округах\n",
    "plt.barh(y=df_coffee_pivot['district'], width=df_coffee_pivot['name'])\n",
    "plt.title('Количество кофеен в разных административных округах', fontsize=18)\n",
    "plt.xlabel('Количество объектов')\n",
    "plt.ylabel('Админисиративный округ')\n",
    "plt.show()"
   ]
  },
  {
   "cell_type": "code",
   "execution_count": null,
   "id": "22fcdfeb",
   "metadata": {},
   "outputs": [],
   "source": [
    "# ввел пепеменные широты и долготы центра Москвы\n",
    "moscow_lat, moscow_lng = 55.751244, 37.618423\n",
    "\n",
    "# вывел карту Москвы\n",
    "m = Map(location=[moscow_lat, moscow_lng], zoom_start=10)\n",
    "# создал пустой кластер, добавил его на карту\n",
    "marker_cluster = MarkerCluster().add_to(m)\n",
    "\n",
    "# прописал функцию, которая принимает строку датафрейма,\n",
    "# создаёт маркер в текущей точке и добавляет его в кластер marker_cluster\n",
    "def create_clusters(row):\n",
    "    Marker(\n",
    "        [row['lat'], row['lng']],\n",
    "        popup=f\"{row['name']}\",\n",
    "    ).add_to(marker_cluster)\n",
    "\n",
    "# применил функцию create_clusters() к каждой строке датафрейма\n",
    "df_coffee.apply(create_clusters, axis=1)\n",
    "\n",
    "# вывел карту\n",
    "m"
   ]
  },
  {
   "cell_type": "markdown",
   "id": "cd372409",
   "metadata": {},
   "source": [
    "Наибольшее количество кофеен расположено в Центральном административном округе. Наименьшее сосредоточено в Северо - Западном, Юго-Западном и Юго-Восточном административных округах. "
   ]
  },
  {
   "cell_type": "code",
   "execution_count": null,
   "id": "50da34a1",
   "metadata": {},
   "outputs": [],
   "source": [
    "# сделал срез данных к который вошли сетевые заведения категории кофейня\n",
    "df_net_coffee = df_coffee.loc[df_coffee['chain'] == 'Сетевое']"
   ]
  },
  {
   "cell_type": "code",
   "execution_count": null,
   "id": "6cb37f4d",
   "metadata": {},
   "outputs": [],
   "source": [
    "# создал таблицу с количеством объектав сетевых кофеен в разбивке по названиям\n",
    "df_net_coffee_grouped = df_net_coffee.groupby('name')['address'].count().reset_index()\n",
    "df_net_coffee_grouped.rename(columns={'address': 'count'}, inplace=True)\n",
    "df_net_coffee_grouped = df_net_coffee_grouped.query('count > 1')\n",
    "df_net_coffee_grouped = df_net_coffee_grouped.sort_values(by='count', ascending=False).reset_index(drop=True)\n",
    "df_net_coffee_grouped.head(5)"
   ]
  },
  {
   "cell_type": "code",
   "execution_count": null,
   "id": "996d0475",
   "metadata": {},
   "outputs": [],
   "source": [
    "print('Всего сетевых объектов категории кофейня в датафрейме представлено:', df_net_coffee_grouped['count'].sum())"
   ]
  },
  {
   "cell_type": "code",
   "execution_count": null,
   "id": "c9aff1b6",
   "metadata": {},
   "outputs": [],
   "source": [
    "# создал срез с полной информацией о сетевых кофейнях\n",
    "df_net_coffee_pivot = df_coffee.query('name in @df_net_coffee_grouped.name')"
   ]
  },
  {
   "cell_type": "code",
   "execution_count": null,
   "id": "91ea950c",
   "metadata": {},
   "outputs": [],
   "source": [
    "# построил таблицу количества сетевых кофеен в разных административных округах\n",
    "df_net_coffee_slice = df_net_coffee.pivot_table(index='district', values='name', aggfunc='count').reset_index()\n",
    "df_net_coffee_slice = df_net_coffee_slice.sort_values(by='name', ascending=False).reset_index(drop=True)"
   ]
  },
  {
   "cell_type": "code",
   "execution_count": null,
   "id": "d3b4789a",
   "metadata": {},
   "outputs": [],
   "source": [
    "# построил столбчатую диаграмму количества сетевых кофеен в разных административных округах\n",
    "plt.barh(y=df_net_coffee_slice['district'], width=df_net_coffee_slice['name'])\n",
    "plt.title('Количество сетевых кофеен в разных административных округах', fontsize=18)\n",
    "plt.xlabel('Количество объектов')\n",
    "plt.ylabel('Админисиративный округ')\n",
    "plt.show()"
   ]
  },
  {
   "cell_type": "code",
   "execution_count": null,
   "id": "478a2905",
   "metadata": {},
   "outputs": [],
   "source": [
    "# ввел пепеменные широты и долготы центра Москвы\n",
    "moscow_lat, moscow_lng = 55.751244, 37.618423\n",
    "\n",
    "# вывел карту Москвы\n",
    "m = Map(location=[moscow_lat, moscow_lng], zoom_start=10)\n",
    "# создал пустой кластер, добавил его на карту\n",
    "marker_cluster = MarkerCluster().add_to(m)\n",
    "\n",
    "# прописал функцию, которая принимает строку датафрейма,\n",
    "# создаёт маркер в текущей точке и добавляет его в кластер marker_cluster\n",
    "def create_clusters(row):\n",
    "    Marker(\n",
    "        [row['lat'], row['lng']],\n",
    "        popup=f\"{row['name']}\",\n",
    "    ).add_to(marker_cluster)\n",
    "\n",
    "# применил функцию create_clusters() к каждой строке датафрейма\n",
    "df_net_coffee_pivot.apply(create_clusters, axis=1)\n",
    "\n",
    "# вывел карту\n",
    "m"
   ]
  },
  {
   "cell_type": "markdown",
   "id": "ae3b965b",
   "metadata": {},
   "source": [
    "Наибольшее количество объектов категории сетевая кофейня представлены в Центральном административном округе. Наименьшее - в Юго-Восточном и Северо - Западном административных округах."
   ]
  },
  {
   "cell_type": "code",
   "execution_count": null,
   "id": "cd7dd0d3",
   "metadata": {},
   "outputs": [],
   "source": [
    "# сделал срез данных к который вошли несетевые заведения категории кофейня\n",
    "df_nonnet_coffee = df_coffee.loc[df_coffee['chain'] == 'Несетевое']"
   ]
  },
  {
   "cell_type": "code",
   "execution_count": null,
   "id": "1d453219",
   "metadata": {},
   "outputs": [],
   "source": [
    "# создал таблицу с количеством объектав несетевых кофеен в разбивке по названиям\n",
    "df_nonnet_coffee_grouped = df_nonnet_coffee.groupby('name')['address'].count().reset_index()\n",
    "df_nonnet_coffee_grouped.rename(columns={'address': 'count'}, inplace=True)\n",
    "df_nonnet_coffee_grouped = df_nonnet_coffee_grouped.query('count == 1')\n",
    "df_nonnet_coffee_grouped = df_nonnet_coffee_grouped.sort_values(by='count', ascending=False).reset_index(drop=True)\n",
    "df_nonnet_coffee_grouped.head(5)"
   ]
  },
  {
   "cell_type": "code",
   "execution_count": null,
   "id": "3b5fdcf9",
   "metadata": {},
   "outputs": [],
   "source": [
    "print('Всего несетевых объектов категории кофейня в датафрейме представлено:', df_nonnet_coffee_grouped['count'].sum())"
   ]
  },
  {
   "cell_type": "code",
   "execution_count": null,
   "id": "99abab11",
   "metadata": {},
   "outputs": [],
   "source": [
    "# создал срез с полной информацией о несетевых кофейнях\n",
    "df_nonnet_coffee_pivot = df_coffee.query('name in @df_nonnet_coffee_grouped.name')"
   ]
  },
  {
   "cell_type": "code",
   "execution_count": null,
   "id": "43fb3c3d",
   "metadata": {},
   "outputs": [],
   "source": [
    "# построил таблицу количества несетевых кофеен в разных административных округах\n",
    "df_nonnet_coffee_slice = df_nonnet_coffee.pivot_table(index='district', values='name', aggfunc='count').reset_index()\n",
    "df_nonnet_coffee_slice = df_nonnet_coffee_slice.sort_values(by='name', ascending=False).reset_index(drop=True)"
   ]
  },
  {
   "cell_type": "code",
   "execution_count": null,
   "id": "de1f430a",
   "metadata": {},
   "outputs": [],
   "source": [
    "# построил столбчатую диаграмму количества сетевых кофеен в разных административных округах\n",
    "plt.barh(y=df_nonnet_coffee_slice['district'], width=df_nonnet_coffee_slice['name'])\n",
    "plt.title('Количество несетевых кофеен в разных административных округах', fontsize=18)\n",
    "plt.xlabel('Количество объектов')\n",
    "plt.ylabel('Админисиративный округ')\n",
    "plt.show()"
   ]
  },
  {
   "cell_type": "code",
   "execution_count": null,
   "id": "d7b9cf94",
   "metadata": {},
   "outputs": [],
   "source": [
    "# ввел пепеменные широты и долготы центра Москвы\n",
    "moscow_lat, moscow_lng = 55.751244, 37.618423\n",
    "\n",
    "# вывел карту Москвы\n",
    "m = Map(location=[moscow_lat, moscow_lng], zoom_start=10)\n",
    "# создал пустой кластер, добавил его на карту\n",
    "marker_cluster = MarkerCluster().add_to(m)\n",
    "\n",
    "# прописал функцию, которая принимает строку датафрейма,\n",
    "# создаёт маркер в текущей точке и добавляет его в кластер marker_cluster\n",
    "def create_clusters(row):\n",
    "    Marker(\n",
    "        [row['lat'], row['lng']],\n",
    "        popup=f\"{row['name']}\",\n",
    "    ).add_to(marker_cluster)\n",
    "\n",
    "# применил функцию create_clusters() к каждой строке датафрейма\n",
    "df_nonnet_coffee_pivot.apply(create_clusters, axis=1)\n",
    "\n",
    "# вывел карту\n",
    "m"
   ]
  },
  {
   "cell_type": "markdown",
   "id": "90408890",
   "metadata": {},
   "source": [
    "Большее количество несетевых кофеен сосредоточено в Центральном административном округе. Наименьшее расположено в Северо- Западном  и Юго-Западном административных округах."
   ]
  },
  {
   "cell_type": "markdown",
   "id": "3804b76e",
   "metadata": {},
   "source": [
    "#### 4.2 Оценка рынка круглосуточных кофеен"
   ]
  },
  {
   "cell_type": "code",
   "execution_count": null,
   "id": "e1814732",
   "metadata": {},
   "outputs": [],
   "source": [
    "# создал таблицу с количеством кофеев в разбивке на график работы\n",
    "df_time_group = df_coffee.groupby('is_24/7')['address'].count().reset_index()\n",
    "df_time_group"
   ]
  },
  {
   "cell_type": "markdown",
   "id": "add3a292",
   "metadata": {},
   "source": [
    "Количество некруглосуточных кофеен в датасете 1354 объекта, круглосуточных - 59 объектов."
   ]
  },
  {
   "cell_type": "code",
   "execution_count": null,
   "id": "03f28062",
   "metadata": {},
   "outputs": [],
   "source": [
    "# сделал срез данных в который вошли кофейни, не работающие ежедневно, круглосуточно\n",
    "df_nonfull_time = df_coffee.loc[df_coffee['is_24/7'] == False]"
   ]
  },
  {
   "cell_type": "code",
   "execution_count": null,
   "id": "e9c57532",
   "metadata": {},
   "outputs": [],
   "source": [
    "# ввел пепеменные широты и долготы центра Москвы\n",
    "moscow_lat, moscow_lng = 55.751244, 37.618423\n",
    "\n",
    "# вывел карту Москвы\n",
    "m = Map(location=[moscow_lat, moscow_lng], zoom_start=10)\n",
    "# создал пустой кластер, добавил его на карту\n",
    "marker_cluster = MarkerCluster().add_to(m)\n",
    "\n",
    "# прописал функцию, которая принимает строку датафрейма,\n",
    "# создаёт маркер в текущей точке и добавляет его в кластер marker_cluster\n",
    "def create_clusters(row):\n",
    "    Marker(\n",
    "        [row['lat'], row['lng']],\n",
    "        popup=f\"{row['name']}\",\n",
    "    ).add_to(marker_cluster)\n",
    "\n",
    "# применил функцию create_clusters() к каждой строке датафрейма\n",
    "df_nonfull_time.apply(create_clusters, axis=1)\n",
    "\n",
    "# вывел карту\n",
    "m"
   ]
  },
  {
   "cell_type": "markdown",
   "id": "7d0b5d87",
   "metadata": {},
   "source": [
    "Наиболешее количество некруглосуточных кофеен расположено в Центральном, Северном и Северо-Восточном административных округах. Наименьшее - в Южном и Юго-Восточном административных округах."
   ]
  },
  {
   "cell_type": "code",
   "execution_count": null,
   "id": "b1c95efb",
   "metadata": {},
   "outputs": [],
   "source": [
    "# сделал срез данных в который вошли кофейни, работающие ежедневно, круглосуточно\n",
    "df_full_time = df_coffee.loc[df_coffee['is_24/7'] == True]"
   ]
  },
  {
   "cell_type": "code",
   "execution_count": null,
   "id": "ee2ee9e6",
   "metadata": {},
   "outputs": [],
   "source": [
    "# ввел пепеменные широты и долготы центра Москвы\n",
    "moscow_lat, moscow_lng = 55.751244, 37.618423\n",
    "\n",
    "# вывел карту Москвы\n",
    "m = Map(location=[moscow_lat, moscow_lng], zoom_start=10)\n",
    "# создал пустой кластер, добавил его на карту\n",
    "marker_cluster = MarkerCluster().add_to(m)\n",
    "\n",
    "# прописал функцию, которая принимает строку датафрейма,\n",
    "# создаёт маркер в текущей точке и добавляет его в кластер marker_cluster\n",
    "def create_clusters(row):\n",
    "    Marker(\n",
    "        [row['lat'], row['lng']],\n",
    "        popup=f\"{row['name']}\",\n",
    "    ).add_to(marker_cluster)\n",
    "\n",
    "# применил функцию create_clusters() к каждой строке датафрейма\n",
    "df_full_time.apply(create_clusters, axis=1)\n",
    "\n",
    "# вывел карту\n",
    "m"
   ]
  },
  {
   "cell_type": "markdown",
   "id": "37e374bc",
   "metadata": {},
   "source": [
    "Самое большое количество круглосуточных кофеен расположено в центре. В других административных округах объектов данной категории - единицы."
   ]
  },
  {
   "cell_type": "code",
   "execution_count": null,
   "id": "cccad249",
   "metadata": {},
   "outputs": [],
   "source": [
    "# отдельно оценил круглосуточные сетевые кофейни\n",
    "df_full_time_net = df_full_time.loc[df_full_time['chain'] == 'Сетевое']"
   ]
  },
  {
   "cell_type": "code",
   "execution_count": null,
   "id": "0808c71d",
   "metadata": {},
   "outputs": [],
   "source": [
    "# ввел пепеменные широты и долготы центра Москвы\n",
    "moscow_lat, moscow_lng = 55.751244, 37.618423\n",
    "\n",
    "# вывел карту Москвы\n",
    "m = Map(location=[moscow_lat, moscow_lng], zoom_start=10)\n",
    "# создал пустой кластер, добавил его на карту\n",
    "marker_cluster = MarkerCluster().add_to(m)\n",
    "\n",
    "# прописал функцию, которая принимает строку датафрейма,\n",
    "# создаёт маркер в текущей точке и добавляет его в кластер marker_cluster\n",
    "def create_clusters(row):\n",
    "    Marker(\n",
    "        [row['lat'], row['lng']],\n",
    "        popup=f\"{row['name']}\",\n",
    "    ).add_to(marker_cluster)\n",
    "\n",
    "# применил функцию create_clusters() к каждой строке датафрейма\n",
    "df_full_time_net.apply(create_clusters, axis=1)\n",
    "\n",
    "# вывел карту\n",
    "m"
   ]
  },
  {
   "cell_type": "code",
   "execution_count": null,
   "id": "b205829b",
   "metadata": {},
   "outputs": [],
   "source": [
    "# построил таблицу количества несетевых кофеен в разных административных округах\n",
    "df_nonnet_coffee_pivot = df_nonnet_coffee.pivot_table(index='district', values='name', aggfunc='count').reset_index()\n",
    "df_nonnet_coffee_pivot = df_nonnet_coffee_pivot.sort_values(by='name', ascending=False).reset_index(drop=True) "
   ]
  },
  {
   "cell_type": "code",
   "execution_count": null,
   "id": "4cbbbbbd",
   "metadata": {},
   "outputs": [],
   "source": [
    "# построил столбчатую диаграмму количества сетевых кофеен в разных административных округах\n",
    "plt.barh(y=df_nonnet_coffee_pivot['district'], width=df_nonnet_coffee_pivot['name'])\n",
    "plt.title('Количество несетевых кофеен в разных административных округах', fontsize=18)\n",
    "plt.xlabel('Количество объектов')\n",
    "plt.ylabel('Админисиративный округ')\n",
    "plt.show()"
   ]
  },
  {
   "cell_type": "markdown",
   "id": "08cfb6da",
   "metadata": {},
   "source": [
    "#### 4.3 Оценка рейтингов кофеен. Оценка их распределения по административным округам"
   ]
  },
  {
   "cell_type": "code",
   "execution_count": null,
   "id": "8eb16b0d",
   "metadata": {},
   "outputs": [],
   "source": [
    "# построил таблицу среднего чека в заведениях разных административных округов\n",
    "avg_rating_coffee = df_coffee.pivot_table(index='district', values='rating', aggfunc='median').reset_index()\n",
    "avg_rating_coffee.sort_values(by='rating', ascending=False).reset_index(drop=True) "
   ]
  },
  {
   "cell_type": "markdown",
   "id": "bc5cb9aa",
   "metadata": {},
   "source": [
    "Среди всех заведений категории кофейня, представленных в датасете преобладает средний рейтинг 4,3. Средний рейтинг ниже тольно в Западном административном округе, он составляет 4,2."
   ]
  },
  {
   "cell_type": "code",
   "execution_count": null,
   "id": "aba84779",
   "metadata": {},
   "outputs": [],
   "source": [
    "# построил таблицу среднего чека в заведениях разных административных округов\n",
    "avg_rating_netcoffee = df_net_coffee.pivot_table(index='district', values='rating', aggfunc='median').reset_index()\n",
    "avg_rating_netcoffee.sort_values(by='rating', ascending=False).reset_index(drop=True) "
   ]
  },
  {
   "cell_type": "markdown",
   "id": "9000b5e7",
   "metadata": {},
   "source": [
    "Среди сетевых кофеен самый высокий рейтинг в Центральном административном округе, он составляет 4,3. В остальных административных округах рейтинг составляет 4,2."
   ]
  },
  {
   "cell_type": "code",
   "execution_count": null,
   "id": "2448becd",
   "metadata": {},
   "outputs": [],
   "source": [
    "# построил таблицу среднего чека в заведениях разных административных округов\n",
    "avg_rating_nonnetcoffee = df_nonnet_coffee.pivot_table(index='district', values='rating', aggfunc='median').reset_index()\n",
    "avg_rating_nonnetcoffee.sort_values(by='rating', ascending=False).reset_index(drop=True) "
   ]
  },
  {
   "cell_type": "markdown",
   "id": "8b5c03fc",
   "metadata": {},
   "source": [
    "Самый высокий рейтинг несетевых кофеен с Северо-Западном административном округе он составляет 4,45. Самый низкий в соседнем с нима Западном административном округе. Он составляет 4,3."
   ]
  },
  {
   "cell_type": "markdown",
   "id": "5f9e8aab",
   "metadata": {},
   "source": [
    "#### 4.4 Оценка средней стоимости чашки капучино?"
   ]
  },
  {
   "cell_type": "code",
   "execution_count": null,
   "id": "152ec26b",
   "metadata": {},
   "outputs": [],
   "source": [
    "# построил таблицу среднего чека в заведениях разных административных округов\n",
    "middle_coffee_cup_pivot = df_coffee.pivot_table(index='district', values='middle_coffee_cup', aggfunc='median').reset_index()\n",
    "middle_coffee_cup_pivot.sort_values(by='middle_coffee_cup', ascending=False).reset_index(drop=True) "
   ]
  },
  {
   "cell_type": "code",
   "execution_count": null,
   "id": "b210cb1e",
   "metadata": {},
   "outputs": [],
   "source": [
    "state_geo = 'https://code.s3.yandex.net/data-analyst/admin_level_geomap.geojson'\n",
    "# ввел пепеменные широты и долготы центра Москвы\n",
    "moscow_lat, moscow_lng = 55.751244, 37.618423\n",
    "\n",
    "# вывел карту Москвы\n",
    "m = folium.Map(location=[moscow_lat, moscow_lng], zoom_start=10)\n",
    "\n",
    "# создал хороплет и добавил его на карту\n",
    "folium.Choropleth(\n",
    "    geo_data=state_geo,\n",
    "    name='choropleth',\n",
    "    data=middle_coffee_cup_pivot,\n",
    "    columns=['district', 'middle_coffee_cup'],\n",
    "    key_on='feature.name',\n",
    "    fill_color='Reds',\n",
    "    fill_opacity=0.5,\n",
    "    line_opacity=0.5,\n",
    "    legend_name='Средний счёт заведений',\n",
    ").add_to(m)\n",
    "\n",
    "# вывел карту\n",
    "m"
   ]
  },
  {
   "cell_type": "markdown",
   "id": "465a49fd",
   "metadata": {},
   "source": [
    "Самая высокая средняя стоимость чашки капучино в Юго-Западном административном округе, она составляет 198 рублей.  Также высокая средняя цена наблюдается в Центральном административном округе 190 рублей и Западном административном округе 189 рублей. Самая низкая средняя стоимость чашки капучино в Восточном административном округе. Она составляет 135 рублей."
   ]
  },
  {
   "cell_type": "code",
   "execution_count": null,
   "id": "ff2d8d91",
   "metadata": {},
   "outputs": [],
   "source": [
    "# построил таблицу среднего чека в заведениях разных административных округов\n",
    "middle_net_cup_pivot = df_net_coffee.pivot_table(index='district', values='middle_coffee_cup', aggfunc='median').reset_index()\n",
    "middle_net_cup_pivot.sort_values(by='middle_coffee_cup', ascending=False).reset_index(drop=True) "
   ]
  },
  {
   "cell_type": "code",
   "execution_count": null,
   "id": "6cde5ab7",
   "metadata": {},
   "outputs": [],
   "source": [
    "state_geo = 'https://code.s3.yandex.net/data-analyst/admin_level_geomap.geojson'\n",
    "# ввел пепеменные широты и долготы центра Москвы\n",
    "moscow_lat, moscow_lng = 55.751244, 37.618423\n",
    "\n",
    "# вывел карту Москвы\n",
    "m = folium.Map(location=[moscow_lat, moscow_lng], zoom_start=10)\n",
    "\n",
    "# создал хороплет и добавил его на карту\n",
    "folium.Choropleth(\n",
    "    geo_data=state_geo,\n",
    "    name='choropleth',\n",
    "    data=middle_net_cup_pivot,\n",
    "    columns=['district', 'middle_coffee_cup'],\n",
    "    key_on='feature.name',\n",
    "    fill_color='Reds',\n",
    "    fill_opacity=0.5,\n",
    "    line_opacity=0.5,\n",
    "    legend_name='Средний счёт заведений',\n",
    ").add_to(m)\n",
    "\n",
    "# вывел карту\n",
    "m"
   ]
  },
  {
   "cell_type": "markdown",
   "id": "d04b7b58",
   "metadata": {},
   "source": [
    "Среди сетевых заведений самая высокая средняя стоимость чашки капучино наблюдается в Западном административном округе, она составляет 222,5 рубля. Самая низкая средняя цена среди сетевых кофеен наблюдается в Южном административном округе. Она составляет 109,5 рублей."
   ]
  },
  {
   "cell_type": "code",
   "execution_count": null,
   "id": "190b213d",
   "metadata": {},
   "outputs": [],
   "source": [
    "# построил таблицу среднего чека в заведениях разных административных округов\n",
    "middle_nonnet_cup_pivot = df_nonnet_coffee.pivot_table(index='district', values='middle_coffee_cup', aggfunc='median').reset_index()\n",
    "middle_nonnet_cup_pivot.sort_values(by='middle_coffee_cup', ascending=False).reset_index(drop=True) "
   ]
  },
  {
   "cell_type": "code",
   "execution_count": null,
   "id": "07b57166",
   "metadata": {},
   "outputs": [],
   "source": [
    "state_geo = 'https://code.s3.yandex.net/data-analyst/admin_level_geomap.geojson'\n",
    "# ввел пепеменные широты и долготы центра Москвы\n",
    "moscow_lat, moscow_lng = 55.751244, 37.618423\n",
    "\n",
    "# вывел карту Москвы\n",
    "m = folium.Map(location=[moscow_lat, moscow_lng], zoom_start=10)\n",
    "\n",
    "# создал хороплет и добавил его на карту\n",
    "folium.Choropleth(\n",
    "    geo_data=state_geo,\n",
    "    name='choropleth',\n",
    "    data=middle_nonnet_cup_pivot,\n",
    "    columns=['district', 'middle_coffee_cup'],\n",
    "    key_on='feature.name',\n",
    "    fill_color='Reds',\n",
    "    fill_opacity=0.5,\n",
    "    line_opacity=0.5,\n",
    "    legend_name='Средний счёт заведений',\n",
    ").add_to(m)\n",
    "\n",
    "# вывел карту\n",
    "m"
   ]
  },
  {
   "cell_type": "markdown",
   "id": "b7662522",
   "metadata": {},
   "source": [
    "Среди несетевых кофеен самая высокая средняя цена наблюдается в Центральном административном округе. Она составляет 195 рублей. Самая низкая средняя цена чашки капучино среди несетевых заведений в Восточном административном окруне. Она составляет 135 рублей."
   ]
  },
  {
   "cell_type": "markdown",
   "id": "a1025158",
   "metadata": {},
   "source": [
    "#### 4.5 Оценка количества посадочных мест в кофейнях"
   ]
  },
  {
   "cell_type": "code",
   "execution_count": null,
   "id": "c9f494d9",
   "metadata": {},
   "outputs": [],
   "source": [
    "df_coffee['seats'].describe()"
   ]
  },
  {
   "cell_type": "markdown",
   "id": "7c3c79de",
   "metadata": {},
   "source": [
    "#### Вывод: "
   ]
  },
  {
   "cell_type": "markdown",
   "id": "191520dd",
   "metadata": {},
   "source": [
    "* Всего датасете представлено 1413 кофейни. Наибольшее количество кофеен расположено в Центральном административном округе. Наименьшее сосредоточено в Северо - Западном, Юго-Западном и Юго-Восточном административных округах. Всего сетевых объектов категории кофейня представлено: 663 из них наибольшее количество расположено в Центральном административном округе, наименьшее - в Юго-Восточном и Северо - Западном административных округах. Всего несетевых объектов категории кофейня представлено: 678. Большее количество несетевых кофеен сосредоточено в Центральном административном округе. Наименьшее расположено в Северо- Западном и Юго-Западном административных округах.\n",
    "\n",
    "* Количество некруглосуточных кофеен в датасете 1354 объекта, круглосуточных - 59 объектов. Наиболешее количество некруглосуточных кофеен расположено в Центральном, Северном и Северо-Восточном административных округах. Наименьшее - в Южном и Юго-Восточном административных округах. Самое большое количество круглосуточных кофеен расположено в центре. В других административных округах объектов данной категории - единицы.\n",
    "\n",
    "* Среди всех заведений категории кофейня, представленных в датасете преобладает средний рейтинг 4,3. Средний рейтинг ниже тольно в Западном административном округе, он составляет 4,2. Среди сетевых кофеен самый высокий рейтинг в Центральном административном округе, он составляет 4,3. В остальных административных округах рейтинг составляет 4,2. Самый высокий рейтинг несетевых кофеен с Северо-Западном административном округе он составляет 4,45. Самый низкий в соседнем с нима Западном административном округе. Он составляет 4,3. \n",
    "\n",
    "* Самая высокая средняя стоимость чашки капучино в Юго-Западном административном округе, она составляет 198 рублей. Также высокая средняя цена наблюдается в Центральном административном округе 190 рублей и Западном административном округе 189 рублей. Самая низкая средняя стоимость чашки капучино в Восточном административном округе. Она составляет 135 рублей. Среди сетевых заведений самая высокая средняя стоимость чашки капучино наблюдается в Западном административном округе, она составляет 222,5 рубля. Самая низкая средняя цена среди сетевых кофеен наблюдается в Южном административном округе. Она составляет 109,5 рублей. Среди несетевых кофеен самая высокая средняя цена наблюдается в Центральном административном округе. Она составляет 195 рублей. Самая низкая средняя цена чашки капучино среди несетевых заведений в Восточном административном окруне. Она составляет 135 рублей."
   ]
  },
  {
   "cell_type": "markdown",
   "id": "fe78614f",
   "metadata": {},
   "source": [
    "## Шаг 5. Рекомендации по открытию кофейни."
   ]
  },
  {
   "cell_type": "markdown",
   "id": "95cfbfcb",
   "metadata": {},
   "source": [
    "#### Расположение. \n",
    "В Юго-Западном адиминистративном округе большое количество различных объектов общественного питания, в то время как небольщое количество кофеен. Это может помочь обеспечить большую проходимость и избежать повышенной конкуренции"
   ]
  },
  {
   "cell_type": "code",
   "execution_count": null,
   "id": "c74a0027",
   "metadata": {},
   "outputs": [],
   "source": [
    "fig = px.bar(adm_distr_pivot, \n",
    "             x='procent', \n",
    "             y='district', \n",
    "             color='category', \n",
    "             title='Распределение заведений по административным округам', \n",
    "             text='procent')\n",
    "fig.update_layout(\n",
    "    yaxis_title=\"Административный округ\",\n",
    "    xaxis_title='%',\n",
    "    yaxis = dict(\n",
    "        tickmode='array',\n",
    "        tickvals=adm_distr_pivot['district'],\n",
    "        ticktext=adm_distr_pivot['district'],\n",
    "          ),\n",
    "    legend_title='Категория заведений',\n",
    "    autosize=False,\n",
    "    width=1000,\n",
    "    height=500\n",
    ")\n",
    "    \n",
    "fig.show()"
   ]
  },
  {
   "cell_type": "code",
   "execution_count": null,
   "id": "a1764a3c",
   "metadata": {},
   "outputs": [],
   "source": [
    "# построил столбчатую диаграмму количества кофеен в разных административных округах\n",
    "plt.barh(y=df_coffee_pivot['district'], width=df_coffee_pivot['name'])\n",
    "plt.title('Количество кофеен в разных административных округах', fontsize=18)\n",
    "plt.xlabel('Количество объектов')\n",
    "plt.ylabel('Админисиративный округ')\n",
    "plt.show()"
   ]
  },
  {
   "cell_type": "markdown",
   "id": "0c7c6204",
   "metadata": {},
   "source": [
    "#### Цена чашки капучино.\n",
    "В Юго-Западном административном округе наблюдается высокая средняя цена чашки капучино. С целью привлечения посетителей можно установить цену ниже средней по дпнному административному округу. "
   ]
  },
  {
   "cell_type": "code",
   "execution_count": null,
   "id": "dd0c4e27",
   "metadata": {},
   "outputs": [],
   "source": [
    "state_geo = 'https://code.s3.yandex.net/data-analyst/admin_level_geomap.geojson'\n",
    "# ввел пепеменные широты и долготы центра Москвы\n",
    "moscow_lat, moscow_lng = 55.751244, 37.618423\n",
    "\n",
    "# вывел карту Москвы\n",
    "m = folium.Map(location=[moscow_lat, moscow_lng], zoom_start=10)\n",
    "\n",
    "# создал хороплет и добавил его на карту\n",
    "folium.Choropleth(\n",
    "    geo_data=state_geo,\n",
    "    name='choropleth',\n",
    "    data=middle_coffee_cup_pivot,\n",
    "    columns=['district', 'middle_coffee_cup'],\n",
    "    key_on='feature.name',\n",
    "    fill_color='Reds',\n",
    "    fill_opacity=0.5,\n",
    "    line_opacity=0.5,\n",
    "    legend_name='Средний цена чашки капучино',\n",
    ").add_to(m)\n",
    "\n",
    "# вывел карту\n",
    "m"
   ]
  },
  {
   "cell_type": "markdown",
   "id": "7919ced9",
   "metadata": {},
   "source": [
    "#### График работы\n",
    "Кофе редко пьют по ночам. Кофеен с круглосуточным ежедневным графиком работы в москве единицы. Видимо, в круглосуточном режиме работы у данной категории заведений нет финансовой выгоды. В связи с этим не рекомендовано открывать кофейню с круглосуточным режимом работы"
   ]
  },
  {
   "cell_type": "code",
   "execution_count": null,
   "id": "d5fe6f3c",
   "metadata": {},
   "outputs": [],
   "source": [
    "# ввел пепеменные широты и долготы центра Москвы\n",
    "moscow_lat, moscow_lng = 55.751244, 37.618423\n",
    "\n",
    "# вывел карту Москвы\n",
    "m = Map(location=[moscow_lat, moscow_lng], zoom_start=10)\n",
    "# создал пустой кластер, добавил его на карту\n",
    "marker_cluster = MarkerCluster().add_to(m)\n",
    "\n",
    "# прописал функцию, которая принимает строку датафрейма,\n",
    "# создаёт маркер в текущей точке и добавляет его в кластер marker_cluster\n",
    "def create_clusters(row):\n",
    "    Marker(\n",
    "        [row['lat'], row['lng']],\n",
    "        popup=f\"{row['name']}\",\n",
    "    ).add_to(marker_cluster)\n",
    "\n",
    "# применил функцию create_clusters() к каждой строке датафрейма\n",
    "df_full_time.apply(create_clusters, axis=1)\n",
    "\n",
    "# вывел карту\n",
    "m"
   ]
  },
  {
   "cell_type": "markdown",
   "id": "619114fa",
   "metadata": {},
   "source": [
    "#### Количество посадочных мест\n",
    "Для открытия первого объекта не рекомендовано чтобы количество посадоных мест превышало медианное значение количества посадочных мест данной категории по Москве. В категории кофейня медианное значение 80 мест. Рекомендовано открыть объект с количеством посадочных мест от 50 до 80."
   ]
  },
  {
   "cell_type": "code",
   "execution_count": null,
   "id": "56994194",
   "metadata": {},
   "outputs": [],
   "source": [
    "df_coffee['seats'].describe()"
   ]
  },
  {
   "cell_type": "code",
   "execution_count": null,
   "id": "a498af4f",
   "metadata": {},
   "outputs": [],
   "source": [
    "df_coffee['seats'].median()"
   ]
  },
  {
   "cell_type": "code",
   "execution_count": null,
   "id": "e082ad17",
   "metadata": {},
   "outputs": [],
   "source": [
    "# построил диаграмму ящик с усами по выполненному срезу \n",
    "sns.set_style(\"whitegrid\")\n",
    "ax = df.boxplot(by ='category', column =['seats'], grid = True, figsize=(15,5))\n",
    "ax.set_ylim([0, 400]);"
   ]
  },
  {
   "cell_type": "markdown",
   "id": "7d40fbba",
   "metadata": {},
   "source": [
    "## Ссылка на презентацию\n",
    "https://drive.google.com/file/d/1JmY11hHTifXyv91VHjZ71n1uAuih-7c8/view?usp=sharing"
   ]
  },
  {
   "cell_type": "code",
   "execution_count": null,
   "id": "e9a41d74",
   "metadata": {},
   "outputs": [],
   "source": []
  }
 ],
 "metadata": {
  "ExecuteTimeLog": [
   {
    "duration": 1519,
    "start_time": "2023-03-30T14:48:55.720Z"
   },
   {
    "duration": 4,
    "start_time": "2023-03-30T14:48:57.242Z"
   },
   {
    "duration": 28,
    "start_time": "2023-03-30T14:48:57.248Z"
   },
   {
    "duration": 222,
    "start_time": "2023-03-30T14:48:57.279Z"
   },
   {
    "duration": 0,
    "start_time": "2023-03-30T14:48:57.506Z"
   },
   {
    "duration": 0,
    "start_time": "2023-03-30T14:48:57.507Z"
   },
   {
    "duration": 0,
    "start_time": "2023-03-30T14:48:57.509Z"
   },
   {
    "duration": 0,
    "start_time": "2023-03-30T14:48:57.510Z"
   },
   {
    "duration": 0,
    "start_time": "2023-03-30T14:48:57.511Z"
   },
   {
    "duration": 0,
    "start_time": "2023-03-30T14:48:57.511Z"
   },
   {
    "duration": 0,
    "start_time": "2023-03-30T14:48:57.512Z"
   },
   {
    "duration": 0,
    "start_time": "2023-03-30T14:48:57.513Z"
   },
   {
    "duration": 0,
    "start_time": "2023-03-30T14:48:57.515Z"
   },
   {
    "duration": 0,
    "start_time": "2023-03-30T14:48:57.516Z"
   },
   {
    "duration": 0,
    "start_time": "2023-03-30T14:48:57.517Z"
   },
   {
    "duration": 0,
    "start_time": "2023-03-30T14:48:57.519Z"
   },
   {
    "duration": 0,
    "start_time": "2023-03-30T14:48:57.520Z"
   },
   {
    "duration": 0,
    "start_time": "2023-03-30T14:48:57.522Z"
   },
   {
    "duration": 0,
    "start_time": "2023-03-30T14:48:57.523Z"
   },
   {
    "duration": 0,
    "start_time": "2023-03-30T14:48:57.524Z"
   },
   {
    "duration": 0,
    "start_time": "2023-03-30T14:48:57.526Z"
   },
   {
    "duration": 0,
    "start_time": "2023-03-30T14:48:57.527Z"
   },
   {
    "duration": 0,
    "start_time": "2023-03-30T14:48:57.528Z"
   },
   {
    "duration": 0,
    "start_time": "2023-03-30T14:48:57.530Z"
   },
   {
    "duration": 0,
    "start_time": "2023-03-30T14:48:57.531Z"
   },
   {
    "duration": 0,
    "start_time": "2023-03-30T14:48:57.533Z"
   },
   {
    "duration": 0,
    "start_time": "2023-03-30T14:48:57.534Z"
   },
   {
    "duration": 0,
    "start_time": "2023-03-30T14:48:57.535Z"
   },
   {
    "duration": 0,
    "start_time": "2023-03-30T14:48:57.536Z"
   },
   {
    "duration": 0,
    "start_time": "2023-03-30T14:48:57.583Z"
   },
   {
    "duration": 0,
    "start_time": "2023-03-30T14:48:57.584Z"
   },
   {
    "duration": 0,
    "start_time": "2023-03-30T14:48:57.586Z"
   },
   {
    "duration": 0,
    "start_time": "2023-03-30T14:48:57.587Z"
   },
   {
    "duration": 1,
    "start_time": "2023-03-30T14:48:57.588Z"
   },
   {
    "duration": 0,
    "start_time": "2023-03-30T14:48:57.590Z"
   },
   {
    "duration": 0,
    "start_time": "2023-03-30T14:48:57.591Z"
   },
   {
    "duration": 0,
    "start_time": "2023-03-30T14:48:57.593Z"
   },
   {
    "duration": 0,
    "start_time": "2023-03-30T14:48:57.594Z"
   },
   {
    "duration": 0,
    "start_time": "2023-03-30T14:48:57.596Z"
   },
   {
    "duration": 0,
    "start_time": "2023-03-30T14:48:57.597Z"
   },
   {
    "duration": 0,
    "start_time": "2023-03-30T14:48:57.599Z"
   },
   {
    "duration": 0,
    "start_time": "2023-03-30T14:48:57.600Z"
   },
   {
    "duration": 0,
    "start_time": "2023-03-30T14:48:57.602Z"
   },
   {
    "duration": 0,
    "start_time": "2023-03-30T14:48:57.604Z"
   },
   {
    "duration": 1,
    "start_time": "2023-03-30T14:48:57.605Z"
   },
   {
    "duration": 0,
    "start_time": "2023-03-30T14:48:57.607Z"
   },
   {
    "duration": 0,
    "start_time": "2023-03-30T14:48:57.609Z"
   },
   {
    "duration": 0,
    "start_time": "2023-03-30T14:48:57.610Z"
   },
   {
    "duration": 0,
    "start_time": "2023-03-30T14:48:57.611Z"
   },
   {
    "duration": 0,
    "start_time": "2023-03-30T14:48:57.613Z"
   },
   {
    "duration": 0,
    "start_time": "2023-03-30T14:48:57.614Z"
   },
   {
    "duration": 0,
    "start_time": "2023-03-30T14:48:57.616Z"
   },
   {
    "duration": 0,
    "start_time": "2023-03-30T14:48:57.616Z"
   },
   {
    "duration": 0,
    "start_time": "2023-03-30T14:48:57.617Z"
   },
   {
    "duration": 0,
    "start_time": "2023-03-30T14:48:57.618Z"
   },
   {
    "duration": 0,
    "start_time": "2023-03-30T14:48:57.619Z"
   },
   {
    "duration": 0,
    "start_time": "2023-03-30T14:48:57.620Z"
   },
   {
    "duration": 0,
    "start_time": "2023-03-30T14:48:57.621Z"
   },
   {
    "duration": 0,
    "start_time": "2023-03-30T14:48:57.622Z"
   },
   {
    "duration": 0,
    "start_time": "2023-03-30T14:48:57.683Z"
   },
   {
    "duration": 0,
    "start_time": "2023-03-30T14:48:57.685Z"
   },
   {
    "duration": 0,
    "start_time": "2023-03-30T14:48:57.687Z"
   },
   {
    "duration": 0,
    "start_time": "2023-03-30T14:48:57.689Z"
   },
   {
    "duration": 0,
    "start_time": "2023-03-30T14:48:57.690Z"
   },
   {
    "duration": 0,
    "start_time": "2023-03-30T14:48:57.692Z"
   },
   {
    "duration": 0,
    "start_time": "2023-03-30T14:48:57.693Z"
   },
   {
    "duration": 0,
    "start_time": "2023-03-30T14:48:57.694Z"
   },
   {
    "duration": 0,
    "start_time": "2023-03-30T14:48:57.695Z"
   },
   {
    "duration": 0,
    "start_time": "2023-03-30T14:48:57.696Z"
   },
   {
    "duration": 0,
    "start_time": "2023-03-30T14:48:57.697Z"
   },
   {
    "duration": 0,
    "start_time": "2023-03-30T14:48:57.698Z"
   },
   {
    "duration": 0,
    "start_time": "2023-03-30T14:48:57.700Z"
   },
   {
    "duration": 0,
    "start_time": "2023-03-30T14:48:57.701Z"
   },
   {
    "duration": 0,
    "start_time": "2023-03-30T14:48:57.703Z"
   },
   {
    "duration": 0,
    "start_time": "2023-03-30T14:48:57.704Z"
   },
   {
    "duration": 0,
    "start_time": "2023-03-30T14:48:57.705Z"
   },
   {
    "duration": 0,
    "start_time": "2023-03-30T14:48:57.706Z"
   },
   {
    "duration": 0,
    "start_time": "2023-03-30T14:48:57.707Z"
   },
   {
    "duration": 0,
    "start_time": "2023-03-30T14:48:57.709Z"
   },
   {
    "duration": 0,
    "start_time": "2023-03-30T14:48:57.710Z"
   },
   {
    "duration": 0,
    "start_time": "2023-03-30T14:48:57.712Z"
   },
   {
    "duration": 0,
    "start_time": "2023-03-30T14:48:57.713Z"
   },
   {
    "duration": 0,
    "start_time": "2023-03-30T14:48:57.713Z"
   },
   {
    "duration": 0,
    "start_time": "2023-03-30T14:48:57.714Z"
   },
   {
    "duration": 1,
    "start_time": "2023-03-30T14:48:57.715Z"
   },
   {
    "duration": 0,
    "start_time": "2023-03-30T14:48:57.716Z"
   },
   {
    "duration": 0,
    "start_time": "2023-03-30T14:48:57.717Z"
   },
   {
    "duration": 0,
    "start_time": "2023-03-30T14:48:57.718Z"
   },
   {
    "duration": 0,
    "start_time": "2023-03-30T14:48:57.719Z"
   },
   {
    "duration": 1,
    "start_time": "2023-03-30T14:48:57.720Z"
   },
   {
    "duration": 0,
    "start_time": "2023-03-30T14:48:57.784Z"
   },
   {
    "duration": 0,
    "start_time": "2023-03-30T14:48:57.785Z"
   },
   {
    "duration": 0,
    "start_time": "2023-03-30T14:48:57.786Z"
   },
   {
    "duration": 0,
    "start_time": "2023-03-30T14:48:57.787Z"
   },
   {
    "duration": 1,
    "start_time": "2023-03-30T14:48:57.788Z"
   },
   {
    "duration": 0,
    "start_time": "2023-03-30T14:48:57.790Z"
   },
   {
    "duration": 0,
    "start_time": "2023-03-30T14:48:57.791Z"
   },
   {
    "duration": 0,
    "start_time": "2023-03-30T14:48:57.792Z"
   },
   {
    "duration": 0,
    "start_time": "2023-03-30T14:48:57.794Z"
   },
   {
    "duration": 0,
    "start_time": "2023-03-30T14:48:57.795Z"
   },
   {
    "duration": 1781,
    "start_time": "2023-03-30T17:11:06.003Z"
   },
   {
    "duration": 2,
    "start_time": "2023-03-30T17:11:07.786Z"
   },
   {
    "duration": 13,
    "start_time": "2023-03-30T17:11:07.789Z"
   },
   {
    "duration": 7,
    "start_time": "2023-03-30T17:11:07.804Z"
   },
   {
    "duration": 146,
    "start_time": "2023-03-30T17:11:07.813Z"
   },
   {
    "duration": 0,
    "start_time": "2023-03-30T17:11:07.963Z"
   },
   {
    "duration": 0,
    "start_time": "2023-03-30T17:11:07.965Z"
   },
   {
    "duration": 0,
    "start_time": "2023-03-30T17:11:07.966Z"
   },
   {
    "duration": 0,
    "start_time": "2023-03-30T17:11:07.967Z"
   },
   {
    "duration": 0,
    "start_time": "2023-03-30T17:11:07.969Z"
   },
   {
    "duration": 0,
    "start_time": "2023-03-30T17:11:07.970Z"
   },
   {
    "duration": 0,
    "start_time": "2023-03-30T17:11:07.972Z"
   },
   {
    "duration": 0,
    "start_time": "2023-03-30T17:11:07.973Z"
   },
   {
    "duration": 0,
    "start_time": "2023-03-30T17:11:07.975Z"
   },
   {
    "duration": 0,
    "start_time": "2023-03-30T17:11:07.976Z"
   },
   {
    "duration": 0,
    "start_time": "2023-03-30T17:11:07.978Z"
   },
   {
    "duration": 0,
    "start_time": "2023-03-30T17:11:07.979Z"
   },
   {
    "duration": 0,
    "start_time": "2023-03-30T17:11:07.980Z"
   },
   {
    "duration": 0,
    "start_time": "2023-03-30T17:11:07.981Z"
   },
   {
    "duration": 0,
    "start_time": "2023-03-30T17:11:08.018Z"
   },
   {
    "duration": 0,
    "start_time": "2023-03-30T17:11:08.019Z"
   },
   {
    "duration": 0,
    "start_time": "2023-03-30T17:11:08.020Z"
   },
   {
    "duration": 0,
    "start_time": "2023-03-30T17:11:08.022Z"
   },
   {
    "duration": 0,
    "start_time": "2023-03-30T17:11:08.024Z"
   },
   {
    "duration": 0,
    "start_time": "2023-03-30T17:11:08.025Z"
   },
   {
    "duration": 0,
    "start_time": "2023-03-30T17:11:08.027Z"
   },
   {
    "duration": 0,
    "start_time": "2023-03-30T17:11:08.028Z"
   },
   {
    "duration": 0,
    "start_time": "2023-03-30T17:11:08.030Z"
   },
   {
    "duration": 0,
    "start_time": "2023-03-30T17:11:08.031Z"
   },
   {
    "duration": 0,
    "start_time": "2023-03-30T17:11:08.032Z"
   },
   {
    "duration": 0,
    "start_time": "2023-03-30T17:11:08.034Z"
   },
   {
    "duration": 0,
    "start_time": "2023-03-30T17:11:08.035Z"
   },
   {
    "duration": 0,
    "start_time": "2023-03-30T17:11:08.037Z"
   },
   {
    "duration": 0,
    "start_time": "2023-03-30T17:11:08.038Z"
   },
   {
    "duration": 0,
    "start_time": "2023-03-30T17:11:08.040Z"
   },
   {
    "duration": 0,
    "start_time": "2023-03-30T17:11:08.041Z"
   },
   {
    "duration": 0,
    "start_time": "2023-03-30T17:11:08.042Z"
   },
   {
    "duration": 0,
    "start_time": "2023-03-30T17:11:08.044Z"
   },
   {
    "duration": 0,
    "start_time": "2023-03-30T17:11:08.045Z"
   },
   {
    "duration": 0,
    "start_time": "2023-03-30T17:11:08.047Z"
   },
   {
    "duration": 0,
    "start_time": "2023-03-30T17:11:08.048Z"
   },
   {
    "duration": 0,
    "start_time": "2023-03-30T17:11:08.050Z"
   },
   {
    "duration": 0,
    "start_time": "2023-03-30T17:11:08.051Z"
   },
   {
    "duration": 0,
    "start_time": "2023-03-30T17:11:08.052Z"
   },
   {
    "duration": 0,
    "start_time": "2023-03-30T17:11:08.054Z"
   },
   {
    "duration": 0,
    "start_time": "2023-03-30T17:11:08.056Z"
   },
   {
    "duration": 0,
    "start_time": "2023-03-30T17:11:08.057Z"
   },
   {
    "duration": 0,
    "start_time": "2023-03-30T17:11:08.117Z"
   },
   {
    "duration": 0,
    "start_time": "2023-03-30T17:11:08.119Z"
   },
   {
    "duration": 0,
    "start_time": "2023-03-30T17:11:08.120Z"
   },
   {
    "duration": 0,
    "start_time": "2023-03-30T17:11:08.122Z"
   },
   {
    "duration": 0,
    "start_time": "2023-03-30T17:11:08.123Z"
   },
   {
    "duration": 0,
    "start_time": "2023-03-30T17:11:08.125Z"
   },
   {
    "duration": 0,
    "start_time": "2023-03-30T17:11:08.126Z"
   },
   {
    "duration": 0,
    "start_time": "2023-03-30T17:11:08.128Z"
   },
   {
    "duration": 0,
    "start_time": "2023-03-30T17:11:08.129Z"
   },
   {
    "duration": 0,
    "start_time": "2023-03-30T17:11:08.130Z"
   },
   {
    "duration": 0,
    "start_time": "2023-03-30T17:11:08.132Z"
   },
   {
    "duration": 0,
    "start_time": "2023-03-30T17:11:08.133Z"
   },
   {
    "duration": 0,
    "start_time": "2023-03-30T17:11:08.134Z"
   },
   {
    "duration": 0,
    "start_time": "2023-03-30T17:11:08.135Z"
   },
   {
    "duration": 0,
    "start_time": "2023-03-30T17:11:08.137Z"
   },
   {
    "duration": 0,
    "start_time": "2023-03-30T17:11:08.137Z"
   },
   {
    "duration": 0,
    "start_time": "2023-03-30T17:11:08.139Z"
   },
   {
    "duration": 0,
    "start_time": "2023-03-30T17:11:08.140Z"
   },
   {
    "duration": 0,
    "start_time": "2023-03-30T17:11:08.141Z"
   },
   {
    "duration": 0,
    "start_time": "2023-03-30T17:11:08.142Z"
   },
   {
    "duration": 0,
    "start_time": "2023-03-30T17:11:08.143Z"
   },
   {
    "duration": 0,
    "start_time": "2023-03-30T17:11:08.144Z"
   },
   {
    "duration": 0,
    "start_time": "2023-03-30T17:11:08.146Z"
   },
   {
    "duration": 0,
    "start_time": "2023-03-30T17:11:08.147Z"
   },
   {
    "duration": 0,
    "start_time": "2023-03-30T17:11:08.148Z"
   },
   {
    "duration": 0,
    "start_time": "2023-03-30T17:11:08.149Z"
   },
   {
    "duration": 0,
    "start_time": "2023-03-30T17:11:08.150Z"
   },
   {
    "duration": 0,
    "start_time": "2023-03-30T17:11:08.151Z"
   },
   {
    "duration": 0,
    "start_time": "2023-03-30T17:11:08.152Z"
   },
   {
    "duration": 0,
    "start_time": "2023-03-30T17:11:08.154Z"
   },
   {
    "duration": 0,
    "start_time": "2023-03-30T17:11:08.155Z"
   },
   {
    "duration": 0,
    "start_time": "2023-03-30T17:11:08.156Z"
   },
   {
    "duration": 0,
    "start_time": "2023-03-30T17:11:08.219Z"
   },
   {
    "duration": 0,
    "start_time": "2023-03-30T17:11:08.220Z"
   },
   {
    "duration": 0,
    "start_time": "2023-03-30T17:11:08.221Z"
   },
   {
    "duration": 0,
    "start_time": "2023-03-30T17:11:08.222Z"
   },
   {
    "duration": 0,
    "start_time": "2023-03-30T17:11:08.223Z"
   },
   {
    "duration": 0,
    "start_time": "2023-03-30T17:11:08.224Z"
   },
   {
    "duration": 0,
    "start_time": "2023-03-30T17:11:08.225Z"
   },
   {
    "duration": 0,
    "start_time": "2023-03-30T17:11:08.226Z"
   },
   {
    "duration": 0,
    "start_time": "2023-03-30T17:11:08.227Z"
   },
   {
    "duration": 0,
    "start_time": "2023-03-30T17:11:08.228Z"
   },
   {
    "duration": 0,
    "start_time": "2023-03-30T17:11:08.230Z"
   },
   {
    "duration": 0,
    "start_time": "2023-03-30T17:11:08.231Z"
   },
   {
    "duration": 0,
    "start_time": "2023-03-30T17:11:08.232Z"
   },
   {
    "duration": 0,
    "start_time": "2023-03-30T17:11:08.233Z"
   },
   {
    "duration": 0,
    "start_time": "2023-03-30T17:11:08.234Z"
   },
   {
    "duration": 0,
    "start_time": "2023-03-30T17:11:08.235Z"
   },
   {
    "duration": 0,
    "start_time": "2023-03-30T17:11:08.236Z"
   },
   {
    "duration": 0,
    "start_time": "2023-03-30T17:11:08.237Z"
   },
   {
    "duration": 0,
    "start_time": "2023-03-30T17:11:08.238Z"
   },
   {
    "duration": 0,
    "start_time": "2023-03-30T17:11:08.239Z"
   },
   {
    "duration": 0,
    "start_time": "2023-03-30T17:11:08.241Z"
   },
   {
    "duration": 0,
    "start_time": "2023-03-30T17:11:08.242Z"
   },
   {
    "duration": 1506,
    "start_time": "2023-03-30T17:15:58.566Z"
   },
   {
    "duration": 2,
    "start_time": "2023-03-30T17:16:00.074Z"
   },
   {
    "duration": 35,
    "start_time": "2023-03-30T17:16:00.078Z"
   },
   {
    "duration": 23,
    "start_time": "2023-03-30T17:16:00.115Z"
   },
   {
    "duration": 165,
    "start_time": "2023-03-30T17:16:00.139Z"
   },
   {
    "duration": 0,
    "start_time": "2023-03-30T17:16:00.308Z"
   },
   {
    "duration": 0,
    "start_time": "2023-03-30T17:16:00.309Z"
   },
   {
    "duration": 0,
    "start_time": "2023-03-30T17:16:00.310Z"
   },
   {
    "duration": 0,
    "start_time": "2023-03-30T17:16:00.311Z"
   },
   {
    "duration": 0,
    "start_time": "2023-03-30T17:16:00.312Z"
   },
   {
    "duration": 0,
    "start_time": "2023-03-30T17:16:00.317Z"
   },
   {
    "duration": 0,
    "start_time": "2023-03-30T17:16:00.318Z"
   },
   {
    "duration": 0,
    "start_time": "2023-03-30T17:16:00.319Z"
   },
   {
    "duration": 0,
    "start_time": "2023-03-30T17:16:00.320Z"
   },
   {
    "duration": 0,
    "start_time": "2023-03-30T17:16:00.321Z"
   },
   {
    "duration": 0,
    "start_time": "2023-03-30T17:16:00.322Z"
   },
   {
    "duration": 0,
    "start_time": "2023-03-30T17:16:00.323Z"
   },
   {
    "duration": 0,
    "start_time": "2023-03-30T17:16:00.325Z"
   },
   {
    "duration": 0,
    "start_time": "2023-03-30T17:16:00.326Z"
   },
   {
    "duration": 0,
    "start_time": "2023-03-30T17:16:00.327Z"
   },
   {
    "duration": 0,
    "start_time": "2023-03-30T17:16:00.328Z"
   },
   {
    "duration": 0,
    "start_time": "2023-03-30T17:16:00.329Z"
   },
   {
    "duration": 0,
    "start_time": "2023-03-30T17:16:00.330Z"
   },
   {
    "duration": 0,
    "start_time": "2023-03-30T17:16:00.331Z"
   },
   {
    "duration": 0,
    "start_time": "2023-03-30T17:16:00.332Z"
   },
   {
    "duration": 0,
    "start_time": "2023-03-30T17:16:00.333Z"
   },
   {
    "duration": 0,
    "start_time": "2023-03-30T17:16:00.334Z"
   },
   {
    "duration": 0,
    "start_time": "2023-03-30T17:16:00.335Z"
   },
   {
    "duration": 0,
    "start_time": "2023-03-30T17:16:00.336Z"
   },
   {
    "duration": 0,
    "start_time": "2023-03-30T17:16:00.337Z"
   },
   {
    "duration": 0,
    "start_time": "2023-03-30T17:16:00.338Z"
   },
   {
    "duration": 0,
    "start_time": "2023-03-30T17:16:00.339Z"
   },
   {
    "duration": 0,
    "start_time": "2023-03-30T17:16:00.340Z"
   },
   {
    "duration": 0,
    "start_time": "2023-03-30T17:16:00.341Z"
   },
   {
    "duration": 0,
    "start_time": "2023-03-30T17:16:00.342Z"
   },
   {
    "duration": 0,
    "start_time": "2023-03-30T17:16:00.343Z"
   },
   {
    "duration": 0,
    "start_time": "2023-03-30T17:16:00.344Z"
   },
   {
    "duration": 0,
    "start_time": "2023-03-30T17:16:00.345Z"
   },
   {
    "duration": 0,
    "start_time": "2023-03-30T17:16:00.346Z"
   },
   {
    "duration": 0,
    "start_time": "2023-03-30T17:16:00.347Z"
   },
   {
    "duration": 0,
    "start_time": "2023-03-30T17:16:00.348Z"
   },
   {
    "duration": 0,
    "start_time": "2023-03-30T17:16:00.348Z"
   },
   {
    "duration": 0,
    "start_time": "2023-03-30T17:16:00.349Z"
   },
   {
    "duration": 0,
    "start_time": "2023-03-30T17:16:00.350Z"
   },
   {
    "duration": 0,
    "start_time": "2023-03-30T17:16:00.351Z"
   },
   {
    "duration": 0,
    "start_time": "2023-03-30T17:16:00.352Z"
   },
   {
    "duration": 0,
    "start_time": "2023-03-30T17:16:00.353Z"
   },
   {
    "duration": 0,
    "start_time": "2023-03-30T17:16:00.354Z"
   },
   {
    "duration": 0,
    "start_time": "2023-03-30T17:16:00.356Z"
   },
   {
    "duration": 0,
    "start_time": "2023-03-30T17:16:00.357Z"
   },
   {
    "duration": 0,
    "start_time": "2023-03-30T17:16:00.358Z"
   },
   {
    "duration": 0,
    "start_time": "2023-03-30T17:16:00.359Z"
   },
   {
    "duration": 0,
    "start_time": "2023-03-30T17:16:00.418Z"
   },
   {
    "duration": 0,
    "start_time": "2023-03-30T17:16:00.419Z"
   },
   {
    "duration": 0,
    "start_time": "2023-03-30T17:16:00.420Z"
   },
   {
    "duration": 0,
    "start_time": "2023-03-30T17:16:00.421Z"
   },
   {
    "duration": 0,
    "start_time": "2023-03-30T17:16:00.423Z"
   },
   {
    "duration": 0,
    "start_time": "2023-03-30T17:16:00.423Z"
   },
   {
    "duration": 0,
    "start_time": "2023-03-30T17:16:00.424Z"
   },
   {
    "duration": 0,
    "start_time": "2023-03-30T17:16:00.425Z"
   },
   {
    "duration": 0,
    "start_time": "2023-03-30T17:16:00.426Z"
   },
   {
    "duration": 0,
    "start_time": "2023-03-30T17:16:00.427Z"
   },
   {
    "duration": 0,
    "start_time": "2023-03-30T17:16:00.428Z"
   },
   {
    "duration": 0,
    "start_time": "2023-03-30T17:16:00.429Z"
   },
   {
    "duration": 0,
    "start_time": "2023-03-30T17:16:00.430Z"
   },
   {
    "duration": 0,
    "start_time": "2023-03-30T17:16:00.431Z"
   },
   {
    "duration": 0,
    "start_time": "2023-03-30T17:16:00.432Z"
   },
   {
    "duration": 0,
    "start_time": "2023-03-30T17:16:00.433Z"
   },
   {
    "duration": 0,
    "start_time": "2023-03-30T17:16:00.434Z"
   },
   {
    "duration": 0,
    "start_time": "2023-03-30T17:16:00.435Z"
   },
   {
    "duration": 0,
    "start_time": "2023-03-30T17:16:00.436Z"
   },
   {
    "duration": 0,
    "start_time": "2023-03-30T17:16:00.437Z"
   },
   {
    "duration": 0,
    "start_time": "2023-03-30T17:16:00.438Z"
   },
   {
    "duration": 0,
    "start_time": "2023-03-30T17:16:00.439Z"
   },
   {
    "duration": 0,
    "start_time": "2023-03-30T17:16:00.440Z"
   },
   {
    "duration": 0,
    "start_time": "2023-03-30T17:16:00.441Z"
   },
   {
    "duration": 0,
    "start_time": "2023-03-30T17:16:00.442Z"
   },
   {
    "duration": 0,
    "start_time": "2023-03-30T17:16:00.443Z"
   },
   {
    "duration": 0,
    "start_time": "2023-03-30T17:16:00.444Z"
   },
   {
    "duration": 0,
    "start_time": "2023-03-30T17:16:00.445Z"
   },
   {
    "duration": 0,
    "start_time": "2023-03-30T17:16:00.446Z"
   },
   {
    "duration": 0,
    "start_time": "2023-03-30T17:16:00.447Z"
   },
   {
    "duration": 0,
    "start_time": "2023-03-30T17:16:00.448Z"
   },
   {
    "duration": 0,
    "start_time": "2023-03-30T17:16:00.449Z"
   },
   {
    "duration": 0,
    "start_time": "2023-03-30T17:16:00.455Z"
   },
   {
    "duration": 0,
    "start_time": "2023-03-30T17:16:00.456Z"
   },
   {
    "duration": 0,
    "start_time": "2023-03-30T17:16:00.456Z"
   },
   {
    "duration": 0,
    "start_time": "2023-03-30T17:16:00.457Z"
   },
   {
    "duration": 0,
    "start_time": "2023-03-30T17:16:00.457Z"
   },
   {
    "duration": 0,
    "start_time": "2023-03-30T17:16:00.519Z"
   },
   {
    "duration": 0,
    "start_time": "2023-03-30T17:16:00.520Z"
   },
   {
    "duration": 0,
    "start_time": "2023-03-30T17:16:00.521Z"
   },
   {
    "duration": 0,
    "start_time": "2023-03-30T17:16:00.522Z"
   },
   {
    "duration": 0,
    "start_time": "2023-03-30T17:16:00.523Z"
   },
   {
    "duration": 0,
    "start_time": "2023-03-30T17:16:00.524Z"
   },
   {
    "duration": 0,
    "start_time": "2023-03-30T17:16:00.525Z"
   },
   {
    "duration": 0,
    "start_time": "2023-03-30T17:16:00.526Z"
   },
   {
    "duration": 0,
    "start_time": "2023-03-30T17:16:00.527Z"
   },
   {
    "duration": 0,
    "start_time": "2023-03-30T17:16:00.529Z"
   },
   {
    "duration": 0,
    "start_time": "2023-03-30T17:16:00.530Z"
   },
   {
    "duration": 0,
    "start_time": "2023-03-30T17:16:00.531Z"
   },
   {
    "duration": 41,
    "start_time": "2023-03-30T17:16:12.507Z"
   },
   {
    "duration": 226,
    "start_time": "2023-03-30T17:16:14.807Z"
   },
   {
    "duration": 1533,
    "start_time": "2023-03-30T17:16:18.857Z"
   },
   {
    "duration": 3,
    "start_time": "2023-03-30T17:16:20.392Z"
   },
   {
    "duration": 35,
    "start_time": "2023-03-30T17:16:20.396Z"
   },
   {
    "duration": 25,
    "start_time": "2023-03-30T17:16:20.434Z"
   },
   {
    "duration": 98,
    "start_time": "2023-03-30T17:16:20.460Z"
   },
   {
    "duration": 21,
    "start_time": "2023-03-30T17:16:20.560Z"
   },
   {
    "duration": 23,
    "start_time": "2023-03-30T17:16:20.583Z"
   },
   {
    "duration": 12,
    "start_time": "2023-03-30T17:16:20.608Z"
   },
   {
    "duration": 11,
    "start_time": "2023-03-30T17:16:20.621Z"
   },
   {
    "duration": 40,
    "start_time": "2023-03-30T17:16:20.635Z"
   },
   {
    "duration": 8,
    "start_time": "2023-03-30T17:16:20.676Z"
   },
   {
    "duration": 20,
    "start_time": "2023-03-30T17:16:20.686Z"
   },
   {
    "duration": 8,
    "start_time": "2023-03-30T17:16:20.708Z"
   },
   {
    "duration": 27,
    "start_time": "2023-03-30T17:16:20.717Z"
   },
   {
    "duration": 8,
    "start_time": "2023-03-30T17:16:20.746Z"
   },
   {
    "duration": 18,
    "start_time": "2023-03-30T17:16:20.756Z"
   },
   {
    "duration": 206,
    "start_time": "2023-03-30T17:16:20.776Z"
   },
   {
    "duration": 175,
    "start_time": "2023-03-30T17:16:20.984Z"
   },
   {
    "duration": 12,
    "start_time": "2023-03-30T17:16:21.161Z"
   },
   {
    "duration": 324,
    "start_time": "2023-03-30T17:16:21.175Z"
   },
   {
    "duration": 7,
    "start_time": "2023-03-30T17:16:21.501Z"
   },
   {
    "duration": 278,
    "start_time": "2023-03-30T17:16:21.518Z"
   },
   {
    "duration": 4,
    "start_time": "2023-03-30T17:16:21.798Z"
   },
   {
    "duration": 28,
    "start_time": "2023-03-30T17:16:21.804Z"
   },
   {
    "duration": 128,
    "start_time": "2023-03-30T17:16:21.833Z"
   },
   {
    "duration": 29,
    "start_time": "2023-03-30T17:16:21.963Z"
   },
   {
    "duration": 392,
    "start_time": "2023-03-30T17:16:21.993Z"
   },
   {
    "duration": 0,
    "start_time": "2023-03-30T17:16:22.391Z"
   },
   {
    "duration": 0,
    "start_time": "2023-03-30T17:16:22.393Z"
   },
   {
    "duration": 0,
    "start_time": "2023-03-30T17:16:22.394Z"
   },
   {
    "duration": 0,
    "start_time": "2023-03-30T17:16:22.396Z"
   },
   {
    "duration": 0,
    "start_time": "2023-03-30T17:16:22.397Z"
   },
   {
    "duration": 0,
    "start_time": "2023-03-30T17:16:22.399Z"
   },
   {
    "duration": 0,
    "start_time": "2023-03-30T17:16:22.401Z"
   },
   {
    "duration": 0,
    "start_time": "2023-03-30T17:16:22.417Z"
   },
   {
    "duration": 0,
    "start_time": "2023-03-30T17:16:22.419Z"
   },
   {
    "duration": 0,
    "start_time": "2023-03-30T17:16:22.420Z"
   },
   {
    "duration": 0,
    "start_time": "2023-03-30T17:16:22.421Z"
   },
   {
    "duration": 0,
    "start_time": "2023-03-30T17:16:22.422Z"
   },
   {
    "duration": 0,
    "start_time": "2023-03-30T17:16:22.424Z"
   },
   {
    "duration": 0,
    "start_time": "2023-03-30T17:16:22.426Z"
   },
   {
    "duration": 0,
    "start_time": "2023-03-30T17:16:22.427Z"
   },
   {
    "duration": 0,
    "start_time": "2023-03-30T17:16:22.429Z"
   },
   {
    "duration": 0,
    "start_time": "2023-03-30T17:16:22.430Z"
   },
   {
    "duration": 0,
    "start_time": "2023-03-30T17:16:22.431Z"
   },
   {
    "duration": 0,
    "start_time": "2023-03-30T17:16:22.432Z"
   },
   {
    "duration": 0,
    "start_time": "2023-03-30T17:16:22.433Z"
   },
   {
    "duration": 0,
    "start_time": "2023-03-30T17:16:22.435Z"
   },
   {
    "duration": 0,
    "start_time": "2023-03-30T17:16:22.436Z"
   },
   {
    "duration": 0,
    "start_time": "2023-03-30T17:16:22.437Z"
   },
   {
    "duration": 0,
    "start_time": "2023-03-30T17:16:22.439Z"
   },
   {
    "duration": 0,
    "start_time": "2023-03-30T17:16:22.440Z"
   },
   {
    "duration": 0,
    "start_time": "2023-03-30T17:16:22.441Z"
   },
   {
    "duration": 0,
    "start_time": "2023-03-30T17:16:22.442Z"
   },
   {
    "duration": 0,
    "start_time": "2023-03-30T17:16:22.443Z"
   },
   {
    "duration": 0,
    "start_time": "2023-03-30T17:16:22.444Z"
   },
   {
    "duration": 0,
    "start_time": "2023-03-30T17:16:22.445Z"
   },
   {
    "duration": 0,
    "start_time": "2023-03-30T17:16:22.446Z"
   },
   {
    "duration": 0,
    "start_time": "2023-03-30T17:16:22.448Z"
   },
   {
    "duration": 0,
    "start_time": "2023-03-30T17:16:22.450Z"
   },
   {
    "duration": 0,
    "start_time": "2023-03-30T17:16:22.451Z"
   },
   {
    "duration": 0,
    "start_time": "2023-03-30T17:16:22.453Z"
   },
   {
    "duration": 0,
    "start_time": "2023-03-30T17:16:22.454Z"
   },
   {
    "duration": 0,
    "start_time": "2023-03-30T17:16:22.518Z"
   },
   {
    "duration": 0,
    "start_time": "2023-03-30T17:16:22.519Z"
   },
   {
    "duration": 0,
    "start_time": "2023-03-30T17:16:22.521Z"
   },
   {
    "duration": 0,
    "start_time": "2023-03-30T17:16:22.523Z"
   },
   {
    "duration": 0,
    "start_time": "2023-03-30T17:16:22.524Z"
   },
   {
    "duration": 0,
    "start_time": "2023-03-30T17:16:22.525Z"
   },
   {
    "duration": 0,
    "start_time": "2023-03-30T17:16:22.527Z"
   },
   {
    "duration": 1,
    "start_time": "2023-03-30T17:16:22.528Z"
   },
   {
    "duration": 0,
    "start_time": "2023-03-30T17:16:22.530Z"
   },
   {
    "duration": 0,
    "start_time": "2023-03-30T17:16:22.532Z"
   },
   {
    "duration": 0,
    "start_time": "2023-03-30T17:16:22.534Z"
   },
   {
    "duration": 0,
    "start_time": "2023-03-30T17:16:22.535Z"
   },
   {
    "duration": 0,
    "start_time": "2023-03-30T17:16:22.536Z"
   },
   {
    "duration": 0,
    "start_time": "2023-03-30T17:16:22.537Z"
   },
   {
    "duration": 0,
    "start_time": "2023-03-30T17:16:22.538Z"
   },
   {
    "duration": 0,
    "start_time": "2023-03-30T17:16:22.539Z"
   },
   {
    "duration": 0,
    "start_time": "2023-03-30T17:16:22.542Z"
   },
   {
    "duration": 0,
    "start_time": "2023-03-30T17:16:22.542Z"
   },
   {
    "duration": 0,
    "start_time": "2023-03-30T17:16:22.544Z"
   },
   {
    "duration": 0,
    "start_time": "2023-03-30T17:16:22.546Z"
   },
   {
    "duration": 0,
    "start_time": "2023-03-30T17:16:22.547Z"
   },
   {
    "duration": 0,
    "start_time": "2023-03-30T17:16:22.549Z"
   },
   {
    "duration": 0,
    "start_time": "2023-03-30T17:16:22.550Z"
   },
   {
    "duration": 0,
    "start_time": "2023-03-30T17:16:22.552Z"
   },
   {
    "duration": 0,
    "start_time": "2023-03-30T17:16:22.554Z"
   },
   {
    "duration": 0,
    "start_time": "2023-03-30T17:16:22.617Z"
   },
   {
    "duration": 0,
    "start_time": "2023-03-30T17:16:22.619Z"
   },
   {
    "duration": 0,
    "start_time": "2023-03-30T17:16:22.620Z"
   },
   {
    "duration": 0,
    "start_time": "2023-03-30T17:16:22.621Z"
   },
   {
    "duration": 0,
    "start_time": "2023-03-30T17:16:22.623Z"
   },
   {
    "duration": 0,
    "start_time": "2023-03-30T17:16:22.624Z"
   },
   {
    "duration": 0,
    "start_time": "2023-03-30T17:16:22.625Z"
   },
   {
    "duration": 0,
    "start_time": "2023-03-30T17:16:22.627Z"
   },
   {
    "duration": 0,
    "start_time": "2023-03-30T17:16:22.628Z"
   },
   {
    "duration": 0,
    "start_time": "2023-03-30T17:16:22.629Z"
   },
   {
    "duration": 0,
    "start_time": "2023-03-30T17:16:22.630Z"
   },
   {
    "duration": 0,
    "start_time": "2023-03-30T17:16:22.632Z"
   },
   {
    "duration": 0,
    "start_time": "2023-03-30T17:16:22.633Z"
   },
   {
    "duration": 1790,
    "start_time": "2023-03-31T07:09:43.027Z"
   },
   {
    "duration": 4,
    "start_time": "2023-03-31T07:09:44.819Z"
   },
   {
    "duration": 12,
    "start_time": "2023-03-31T07:09:44.825Z"
   },
   {
    "duration": 141,
    "start_time": "2023-03-31T07:09:44.839Z"
   },
   {
    "duration": 2,
    "start_time": "2023-03-31T07:09:44.982Z"
   },
   {
    "duration": 28,
    "start_time": "2023-03-31T07:09:44.986Z"
   },
   {
    "duration": 30,
    "start_time": "2023-03-31T07:09:45.016Z"
   },
   {
    "duration": 20,
    "start_time": "2023-03-31T07:09:45.048Z"
   },
   {
    "duration": 24,
    "start_time": "2023-03-31T07:09:45.069Z"
   },
   {
    "duration": 35,
    "start_time": "2023-03-31T07:09:45.096Z"
   },
   {
    "duration": 18,
    "start_time": "2023-03-31T07:09:45.133Z"
   },
   {
    "duration": 21,
    "start_time": "2023-03-31T07:09:45.153Z"
   },
   {
    "duration": 26,
    "start_time": "2023-03-31T07:09:45.176Z"
   },
   {
    "duration": 45,
    "start_time": "2023-03-31T07:09:45.204Z"
   },
   {
    "duration": 13,
    "start_time": "2023-03-31T07:09:45.251Z"
   },
   {
    "duration": 19,
    "start_time": "2023-03-31T07:09:45.266Z"
   },
   {
    "duration": 212,
    "start_time": "2023-03-31T07:09:45.287Z"
   },
   {
    "duration": 173,
    "start_time": "2023-03-31T07:09:45.502Z"
   },
   {
    "duration": 12,
    "start_time": "2023-03-31T07:09:45.676Z"
   },
   {
    "duration": 327,
    "start_time": "2023-03-31T07:09:45.690Z"
   },
   {
    "duration": 7,
    "start_time": "2023-03-31T07:09:46.023Z"
   },
   {
    "duration": 275,
    "start_time": "2023-03-31T07:09:46.032Z"
   },
   {
    "duration": 5,
    "start_time": "2023-03-31T07:09:46.308Z"
   },
   {
    "duration": 18,
    "start_time": "2023-03-31T07:09:46.315Z"
   },
   {
    "duration": 127,
    "start_time": "2023-03-31T07:09:46.334Z"
   },
   {
    "duration": 28,
    "start_time": "2023-03-31T07:09:46.463Z"
   },
   {
    "duration": 417,
    "start_time": "2023-03-31T07:09:46.493Z"
   },
   {
    "duration": 0,
    "start_time": "2023-03-31T07:09:46.914Z"
   },
   {
    "duration": 0,
    "start_time": "2023-03-31T07:09:46.915Z"
   },
   {
    "duration": 0,
    "start_time": "2023-03-31T07:09:46.916Z"
   },
   {
    "duration": 0,
    "start_time": "2023-03-31T07:09:46.923Z"
   },
   {
    "duration": 0,
    "start_time": "2023-03-31T07:09:46.924Z"
   },
   {
    "duration": 0,
    "start_time": "2023-03-31T07:09:46.925Z"
   },
   {
    "duration": 0,
    "start_time": "2023-03-31T07:09:46.926Z"
   },
   {
    "duration": 0,
    "start_time": "2023-03-31T07:09:46.927Z"
   },
   {
    "duration": 0,
    "start_time": "2023-03-31T07:09:46.928Z"
   },
   {
    "duration": 0,
    "start_time": "2023-03-31T07:09:46.930Z"
   },
   {
    "duration": 0,
    "start_time": "2023-03-31T07:09:46.931Z"
   },
   {
    "duration": 0,
    "start_time": "2023-03-31T07:09:46.933Z"
   },
   {
    "duration": 0,
    "start_time": "2023-03-31T07:09:46.934Z"
   },
   {
    "duration": 0,
    "start_time": "2023-03-31T07:09:46.935Z"
   },
   {
    "duration": 0,
    "start_time": "2023-03-31T07:09:46.936Z"
   },
   {
    "duration": 0,
    "start_time": "2023-03-31T07:09:46.938Z"
   },
   {
    "duration": 0,
    "start_time": "2023-03-31T07:09:46.939Z"
   },
   {
    "duration": 0,
    "start_time": "2023-03-31T07:09:46.940Z"
   },
   {
    "duration": 0,
    "start_time": "2023-03-31T07:09:46.941Z"
   },
   {
    "duration": 0,
    "start_time": "2023-03-31T07:09:46.943Z"
   },
   {
    "duration": 0,
    "start_time": "2023-03-31T07:09:46.944Z"
   },
   {
    "duration": 0,
    "start_time": "2023-03-31T07:09:46.945Z"
   },
   {
    "duration": 0,
    "start_time": "2023-03-31T07:09:46.946Z"
   },
   {
    "duration": 0,
    "start_time": "2023-03-31T07:09:46.947Z"
   },
   {
    "duration": 0,
    "start_time": "2023-03-31T07:09:46.948Z"
   },
   {
    "duration": 0,
    "start_time": "2023-03-31T07:09:46.949Z"
   },
   {
    "duration": 0,
    "start_time": "2023-03-31T07:09:46.950Z"
   },
   {
    "duration": 0,
    "start_time": "2023-03-31T07:09:46.951Z"
   },
   {
    "duration": 0,
    "start_time": "2023-03-31T07:09:46.952Z"
   },
   {
    "duration": 0,
    "start_time": "2023-03-31T07:09:46.953Z"
   },
   {
    "duration": 0,
    "start_time": "2023-03-31T07:09:46.954Z"
   },
   {
    "duration": 0,
    "start_time": "2023-03-31T07:09:46.955Z"
   },
   {
    "duration": 0,
    "start_time": "2023-03-31T07:09:46.956Z"
   },
   {
    "duration": 0,
    "start_time": "2023-03-31T07:09:46.957Z"
   },
   {
    "duration": 0,
    "start_time": "2023-03-31T07:09:46.958Z"
   },
   {
    "duration": 0,
    "start_time": "2023-03-31T07:09:46.959Z"
   },
   {
    "duration": 0,
    "start_time": "2023-03-31T07:09:47.024Z"
   },
   {
    "duration": 0,
    "start_time": "2023-03-31T07:09:47.025Z"
   },
   {
    "duration": 0,
    "start_time": "2023-03-31T07:09:47.026Z"
   },
   {
    "duration": 0,
    "start_time": "2023-03-31T07:09:47.028Z"
   },
   {
    "duration": 1,
    "start_time": "2023-03-31T07:09:47.028Z"
   },
   {
    "duration": 0,
    "start_time": "2023-03-31T07:09:47.030Z"
   },
   {
    "duration": 0,
    "start_time": "2023-03-31T07:09:47.031Z"
   },
   {
    "duration": 0,
    "start_time": "2023-03-31T07:09:47.032Z"
   },
   {
    "duration": 0,
    "start_time": "2023-03-31T07:09:47.033Z"
   },
   {
    "duration": 0,
    "start_time": "2023-03-31T07:09:47.034Z"
   },
   {
    "duration": 0,
    "start_time": "2023-03-31T07:09:47.035Z"
   },
   {
    "duration": 0,
    "start_time": "2023-03-31T07:09:47.036Z"
   },
   {
    "duration": 0,
    "start_time": "2023-03-31T07:09:47.037Z"
   },
   {
    "duration": 0,
    "start_time": "2023-03-31T07:09:47.038Z"
   },
   {
    "duration": 0,
    "start_time": "2023-03-31T07:09:47.039Z"
   },
   {
    "duration": 0,
    "start_time": "2023-03-31T07:09:47.040Z"
   },
   {
    "duration": 0,
    "start_time": "2023-03-31T07:09:47.041Z"
   },
   {
    "duration": 0,
    "start_time": "2023-03-31T07:09:47.042Z"
   },
   {
    "duration": 0,
    "start_time": "2023-03-31T07:09:47.043Z"
   },
   {
    "duration": 0,
    "start_time": "2023-03-31T07:09:47.044Z"
   },
   {
    "duration": 0,
    "start_time": "2023-03-31T07:09:47.045Z"
   },
   {
    "duration": 0,
    "start_time": "2023-03-31T07:09:47.047Z"
   },
   {
    "duration": 0,
    "start_time": "2023-03-31T07:09:47.048Z"
   },
   {
    "duration": 0,
    "start_time": "2023-03-31T07:09:47.049Z"
   },
   {
    "duration": 0,
    "start_time": "2023-03-31T07:09:47.050Z"
   },
   {
    "duration": 1,
    "start_time": "2023-03-31T07:09:47.051Z"
   },
   {
    "duration": 0,
    "start_time": "2023-03-31T07:09:47.053Z"
   },
   {
    "duration": 0,
    "start_time": "2023-03-31T07:09:47.054Z"
   },
   {
    "duration": 0,
    "start_time": "2023-03-31T07:09:47.055Z"
   },
   {
    "duration": 0,
    "start_time": "2023-03-31T07:09:47.056Z"
   },
   {
    "duration": 0,
    "start_time": "2023-03-31T07:09:47.057Z"
   },
   {
    "duration": 0,
    "start_time": "2023-03-31T07:09:47.058Z"
   },
   {
    "duration": 0,
    "start_time": "2023-03-31T07:09:47.059Z"
   },
   {
    "duration": 0,
    "start_time": "2023-03-31T07:09:47.060Z"
   },
   {
    "duration": 0,
    "start_time": "2023-03-31T07:09:47.061Z"
   },
   {
    "duration": 0,
    "start_time": "2023-03-31T07:09:47.123Z"
   },
   {
    "duration": 0,
    "start_time": "2023-03-31T07:09:47.125Z"
   },
   {
    "duration": 0,
    "start_time": "2023-03-31T07:09:47.126Z"
   },
   {
    "duration": 269,
    "start_time": "2023-03-31T07:10:36.935Z"
   },
   {
    "duration": 267,
    "start_time": "2023-03-31T07:10:48.983Z"
   },
   {
    "duration": 262,
    "start_time": "2023-03-31T07:12:55.549Z"
   },
   {
    "duration": 1553,
    "start_time": "2023-03-31T07:13:06.262Z"
   },
   {
    "duration": 3,
    "start_time": "2023-03-31T07:13:07.817Z"
   },
   {
    "duration": 14,
    "start_time": "2023-03-31T07:13:07.821Z"
   },
   {
    "duration": 85,
    "start_time": "2023-03-31T07:13:07.837Z"
   },
   {
    "duration": 2,
    "start_time": "2023-03-31T07:13:07.924Z"
   },
   {
    "duration": 24,
    "start_time": "2023-03-31T07:13:07.928Z"
   },
   {
    "duration": 16,
    "start_time": "2023-03-31T07:13:07.954Z"
   },
   {
    "duration": 5,
    "start_time": "2023-03-31T07:13:07.971Z"
   },
   {
    "duration": 8,
    "start_time": "2023-03-31T07:13:07.978Z"
   },
   {
    "duration": 49,
    "start_time": "2023-03-31T07:13:07.988Z"
   },
   {
    "duration": 9,
    "start_time": "2023-03-31T07:13:08.039Z"
   },
   {
    "duration": 17,
    "start_time": "2023-03-31T07:13:08.050Z"
   },
   {
    "duration": 11,
    "start_time": "2023-03-31T07:13:08.068Z"
   },
   {
    "duration": 42,
    "start_time": "2023-03-31T07:13:08.082Z"
   },
   {
    "duration": 9,
    "start_time": "2023-03-31T07:13:08.126Z"
   },
   {
    "duration": 16,
    "start_time": "2023-03-31T07:13:08.137Z"
   },
   {
    "duration": 236,
    "start_time": "2023-03-31T07:13:08.155Z"
   },
   {
    "duration": 181,
    "start_time": "2023-03-31T07:13:08.393Z"
   },
   {
    "duration": 16,
    "start_time": "2023-03-31T07:13:08.576Z"
   },
   {
    "duration": 328,
    "start_time": "2023-03-31T07:13:08.595Z"
   },
   {
    "duration": 7,
    "start_time": "2023-03-31T07:13:08.925Z"
   },
   {
    "duration": 282,
    "start_time": "2023-03-31T07:13:08.934Z"
   },
   {
    "duration": 6,
    "start_time": "2023-03-31T07:13:09.222Z"
   },
   {
    "duration": 19,
    "start_time": "2023-03-31T07:13:09.230Z"
   },
   {
    "duration": 120,
    "start_time": "2023-03-31T07:13:09.251Z"
   },
   {
    "duration": 30,
    "start_time": "2023-03-31T07:13:09.373Z"
   },
   {
    "duration": 277,
    "start_time": "2023-03-31T07:13:09.404Z"
   },
   {
    "duration": 6,
    "start_time": "2023-03-31T07:13:09.683Z"
   },
   {
    "duration": 12,
    "start_time": "2023-03-31T07:13:09.690Z"
   },
   {
    "duration": 355,
    "start_time": "2023-03-31T07:13:09.704Z"
   },
   {
    "duration": 0,
    "start_time": "2023-03-31T07:13:10.062Z"
   },
   {
    "duration": 0,
    "start_time": "2023-03-31T07:13:10.064Z"
   },
   {
    "duration": 0,
    "start_time": "2023-03-31T07:13:10.065Z"
   },
   {
    "duration": 0,
    "start_time": "2023-03-31T07:13:10.066Z"
   },
   {
    "duration": 0,
    "start_time": "2023-03-31T07:13:10.067Z"
   },
   {
    "duration": 0,
    "start_time": "2023-03-31T07:13:10.068Z"
   },
   {
    "duration": 0,
    "start_time": "2023-03-31T07:13:10.069Z"
   },
   {
    "duration": 0,
    "start_time": "2023-03-31T07:13:10.071Z"
   },
   {
    "duration": 0,
    "start_time": "2023-03-31T07:13:10.072Z"
   },
   {
    "duration": 0,
    "start_time": "2023-03-31T07:13:10.074Z"
   },
   {
    "duration": 0,
    "start_time": "2023-03-31T07:13:10.075Z"
   },
   {
    "duration": 0,
    "start_time": "2023-03-31T07:13:10.076Z"
   },
   {
    "duration": 0,
    "start_time": "2023-03-31T07:13:10.077Z"
   },
   {
    "duration": 0,
    "start_time": "2023-03-31T07:13:10.078Z"
   },
   {
    "duration": 0,
    "start_time": "2023-03-31T07:13:10.079Z"
   },
   {
    "duration": 0,
    "start_time": "2023-03-31T07:13:10.080Z"
   },
   {
    "duration": 0,
    "start_time": "2023-03-31T07:13:10.082Z"
   },
   {
    "duration": 0,
    "start_time": "2023-03-31T07:13:10.083Z"
   },
   {
    "duration": 0,
    "start_time": "2023-03-31T07:13:10.084Z"
   },
   {
    "duration": 0,
    "start_time": "2023-03-31T07:13:10.124Z"
   },
   {
    "duration": 0,
    "start_time": "2023-03-31T07:13:10.125Z"
   },
   {
    "duration": 0,
    "start_time": "2023-03-31T07:13:10.127Z"
   },
   {
    "duration": 0,
    "start_time": "2023-03-31T07:13:10.127Z"
   },
   {
    "duration": 0,
    "start_time": "2023-03-31T07:13:10.129Z"
   },
   {
    "duration": 0,
    "start_time": "2023-03-31T07:13:10.130Z"
   },
   {
    "duration": 0,
    "start_time": "2023-03-31T07:13:10.131Z"
   },
   {
    "duration": 0,
    "start_time": "2023-03-31T07:13:10.132Z"
   },
   {
    "duration": 0,
    "start_time": "2023-03-31T07:13:10.133Z"
   },
   {
    "duration": 0,
    "start_time": "2023-03-31T07:13:10.134Z"
   },
   {
    "duration": 0,
    "start_time": "2023-03-31T07:13:10.136Z"
   },
   {
    "duration": 0,
    "start_time": "2023-03-31T07:13:10.137Z"
   },
   {
    "duration": 0,
    "start_time": "2023-03-31T07:13:10.138Z"
   },
   {
    "duration": 0,
    "start_time": "2023-03-31T07:13:10.139Z"
   },
   {
    "duration": 0,
    "start_time": "2023-03-31T07:13:10.140Z"
   },
   {
    "duration": 0,
    "start_time": "2023-03-31T07:13:10.141Z"
   },
   {
    "duration": 0,
    "start_time": "2023-03-31T07:13:10.142Z"
   },
   {
    "duration": 0,
    "start_time": "2023-03-31T07:13:10.143Z"
   },
   {
    "duration": 0,
    "start_time": "2023-03-31T07:13:10.144Z"
   },
   {
    "duration": 0,
    "start_time": "2023-03-31T07:13:10.145Z"
   },
   {
    "duration": 0,
    "start_time": "2023-03-31T07:13:10.146Z"
   },
   {
    "duration": 0,
    "start_time": "2023-03-31T07:13:10.147Z"
   },
   {
    "duration": 0,
    "start_time": "2023-03-31T07:13:10.148Z"
   },
   {
    "duration": 0,
    "start_time": "2023-03-31T07:13:10.149Z"
   },
   {
    "duration": 0,
    "start_time": "2023-03-31T07:13:10.150Z"
   },
   {
    "duration": 0,
    "start_time": "2023-03-31T07:13:10.151Z"
   },
   {
    "duration": 0,
    "start_time": "2023-03-31T07:13:10.152Z"
   },
   {
    "duration": 0,
    "start_time": "2023-03-31T07:13:10.153Z"
   },
   {
    "duration": 0,
    "start_time": "2023-03-31T07:13:10.154Z"
   },
   {
    "duration": 0,
    "start_time": "2023-03-31T07:13:10.155Z"
   },
   {
    "duration": 0,
    "start_time": "2023-03-31T07:13:10.156Z"
   },
   {
    "duration": 0,
    "start_time": "2023-03-31T07:13:10.157Z"
   },
   {
    "duration": 0,
    "start_time": "2023-03-31T07:13:10.158Z"
   },
   {
    "duration": 0,
    "start_time": "2023-03-31T07:13:10.159Z"
   },
   {
    "duration": 0,
    "start_time": "2023-03-31T07:13:10.160Z"
   },
   {
    "duration": 0,
    "start_time": "2023-03-31T07:13:10.223Z"
   },
   {
    "duration": 0,
    "start_time": "2023-03-31T07:13:10.224Z"
   },
   {
    "duration": 0,
    "start_time": "2023-03-31T07:13:10.226Z"
   },
   {
    "duration": 0,
    "start_time": "2023-03-31T07:13:10.227Z"
   },
   {
    "duration": 0,
    "start_time": "2023-03-31T07:13:10.228Z"
   },
   {
    "duration": 0,
    "start_time": "2023-03-31T07:13:10.230Z"
   },
   {
    "duration": 0,
    "start_time": "2023-03-31T07:13:10.231Z"
   },
   {
    "duration": 0,
    "start_time": "2023-03-31T07:13:10.232Z"
   },
   {
    "duration": 0,
    "start_time": "2023-03-31T07:13:10.234Z"
   },
   {
    "duration": 0,
    "start_time": "2023-03-31T07:13:10.235Z"
   },
   {
    "duration": 0,
    "start_time": "2023-03-31T07:13:10.236Z"
   },
   {
    "duration": 0,
    "start_time": "2023-03-31T07:13:10.237Z"
   },
   {
    "duration": 0,
    "start_time": "2023-03-31T07:13:10.238Z"
   },
   {
    "duration": 0,
    "start_time": "2023-03-31T07:13:10.239Z"
   },
   {
    "duration": 0,
    "start_time": "2023-03-31T07:13:10.241Z"
   },
   {
    "duration": 0,
    "start_time": "2023-03-31T07:13:10.242Z"
   },
   {
    "duration": 0,
    "start_time": "2023-03-31T07:13:10.243Z"
   },
   {
    "duration": 1648,
    "start_time": "2023-03-31T07:13:40.728Z"
   },
   {
    "duration": 3,
    "start_time": "2023-03-31T07:13:42.378Z"
   },
   {
    "duration": 16,
    "start_time": "2023-03-31T07:13:42.383Z"
   },
   {
    "duration": 93,
    "start_time": "2023-03-31T07:13:42.402Z"
   },
   {
    "duration": 3,
    "start_time": "2023-03-31T07:13:42.497Z"
   },
   {
    "duration": 26,
    "start_time": "2023-03-31T07:13:42.502Z"
   },
   {
    "duration": 16,
    "start_time": "2023-03-31T07:13:42.530Z"
   },
   {
    "duration": 5,
    "start_time": "2023-03-31T07:13:42.547Z"
   },
   {
    "duration": 13,
    "start_time": "2023-03-31T07:13:42.553Z"
   },
   {
    "duration": 24,
    "start_time": "2023-03-31T07:13:42.568Z"
   },
   {
    "duration": 29,
    "start_time": "2023-03-31T07:13:42.594Z"
   },
   {
    "duration": 18,
    "start_time": "2023-03-31T07:13:42.625Z"
   },
   {
    "duration": 7,
    "start_time": "2023-03-31T07:13:42.645Z"
   },
   {
    "duration": 20,
    "start_time": "2023-03-31T07:13:42.654Z"
   },
   {
    "duration": 12,
    "start_time": "2023-03-31T07:13:42.676Z"
   },
   {
    "duration": 35,
    "start_time": "2023-03-31T07:13:42.690Z"
   },
   {
    "duration": 234,
    "start_time": "2023-03-31T07:13:42.727Z"
   },
   {
    "duration": 181,
    "start_time": "2023-03-31T07:13:42.963Z"
   },
   {
    "duration": 12,
    "start_time": "2023-03-31T07:13:43.146Z"
   },
   {
    "duration": 333,
    "start_time": "2023-03-31T07:13:43.159Z"
   },
   {
    "duration": 8,
    "start_time": "2023-03-31T07:13:43.494Z"
   },
   {
    "duration": 280,
    "start_time": "2023-03-31T07:13:43.504Z"
   },
   {
    "duration": 4,
    "start_time": "2023-03-31T07:13:43.786Z"
   },
   {
    "duration": 14,
    "start_time": "2023-03-31T07:13:43.792Z"
   },
   {
    "duration": 130,
    "start_time": "2023-03-31T07:13:43.807Z"
   },
   {
    "duration": 29,
    "start_time": "2023-03-31T07:13:43.939Z"
   },
   {
    "duration": 285,
    "start_time": "2023-03-31T07:13:43.970Z"
   },
   {
    "duration": 7,
    "start_time": "2023-03-31T07:13:44.259Z"
   },
   {
    "duration": 17,
    "start_time": "2023-03-31T07:13:44.267Z"
   },
   {
    "duration": 250,
    "start_time": "2023-03-31T07:13:44.286Z"
   },
   {
    "duration": 20,
    "start_time": "2023-03-31T07:13:44.538Z"
   },
   {
    "duration": 10,
    "start_time": "2023-03-31T07:13:44.560Z"
   },
   {
    "duration": 11,
    "start_time": "2023-03-31T07:13:44.572Z"
   },
   {
    "duration": 1035,
    "start_time": "2023-03-31T07:13:44.585Z"
   },
   {
    "duration": 10,
    "start_time": "2023-03-31T07:13:45.622Z"
   },
   {
    "duration": 433,
    "start_time": "2023-03-31T07:13:45.634Z"
   },
   {
    "duration": 31,
    "start_time": "2023-03-31T07:13:46.069Z"
   },
   {
    "duration": 443,
    "start_time": "2023-03-31T07:13:46.123Z"
   },
   {
    "duration": 15,
    "start_time": "2023-03-31T07:13:46.568Z"
   },
   {
    "duration": 451,
    "start_time": "2023-03-31T07:13:46.584Z"
   },
   {
    "duration": 0,
    "start_time": "2023-03-31T07:13:47.038Z"
   },
   {
    "duration": 0,
    "start_time": "2023-03-31T07:13:47.039Z"
   },
   {
    "duration": 0,
    "start_time": "2023-03-31T07:13:47.040Z"
   },
   {
    "duration": 0,
    "start_time": "2023-03-31T07:13:47.042Z"
   },
   {
    "duration": 0,
    "start_time": "2023-03-31T07:13:47.043Z"
   },
   {
    "duration": 0,
    "start_time": "2023-03-31T07:13:47.044Z"
   },
   {
    "duration": 0,
    "start_time": "2023-03-31T07:13:47.045Z"
   },
   {
    "duration": 0,
    "start_time": "2023-03-31T07:13:47.046Z"
   },
   {
    "duration": 0,
    "start_time": "2023-03-31T07:13:47.047Z"
   },
   {
    "duration": 1,
    "start_time": "2023-03-31T07:13:47.048Z"
   },
   {
    "duration": 0,
    "start_time": "2023-03-31T07:13:47.050Z"
   },
   {
    "duration": 0,
    "start_time": "2023-03-31T07:13:47.051Z"
   },
   {
    "duration": 0,
    "start_time": "2023-03-31T07:13:47.052Z"
   },
   {
    "duration": 0,
    "start_time": "2023-03-31T07:13:47.053Z"
   },
   {
    "duration": 0,
    "start_time": "2023-03-31T07:13:47.053Z"
   },
   {
    "duration": 0,
    "start_time": "2023-03-31T07:13:47.055Z"
   },
   {
    "duration": 0,
    "start_time": "2023-03-31T07:13:47.056Z"
   },
   {
    "duration": 0,
    "start_time": "2023-03-31T07:13:47.056Z"
   },
   {
    "duration": 0,
    "start_time": "2023-03-31T07:13:47.058Z"
   },
   {
    "duration": 0,
    "start_time": "2023-03-31T07:13:47.059Z"
   },
   {
    "duration": 0,
    "start_time": "2023-03-31T07:13:47.060Z"
   },
   {
    "duration": 0,
    "start_time": "2023-03-31T07:13:47.061Z"
   },
   {
    "duration": 0,
    "start_time": "2023-03-31T07:13:47.062Z"
   },
   {
    "duration": 0,
    "start_time": "2023-03-31T07:13:47.063Z"
   },
   {
    "duration": 0,
    "start_time": "2023-03-31T07:13:47.064Z"
   },
   {
    "duration": 0,
    "start_time": "2023-03-31T07:13:47.065Z"
   },
   {
    "duration": 0,
    "start_time": "2023-03-31T07:13:47.066Z"
   },
   {
    "duration": 0,
    "start_time": "2023-03-31T07:13:47.067Z"
   },
   {
    "duration": 0,
    "start_time": "2023-03-31T07:13:47.068Z"
   },
   {
    "duration": 0,
    "start_time": "2023-03-31T07:13:47.124Z"
   },
   {
    "duration": 0,
    "start_time": "2023-03-31T07:13:47.125Z"
   },
   {
    "duration": 0,
    "start_time": "2023-03-31T07:13:47.126Z"
   },
   {
    "duration": 0,
    "start_time": "2023-03-31T07:13:47.128Z"
   },
   {
    "duration": 0,
    "start_time": "2023-03-31T07:13:47.129Z"
   },
   {
    "duration": 0,
    "start_time": "2023-03-31T07:13:47.131Z"
   },
   {
    "duration": 0,
    "start_time": "2023-03-31T07:13:47.132Z"
   },
   {
    "duration": 0,
    "start_time": "2023-03-31T07:13:47.133Z"
   },
   {
    "duration": 0,
    "start_time": "2023-03-31T07:13:47.134Z"
   },
   {
    "duration": 0,
    "start_time": "2023-03-31T07:13:47.135Z"
   },
   {
    "duration": 0,
    "start_time": "2023-03-31T07:13:47.136Z"
   },
   {
    "duration": 0,
    "start_time": "2023-03-31T07:13:47.137Z"
   },
   {
    "duration": 0,
    "start_time": "2023-03-31T07:13:47.138Z"
   },
   {
    "duration": 0,
    "start_time": "2023-03-31T07:13:47.139Z"
   },
   {
    "duration": 0,
    "start_time": "2023-03-31T07:13:47.140Z"
   },
   {
    "duration": 0,
    "start_time": "2023-03-31T07:13:47.141Z"
   },
   {
    "duration": 0,
    "start_time": "2023-03-31T07:13:47.143Z"
   },
   {
    "duration": 0,
    "start_time": "2023-03-31T07:13:47.144Z"
   },
   {
    "duration": 0,
    "start_time": "2023-03-31T07:13:47.145Z"
   },
   {
    "duration": 0,
    "start_time": "2023-03-31T07:13:47.146Z"
   },
   {
    "duration": 0,
    "start_time": "2023-03-31T07:13:47.147Z"
   },
   {
    "duration": 0,
    "start_time": "2023-03-31T07:13:47.148Z"
   },
   {
    "duration": 0,
    "start_time": "2023-03-31T07:13:47.149Z"
   },
   {
    "duration": 0,
    "start_time": "2023-03-31T07:13:47.150Z"
   },
   {
    "duration": 0,
    "start_time": "2023-03-31T07:13:47.151Z"
   },
   {
    "duration": 0,
    "start_time": "2023-03-31T07:13:47.152Z"
   },
   {
    "duration": 0,
    "start_time": "2023-03-31T07:13:47.153Z"
   },
   {
    "duration": 0,
    "start_time": "2023-03-31T07:13:47.154Z"
   },
   {
    "duration": 0,
    "start_time": "2023-03-31T07:13:47.155Z"
   },
   {
    "duration": 0,
    "start_time": "2023-03-31T07:13:47.157Z"
   },
   {
    "duration": 0,
    "start_time": "2023-03-31T07:13:47.158Z"
   },
   {
    "duration": 0,
    "start_time": "2023-03-31T07:13:47.159Z"
   },
   {
    "duration": 1568,
    "start_time": "2023-03-31T07:14:54.661Z"
   },
   {
    "duration": 3,
    "start_time": "2023-03-31T07:14:56.232Z"
   },
   {
    "duration": 17,
    "start_time": "2023-03-31T07:14:56.237Z"
   },
   {
    "duration": 101,
    "start_time": "2023-03-31T07:14:56.256Z"
   },
   {
    "duration": 3,
    "start_time": "2023-03-31T07:14:56.359Z"
   },
   {
    "duration": 37,
    "start_time": "2023-03-31T07:14:56.364Z"
   },
   {
    "duration": 73,
    "start_time": "2023-03-31T07:14:56.403Z"
   },
   {
    "duration": 13,
    "start_time": "2023-03-31T07:14:56.478Z"
   },
   {
    "duration": 19,
    "start_time": "2023-03-31T07:14:56.493Z"
   },
   {
    "duration": 34,
    "start_time": "2023-03-31T07:14:56.515Z"
   },
   {
    "duration": 22,
    "start_time": "2023-03-31T07:14:56.551Z"
   },
   {
    "duration": 28,
    "start_time": "2023-03-31T07:14:56.575Z"
   },
   {
    "duration": 11,
    "start_time": "2023-03-31T07:14:56.605Z"
   },
   {
    "duration": 33,
    "start_time": "2023-03-31T07:14:56.617Z"
   },
   {
    "duration": 25,
    "start_time": "2023-03-31T07:14:56.652Z"
   },
   {
    "duration": 34,
    "start_time": "2023-03-31T07:14:56.679Z"
   },
   {
    "duration": 251,
    "start_time": "2023-03-31T07:14:56.715Z"
   },
   {
    "duration": 176,
    "start_time": "2023-03-31T07:14:56.969Z"
   },
   {
    "duration": 15,
    "start_time": "2023-03-31T07:14:57.148Z"
   },
   {
    "duration": 444,
    "start_time": "2023-03-31T07:14:57.165Z"
   },
   {
    "duration": 7,
    "start_time": "2023-03-31T07:14:57.610Z"
   },
   {
    "duration": 283,
    "start_time": "2023-03-31T07:14:57.624Z"
   },
   {
    "duration": 5,
    "start_time": "2023-03-31T07:14:57.909Z"
   },
   {
    "duration": 12,
    "start_time": "2023-03-31T07:14:57.922Z"
   },
   {
    "duration": 126,
    "start_time": "2023-03-31T07:14:57.936Z"
   },
   {
    "duration": 30,
    "start_time": "2023-03-31T07:14:58.064Z"
   },
   {
    "duration": 281,
    "start_time": "2023-03-31T07:14:58.095Z"
   },
   {
    "duration": 5,
    "start_time": "2023-03-31T07:14:58.382Z"
   },
   {
    "duration": 17,
    "start_time": "2023-03-31T07:14:58.389Z"
   },
   {
    "duration": 248,
    "start_time": "2023-03-31T07:14:58.408Z"
   },
   {
    "duration": 23,
    "start_time": "2023-03-31T07:14:58.658Z"
   },
   {
    "duration": 7,
    "start_time": "2023-03-31T07:14:58.683Z"
   },
   {
    "duration": 34,
    "start_time": "2023-03-31T07:14:58.693Z"
   },
   {
    "duration": 1058,
    "start_time": "2023-03-31T07:14:58.730Z"
   },
   {
    "duration": 8,
    "start_time": "2023-03-31T07:14:59.789Z"
   },
   {
    "duration": 446,
    "start_time": "2023-03-31T07:14:59.799Z"
   },
   {
    "duration": 28,
    "start_time": "2023-03-31T07:15:00.247Z"
   },
   {
    "duration": 547,
    "start_time": "2023-03-31T07:15:00.277Z"
   },
   {
    "duration": 16,
    "start_time": "2023-03-31T07:15:00.826Z"
   },
   {
    "duration": 311,
    "start_time": "2023-03-31T07:15:00.843Z"
   },
   {
    "duration": 33,
    "start_time": "2023-03-31T07:15:01.156Z"
   },
   {
    "duration": 992,
    "start_time": "2023-03-31T07:15:01.191Z"
   },
   {
    "duration": 20,
    "start_time": "2023-03-31T07:15:02.186Z"
   },
   {
    "duration": 179,
    "start_time": "2023-03-31T07:15:02.208Z"
   },
   {
    "duration": 10122,
    "start_time": "2023-03-31T07:15:02.389Z"
   },
   {
    "duration": 35,
    "start_time": "2023-03-31T07:15:12.513Z"
   },
   {
    "duration": 1812,
    "start_time": "2023-03-31T07:15:12.549Z"
   },
   {
    "duration": 28,
    "start_time": "2023-03-31T07:15:14.363Z"
   },
   {
    "duration": 82,
    "start_time": "2023-03-31T07:15:14.422Z"
   },
   {
    "duration": 36,
    "start_time": "2023-03-31T07:15:14.506Z"
   },
   {
    "duration": 559,
    "start_time": "2023-03-31T07:15:14.544Z"
   },
   {
    "duration": 39,
    "start_time": "2023-03-31T07:15:15.105Z"
   },
   {
    "duration": 29,
    "start_time": "2023-03-31T07:15:15.147Z"
   },
   {
    "duration": 499,
    "start_time": "2023-03-31T07:15:15.178Z"
   },
   {
    "duration": 18,
    "start_time": "2023-03-31T07:15:15.680Z"
   },
   {
    "duration": 156,
    "start_time": "2023-03-31T07:15:15.700Z"
   },
   {
    "duration": 6,
    "start_time": "2023-03-31T07:15:15.858Z"
   },
   {
    "duration": 5,
    "start_time": "2023-03-31T07:15:15.866Z"
   },
   {
    "duration": 14,
    "start_time": "2023-03-31T07:15:15.873Z"
   },
   {
    "duration": 314,
    "start_time": "2023-03-31T07:15:15.889Z"
   },
   {
    "duration": 1615,
    "start_time": "2023-03-31T07:15:16.205Z"
   },
   {
    "duration": 5,
    "start_time": "2023-03-31T07:15:17.822Z"
   },
   {
    "duration": 29,
    "start_time": "2023-03-31T07:15:17.829Z"
   },
   {
    "duration": 16,
    "start_time": "2023-03-31T07:15:17.860Z"
   },
   {
    "duration": 15,
    "start_time": "2023-03-31T07:15:17.878Z"
   },
   {
    "duration": 28,
    "start_time": "2023-03-31T07:15:17.895Z"
   },
   {
    "duration": 256,
    "start_time": "2023-03-31T07:15:17.926Z"
   },
   {
    "duration": 987,
    "start_time": "2023-03-31T07:15:18.184Z"
   },
   {
    "duration": 6,
    "start_time": "2023-03-31T07:15:19.173Z"
   },
   {
    "duration": 44,
    "start_time": "2023-03-31T07:15:19.181Z"
   },
   {
    "duration": 4,
    "start_time": "2023-03-31T07:15:19.228Z"
   },
   {
    "duration": 12,
    "start_time": "2023-03-31T07:15:19.235Z"
   },
   {
    "duration": 22,
    "start_time": "2023-03-31T07:15:19.249Z"
   },
   {
    "duration": 303,
    "start_time": "2023-03-31T07:15:19.273Z"
   },
   {
    "duration": 838,
    "start_time": "2023-03-31T07:15:19.579Z"
   },
   {
    "duration": 12,
    "start_time": "2023-03-31T07:15:20.423Z"
   },
   {
    "duration": 14,
    "start_time": "2023-03-31T07:15:20.438Z"
   },
   {
    "duration": 1639,
    "start_time": "2023-03-31T07:15:20.454Z"
   },
   {
    "duration": 4,
    "start_time": "2023-03-31T07:15:22.094Z"
   },
   {
    "duration": 127,
    "start_time": "2023-03-31T07:15:22.100Z"
   },
   {
    "duration": 4,
    "start_time": "2023-03-31T07:15:22.229Z"
   },
   {
    "duration": 89,
    "start_time": "2023-03-31T07:15:22.239Z"
   },
   {
    "duration": 11,
    "start_time": "2023-03-31T07:15:22.330Z"
   },
   {
    "duration": 299,
    "start_time": "2023-03-31T07:15:22.343Z"
   },
   {
    "duration": 16,
    "start_time": "2023-03-31T07:15:22.644Z"
   },
   {
    "duration": 26,
    "start_time": "2023-03-31T07:15:22.662Z"
   },
   {
    "duration": 58,
    "start_time": "2023-03-31T07:15:22.690Z"
   },
   {
    "duration": 57,
    "start_time": "2023-03-31T07:15:22.750Z"
   },
   {
    "duration": 142,
    "start_time": "2023-03-31T07:15:22.809Z"
   },
   {
    "duration": 18,
    "start_time": "2023-03-31T07:15:22.953Z"
   },
   {
    "duration": 138,
    "start_time": "2023-03-31T07:15:22.973Z"
   },
   {
    "duration": 23,
    "start_time": "2023-03-31T07:15:23.113Z"
   },
   {
    "duration": 161,
    "start_time": "2023-03-31T07:15:23.138Z"
   },
   {
    "duration": 23,
    "start_time": "2023-03-31T07:15:23.301Z"
   },
   {
    "duration": 97,
    "start_time": "2023-03-31T07:15:23.326Z"
   },
   {
    "duration": 295,
    "start_time": "2023-03-31T07:15:23.425Z"
   },
   {
    "duration": 144,
    "start_time": "2023-03-31T07:15:23.722Z"
   },
   {
    "duration": 94,
    "start_time": "2023-03-31T07:15:23.868Z"
   },
   {
    "duration": 8,
    "start_time": "2023-03-31T07:15:23.964Z"
   },
   {
    "duration": 8,
    "start_time": "2023-03-31T07:15:23.974Z"
   },
   {
    "duration": 293,
    "start_time": "2023-03-31T07:15:23.984Z"
   },
   {
    "duration": 9,
    "start_time": "2023-03-31T07:26:28.506Z"
   },
   {
    "duration": 205,
    "start_time": "2023-03-31T07:26:29.325Z"
   },
   {
    "duration": 255,
    "start_time": "2023-03-31T07:27:39.700Z"
   },
   {
    "duration": 262,
    "start_time": "2023-03-31T07:27:52.283Z"
   },
   {
    "duration": 332,
    "start_time": "2023-03-31T07:28:32.883Z"
   },
   {
    "duration": 46,
    "start_time": "2023-03-31T07:30:27.580Z"
   },
   {
    "duration": 279,
    "start_time": "2023-03-31T07:30:32.921Z"
   },
   {
    "duration": 6,
    "start_time": "2023-03-31T07:34:59.323Z"
   },
   {
    "duration": 10,
    "start_time": "2023-03-31T07:35:04.589Z"
   },
   {
    "duration": 58,
    "start_time": "2023-03-31T07:35:42.697Z"
   },
   {
    "duration": 13,
    "start_time": "2023-03-31T07:35:47.758Z"
   },
   {
    "duration": 20,
    "start_time": "2023-03-31T07:36:38.760Z"
   },
   {
    "duration": 862,
    "start_time": "2023-03-31T07:36:56.949Z"
   },
   {
    "duration": 18,
    "start_time": "2023-03-31T07:37:29.151Z"
   },
   {
    "duration": 895,
    "start_time": "2023-03-31T07:38:00.295Z"
   },
   {
    "duration": 17,
    "start_time": "2023-03-31T07:38:20.573Z"
   },
   {
    "duration": 297,
    "start_time": "2023-03-31T07:39:09.589Z"
   },
   {
    "duration": 13,
    "start_time": "2023-03-31T07:39:45.409Z"
   },
   {
    "duration": 30,
    "start_time": "2023-03-31T07:41:20.332Z"
   },
   {
    "duration": 26,
    "start_time": "2023-03-31T07:42:33.536Z"
   },
   {
    "duration": 36,
    "start_time": "2023-03-31T07:43:34.805Z"
   },
   {
    "duration": 36,
    "start_time": "2023-03-31T07:44:28.594Z"
   },
   {
    "duration": 3,
    "start_time": "2023-03-31T07:45:11.551Z"
   },
   {
    "duration": 37,
    "start_time": "2023-03-31T07:45:12.490Z"
   },
   {
    "duration": 819,
    "start_time": "2023-03-31T07:46:06.908Z"
   },
   {
    "duration": 269,
    "start_time": "2023-03-31T07:46:21.294Z"
   },
   {
    "duration": 15,
    "start_time": "2023-03-31T07:52:04.442Z"
   },
   {
    "duration": 12,
    "start_time": "2023-03-31T07:52:25.077Z"
   },
   {
    "duration": 12,
    "start_time": "2023-03-31T07:53:19.134Z"
   },
   {
    "duration": 4,
    "start_time": "2023-03-31T07:53:48.937Z"
   },
   {
    "duration": 20,
    "start_time": "2023-03-31T07:54:53.034Z"
   },
   {
    "duration": 9,
    "start_time": "2023-03-31T07:54:59.224Z"
   },
   {
    "duration": 193,
    "start_time": "2023-03-31T07:55:01.688Z"
   },
   {
    "duration": 206,
    "start_time": "2023-03-31T07:55:36.441Z"
   },
   {
    "duration": 264,
    "start_time": "2023-03-31T07:56:31.040Z"
   },
   {
    "duration": 307,
    "start_time": "2023-03-31T07:56:52.079Z"
   },
   {
    "duration": 268,
    "start_time": "2023-03-31T07:57:15.351Z"
   },
   {
    "duration": 1769,
    "start_time": "2023-03-31T07:57:30.361Z"
   },
   {
    "duration": 3,
    "start_time": "2023-03-31T07:57:32.132Z"
   },
   {
    "duration": 21,
    "start_time": "2023-03-31T07:57:32.136Z"
   },
   {
    "duration": 122,
    "start_time": "2023-03-31T07:57:32.159Z"
   },
   {
    "duration": 2,
    "start_time": "2023-03-31T07:57:32.283Z"
   },
   {
    "duration": 25,
    "start_time": "2023-03-31T07:57:32.287Z"
   },
   {
    "duration": 15,
    "start_time": "2023-03-31T07:57:32.314Z"
   },
   {
    "duration": 6,
    "start_time": "2023-03-31T07:57:32.331Z"
   },
   {
    "duration": 14,
    "start_time": "2023-03-31T07:57:32.339Z"
   },
   {
    "duration": 17,
    "start_time": "2023-03-31T07:57:32.354Z"
   },
   {
    "duration": 9,
    "start_time": "2023-03-31T07:57:32.373Z"
   },
   {
    "duration": 16,
    "start_time": "2023-03-31T07:57:32.384Z"
   },
   {
    "duration": 4,
    "start_time": "2023-03-31T07:57:32.424Z"
   },
   {
    "duration": 20,
    "start_time": "2023-03-31T07:57:32.431Z"
   },
   {
    "duration": 7,
    "start_time": "2023-03-31T07:57:32.453Z"
   },
   {
    "duration": 14,
    "start_time": "2023-03-31T07:57:32.462Z"
   },
   {
    "duration": 250,
    "start_time": "2023-03-31T07:57:32.477Z"
   },
   {
    "duration": 191,
    "start_time": "2023-03-31T07:57:32.729Z"
   },
   {
    "duration": 13,
    "start_time": "2023-03-31T07:57:32.924Z"
   },
   {
    "duration": 343,
    "start_time": "2023-03-31T07:57:32.940Z"
   },
   {
    "duration": 284,
    "start_time": "2023-03-31T07:57:33.285Z"
   },
   {
    "duration": 2,
    "start_time": "2023-03-31T07:57:33.571Z"
   },
   {
    "duration": 283,
    "start_time": "2023-03-31T07:57:33.575Z"
   },
   {
    "duration": 5,
    "start_time": "2023-03-31T07:57:33.860Z"
   },
   {
    "duration": 15,
    "start_time": "2023-03-31T07:57:33.867Z"
   },
   {
    "duration": 128,
    "start_time": "2023-03-31T07:57:33.884Z"
   },
   {
    "duration": 3,
    "start_time": "2023-03-31T07:57:34.023Z"
   },
   {
    "duration": 65,
    "start_time": "2023-03-31T07:57:34.028Z"
   },
   {
    "duration": 183,
    "start_time": "2023-03-31T07:57:34.095Z"
   },
   {
    "duration": 3,
    "start_time": "2023-03-31T07:57:34.280Z"
   },
   {
    "duration": 23,
    "start_time": "2023-03-31T07:57:34.285Z"
   },
   {
    "duration": 19,
    "start_time": "2023-03-31T07:57:34.309Z"
   },
   {
    "duration": 282,
    "start_time": "2023-03-31T07:57:34.330Z"
   },
   {
    "duration": 28,
    "start_time": "2023-03-31T07:57:34.614Z"
   },
   {
    "duration": 6,
    "start_time": "2023-03-31T07:57:34.644Z"
   },
   {
    "duration": 8,
    "start_time": "2023-03-31T07:57:34.652Z"
   },
   {
    "duration": 1085,
    "start_time": "2023-03-31T07:57:34.663Z"
   },
   {
    "duration": 8,
    "start_time": "2023-03-31T07:57:35.750Z"
   },
   {
    "duration": 436,
    "start_time": "2023-03-31T07:57:35.760Z"
   },
   {
    "duration": 40,
    "start_time": "2023-03-31T07:57:36.198Z"
   },
   {
    "duration": 383,
    "start_time": "2023-03-31T07:57:36.243Z"
   },
   {
    "duration": 8,
    "start_time": "2023-03-31T07:57:36.628Z"
   },
   {
    "duration": 230,
    "start_time": "2023-03-31T07:57:36.638Z"
   },
   {
    "duration": 33,
    "start_time": "2023-03-31T07:57:36.870Z"
   },
   {
    "duration": 862,
    "start_time": "2023-03-31T07:57:36.906Z"
   },
   {
    "duration": 18,
    "start_time": "2023-03-31T07:57:37.770Z"
   },
   {
    "duration": 153,
    "start_time": "2023-03-31T07:57:37.789Z"
   },
   {
    "duration": 10349,
    "start_time": "2023-03-31T07:57:37.945Z"
   },
   {
    "duration": 50,
    "start_time": "2023-03-31T07:57:48.297Z"
   },
   {
    "duration": 1598,
    "start_time": "2023-03-31T07:57:48.349Z"
   },
   {
    "duration": 75,
    "start_time": "2023-03-31T07:57:49.949Z"
   },
   {
    "duration": 81,
    "start_time": "2023-03-31T07:57:50.026Z"
   },
   {
    "duration": 21,
    "start_time": "2023-03-31T07:57:50.124Z"
   },
   {
    "duration": 660,
    "start_time": "2023-03-31T07:57:50.147Z"
   },
   {
    "duration": 33,
    "start_time": "2023-03-31T07:57:50.809Z"
   },
   {
    "duration": 29,
    "start_time": "2023-03-31T07:57:50.844Z"
   },
   {
    "duration": 509,
    "start_time": "2023-03-31T07:57:50.875Z"
   },
   {
    "duration": 19,
    "start_time": "2023-03-31T07:57:51.386Z"
   },
   {
    "duration": 148,
    "start_time": "2023-03-31T07:57:51.407Z"
   },
   {
    "duration": 6,
    "start_time": "2023-03-31T07:57:51.557Z"
   },
   {
    "duration": 16,
    "start_time": "2023-03-31T07:57:51.564Z"
   },
   {
    "duration": 19,
    "start_time": "2023-03-31T07:57:51.582Z"
   },
   {
    "duration": 304,
    "start_time": "2023-03-31T07:57:51.603Z"
   },
   {
    "duration": 1921,
    "start_time": "2023-03-31T07:57:51.909Z"
   },
   {
    "duration": 5,
    "start_time": "2023-03-31T07:57:53.832Z"
   },
   {
    "duration": 40,
    "start_time": "2023-03-31T07:57:53.839Z"
   },
   {
    "duration": 14,
    "start_time": "2023-03-31T07:57:53.881Z"
   },
   {
    "duration": 25,
    "start_time": "2023-03-31T07:57:53.898Z"
   },
   {
    "duration": 13,
    "start_time": "2023-03-31T07:57:53.925Z"
   },
   {
    "duration": 284,
    "start_time": "2023-03-31T07:57:53.939Z"
   },
   {
    "duration": 799,
    "start_time": "2023-03-31T07:57:54.225Z"
   },
   {
    "duration": 5,
    "start_time": "2023-03-31T07:57:55.025Z"
   },
   {
    "duration": 36,
    "start_time": "2023-03-31T07:57:55.031Z"
   },
   {
    "duration": 8,
    "start_time": "2023-03-31T07:57:55.069Z"
   },
   {
    "duration": 20,
    "start_time": "2023-03-31T07:57:55.079Z"
   },
   {
    "duration": 22,
    "start_time": "2023-03-31T07:57:55.101Z"
   },
   {
    "duration": 322,
    "start_time": "2023-03-31T07:57:55.125Z"
   },
   {
    "duration": 842,
    "start_time": "2023-03-31T07:57:55.449Z"
   },
   {
    "duration": 10,
    "start_time": "2023-03-31T07:57:56.293Z"
   },
   {
    "duration": 30,
    "start_time": "2023-03-31T07:57:56.305Z"
   },
   {
    "duration": 1576,
    "start_time": "2023-03-31T07:57:56.337Z"
   },
   {
    "duration": 9,
    "start_time": "2023-03-31T07:57:57.915Z"
   },
   {
    "duration": 119,
    "start_time": "2023-03-31T07:57:57.926Z"
   },
   {
    "duration": 4,
    "start_time": "2023-03-31T07:57:58.047Z"
   },
   {
    "duration": 86,
    "start_time": "2023-03-31T07:57:58.053Z"
   },
   {
    "duration": 10,
    "start_time": "2023-03-31T07:57:58.141Z"
   },
   {
    "duration": 302,
    "start_time": "2023-03-31T07:57:58.153Z"
   },
   {
    "duration": 17,
    "start_time": "2023-03-31T07:57:58.457Z"
   },
   {
    "duration": 36,
    "start_time": "2023-03-31T07:57:58.476Z"
   },
   {
    "duration": 25,
    "start_time": "2023-03-31T07:57:58.514Z"
   },
   {
    "duration": 38,
    "start_time": "2023-03-31T07:57:58.541Z"
   },
   {
    "duration": 166,
    "start_time": "2023-03-31T07:57:58.583Z"
   },
   {
    "duration": 18,
    "start_time": "2023-03-31T07:57:58.751Z"
   },
   {
    "duration": 140,
    "start_time": "2023-03-31T07:57:58.771Z"
   },
   {
    "duration": 22,
    "start_time": "2023-03-31T07:57:58.913Z"
   },
   {
    "duration": 158,
    "start_time": "2023-03-31T07:57:58.937Z"
   },
   {
    "duration": 9,
    "start_time": "2023-03-31T07:57:59.097Z"
   },
   {
    "duration": 115,
    "start_time": "2023-03-31T07:57:59.108Z"
   },
   {
    "duration": 303,
    "start_time": "2023-03-31T07:57:59.226Z"
   },
   {
    "duration": 432,
    "start_time": "2023-03-31T07:57:59.531Z"
   },
   {
    "duration": 98,
    "start_time": "2023-03-31T07:57:59.965Z"
   },
   {
    "duration": 9,
    "start_time": "2023-03-31T07:58:00.065Z"
   },
   {
    "duration": 19,
    "start_time": "2023-03-31T07:58:00.075Z"
   },
   {
    "duration": 350,
    "start_time": "2023-03-31T07:58:00.096Z"
   },
   {
    "duration": 11,
    "start_time": "2023-03-31T07:59:17.624Z"
   },
   {
    "duration": 16,
    "start_time": "2023-03-31T08:00:06.924Z"
   },
   {
    "duration": 184,
    "start_time": "2023-03-31T08:00:53.169Z"
   },
   {
    "duration": 11,
    "start_time": "2023-03-31T08:01:52.434Z"
   },
   {
    "duration": 1915,
    "start_time": "2023-03-31T09:03:05.302Z"
   },
   {
    "duration": 4,
    "start_time": "2023-03-31T09:03:07.219Z"
   },
   {
    "duration": 7,
    "start_time": "2023-03-31T09:03:07.224Z"
   },
   {
    "duration": 155,
    "start_time": "2023-03-31T09:03:07.232Z"
   },
   {
    "duration": 3,
    "start_time": "2023-03-31T09:03:07.389Z"
   },
   {
    "duration": 24,
    "start_time": "2023-03-31T09:03:07.394Z"
   },
   {
    "duration": 16,
    "start_time": "2023-03-31T09:03:07.420Z"
   },
   {
    "duration": 5,
    "start_time": "2023-03-31T09:03:07.437Z"
   },
   {
    "duration": 10,
    "start_time": "2023-03-31T09:03:07.444Z"
   },
   {
    "duration": 18,
    "start_time": "2023-03-31T09:03:07.456Z"
   },
   {
    "duration": 10,
    "start_time": "2023-03-31T09:03:07.503Z"
   },
   {
    "duration": 28,
    "start_time": "2023-03-31T09:03:07.515Z"
   },
   {
    "duration": 5,
    "start_time": "2023-03-31T09:03:07.545Z"
   },
   {
    "duration": 22,
    "start_time": "2023-03-31T09:03:07.553Z"
   },
   {
    "duration": 4,
    "start_time": "2023-03-31T09:03:07.577Z"
   },
   {
    "duration": 10,
    "start_time": "2023-03-31T09:03:07.604Z"
   },
   {
    "duration": 239,
    "start_time": "2023-03-31T09:03:07.616Z"
   },
   {
    "duration": 198,
    "start_time": "2023-03-31T09:03:07.858Z"
   },
   {
    "duration": 19,
    "start_time": "2023-03-31T09:03:08.058Z"
   },
   {
    "duration": 3,
    "start_time": "2023-03-31T09:03:08.080Z"
   },
   {
    "duration": 357,
    "start_time": "2023-03-31T09:03:08.084Z"
   },
   {
    "duration": 2,
    "start_time": "2023-03-31T09:03:08.444Z"
   },
   {
    "duration": 288,
    "start_time": "2023-03-31T09:03:08.448Z"
   },
   {
    "duration": 5,
    "start_time": "2023-03-31T09:03:08.738Z"
   },
   {
    "duration": 15,
    "start_time": "2023-03-31T09:03:08.744Z"
   },
   {
    "duration": 151,
    "start_time": "2023-03-31T09:03:08.761Z"
   },
   {
    "duration": 3,
    "start_time": "2023-03-31T09:03:08.914Z"
   },
   {
    "duration": 43,
    "start_time": "2023-03-31T09:03:08.919Z"
   },
   {
    "duration": 194,
    "start_time": "2023-03-31T09:03:08.963Z"
   },
   {
    "duration": 3,
    "start_time": "2023-03-31T09:03:09.159Z"
   },
   {
    "duration": 8,
    "start_time": "2023-03-31T09:03:09.163Z"
   },
   {
    "duration": 10,
    "start_time": "2023-03-31T09:03:09.173Z"
   },
   {
    "duration": 302,
    "start_time": "2023-03-31T09:03:09.185Z"
   },
   {
    "duration": 31,
    "start_time": "2023-03-31T09:03:09.490Z"
   },
   {
    "duration": 6,
    "start_time": "2023-03-31T09:03:09.522Z"
   },
   {
    "duration": 8,
    "start_time": "2023-03-31T09:03:09.530Z"
   },
   {
    "duration": 1087,
    "start_time": "2023-03-31T09:03:09.539Z"
   },
   {
    "duration": 10,
    "start_time": "2023-03-31T09:03:10.628Z"
   },
   {
    "duration": 457,
    "start_time": "2023-03-31T09:03:10.640Z"
   },
   {
    "duration": 34,
    "start_time": "2023-03-31T09:03:11.103Z"
   },
   {
    "duration": 292,
    "start_time": "2023-03-31T09:03:11.145Z"
   },
   {
    "duration": 9,
    "start_time": "2023-03-31T09:03:11.439Z"
   },
   {
    "duration": 235,
    "start_time": "2023-03-31T09:03:11.450Z"
   },
   {
    "duration": 36,
    "start_time": "2023-03-31T09:03:11.687Z"
   },
   {
    "duration": 1065,
    "start_time": "2023-03-31T09:03:11.724Z"
   },
   {
    "duration": 24,
    "start_time": "2023-03-31T09:03:12.791Z"
   },
   {
    "duration": 143,
    "start_time": "2023-03-31T09:03:12.816Z"
   },
   {
    "duration": 10479,
    "start_time": "2023-03-31T09:03:12.961Z"
   },
   {
    "duration": 66,
    "start_time": "2023-03-31T09:03:23.442Z"
   },
   {
    "duration": 1887,
    "start_time": "2023-03-31T09:03:23.510Z"
   },
   {
    "duration": 41,
    "start_time": "2023-03-31T09:03:25.404Z"
   },
   {
    "duration": 138,
    "start_time": "2023-03-31T09:03:25.447Z"
   },
   {
    "duration": 31,
    "start_time": "2023-03-31T09:03:25.587Z"
   },
   {
    "duration": 585,
    "start_time": "2023-03-31T09:03:25.621Z"
   },
   {
    "duration": 46,
    "start_time": "2023-03-31T09:03:26.209Z"
   },
   {
    "duration": 59,
    "start_time": "2023-03-31T09:03:26.257Z"
   },
   {
    "duration": 487,
    "start_time": "2023-03-31T09:03:26.318Z"
   },
   {
    "duration": 16,
    "start_time": "2023-03-31T09:03:26.807Z"
   },
   {
    "duration": 136,
    "start_time": "2023-03-31T09:03:26.826Z"
   },
   {
    "duration": 7,
    "start_time": "2023-03-31T09:03:26.964Z"
   },
   {
    "duration": 6,
    "start_time": "2023-03-31T09:03:26.974Z"
   },
   {
    "duration": 31,
    "start_time": "2023-03-31T09:03:26.982Z"
   },
   {
    "duration": 318,
    "start_time": "2023-03-31T09:03:27.015Z"
   },
   {
    "duration": 1659,
    "start_time": "2023-03-31T09:03:27.336Z"
   },
   {
    "duration": 7,
    "start_time": "2023-03-31T09:03:28.997Z"
   },
   {
    "duration": 17,
    "start_time": "2023-03-31T09:03:29.006Z"
   },
   {
    "duration": 17,
    "start_time": "2023-03-31T09:03:29.025Z"
   },
   {
    "duration": 24,
    "start_time": "2023-03-31T09:03:29.044Z"
   },
   {
    "duration": 41,
    "start_time": "2023-03-31T09:03:29.070Z"
   },
   {
    "duration": 276,
    "start_time": "2023-03-31T09:03:29.113Z"
   },
   {
    "duration": 1008,
    "start_time": "2023-03-31T09:03:29.391Z"
   },
   {
    "duration": 6,
    "start_time": "2023-03-31T09:03:30.403Z"
   },
   {
    "duration": 77,
    "start_time": "2023-03-31T09:03:30.411Z"
   },
   {
    "duration": 49,
    "start_time": "2023-03-31T09:03:30.490Z"
   },
   {
    "duration": 38,
    "start_time": "2023-03-31T09:03:30.541Z"
   },
   {
    "duration": 68,
    "start_time": "2023-03-31T09:03:30.581Z"
   },
   {
    "duration": 383,
    "start_time": "2023-03-31T09:03:30.652Z"
   },
   {
    "duration": 851,
    "start_time": "2023-03-31T09:03:31.037Z"
   },
   {
    "duration": 19,
    "start_time": "2023-03-31T09:03:31.890Z"
   },
   {
    "duration": 62,
    "start_time": "2023-03-31T09:03:31.911Z"
   },
   {
    "duration": 1627,
    "start_time": "2023-03-31T09:03:31.976Z"
   },
   {
    "duration": 4,
    "start_time": "2023-03-31T09:03:33.605Z"
   },
   {
    "duration": 117,
    "start_time": "2023-03-31T09:03:33.612Z"
   },
   {
    "duration": 4,
    "start_time": "2023-03-31T09:03:33.732Z"
   },
   {
    "duration": 106,
    "start_time": "2023-03-31T09:03:33.739Z"
   },
   {
    "duration": 11,
    "start_time": "2023-03-31T09:03:33.847Z"
   },
   {
    "duration": 309,
    "start_time": "2023-03-31T09:03:33.860Z"
   },
   {
    "duration": 17,
    "start_time": "2023-03-31T09:03:34.171Z"
   },
   {
    "duration": 17,
    "start_time": "2023-03-31T09:03:34.204Z"
   },
   {
    "duration": 36,
    "start_time": "2023-03-31T09:03:34.223Z"
   },
   {
    "duration": 53,
    "start_time": "2023-03-31T09:03:34.261Z"
   },
   {
    "duration": 219,
    "start_time": "2023-03-31T09:03:34.317Z"
   },
   {
    "duration": 23,
    "start_time": "2023-03-31T09:03:34.537Z"
   },
   {
    "duration": 157,
    "start_time": "2023-03-31T09:03:34.562Z"
   },
   {
    "duration": 21,
    "start_time": "2023-03-31T09:03:34.721Z"
   },
   {
    "duration": 171,
    "start_time": "2023-03-31T09:03:34.744Z"
   },
   {
    "duration": 10,
    "start_time": "2023-03-31T09:03:34.918Z"
   },
   {
    "duration": 103,
    "start_time": "2023-03-31T09:03:34.930Z"
   },
   {
    "duration": 329,
    "start_time": "2023-03-31T09:03:35.035Z"
   },
   {
    "duration": 155,
    "start_time": "2023-03-31T09:03:35.366Z"
   },
   {
    "duration": 113,
    "start_time": "2023-03-31T09:03:35.523Z"
   },
   {
    "duration": 11,
    "start_time": "2023-03-31T09:03:35.638Z"
   },
   {
    "duration": 38,
    "start_time": "2023-03-31T09:03:35.651Z"
   },
   {
    "duration": 307,
    "start_time": "2023-03-31T09:03:35.691Z"
   },
   {
    "duration": 1582,
    "start_time": "2023-03-31T09:33:48.350Z"
   },
   {
    "duration": 3,
    "start_time": "2023-03-31T09:33:49.934Z"
   },
   {
    "duration": 9,
    "start_time": "2023-03-31T09:33:49.938Z"
   },
   {
    "duration": 107,
    "start_time": "2023-03-31T09:33:49.949Z"
   },
   {
    "duration": 3,
    "start_time": "2023-03-31T09:33:50.058Z"
   },
   {
    "duration": 46,
    "start_time": "2023-03-31T09:33:50.063Z"
   },
   {
    "duration": 18,
    "start_time": "2023-03-31T09:33:50.114Z"
   },
   {
    "duration": 19,
    "start_time": "2023-03-31T09:33:50.134Z"
   },
   {
    "duration": 22,
    "start_time": "2023-03-31T09:33:50.155Z"
   },
   {
    "duration": 33,
    "start_time": "2023-03-31T09:33:50.180Z"
   },
   {
    "duration": 9,
    "start_time": "2023-03-31T09:33:50.216Z"
   },
   {
    "duration": 42,
    "start_time": "2023-03-31T09:33:50.227Z"
   },
   {
    "duration": 5,
    "start_time": "2023-03-31T09:33:50.272Z"
   },
   {
    "duration": 41,
    "start_time": "2023-03-31T09:33:50.279Z"
   },
   {
    "duration": 22,
    "start_time": "2023-03-31T09:33:50.322Z"
   },
   {
    "duration": 16,
    "start_time": "2023-03-31T09:33:50.347Z"
   },
   {
    "duration": 244,
    "start_time": "2023-03-31T09:33:50.364Z"
   },
   {
    "duration": 173,
    "start_time": "2023-03-31T09:33:50.610Z"
   },
   {
    "duration": 27,
    "start_time": "2023-03-31T09:33:50.785Z"
   },
   {
    "duration": 3,
    "start_time": "2023-03-31T09:33:50.819Z"
   },
   {
    "duration": 343,
    "start_time": "2023-03-31T09:33:50.824Z"
   },
   {
    "duration": 3,
    "start_time": "2023-03-31T09:33:51.175Z"
   },
   {
    "duration": 284,
    "start_time": "2023-03-31T09:33:51.179Z"
   },
   {
    "duration": 5,
    "start_time": "2023-03-31T09:33:51.465Z"
   },
   {
    "duration": 17,
    "start_time": "2023-03-31T09:33:51.472Z"
   },
   {
    "duration": 122,
    "start_time": "2023-03-31T09:33:51.518Z"
   },
   {
    "duration": 3,
    "start_time": "2023-03-31T09:33:51.642Z"
   },
   {
    "duration": 60,
    "start_time": "2023-03-31T09:33:51.651Z"
   },
   {
    "duration": 228,
    "start_time": "2023-03-31T09:33:51.714Z"
   },
   {
    "duration": 3,
    "start_time": "2023-03-31T09:33:51.944Z"
   },
   {
    "duration": 22,
    "start_time": "2023-03-31T09:33:51.949Z"
   },
   {
    "duration": 11,
    "start_time": "2023-03-31T09:33:51.974Z"
   },
   {
    "duration": 323,
    "start_time": "2023-03-31T09:33:52.005Z"
   },
   {
    "duration": 22,
    "start_time": "2023-03-31T09:33:52.330Z"
   },
   {
    "duration": 6,
    "start_time": "2023-03-31T09:33:52.353Z"
   },
   {
    "duration": 11,
    "start_time": "2023-03-31T09:33:52.361Z"
   },
   {
    "duration": 1077,
    "start_time": "2023-03-31T09:33:52.374Z"
   },
   {
    "duration": 8,
    "start_time": "2023-03-31T09:33:53.453Z"
   },
   {
    "duration": 474,
    "start_time": "2023-03-31T09:33:53.462Z"
   },
   {
    "duration": 27,
    "start_time": "2023-03-31T09:33:53.938Z"
   },
   {
    "duration": 290,
    "start_time": "2023-03-31T09:33:53.967Z"
   },
   {
    "duration": 8,
    "start_time": "2023-03-31T09:33:54.259Z"
   },
   {
    "duration": 219,
    "start_time": "2023-03-31T09:33:54.269Z"
   },
   {
    "duration": 38,
    "start_time": "2023-03-31T09:33:54.489Z"
   },
   {
    "duration": 1025,
    "start_time": "2023-03-31T09:33:54.528Z"
   },
   {
    "duration": 18,
    "start_time": "2023-03-31T09:33:55.555Z"
   },
   {
    "duration": 155,
    "start_time": "2023-03-31T09:33:55.575Z"
   },
   {
    "duration": 10732,
    "start_time": "2023-03-31T09:33:55.732Z"
   },
   {
    "duration": 67,
    "start_time": "2023-03-31T09:34:06.466Z"
   },
   {
    "duration": 1829,
    "start_time": "2023-03-31T09:34:06.535Z"
   },
   {
    "duration": 44,
    "start_time": "2023-03-31T09:34:08.366Z"
   },
   {
    "duration": 108,
    "start_time": "2023-03-31T09:34:08.412Z"
   },
   {
    "duration": 23,
    "start_time": "2023-03-31T09:34:08.522Z"
   },
   {
    "duration": 550,
    "start_time": "2023-03-31T09:34:08.547Z"
   },
   {
    "duration": 28,
    "start_time": "2023-03-31T09:34:09.103Z"
   },
   {
    "duration": 39,
    "start_time": "2023-03-31T09:34:09.133Z"
   },
   {
    "duration": 489,
    "start_time": "2023-03-31T09:34:09.174Z"
   },
   {
    "duration": 18,
    "start_time": "2023-03-31T09:34:09.665Z"
   },
   {
    "duration": 156,
    "start_time": "2023-03-31T09:34:09.685Z"
   },
   {
    "duration": 5,
    "start_time": "2023-03-31T09:34:09.843Z"
   },
   {
    "duration": 5,
    "start_time": "2023-03-31T09:34:09.850Z"
   },
   {
    "duration": 12,
    "start_time": "2023-03-31T09:34:09.857Z"
   },
   {
    "duration": 324,
    "start_time": "2023-03-31T09:34:09.870Z"
   },
   {
    "duration": 1667,
    "start_time": "2023-03-31T09:34:10.196Z"
   },
   {
    "duration": 6,
    "start_time": "2023-03-31T09:34:11.865Z"
   },
   {
    "duration": 39,
    "start_time": "2023-03-31T09:34:11.873Z"
   },
   {
    "duration": 11,
    "start_time": "2023-03-31T09:34:11.913Z"
   },
   {
    "duration": 9,
    "start_time": "2023-03-31T09:34:11.927Z"
   },
   {
    "duration": 16,
    "start_time": "2023-03-31T09:34:11.938Z"
   },
   {
    "duration": 320,
    "start_time": "2023-03-31T09:34:11.957Z"
   },
   {
    "duration": 983,
    "start_time": "2023-03-31T09:34:12.279Z"
   },
   {
    "duration": 4,
    "start_time": "2023-03-31T09:34:13.264Z"
   },
   {
    "duration": 34,
    "start_time": "2023-03-31T09:34:13.270Z"
   },
   {
    "duration": 4,
    "start_time": "2023-03-31T09:34:13.306Z"
   },
   {
    "duration": 17,
    "start_time": "2023-03-31T09:34:13.312Z"
   },
   {
    "duration": 21,
    "start_time": "2023-03-31T09:34:13.332Z"
   },
   {
    "duration": 299,
    "start_time": "2023-03-31T09:34:13.355Z"
   },
   {
    "duration": 797,
    "start_time": "2023-03-31T09:34:13.656Z"
   },
   {
    "duration": 9,
    "start_time": "2023-03-31T09:34:14.455Z"
   },
   {
    "duration": 7,
    "start_time": "2023-03-31T09:34:14.466Z"
   },
   {
    "duration": 1568,
    "start_time": "2023-03-31T09:34:14.475Z"
   },
   {
    "duration": 5,
    "start_time": "2023-03-31T09:34:16.050Z"
   },
   {
    "duration": 121,
    "start_time": "2023-03-31T09:34:16.057Z"
   },
   {
    "duration": 5,
    "start_time": "2023-03-31T09:34:16.180Z"
   },
   {
    "duration": 104,
    "start_time": "2023-03-31T09:34:16.204Z"
   },
   {
    "duration": 14,
    "start_time": "2023-03-31T09:34:16.310Z"
   },
   {
    "duration": 302,
    "start_time": "2023-03-31T09:34:16.326Z"
   },
   {
    "duration": 16,
    "start_time": "2023-03-31T09:34:16.630Z"
   },
   {
    "duration": 15,
    "start_time": "2023-03-31T09:34:16.648Z"
   },
   {
    "duration": 39,
    "start_time": "2023-03-31T09:34:16.665Z"
   },
   {
    "duration": 16,
    "start_time": "2023-03-31T09:34:16.706Z"
   },
   {
    "duration": 143,
    "start_time": "2023-03-31T09:34:16.723Z"
   },
   {
    "duration": 16,
    "start_time": "2023-03-31T09:34:16.868Z"
   },
   {
    "duration": 142,
    "start_time": "2023-03-31T09:34:16.902Z"
   },
   {
    "duration": 23,
    "start_time": "2023-03-31T09:34:17.046Z"
   },
   {
    "duration": 171,
    "start_time": "2023-03-31T09:34:17.071Z"
   },
   {
    "duration": 13,
    "start_time": "2023-03-31T09:34:17.244Z"
   },
   {
    "duration": 108,
    "start_time": "2023-03-31T09:34:17.259Z"
   },
   {
    "duration": 310,
    "start_time": "2023-03-31T09:34:17.369Z"
   },
   {
    "duration": 153,
    "start_time": "2023-03-31T09:34:17.681Z"
   },
   {
    "duration": 116,
    "start_time": "2023-03-31T09:34:17.836Z"
   },
   {
    "duration": 10,
    "start_time": "2023-03-31T09:34:17.954Z"
   },
   {
    "duration": 5,
    "start_time": "2023-03-31T09:34:17.966Z"
   },
   {
    "duration": 308,
    "start_time": "2023-03-31T09:34:17.973Z"
   },
   {
    "duration": 1880,
    "start_time": "2023-03-31T10:47:37.904Z"
   },
   {
    "duration": 4,
    "start_time": "2023-03-31T10:47:39.786Z"
   },
   {
    "duration": 15,
    "start_time": "2023-03-31T10:47:39.793Z"
   },
   {
    "duration": 337,
    "start_time": "2023-03-31T10:47:39.810Z"
   },
   {
    "duration": 3,
    "start_time": "2023-03-31T10:47:40.150Z"
   },
   {
    "duration": 33,
    "start_time": "2023-03-31T10:47:40.155Z"
   },
   {
    "duration": 21,
    "start_time": "2023-03-31T10:47:40.196Z"
   },
   {
    "duration": 4,
    "start_time": "2023-03-31T10:47:40.219Z"
   },
   {
    "duration": 8,
    "start_time": "2023-03-31T10:47:40.225Z"
   },
   {
    "duration": 18,
    "start_time": "2023-03-31T10:47:40.235Z"
   },
   {
    "duration": 42,
    "start_time": "2023-03-31T10:47:40.255Z"
   },
   {
    "duration": 20,
    "start_time": "2023-03-31T10:47:40.302Z"
   },
   {
    "duration": 6,
    "start_time": "2023-03-31T10:47:40.323Z"
   },
   {
    "duration": 23,
    "start_time": "2023-03-31T10:47:40.332Z"
   },
   {
    "duration": 10,
    "start_time": "2023-03-31T10:47:40.358Z"
   },
   {
    "duration": 40,
    "start_time": "2023-03-31T10:47:40.372Z"
   },
   {
    "duration": 283,
    "start_time": "2023-03-31T10:47:40.414Z"
   },
   {
    "duration": 212,
    "start_time": "2023-03-31T10:47:40.702Z"
   },
   {
    "duration": 13,
    "start_time": "2023-03-31T10:47:40.916Z"
   },
   {
    "duration": 4,
    "start_time": "2023-03-31T10:47:40.931Z"
   },
   {
    "duration": 408,
    "start_time": "2023-03-31T10:47:40.937Z"
   },
   {
    "duration": 4,
    "start_time": "2023-03-31T10:47:41.348Z"
   },
   {
    "duration": 299,
    "start_time": "2023-03-31T10:47:41.353Z"
   },
   {
    "duration": 5,
    "start_time": "2023-03-31T10:47:41.653Z"
   },
   {
    "duration": 31,
    "start_time": "2023-03-31T10:47:41.661Z"
   },
   {
    "duration": 128,
    "start_time": "2023-03-31T10:47:41.698Z"
   },
   {
    "duration": 3,
    "start_time": "2023-03-31T10:47:41.828Z"
   },
   {
    "duration": 45,
    "start_time": "2023-03-31T10:47:41.833Z"
   },
   {
    "duration": 220,
    "start_time": "2023-03-31T10:47:41.880Z"
   },
   {
    "duration": 3,
    "start_time": "2023-03-31T10:47:42.106Z"
   },
   {
    "duration": 99,
    "start_time": "2023-03-31T10:47:42.111Z"
   },
   {
    "duration": 22,
    "start_time": "2023-03-31T10:47:42.212Z"
   },
   {
    "duration": 265,
    "start_time": "2023-03-31T10:47:42.236Z"
   },
   {
    "duration": 21,
    "start_time": "2023-03-31T10:47:42.504Z"
   },
   {
    "duration": 6,
    "start_time": "2023-03-31T10:47:42.527Z"
   },
   {
    "duration": 34,
    "start_time": "2023-03-31T10:47:42.535Z"
   },
   {
    "duration": 1082,
    "start_time": "2023-03-31T10:47:42.571Z"
   },
   {
    "duration": 8,
    "start_time": "2023-03-31T10:47:43.655Z"
   },
   {
    "duration": 510,
    "start_time": "2023-03-31T10:47:43.665Z"
   },
   {
    "duration": 38,
    "start_time": "2023-03-31T10:47:44.177Z"
   },
   {
    "duration": 298,
    "start_time": "2023-03-31T10:47:44.221Z"
   },
   {
    "duration": 11,
    "start_time": "2023-03-31T10:47:44.520Z"
   },
   {
    "duration": 219,
    "start_time": "2023-03-31T10:47:44.533Z"
   },
   {
    "duration": 41,
    "start_time": "2023-03-31T10:47:44.754Z"
   },
   {
    "duration": 1042,
    "start_time": "2023-03-31T10:47:44.804Z"
   },
   {
    "duration": 19,
    "start_time": "2023-03-31T10:47:45.848Z"
   },
   {
    "duration": 1206,
    "start_time": "2023-03-31T10:47:45.869Z"
   },
   {
    "duration": 10822,
    "start_time": "2023-03-31T10:47:47.077Z"
   },
   {
    "duration": 85,
    "start_time": "2023-03-31T10:47:57.901Z"
   },
   {
    "duration": 1986,
    "start_time": "2023-03-31T10:47:57.989Z"
   },
   {
    "duration": 40,
    "start_time": "2023-03-31T10:47:59.977Z"
   },
   {
    "duration": 130,
    "start_time": "2023-03-31T10:48:00.020Z"
   },
   {
    "duration": 46,
    "start_time": "2023-03-31T10:48:00.153Z"
   },
   {
    "duration": 666,
    "start_time": "2023-03-31T10:48:00.201Z"
   },
   {
    "duration": 54,
    "start_time": "2023-03-31T10:48:00.868Z"
   },
   {
    "duration": 43,
    "start_time": "2023-03-31T10:48:00.926Z"
   },
   {
    "duration": 578,
    "start_time": "2023-03-31T10:48:00.971Z"
   },
   {
    "duration": 17,
    "start_time": "2023-03-31T10:48:01.551Z"
   },
   {
    "duration": 203,
    "start_time": "2023-03-31T10:48:01.570Z"
   },
   {
    "duration": 19,
    "start_time": "2023-03-31T10:48:01.775Z"
   },
   {
    "duration": 116,
    "start_time": "2023-03-31T10:48:01.796Z"
   },
   {
    "duration": 58,
    "start_time": "2023-03-31T10:48:01.914Z"
   },
   {
    "duration": 427,
    "start_time": "2023-03-31T10:48:01.974Z"
   },
   {
    "duration": 1757,
    "start_time": "2023-03-31T10:48:02.406Z"
   },
   {
    "duration": 5,
    "start_time": "2023-03-31T10:48:04.165Z"
   },
   {
    "duration": 36,
    "start_time": "2023-03-31T10:48:04.171Z"
   },
   {
    "duration": 23,
    "start_time": "2023-03-31T10:48:04.208Z"
   },
   {
    "duration": 12,
    "start_time": "2023-03-31T10:48:04.233Z"
   },
   {
    "duration": 46,
    "start_time": "2023-03-31T10:48:04.247Z"
   },
   {
    "duration": 311,
    "start_time": "2023-03-31T10:48:04.301Z"
   },
   {
    "duration": 1149,
    "start_time": "2023-03-31T10:48:04.615Z"
   },
   {
    "duration": 6,
    "start_time": "2023-03-31T10:48:05.766Z"
   },
   {
    "duration": 32,
    "start_time": "2023-03-31T10:48:05.787Z"
   },
   {
    "duration": 5,
    "start_time": "2023-03-31T10:48:05.821Z"
   },
   {
    "duration": 20,
    "start_time": "2023-03-31T10:48:05.828Z"
   },
   {
    "duration": 21,
    "start_time": "2023-03-31T10:48:05.850Z"
   },
   {
    "duration": 341,
    "start_time": "2023-03-31T10:48:05.873Z"
   },
   {
    "duration": 856,
    "start_time": "2023-03-31T10:48:06.216Z"
   },
   {
    "duration": 17,
    "start_time": "2023-03-31T10:48:07.074Z"
   },
   {
    "duration": 28,
    "start_time": "2023-03-31T10:48:07.096Z"
   },
   {
    "duration": 1685,
    "start_time": "2023-03-31T10:48:07.126Z"
   },
   {
    "duration": 16,
    "start_time": "2023-03-31T10:48:08.813Z"
   },
   {
    "duration": 117,
    "start_time": "2023-03-31T10:48:08.831Z"
   },
   {
    "duration": 6,
    "start_time": "2023-03-31T10:48:08.950Z"
   },
   {
    "duration": 118,
    "start_time": "2023-03-31T10:48:08.957Z"
   },
   {
    "duration": 22,
    "start_time": "2023-03-31T10:48:09.077Z"
   },
   {
    "duration": 330,
    "start_time": "2023-03-31T10:48:09.101Z"
   },
   {
    "duration": 18,
    "start_time": "2023-03-31T10:48:09.433Z"
   },
   {
    "duration": 48,
    "start_time": "2023-03-31T10:48:09.453Z"
   },
   {
    "duration": 21,
    "start_time": "2023-03-31T10:48:09.503Z"
   },
   {
    "duration": 17,
    "start_time": "2023-03-31T10:48:09.526Z"
   },
   {
    "duration": 194,
    "start_time": "2023-03-31T10:48:09.545Z"
   },
   {
    "duration": 16,
    "start_time": "2023-03-31T10:48:09.741Z"
   },
   {
    "duration": 225,
    "start_time": "2023-03-31T10:48:09.759Z"
   },
   {
    "duration": 24,
    "start_time": "2023-03-31T10:48:09.986Z"
   },
   {
    "duration": 177,
    "start_time": "2023-03-31T10:48:10.012Z"
   },
   {
    "duration": 17,
    "start_time": "2023-03-31T10:48:10.191Z"
   },
   {
    "duration": 105,
    "start_time": "2023-03-31T10:48:10.211Z"
   },
   {
    "duration": 369,
    "start_time": "2023-03-31T10:48:10.318Z"
   },
   {
    "duration": 250,
    "start_time": "2023-03-31T10:48:10.689Z"
   },
   {
    "duration": 117,
    "start_time": "2023-03-31T10:48:10.942Z"
   },
   {
    "duration": 10,
    "start_time": "2023-03-31T10:48:11.061Z"
   },
   {
    "duration": 21,
    "start_time": "2023-03-31T10:48:11.072Z"
   },
   {
    "duration": 312,
    "start_time": "2023-03-31T10:48:11.095Z"
   },
   {
    "duration": 8,
    "start_time": "2023-03-31T11:03:48.016Z"
   },
   {
    "duration": 7,
    "start_time": "2023-03-31T11:04:09.439Z"
   },
   {
    "duration": 6,
    "start_time": "2023-03-31T11:04:57.636Z"
   },
   {
    "duration": 14,
    "start_time": "2023-03-31T11:05:02.696Z"
   },
   {
    "duration": 9,
    "start_time": "2023-03-31T11:08:34.317Z"
   },
   {
    "duration": 11,
    "start_time": "2023-03-31T11:08:45.746Z"
   },
   {
    "duration": 13,
    "start_time": "2023-03-31T11:09:21.804Z"
   },
   {
    "duration": 2100,
    "start_time": "2023-03-31T11:13:28.572Z"
   },
   {
    "duration": 6,
    "start_time": "2023-03-31T11:13:49.249Z"
   },
   {
    "duration": 2033,
    "start_time": "2023-04-01T14:45:54.210Z"
   },
   {
    "duration": 3,
    "start_time": "2023-04-01T14:45:56.245Z"
   },
   {
    "duration": 5,
    "start_time": "2023-04-01T14:45:56.250Z"
   },
   {
    "duration": 253,
    "start_time": "2023-04-01T14:45:56.257Z"
   },
   {
    "duration": 6,
    "start_time": "2023-04-01T14:45:56.514Z"
   },
   {
    "duration": 22,
    "start_time": "2023-04-01T14:45:56.527Z"
   },
   {
    "duration": 11,
    "start_time": "2023-04-01T14:45:56.550Z"
   },
   {
    "duration": 3,
    "start_time": "2023-04-01T14:45:56.563Z"
   },
   {
    "duration": 16,
    "start_time": "2023-04-01T14:45:56.567Z"
   },
   {
    "duration": 31,
    "start_time": "2023-04-01T14:45:56.586Z"
   },
   {
    "duration": 9,
    "start_time": "2023-04-01T14:45:56.619Z"
   },
   {
    "duration": 23,
    "start_time": "2023-04-01T14:45:56.632Z"
   },
   {
    "duration": 24,
    "start_time": "2023-04-01T14:45:56.657Z"
   },
   {
    "duration": 7,
    "start_time": "2023-04-01T14:45:56.682Z"
   },
   {
    "duration": 44,
    "start_time": "2023-04-01T14:45:56.690Z"
   },
   {
    "duration": 4,
    "start_time": "2023-04-01T14:45:56.736Z"
   },
   {
    "duration": 11,
    "start_time": "2023-04-01T14:45:56.742Z"
   },
   {
    "duration": 255,
    "start_time": "2023-04-01T14:45:56.755Z"
   },
   {
    "duration": 192,
    "start_time": "2023-04-01T14:45:57.012Z"
   },
   {
    "duration": 21,
    "start_time": "2023-04-01T14:45:57.208Z"
   },
   {
    "duration": 6,
    "start_time": "2023-04-01T14:45:57.231Z"
   },
   {
    "duration": 402,
    "start_time": "2023-04-01T14:45:57.239Z"
   },
   {
    "duration": 2,
    "start_time": "2023-04-01T14:45:57.643Z"
   },
   {
    "duration": 295,
    "start_time": "2023-04-01T14:45:57.647Z"
   },
   {
    "duration": 5,
    "start_time": "2023-04-01T14:45:57.944Z"
   },
   {
    "duration": 15,
    "start_time": "2023-04-01T14:45:57.951Z"
   },
   {
    "duration": 155,
    "start_time": "2023-04-01T14:45:57.969Z"
   },
   {
    "duration": 9,
    "start_time": "2023-04-01T14:45:58.129Z"
   },
   {
    "duration": 44,
    "start_time": "2023-04-01T14:45:58.140Z"
   },
   {
    "duration": 225,
    "start_time": "2023-04-01T14:45:58.193Z"
   },
   {
    "duration": 2,
    "start_time": "2023-04-01T14:45:58.420Z"
   },
   {
    "duration": 7,
    "start_time": "2023-04-01T14:45:58.423Z"
   },
   {
    "duration": 6,
    "start_time": "2023-04-01T14:45:58.432Z"
   },
   {
    "duration": 353,
    "start_time": "2023-04-01T14:45:58.439Z"
   },
   {
    "duration": 27,
    "start_time": "2023-04-01T14:45:58.794Z"
   },
   {
    "duration": 12,
    "start_time": "2023-04-01T14:45:58.824Z"
   },
   {
    "duration": 7,
    "start_time": "2023-04-01T14:45:58.837Z"
   },
   {
    "duration": 1187,
    "start_time": "2023-04-01T14:45:58.846Z"
   },
   {
    "duration": 6,
    "start_time": "2023-04-01T14:46:00.035Z"
   },
   {
    "duration": 516,
    "start_time": "2023-04-01T14:46:00.042Z"
   },
   {
    "duration": 32,
    "start_time": "2023-04-01T14:46:00.559Z"
   },
   {
    "duration": 330,
    "start_time": "2023-04-01T14:46:00.592Z"
   },
   {
    "duration": 8,
    "start_time": "2023-04-01T14:46:00.924Z"
   },
   {
    "duration": 294,
    "start_time": "2023-04-01T14:46:00.934Z"
   },
   {
    "duration": 28,
    "start_time": "2023-04-01T14:46:01.230Z"
   },
   {
    "duration": 1160,
    "start_time": "2023-04-01T14:46:01.260Z"
   },
   {
    "duration": 25,
    "start_time": "2023-04-01T14:46:02.426Z"
   },
   {
    "duration": 441,
    "start_time": "2023-04-01T14:46:02.456Z"
   },
   {
    "duration": 11834,
    "start_time": "2023-04-01T14:46:02.916Z"
   },
   {
    "duration": 69,
    "start_time": "2023-04-01T14:46:14.752Z"
   },
   {
    "duration": 2171,
    "start_time": "2023-04-01T14:46:14.826Z"
   },
   {
    "duration": 32,
    "start_time": "2023-04-01T14:46:16.999Z"
   },
   {
    "duration": 153,
    "start_time": "2023-04-01T14:46:17.032Z"
   },
   {
    "duration": 36,
    "start_time": "2023-04-01T14:46:17.187Z"
   },
   {
    "duration": 628,
    "start_time": "2023-04-01T14:46:17.225Z"
   },
   {
    "duration": 32,
    "start_time": "2023-04-01T14:46:17.855Z"
   },
   {
    "duration": 39,
    "start_time": "2023-04-01T14:46:17.889Z"
   },
   {
    "duration": 494,
    "start_time": "2023-04-01T14:46:17.930Z"
   },
   {
    "duration": 15,
    "start_time": "2023-04-01T14:46:18.431Z"
   },
   {
    "duration": 301,
    "start_time": "2023-04-01T14:46:18.447Z"
   },
   {
    "duration": 5,
    "start_time": "2023-04-01T14:46:18.749Z"
   },
   {
    "duration": 14,
    "start_time": "2023-04-01T14:46:18.755Z"
   },
   {
    "duration": 18,
    "start_time": "2023-04-01T14:46:18.773Z"
   },
   {
    "duration": 327,
    "start_time": "2023-04-01T14:46:18.794Z"
   },
   {
    "duration": 1804,
    "start_time": "2023-04-01T14:46:19.123Z"
   },
   {
    "duration": 9,
    "start_time": "2023-04-01T14:46:20.929Z"
   },
   {
    "duration": 51,
    "start_time": "2023-04-01T14:46:20.940Z"
   },
   {
    "duration": 10,
    "start_time": "2023-04-01T14:46:20.993Z"
   },
   {
    "duration": 11,
    "start_time": "2023-04-01T14:46:21.005Z"
   },
   {
    "duration": 18,
    "start_time": "2023-04-01T14:46:21.019Z"
   },
   {
    "duration": 328,
    "start_time": "2023-04-01T14:46:21.039Z"
   },
   {
    "duration": 1072,
    "start_time": "2023-04-01T14:46:21.378Z"
   },
   {
    "duration": 4,
    "start_time": "2023-04-01T14:46:22.452Z"
   },
   {
    "duration": 22,
    "start_time": "2023-04-01T14:46:22.469Z"
   },
   {
    "duration": 3,
    "start_time": "2023-04-01T14:46:22.494Z"
   },
   {
    "duration": 7,
    "start_time": "2023-04-01T14:46:22.499Z"
   },
   {
    "duration": 15,
    "start_time": "2023-04-01T14:46:22.508Z"
   },
   {
    "duration": 415,
    "start_time": "2023-04-01T14:46:22.525Z"
   },
   {
    "duration": 959,
    "start_time": "2023-04-01T14:46:22.943Z"
   },
   {
    "duration": 13,
    "start_time": "2023-04-01T14:46:23.905Z"
   },
   {
    "duration": 6,
    "start_time": "2023-04-01T14:46:23.924Z"
   },
   {
    "duration": 1911,
    "start_time": "2023-04-01T14:46:23.936Z"
   },
   {
    "duration": 4,
    "start_time": "2023-04-01T14:46:25.850Z"
   },
   {
    "duration": 137,
    "start_time": "2023-04-01T14:46:25.856Z"
   },
   {
    "duration": 8,
    "start_time": "2023-04-01T14:46:25.995Z"
   },
   {
    "duration": 102,
    "start_time": "2023-04-01T14:46:26.005Z"
   },
   {
    "duration": 12,
    "start_time": "2023-04-01T14:46:26.109Z"
   },
   {
    "duration": 344,
    "start_time": "2023-04-01T14:46:26.123Z"
   },
   {
    "duration": 26,
    "start_time": "2023-04-01T14:46:26.479Z"
   },
   {
    "duration": 18,
    "start_time": "2023-04-01T14:46:26.510Z"
   },
   {
    "duration": 20,
    "start_time": "2023-04-01T14:46:26.531Z"
   },
   {
    "duration": 39,
    "start_time": "2023-04-01T14:46:26.552Z"
   },
   {
    "duration": 244,
    "start_time": "2023-04-01T14:46:26.593Z"
   },
   {
    "duration": 15,
    "start_time": "2023-04-01T14:46:26.838Z"
   },
   {
    "duration": 252,
    "start_time": "2023-04-01T14:46:26.854Z"
   },
   {
    "duration": 27,
    "start_time": "2023-04-01T14:46:27.109Z"
   },
   {
    "duration": 244,
    "start_time": "2023-04-01T14:46:27.138Z"
   },
   {
    "duration": 11,
    "start_time": "2023-04-01T14:46:27.384Z"
   },
   {
    "duration": 104,
    "start_time": "2023-04-01T14:46:27.397Z"
   },
   {
    "duration": 372,
    "start_time": "2023-04-01T14:46:27.503Z"
   },
   {
    "duration": 285,
    "start_time": "2023-04-01T14:46:27.876Z"
   },
   {
    "duration": 104,
    "start_time": "2023-04-01T14:46:28.163Z"
   },
   {
    "duration": 14,
    "start_time": "2023-04-01T14:46:28.271Z"
   },
   {
    "duration": 5,
    "start_time": "2023-04-01T14:46:28.286Z"
   },
   {
    "duration": 355,
    "start_time": "2023-04-01T14:46:28.296Z"
   },
   {
    "duration": 1647,
    "start_time": "2023-04-02T13:07:33.273Z"
   },
   {
    "duration": 3,
    "start_time": "2023-04-02T13:07:34.922Z"
   },
   {
    "duration": 4,
    "start_time": "2023-04-02T13:07:34.927Z"
   },
   {
    "duration": 115,
    "start_time": "2023-04-02T13:07:34.935Z"
   },
   {
    "duration": 4,
    "start_time": "2023-04-02T13:07:35.052Z"
   },
   {
    "duration": 43,
    "start_time": "2023-04-02T13:07:35.057Z"
   },
   {
    "duration": 19,
    "start_time": "2023-04-02T13:07:35.105Z"
   },
   {
    "duration": 8,
    "start_time": "2023-04-02T13:07:35.127Z"
   },
   {
    "duration": 29,
    "start_time": "2023-04-02T13:07:35.137Z"
   },
   {
    "duration": 34,
    "start_time": "2023-04-02T13:07:35.170Z"
   },
   {
    "duration": 29,
    "start_time": "2023-04-02T13:07:35.207Z"
   },
   {
    "duration": 14,
    "start_time": "2023-04-02T13:07:35.239Z"
   },
   {
    "duration": 43,
    "start_time": "2023-04-02T13:07:35.255Z"
   },
   {
    "duration": 23,
    "start_time": "2023-04-02T13:07:35.302Z"
   },
   {
    "duration": 21,
    "start_time": "2023-04-02T13:07:35.328Z"
   },
   {
    "duration": 41,
    "start_time": "2023-04-02T13:07:35.351Z"
   },
   {
    "duration": 12,
    "start_time": "2023-04-02T13:07:35.394Z"
   },
   {
    "duration": 39,
    "start_time": "2023-04-02T13:07:35.407Z"
   },
   {
    "duration": 255,
    "start_time": "2023-04-02T13:07:35.448Z"
   },
   {
    "duration": 172,
    "start_time": "2023-04-02T13:07:35.705Z"
   },
   {
    "duration": 25,
    "start_time": "2023-04-02T13:07:35.882Z"
   },
   {
    "duration": 3,
    "start_time": "2023-04-02T13:07:35.909Z"
   },
   {
    "duration": 379,
    "start_time": "2023-04-02T13:07:35.913Z"
   },
   {
    "duration": 3,
    "start_time": "2023-04-02T13:07:36.294Z"
   },
   {
    "duration": 301,
    "start_time": "2023-04-02T13:07:36.300Z"
   },
   {
    "duration": 4,
    "start_time": "2023-04-02T13:07:36.603Z"
   },
   {
    "duration": 20,
    "start_time": "2023-04-02T13:07:36.609Z"
   },
   {
    "duration": 125,
    "start_time": "2023-04-02T13:07:36.633Z"
   },
   {
    "duration": 3,
    "start_time": "2023-04-02T13:07:36.759Z"
   },
   {
    "duration": 47,
    "start_time": "2023-04-02T13:07:36.763Z"
   },
   {
    "duration": 153,
    "start_time": "2023-04-02T13:07:36.812Z"
   },
   {
    "duration": 2,
    "start_time": "2023-04-02T13:07:36.967Z"
   },
   {
    "duration": 29,
    "start_time": "2023-04-02T13:07:36.970Z"
   },
   {
    "duration": 7,
    "start_time": "2023-04-02T13:07:37.004Z"
   },
   {
    "duration": 302,
    "start_time": "2023-04-02T13:07:37.013Z"
   },
   {
    "duration": 18,
    "start_time": "2023-04-02T13:07:37.317Z"
   },
   {
    "duration": 4,
    "start_time": "2023-04-02T13:07:37.337Z"
   },
   {
    "duration": 12,
    "start_time": "2023-04-02T13:07:37.343Z"
   },
   {
    "duration": 1084,
    "start_time": "2023-04-02T13:07:37.356Z"
   },
   {
    "duration": 7,
    "start_time": "2023-04-02T13:07:38.442Z"
   },
   {
    "duration": 471,
    "start_time": "2023-04-02T13:07:38.451Z"
   },
   {
    "duration": 28,
    "start_time": "2023-04-02T13:07:38.924Z"
   },
   {
    "duration": 299,
    "start_time": "2023-04-02T13:07:38.953Z"
   },
   {
    "duration": 8,
    "start_time": "2023-04-02T13:07:39.254Z"
   },
   {
    "duration": 236,
    "start_time": "2023-04-02T13:07:39.263Z"
   },
   {
    "duration": 27,
    "start_time": "2023-04-02T13:07:39.502Z"
   },
   {
    "duration": 979,
    "start_time": "2023-04-02T13:07:39.531Z"
   },
   {
    "duration": 16,
    "start_time": "2023-04-02T13:07:40.512Z"
   },
   {
    "duration": 182,
    "start_time": "2023-04-02T13:07:40.530Z"
   },
   {
    "duration": 10255,
    "start_time": "2023-04-02T13:07:40.714Z"
   },
   {
    "duration": 101,
    "start_time": "2023-04-02T13:07:50.974Z"
   },
   {
    "duration": 1744,
    "start_time": "2023-04-02T13:07:51.078Z"
   },
   {
    "duration": 55,
    "start_time": "2023-04-02T13:07:52.825Z"
   },
   {
    "duration": 102,
    "start_time": "2023-04-02T13:07:52.882Z"
   },
   {
    "duration": 22,
    "start_time": "2023-04-02T13:07:52.986Z"
   },
   {
    "duration": 534,
    "start_time": "2023-04-02T13:07:53.010Z"
   },
   {
    "duration": 49,
    "start_time": "2023-04-02T13:07:53.546Z"
   },
   {
    "duration": 28,
    "start_time": "2023-04-02T13:07:53.597Z"
   },
   {
    "duration": 527,
    "start_time": "2023-04-02T13:07:53.627Z"
   },
   {
    "duration": 33,
    "start_time": "2023-04-02T13:07:54.156Z"
   },
   {
    "duration": 143,
    "start_time": "2023-04-02T13:07:54.192Z"
   },
   {
    "duration": 4,
    "start_time": "2023-04-02T13:07:54.337Z"
   },
   {
    "duration": 9,
    "start_time": "2023-04-02T13:07:54.343Z"
   },
   {
    "duration": 25,
    "start_time": "2023-04-02T13:07:54.354Z"
   },
   {
    "duration": 336,
    "start_time": "2023-04-02T13:07:54.381Z"
   },
   {
    "duration": 1894,
    "start_time": "2023-04-02T13:07:54.718Z"
   },
   {
    "duration": 5,
    "start_time": "2023-04-02T13:07:56.614Z"
   },
   {
    "duration": 55,
    "start_time": "2023-04-02T13:07:56.621Z"
   },
   {
    "duration": 4,
    "start_time": "2023-04-02T13:07:56.678Z"
   },
   {
    "duration": 6,
    "start_time": "2023-04-02T13:07:56.684Z"
   },
   {
    "duration": 10,
    "start_time": "2023-04-02T13:07:56.692Z"
   },
   {
    "duration": 274,
    "start_time": "2023-04-02T13:07:56.704Z"
   },
   {
    "duration": 952,
    "start_time": "2023-04-02T13:07:56.980Z"
   },
   {
    "duration": 6,
    "start_time": "2023-04-02T13:07:57.934Z"
   },
   {
    "duration": 34,
    "start_time": "2023-04-02T13:07:57.942Z"
   },
   {
    "duration": 5,
    "start_time": "2023-04-02T13:07:57.978Z"
   },
   {
    "duration": 6,
    "start_time": "2023-04-02T13:07:57.985Z"
   },
   {
    "duration": 12,
    "start_time": "2023-04-02T13:07:57.993Z"
   },
   {
    "duration": 299,
    "start_time": "2023-04-02T13:07:58.006Z"
   },
   {
    "duration": 773,
    "start_time": "2023-04-02T13:07:58.307Z"
   },
   {
    "duration": 10,
    "start_time": "2023-04-02T13:07:59.082Z"
   },
   {
    "duration": 27,
    "start_time": "2023-04-02T13:07:59.097Z"
   },
   {
    "duration": 1528,
    "start_time": "2023-04-02T13:07:59.126Z"
   },
   {
    "duration": 5,
    "start_time": "2023-04-02T13:08:00.656Z"
   },
   {
    "duration": 105,
    "start_time": "2023-04-02T13:08:00.662Z"
   },
   {
    "duration": 5,
    "start_time": "2023-04-02T13:08:00.775Z"
   },
   {
    "duration": 80,
    "start_time": "2023-04-02T13:08:00.781Z"
   },
   {
    "duration": 19,
    "start_time": "2023-04-02T13:08:00.863Z"
   },
   {
    "duration": 305,
    "start_time": "2023-04-02T13:08:00.884Z"
   },
   {
    "duration": 16,
    "start_time": "2023-04-02T13:08:01.191Z"
   },
   {
    "duration": 73,
    "start_time": "2023-04-02T13:08:01.209Z"
   },
   {
    "duration": 50,
    "start_time": "2023-04-02T13:08:01.283Z"
   },
   {
    "duration": 31,
    "start_time": "2023-04-02T13:08:01.334Z"
   },
   {
    "duration": 210,
    "start_time": "2023-04-02T13:08:01.367Z"
   },
   {
    "duration": 18,
    "start_time": "2023-04-02T13:08:01.579Z"
   },
   {
    "duration": 167,
    "start_time": "2023-04-02T13:08:01.599Z"
   },
   {
    "duration": 20,
    "start_time": "2023-04-02T13:08:01.768Z"
   },
   {
    "duration": 176,
    "start_time": "2023-04-02T13:08:01.790Z"
   },
   {
    "duration": 13,
    "start_time": "2023-04-02T13:08:01.967Z"
   },
   {
    "duration": 117,
    "start_time": "2023-04-02T13:08:01.981Z"
   },
   {
    "duration": 293,
    "start_time": "2023-04-02T13:08:02.099Z"
   },
   {
    "duration": 130,
    "start_time": "2023-04-02T13:08:02.394Z"
   },
   {
    "duration": 95,
    "start_time": "2023-04-02T13:08:02.526Z"
   },
   {
    "duration": 9,
    "start_time": "2023-04-02T13:08:02.623Z"
   },
   {
    "duration": 5,
    "start_time": "2023-04-02T13:08:02.634Z"
   },
   {
    "duration": 284,
    "start_time": "2023-04-02T13:08:02.641Z"
   },
   {
    "duration": 32,
    "start_time": "2023-04-02T13:19:28.257Z"
   }
  ],
  "kernelspec": {
   "display_name": "Python 3 (ipykernel)",
   "language": "python",
   "name": "python3"
  },
  "language_info": {
   "codemirror_mode": {
    "name": "ipython",
    "version": 3
   },
   "file_extension": ".py",
   "mimetype": "text/x-python",
   "name": "python",
   "nbconvert_exporter": "python",
   "pygments_lexer": "ipython3",
   "version": "3.9.13"
  },
  "toc": {
   "base_numbering": 1,
   "nav_menu": {},
   "number_sections": true,
   "sideBar": true,
   "skip_h1_title": true,
   "title_cell": "Table of Contents",
   "title_sidebar": "Contents",
   "toc_cell": false,
   "toc_position": {},
   "toc_section_display": true,
   "toc_window_display": false
  }
 },
 "nbformat": 4,
 "nbformat_minor": 5
}
