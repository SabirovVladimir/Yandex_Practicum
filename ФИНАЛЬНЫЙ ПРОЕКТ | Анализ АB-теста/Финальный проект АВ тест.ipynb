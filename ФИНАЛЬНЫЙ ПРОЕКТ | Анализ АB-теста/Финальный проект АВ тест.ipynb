{
 "cells": [
  {
   "cell_type": "markdown",
   "id": "1e58f3ea",
   "metadata": {},
   "source": [
    "## Проект \"A/B-тестирование\"."
   ]
  },
  {
   "cell_type": "markdown",
   "id": "89207092",
   "metadata": {},
   "source": [
    "## Описание проекта.\n",
    "Задача — провести оценку результатов A/B-теста. В нашем распоряжении есть датасет с действиями пользователей, техническое задание и несколько вспомогательных датасетов.\n",
    "\n",
    "Необходимо оценить корректность проведения теста и проанализировать его результаты.\n",
    "\n",
    "Дополнитьельные задачи:\n",
    "\n",
    "* удостоверьиться, что нет пересечений с конкурирующим тестом и нет пользователей, участвующих в двух группах теста одновременно;\n",
    "* проверить равномерность распределения пользователей по тестовым группам и правильность их формирования."
   ]
  },
  {
   "cell_type": "markdown",
   "id": "c61e19c0",
   "metadata": {},
   "source": [
    "## План выполнения работы.\n",
    "\n",
    "- Опишите цели исследования\n",
    "- Исследуйте данные:\n",
    "    - Требуется ли преобразование типов?\n",
    "    - Опишите природу пропущенных значений и дубликатов, если их обнаружите.\n",
    "- Оцените корректность проведения теста. Обратите внимание на:\n",
    "    - Соответствие данных требованиям технического задания. Проверьте корректность всех пунктов технического задания.\n",
    "    - Время проведения теста. Убедитесь, что оно не совпадает с маркетинговыми и другими активностями.\n",
    "    - Аудиторию теста. Удостоверьтесь, что нет пересечений с конкурирующим тестом и нет пользователей, участвующих в двух группах теста одновременно. Проверьте равномерность распределения по тестовым группам и правильность их формирования.\n",
    "- Проведите исследовательский анализ данных:\n",
    "    - Количество событий на пользователя одинаково распределены в выборках?\n",
    "    - Как число событий в выборках распределено по дням?\n",
    "    - Как меняется конверсия в воронке в выборках на разных этапах?\n",
    "    - Какие особенности данных нужно учесть, прежде чем приступать к A/B-тестированию?\n",
    "- Оцените результаты A/B-тестирования\n",
    "    - Что можно сказать про результаты A/В-тестирования?\n",
    "    - Проверьте статистическую разницу долей z-критерием.\n",
    "- Опишите выводы по этапу исследовательского анализа данных и по проведённой оценке результатов A/B-тестирования. Сделайте общее заключение о корректности проведения теста."
   ]
  },
  {
   "cell_type": "code",
   "execution_count": null,
   "id": "8eeaa007",
   "metadata": {},
   "outputs": [],
   "source": [
    "# импортирую библиотеки\n",
    "import pandas as pd \n",
    "import matplotlib.pyplot as plt \n",
    "import seaborn as sns \n",
    "import numpy as np \n",
    "from scipy import stats as st \n",
    "import datetime as dt\n",
    "import plotly.express as px\n",
    "from plotly import graph_objects as go\n",
    "import numpy as np\n",
    "import math as mth\n",
    "from scipy import stats as st"
   ]
  },
  {
   "cell_type": "code",
   "execution_count": null,
   "id": "2aa82401",
   "metadata": {},
   "outputs": [],
   "source": [
    "sns.set(style=\"whitegrid\", palette=\"pastel\", color_codes=True) "
   ]
  },
  {
   "cell_type": "code",
   "execution_count": null,
   "id": "e7e857b4",
   "metadata": {},
   "outputs": [],
   "source": [
    "import warnings\n",
    "warnings.filterwarnings(\"ignore\")"
   ]
  },
  {
   "cell_type": "markdown",
   "id": "f53c8b14",
   "metadata": {},
   "source": [
    "## Шаг 1. Ознакомление с данными и предобработка."
   ]
  },
  {
   "cell_type": "code",
   "execution_count": null,
   "id": "9a61181c",
   "metadata": {},
   "outputs": [],
   "source": [
    "# загружаю данные\n",
    "try:\n",
    "    events = pd.read_csv(r\"D:\\DOCS\\datasets\\Финальный проект\\AB тест/final_ab_events.csv\", parse_dates=['event_dt'])\n",
    "    users = pd.read_csv(r\"D:\\DOCS\\datasets\\Финальный проект\\AB тест/final_ab_new_users.csv\", parse_dates=['first_date'])\n",
    "    participants = pd.read_csv(r\"D:\\DOCS\\datasets\\Финальный проект\\AB тест/final_ab_participants.csv\")\n",
    "    marketing = pd.read_csv(r\"D:\\DOCS\\datasets\\Финальный проект\\AB тест/ab_project_marketing_events.csv\", parse_dates=['start_dt','finish_dt'])\n",
    "except FileNotFoundError:\n",
    "    events = pd.read_csv('/datasets/final_ab_events.csv', parse_dates=['event_dt'])\n",
    "    users = pd.read_csv('/datasets/final_ab_new_users.csv', parse_dates=['first_date'])\n",
    "    participants = pd.read_csv('/datasets/final_ab_participants.csv')\n",
    "    marketing = pd.read_csv('/datasets/ab_project_marketing_events.csv', parse_dates=['start_dt','finish_dt'])"
   ]
  },
  {
   "cell_type": "code",
   "execution_count": null,
   "id": "8335fef0",
   "metadata": {},
   "outputs": [],
   "source": [
    "# написал функцию, выводящую основную информацию об имеющихся датафреймах\n",
    "def basic_information(x):\n",
    "    display(x.head(10));\n",
    "    x.info();\n",
    "    print('*'*50)\n",
    "    print('Дубликатов',x.duplicated().sum());\n",
    "    print('*'*50);\n",
    "    print('Количество пропусков');\n",
    "    display(x.isna().sum());"
   ]
  },
  {
   "cell_type": "code",
   "execution_count": null,
   "id": "50e513ab",
   "metadata": {
    "scrolled": true
   },
   "outputs": [],
   "source": [
    "# применил функцию basic_information к датафрейму events\n",
    "basic_information(events)"
   ]
  },
  {
   "cell_type": "markdown",
   "id": "3d019a6b",
   "metadata": {},
   "source": [
    "Структура файла:\n",
    "\n",
    "- `user_id` — идентификатор пользователя;\n",
    "- `event_dt` — дата и время события;\n",
    "- `event_name` — тип события;\n",
    "- `details` — дополнительные данные о событии. Например, для покупок, `purchase,` в этом поле хранится стоимость покупки в долларах."
   ]
  },
  {
   "cell_type": "code",
   "execution_count": null,
   "id": "db8ad61f",
   "metadata": {
    "scrolled": true
   },
   "outputs": [],
   "source": [
    "# применил функцию basic_information к датафрейму users\n",
    "basic_information(users)"
   ]
  },
  {
   "cell_type": "markdown",
   "id": "8b09fcdf",
   "metadata": {},
   "source": [
    "Структура файла:\n",
    "\n",
    "- `user_id` — идентификатор пользователя;\n",
    "- `first_date` — дата регистрации;\n",
    "- `region` — регион пользователя;\n",
    "- `device` — устройство, с которого происходила регистрация."
   ]
  },
  {
   "cell_type": "code",
   "execution_count": null,
   "id": "93c88076",
   "metadata": {
    "scrolled": true
   },
   "outputs": [],
   "source": [
    "# применил функцию basic_information к датафрейму participants\n",
    "basic_information(participants)"
   ]
  },
  {
   "cell_type": "markdown",
   "id": "37ab30c7",
   "metadata": {},
   "source": [
    "Структура файла:\n",
    "\n",
    "- `user_id` — идентификатор пользователя;\n",
    "- `ab_test` — название теста;\n",
    "- `group` — группа пользователя."
   ]
  },
  {
   "cell_type": "code",
   "execution_count": null,
   "id": "808d31fc",
   "metadata": {
    "scrolled": true
   },
   "outputs": [],
   "source": [
    "# применил функцию basic_information к датафрейму marketing\n",
    "basic_information(marketing)"
   ]
  },
  {
   "cell_type": "markdown",
   "id": "e9fbcb2b",
   "metadata": {},
   "source": [
    "Структура файла:\n",
    "\n",
    "- `name` — название маркетингового события;\n",
    "- `regions` — регионы, в которых будет проводиться рекламная кампания;\n",
    "- `start_dt` — дата начала кампании;\n",
    "- `finish_dt` — дата завершения кампании."
   ]
  },
  {
   "cell_type": "markdown",
   "id": "6712d132",
   "metadata": {},
   "source": [
    "При анализе информации о представленных датафреймах и об их содержании выявлены пропуски в столбце details датафрейма events. Рассмотри пропуски более детально."
   ]
  },
  {
   "cell_type": "code",
   "execution_count": null,
   "id": "2df3272c",
   "metadata": {},
   "outputs": [],
   "source": [
    "# вывел количество разных типов событий, содержащихся в столбще event_name датафрейма events\n",
    "events_group = events.groupby('event_name').agg({'event_name':'count'})\n",
    "events_group.rename(columns={'event_name': 'event_count'}, inplace=True)\n",
    "events_group.sort_values(by='event_count', ascending=False)"
   ]
  },
  {
   "cell_type": "markdown",
   "id": "8b104595",
   "metadata": {},
   "source": [
    "По количеству выполнения события распределяются следующим образом login → product_page → purchase → product_cart\n",
    "* login - регистрация,\n",
    "* product_page - просмотр товара,\n",
    "* product_cart - просмотр корзины,\n",
    "* purchase - покупка."
   ]
  },
  {
   "cell_type": "markdown",
   "id": "427968d9",
   "metadata": {},
   "source": [
    "### Вывод \n",
    "* Выполнено преобразование столбца event_dt датафрейма events, столбца first_date датафрейма users, столбцов start_dt и finish_dt даиафрейма marketing к формату datetime64. \n",
    "* Явных дубликатов ни в одном из исследуемых датафреймов не выявлено\n",
    "* Выявлены пропуски в столбце details датафрейма events. Пропуски в данном столбце полностью отсутствуют при выполнении пользователями эвента purchase. Значениями в данном случае являются суммы покупки. В других типах событий (product_page, product_cart, login) значения в солбце details полностью отсутствуют, вероятно, это связано с отсутствием какой-либо уточняющей информации для данных типов событий. В заполнении пропусков необходимости нет. Решено оставить их так как они не повлияют на дальнейший анализ.\n",
    "* Количество событий в исследуемом логе представлено следующим образом login(вход на сайт) → product_page(страница товара) → purchase(покупка) → product_cart(страница корзины). БОльшее количество эвента purchase в сравнении с эвентом product_cart, вероятно, связано с тем, что неколторые пользователи переходят к оплате товара сказу со страницы товара не переходя в корзину."
   ]
  },
  {
   "cell_type": "markdown",
   "id": "d46f417f",
   "metadata": {},
   "source": [
    "## Шаг 2. Оценка корректности проведения теста."
   ]
  },
  {
   "cell_type": "code",
   "execution_count": null,
   "id": "87034708",
   "metadata": {},
   "outputs": [],
   "source": [
    "# вывожу количество уникальных групп в датафрейме participants\n",
    "print('Количество уникальных групп в колонке group датафрейма participants равно:', participants['group'].nunique())"
   ]
  },
  {
   "cell_type": "code",
   "execution_count": null,
   "id": "fd6149ab",
   "metadata": {},
   "outputs": [],
   "source": [
    "# вывожу количество пуникальных пользователей, сгруппированных по названию теста и группе в тесте\n",
    "participants_group = participants.groupby(['ab_test','group']).agg({'user_id':'nunique'})\n",
    "participants_group"
   ]
  },
  {
   "cell_type": "markdown",
   "id": "7d60ac40",
   "metadata": {},
   "source": [
    "В датафрейме participants выявлено два теста: interface_eu_test, recommender_system_test. Согласно техническому заданию нам необходимо анализировать recommender_system_test"
   ]
  },
  {
   "cell_type": "code",
   "execution_count": null,
   "id": "17ccc515",
   "metadata": {},
   "outputs": [],
   "source": [
    "# определил пользователей, участвующих в тесте recommender_system_test\n",
    "data_rst = participants.loc[participants['ab_test'].values == 'recommender_system_test']\n",
    "data_rst"
   ]
  },
  {
   "cell_type": "markdown",
   "id": "306ef350",
   "metadata": {},
   "source": [
    "В тесте принимает участие 6701 пользователь. Выше, чем по техническому заданию ( по техническому заданию предполагаемое количество участников теста 6000).\n",
    "Соотношение исследуемых групп: А - 3824 пользователя B - 2877 пользователей."
   ]
  },
  {
   "cell_type": "code",
   "execution_count": null,
   "id": "0c76f653",
   "metadata": {},
   "outputs": [],
   "source": [
    "# определил пользователей участвующих в тесте interface_eu_test\n",
    "data_iet = participants.loc[participants['ab_test'].values == 'interface_eu_test']\n",
    "data_iet"
   ]
  },
  {
   "cell_type": "code",
   "execution_count": null,
   "id": "02505304",
   "metadata": {},
   "outputs": [],
   "source": [
    "# определил пользователей, попавших в оба теста\n",
    "users_in_tests = pd.merge(data_rst, data_iet, on=['user_id'], how='inner')\n",
    "users_in_tests = users_in_tests['user_id']\n",
    "users_in_tests"
   ]
  },
  {
   "cell_type": "markdown",
   "id": "acb84cc0",
   "metadata": {},
   "source": [
    "Выявлено 1602 пользователя, вошедшие в оба теста. Необходимо удалить их из анализа, так как достоверно определить который из тестов повлиял на поведение пользователей не представляется возможным."
   ]
  },
  {
   "cell_type": "code",
   "execution_count": null,
   "id": "488b0bb0",
   "metadata": {},
   "outputs": [],
   "source": [
    "# удалил пользователей, попавших в оба теста из анализа recommender_system_test\n",
    "data_rst = data_rst.query('user_id not in @users_in_tests')\n",
    "data_rst"
   ]
  },
  {
   "cell_type": "code",
   "execution_count": null,
   "id": "1a89b56d",
   "metadata": {},
   "outputs": [],
   "source": [
    "rst_group = data_rst.groupby('group').agg({'user_id':'nunique'})\n",
    "rst_group"
   ]
  },
  {
   "cell_type": "markdown",
   "id": "72adc9b0",
   "metadata": {},
   "source": [
    "После удаления пользователей, вошедших в оба теста, в тесте recommender_system_test осталось 5099 пользователей. По группам пользователи были поделены в следующем порядке: А- 2093 пользователя, В - 2196 пользователей."
   ]
  },
  {
   "cell_type": "code",
   "execution_count": null,
   "id": "e1aba7c2",
   "metadata": {},
   "outputs": [],
   "source": [
    "print('Дата запуска теста', events['event_dt'].dt.date.min())\n",
    "print('Дата завершения теста', events['event_dt'].dt.date.max())"
   ]
  },
  {
   "cell_type": "markdown",
   "id": "a6ef97e2",
   "metadata": {},
   "source": [
    "В техническом задании дата запуска теста определена дата запуска: 2020-12-07, что соответствует началу логирования эвентов пользователей. Дата остановки теста согласно техническому заданию 2021-01-04, однако, логирование событий ограничено 2020.12.30."
   ]
  },
  {
   "cell_type": "code",
   "execution_count": null,
   "id": "1b7fb58e",
   "metadata": {},
   "outputs": [],
   "source": [
    "# добавил к информацию о дате регистрации пользователя его регионе и устройстве\n",
    "users_test = data_rst.merge(users, how='left', on='user_id')\n",
    "users_test"
   ]
  },
  {
   "cell_type": "code",
   "execution_count": null,
   "id": "d7707f2a",
   "metadata": {},
   "outputs": [],
   "source": [
    "# сгруппировал количество всех пользователей по региону регистрации\n",
    "users_group = users.groupby('region').agg({'user_id':'nunique'})\n",
    "users_group.rename(columns={'user_id': 'users_nunique'}, inplace=True)\n",
    "users_group = users_group.sort_values(by='users_nunique', ascending=False)\n",
    "\n",
    "# сгруппировал количество пользователей, участвующих в тесте, по региону регистрации\n",
    "rst_users_group = users_test.groupby('region').agg({'user_id':'nunique'})\n",
    "rst_users_group.rename(columns={'user_id': 'rst_users_nunique'}, inplace=True)\n",
    "rst_users_group = rst_users_group.sort_values(by='rst_users_nunique', ascending=False)\n",
    "\n",
    "# определил процент пользователей участвующих в тесте от общего количества пользователей в различных регионах\n",
    "users_group = users_group.merge(rst_users_group, how='inner', on='region')\n",
    "users_group['percent'] = round((users_group['rst_users_nunique'] / users_group['users_nunique'] * 100),2)\n",
    "users_group"
   ]
  },
  {
   "cell_type": "markdown",
   "id": "91116611",
   "metadata": {},
   "source": [
    "Процент пользователей участвующих в тесте от общего количества пользователей из Европы составляет 10.26% согласно техническому заданию в тесте должно быть отобрано 15% новых пользователей из региона EU."
   ]
  },
  {
   "cell_type": "code",
   "execution_count": null,
   "id": "55f3aa9e",
   "metadata": {},
   "outputs": [],
   "source": [
    "print('Дата начала набора пользователей', users_test['first_date'].dt.date.min())\n",
    "print('Дата завершения набора пользователей', users_test['first_date'].dt.date.max())"
   ]
  },
  {
   "cell_type": "markdown",
   "id": "347c9f88",
   "metadata": {},
   "source": [
    "Дата завершения набора новых пользователей на исследуемый тест - 2020-12-21, что соответствует техническому заданию."
   ]
  },
  {
   "cell_type": "code",
   "execution_count": null,
   "id": "feda4b48",
   "metadata": {},
   "outputs": [],
   "source": [
    "# добавил информацию об активностях пользователей\n",
    "users_test = users_test.merge(events, on='user_id', how='left') \n",
    "users_test"
   ]
  },
  {
   "cell_type": "code",
   "execution_count": null,
   "id": "c4a55ba8",
   "metadata": {},
   "outputs": [],
   "source": [
    "# определил какие маркетинговые мобытия попали в даты проведения теста\n",
    "marketing_query = marketing.query('finish_dt >= \"2020-12-07\" and start_dt <=\"2021-01-04\"')\n",
    "marketing_query"
   ]
  },
  {
   "cell_type": "markdown",
   "id": "0b116ffb",
   "metadata": {},
   "source": [
    "В период проведения теста попала акция Christmas&New Year Promo. Данная акция может отразиться на результатах тестирования, так как проводилась в том числе и в самом многочисленном регионе тестирования EU. Необходимо исключить из исследования информацию об активности пользователей после 2020-12-25."
   ]
  },
  {
   "cell_type": "code",
   "execution_count": null,
   "id": "6c599070",
   "metadata": {},
   "outputs": [],
   "source": [
    "users_test = users_test.query('event_dt < \"2020-12-25\"')\n",
    "users_test"
   ]
  },
  {
   "cell_type": "code",
   "execution_count": null,
   "id": "f9f1db8d",
   "metadata": {},
   "outputs": [],
   "source": [
    "users_test['event_date'] = users_test['event_dt'].dt.date\n",
    "users_test['event_date'] = pd.to_datetime(users_test['event_date'])\n",
    "users_test['lifetime'] = (users_test['event_date'] - users_test['first_date']).dt.days\n",
    "users_test = users_test[users_test['lifetime'] <= 14]\n",
    "users_test"
   ]
  },
  {
   "cell_type": "markdown",
   "id": "5085aada",
   "metadata": {},
   "source": [
    "### Вывод\n",
    "* При анализе выявлено 1602 пользователя, вошедшие в оба теста. Принято решение удалить их из анализа, так как достоверно определить который из тестов повлиял на поведение пользователей не представляется возможным.\n",
    "* После удаления пользователей, вошедших в оба теста, в тесте recommender_system_test осталось 5099 пользователей. По группам пользователи были поделены в следующем порядке: А- 2093 пользователя, В - 2196 пользователей.\n",
    "* В техническом задании дата запуска теста определена дата запуска: 2020-12-07, что соответствует началу логирования эвентов пользователей. Дата остановки теста согласно техническому заданию 2021-01-04, однако, логирование событий ограничено 2020-12-30.\n",
    "* Дата завершения набора новых пользователей на исследуемый тест - 2020-12-21, что соответствует техническому заданию.\n",
    "* В период проведения теста попала акция Christmas&New Year Promo. Данная акция может отразиться на результатах тестирования, так как проводилась в том числе и в самом многочисленном регионе тестирования EU. Принято решение исключить из исследования информацию об активности пользователей после 2020-12-25.\n",
    "* Процент пользователей участвующих в тесте от общего количества пользователей из Европы после всех преодбразований составил 10,26%. Согласно техническому заданию в тесте должно быть отобрано 15% новых пользователей из региона EU."
   ]
  },
  {
   "cell_type": "markdown",
   "id": "073f5fe1",
   "metadata": {},
   "source": [
    "## Шаг 3. Исследовательский анализ данных."
   ]
  },
  {
   "cell_type": "code",
   "execution_count": null,
   "id": "a0919afd",
   "metadata": {},
   "outputs": [],
   "source": [
    "# определил как события распределены между исследуемыми группами\n",
    "ab_events = users_test.groupby('group').agg({'event_name':'count'})\n",
    "ab_events"
   ]
  },
  {
   "cell_type": "markdown",
   "id": "6c0ba9dd",
   "metadata": {},
   "source": [
    "Количество событий в выборке А значительно превосходит количество событий в выборке В."
   ]
  },
  {
   "cell_type": "code",
   "execution_count": null,
   "id": "e6f4bd58",
   "metadata": {},
   "outputs": [],
   "source": [
    "# определил количесвто событий для каждого пользователя\n",
    "ab_events_group = users_test.groupby(['user_id', 'group']).agg({'event_name':'count'}).reset_index()\n"
   ]
  },
  {
   "cell_type": "code",
   "execution_count": null,
   "id": "f132171a",
   "metadata": {},
   "outputs": [],
   "source": [
    "fig = sns.set(style=\"whitegrid\", palette=\"pastel\", color_codes=True) \n",
    "sns.boxplot(data=ab_events_group, y='event_name', x='group')\n",
    "plt.title('Количество эвентов на пользователя по группам', fontsize=16)\n",
    "plt.xlabel('Группа', fontsize = 13)\n",
    "plt.ylabel('Количество эвентов', fontsize = 13);"
   ]
  },
  {
   "cell_type": "markdown",
   "id": "cede31af",
   "metadata": {},
   "source": [
    "В группе А пользователь в среднем совершает 6 действий. В группе В -4 действия."
   ]
  },
  {
   "cell_type": "code",
   "execution_count": null,
   "id": "4c4610a5",
   "metadata": {},
   "outputs": [],
   "source": [
    "# определил распределение событий в группах по дням\n",
    "users_test_data_pivot = users_test.pivot_table(index='event_date', columns='group', values='user_id', aggfunc='count')\n",
    "users_test_data_pivot.head(5)"
   ]
  },
  {
   "cell_type": "code",
   "execution_count": null,
   "id": "e8b76fde",
   "metadata": {},
   "outputs": [],
   "source": [
    "sns.set(style=\"whitegrid\", palette=\"pastel\", color_codes=True) \n",
    "users_test_data_pivot.plot(kind='bar', grid=True, width = 0.5, figsize=(15,5));\n",
    "plt.xlabel('Дата эвента', fontsize = 15)\n",
    "plt.ylabel('Количество эвентов', fontsize = 15)\n",
    "plt.xticks(rotation=45)\n",
    "plt.title('Количество эвентов в разбивке по дате', fontsize = 15)\n",
    "plt.show()"
   ]
  },
  {
   "cell_type": "markdown",
   "id": "dbfb95d7",
   "metadata": {},
   "source": [
    "Из диаграммы следует, что вплеск активности пользователей в группе А пришелся на 14 - 21 декабря.С максимальной активностью 21 декабря, когда было зарегистрировано около 1550 событий. Показатели активности в группе В также имеют самый высокий показатель 21 декабря, когда было совершено около 370 событий. "
   ]
  },
  {
   "cell_type": "code",
   "execution_count": null,
   "id": "c8164ee4",
   "metadata": {},
   "outputs": [],
   "source": [
    "data_ev_pivot = (users_test.pivot_table(index='event_name',values='user_id',aggfunc='nunique')\n",
    "                    .sort_values(by='user_id', ascending=False)).reset_index()\n",
    "data_ev_pivot "
   ]
  },
  {
   "cell_type": "code",
   "execution_count": null,
   "id": "145d18b0",
   "metadata": {},
   "outputs": [],
   "source": [
    "# Построил воронку процента прохождения к последующему этапу от общего количества пользователей\n",
    "fig = go.Figure(go.Funnel(\n",
    "    y = data_ev_pivot['event_name'],\n",
    "    x = data_ev_pivot['user_id'],\n",
    "    textposition = \"inside\",\n",
    "    textinfo = \"value+percent initial\"\n",
    "    ))\n",
    "fig.update_layout(title='Общая воронка событий', title_x=0.5)\n",
    "fig.show()"
   ]
  },
  {
   "cell_type": "markdown",
   "id": "67a49ebe",
   "metadata": {},
   "source": [
    "Наибольшее количество пользователей теряется на этапе перехода со страницы просмотра товара(product_page) на страницу просмотра корзины(product_cart)\t"
   ]
  },
  {
   "cell_type": "code",
   "execution_count": null,
   "id": "0ccee037",
   "metadata": {},
   "outputs": [],
   "source": [
    "users_test_group_pivot = users_test.pivot_table(index='event_name', \n",
    "                                                values='user_id', \n",
    "                                                columns='group', \n",
    "                                                aggfunc='nunique').sort_values('A', ascending=False).reset_index()   \n",
    "users_test_group_pivot "
   ]
  },
  {
   "cell_type": "code",
   "execution_count": null,
   "id": "56b0fbe0",
   "metadata": {},
   "outputs": [],
   "source": [
    "fig = go.Figure()\n",
    "\n",
    "fig.add_trace(go.Funnel(\n",
    "    name = 'A',\n",
    "    y = users_test_group_pivot ['event_name'],\n",
    "    x = users_test_group_pivot ['A'],\n",
    "    textinfo = \"value + percent initial\"))\n",
    "\n",
    "fig.add_trace(go.Funnel(\n",
    "    name = 'B',\n",
    "    y = users_test_group_pivot ['event_name'],\n",
    "    x = users_test_group_pivot ['B'],\n",
    "    textinfo = \"value + percent initial\"))\n",
    "\n",
    "fig.update_layout(title='Воронка событий для каждой группы пользователей', title_x=0.5)\n",
    "fig.show()"
   ]
  },
  {
   "cell_type": "markdown",
   "id": "d275f480",
   "metadata": {},
   "source": [
    "Конверсия в покупку в группе А (31%) выше, чем в группе В (28%)."
   ]
  },
  {
   "cell_type": "markdown",
   "id": "f44936a3",
   "metadata": {},
   "source": [
    "### Вывод\n",
    "* Было определено, что количество событий в выборке А (12635 событий) значительно превосходит количество событий в выборке В (3665 событий).\n",
    "* В группе А пользователь в среднем совершает 6 действий. В группе В - 4 действия.\n",
    "* Общее количество событий, в разбикве по дням, в группе А выше, чем в группе В. Максимальная активность пользователей наблюдается 21.12.2020.\n",
    "* Наибольшее количество пользователей в обеих группах теряется на этапе перехода со страницы просмотра товара(product_page) на страницу просмотра корзины(product_cart)\n",
    "* Есть пользователи, которые пропускают страницу корзины (product_cart) и переходят со страницы товара (product_page) сразу к оплате (purchase). В связи с этип общее количество пользователей совершивших оплату выше, чем общее количество пользователей, перешедших в корзину.\n",
    "* Конверсия в покупку в группе А (31%) выше, чем в группе В (28%)."
   ]
  },
  {
   "cell_type": "markdown",
   "id": "3f90d052",
   "metadata": {},
   "source": [
    "## Шаг 4. Оценка результатов A/B-тестирования"
   ]
  },
  {
   "cell_type": "code",
   "execution_count": null,
   "id": "141b1445",
   "metadata": {},
   "outputs": [],
   "source": [
    "# распределение обзего количества событий между группами\n",
    "ab_events"
   ]
  },
  {
   "cell_type": "code",
   "execution_count": null,
   "id": "55130d04",
   "metadata": {},
   "outputs": [],
   "source": [
    "# количество выполнения каждого события в разбивке по группам\n",
    "users_test_group_pivot "
   ]
  },
  {
   "cell_type": "code",
   "execution_count": null,
   "id": "be9f4389",
   "metadata": {},
   "outputs": [],
   "source": [
    "# функция для определения статистической значимости различий между группами\n",
    "def z_test(actA,actB,groupA,groupB, eventname,alpha):\n",
    "    \n",
    "    p1 = actA/groupA\n",
    "    p2 = actB/groupB\n",
    "\n",
    "    p_combined = (actA + actB) / (groupA + groupB)\n",
    "    # считаем статистику в ст.отклонениях стандартного нормального распределения\n",
    "    difference = p1 - p2\n",
    "    z_value = difference / mth.sqrt(p_combined * (1 - p_combined) * (1/groupA + 1/groupB))\n",
    "    # задаем стандартное нормальное распределение (среднее 0, ст.отклонение 1)\n",
    "    distr = st.norm(0, 1)\n",
    "    p_value =(1 - distr.cdf(abs(z_value))) * 2\n",
    "\n",
    "    print(f'{eventname} p-значение: ', p_value)\n",
    "    \n",
    "    bonferroni_alpha =   alpha / 4\n",
    "\n",
    "    if p_value < bonferroni_alpha:\n",
    "        print('Отвергаем нулевую гипотезу: между долями есть значимая разница')\n",
    "        print('**************')\n",
    "    else:\n",
    "        print('Не получилось отвергнуть нулевую гипотезу, нет оснований считать доли разными')\n",
    "        print('**************')"
   ]
  },
  {
   "cell_type": "markdown",
   "id": "f22911ac",
   "metadata": {},
   "source": [
    "#### Формулирую гипотезы\n",
    "\n",
    "* H0 Доли уникальных посетителей, побывавших на этапе воронки, одинаковы.\n",
    "* H1 Между долями уникальных посетителей, побывавших на этапе воронки, есть значимая разница."
   ]
  },
  {
   "cell_type": "code",
   "execution_count": null,
   "id": "76dd7706",
   "metadata": {},
   "outputs": [],
   "source": [
    "test = [z_test(users_test_group_pivot ['A'][i],users_test_group_pivot['B'][i],ab_events['event_name'][0],ab_events['event_name'][1],users_test_group_pivot['event_name'][i],alpha = .05)\n",
    "        for i in range(len(users_test_group_pivot['A']))]"
   ]
  },
  {
   "cell_type": "markdown",
   "id": "62ba4269",
   "metadata": {},
   "source": [
    "### Вывод\n",
    "* Выявлена значимая разница в количестве уникальных посетителей между группами только на этапе login. На остальных этапах доли пользователей в обеих группах оказались равны.\n",
    "\n",
    "### Тест можно считать завершенным, результат теста отрицательный. Улучшение каждой метрики не менее, чем на 10% в новой платёжной воронке не выявлено."
   ]
  },
  {
   "cell_type": "markdown",
   "id": "b2bedfa9",
   "metadata": {},
   "source": [
    "## Шаг 5. Общий вывод."
   ]
  },
  {
   "cell_type": "markdown",
   "id": "3bda86e3",
   "metadata": {},
   "source": [
    "### Ознакомление\n",
    "* Выполнено преобразование столбца event_dt датафрейма events, столбца first_date датафрейма users, столбцов start_dt и finish_dt даиафрейма marketing к формату datetime64. \n",
    "* Выявлены пропуски в столбце details датафрейма events. Решено оставить их так как они не повлияют на дальнейший анализ.\n",
    "\n",
    "\n",
    "### Оценка корректности\n",
    "* При анализе выявлено 1602 пользователя, вошедшие в оба теста. Принято решение удалить их из анализа, так как достоверно определить который из тестов повлиял на поведение пользователей не представляется возможным.\n",
    "* После удаления пользователей, вошедших в оба теста, в тесте recommender_system_test осталось 5099 пользователей. По группам пользователи были поделены в следующем порядке: А- 2093 пользователя, В - 2196 пользователей.\n",
    "* Дата остановки теста согласно техническому заданию 2021-01-04, однако, логирование событий ограничено 2020-12-30.\n",
    "* В период проведения теста попала акция Christmas&New Year Promo. Данная акция может отразиться на результатах тестирования, так как проводилась в том числе и в самом многочисленном регионе тестирования EU. Принято решение исключить из исследования информацию об активности пользователей после 2020-12-25.\n",
    "* Процент пользователей участвующих в тесте от общего количества пользователей из Европы после всех преодбразований составил 10,26%. Согласно техническому заданию в тесте должно быть отобрано 15% новых пользователей из региона EU.\n",
    "\n",
    "### Исследовательский анализ\n",
    "* Было определено, что количество событий в выборке А (12635 событий) значительно превосходит количество событий в выборке В (3665 событий).\n",
    "* В группе А пользователь в среднем совершает 6 действий. В группе В - 4 действия.\n",
    "* Наибольшее количество пользователей в обеих группах теряется на этапе перехода со страницы просмотра товара(product_page) на страницу просмотра корзины(product_cart)\n",
    "* Конверсия в покупку в группе А (31%) выше, чем в группе В (28%).\n",
    "\n",
    "### Результат\n",
    "* Выявлена значимая разница в количестве уникальных посетителей между группами только на этапе login. На остальных этапах доли пользователей в обеих группах оказались равны.\n",
    "\n",
    "### Тест можно считать завершенным, результат теста отрицательный. Улучшение каждой метрики не менее, чем на 10% в новой платёжной воронке не выявлено."
   ]
  },
  {
   "cell_type": "code",
   "execution_count": null,
   "id": "32054e23",
   "metadata": {},
   "outputs": [],
   "source": []
  }
 ],
 "metadata": {
  "ExecuteTimeLog": [
   {
    "duration": 1338,
    "start_time": "2023-05-03T17:15:26.727Z"
   },
   {
    "duration": 4,
    "start_time": "2023-05-03T17:15:28.066Z"
   },
   {
    "duration": 7,
    "start_time": "2023-05-03T17:15:28.072Z"
   },
   {
    "duration": 1207,
    "start_time": "2023-05-03T17:15:28.081Z"
   },
   {
    "duration": 5,
    "start_time": "2023-05-03T17:15:29.290Z"
   },
   {
    "duration": 333,
    "start_time": "2023-05-03T17:15:29.297Z"
   },
   {
    "duration": 70,
    "start_time": "2023-05-03T17:15:29.632Z"
   },
   {
    "duration": 33,
    "start_time": "2023-05-03T17:15:29.704Z"
   },
   {
    "duration": 26,
    "start_time": "2023-05-03T17:15:29.739Z"
   },
   {
    "duration": 67,
    "start_time": "2023-05-03T17:15:29.791Z"
   },
   {
    "duration": 75,
    "start_time": "2023-05-03T17:15:29.860Z"
   },
   {
    "duration": 20,
    "start_time": "2023-05-03T17:15:29.937Z"
   },
   {
    "duration": 61,
    "start_time": "2023-05-03T17:15:29.959Z"
   },
   {
    "duration": 32,
    "start_time": "2023-05-03T17:15:30.022Z"
   },
   {
    "duration": 68,
    "start_time": "2023-05-03T17:15:30.056Z"
   },
   {
    "duration": 6,
    "start_time": "2023-05-03T17:15:30.125Z"
   },
   {
    "duration": 26,
    "start_time": "2023-05-03T17:15:30.133Z"
   },
   {
    "duration": 15,
    "start_time": "2023-05-03T17:15:30.162Z"
   },
   {
    "duration": 20,
    "start_time": "2023-05-03T17:15:30.193Z"
   },
   {
    "duration": 15,
    "start_time": "2023-05-03T17:15:30.215Z"
   },
   {
    "duration": 30,
    "start_time": "2023-05-03T17:15:30.232Z"
   },
   {
    "duration": 17,
    "start_time": "2023-05-03T17:15:30.265Z"
   },
   {
    "duration": 331,
    "start_time": "2023-05-03T17:15:30.284Z"
   },
   {
    "duration": 75,
    "start_time": "2023-05-03T17:15:30.618Z"
   },
   {
    "duration": 45,
    "start_time": "2023-05-03T17:15:30.695Z"
   },
   {
    "duration": 25,
    "start_time": "2023-05-03T17:15:30.742Z"
   },
   {
    "duration": 208,
    "start_time": "2023-05-03T17:15:30.769Z"
   },
   {
    "duration": 18,
    "start_time": "2023-05-03T17:15:30.979Z"
   },
   {
    "duration": 65,
    "start_time": "2023-05-03T17:15:30.999Z"
   },
   {
    "duration": 20,
    "start_time": "2023-05-03T17:15:31.066Z"
   },
   {
    "duration": 45,
    "start_time": "2023-05-03T17:15:31.088Z"
   },
   {
    "duration": 148,
    "start_time": "2023-05-03T17:15:31.136Z"
   },
   {
    "duration": 9,
    "start_time": "2023-05-03T17:15:31.286Z"
   },
   {
    "duration": 50,
    "start_time": "2023-05-03T17:15:31.297Z"
   },
   {
    "duration": 405,
    "start_time": "2023-05-03T17:15:31.349Z"
   },
   {
    "duration": 18,
    "start_time": "2023-05-03T17:15:31.756Z"
   },
   {
    "duration": 417,
    "start_time": "2023-05-03T17:15:31.791Z"
   },
   {
    "duration": 23,
    "start_time": "2023-05-03T17:15:32.210Z"
   },
   {
    "duration": 64,
    "start_time": "2023-05-03T17:15:32.235Z"
   },
   {
    "duration": 6,
    "start_time": "2023-05-03T17:15:32.301Z"
   },
   {
    "duration": 29,
    "start_time": "2023-05-03T17:15:32.311Z"
   },
   {
    "duration": 25,
    "start_time": "2023-05-03T17:15:32.341Z"
   },
   {
    "duration": 36,
    "start_time": "2023-05-03T17:15:32.368Z"
   }
  ],
  "kernelspec": {
   "display_name": "Python 3 (ipykernel)",
   "language": "python",
   "name": "python3"
  },
  "language_info": {
   "codemirror_mode": {
    "name": "ipython",
    "version": 3
   },
   "file_extension": ".py",
   "mimetype": "text/x-python",
   "name": "python",
   "nbconvert_exporter": "python",
   "pygments_lexer": "ipython3",
   "version": "3.9.13"
  },
  "toc": {
   "base_numbering": 1,
   "nav_menu": {},
   "number_sections": true,
   "sideBar": true,
   "skip_h1_title": true,
   "title_cell": "Table of Contents",
   "title_sidebar": "Contents",
   "toc_cell": false,
   "toc_position": {},
   "toc_section_display": true,
   "toc_window_display": true
  }
 },
 "nbformat": 4,
 "nbformat_minor": 5
}
