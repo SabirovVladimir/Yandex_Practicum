{
 "cells": [
  {
   "cell_type": "markdown",
   "id": "9f263ec7",
   "metadata": {},
   "source": [
    "## Проект: Анализ рынка недвижимости в Санкт Петербурге"
   ]
  },
  {
   "cell_type": "markdown",
   "id": "e2459d22",
   "metadata": {},
   "source": [
    "### Описание проекта\n",
    "В нашем распоряжении данные сервиса Яндекс Недвижимость — архив объявлений за несколько лет о продаже квартир в Санкт-Петербурге и соседних населённых пунктах.\n",
    "#### Задача — выполнить предобработку данных и изучить их, чтобы найти интересные особенности и зависимости, которые существуют на рынке недвижимости.\n",
    "О каждой квартире в базе содержится два типа данных: добавленные пользователем и картографические. Например, к первому типу относятся площадь квартиры, её этаж и количество балконов, ко второму — расстояния до центра города, аэропорта и ближайшего парка. "
   ]
  },
  {
   "cell_type": "markdown",
   "id": "57b12e5d",
   "metadata": {},
   "source": [
    "#### План выполнения проекта\n",
    "#### Шаг 1. Ознакомление с данными\n",
    "* Изучение общей информации о полученном датафрейме.\n",
    "\n",
    "#### Шаг 2. Предобработка данных\n",
    "* Анализ датафрейма на пропуски и дубликаты.\n",
    "* Заполнение пропущенных значений там, где это возможно.\n",
    "* Преобразование типов данных.\n",
    "* Анализ датафрейма на аномалии. \n",
    "\n",
    "#### Шаг 3. Добавление в таблицу новых столбцов со следующими параметрами:\n",
    "* цена одного квадратного метра;\n",
    "* день недели публикации объявления (0 — понедельник, 1 — вторник и так далее);\n",
    "* месяц публикации объявления;\n",
    "* год публикации объявления;\n",
    "* тип этажа квартиры (значения — «первый», «последний», «другой»);\n",
    "* расстояние до центра города в километрах (переведите из м в км и округлите до целых значений).\n",
    "\n",
    "#### Шаг 4. Проведите исследовательский анализ данных:\n",
    "* Изучение параметров объектов: общая площадь; жилая площадь; площадь кухни; цена объекта; количество комнат; высота потолков; этаж квартиры; тип этажа квартиры («первый», «последний», «другой»); общее количество этажей в доме; расстояние до центра города в метрах; расстояние до ближайшего аэропорта; расстояние до ближайшего парка; день и месяц публикации объявления.\n",
    "* Построение гистограмм для каждого из этих параметров. \n",
    "* Выводы по полученным резульатам\n",
    "* Изучение того, как быстро продавались квартиры.  \n",
    "* Выводы согласно среднего времени, необходимого для продажи квартиры. Определение сроков быстрых и медленных продаж.\n",
    "* Определение факторов, влияющих на общую (полную) стоимость объекта? Зависит ли цена от: общей площади; жилой площади; площади кухни; количества комнат; этажа, на котором расположена квартира (первый, последний, другой); даты размещения (день недели, месяц, год).\n",
    "* Построение графиков, которые покажут зависимость цены от указанных выше параметров. \n",
    "* Определение средней цены одного квадратного метра в 10 населённых пунктах с наибольшим числом объявлений. Определение населённых пунктов с самой высокой и низкой стоимостью квадратного метра.\n",
    "* Определение зависимости цены одного квадратного метра от расстояния от центра города\n",
    "\n",
    "#### Шаг 5. Общий вывод на основании проведенного анализа\n",
    "* Описание полученных результатов и формирование основного вывода из проведённого исследования."
   ]
  },
  {
   "cell_type": "markdown",
   "id": "27adf11e",
   "metadata": {},
   "source": [
    "###  Изучение информации."
   ]
  },
  {
   "cell_type": "code",
   "execution_count": null,
   "id": "19ebc92d",
   "metadata": {},
   "outputs": [],
   "source": [
    "import pandas as pd #импортировал библиотеку pandas\n",
    "import matplotlib.pyplot as plt #импортировал библиотеку mathplotlib\n",
    "import seaborn as sns #импортировал библиотеку seaborn"
   ]
  },
  {
   "cell_type": "code",
   "execution_count": null,
   "id": "866d5a94",
   "metadata": {},
   "outputs": [],
   "source": [
    "try:\n",
    "    df = pd.read_csv(r\"D:\\DOCS\\datasets/real_estate_data.csv\", sep='\\t')\n",
    "except FileNotFoundError:\n",
    "    df = pd.read_csv('/datasets/real_estate_data.csv', sep='\\t')"
   ]
  },
  {
   "cell_type": "code",
   "execution_count": null,
   "id": "4f5a2059",
   "metadata": {},
   "outputs": [],
   "source": [
    "df.head(20) # Вывел первые 20 строчек датафрейма на экран с целью изучения данных"
   ]
  },
  {
   "cell_type": "code",
   "execution_count": null,
   "id": "5af5cfde",
   "metadata": {},
   "outputs": [],
   "source": [
    "df.info(); #получил основную информацию о датафрейме"
   ]
  },
  {
   "cell_type": "code",
   "execution_count": null,
   "id": "4ed269cf",
   "metadata": {},
   "outputs": [],
   "source": [
    "df.hist(figsize=(15, 20)); # построил общую гистограмму для всех числовых столбцов таблицы"
   ]
  },
  {
   "cell_type": "markdown",
   "id": "b955da35",
   "metadata": {},
   "source": [
    "### Предобработка данных."
   ]
  },
  {
   "cell_type": "code",
   "execution_count": null,
   "id": "5d50f48d",
   "metadata": {
    "scrolled": false
   },
   "outputs": [],
   "source": [
    "df.isna().sum() #получил количество пропусков в каждом столбце"
   ]
  },
  {
   "cell_type": "code",
   "execution_count": null,
   "id": "da0d04e4",
   "metadata": {},
   "outputs": [],
   "source": [
    "# check\n",
    "# пропущенные значения бары\n",
    "\n",
    "def pass_value_barh(df):\n",
    "    try:\n",
    "        (\n",
    "            (df.isna().mean()*100)\n",
    "            .to_frame()\n",
    "            .rename(columns = {0:'space'})\n",
    "            .query('space > 0')\n",
    "            .sort_values(by = 'space', ascending = True)\n",
    "            .plot(kind = 'barh', figsize = (19,6), rot = -5, legend = False, fontsize = 16)\n",
    "            .set_title('Пример' + \"\\n\", fontsize = 22, color = 'SteelBlue')    \n",
    "        );    \n",
    "    except:\n",
    "        print('пропусков не осталось :) ')"
   ]
  },
  {
   "cell_type": "code",
   "execution_count": null,
   "id": "4a9d65f4",
   "metadata": {},
   "outputs": [],
   "source": [
    "pass_value_barh(df)"
   ]
  },
  {
   "cell_type": "code",
   "execution_count": null,
   "id": "5a187758",
   "metadata": {},
   "outputs": [],
   "source": [
    "# заполнил пропуски в столбце balcony значением 0\n",
    "df['balcony'] = df['balcony'].fillna(value=0) "
   ]
  },
  {
   "cell_type": "code",
   "execution_count": null,
   "id": "9832fa69",
   "metadata": {},
   "outputs": [],
   "source": [
    "# удалил строки с пропущенными значениями этажности здания, их количество незначительное, \n",
    "# восстановить эти пропуски не представляется возможным\n",
    "df.dropna(subset=['floors_total'], inplace=True)"
   ]
  },
  {
   "cell_type": "code",
   "execution_count": null,
   "id": "226bc430",
   "metadata": {},
   "outputs": [],
   "source": [
    "# заполнил пропуски в столбце is_apartment на основании столбцов studio и open_plan, в которых пропусков не было\n",
    "df['is_apartment'] = True\n",
    "df.loc[df['studio'] == True, 'is_apartment'] = False\n",
    "df.loc[df['open_plan'] == True, 'is_apartment'] = False"
   ]
  },
  {
   "cell_type": "markdown",
   "id": "fd7f90fb",
   "metadata": {},
   "source": [
    "#### Работа c выбросами и пропусками в колонке  ceiling_height"
   ]
  },
  {
   "cell_type": "code",
   "execution_count": null,
   "id": "1834c498",
   "metadata": {
    "scrolled": true
   },
   "outputs": [],
   "source": [
    "# Вывел описание значение в столбце ceiling_height для последующей оценки после обработки.\n",
    "df['ceiling_height'].describe()"
   ]
  },
  {
   "cell_type": "code",
   "execution_count": null,
   "id": "026e74ed",
   "metadata": {},
   "outputs": [],
   "source": [
    "# Количество пропусков в колонке ceiling_height\n",
    "df['ceiling_height'].isna().sum()"
   ]
  },
  {
   "cell_type": "code",
   "execution_count": null,
   "id": "38ad77ac",
   "metadata": {},
   "outputs": [],
   "source": [
    "# Оцениваю стандартное отклонение значений высоты потолков до обработки данных\n",
    "df['ceiling_height'].std()"
   ]
  },
  {
   "cell_type": "code",
   "execution_count": null,
   "id": "98cd7793",
   "metadata": {},
   "outputs": [],
   "source": [
    "df['ceiling_height'].unique()"
   ]
  },
  {
   "cell_type": "code",
   "execution_count": null,
   "id": "dfb642a4",
   "metadata": {
    "scrolled": false
   },
   "outputs": [],
   "source": [
    "# check\n",
    "df.info()"
   ]
  },
  {
   "cell_type": "code",
   "execution_count": null,
   "id": "e16fdb53",
   "metadata": {},
   "outputs": [],
   "source": [
    "# создадим список с индексами ceiling_height от 20 до 100 с целью корректировки значений. Вероятно, при вводе данных \n",
    "# пользователь ошибочно ввел 20 вместо 2.0\n",
    "ceiling_height_index = df.query('ceiling_height >= 20 & ceiling_height <= 100').index \n",
    "df.loc[ceiling_height_index,'ceiling_height'] = df.loc[ceiling_height_index,'ceiling_height'] / 10\n",
    "# Удалил строки с значением высоты потолков более 10 и менее 2.5, сохраняя пропуски\n",
    "df = df.loc[(df['ceiling_height'].isna()) | ((df['ceiling_height'] <= 10) & (df['ceiling_height'] >= 2.5))]\n",
    "# Заполнил пропуски медианным значением\n",
    "df['ceiling_height'] = df['ceiling_height'].fillna(df['ceiling_height'].median())"
   ]
  },
  {
   "cell_type": "code",
   "execution_count": null,
   "id": "ede3c3ec",
   "metadata": {
    "scrolled": false
   },
   "outputs": [],
   "source": [
    "# check\n",
    "df.info()"
   ]
  },
  {
   "cell_type": "code",
   "execution_count": null,
   "id": "aab9f425",
   "metadata": {},
   "outputs": [],
   "source": [
    "# Check\n",
    "df['ceiling_height'].describe()"
   ]
  },
  {
   "cell_type": "code",
   "execution_count": null,
   "id": "7dad93d9",
   "metadata": {},
   "outputs": [],
   "source": [
    "# Check\n",
    "df['ceiling_height'].std()"
   ]
  },
  {
   "cell_type": "code",
   "execution_count": null,
   "id": "4ffc6304",
   "metadata": {},
   "outputs": [],
   "source": [
    "df['ceiling_height'].isna().sum()"
   ]
  },
  {
   "cell_type": "markdown",
   "id": "e6b941c5",
   "metadata": {},
   "source": [
    "#### Работа c выбросами и пропусками в колонке  kitchen_area"
   ]
  },
  {
   "cell_type": "code",
   "execution_count": null,
   "id": "6109d2a7",
   "metadata": {},
   "outputs": [],
   "source": [
    "# Вывел количество пропусков в столбце kitchen_area.\n",
    "df['kitchen_area'].isna().sum()"
   ]
  },
  {
   "cell_type": "code",
   "execution_count": null,
   "id": "96dd7793",
   "metadata": {},
   "outputs": [],
   "source": [
    "# Вывел описание значение в столбце kitchen_area для последующей оценки после обработки.\n",
    "df['kitchen_area'].describe()"
   ]
  },
  {
   "cell_type": "code",
   "execution_count": null,
   "id": "4ed6c5b8",
   "metadata": {},
   "outputs": [],
   "source": [
    "# Вывел стандартное отклонение в столбце kitchen_area для последующей оценки после обработки.\n",
    "df['kitchen_area'].std()"
   ]
  },
  {
   "cell_type": "code",
   "execution_count": null,
   "id": "385df1eb",
   "metadata": {},
   "outputs": [],
   "source": [
    "# Преобразовал значения в столбце kitchen_area от 70 до 100. И перобразовал их до 7-12 метров\n",
    "kitchen_area_index = df.query('kitchen_area >= 70 & kitchen_area <= 100').index \n",
    "df.loc[kitchen_area_index,'kitchen_area'] = df.loc[kitchen_area_index,'kitchen_area'] / 10\n",
    "# Удалил строки со значением менее 4 метров, сохраняя пропуски\n",
    "df = df.loc[(df['kitchen_area'].isna()) | (df['kitchen_area'] >= 4)]\n",
    "# Заполнил пропуски медианным значением\n",
    "df['kitchen_area'] = df['kitchen_area'].fillna(df['kitchen_area'].median())"
   ]
  },
  {
   "cell_type": "code",
   "execution_count": null,
   "id": "a870c127",
   "metadata": {},
   "outputs": [],
   "source": [
    "# Check\n",
    "df['kitchen_area'].describe()"
   ]
  },
  {
   "cell_type": "code",
   "execution_count": null,
   "id": "e2eca108",
   "metadata": {},
   "outputs": [],
   "source": [
    "# Check\n",
    "df['kitchen_area'].std()"
   ]
  },
  {
   "cell_type": "code",
   "execution_count": null,
   "id": "657e11d1",
   "metadata": {},
   "outputs": [],
   "source": [
    "# Check\n",
    "df['kitchen_area'].isna().sum()"
   ]
  },
  {
   "cell_type": "markdown",
   "id": "07054761",
   "metadata": {},
   "source": [
    "#### Работа c выбросами и пропусками в колонке  living_area"
   ]
  },
  {
   "cell_type": "code",
   "execution_count": null,
   "id": "5fdc7be9",
   "metadata": {},
   "outputs": [],
   "source": [
    "# Вывел количество пропусков в столбце living_area.\n",
    "df['living_area'].isna().sum()"
   ]
  },
  {
   "cell_type": "code",
   "execution_count": null,
   "id": "0a1a49df",
   "metadata": {},
   "outputs": [],
   "source": [
    "# Вывел описание значение в столбце living_area для последующей оценки после обработки.\n",
    "df['living_area'].describe()"
   ]
  },
  {
   "cell_type": "code",
   "execution_count": null,
   "id": "9c997166",
   "metadata": {},
   "outputs": [],
   "source": [
    "# Вывел стандартное отклонение в столбце kitchen_area для последующей оценки после обработки.\n",
    "df['living_area'].std()"
   ]
  },
  {
   "cell_type": "code",
   "execution_count": null,
   "id": "45ae06c6",
   "metadata": {},
   "outputs": [],
   "source": [
    "# Преобразовал значения в столбце living_area более 200. Поделил на 10\n",
    "living_area_index = df.query('living_area >= 200').index \n",
    "df.loc[living_area_index,'living_area'] = df.loc[living_area_index,'living_area'] / 10\n",
    "# Удалил строки со значением менее 10 метров\n",
    "df = df.loc[(df['living_area'].isna()) | (df['living_area'] >= 10)]\n",
    "# Заполнил пропуски медианным значением\n",
    "df['living_area'] = df['living_area'].fillna(df['living_area'].median())"
   ]
  },
  {
   "cell_type": "code",
   "execution_count": null,
   "id": "b7f9a4e4",
   "metadata": {},
   "outputs": [],
   "source": [
    "# Check\n",
    "df['living_area'].describe()"
   ]
  },
  {
   "cell_type": "code",
   "execution_count": null,
   "id": "87d3ea13",
   "metadata": {},
   "outputs": [],
   "source": [
    "# Check\n",
    "df['living_area'].std()"
   ]
  },
  {
   "cell_type": "code",
   "execution_count": null,
   "id": "c125d220",
   "metadata": {},
   "outputs": [],
   "source": [
    "# Check\n",
    "df['living_area'].isna().sum()"
   ]
  },
  {
   "cell_type": "code",
   "execution_count": null,
   "id": "7c22640e",
   "metadata": {},
   "outputs": [],
   "source": [
    "# Удалил строки не подъходяцие под условие\n",
    "df = df.loc[(df['total_area'] * 0.9) >= (df['living_area'] + df['kitchen_area'])]"
   ]
  },
  {
   "cell_type": "code",
   "execution_count": null,
   "id": "4c77a7fd",
   "metadata": {},
   "outputs": [],
   "source": [
    "# заполнил пропуски в столбцах parks_around3000 и pounds_around3000 значением 0. Так как, вероято, если люди размещавшие \n",
    "# объявление эти параметры пропустили, то их там нет\n",
    "df['parks_around3000'] = df['parks_around3000'].fillna(value=0).round().astype('Int64')\n",
    "df['ponds_around3000'] = df['ponds_around3000'].fillna(value=0).round().astype('Int64')"
   ]
  },
  {
   "cell_type": "code",
   "execution_count": null,
   "id": "32b4bcc0",
   "metadata": {},
   "outputs": [],
   "source": [
    "# привел к int значения floors_total, last_price, balcony, floor\n",
    "columns_list = ['floors_total','last_price','balcony','floor']\n",
    "\n",
    "for column in columns_list:\n",
    "    df[column] = df[column].astype('int')"
   ]
  },
  {
   "cell_type": "code",
   "execution_count": null,
   "id": "387d5cdb",
   "metadata": {},
   "outputs": [],
   "source": [
    "df.info()"
   ]
  },
  {
   "cell_type": "code",
   "execution_count": null,
   "id": "cad9850c",
   "metadata": {},
   "outputs": [],
   "source": [
    "# преобразовал значения дня публикации объявления\n",
    "df['first_day_exposition'] = pd.to_datetime(df['first_day_exposition'],format='%Y.%m.%d')"
   ]
  },
  {
   "cell_type": "code",
   "execution_count": null,
   "id": "3cd434c7",
   "metadata": {},
   "outputs": [],
   "source": [
    "# удалил строки с объявлениеями, со дня публикации которых прошло более трех лет\n",
    "df.loc[(df['days_exposition'].isna()) |(df['days_exposition'] < 365*3)]\n",
    "# ипривел полученные значения к целочисленному показателю\n",
    "df['days_exposition'] = df['days_exposition'].round().astype('Int64')"
   ]
  },
  {
   "cell_type": "code",
   "execution_count": null,
   "id": "f0ef0aa5",
   "metadata": {},
   "outputs": [],
   "source": [
    "# check\n",
    "data = df.copy()"
   ]
  },
  {
   "cell_type": "code",
   "execution_count": null,
   "id": "7941d424",
   "metadata": {},
   "outputs": [],
   "source": [
    "# check\n",
    "df.info()"
   ]
  },
  {
   "cell_type": "code",
   "execution_count": null,
   "id": "8702f5e4",
   "metadata": {},
   "outputs": [],
   "source": [
    "# Удалил объявления с количеством комнат более 10\n",
    "df = df.loc[(df['rooms'] <= 10)]"
   ]
  },
  {
   "cell_type": "code",
   "execution_count": null,
   "id": "c085c3fd",
   "metadata": {},
   "outputs": [],
   "source": [
    "# Удалил обхъявления с общей площадью более 250\n",
    "df = df.loc[(df['total_area'] <= 250)]"
   ]
  },
  {
   "cell_type": "code",
   "execution_count": null,
   "id": "e51f05d0",
   "metadata": {},
   "outputs": [],
   "source": [
    "# Удалил объявления с датой размещения более 3 лет, сохраняя пропуски\n",
    "df = df.loc[(df['days_exposition'].isna()) | (df['days_exposition'] >= 3)]"
   ]
  },
  {
   "cell_type": "code",
   "execution_count": null,
   "id": "4a5b4bfc",
   "metadata": {},
   "outputs": [],
   "source": [
    "# Удалил объявления с ценой менее 700000\n",
    "df = df.loc[(df['last_price'] >= 700000)]"
   ]
  },
  {
   "cell_type": "code",
   "execution_count": null,
   "id": "7d7d511a",
   "metadata": {},
   "outputs": [],
   "source": [
    "df['kitchen_area'].hist(bins=50, range=(2,10))\n",
    "plt.xlabel('Площадь кухни')\n",
    "plt.ylabel('Количество объявлений')\n",
    "plt.title('Оценка площади кухни в представленных объявлениях');"
   ]
  },
  {
   "cell_type": "code",
   "execution_count": null,
   "id": "4bf87d6a",
   "metadata": {
    "scrolled": false
   },
   "outputs": [],
   "source": [
    "# check\n",
    "\n",
    "# Показатели о кол-ве объявлений в датасете, минимальных и максимальных значениях \n",
    "# в выбранных параметрах о продаже квартир\n",
    "\n",
    "(\n",
    "    df[['rooms', 'total_area', 'ceiling_height', 'days_exposition', 'last_price', 'living_area',  'kitchen_area',\n",
    "          'floor', 'floors_total']]\n",
    "    .apply (['count', 'min', 'max'])   \n",
    "    .style.format(\"{:,.2f}\")\n",
    ")"
   ]
  },
  {
   "cell_type": "code",
   "execution_count": null,
   "id": "54dc02ee",
   "metadata": {},
   "outputs": [],
   "source": [
    "# check\n",
    "data.hist(column = 'days_exposition', bins = 50, figsize = (15,3), range = (0,5));\n",
    "\n",
    "data.hist(column = 'days_exposition', bins = 50, figsize = (15,3), range = (0,5))\n",
    "plt.ylim(0, 40);"
   ]
  },
  {
   "cell_type": "code",
   "execution_count": null,
   "id": "98568713",
   "metadata": {},
   "outputs": [],
   "source": [
    "# check\n",
    "df.rooms.value_counts().to_frame()"
   ]
  },
  {
   "cell_type": "code",
   "execution_count": null,
   "id": "a68e123f",
   "metadata": {
    "scrolled": false
   },
   "outputs": [],
   "source": [
    "# check\n",
    "data.total_area.hist(bins = 150, figsize = (15,3), range=(0,250));"
   ]
  },
  {
   "cell_type": "code",
   "execution_count": null,
   "id": "beff4987",
   "metadata": {
    "scrolled": true
   },
   "outputs": [],
   "source": [
    "# check\n",
    "df.total_area.hist(bins = 150, figsize = (15,3), range = (180,250));"
   ]
  },
  {
   "cell_type": "code",
   "execution_count": null,
   "id": "08480444",
   "metadata": {
    "scrolled": true
   },
   "outputs": [],
   "source": [
    "# check\n",
    "df.total_area.hist(bins = 15, figsize = (15,3), range = (180,250));"
   ]
  },
  {
   "cell_type": "code",
   "execution_count": null,
   "id": "084d8375",
   "metadata": {},
   "outputs": [],
   "source": [
    "# check\n",
    "\n",
    "# Значения параметров объектов недвижимости на разных квантилях\n",
    "\n",
    "(\n",
    "    data[['rooms', 'total_area', 'ceiling_height', 'days_exposition', 'last_price', 'living_area',  \n",
    "        'kitchen_area', 'floor',   'floors_total']]\n",
    "    .quantile([0.0012, 0.01, .5, .99, .9988]) # выбираем размах в 0,9976 квантилей \n",
    "    .style.format(\"{:,.2f}\")\n",
    ")"
   ]
  },
  {
   "cell_type": "markdown",
   "id": "34c77a9a",
   "metadata": {},
   "source": [
    "### Заполнены пропущенные значения в столбцах balcony. ceiling_height. total_floors. is_apartment. Данные пропуски, вероятно, возникли в результате человесческого фактора. То есть, не были внесены пользователем, размещающим объявление."
   ]
  },
  {
   "cell_type": "code",
   "execution_count": null,
   "id": "2ecc37ca",
   "metadata": {
    "scrolled": true
   },
   "outputs": [],
   "source": [
    "df['locality_name'] = df['locality_name'].str.lower() #привел все значения в locality_name к нижнему регистру\n",
    "df['locality_name'] = df['locality_name'].str.replace('ё','е') # заменил все ё на е\n",
    "# создал список, который мог ктороый поможет избежать появления неявных дубликатов \n",
    "locality_name_list = ['городской поселок',\n",
    "                      'деревня', \n",
    "                      'поселок городского типа',\n",
    "                      'поселок станции',\n",
    "                      'садоведческое некоммерческое товарищество',\n",
    "                      'садовое товарищество',\n",
    "                      'село',\n",
    "                      'коттеджный поселок',\n",
    "                      'городской поселок',\n",
    "                      'пок']\n",
    "def locality_name_replace(data, column, locality_name_list): # создал функцию, для замены значений localyti_name_list \n",
    "    for locality_name in locality_name_list:                 #в столбце 'locality_name' на пустоту\n",
    "        data[column] = data[column].str.replace(locality_name, '')\n",
    "        \n",
    "locality_name_replace(df,'locality_name', locality_name_list)\n",
    "df['locality_name'].str.strip().unique() # удалил пробелы перед названиями населенных пунктов"
   ]
  },
  {
   "cell_type": "code",
   "execution_count": null,
   "id": "d4773569",
   "metadata": {},
   "outputs": [],
   "source": [
    "# df.dropna(subset='locality_name', inplace=True) # удалил строки с пропущенными значениями locality_name"
   ]
  },
  {
   "cell_type": "code",
   "execution_count": null,
   "id": "7ee7ccb7",
   "metadata": {},
   "outputs": [],
   "source": [
    "# check\n",
    "df['locality_name'].nunique()"
   ]
  },
  {
   "cell_type": "code",
   "execution_count": null,
   "id": "4313d668",
   "metadata": {},
   "outputs": [],
   "source": [
    "# check\n",
    "data = df.copy()"
   ]
  },
  {
   "cell_type": "code",
   "execution_count": null,
   "id": "156f01ac",
   "metadata": {},
   "outputs": [],
   "source": [
    "# check\n",
    "data.info()"
   ]
  },
  {
   "cell_type": "code",
   "execution_count": null,
   "id": "cdf9fe77",
   "metadata": {
    "scrolled": false
   },
   "outputs": [],
   "source": [
    "# check\n",
    "\n",
    "# Показатели о кол-ве объявлений в датасете, минимальных и максимальных значениях \n",
    "# в выбранных параметрах о продаже квартир\n",
    "\n",
    "(\n",
    "    df[['rooms', 'total_area', 'ceiling_height', 'days_exposition', 'last_price', 'living_area',  'kitchen_area',\n",
    "          'floor', 'floors_total']]\n",
    "    .apply (['count', 'min', 'max'])   \n",
    "    .style.format(\"{:,.2f}\")\n",
    ")"
   ]
  },
  {
   "cell_type": "code",
   "execution_count": null,
   "id": "e2aa03f8",
   "metadata": {},
   "outputs": [],
   "source": [
    "# check\n",
    "data.rooms.value_counts().to_frame()"
   ]
  },
  {
   "cell_type": "code",
   "execution_count": null,
   "id": "554aac03",
   "metadata": {
    "scrolled": false
   },
   "outputs": [],
   "source": [
    "# check\n",
    "data.total_area.hist(bins = 150, figsize = (15,3));"
   ]
  },
  {
   "cell_type": "code",
   "execution_count": null,
   "id": "1a1f8915",
   "metadata": {
    "scrolled": true
   },
   "outputs": [],
   "source": [
    "# check\n",
    "data.total_area.hist(bins = 150, figsize = (15,3), range = (25,250));"
   ]
  },
  {
   "cell_type": "code",
   "execution_count": null,
   "id": "6244a0f9",
   "metadata": {
    "scrolled": true
   },
   "outputs": [],
   "source": [
    "# check\n",
    "data.total_area.hist(bins = 15, figsize = (15,3), range = (25,250));"
   ]
  },
  {
   "cell_type": "code",
   "execution_count": null,
   "id": "7d56ea99",
   "metadata": {},
   "outputs": [],
   "source": [
    "# check\n",
    "\n",
    "# Значения параметров объектов недвижимости на разных квантилях\n",
    "\n",
    "(\n",
    "    data[['rooms', 'total_area', 'ceiling_height', 'days_exposition', 'last_price', 'living_area',  \n",
    "        'kitchen_area', 'floor',   'floors_total']]\n",
    "    .quantile([0.0012, 0.01, .5, .99, .9988]) # выбираем размах в 0,9976 квантилей \n",
    "    .style.format(\"{:,.2f}\")\n",
    ")"
   ]
  },
  {
   "cell_type": "markdown",
   "id": "fba7509e",
   "metadata": {},
   "source": [
    "### Добавление в таблицу новых столбцов."
   ]
  },
  {
   "cell_type": "code",
   "execution_count": null,
   "id": "6978886a",
   "metadata": {},
   "outputs": [],
   "source": [
    "# добавил столбец с ценой одного квадратного метра\n",
    "df['price_of_m2'] = df['last_price'] / df['total_area']"
   ]
  },
  {
   "cell_type": "code",
   "execution_count": null,
   "id": "32f4b9a5",
   "metadata": {},
   "outputs": [],
   "source": [
    "# добавил столбец c типом этажа квартиры (значения — «первый», «последний», «другой»).\n",
    "def categorize_floors(df):\n",
    "    if df['floor'] == 1:\n",
    "        return 'первый'\n",
    "    elif df['floor'] < df['floors_total']:\n",
    "        return 'другой'\n",
    "    elif df['floor'] == df['floors_total']:\n",
    "        return 'последний'\n",
    "    else:\n",
    "        return 'не найдено'\n",
    "\n",
    "df['floor_category'] = df.apply(categorize_floors, axis=1)"
   ]
  },
  {
   "cell_type": "code",
   "execution_count": null,
   "id": "788b0627",
   "metadata": {},
   "outputs": [],
   "source": [
    "df['floor'].unique()\n",
    "# Еулевых и отрицательных значений не выявлено"
   ]
  },
  {
   "cell_type": "code",
   "execution_count": null,
   "id": "c2e26414",
   "metadata": {},
   "outputs": [],
   "source": [
    "# добавил столбец с днем недели публикации объявления.\n",
    "df['publication_day'] = df['first_day_exposition'].dt.dayofweek"
   ]
  },
  {
   "cell_type": "code",
   "execution_count": null,
   "id": "586713d1",
   "metadata": {},
   "outputs": [],
   "source": [
    "# добавил столбец с месяцем публикации объявления.\n",
    "df['publication_month'] = df['first_day_exposition'].dt.month"
   ]
  },
  {
   "cell_type": "code",
   "execution_count": null,
   "id": "2e5e8405",
   "metadata": {},
   "outputs": [],
   "source": [
    "# добавил столбец с годом недели публикации объявления.\n",
    "df['publication_year'] = df['first_day_exposition'].dt.year"
   ]
  },
  {
   "cell_type": "code",
   "execution_count": null,
   "id": "4e07bd4d",
   "metadata": {},
   "outputs": [],
   "source": [
    "# добавил столбец с расстоянием до центра города в километрах.\n",
    "df['cityCenters_nearest_km'] = round(df['cityCenters_nearest'] / 1000)\n",
    "try:\n",
    "    df['cityCenters_nearest_km'] = df['cityCenters_nearest_km'].astype('int')\n",
    "except:\n",
    "    pass"
   ]
  },
  {
   "cell_type": "markdown",
   "id": "a2704fe5",
   "metadata": {},
   "source": [
    "### Исследовательский анализ данных."
   ]
  },
  {
   "cell_type": "code",
   "execution_count": null,
   "id": "772698b2",
   "metadata": {},
   "outputs": [],
   "source": [
    "# Постороил гистограмму описывающую общую площадь квартир.\n",
    "df.hist('total_area',bins=100, range=(20,250), figsize=(15, 5));"
   ]
  },
  {
   "cell_type": "markdown",
   "id": "c71c63cb",
   "metadata": {},
   "source": [
    "#### По гистограмме можно судить о том что подавляющее число кваритр, размещенных в объявляниях имеют площадь менее 100 метров в квадрате"
   ]
  },
  {
   "cell_type": "code",
   "execution_count": null,
   "id": "52c05b10",
   "metadata": {},
   "outputs": [],
   "source": [
    "# Постороил гистограмму описывающую жилую площадь квартир. Удалил строки с жилой площадью менее 10 метров\n",
    "df= df[(df['living_area'] >= 10)]\n",
    "df.hist('living_area', bins=100, range=(10,100), figsize=(15, 5));"
   ]
  },
  {
   "cell_type": "markdown",
   "id": "f5e73044",
   "metadata": {},
   "source": [
    "#### По данной гистограмме можно сказать, что бОльшая часть квартир имеют жилую клощадь от 10 до 60 метров в квадрате, притом пик приходится на значения до 30 метров в квадрате."
   ]
  },
  {
   "cell_type": "code",
   "execution_count": null,
   "id": "550da64f",
   "metadata": {},
   "outputs": [],
   "source": [
    "# Постороил гистограмму описывающую площадь кухни.\n",
    "df.hist('kitchen_area', bins=27, range=(3,50), figsize=(15, 5));"
   ]
  },
  {
   "cell_type": "markdown",
   "id": "f31c352a",
   "metadata": {},
   "source": [
    "#### По данной гистограмме можно сказать, что бОльшая часть квартир имеет площадь кухни не превышающаю 17 метров в квадрате. Пики приходятся на значения до 10 метров в квадрате."
   ]
  },
  {
   "cell_type": "code",
   "execution_count": null,
   "id": "018cd613",
   "metadata": {},
   "outputs": [],
   "source": [
    "# Постороил гистограмму описывающую полную стоимость квартир;\n",
    "df = df[(df['last_price'] <= 600000000)]\n",
    "df.hist('last_price', bins=100, range=(500000,20000000), figsize=(15, 5));"
   ]
  },
  {
   "cell_type": "markdown",
   "id": "1c228ecb",
   "metadata": {},
   "source": [
    "#### По данной гистограмме можно сказать, что бОльшая часть квартир имеет цену до 10 миллионов. Пик цен приходится до отметки в пять миллионов"
   ]
  },
  {
   "cell_type": "code",
   "execution_count": null,
   "id": "7da8bc43",
   "metadata": {},
   "outputs": [],
   "source": [
    "# Вывел уникальные значения количества комнат;\n",
    "df['rooms'].sort_values().unique()\n",
    "# Отсеял квартиры с количеством комнат больше 10\n",
    "df.hist('rooms', bins=20, range=(0,10));\n",
    "df['rooms'].describe()"
   ]
  },
  {
   "cell_type": "code",
   "execution_count": null,
   "id": "ff419d98",
   "metadata": {},
   "outputs": [],
   "source": [
    "# Постороил гистограмму, описывающую высоту потолков в квартирах. Отсеял квартиры с высотой потолков менее 2.5 и более 10\n",
    "df.hist('ceiling_height', bins=6, range=(2,5));"
   ]
  },
  {
   "cell_type": "markdown",
   "id": "d8f0fadf",
   "metadata": {},
   "source": [
    "#### По данной гистограмме можно сказать, что в подавляющем большинстве квартир потолки не выше 3.5 метров"
   ]
  },
  {
   "cell_type": "code",
   "execution_count": null,
   "id": "a9f4cf40",
   "metadata": {},
   "outputs": [],
   "source": [
    "# Постороил гистограмму, описывающую этаж квартиры;\n",
    "df.hist('floor', bins=33);"
   ]
  },
  {
   "cell_type": "markdown",
   "id": "6e632343",
   "metadata": {},
   "source": [
    "#### По данной гистограмме можно сказать, что большинство квартир расоложено на этажах ниже десятого."
   ]
  },
  {
   "cell_type": "code",
   "execution_count": null,
   "id": "904522c1",
   "metadata": {},
   "outputs": [],
   "source": [
    "# Постороил гистограмму, описывающую тип этажа квартиры (первый, последний, другой)\n",
    "df['floor_category'].hist(bins=6);"
   ]
  },
  {
   "cell_type": "markdown",
   "id": "902d0c21",
   "metadata": {},
   "source": [
    "#### По данной гистограмме можно сказать, что сумма квартир на первом и последнем этажах мешьше, чем на других."
   ]
  },
  {
   "cell_type": "code",
   "execution_count": null,
   "id": "14aae71d",
   "metadata": {},
   "outputs": [],
   "source": [
    "# Постороил гистограмму, описывающую общее количество этажей в доме\n",
    "df['floors_total'].sort_values().unique()\n",
    "df.hist('floors_total', bins=60, range=(0,30));"
   ]
  },
  {
   "cell_type": "markdown",
   "id": "9cc76bbf",
   "metadata": {},
   "source": [
    "#### По данной гистограмме можно сказать, что среди зданий, квартиры в которых представлены на продажу, преобладают пятиэтажные дома."
   ]
  },
  {
   "cell_type": "code",
   "execution_count": null,
   "id": "d68b07e7",
   "metadata": {},
   "outputs": [],
   "source": [
    "#Постороил гистограмму, описывающую расстояние до центра города в метрах\n",
    "df['cityCenters_nearest'].sort_values().unique()\n",
    "df.hist('cityCenters_nearest',bins=60, range=(100,66000));"
   ]
  },
  {
   "cell_type": "markdown",
   "id": "db9ddd92",
   "metadata": {},
   "source": [
    "#### По данной гистограмме можно сказать, что большинство квартир расположено в 20000 метрах или в 20 километрах от центра города."
   ]
  },
  {
   "cell_type": "code",
   "execution_count": null,
   "id": "0f85527e",
   "metadata": {},
   "outputs": [],
   "source": [
    "# Постороил гистограмму, описывающую расстояние до ближайшего аэропорта\n",
    "df['airports_nearest'].sort_values().unique()\n",
    "df = df[(df['airports_nearest'] >= 5000)]\n",
    "df.hist('airports_nearest', bins=85);"
   ]
  },
  {
   "cell_type": "markdown",
   "id": "e4e268ad",
   "metadata": {},
   "source": [
    "#### По данной гистограмме можно сделать вывод, что большинство квартир расположено на расстоянии выше 10 километров от аэропорта."
   ]
  },
  {
   "cell_type": "code",
   "execution_count": null,
   "id": "eb0876a7",
   "metadata": {},
   "outputs": [],
   "source": [
    "# Постороил гистограмму, описывающую расстояние ближайшего парка\n",
    "df.hist('parks_nearest', bins=100, range=(50,3200));"
   ]
  },
  {
   "cell_type": "markdown",
   "id": "c904e870",
   "metadata": {},
   "source": [
    "#### По данной гистограмме можно сделать вывод, что в большинстве случаев ближайший парк расположен на расстоянии до одного километра от квартиры."
   ]
  },
  {
   "cell_type": "code",
   "execution_count": null,
   "id": "3dbf2fc5",
   "metadata": {},
   "outputs": [],
   "source": [
    "# Построил гистограмму, описывающую в какой день недели было размещено объявление.\n",
    "df.hist('publication_day', bins=14);"
   ]
  },
  {
   "cell_type": "markdown",
   "id": "985cab4c",
   "metadata": {},
   "source": [
    "#### По данной гстограмме можно сделать вывод, что минимальное количество объявлений размещается по выходным дням."
   ]
  },
  {
   "cell_type": "code",
   "execution_count": null,
   "id": "22d0bdff",
   "metadata": {},
   "outputs": [],
   "source": [
    "# Построил гистограмму, описывающую в каком месяце было размещено объявление.\n",
    "df.hist('publication_month', bins=15);"
   ]
  },
  {
   "cell_type": "markdown",
   "id": "52a8f394",
   "metadata": {},
   "source": [
    "#### По данной гистограмме можно сделать вывод, что пик размещения объявлений приходится на февраль. Идет на спад до марта. Минимальное количество размещенных объявлений в мае. Затем с сентября до ноября отмечается тенденция к росту, резко спадающая в декабре. Январь также непопулярен, с точки зрения размещения объявлений."
   ]
  },
  {
   "cell_type": "markdown",
   "id": "3d4f80f6",
   "metadata": {},
   "source": [
    "#### Февраль опережает остальные, вероятно, потому, что за 2019 год есть данные только за начало года. Или это может быть связано с человеческим фактором, как и маленькое количество подачи объявлений в мае."
   ]
  },
  {
   "cell_type": "code",
   "execution_count": null,
   "id": "8c96df9d",
   "metadata": {},
   "outputs": [],
   "source": [
    "#Построил гистограмму, описывающую в каком году было размещено объявление.\n",
    "df.hist('publication_year', bins=12);"
   ]
  },
  {
   "cell_type": "markdown",
   "id": "32f9137b",
   "metadata": {},
   "source": [
    "#### Минимальное количество размещенных объявлений отмечается в 2014 году. Максимальное в 2017, но в дальнейшем отмечается спад. Интересно, связан ли спад с измененией работы платформы или с изменениями тенденций на рынке."
   ]
  },
  {
   "cell_type": "code",
   "execution_count": null,
   "id": "2f0d78cb",
   "metadata": {},
   "outputs": [],
   "source": [
    "# Изучите, как быстро продавались квартиры\n",
    "df.hist('days_exposition', bins=100, range=(1,1094))\n",
    "print('Среднее значение дней экспозиции:', df['days_exposition'].mean())\n",
    "print('Медианное значение дней экспозиции:', df['days_exposition'].median())"
   ]
  },
  {
   "cell_type": "code",
   "execution_count": null,
   "id": "69cbc81d",
   "metadata": {},
   "outputs": [],
   "source": [
    "df.boxplot(column='days_exposition')\n",
    "plt.ylim(0,600)\n",
    "plt.show()"
   ]
  },
  {
   "cell_type": "markdown",
   "id": "1b599137",
   "metadata": {},
   "source": [
    "#### По данной гистограмме можно судить о том, что большинство квартир было продано менее чем за 200 дней, меианное значение 120 дней, думаю, что к быстрым продажам можно отнести те, что были сделаны меньше, чем за 120 дней. В свою очередь те, что были сделаны позже 200 дней можно считать долгими."
   ]
  },
  {
   "cell_type": "markdown",
   "id": "8800c820",
   "metadata": {},
   "source": [
    "#### К быстрым продажам можно отнести продажи менее Q1 (0-30 дней),  к длительным продажам можно отнести продажи выше Q3 (от 220 дней)"
   ]
  },
  {
   "cell_type": "code",
   "execution_count": null,
   "id": "6038d7d3",
   "metadata": {},
   "outputs": [],
   "source": [
    "# Постороил диаграмму рассеивания зависимости цены от общей площади квартиры.\n",
    "df.plot(x='last_price', y='total_area', kind='scatter', sharex=False, grid=True, alpha=0.3);"
   ]
  },
  {
   "cell_type": "markdown",
   "id": "d912c752",
   "metadata": {},
   "source": [
    "#### По данной диаграмме рассеивания мы видим положительную корреляцию. С увеличением площади, растет цена.   В данной выборке предложений можно найти как небольшую, так и большую квартиру за схожую стоимость. Могу предположить, что связано это с местом расположения. Также мы видим отдельные точки, которые, по всей видимости, явсляются выбросами."
   ]
  },
  {
   "cell_type": "code",
   "execution_count": null,
   "id": "699a8055",
   "metadata": {},
   "outputs": [],
   "source": [
    "# Постороил диаграмму рассеивания зависимости цены от жилой площади квартиры.\n",
    "df.plot(x='last_price', y='living_area', kind='scatter', sharex=False, grid=True, alpha=0.3);\n",
    "correlation=df['last_price'].corr(df['living_area'])\n",
    "print(f'Корреляция цены и жилой площади составяляет:{correlation:0.2%}')"
   ]
  },
  {
   "cell_type": "markdown",
   "id": "5ac55bb3",
   "metadata": {},
   "source": [
    "#### В данной диаграмме мы не видим сильных отличий от предыдущей. Мы видим положительную корреляцию. "
   ]
  },
  {
   "cell_type": "code",
   "execution_count": null,
   "id": "ca95d9ac",
   "metadata": {},
   "outputs": [],
   "source": [
    "# Постороил диаграмму рассеивания зависимости цены от площади кухни в квартире.\n",
    "df.plot(x='last_price', y='kitchen_area', kind='scatter', sharex=False, grid=True, alpha=0.3);\n",
    "correlation = df['last_price'].corr(df['kitchen_area'])\n",
    "print(f'Корреляция цены и площади кухни составляет:{correlation:0.2%}')"
   ]
  },
  {
   "cell_type": "markdown",
   "id": "bd7ea031",
   "metadata": {},
   "source": [
    "#### В данной диаграмме мы видим положительную корреляцию.  Однако, в зависимость не столь очевидна, как в связке цена-жилая площадь."
   ]
  },
  {
   "cell_type": "code",
   "execution_count": null,
   "id": "05c3020e",
   "metadata": {},
   "outputs": [],
   "source": [
    "# Постороил диаграмму рассеивания зависимости цены от количества комнат в квартире.\n",
    "df.plot(x='last_price', y='rooms', kind='scatter', sharex=False, grid=True, alpha=0.3);\n",
    "correlation = df['last_price'].corr(df['rooms'])\n",
    "print(f'Корреляция цены и количества комнат составляет:{correlation:0.2%}')"
   ]
  },
  {
   "cell_type": "markdown",
   "id": "876104a4",
   "metadata": {},
   "source": [
    "#### В данной диаграмме нельзя назвать корреляцию положительной. Прямой зависимоси цены от количества комнат не выявлено. Мы видим, что наибольши диапозон цен в квартирах от 4 до 6 комнат. В то время, как диапозон однокомнатных и 10 комнатных является одинаковым."
   ]
  },
  {
   "cell_type": "code",
   "execution_count": null,
   "id": "4bd62098",
   "metadata": {},
   "outputs": [],
   "source": [
    "# Постороил диаграмму рассеивания зависимости цены от этажа, на котором расположена квартира.\n",
    "df.pivot_table(index='floor_category',values='last_price',aggfunc='mean')\\\n",
    "    .plot(y='last_price', kind='barh', title='mean');\n",
    "df.pivot_table(index='floor_category',values='last_price',aggfunc='median')\\\n",
    "    .plot(y='last_price', kind='barh', title='median');"
   ]
  },
  {
   "cell_type": "markdown",
   "id": "f748688d",
   "metadata": {},
   "source": [
    "#### По данным диаграммам можно судить от том что недвижимость на последнем этаже не сильно отличается в цене от других этажей, но заметно выше чем на первом."
   ]
  },
  {
   "cell_type": "code",
   "execution_count": null,
   "id": "0ef31337",
   "metadata": {},
   "outputs": [],
   "source": [
    "# Постороил диаграмму рассеивания зависимости цены от дня недели размещения объявления.\n",
    "df.pivot_table(index='publication_day',values='last_price',aggfunc='mean')\\\n",
    "    .plot(y='last_price', kind='line', title='mean');\n",
    "df.pivot_table(index='publication_day',values='last_price',aggfunc='median')\\\n",
    "    .plot(y='last_price', kind='line', title='median');"
   ]
  },
  {
   "cell_type": "markdown",
   "id": "c3b770b7",
   "metadata": {},
   "source": [
    "#### По данным диаграммам мы можем судить о том, что объявления с самой догрогой недвижимостью публикуются в четверг"
   ]
  },
  {
   "cell_type": "code",
   "execution_count": null,
   "id": "78b9ab10",
   "metadata": {},
   "outputs": [],
   "source": [
    "# Постороил диаграмму рассеивания зависимости цены от месяца размещения объявления.\n",
    "df.pivot_table(index='publication_month',values='last_price',aggfunc='mean')\\\n",
    "    .plot(y='last_price', kind='line', title='mean');\n",
    "df.pivot_table(index='publication_month',values='last_price',aggfunc='median')\\\n",
    "    .plot(y='last_price', kind='line', title='median');"
   ]
  },
  {
   "cell_type": "markdown",
   "id": "b5aa90e5",
   "metadata": {},
   "source": [
    "#### По данным диаграммам можно сказать, что объявления с дешевой недвижимостью можно было увидеть в июне и октябре. С самой дорогой в декабре."
   ]
  },
  {
   "cell_type": "code",
   "execution_count": null,
   "id": "7e62937d",
   "metadata": {},
   "outputs": [],
   "source": [
    "# Постороил диаграмму рассеивания зависимости цены от года размещения объявления.\n",
    "df.pivot_table(index='publication_year',values='last_price',aggfunc='mean')\\\n",
    "    .plot(y='last_price', kind='line', title='mean');\n",
    "df.pivot_table(index='publication_year',values='last_price',aggfunc='median')\\\n",
    "    .plot(y='last_price', kind='line', title='median');"
   ]
  },
  {
   "cell_type": "markdown",
   "id": "b88a1cc0",
   "metadata": {},
   "source": [
    "#### По данным диаграммам мы видим спад цен недвиджисмости с 2014 года. Вероятно это связано с кризисом на рынке, падением курса рубля, сответственно, снижению цен на недвижимость."
   ]
  },
  {
   "cell_type": "code",
   "execution_count": null,
   "id": "b5c41c44",
   "metadata": {},
   "outputs": [],
   "source": [
    "# Построил таюлицу где объединил столюцы сумм и количества значений цен и общей площади.\n",
    "real_estate = df.pivot_table(index='locality_name', values=['last_price','total_area'],aggfunc=['sum','count'])\n",
    "# Переименовал столбцы в созданной таблице\n",
    "real_estate.columns = ['сумма цен', 'сумма значений','количество цен','количество значений']\n",
    "# Результат\n",
    "real_estate"
   ]
  },
  {
   "cell_type": "code",
   "execution_count": null,
   "id": "cf2cdaf9",
   "metadata": {},
   "outputs": [],
   "source": [
    "# Отсортировал полученную таблицу по количеству объявлений\n",
    "real_estate = real_estate.sort_values(by='количество значений', ascending=False)\n",
    "# Результат\n",
    "real_estate"
   ]
  },
  {
   "cell_type": "code",
   "execution_count": null,
   "id": "9c5a2156",
   "metadata": {},
   "outputs": [],
   "source": [
    "# Для дальнейшего анализа выбрал первые 10 отсортированных ранее строк\n",
    "real_estate = real_estate.iloc[:10]\n",
    "# Результат\n",
    "real_estate"
   ]
  },
  {
   "cell_type": "code",
   "execution_count": null,
   "id": "2a2bdc66",
   "metadata": {},
   "outputs": [],
   "source": [
    "# Добавил столбец со средней ценой квадратного метра для этого общую стоимость всех объявлений разделил \n",
    "# на количество всех объявлений\n",
    "real_estate['стоимость м2'] = real_estate['сумма цен']/real_estate['сумма значений']\n",
    "real_estate.style.format({'стоимость м2': '₽{:.2f}'})"
   ]
  },
  {
   "cell_type": "code",
   "execution_count": null,
   "id": "4fafe99c",
   "metadata": {
    "scrolled": false
   },
   "outputs": [],
   "source": [
    "# Отсортировал таблицу по столбцу цены одного квадратного метра \n",
    "real_estate.sort_values(by=['стоимость м2'],ascending=True, inplace=True)\n",
    "real_estate['стоимость м2'].plot(kind='barh');"
   ]
  },
  {
   "cell_type": "markdown",
   "id": "5e99d88e",
   "metadata": {},
   "source": [
    "#### По таблице мы можем сказать, что самая высокая стоимость квадратного метра в Санкт-Петербурге, а самая низкая в Красном селе.  "
   ]
  },
  {
   "cell_type": "code",
   "execution_count": null,
   "id": "480a0855",
   "metadata": {},
   "outputs": [],
   "source": [
    "# Сделал срез данных по городу Санкт-Петербург, на основании которого построил таблицу и диаграмму\n",
    "(\n",
    "    df[df['locality_name'] == 'санкт-петербург']\n",
    "        .pivot_table(index='cityCenters_nearest_km', values='last_price', aggfunc='mean')\n",
    "        .plot(kind='bar')\n",
    ");"
   ]
  },
  {
   "cell_type": "markdown",
   "id": "6f5fc262",
   "metadata": {},
   "source": [
    "#### Самая большая цена у недвижимости с расстоянием до 1 километра от центра, далее цена снижается с увеличением расстояния от 1 до 3 километров. Далее мы видим рост от  4 до 7 километровю Затем цена падает с увеличением расстояния от 8 до 26 километров. Всплеск цен на расстоянии 27 километров связан с выявлением на этом расстоянии от центра одного объявления о продоже с высокой стоимостью."
   ]
  },
  {
   "cell_type": "code",
   "execution_count": null,
   "id": "bfb972f5",
   "metadata": {},
   "outputs": [],
   "source": [
    "# отдельно исследовал возростание цены на 27 км\n",
    "df[(df['cityCenters_nearest_km'] == 27) & (df['locality_name'] == 'санкт-петербург')]"
   ]
  },
  {
   "cell_type": "markdown",
   "id": "fc9f7749",
   "metadata": {},
   "source": [
    "### Вывод"
   ]
  },
  {
   "cell_type": "markdown",
   "id": "e8884cf0",
   "metadata": {},
   "source": [
    "#### Наибольшее влияние на цену квартиры оказывает общий размер квартиры, количество комнат, в большей степени размер жилой площади, в меньшей- кухни. \n",
    "#### Квартиры на первом этаже уступают в цене квартирам на последующих.\n",
    "#### Наибольшую цену за квадратный метр имеет недвижимость расмолоенная в Санкт-Петербурге, либо в области, но близко к Санкт-Петербургу. В самом же Санкт-Петербурге  есть как дешевая, так и дорогая недвижимость в разной удаленности от центра города, наибольшую же цену имеет недвижимость в центре."
   ]
  }
 ],
 "metadata": {
  "ExecuteTimeLog": [
   {
    "duration": 361,
    "start_time": "2022-11-25T13:24:34.157Z"
   },
   {
    "duration": 84,
    "start_time": "2022-11-25T13:24:34.520Z"
   },
   {
    "duration": 40,
    "start_time": "2022-11-25T13:24:34.605Z"
   },
   {
    "duration": 13,
    "start_time": "2022-11-25T13:24:34.646Z"
   },
   {
    "duration": 2781,
    "start_time": "2022-11-25T13:24:34.661Z"
   },
   {
    "duration": 63,
    "start_time": "2022-11-25T13:24:37.443Z"
   },
   {
    "duration": 5,
    "start_time": "2022-11-25T13:24:37.508Z"
   },
   {
    "duration": 451,
    "start_time": "2022-11-25T13:24:37.515Z"
   },
   {
    "duration": 3,
    "start_time": "2022-11-25T13:24:37.967Z"
   },
   {
    "duration": 14,
    "start_time": "2022-11-25T13:24:37.971Z"
   },
   {
    "duration": 7,
    "start_time": "2022-11-25T13:24:38.003Z"
   },
   {
    "duration": 37,
    "start_time": "2022-11-25T13:24:38.012Z"
   },
   {
    "duration": 54,
    "start_time": "2022-11-25T13:24:38.051Z"
   },
   {
    "duration": 27,
    "start_time": "2022-11-25T13:24:38.108Z"
   },
   {
    "duration": 42,
    "start_time": "2022-11-25T13:24:38.137Z"
   },
   {
    "duration": 36,
    "start_time": "2022-11-25T13:24:38.182Z"
   },
   {
    "duration": 32,
    "start_time": "2022-11-25T13:24:38.220Z"
   },
   {
    "duration": 26,
    "start_time": "2022-11-25T13:24:38.253Z"
   },
   {
    "duration": 195,
    "start_time": "2022-11-25T13:24:38.280Z"
   },
   {
    "duration": 86,
    "start_time": "2022-11-25T13:24:38.477Z"
   },
   {
    "duration": 0,
    "start_time": "2022-11-25T13:24:38.566Z"
   },
   {
    "duration": 0,
    "start_time": "2022-11-25T13:24:38.567Z"
   },
   {
    "duration": 0,
    "start_time": "2022-11-25T13:24:38.568Z"
   },
   {
    "duration": 0,
    "start_time": "2022-11-25T13:24:38.569Z"
   },
   {
    "duration": 0,
    "start_time": "2022-11-25T13:24:38.570Z"
   },
   {
    "duration": 0,
    "start_time": "2022-11-25T13:24:38.570Z"
   },
   {
    "duration": 0,
    "start_time": "2022-11-25T13:24:38.571Z"
   },
   {
    "duration": 0,
    "start_time": "2022-11-25T13:24:38.573Z"
   },
   {
    "duration": 0,
    "start_time": "2022-11-25T13:24:38.573Z"
   },
   {
    "duration": 0,
    "start_time": "2022-11-25T13:24:38.574Z"
   },
   {
    "duration": 0,
    "start_time": "2022-11-25T13:24:38.575Z"
   },
   {
    "duration": 0,
    "start_time": "2022-11-25T13:24:38.576Z"
   },
   {
    "duration": 0,
    "start_time": "2022-11-25T13:24:38.604Z"
   },
   {
    "duration": 0,
    "start_time": "2022-11-25T13:24:38.606Z"
   },
   {
    "duration": 0,
    "start_time": "2022-11-25T13:24:38.606Z"
   },
   {
    "duration": 0,
    "start_time": "2022-11-25T13:24:38.607Z"
   },
   {
    "duration": 0,
    "start_time": "2022-11-25T13:24:38.608Z"
   },
   {
    "duration": 0,
    "start_time": "2022-11-25T13:24:38.609Z"
   },
   {
    "duration": 0,
    "start_time": "2022-11-25T13:24:38.610Z"
   },
   {
    "duration": 0,
    "start_time": "2022-11-25T13:24:38.611Z"
   },
   {
    "duration": 0,
    "start_time": "2022-11-25T13:24:38.611Z"
   },
   {
    "duration": 0,
    "start_time": "2022-11-25T13:24:38.612Z"
   },
   {
    "duration": 0,
    "start_time": "2022-11-25T13:24:38.613Z"
   },
   {
    "duration": 0,
    "start_time": "2022-11-25T13:24:38.614Z"
   },
   {
    "duration": 0,
    "start_time": "2022-11-25T13:24:38.615Z"
   },
   {
    "duration": 0,
    "start_time": "2022-11-25T13:24:38.616Z"
   },
   {
    "duration": 0,
    "start_time": "2022-11-25T13:24:38.617Z"
   },
   {
    "duration": 0,
    "start_time": "2022-11-25T13:24:38.618Z"
   },
   {
    "duration": 0,
    "start_time": "2022-11-25T13:24:38.619Z"
   },
   {
    "duration": 0,
    "start_time": "2022-11-25T13:24:38.620Z"
   },
   {
    "duration": 0,
    "start_time": "2022-11-25T13:24:38.621Z"
   },
   {
    "duration": 0,
    "start_time": "2022-11-25T13:24:38.622Z"
   },
   {
    "duration": 0,
    "start_time": "2022-11-25T13:24:38.623Z"
   },
   {
    "duration": 0,
    "start_time": "2022-11-25T13:24:38.624Z"
   },
   {
    "duration": 0,
    "start_time": "2022-11-25T13:24:38.625Z"
   },
   {
    "duration": 0,
    "start_time": "2022-11-25T13:24:38.626Z"
   },
   {
    "duration": 0,
    "start_time": "2022-11-25T13:24:38.627Z"
   },
   {
    "duration": 0,
    "start_time": "2022-11-25T13:24:38.628Z"
   },
   {
    "duration": 0,
    "start_time": "2022-11-25T13:24:38.629Z"
   },
   {
    "duration": 0,
    "start_time": "2022-11-25T13:24:38.630Z"
   },
   {
    "duration": 0,
    "start_time": "2022-11-25T13:24:38.631Z"
   },
   {
    "duration": 0,
    "start_time": "2022-11-25T13:24:38.632Z"
   },
   {
    "duration": 0,
    "start_time": "2022-11-25T13:24:38.632Z"
   },
   {
    "duration": 0,
    "start_time": "2022-11-25T13:24:38.633Z"
   },
   {
    "duration": 0,
    "start_time": "2022-11-25T13:24:38.634Z"
   },
   {
    "duration": 0,
    "start_time": "2022-11-25T13:24:38.635Z"
   },
   {
    "duration": 2,
    "start_time": "2022-11-25T13:50:03.485Z"
   },
   {
    "duration": 9,
    "start_time": "2022-11-25T13:50:04.091Z"
   },
   {
    "duration": 3,
    "start_time": "2022-11-25T13:50:04.371Z"
   },
   {
    "duration": 13,
    "start_time": "2022-11-25T13:50:04.555Z"
   },
   {
    "duration": 52,
    "start_time": "2022-11-25T13:50:09.847Z"
   },
   {
    "duration": 8,
    "start_time": "2022-11-25T13:50:09.972Z"
   },
   {
    "duration": 322,
    "start_time": "2022-11-25T13:50:10.005Z"
   },
   {
    "duration": 381,
    "start_time": "2022-11-25T13:50:10.328Z"
   },
   {
    "duration": 137,
    "start_time": "2022-11-25T13:50:10.711Z"
   },
   {
    "duration": 32,
    "start_time": "2022-11-25T13:50:10.850Z"
   },
   {
    "duration": 4,
    "start_time": "2022-11-25T13:50:10.883Z"
   },
   {
    "duration": 327,
    "start_time": "2022-11-25T13:50:10.905Z"
   },
   {
    "duration": 6,
    "start_time": "2022-11-25T13:50:11.378Z"
   },
   {
    "duration": 6,
    "start_time": "2022-11-25T13:50:11.610Z"
   },
   {
    "duration": 5,
    "start_time": "2022-11-25T13:50:11.801Z"
   },
   {
    "duration": 4,
    "start_time": "2022-11-25T13:50:11.971Z"
   },
   {
    "duration": 229,
    "start_time": "2022-11-25T13:50:12.522Z"
   },
   {
    "duration": 231,
    "start_time": "2022-11-25T13:50:13.494Z"
   },
   {
    "duration": 236,
    "start_time": "2022-11-25T13:50:14.197Z"
   },
   {
    "duration": 343,
    "start_time": "2022-11-25T13:50:14.435Z"
   },
   {
    "duration": 160,
    "start_time": "2022-11-25T13:50:14.780Z"
   },
   {
    "duration": 165,
    "start_time": "2022-11-25T13:50:14.942Z"
   },
   {
    "duration": 169,
    "start_time": "2022-11-25T13:50:15.109Z"
   },
   {
    "duration": 172,
    "start_time": "2022-11-25T13:50:15.279Z"
   },
   {
    "duration": 117,
    "start_time": "2022-11-25T13:50:15.453Z"
   },
   {
    "duration": 187,
    "start_time": "2022-11-25T13:50:15.571Z"
   },
   {
    "duration": 207,
    "start_time": "2022-11-25T13:50:15.760Z"
   },
   {
    "duration": 330,
    "start_time": "2022-11-25T13:50:16.269Z"
   },
   {
    "duration": 231,
    "start_time": "2022-11-25T13:50:16.708Z"
   },
   {
    "duration": 143,
    "start_time": "2022-11-25T13:50:17.211Z"
   },
   {
    "duration": 136,
    "start_time": "2022-11-25T13:50:17.716Z"
   },
   {
    "duration": 139,
    "start_time": "2022-11-25T13:50:18.210Z"
   },
   {
    "duration": 220,
    "start_time": "2022-11-25T13:50:31.524Z"
   },
   {
    "duration": 181,
    "start_time": "2022-11-25T13:50:32.695Z"
   },
   {
    "duration": 174,
    "start_time": "2022-11-25T13:50:33.293Z"
   },
   {
    "duration": 386,
    "start_time": "2022-11-25T13:51:28.623Z"
   },
   {
    "duration": 91,
    "start_time": "2022-11-25T13:51:29.010Z"
   },
   {
    "duration": 41,
    "start_time": "2022-11-25T13:51:29.103Z"
   },
   {
    "duration": 14,
    "start_time": "2022-11-25T13:51:29.146Z"
   },
   {
    "duration": 2144,
    "start_time": "2022-11-25T13:51:29.162Z"
   },
   {
    "duration": 16,
    "start_time": "2022-11-25T13:51:31.308Z"
   },
   {
    "duration": 71,
    "start_time": "2022-11-25T13:51:31.326Z"
   },
   {
    "duration": 275,
    "start_time": "2022-11-25T13:51:31.399Z"
   },
   {
    "duration": 3,
    "start_time": "2022-11-25T13:51:31.676Z"
   },
   {
    "duration": 36,
    "start_time": "2022-11-25T13:51:31.680Z"
   },
   {
    "duration": 44,
    "start_time": "2022-11-25T13:51:31.717Z"
   },
   {
    "duration": 53,
    "start_time": "2022-11-25T13:51:31.762Z"
   },
   {
    "duration": 31,
    "start_time": "2022-11-25T13:51:31.817Z"
   },
   {
    "duration": 31,
    "start_time": "2022-11-25T13:51:31.851Z"
   },
   {
    "duration": 27,
    "start_time": "2022-11-25T13:51:31.884Z"
   },
   {
    "duration": 58,
    "start_time": "2022-11-25T13:51:31.912Z"
   },
   {
    "duration": 44,
    "start_time": "2022-11-25T13:51:31.972Z"
   },
   {
    "duration": 52,
    "start_time": "2022-11-25T13:51:32.017Z"
   },
   {
    "duration": 165,
    "start_time": "2022-11-25T13:51:32.071Z"
   },
   {
    "duration": 2,
    "start_time": "2022-11-25T13:51:32.238Z"
   },
   {
    "duration": 33,
    "start_time": "2022-11-25T13:51:32.242Z"
   },
   {
    "duration": 8,
    "start_time": "2022-11-25T13:51:32.276Z"
   },
   {
    "duration": 23,
    "start_time": "2022-11-25T13:51:32.285Z"
   },
   {
    "duration": 54,
    "start_time": "2022-11-25T13:51:32.309Z"
   },
   {
    "duration": 7,
    "start_time": "2022-11-25T13:51:32.364Z"
   },
   {
    "duration": 307,
    "start_time": "2022-11-25T13:51:32.372Z"
   },
   {
    "duration": 298,
    "start_time": "2022-11-25T13:51:32.681Z"
   },
   {
    "duration": 210,
    "start_time": "2022-11-25T13:51:32.981Z"
   },
   {
    "duration": 36,
    "start_time": "2022-11-25T13:51:33.193Z"
   },
   {
    "duration": 4,
    "start_time": "2022-11-25T13:51:33.231Z"
   },
   {
    "duration": 346,
    "start_time": "2022-11-25T13:51:33.237Z"
   },
   {
    "duration": 6,
    "start_time": "2022-11-25T13:51:33.584Z"
   },
   {
    "duration": 14,
    "start_time": "2022-11-25T13:51:33.591Z"
   },
   {
    "duration": 5,
    "start_time": "2022-11-25T13:51:33.607Z"
   },
   {
    "duration": 4,
    "start_time": "2022-11-25T13:51:33.614Z"
   },
   {
    "duration": 273,
    "start_time": "2022-11-25T13:51:33.620Z"
   },
   {
    "duration": 291,
    "start_time": "2022-11-25T13:51:33.895Z"
   },
   {
    "duration": 235,
    "start_time": "2022-11-25T13:51:34.187Z"
   },
   {
    "duration": 331,
    "start_time": "2022-11-25T13:51:34.424Z"
   },
   {
    "duration": 152,
    "start_time": "2022-11-25T13:51:34.757Z"
   },
   {
    "duration": 164,
    "start_time": "2022-11-25T13:51:34.913Z"
   },
   {
    "duration": 181,
    "start_time": "2022-11-25T13:51:35.079Z"
   },
   {
    "duration": 184,
    "start_time": "2022-11-25T13:51:35.262Z"
   },
   {
    "duration": 120,
    "start_time": "2022-11-25T13:51:35.448Z"
   },
   {
    "duration": 202,
    "start_time": "2022-11-25T13:51:35.569Z"
   },
   {
    "duration": 211,
    "start_time": "2022-11-25T13:51:35.773Z"
   },
   {
    "duration": 352,
    "start_time": "2022-11-25T13:51:35.986Z"
   },
   {
    "duration": 274,
    "start_time": "2022-11-25T13:51:36.341Z"
   },
   {
    "duration": 165,
    "start_time": "2022-11-25T13:51:36.618Z"
   },
   {
    "duration": 151,
    "start_time": "2022-11-25T13:51:36.784Z"
   },
   {
    "duration": 148,
    "start_time": "2022-11-25T13:51:36.937Z"
   },
   {
    "duration": 294,
    "start_time": "2022-11-25T13:51:37.086Z"
   },
   {
    "duration": 238,
    "start_time": "2022-11-25T13:51:37.382Z"
   },
   {
    "duration": 170,
    "start_time": "2022-11-25T13:51:37.622Z"
   },
   {
    "duration": 180,
    "start_time": "2022-11-25T13:51:37.794Z"
   },
   {
    "duration": 173,
    "start_time": "2022-11-25T13:51:37.976Z"
   },
   {
    "duration": 172,
    "start_time": "2022-11-25T13:51:38.151Z"
   },
   {
    "duration": 200,
    "start_time": "2022-11-25T13:51:38.325Z"
   },
   {
    "duration": 167,
    "start_time": "2022-11-25T13:51:38.526Z"
   },
   {
    "duration": 167,
    "start_time": "2022-11-25T13:51:38.694Z"
   },
   {
    "duration": 26,
    "start_time": "2022-11-25T13:51:38.862Z"
   },
   {
    "duration": 24,
    "start_time": "2022-11-25T13:51:38.889Z"
   },
   {
    "duration": 27,
    "start_time": "2022-11-25T13:51:38.914Z"
   },
   {
    "duration": 11,
    "start_time": "2022-11-25T13:51:38.943Z"
   },
   {
    "duration": 51,
    "start_time": "2022-11-25T13:51:38.956Z"
   },
   {
    "duration": 104,
    "start_time": "2022-11-25T13:51:39.009Z"
   },
   {
    "duration": 366,
    "start_time": "2022-11-25T13:52:32.393Z"
   },
   {
    "duration": 400,
    "start_time": "2022-11-25T14:24:52.368Z"
   },
   {
    "duration": 93,
    "start_time": "2022-11-25T14:24:52.770Z"
   },
   {
    "duration": 50,
    "start_time": "2022-11-25T14:24:52.865Z"
   },
   {
    "duration": 13,
    "start_time": "2022-11-25T14:24:52.917Z"
   },
   {
    "duration": 2078,
    "start_time": "2022-11-25T14:24:52.932Z"
   },
   {
    "duration": 13,
    "start_time": "2022-11-25T14:24:55.012Z"
   },
   {
    "duration": 21,
    "start_time": "2022-11-25T14:24:55.027Z"
   },
   {
    "duration": 241,
    "start_time": "2022-11-25T14:24:55.049Z"
   },
   {
    "duration": 3,
    "start_time": "2022-11-25T14:24:55.292Z"
   },
   {
    "duration": 33,
    "start_time": "2022-11-25T14:24:55.296Z"
   },
   {
    "duration": 12,
    "start_time": "2022-11-25T14:24:55.331Z"
   },
   {
    "duration": 23,
    "start_time": "2022-11-25T14:24:55.345Z"
   },
   {
    "duration": 28,
    "start_time": "2022-11-25T14:24:55.370Z"
   },
   {
    "duration": 29,
    "start_time": "2022-11-25T14:24:55.400Z"
   },
   {
    "duration": 21,
    "start_time": "2022-11-25T14:24:55.431Z"
   },
   {
    "duration": 23,
    "start_time": "2022-11-25T14:24:55.453Z"
   },
   {
    "duration": 29,
    "start_time": "2022-11-25T14:24:55.477Z"
   },
   {
    "duration": 35,
    "start_time": "2022-11-25T14:24:55.507Z"
   },
   {
    "duration": 34,
    "start_time": "2022-11-25T14:24:55.543Z"
   },
   {
    "duration": 30,
    "start_time": "2022-11-25T14:24:55.578Z"
   },
   {
    "duration": 68,
    "start_time": "2022-11-25T14:24:55.610Z"
   },
   {
    "duration": 7,
    "start_time": "2022-11-25T14:24:55.679Z"
   },
   {
    "duration": 330,
    "start_time": "2022-11-25T14:24:55.687Z"
   },
   {
    "duration": 327,
    "start_time": "2022-11-25T14:24:56.019Z"
   },
   {
    "duration": 221,
    "start_time": "2022-11-25T14:24:56.348Z"
   },
   {
    "duration": 40,
    "start_time": "2022-11-25T14:24:56.571Z"
   },
   {
    "duration": 150,
    "start_time": "2022-11-25T14:24:56.613Z"
   },
   {
    "duration": 3,
    "start_time": "2022-11-25T14:24:56.765Z"
   },
   {
    "duration": 23,
    "start_time": "2022-11-25T14:24:56.769Z"
   },
   {
    "duration": 21,
    "start_time": "2022-11-25T14:24:56.794Z"
   },
   {
    "duration": 47,
    "start_time": "2022-11-25T14:24:56.816Z"
   },
   {
    "duration": 18,
    "start_time": "2022-11-25T14:24:56.865Z"
   },
   {
    "duration": 29,
    "start_time": "2022-11-25T14:24:56.885Z"
   },
   {
    "duration": 308,
    "start_time": "2022-11-25T14:24:56.916Z"
   },
   {
    "duration": 370,
    "start_time": "2022-11-25T14:24:57.225Z"
   },
   {
    "duration": 134,
    "start_time": "2022-11-25T14:24:57.597Z"
   },
   {
    "duration": 31,
    "start_time": "2022-11-25T14:24:57.733Z"
   },
   {
    "duration": 4,
    "start_time": "2022-11-25T14:24:57.766Z"
   },
   {
    "duration": 340,
    "start_time": "2022-11-25T14:24:57.771Z"
   },
   {
    "duration": 7,
    "start_time": "2022-11-25T14:24:58.114Z"
   },
   {
    "duration": 23,
    "start_time": "2022-11-25T14:24:58.126Z"
   },
   {
    "duration": 28,
    "start_time": "2022-11-25T14:24:58.151Z"
   },
   {
    "duration": 28,
    "start_time": "2022-11-25T14:24:58.181Z"
   },
   {
    "duration": 379,
    "start_time": "2022-11-25T14:24:58.211Z"
   },
   {
    "duration": 264,
    "start_time": "2022-11-25T14:24:58.592Z"
   },
   {
    "duration": 248,
    "start_time": "2022-11-25T14:24:58.857Z"
   },
   {
    "duration": 252,
    "start_time": "2022-11-25T14:24:59.107Z"
   },
   {
    "duration": 152,
    "start_time": "2022-11-25T14:24:59.361Z"
   },
   {
    "duration": 161,
    "start_time": "2022-11-25T14:24:59.514Z"
   },
   {
    "duration": 172,
    "start_time": "2022-11-25T14:24:59.676Z"
   },
   {
    "duration": 282,
    "start_time": "2022-11-25T14:24:59.849Z"
   },
   {
    "duration": 128,
    "start_time": "2022-11-25T14:25:00.132Z"
   },
   {
    "duration": 197,
    "start_time": "2022-11-25T14:25:00.261Z"
   },
   {
    "duration": 206,
    "start_time": "2022-11-25T14:25:00.460Z"
   },
   {
    "duration": 225,
    "start_time": "2022-11-25T14:25:00.668Z"
   },
   {
    "duration": 234,
    "start_time": "2022-11-25T14:25:00.894Z"
   },
   {
    "duration": 157,
    "start_time": "2022-11-25T14:25:01.130Z"
   },
   {
    "duration": 159,
    "start_time": "2022-11-25T14:25:01.288Z"
   },
   {
    "duration": 240,
    "start_time": "2022-11-25T14:25:01.449Z"
   },
   {
    "duration": 242,
    "start_time": "2022-11-25T14:25:01.690Z"
   },
   {
    "duration": 188,
    "start_time": "2022-11-25T14:25:01.934Z"
   },
   {
    "duration": 187,
    "start_time": "2022-11-25T14:25:02.124Z"
   },
   {
    "duration": 166,
    "start_time": "2022-11-25T14:25:02.312Z"
   },
   {
    "duration": 168,
    "start_time": "2022-11-25T14:25:02.480Z"
   },
   {
    "duration": 147,
    "start_time": "2022-11-25T14:25:02.649Z"
   },
   {
    "duration": 175,
    "start_time": "2022-11-25T14:25:02.797Z"
   },
   {
    "duration": 173,
    "start_time": "2022-11-25T14:25:02.974Z"
   },
   {
    "duration": 175,
    "start_time": "2022-11-25T14:25:03.149Z"
   },
   {
    "duration": 26,
    "start_time": "2022-11-25T14:25:03.325Z"
   },
   {
    "duration": 11,
    "start_time": "2022-11-25T14:25:03.352Z"
   },
   {
    "duration": 32,
    "start_time": "2022-11-25T14:25:03.364Z"
   },
   {
    "duration": 21,
    "start_time": "2022-11-25T14:25:03.398Z"
   },
   {
    "duration": 25,
    "start_time": "2022-11-25T14:25:03.420Z"
   },
   {
    "duration": 298,
    "start_time": "2022-11-25T14:25:03.447Z"
   },
   {
    "duration": 26,
    "start_time": "2022-11-25T14:38:21.566Z"
   },
   {
    "duration": 14,
    "start_time": "2022-11-25T14:38:59.726Z"
   },
   {
    "duration": 72,
    "start_time": "2022-11-25T14:39:54.586Z"
   },
   {
    "duration": 45,
    "start_time": "2022-11-25T14:40:21.568Z"
   },
   {
    "duration": 10,
    "start_time": "2022-11-25T14:40:34.252Z"
   },
   {
    "duration": 13,
    "start_time": "2022-11-25T14:40:41.632Z"
   },
   {
    "duration": 13,
    "start_time": "2022-11-25T14:41:06.325Z"
   },
   {
    "duration": 14,
    "start_time": "2022-11-25T14:43:19.420Z"
   },
   {
    "duration": 16,
    "start_time": "2022-11-25T14:43:38.598Z"
   },
   {
    "duration": 11,
    "start_time": "2022-11-25T14:43:48.707Z"
   },
   {
    "duration": 443,
    "start_time": "2022-11-25T14:51:51.781Z"
   },
   {
    "duration": 93,
    "start_time": "2022-11-25T14:51:52.226Z"
   },
   {
    "duration": 44,
    "start_time": "2022-11-25T14:51:52.321Z"
   },
   {
    "duration": 16,
    "start_time": "2022-11-25T14:51:52.367Z"
   },
   {
    "duration": 2131,
    "start_time": "2022-11-25T14:51:52.384Z"
   },
   {
    "duration": 9,
    "start_time": "2022-11-25T14:51:54.517Z"
   },
   {
    "duration": 6,
    "start_time": "2022-11-25T14:51:54.527Z"
   },
   {
    "duration": 234,
    "start_time": "2022-11-25T14:51:54.534Z"
   },
   {
    "duration": 3,
    "start_time": "2022-11-25T14:51:54.770Z"
   },
   {
    "duration": 12,
    "start_time": "2022-11-25T14:51:54.775Z"
   },
   {
    "duration": 16,
    "start_time": "2022-11-25T14:51:54.788Z"
   },
   {
    "duration": 7,
    "start_time": "2022-11-25T14:51:54.806Z"
   },
   {
    "duration": 29,
    "start_time": "2022-11-25T14:51:54.814Z"
   },
   {
    "duration": 4,
    "start_time": "2022-11-25T14:51:54.845Z"
   },
   {
    "duration": 15,
    "start_time": "2022-11-25T14:51:54.851Z"
   },
   {
    "duration": 7,
    "start_time": "2022-11-25T14:51:54.868Z"
   },
   {
    "duration": 7,
    "start_time": "2022-11-25T14:51:54.876Z"
   },
   {
    "duration": 24,
    "start_time": "2022-11-25T14:51:54.884Z"
   },
   {
    "duration": 41,
    "start_time": "2022-11-25T14:51:54.910Z"
   },
   {
    "duration": 42,
    "start_time": "2022-11-25T14:51:54.953Z"
   },
   {
    "duration": 54,
    "start_time": "2022-11-25T14:51:54.997Z"
   },
   {
    "duration": 7,
    "start_time": "2022-11-25T14:51:55.052Z"
   },
   {
    "duration": 298,
    "start_time": "2022-11-25T14:51:55.061Z"
   },
   {
    "duration": 278,
    "start_time": "2022-11-25T14:51:55.360Z"
   },
   {
    "duration": 211,
    "start_time": "2022-11-25T14:51:55.639Z"
   },
   {
    "duration": 33,
    "start_time": "2022-11-25T14:51:55.852Z"
   },
   {
    "duration": 162,
    "start_time": "2022-11-25T14:51:55.886Z"
   },
   {
    "duration": 3,
    "start_time": "2022-11-25T14:51:56.051Z"
   },
   {
    "duration": 14,
    "start_time": "2022-11-25T14:51:56.055Z"
   },
   {
    "duration": 6,
    "start_time": "2022-11-25T14:51:56.070Z"
   },
   {
    "duration": 15,
    "start_time": "2022-11-25T14:51:56.077Z"
   },
   {
    "duration": 17,
    "start_time": "2022-11-25T14:51:56.104Z"
   },
   {
    "duration": 10,
    "start_time": "2022-11-25T14:51:56.123Z"
   },
   {
    "duration": 310,
    "start_time": "2022-11-25T14:51:56.135Z"
   },
   {
    "duration": 306,
    "start_time": "2022-11-25T14:51:56.446Z"
   },
   {
    "duration": 145,
    "start_time": "2022-11-25T14:51:56.754Z"
   },
   {
    "duration": 32,
    "start_time": "2022-11-25T14:51:56.904Z"
   },
   {
    "duration": 3,
    "start_time": "2022-11-25T14:51:56.938Z"
   },
   {
    "duration": 324,
    "start_time": "2022-11-25T14:51:56.943Z"
   },
   {
    "duration": 5,
    "start_time": "2022-11-25T14:51:57.268Z"
   },
   {
    "duration": 7,
    "start_time": "2022-11-25T14:51:57.275Z"
   },
   {
    "duration": 8,
    "start_time": "2022-11-25T14:51:57.284Z"
   },
   {
    "duration": 5,
    "start_time": "2022-11-25T14:51:57.304Z"
   },
   {
    "duration": 392,
    "start_time": "2022-11-25T14:51:57.311Z"
   },
   {
    "duration": 249,
    "start_time": "2022-11-25T14:51:57.704Z"
   },
   {
    "duration": 252,
    "start_time": "2022-11-25T14:51:57.955Z"
   },
   {
    "duration": 259,
    "start_time": "2022-11-25T14:51:58.209Z"
   },
   {
    "duration": 156,
    "start_time": "2022-11-25T14:51:58.470Z"
   },
   {
    "duration": 166,
    "start_time": "2022-11-25T14:51:58.628Z"
   },
   {
    "duration": 195,
    "start_time": "2022-11-25T14:51:58.796Z"
   },
   {
    "duration": 269,
    "start_time": "2022-11-25T14:51:58.993Z"
   },
   {
    "duration": 112,
    "start_time": "2022-11-25T14:51:59.264Z"
   },
   {
    "duration": 194,
    "start_time": "2022-11-25T14:51:59.378Z"
   },
   {
    "duration": 207,
    "start_time": "2022-11-25T14:51:59.573Z"
   },
   {
    "duration": 265,
    "start_time": "2022-11-25T14:51:59.781Z"
   },
   {
    "duration": 263,
    "start_time": "2022-11-25T14:52:00.048Z"
   },
   {
    "duration": 149,
    "start_time": "2022-11-25T14:52:00.312Z"
   },
   {
    "duration": 147,
    "start_time": "2022-11-25T14:52:00.463Z"
   },
   {
    "duration": 251,
    "start_time": "2022-11-25T14:52:00.611Z"
   },
   {
    "duration": 250,
    "start_time": "2022-11-25T14:52:00.864Z"
   },
   {
    "duration": 197,
    "start_time": "2022-11-25T14:52:01.115Z"
   },
   {
    "duration": 176,
    "start_time": "2022-11-25T14:52:01.314Z"
   },
   {
    "duration": 173,
    "start_time": "2022-11-25T14:52:01.492Z"
   },
   {
    "duration": 182,
    "start_time": "2022-11-25T14:52:01.667Z"
   },
   {
    "duration": 174,
    "start_time": "2022-11-25T14:52:01.851Z"
   },
   {
    "duration": 186,
    "start_time": "2022-11-25T14:52:02.027Z"
   },
   {
    "duration": 191,
    "start_time": "2022-11-25T14:52:02.215Z"
   },
   {
    "duration": 186,
    "start_time": "2022-11-25T14:52:02.407Z"
   },
   {
    "duration": 33,
    "start_time": "2022-11-25T14:52:02.595Z"
   },
   {
    "duration": 11,
    "start_time": "2022-11-25T14:52:02.629Z"
   },
   {
    "duration": 11,
    "start_time": "2022-11-25T14:52:02.642Z"
   },
   {
    "duration": 6,
    "start_time": "2022-11-25T14:52:02.654Z"
   },
   {
    "duration": 15,
    "start_time": "2022-11-25T14:52:02.662Z"
   },
   {
    "duration": 298,
    "start_time": "2022-11-25T14:52:02.679Z"
   },
   {
    "duration": 1093,
    "start_time": "2022-11-28T11:24:31.630Z"
   },
   {
    "duration": 31,
    "start_time": "2022-11-28T11:24:32.725Z"
   },
   {
    "duration": 97,
    "start_time": "2022-11-28T11:24:32.758Z"
   },
   {
    "duration": 0,
    "start_time": "2022-11-28T11:24:32.859Z"
   },
   {
    "duration": 0,
    "start_time": "2022-11-28T11:24:32.860Z"
   },
   {
    "duration": 0,
    "start_time": "2022-11-28T11:24:32.862Z"
   },
   {
    "duration": 0,
    "start_time": "2022-11-28T11:24:32.863Z"
   },
   {
    "duration": 0,
    "start_time": "2022-11-28T11:24:32.864Z"
   },
   {
    "duration": 0,
    "start_time": "2022-11-28T11:24:32.865Z"
   },
   {
    "duration": 0,
    "start_time": "2022-11-28T11:24:32.866Z"
   },
   {
    "duration": 0,
    "start_time": "2022-11-28T11:24:32.867Z"
   },
   {
    "duration": 0,
    "start_time": "2022-11-28T11:24:32.868Z"
   },
   {
    "duration": 0,
    "start_time": "2022-11-28T11:24:32.870Z"
   },
   {
    "duration": 0,
    "start_time": "2022-11-28T11:24:32.871Z"
   },
   {
    "duration": 0,
    "start_time": "2022-11-28T11:24:32.872Z"
   },
   {
    "duration": 0,
    "start_time": "2022-11-28T11:24:32.874Z"
   },
   {
    "duration": 0,
    "start_time": "2022-11-28T11:24:32.875Z"
   },
   {
    "duration": 0,
    "start_time": "2022-11-28T11:24:32.876Z"
   },
   {
    "duration": 0,
    "start_time": "2022-11-28T11:24:32.878Z"
   },
   {
    "duration": 0,
    "start_time": "2022-11-28T11:24:32.879Z"
   },
   {
    "duration": 0,
    "start_time": "2022-11-28T11:24:32.913Z"
   },
   {
    "duration": 0,
    "start_time": "2022-11-28T11:24:32.914Z"
   },
   {
    "duration": 0,
    "start_time": "2022-11-28T11:24:32.916Z"
   },
   {
    "duration": 0,
    "start_time": "2022-11-28T11:24:32.917Z"
   },
   {
    "duration": 0,
    "start_time": "2022-11-28T11:24:32.919Z"
   },
   {
    "duration": 0,
    "start_time": "2022-11-28T11:24:32.920Z"
   },
   {
    "duration": 0,
    "start_time": "2022-11-28T11:24:32.922Z"
   },
   {
    "duration": 0,
    "start_time": "2022-11-28T11:24:32.923Z"
   },
   {
    "duration": 0,
    "start_time": "2022-11-28T11:24:32.924Z"
   },
   {
    "duration": 0,
    "start_time": "2022-11-28T11:24:32.925Z"
   },
   {
    "duration": 0,
    "start_time": "2022-11-28T11:24:32.926Z"
   },
   {
    "duration": 0,
    "start_time": "2022-11-28T11:24:32.927Z"
   },
   {
    "duration": 0,
    "start_time": "2022-11-28T11:24:32.928Z"
   },
   {
    "duration": 0,
    "start_time": "2022-11-28T11:24:32.929Z"
   },
   {
    "duration": 0,
    "start_time": "2022-11-28T11:24:32.930Z"
   },
   {
    "duration": 0,
    "start_time": "2022-11-28T11:24:32.931Z"
   },
   {
    "duration": 0,
    "start_time": "2022-11-28T11:24:32.932Z"
   },
   {
    "duration": 0,
    "start_time": "2022-11-28T11:24:32.933Z"
   },
   {
    "duration": 0,
    "start_time": "2022-11-28T11:24:32.935Z"
   },
   {
    "duration": 0,
    "start_time": "2022-11-28T11:24:32.935Z"
   },
   {
    "duration": 0,
    "start_time": "2022-11-28T11:24:32.936Z"
   },
   {
    "duration": 0,
    "start_time": "2022-11-28T11:24:32.937Z"
   },
   {
    "duration": 0,
    "start_time": "2022-11-28T11:24:32.938Z"
   },
   {
    "duration": 0,
    "start_time": "2022-11-28T11:24:32.939Z"
   },
   {
    "duration": 0,
    "start_time": "2022-11-28T11:24:32.940Z"
   },
   {
    "duration": 0,
    "start_time": "2022-11-28T11:24:32.941Z"
   },
   {
    "duration": 0,
    "start_time": "2022-11-28T11:24:32.942Z"
   },
   {
    "duration": 0,
    "start_time": "2022-11-28T11:24:32.943Z"
   },
   {
    "duration": 0,
    "start_time": "2022-11-28T11:24:32.944Z"
   },
   {
    "duration": 0,
    "start_time": "2022-11-28T11:24:32.946Z"
   },
   {
    "duration": 0,
    "start_time": "2022-11-28T11:24:32.947Z"
   },
   {
    "duration": 0,
    "start_time": "2022-11-28T11:24:32.948Z"
   },
   {
    "duration": 0,
    "start_time": "2022-11-28T11:24:33.012Z"
   },
   {
    "duration": 0,
    "start_time": "2022-11-28T11:24:33.014Z"
   },
   {
    "duration": 0,
    "start_time": "2022-11-28T11:24:33.015Z"
   },
   {
    "duration": 0,
    "start_time": "2022-11-28T11:24:33.016Z"
   },
   {
    "duration": 0,
    "start_time": "2022-11-28T11:24:33.017Z"
   },
   {
    "duration": 0,
    "start_time": "2022-11-28T11:24:33.018Z"
   },
   {
    "duration": 0,
    "start_time": "2022-11-28T11:24:33.019Z"
   },
   {
    "duration": 0,
    "start_time": "2022-11-28T11:24:33.020Z"
   },
   {
    "duration": 0,
    "start_time": "2022-11-28T11:24:33.021Z"
   },
   {
    "duration": 0,
    "start_time": "2022-11-28T11:24:33.023Z"
   },
   {
    "duration": 0,
    "start_time": "2022-11-28T11:24:33.024Z"
   },
   {
    "duration": 0,
    "start_time": "2022-11-28T11:24:33.025Z"
   },
   {
    "duration": 0,
    "start_time": "2022-11-28T11:24:33.026Z"
   },
   {
    "duration": 0,
    "start_time": "2022-11-28T11:24:33.027Z"
   },
   {
    "duration": 0,
    "start_time": "2022-11-28T11:24:33.028Z"
   },
   {
    "duration": 0,
    "start_time": "2022-11-28T11:24:33.029Z"
   },
   {
    "duration": 0,
    "start_time": "2022-11-28T11:24:33.030Z"
   },
   {
    "duration": 0,
    "start_time": "2022-11-28T11:24:33.031Z"
   },
   {
    "duration": 0,
    "start_time": "2022-11-28T11:24:33.032Z"
   },
   {
    "duration": 0,
    "start_time": "2022-11-28T11:24:33.033Z"
   },
   {
    "duration": 0,
    "start_time": "2022-11-28T11:24:33.035Z"
   },
   {
    "duration": 0,
    "start_time": "2022-11-28T11:24:33.035Z"
   },
   {
    "duration": 0,
    "start_time": "2022-11-28T11:24:33.036Z"
   },
   {
    "duration": 0,
    "start_time": "2022-11-28T11:24:33.037Z"
   },
   {
    "duration": 0,
    "start_time": "2022-11-28T11:24:33.038Z"
   },
   {
    "duration": 0,
    "start_time": "2022-11-28T11:24:33.039Z"
   },
   {
    "duration": 0,
    "start_time": "2022-11-28T11:24:33.040Z"
   },
   {
    "duration": 0,
    "start_time": "2022-11-28T11:24:33.041Z"
   },
   {
    "duration": 0,
    "start_time": "2022-11-28T11:24:33.042Z"
   },
   {
    "duration": 0,
    "start_time": "2022-11-28T11:24:33.043Z"
   },
   {
    "duration": 0,
    "start_time": "2022-11-28T11:24:33.044Z"
   },
   {
    "duration": 1,
    "start_time": "2022-11-28T11:24:33.045Z"
   },
   {
    "duration": 0,
    "start_time": "2022-11-28T11:24:33.047Z"
   },
   {
    "duration": 0,
    "start_time": "2022-11-28T11:24:33.113Z"
   },
   {
    "duration": 0,
    "start_time": "2022-11-28T11:24:33.115Z"
   },
   {
    "duration": 0,
    "start_time": "2022-11-28T11:24:33.117Z"
   },
   {
    "duration": 0,
    "start_time": "2022-11-28T11:24:33.118Z"
   },
   {
    "duration": 0,
    "start_time": "2022-11-28T11:24:33.119Z"
   },
   {
    "duration": 0,
    "start_time": "2022-11-28T11:24:33.121Z"
   },
   {
    "duration": 0,
    "start_time": "2022-11-28T11:24:33.123Z"
   },
   {
    "duration": 0,
    "start_time": "2022-11-28T11:24:33.124Z"
   },
   {
    "duration": 0,
    "start_time": "2022-11-28T11:24:33.125Z"
   },
   {
    "duration": 0,
    "start_time": "2022-11-28T11:24:33.127Z"
   },
   {
    "duration": 0,
    "start_time": "2022-11-28T11:24:33.128Z"
   },
   {
    "duration": 0,
    "start_time": "2022-11-28T11:24:33.130Z"
   },
   {
    "duration": 0,
    "start_time": "2022-11-28T11:24:33.131Z"
   },
   {
    "duration": 1450,
    "start_time": "2022-11-28T11:53:15.779Z"
   },
   {
    "duration": 38,
    "start_time": "2022-11-28T11:53:17.231Z"
   },
   {
    "duration": 114,
    "start_time": "2022-11-28T11:53:17.273Z"
   },
   {
    "duration": 0,
    "start_time": "2022-11-28T11:53:17.392Z"
   },
   {
    "duration": 0,
    "start_time": "2022-11-28T11:53:17.393Z"
   },
   {
    "duration": 0,
    "start_time": "2022-11-28T11:53:17.395Z"
   },
   {
    "duration": 0,
    "start_time": "2022-11-28T11:53:17.396Z"
   },
   {
    "duration": 0,
    "start_time": "2022-11-28T11:53:17.397Z"
   },
   {
    "duration": 0,
    "start_time": "2022-11-28T11:53:17.398Z"
   },
   {
    "duration": 0,
    "start_time": "2022-11-28T11:53:17.413Z"
   },
   {
    "duration": 0,
    "start_time": "2022-11-28T11:53:17.414Z"
   },
   {
    "duration": 0,
    "start_time": "2022-11-28T11:53:17.415Z"
   },
   {
    "duration": 0,
    "start_time": "2022-11-28T11:53:17.417Z"
   },
   {
    "duration": 0,
    "start_time": "2022-11-28T11:53:17.418Z"
   },
   {
    "duration": 0,
    "start_time": "2022-11-28T11:53:17.420Z"
   },
   {
    "duration": 0,
    "start_time": "2022-11-28T11:53:17.421Z"
   },
   {
    "duration": 0,
    "start_time": "2022-11-28T11:53:17.423Z"
   },
   {
    "duration": 0,
    "start_time": "2022-11-28T11:53:17.425Z"
   },
   {
    "duration": 0,
    "start_time": "2022-11-28T11:53:17.426Z"
   },
   {
    "duration": 0,
    "start_time": "2022-11-28T11:53:17.427Z"
   },
   {
    "duration": 0,
    "start_time": "2022-11-28T11:53:17.429Z"
   },
   {
    "duration": 0,
    "start_time": "2022-11-28T11:53:17.429Z"
   },
   {
    "duration": 0,
    "start_time": "2022-11-28T11:53:17.431Z"
   },
   {
    "duration": 0,
    "start_time": "2022-11-28T11:53:17.432Z"
   },
   {
    "duration": 0,
    "start_time": "2022-11-28T11:53:17.433Z"
   },
   {
    "duration": 0,
    "start_time": "2022-11-28T11:53:17.434Z"
   },
   {
    "duration": 0,
    "start_time": "2022-11-28T11:53:17.435Z"
   },
   {
    "duration": 0,
    "start_time": "2022-11-28T11:53:17.436Z"
   },
   {
    "duration": 0,
    "start_time": "2022-11-28T11:53:17.438Z"
   },
   {
    "duration": 0,
    "start_time": "2022-11-28T11:53:17.438Z"
   },
   {
    "duration": 0,
    "start_time": "2022-11-28T11:53:17.440Z"
   },
   {
    "duration": 0,
    "start_time": "2022-11-28T11:53:17.442Z"
   },
   {
    "duration": 0,
    "start_time": "2022-11-28T11:53:17.443Z"
   },
   {
    "duration": 0,
    "start_time": "2022-11-28T11:53:17.444Z"
   },
   {
    "duration": 0,
    "start_time": "2022-11-28T11:53:17.445Z"
   },
   {
    "duration": 0,
    "start_time": "2022-11-28T11:53:17.446Z"
   },
   {
    "duration": 0,
    "start_time": "2022-11-28T11:53:17.447Z"
   },
   {
    "duration": 0,
    "start_time": "2022-11-28T11:53:17.448Z"
   },
   {
    "duration": 0,
    "start_time": "2022-11-28T11:53:17.450Z"
   },
   {
    "duration": 0,
    "start_time": "2022-11-28T11:53:17.512Z"
   },
   {
    "duration": 0,
    "start_time": "2022-11-28T11:53:17.515Z"
   },
   {
    "duration": 0,
    "start_time": "2022-11-28T11:53:17.516Z"
   },
   {
    "duration": 0,
    "start_time": "2022-11-28T11:53:17.517Z"
   },
   {
    "duration": 0,
    "start_time": "2022-11-28T11:53:17.518Z"
   },
   {
    "duration": 0,
    "start_time": "2022-11-28T11:53:17.519Z"
   },
   {
    "duration": 0,
    "start_time": "2022-11-28T11:53:17.520Z"
   },
   {
    "duration": 0,
    "start_time": "2022-11-28T11:53:17.521Z"
   },
   {
    "duration": 0,
    "start_time": "2022-11-28T11:53:17.522Z"
   },
   {
    "duration": 0,
    "start_time": "2022-11-28T11:53:17.523Z"
   },
   {
    "duration": 0,
    "start_time": "2022-11-28T11:53:17.524Z"
   },
   {
    "duration": 0,
    "start_time": "2022-11-28T11:53:17.525Z"
   },
   {
    "duration": 0,
    "start_time": "2022-11-28T11:53:17.526Z"
   },
   {
    "duration": 0,
    "start_time": "2022-11-28T11:53:17.527Z"
   },
   {
    "duration": 0,
    "start_time": "2022-11-28T11:53:17.528Z"
   },
   {
    "duration": 0,
    "start_time": "2022-11-28T11:53:17.530Z"
   },
   {
    "duration": 0,
    "start_time": "2022-11-28T11:53:17.531Z"
   },
   {
    "duration": 0,
    "start_time": "2022-11-28T11:53:17.532Z"
   },
   {
    "duration": 0,
    "start_time": "2022-11-28T11:53:17.533Z"
   },
   {
    "duration": 0,
    "start_time": "2022-11-28T11:53:17.535Z"
   },
   {
    "duration": 0,
    "start_time": "2022-11-28T11:53:17.535Z"
   },
   {
    "duration": 0,
    "start_time": "2022-11-28T11:53:17.537Z"
   },
   {
    "duration": 0,
    "start_time": "2022-11-28T11:53:17.538Z"
   },
   {
    "duration": 0,
    "start_time": "2022-11-28T11:53:17.539Z"
   },
   {
    "duration": 0,
    "start_time": "2022-11-28T11:53:17.541Z"
   },
   {
    "duration": 1,
    "start_time": "2022-11-28T11:53:17.541Z"
   },
   {
    "duration": 0,
    "start_time": "2022-11-28T11:53:17.543Z"
   },
   {
    "duration": 0,
    "start_time": "2022-11-28T11:53:17.544Z"
   },
   {
    "duration": 0,
    "start_time": "2022-11-28T11:53:17.546Z"
   },
   {
    "duration": 0,
    "start_time": "2022-11-28T11:53:17.547Z"
   },
   {
    "duration": 0,
    "start_time": "2022-11-28T11:53:17.548Z"
   },
   {
    "duration": 0,
    "start_time": "2022-11-28T11:53:17.613Z"
   },
   {
    "duration": 0,
    "start_time": "2022-11-28T11:53:17.614Z"
   },
   {
    "duration": 0,
    "start_time": "2022-11-28T11:53:17.616Z"
   },
   {
    "duration": 0,
    "start_time": "2022-11-28T11:53:17.617Z"
   },
   {
    "duration": 0,
    "start_time": "2022-11-28T11:53:17.619Z"
   },
   {
    "duration": 0,
    "start_time": "2022-11-28T11:53:17.620Z"
   },
   {
    "duration": 0,
    "start_time": "2022-11-28T11:53:17.621Z"
   },
   {
    "duration": 0,
    "start_time": "2022-11-28T11:53:17.623Z"
   },
   {
    "duration": 0,
    "start_time": "2022-11-28T11:53:17.624Z"
   },
   {
    "duration": 0,
    "start_time": "2022-11-28T11:53:17.625Z"
   },
   {
    "duration": 0,
    "start_time": "2022-11-28T11:53:17.626Z"
   },
   {
    "duration": 0,
    "start_time": "2022-11-28T11:53:17.628Z"
   },
   {
    "duration": 0,
    "start_time": "2022-11-28T11:53:17.629Z"
   },
   {
    "duration": 0,
    "start_time": "2022-11-28T11:53:17.630Z"
   },
   {
    "duration": 0,
    "start_time": "2022-11-28T11:53:17.631Z"
   },
   {
    "duration": 0,
    "start_time": "2022-11-28T11:53:17.632Z"
   },
   {
    "duration": 0,
    "start_time": "2022-11-28T11:53:17.634Z"
   },
   {
    "duration": 0,
    "start_time": "2022-11-28T11:53:17.635Z"
   },
   {
    "duration": 0,
    "start_time": "2022-11-28T11:53:17.636Z"
   },
   {
    "duration": 1,
    "start_time": "2022-11-28T11:53:17.637Z"
   },
   {
    "duration": 0,
    "start_time": "2022-11-28T11:53:17.639Z"
   },
   {
    "duration": 0,
    "start_time": "2022-11-28T11:53:17.640Z"
   },
   {
    "duration": 0,
    "start_time": "2022-11-28T11:53:17.642Z"
   },
   {
    "duration": 0,
    "start_time": "2022-11-28T11:53:17.643Z"
   },
   {
    "duration": 0,
    "start_time": "2022-11-28T11:53:17.644Z"
   },
   {
    "duration": 0,
    "start_time": "2022-11-28T11:53:17.645Z"
   },
   {
    "duration": 0,
    "start_time": "2022-11-28T11:53:17.646Z"
   },
   {
    "duration": 0,
    "start_time": "2022-11-28T11:53:17.647Z"
   },
   {
    "duration": 3,
    "start_time": "2022-11-28T11:54:02.367Z"
   },
   {
    "duration": 11,
    "start_time": "2022-11-28T11:54:02.615Z"
   },
   {
    "duration": 1401,
    "start_time": "2022-11-28T11:56:04.025Z"
   },
   {
    "duration": 134,
    "start_time": "2022-11-28T11:56:05.428Z"
   },
   {
    "duration": 91,
    "start_time": "2022-11-28T11:56:05.564Z"
   },
   {
    "duration": 34,
    "start_time": "2022-11-28T11:56:05.658Z"
   },
   {
    "duration": 2361,
    "start_time": "2022-11-28T11:56:05.695Z"
   },
   {
    "duration": 11,
    "start_time": "2022-11-28T11:56:08.058Z"
   },
   {
    "duration": 7,
    "start_time": "2022-11-28T11:56:08.071Z"
   },
   {
    "duration": 294,
    "start_time": "2022-11-28T11:56:08.080Z"
   },
   {
    "duration": 4,
    "start_time": "2022-11-28T11:56:08.377Z"
   },
   {
    "duration": 12,
    "start_time": "2022-11-28T11:56:08.383Z"
   },
   {
    "duration": 18,
    "start_time": "2022-11-28T11:56:08.411Z"
   },
   {
    "duration": 13,
    "start_time": "2022-11-28T11:56:08.432Z"
   },
   {
    "duration": 7,
    "start_time": "2022-11-28T11:56:08.447Z"
   },
   {
    "duration": 28,
    "start_time": "2022-11-28T11:56:08.457Z"
   },
   {
    "duration": 40,
    "start_time": "2022-11-28T11:56:08.487Z"
   },
   {
    "duration": 5,
    "start_time": "2022-11-28T11:56:08.529Z"
   },
   {
    "duration": 10,
    "start_time": "2022-11-28T11:56:08.536Z"
   },
   {
    "duration": 12,
    "start_time": "2022-11-28T11:56:08.548Z"
   },
   {
    "duration": 5,
    "start_time": "2022-11-28T11:56:08.562Z"
   },
   {
    "duration": 55,
    "start_time": "2022-11-28T11:56:08.568Z"
   },
   {
    "duration": 10,
    "start_time": "2022-11-28T11:56:08.625Z"
   },
   {
    "duration": 20,
    "start_time": "2022-11-28T11:56:08.638Z"
   },
   {
    "duration": 31,
    "start_time": "2022-11-28T11:56:08.660Z"
   },
   {
    "duration": 9,
    "start_time": "2022-11-28T11:56:08.693Z"
   },
   {
    "duration": 33,
    "start_time": "2022-11-28T11:56:08.704Z"
   },
   {
    "duration": 7,
    "start_time": "2022-11-28T11:56:08.739Z"
   },
   {
    "duration": 28,
    "start_time": "2022-11-28T11:56:08.748Z"
   },
   {
    "duration": 11,
    "start_time": "2022-11-28T11:56:08.779Z"
   },
   {
    "duration": 6,
    "start_time": "2022-11-28T11:56:08.792Z"
   },
   {
    "duration": 22,
    "start_time": "2022-11-28T11:56:08.800Z"
   },
   {
    "duration": 129,
    "start_time": "2022-11-28T11:56:08.823Z"
   },
   {
    "duration": 0,
    "start_time": "2022-11-28T11:56:08.956Z"
   },
   {
    "duration": 0,
    "start_time": "2022-11-28T11:56:08.957Z"
   },
   {
    "duration": 0,
    "start_time": "2022-11-28T11:56:08.959Z"
   },
   {
    "duration": 0,
    "start_time": "2022-11-28T11:56:08.961Z"
   },
   {
    "duration": 0,
    "start_time": "2022-11-28T11:56:08.963Z"
   },
   {
    "duration": 0,
    "start_time": "2022-11-28T11:56:08.964Z"
   },
   {
    "duration": 0,
    "start_time": "2022-11-28T11:56:08.966Z"
   },
   {
    "duration": 0,
    "start_time": "2022-11-28T11:56:08.968Z"
   },
   {
    "duration": 0,
    "start_time": "2022-11-28T11:56:08.969Z"
   },
   {
    "duration": 0,
    "start_time": "2022-11-28T11:56:08.971Z"
   },
   {
    "duration": 0,
    "start_time": "2022-11-28T11:56:08.973Z"
   },
   {
    "duration": 0,
    "start_time": "2022-11-28T11:56:08.975Z"
   },
   {
    "duration": 0,
    "start_time": "2022-11-28T11:56:09.015Z"
   },
   {
    "duration": 0,
    "start_time": "2022-11-28T11:56:09.017Z"
   },
   {
    "duration": 0,
    "start_time": "2022-11-28T11:56:09.018Z"
   },
   {
    "duration": 0,
    "start_time": "2022-11-28T11:56:09.019Z"
   },
   {
    "duration": 0,
    "start_time": "2022-11-28T11:56:09.020Z"
   },
   {
    "duration": 0,
    "start_time": "2022-11-28T11:56:09.021Z"
   },
   {
    "duration": 0,
    "start_time": "2022-11-28T11:56:09.022Z"
   },
   {
    "duration": 0,
    "start_time": "2022-11-28T11:56:09.023Z"
   },
   {
    "duration": 0,
    "start_time": "2022-11-28T11:56:09.024Z"
   },
   {
    "duration": 0,
    "start_time": "2022-11-28T11:56:09.025Z"
   },
   {
    "duration": 0,
    "start_time": "2022-11-28T11:56:09.026Z"
   },
   {
    "duration": 0,
    "start_time": "2022-11-28T11:56:09.026Z"
   },
   {
    "duration": 0,
    "start_time": "2022-11-28T11:56:09.027Z"
   },
   {
    "duration": 0,
    "start_time": "2022-11-28T11:56:09.028Z"
   },
   {
    "duration": 0,
    "start_time": "2022-11-28T11:56:09.029Z"
   },
   {
    "duration": 0,
    "start_time": "2022-11-28T11:56:09.030Z"
   },
   {
    "duration": 0,
    "start_time": "2022-11-28T11:56:09.031Z"
   },
   {
    "duration": 0,
    "start_time": "2022-11-28T11:56:09.032Z"
   },
   {
    "duration": 0,
    "start_time": "2022-11-28T11:56:09.034Z"
   },
   {
    "duration": 0,
    "start_time": "2022-11-28T11:56:09.035Z"
   },
   {
    "duration": 0,
    "start_time": "2022-11-28T11:56:09.036Z"
   },
   {
    "duration": 0,
    "start_time": "2022-11-28T11:56:09.037Z"
   },
   {
    "duration": 0,
    "start_time": "2022-11-28T11:56:09.039Z"
   },
   {
    "duration": 0,
    "start_time": "2022-11-28T11:56:09.040Z"
   },
   {
    "duration": 0,
    "start_time": "2022-11-28T11:56:09.041Z"
   },
   {
    "duration": 0,
    "start_time": "2022-11-28T11:56:09.042Z"
   },
   {
    "duration": 0,
    "start_time": "2022-11-28T11:56:09.043Z"
   },
   {
    "duration": 0,
    "start_time": "2022-11-28T11:56:09.044Z"
   },
   {
    "duration": 0,
    "start_time": "2022-11-28T11:56:09.046Z"
   },
   {
    "duration": 0,
    "start_time": "2022-11-28T11:56:09.047Z"
   },
   {
    "duration": 0,
    "start_time": "2022-11-28T11:56:09.048Z"
   },
   {
    "duration": 0,
    "start_time": "2022-11-28T11:56:09.049Z"
   },
   {
    "duration": 0,
    "start_time": "2022-11-28T11:56:09.050Z"
   },
   {
    "duration": 0,
    "start_time": "2022-11-28T11:56:09.051Z"
   },
   {
    "duration": 0,
    "start_time": "2022-11-28T11:56:09.053Z"
   },
   {
    "duration": 0,
    "start_time": "2022-11-28T11:56:09.053Z"
   },
   {
    "duration": 0,
    "start_time": "2022-11-28T11:56:09.054Z"
   },
   {
    "duration": 0,
    "start_time": "2022-11-28T11:56:09.119Z"
   },
   {
    "duration": 0,
    "start_time": "2022-11-28T11:56:09.120Z"
   },
   {
    "duration": 0,
    "start_time": "2022-11-28T11:56:09.121Z"
   },
   {
    "duration": 0,
    "start_time": "2022-11-28T11:56:09.124Z"
   },
   {
    "duration": 0,
    "start_time": "2022-11-28T11:56:09.125Z"
   },
   {
    "duration": 0,
    "start_time": "2022-11-28T11:56:09.126Z"
   },
   {
    "duration": 0,
    "start_time": "2022-11-28T11:56:09.130Z"
   },
   {
    "duration": 0,
    "start_time": "2022-11-28T11:56:09.136Z"
   },
   {
    "duration": 0,
    "start_time": "2022-11-28T11:56:09.138Z"
   },
   {
    "duration": 0,
    "start_time": "2022-11-28T11:56:09.139Z"
   },
   {
    "duration": 0,
    "start_time": "2022-11-28T11:56:09.140Z"
   },
   {
    "duration": 0,
    "start_time": "2022-11-28T11:56:09.141Z"
   },
   {
    "duration": 0,
    "start_time": "2022-11-28T11:56:09.142Z"
   },
   {
    "duration": 0,
    "start_time": "2022-11-28T11:56:09.145Z"
   },
   {
    "duration": 0,
    "start_time": "2022-11-28T11:56:09.147Z"
   },
   {
    "duration": 0,
    "start_time": "2022-11-28T11:56:09.148Z"
   },
   {
    "duration": 0,
    "start_time": "2022-11-28T11:56:09.150Z"
   },
   {
    "duration": 0,
    "start_time": "2022-11-28T11:56:09.151Z"
   },
   {
    "duration": 0,
    "start_time": "2022-11-28T11:56:09.152Z"
   },
   {
    "duration": 0,
    "start_time": "2022-11-28T11:56:09.154Z"
   },
   {
    "duration": 0,
    "start_time": "2022-11-28T11:56:09.155Z"
   },
   {
    "duration": 0,
    "start_time": "2022-11-28T11:56:09.156Z"
   },
   {
    "duration": 3,
    "start_time": "2022-11-28T12:00:29.654Z"
   },
   {
    "duration": 1358,
    "start_time": "2022-11-28T12:00:49.896Z"
   },
   {
    "duration": 144,
    "start_time": "2022-11-28T12:00:51.256Z"
   },
   {
    "duration": 52,
    "start_time": "2022-11-28T12:00:51.402Z"
   },
   {
    "duration": 18,
    "start_time": "2022-11-28T12:00:51.456Z"
   },
   {
    "duration": 2272,
    "start_time": "2022-11-28T12:00:51.477Z"
   },
   {
    "duration": 15,
    "start_time": "2022-11-28T12:00:53.753Z"
   },
   {
    "duration": 6,
    "start_time": "2022-11-28T12:00:53.770Z"
   },
   {
    "duration": 287,
    "start_time": "2022-11-28T12:00:53.777Z"
   },
   {
    "duration": 5,
    "start_time": "2022-11-28T12:00:54.066Z"
   },
   {
    "duration": 9,
    "start_time": "2022-11-28T12:00:54.072Z"
   },
   {
    "duration": 6,
    "start_time": "2022-11-28T12:00:54.083Z"
   },
   {
    "duration": 15,
    "start_time": "2022-11-28T12:00:54.112Z"
   },
   {
    "duration": 13,
    "start_time": "2022-11-28T12:00:54.130Z"
   },
   {
    "duration": 34,
    "start_time": "2022-11-28T12:00:54.149Z"
   },
   {
    "duration": 34,
    "start_time": "2022-11-28T12:00:54.186Z"
   },
   {
    "duration": 12,
    "start_time": "2022-11-28T12:00:54.222Z"
   },
   {
    "duration": 27,
    "start_time": "2022-11-28T12:00:54.236Z"
   },
   {
    "duration": 14,
    "start_time": "2022-11-28T12:00:54.265Z"
   },
   {
    "duration": 6,
    "start_time": "2022-11-28T12:00:54.281Z"
   },
   {
    "duration": 44,
    "start_time": "2022-11-28T12:00:54.289Z"
   },
   {
    "duration": 10,
    "start_time": "2022-11-28T12:00:54.335Z"
   },
   {
    "duration": 7,
    "start_time": "2022-11-28T12:00:54.348Z"
   },
   {
    "duration": 7,
    "start_time": "2022-11-28T12:00:54.359Z"
   },
   {
    "duration": 11,
    "start_time": "2022-11-28T12:00:54.368Z"
   },
   {
    "duration": 40,
    "start_time": "2022-11-28T12:00:54.382Z"
   },
   {
    "duration": 16,
    "start_time": "2022-11-28T12:00:54.424Z"
   },
   {
    "duration": 27,
    "start_time": "2022-11-28T12:00:54.442Z"
   },
   {
    "duration": 16,
    "start_time": "2022-11-28T12:00:54.471Z"
   },
   {
    "duration": 28,
    "start_time": "2022-11-28T12:00:54.489Z"
   },
   {
    "duration": 15,
    "start_time": "2022-11-28T12:00:54.520Z"
   },
   {
    "duration": 11,
    "start_time": "2022-11-28T12:00:54.537Z"
   },
   {
    "duration": 9,
    "start_time": "2022-11-28T12:00:54.550Z"
   },
   {
    "duration": 11,
    "start_time": "2022-11-28T12:00:54.562Z"
   },
   {
    "duration": 11,
    "start_time": "2022-11-28T12:00:54.575Z"
   },
   {
    "duration": 15,
    "start_time": "2022-11-28T12:00:54.588Z"
   },
   {
    "duration": 12,
    "start_time": "2022-11-28T12:00:54.613Z"
   },
   {
    "duration": 15,
    "start_time": "2022-11-28T12:00:54.633Z"
   },
   {
    "duration": 9,
    "start_time": "2022-11-28T12:00:54.650Z"
   },
   {
    "duration": 13,
    "start_time": "2022-11-28T12:00:54.660Z"
   },
   {
    "duration": 4,
    "start_time": "2022-11-28T12:00:54.675Z"
   },
   {
    "duration": 42,
    "start_time": "2022-11-28T12:00:54.685Z"
   },
   {
    "duration": 59,
    "start_time": "2022-11-28T12:00:54.730Z"
   },
   {
    "duration": 29,
    "start_time": "2022-11-28T12:00:54.792Z"
   },
   {
    "duration": 16,
    "start_time": "2022-11-28T12:00:54.823Z"
   },
   {
    "duration": 376,
    "start_time": "2022-11-28T12:00:54.842Z"
   },
   {
    "duration": 354,
    "start_time": "2022-11-28T12:00:55.225Z"
   },
   {
    "duration": 176,
    "start_time": "2022-11-28T12:00:55.581Z"
   },
   {
    "duration": 14,
    "start_time": "2022-11-28T12:00:55.760Z"
   },
   {
    "duration": 126,
    "start_time": "2022-11-28T12:00:55.776Z"
   },
   {
    "duration": 2,
    "start_time": "2022-11-28T12:00:55.904Z"
   },
   {
    "duration": 19,
    "start_time": "2022-11-28T12:00:55.912Z"
   },
   {
    "duration": 6,
    "start_time": "2022-11-28T12:00:55.933Z"
   },
   {
    "duration": 31,
    "start_time": "2022-11-28T12:00:55.941Z"
   },
   {
    "duration": 46,
    "start_time": "2022-11-28T12:00:55.974Z"
   },
   {
    "duration": 14,
    "start_time": "2022-11-28T12:00:56.025Z"
   },
   {
    "duration": 602,
    "start_time": "2022-11-28T12:00:56.041Z"
   },
   {
    "duration": 391,
    "start_time": "2022-11-28T12:00:56.645Z"
   },
   {
    "duration": 163,
    "start_time": "2022-11-28T12:00:57.038Z"
   },
   {
    "duration": 26,
    "start_time": "2022-11-28T12:00:57.203Z"
   },
   {
    "duration": 7,
    "start_time": "2022-11-28T12:00:57.230Z"
   },
   {
    "duration": 205,
    "start_time": "2022-11-28T12:00:57.239Z"
   },
   {
    "duration": 7,
    "start_time": "2022-11-28T12:00:57.446Z"
   },
   {
    "duration": 21,
    "start_time": "2022-11-28T12:00:57.456Z"
   },
   {
    "duration": 24,
    "start_time": "2022-11-28T12:00:57.480Z"
   },
   {
    "duration": 14,
    "start_time": "2022-11-28T12:00:57.506Z"
   },
   {
    "duration": 9,
    "start_time": "2022-11-28T12:00:57.526Z"
   },
   {
    "duration": 265,
    "start_time": "2022-11-28T12:00:57.537Z"
   },
   {
    "duration": 279,
    "start_time": "2022-11-28T12:00:57.804Z"
   },
   {
    "duration": 337,
    "start_time": "2022-11-28T12:00:58.084Z"
   },
   {
    "duration": 290,
    "start_time": "2022-11-28T12:00:58.425Z"
   },
   {
    "duration": 206,
    "start_time": "2022-11-28T12:00:58.717Z"
   },
   {
    "duration": 143,
    "start_time": "2022-11-28T12:00:58.925Z"
   },
   {
    "duration": 217,
    "start_time": "2022-11-28T12:00:59.070Z"
   },
   {
    "duration": 158,
    "start_time": "2022-11-28T12:00:59.289Z"
   },
   {
    "duration": 222,
    "start_time": "2022-11-28T12:00:59.449Z"
   },
   {
    "duration": 227,
    "start_time": "2022-11-28T12:00:59.673Z"
   },
   {
    "duration": 419,
    "start_time": "2022-11-28T12:00:59.902Z"
   },
   {
    "duration": 282,
    "start_time": "2022-11-28T12:01:00.323Z"
   },
   {
    "duration": 221,
    "start_time": "2022-11-28T12:01:00.607Z"
   },
   {
    "duration": 163,
    "start_time": "2022-11-28T12:01:00.829Z"
   },
   {
    "duration": 184,
    "start_time": "2022-11-28T12:01:00.993Z"
   },
   {
    "duration": 292,
    "start_time": "2022-11-28T12:01:01.179Z"
   },
   {
    "duration": 135,
    "start_time": "2022-11-28T12:01:01.473Z"
   },
   {
    "duration": 179,
    "start_time": "2022-11-28T12:01:01.610Z"
   },
   {
    "duration": 311,
    "start_time": "2022-11-28T12:01:01.791Z"
   },
   {
    "duration": 218,
    "start_time": "2022-11-28T12:01:02.104Z"
   },
   {
    "duration": 180,
    "start_time": "2022-11-28T12:01:02.324Z"
   },
   {
    "duration": 324,
    "start_time": "2022-11-28T12:01:02.505Z"
   },
   {
    "duration": 340,
    "start_time": "2022-11-28T12:01:02.831Z"
   },
   {
    "duration": 333,
    "start_time": "2022-11-28T12:01:03.173Z"
   },
   {
    "duration": 335,
    "start_time": "2022-11-28T12:01:03.516Z"
   },
   {
    "duration": 47,
    "start_time": "2022-11-28T12:01:03.855Z"
   },
   {
    "duration": 18,
    "start_time": "2022-11-28T12:01:03.915Z"
   },
   {
    "duration": 43,
    "start_time": "2022-11-28T12:01:03.935Z"
   },
   {
    "duration": 44,
    "start_time": "2022-11-28T12:01:03.980Z"
   },
   {
    "duration": 203,
    "start_time": "2022-11-28T12:01:04.026Z"
   },
   {
    "duration": 324,
    "start_time": "2022-11-28T12:01:04.232Z"
   },
   {
    "duration": 29,
    "start_time": "2022-11-28T12:01:04.558Z"
   },
   {
    "duration": 20,
    "start_time": "2022-11-28T12:01:04.589Z"
   },
   {
    "duration": 25,
    "start_time": "2022-11-28T12:01:04.612Z"
   },
   {
    "duration": 5693,
    "start_time": "2022-11-28T12:01:04.639Z"
   },
   {
    "duration": 494,
    "start_time": "2022-11-28T12:01:10.337Z"
   },
   {
    "duration": 1315,
    "start_time": "2022-11-28T12:01:10.834Z"
   },
   {
    "duration": 262,
    "start_time": "2022-11-28T12:03:06.338Z"
   },
   {
    "duration": 15,
    "start_time": "2022-11-28T13:28:23.273Z"
   },
   {
    "duration": 1180,
    "start_time": "2022-11-28T13:28:41.152Z"
   },
   {
    "duration": 119,
    "start_time": "2022-11-28T13:28:42.334Z"
   },
   {
    "duration": 45,
    "start_time": "2022-11-28T13:28:42.455Z"
   },
   {
    "duration": 25,
    "start_time": "2022-11-28T13:28:42.502Z"
   },
   {
    "duration": 2135,
    "start_time": "2022-11-28T13:28:42.529Z"
   },
   {
    "duration": 9,
    "start_time": "2022-11-28T13:28:44.665Z"
   },
   {
    "duration": 4,
    "start_time": "2022-11-28T13:28:44.676Z"
   },
   {
    "duration": 284,
    "start_time": "2022-11-28T13:28:44.682Z"
   },
   {
    "duration": 4,
    "start_time": "2022-11-28T13:28:44.968Z"
   },
   {
    "duration": 9,
    "start_time": "2022-11-28T13:28:44.976Z"
   },
   {
    "duration": 28,
    "start_time": "2022-11-28T13:28:44.987Z"
   },
   {
    "duration": 39,
    "start_time": "2022-11-28T13:28:45.017Z"
   },
   {
    "duration": 36,
    "start_time": "2022-11-28T13:28:45.062Z"
   },
   {
    "duration": 5,
    "start_time": "2022-11-28T13:28:45.100Z"
   },
   {
    "duration": 26,
    "start_time": "2022-11-28T13:28:45.107Z"
   },
   {
    "duration": 10,
    "start_time": "2022-11-28T13:28:45.135Z"
   },
   {
    "duration": 12,
    "start_time": "2022-11-28T13:28:45.147Z"
   },
   {
    "duration": 9,
    "start_time": "2022-11-28T13:28:45.161Z"
   },
   {
    "duration": 16,
    "start_time": "2022-11-28T13:28:45.172Z"
   },
   {
    "duration": 26,
    "start_time": "2022-11-28T13:28:45.190Z"
   },
   {
    "duration": 27,
    "start_time": "2022-11-28T13:28:45.219Z"
   },
   {
    "duration": 11,
    "start_time": "2022-11-28T13:28:45.248Z"
   },
   {
    "duration": 6,
    "start_time": "2022-11-28T13:28:45.261Z"
   },
   {
    "duration": 12,
    "start_time": "2022-11-28T13:28:45.268Z"
   },
   {
    "duration": 6,
    "start_time": "2022-11-28T13:28:45.312Z"
   },
   {
    "duration": 13,
    "start_time": "2022-11-28T13:28:45.320Z"
   },
   {
    "duration": 6,
    "start_time": "2022-11-28T13:28:45.335Z"
   },
   {
    "duration": 18,
    "start_time": "2022-11-28T13:28:45.347Z"
   },
   {
    "duration": 9,
    "start_time": "2022-11-28T13:28:45.367Z"
   },
   {
    "duration": 6,
    "start_time": "2022-11-28T13:28:45.411Z"
   },
   {
    "duration": 6,
    "start_time": "2022-11-28T13:28:45.419Z"
   },
   {
    "duration": 4,
    "start_time": "2022-11-28T13:28:45.427Z"
   },
   {
    "duration": 5,
    "start_time": "2022-11-28T13:28:45.432Z"
   },
   {
    "duration": 4,
    "start_time": "2022-11-28T13:28:45.439Z"
   },
   {
    "duration": 5,
    "start_time": "2022-11-28T13:28:45.445Z"
   },
   {
    "duration": 11,
    "start_time": "2022-11-28T13:28:45.452Z"
   },
   {
    "duration": 9,
    "start_time": "2022-11-28T13:28:45.464Z"
   },
   {
    "duration": 44,
    "start_time": "2022-11-28T13:28:45.475Z"
   },
   {
    "duration": 6,
    "start_time": "2022-11-28T13:28:45.521Z"
   },
   {
    "duration": 14,
    "start_time": "2022-11-28T13:28:45.529Z"
   },
   {
    "duration": 4,
    "start_time": "2022-11-28T13:28:45.545Z"
   },
   {
    "duration": 18,
    "start_time": "2022-11-28T13:28:45.551Z"
   },
   {
    "duration": 77,
    "start_time": "2022-11-28T13:28:45.571Z"
   },
   {
    "duration": 9,
    "start_time": "2022-11-28T13:28:45.649Z"
   },
   {
    "duration": 8,
    "start_time": "2022-11-28T13:28:45.660Z"
   },
   {
    "duration": 350,
    "start_time": "2022-11-28T13:28:45.670Z"
   },
   {
    "duration": 351,
    "start_time": "2022-11-28T13:28:46.021Z"
   },
   {
    "duration": 206,
    "start_time": "2022-11-28T13:28:46.374Z"
   },
   {
    "duration": 23,
    "start_time": "2022-11-28T13:28:46.582Z"
   },
   {
    "duration": 102,
    "start_time": "2022-11-28T13:28:46.611Z"
   },
   {
    "duration": 3,
    "start_time": "2022-11-28T13:28:46.715Z"
   },
   {
    "duration": 17,
    "start_time": "2022-11-28T13:28:46.719Z"
   },
   {
    "duration": 4,
    "start_time": "2022-11-28T13:28:46.738Z"
   },
   {
    "duration": 14,
    "start_time": "2022-11-28T13:28:46.743Z"
   },
   {
    "duration": 17,
    "start_time": "2022-11-28T13:28:46.759Z"
   },
   {
    "duration": 36,
    "start_time": "2022-11-28T13:28:46.777Z"
   },
   {
    "duration": 480,
    "start_time": "2022-11-28T13:28:46.816Z"
   },
   {
    "duration": 324,
    "start_time": "2022-11-28T13:28:47.298Z"
   },
   {
    "duration": 157,
    "start_time": "2022-11-28T13:28:47.624Z"
   },
   {
    "duration": 14,
    "start_time": "2022-11-28T13:28:47.783Z"
   },
   {
    "duration": 16,
    "start_time": "2022-11-28T13:28:47.799Z"
   },
   {
    "duration": 202,
    "start_time": "2022-11-28T13:28:47.817Z"
   },
   {
    "duration": 5,
    "start_time": "2022-11-28T13:28:48.021Z"
   },
   {
    "duration": 8,
    "start_time": "2022-11-28T13:28:48.028Z"
   },
   {
    "duration": 8,
    "start_time": "2022-11-28T13:28:48.038Z"
   },
   {
    "duration": 5,
    "start_time": "2022-11-28T13:28:48.048Z"
   },
   {
    "duration": 6,
    "start_time": "2022-11-28T13:28:48.055Z"
   },
   {
    "duration": 284,
    "start_time": "2022-11-28T13:28:48.063Z"
   },
   {
    "duration": 243,
    "start_time": "2022-11-28T13:28:48.349Z"
   },
   {
    "duration": 270,
    "start_time": "2022-11-28T13:28:48.594Z"
   },
   {
    "duration": 287,
    "start_time": "2022-11-28T13:28:48.865Z"
   },
   {
    "duration": 205,
    "start_time": "2022-11-28T13:28:49.154Z"
   },
   {
    "duration": 138,
    "start_time": "2022-11-28T13:28:49.360Z"
   },
   {
    "duration": 188,
    "start_time": "2022-11-28T13:28:49.500Z"
   },
   {
    "duration": 137,
    "start_time": "2022-11-28T13:28:49.690Z"
   },
   {
    "duration": 205,
    "start_time": "2022-11-28T13:28:49.829Z"
   },
   {
    "duration": 245,
    "start_time": "2022-11-28T13:28:50.036Z"
   },
   {
    "duration": 365,
    "start_time": "2022-11-28T13:28:50.283Z"
   },
   {
    "duration": 267,
    "start_time": "2022-11-28T13:28:50.650Z"
   },
   {
    "duration": 169,
    "start_time": "2022-11-28T13:28:50.919Z"
   },
   {
    "duration": 149,
    "start_time": "2022-11-28T13:28:51.090Z"
   },
   {
    "duration": 169,
    "start_time": "2022-11-28T13:28:51.245Z"
   },
   {
    "duration": 273,
    "start_time": "2022-11-28T13:28:51.416Z"
   },
   {
    "duration": 123,
    "start_time": "2022-11-28T13:28:51.691Z"
   },
   {
    "duration": 168,
    "start_time": "2022-11-28T13:28:51.816Z"
   },
   {
    "duration": 280,
    "start_time": "2022-11-28T13:28:51.986Z"
   },
   {
    "duration": 185,
    "start_time": "2022-11-28T13:28:52.268Z"
   },
   {
    "duration": 179,
    "start_time": "2022-11-28T13:28:52.455Z"
   },
   {
    "duration": 279,
    "start_time": "2022-11-28T13:28:52.636Z"
   },
   {
    "duration": 318,
    "start_time": "2022-11-28T13:28:52.917Z"
   },
   {
    "duration": 317,
    "start_time": "2022-11-28T13:28:53.237Z"
   },
   {
    "duration": 325,
    "start_time": "2022-11-28T13:28:53.556Z"
   },
   {
    "duration": 42,
    "start_time": "2022-11-28T13:28:53.883Z"
   },
   {
    "duration": 11,
    "start_time": "2022-11-28T13:28:53.928Z"
   },
   {
    "duration": 25,
    "start_time": "2022-11-28T13:28:53.941Z"
   },
   {
    "duration": 10,
    "start_time": "2022-11-28T13:28:53.968Z"
   },
   {
    "duration": 181,
    "start_time": "2022-11-28T13:28:53.979Z"
   },
   {
    "duration": 306,
    "start_time": "2022-11-28T13:28:54.162Z"
   },
   {
    "duration": 26,
    "start_time": "2022-11-28T13:28:54.469Z"
   },
   {
    "duration": 2,
    "start_time": "2022-11-28T13:28:54.497Z"
   },
   {
    "duration": 4,
    "start_time": "2022-11-28T13:28:54.513Z"
   },
   {
    "duration": 5014,
    "start_time": "2022-11-28T13:28:54.519Z"
   },
   {
    "duration": 446,
    "start_time": "2022-11-28T13:28:59.535Z"
   },
   {
    "duration": 1209,
    "start_time": "2022-11-28T13:28:59.983Z"
   },
   {
    "duration": 193,
    "start_time": "2022-11-28T13:29:01.195Z"
   },
   {
    "duration": 17,
    "start_time": "2022-11-28T13:44:41.381Z"
   },
   {
    "duration": 18,
    "start_time": "2022-11-28T13:45:15.407Z"
   },
   {
    "duration": 18,
    "start_time": "2022-11-28T13:45:47.359Z"
   },
   {
    "duration": 403,
    "start_time": "2022-11-28T13:46:15.105Z"
   },
   {
    "duration": 1357,
    "start_time": "2022-11-28T13:55:55.232Z"
   },
   {
    "duration": 158,
    "start_time": "2022-11-28T13:55:56.592Z"
   },
   {
    "duration": 73,
    "start_time": "2022-11-28T13:55:56.752Z"
   },
   {
    "duration": 20,
    "start_time": "2022-11-28T13:55:56.828Z"
   },
   {
    "duration": 2302,
    "start_time": "2022-11-28T13:55:56.850Z"
   },
   {
    "duration": 13,
    "start_time": "2022-11-28T13:55:59.155Z"
   },
   {
    "duration": 5,
    "start_time": "2022-11-28T13:55:59.171Z"
   },
   {
    "duration": 303,
    "start_time": "2022-11-28T13:55:59.178Z"
   },
   {
    "duration": 4,
    "start_time": "2022-11-28T13:55:59.483Z"
   },
   {
    "duration": 25,
    "start_time": "2022-11-28T13:55:59.491Z"
   },
   {
    "duration": 7,
    "start_time": "2022-11-28T13:55:59.519Z"
   },
   {
    "duration": 19,
    "start_time": "2022-11-28T13:55:59.528Z"
   },
   {
    "duration": 7,
    "start_time": "2022-11-28T13:55:59.550Z"
   },
   {
    "duration": 31,
    "start_time": "2022-11-28T13:55:59.559Z"
   },
   {
    "duration": 27,
    "start_time": "2022-11-28T13:55:59.613Z"
   },
   {
    "duration": 19,
    "start_time": "2022-11-28T13:55:59.642Z"
   },
   {
    "duration": 12,
    "start_time": "2022-11-28T13:55:59.664Z"
   },
   {
    "duration": 38,
    "start_time": "2022-11-28T13:55:59.679Z"
   },
   {
    "duration": 12,
    "start_time": "2022-11-28T13:55:59.719Z"
   },
   {
    "duration": 15,
    "start_time": "2022-11-28T13:55:59.734Z"
   },
   {
    "duration": 11,
    "start_time": "2022-11-28T13:55:59.751Z"
   },
   {
    "duration": 50,
    "start_time": "2022-11-28T13:55:59.764Z"
   },
   {
    "duration": 12,
    "start_time": "2022-11-28T13:55:59.816Z"
   },
   {
    "duration": 13,
    "start_time": "2022-11-28T13:55:59.832Z"
   },
   {
    "duration": 30,
    "start_time": "2022-11-28T13:55:59.847Z"
   },
   {
    "duration": 18,
    "start_time": "2022-11-28T13:55:59.880Z"
   },
   {
    "duration": 16,
    "start_time": "2022-11-28T13:55:59.901Z"
   },
   {
    "duration": 7,
    "start_time": "2022-11-28T13:55:59.924Z"
   },
   {
    "duration": 28,
    "start_time": "2022-11-28T13:55:59.933Z"
   },
   {
    "duration": 12,
    "start_time": "2022-11-28T13:55:59.964Z"
   },
   {
    "duration": 38,
    "start_time": "2022-11-28T13:55:59.979Z"
   },
   {
    "duration": 22,
    "start_time": "2022-11-28T13:56:00.019Z"
   },
   {
    "duration": 13,
    "start_time": "2022-11-28T13:56:00.043Z"
   },
   {
    "duration": 47,
    "start_time": "2022-11-28T13:56:00.059Z"
   },
   {
    "duration": 34,
    "start_time": "2022-11-28T13:56:00.109Z"
   },
   {
    "duration": 35,
    "start_time": "2022-11-28T13:56:00.146Z"
   },
   {
    "duration": 108,
    "start_time": "2022-11-28T13:56:00.183Z"
   },
   {
    "duration": 92,
    "start_time": "2022-11-28T13:56:00.294Z"
   },
   {
    "duration": 62,
    "start_time": "2022-11-28T13:56:00.389Z"
   },
   {
    "duration": 23,
    "start_time": "2022-11-28T13:56:00.454Z"
   },
   {
    "duration": 52,
    "start_time": "2022-11-28T13:56:00.480Z"
   },
   {
    "duration": 52,
    "start_time": "2022-11-28T13:56:00.536Z"
   },
   {
    "duration": 113,
    "start_time": "2022-11-28T13:56:00.591Z"
   },
   {
    "duration": 111,
    "start_time": "2022-11-28T13:56:00.707Z"
   },
   {
    "duration": 470,
    "start_time": "2022-11-28T13:56:00.820Z"
   },
   {
    "duration": 21,
    "start_time": "2022-11-28T13:56:01.292Z"
   },
   {
    "duration": 21,
    "start_time": "2022-11-28T13:56:01.317Z"
   },
   {
    "duration": 351,
    "start_time": "2022-11-28T13:56:01.341Z"
   },
   {
    "duration": 361,
    "start_time": "2022-11-28T13:56:01.693Z"
   },
   {
    "duration": 430,
    "start_time": "2022-11-28T13:56:02.056Z"
   },
   {
    "duration": 35,
    "start_time": "2022-11-28T13:56:02.489Z"
   },
   {
    "duration": 137,
    "start_time": "2022-11-28T13:56:02.526Z"
   },
   {
    "duration": 3,
    "start_time": "2022-11-28T13:56:02.665Z"
   },
   {
    "duration": 17,
    "start_time": "2022-11-28T13:56:02.671Z"
   },
   {
    "duration": 24,
    "start_time": "2022-11-28T13:56:02.691Z"
   },
   {
    "duration": 32,
    "start_time": "2022-11-28T13:56:02.717Z"
   },
   {
    "duration": 21,
    "start_time": "2022-11-28T13:56:02.751Z"
   },
   {
    "duration": 9,
    "start_time": "2022-11-28T13:56:02.774Z"
   },
   {
    "duration": 377,
    "start_time": "2022-11-28T13:56:02.785Z"
   },
   {
    "duration": 359,
    "start_time": "2022-11-28T13:56:03.164Z"
   },
   {
    "duration": 196,
    "start_time": "2022-11-28T13:56:03.526Z"
   },
   {
    "duration": 19,
    "start_time": "2022-11-28T13:56:03.725Z"
   },
   {
    "duration": 7,
    "start_time": "2022-11-28T13:56:03.747Z"
   },
   {
    "duration": 245,
    "start_time": "2022-11-28T13:56:03.756Z"
   },
   {
    "duration": 10,
    "start_time": "2022-11-28T13:56:04.003Z"
   },
   {
    "duration": 17,
    "start_time": "2022-11-28T13:56:04.015Z"
   },
   {
    "duration": 35,
    "start_time": "2022-11-28T13:56:04.034Z"
   },
   {
    "duration": 17,
    "start_time": "2022-11-28T13:56:04.071Z"
   },
   {
    "duration": 26,
    "start_time": "2022-11-28T13:56:04.090Z"
   },
   {
    "duration": 295,
    "start_time": "2022-11-28T13:56:04.118Z"
   },
   {
    "duration": 378,
    "start_time": "2022-11-28T13:56:04.415Z"
   },
   {
    "duration": 248,
    "start_time": "2022-11-28T13:56:04.795Z"
   },
   {
    "duration": 289,
    "start_time": "2022-11-28T13:56:05.045Z"
   },
   {
    "duration": 185,
    "start_time": "2022-11-28T13:56:05.336Z"
   },
   {
    "duration": 151,
    "start_time": "2022-11-28T13:56:05.523Z"
   },
   {
    "duration": 195,
    "start_time": "2022-11-28T13:56:05.675Z"
   },
   {
    "duration": 147,
    "start_time": "2022-11-28T13:56:05.872Z"
   },
   {
    "duration": 228,
    "start_time": "2022-11-28T13:56:06.021Z"
   },
   {
    "duration": 411,
    "start_time": "2022-11-28T13:56:06.252Z"
   },
   {
    "duration": 283,
    "start_time": "2022-11-28T13:56:06.667Z"
   },
   {
    "duration": 283,
    "start_time": "2022-11-28T13:56:06.952Z"
   },
   {
    "duration": 187,
    "start_time": "2022-11-28T13:56:07.242Z"
   },
   {
    "duration": 165,
    "start_time": "2022-11-28T13:56:07.430Z"
   },
   {
    "duration": 179,
    "start_time": "2022-11-28T13:56:07.597Z"
   },
   {
    "duration": 399,
    "start_time": "2022-11-28T13:56:07.779Z"
   },
   {
    "duration": 138,
    "start_time": "2022-11-28T13:56:08.180Z"
   },
   {
    "duration": 319,
    "start_time": "2022-11-28T13:56:08.320Z"
   },
   {
    "duration": 201,
    "start_time": "2022-11-28T13:56:08.641Z"
   },
   {
    "duration": 201,
    "start_time": "2022-11-28T13:56:08.844Z"
   },
   {
    "duration": 198,
    "start_time": "2022-11-28T13:56:09.047Z"
   },
   {
    "duration": 328,
    "start_time": "2022-11-28T13:56:09.247Z"
   },
   {
    "duration": 339,
    "start_time": "2022-11-28T13:56:09.577Z"
   },
   {
    "duration": 334,
    "start_time": "2022-11-28T13:56:09.917Z"
   },
   {
    "duration": 347,
    "start_time": "2022-11-28T13:56:10.254Z"
   },
   {
    "duration": 33,
    "start_time": "2022-11-28T13:56:10.602Z"
   },
   {
    "duration": 12,
    "start_time": "2022-11-28T13:56:10.637Z"
   },
   {
    "duration": 27,
    "start_time": "2022-11-28T13:56:10.652Z"
   },
   {
    "duration": 42,
    "start_time": "2022-11-28T13:56:10.681Z"
   },
   {
    "duration": 186,
    "start_time": "2022-11-28T13:56:10.726Z"
   },
   {
    "duration": 317,
    "start_time": "2022-11-28T13:56:10.914Z"
   },
   {
    "duration": 28,
    "start_time": "2022-11-28T13:56:11.233Z"
   },
   {
    "duration": 3,
    "start_time": "2022-11-28T13:56:11.263Z"
   },
   {
    "duration": 25,
    "start_time": "2022-11-28T13:56:11.268Z"
   },
   {
    "duration": 5343,
    "start_time": "2022-11-28T13:56:11.295Z"
   },
   {
    "duration": 603,
    "start_time": "2022-11-28T13:56:16.640Z"
   },
   {
    "duration": 1493,
    "start_time": "2022-11-28T13:56:17.244Z"
   },
   {
    "duration": 480,
    "start_time": "2022-11-28T13:56:18.740Z"
   },
   {
    "duration": 1182,
    "start_time": "2022-11-29T10:22:10.407Z"
   },
   {
    "duration": 142,
    "start_time": "2022-11-29T10:22:11.591Z"
   },
   {
    "duration": 51,
    "start_time": "2022-11-29T10:22:11.735Z"
   },
   {
    "duration": 18,
    "start_time": "2022-11-29T10:22:11.788Z"
   },
   {
    "duration": 2177,
    "start_time": "2022-11-29T10:22:11.809Z"
   },
   {
    "duration": 9,
    "start_time": "2022-11-29T10:22:13.988Z"
   },
   {
    "duration": 5,
    "start_time": "2022-11-29T10:22:13.998Z"
   },
   {
    "duration": 269,
    "start_time": "2022-11-29T10:22:14.005Z"
   },
   {
    "duration": 4,
    "start_time": "2022-11-29T10:22:14.275Z"
   },
   {
    "duration": 25,
    "start_time": "2022-11-29T10:22:14.281Z"
   },
   {
    "duration": 23,
    "start_time": "2022-11-29T10:22:14.307Z"
   },
   {
    "duration": 21,
    "start_time": "2022-11-29T10:22:14.332Z"
   },
   {
    "duration": 28,
    "start_time": "2022-11-29T10:22:14.355Z"
   },
   {
    "duration": 19,
    "start_time": "2022-11-29T10:22:14.386Z"
   },
   {
    "duration": 47,
    "start_time": "2022-11-29T10:22:14.407Z"
   },
   {
    "duration": 42,
    "start_time": "2022-11-29T10:22:14.461Z"
   },
   {
    "duration": 47,
    "start_time": "2022-11-29T10:22:14.505Z"
   },
   {
    "duration": 24,
    "start_time": "2022-11-29T10:22:14.554Z"
   },
   {
    "duration": 37,
    "start_time": "2022-11-29T10:22:14.580Z"
   },
   {
    "duration": 28,
    "start_time": "2022-11-29T10:22:14.619Z"
   },
   {
    "duration": 42,
    "start_time": "2022-11-29T10:22:14.650Z"
   },
   {
    "duration": 27,
    "start_time": "2022-11-29T10:22:14.694Z"
   },
   {
    "duration": 40,
    "start_time": "2022-11-29T10:22:14.724Z"
   },
   {
    "duration": 28,
    "start_time": "2022-11-29T10:22:14.772Z"
   },
   {
    "duration": 31,
    "start_time": "2022-11-29T10:22:14.803Z"
   },
   {
    "duration": 39,
    "start_time": "2022-11-29T10:22:14.835Z"
   },
   {
    "duration": 23,
    "start_time": "2022-11-29T10:22:14.876Z"
   },
   {
    "duration": 10,
    "start_time": "2022-11-29T10:22:14.901Z"
   },
   {
    "duration": 21,
    "start_time": "2022-11-29T10:22:14.913Z"
   },
   {
    "duration": 18,
    "start_time": "2022-11-29T10:22:14.935Z"
   },
   {
    "duration": 29,
    "start_time": "2022-11-29T10:22:14.957Z"
   },
   {
    "duration": 40,
    "start_time": "2022-11-29T10:22:14.988Z"
   },
   {
    "duration": 14,
    "start_time": "2022-11-29T10:22:15.030Z"
   },
   {
    "duration": 41,
    "start_time": "2022-11-29T10:22:15.046Z"
   },
   {
    "duration": 11,
    "start_time": "2022-11-29T10:22:15.089Z"
   },
   {
    "duration": 50,
    "start_time": "2022-11-29T10:22:15.102Z"
   },
   {
    "duration": 35,
    "start_time": "2022-11-29T10:22:15.154Z"
   },
   {
    "duration": 22,
    "start_time": "2022-11-29T10:22:15.191Z"
   },
   {
    "duration": 6,
    "start_time": "2022-11-29T10:22:15.215Z"
   },
   {
    "duration": 12,
    "start_time": "2022-11-29T10:22:15.222Z"
   },
   {
    "duration": 6,
    "start_time": "2022-11-29T10:22:15.239Z"
   },
   {
    "duration": 20,
    "start_time": "2022-11-29T10:22:15.247Z"
   },
   {
    "duration": 18,
    "start_time": "2022-11-29T10:22:15.268Z"
   },
   {
    "duration": 11,
    "start_time": "2022-11-29T10:22:15.287Z"
   },
   {
    "duration": 9,
    "start_time": "2022-11-29T10:22:15.299Z"
   },
   {
    "duration": 16,
    "start_time": "2022-11-29T10:22:15.310Z"
   },
   {
    "duration": 7,
    "start_time": "2022-11-29T10:22:15.328Z"
   },
   {
    "duration": 7,
    "start_time": "2022-11-29T10:22:15.337Z"
   },
   {
    "duration": 21,
    "start_time": "2022-11-29T10:22:15.345Z"
   },
   {
    "duration": 15,
    "start_time": "2022-11-29T10:22:15.368Z"
   },
   {
    "duration": 218,
    "start_time": "2022-11-29T10:22:15.385Z"
   },
   {
    "duration": 72,
    "start_time": "2022-11-29T10:22:15.605Z"
   },
   {
    "duration": 424,
    "start_time": "2022-11-29T10:22:15.678Z"
   },
   {
    "duration": 12,
    "start_time": "2022-11-29T10:22:16.104Z"
   },
   {
    "duration": 377,
    "start_time": "2022-11-29T10:22:16.119Z"
   },
   {
    "duration": 484,
    "start_time": "2022-11-29T10:22:16.498Z"
   },
   {
    "duration": 166,
    "start_time": "2022-11-29T10:22:16.984Z"
   },
   {
    "duration": 34,
    "start_time": "2022-11-29T10:22:17.155Z"
   },
   {
    "duration": 185,
    "start_time": "2022-11-29T10:22:17.191Z"
   },
   {
    "duration": 3,
    "start_time": "2022-11-29T10:22:17.378Z"
   },
   {
    "duration": 17,
    "start_time": "2022-11-29T10:22:17.382Z"
   },
   {
    "duration": 5,
    "start_time": "2022-11-29T10:22:17.400Z"
   },
   {
    "duration": 16,
    "start_time": "2022-11-29T10:22:17.407Z"
   },
   {
    "duration": 49,
    "start_time": "2022-11-29T10:22:17.425Z"
   },
   {
    "duration": 10,
    "start_time": "2022-11-29T10:22:17.475Z"
   },
   {
    "duration": 344,
    "start_time": "2022-11-29T10:22:17.487Z"
   },
   {
    "duration": 346,
    "start_time": "2022-11-29T10:22:17.832Z"
   },
   {
    "duration": 160,
    "start_time": "2022-11-29T10:22:18.180Z"
   },
   {
    "duration": 42,
    "start_time": "2022-11-29T10:22:18.342Z"
   },
   {
    "duration": 5,
    "start_time": "2022-11-29T10:22:18.385Z"
   },
   {
    "duration": 440,
    "start_time": "2022-11-29T10:22:18.391Z"
   },
   {
    "duration": 5,
    "start_time": "2022-11-29T10:22:18.832Z"
   },
   {
    "duration": 18,
    "start_time": "2022-11-29T10:22:18.838Z"
   },
   {
    "duration": 20,
    "start_time": "2022-11-29T10:22:18.858Z"
   },
   {
    "duration": 8,
    "start_time": "2022-11-29T10:22:18.880Z"
   },
   {
    "duration": 10,
    "start_time": "2022-11-29T10:22:18.890Z"
   },
   {
    "duration": 293,
    "start_time": "2022-11-29T10:22:18.902Z"
   },
   {
    "duration": 280,
    "start_time": "2022-11-29T10:22:19.197Z"
   },
   {
    "duration": 164,
    "start_time": "2022-11-29T10:22:19.479Z"
   },
   {
    "duration": 269,
    "start_time": "2022-11-29T10:22:19.645Z"
   },
   {
    "duration": 184,
    "start_time": "2022-11-29T10:22:19.916Z"
   },
   {
    "duration": 177,
    "start_time": "2022-11-29T10:22:20.101Z"
   },
   {
    "duration": 201,
    "start_time": "2022-11-29T10:22:20.279Z"
   },
   {
    "duration": 235,
    "start_time": "2022-11-29T10:22:20.482Z"
   },
   {
    "duration": 227,
    "start_time": "2022-11-29T10:22:20.719Z"
   },
   {
    "duration": 264,
    "start_time": "2022-11-29T10:22:20.948Z"
   },
   {
    "duration": 266,
    "start_time": "2022-11-29T10:22:21.214Z"
   },
   {
    "duration": 261,
    "start_time": "2022-11-29T10:22:21.482Z"
   },
   {
    "duration": 156,
    "start_time": "2022-11-29T10:22:21.745Z"
   },
   {
    "duration": 178,
    "start_time": "2022-11-29T10:22:21.902Z"
   },
   {
    "duration": 252,
    "start_time": "2022-11-29T10:22:22.082Z"
   },
   {
    "duration": 273,
    "start_time": "2022-11-29T10:22:22.336Z"
   },
   {
    "duration": 128,
    "start_time": "2022-11-29T10:22:22.611Z"
   },
   {
    "duration": 191,
    "start_time": "2022-11-29T10:22:22.741Z"
   },
   {
    "duration": 217,
    "start_time": "2022-11-29T10:22:22.934Z"
   },
   {
    "duration": 192,
    "start_time": "2022-11-29T10:22:23.155Z"
   },
   {
    "duration": 202,
    "start_time": "2022-11-29T10:22:23.348Z"
   },
   {
    "duration": 330,
    "start_time": "2022-11-29T10:22:23.555Z"
   },
   {
    "duration": 330,
    "start_time": "2022-11-29T10:22:23.887Z"
   },
   {
    "duration": 373,
    "start_time": "2022-11-29T10:22:24.220Z"
   },
   {
    "duration": 445,
    "start_time": "2022-11-29T10:22:24.596Z"
   },
   {
    "duration": 50,
    "start_time": "2022-11-29T10:22:25.044Z"
   },
   {
    "duration": 13,
    "start_time": "2022-11-29T10:22:25.096Z"
   },
   {
    "duration": 13,
    "start_time": "2022-11-29T10:22:25.111Z"
   },
   {
    "duration": 10,
    "start_time": "2022-11-29T10:22:25.126Z"
   },
   {
    "duration": 167,
    "start_time": "2022-11-29T10:22:25.157Z"
   },
   {
    "duration": 293,
    "start_time": "2022-11-29T10:22:25.326Z"
   },
   {
    "duration": 43,
    "start_time": "2022-11-29T10:22:25.621Z"
   },
   {
    "duration": 3,
    "start_time": "2022-11-29T10:22:25.666Z"
   },
   {
    "duration": 21,
    "start_time": "2022-11-29T10:22:25.671Z"
   },
   {
    "duration": 5290,
    "start_time": "2022-11-29T10:22:25.694Z"
   },
   {
    "duration": 455,
    "start_time": "2022-11-29T10:22:30.986Z"
   },
   {
    "duration": 987,
    "start_time": "2022-11-29T10:22:31.443Z"
   },
   {
    "duration": 209,
    "start_time": "2022-11-29T10:22:32.432Z"
   },
   {
    "duration": 17,
    "start_time": "2022-11-29T10:39:06.469Z"
   },
   {
    "duration": 1197,
    "start_time": "2022-11-29T10:43:23.500Z"
   },
   {
    "duration": 117,
    "start_time": "2022-11-29T10:43:24.699Z"
   },
   {
    "duration": 51,
    "start_time": "2022-11-29T10:43:24.820Z"
   },
   {
    "duration": 16,
    "start_time": "2022-11-29T10:43:24.873Z"
   },
   {
    "duration": 2030,
    "start_time": "2022-11-29T10:43:24.891Z"
   },
   {
    "duration": 9,
    "start_time": "2022-11-29T10:43:26.922Z"
   },
   {
    "duration": 19,
    "start_time": "2022-11-29T10:43:26.932Z"
   },
   {
    "duration": 225,
    "start_time": "2022-11-29T10:43:26.955Z"
   },
   {
    "duration": 3,
    "start_time": "2022-11-29T10:43:27.183Z"
   },
   {
    "duration": 13,
    "start_time": "2022-11-29T10:43:27.188Z"
   },
   {
    "duration": 10,
    "start_time": "2022-11-29T10:43:27.203Z"
   },
   {
    "duration": 20,
    "start_time": "2022-11-29T10:43:27.215Z"
   },
   {
    "duration": 4,
    "start_time": "2022-11-29T10:43:27.236Z"
   },
   {
    "duration": 16,
    "start_time": "2022-11-29T10:43:27.242Z"
   },
   {
    "duration": 7,
    "start_time": "2022-11-29T10:43:27.259Z"
   },
   {
    "duration": 16,
    "start_time": "2022-11-29T10:43:27.268Z"
   },
   {
    "duration": 15,
    "start_time": "2022-11-29T10:43:27.286Z"
   },
   {
    "duration": 13,
    "start_time": "2022-11-29T10:43:27.303Z"
   },
   {
    "duration": 42,
    "start_time": "2022-11-29T10:43:27.317Z"
   },
   {
    "duration": 5,
    "start_time": "2022-11-29T10:43:27.360Z"
   },
   {
    "duration": 6,
    "start_time": "2022-11-29T10:43:27.367Z"
   },
   {
    "duration": 6,
    "start_time": "2022-11-29T10:43:27.375Z"
   },
   {
    "duration": 11,
    "start_time": "2022-11-29T10:43:27.383Z"
   },
   {
    "duration": 8,
    "start_time": "2022-11-29T10:43:27.396Z"
   },
   {
    "duration": 52,
    "start_time": "2022-11-29T10:43:27.406Z"
   },
   {
    "duration": 10,
    "start_time": "2022-11-29T10:43:27.460Z"
   },
   {
    "duration": 6,
    "start_time": "2022-11-29T10:43:27.475Z"
   },
   {
    "duration": 10,
    "start_time": "2022-11-29T10:43:27.482Z"
   },
   {
    "duration": 9,
    "start_time": "2022-11-29T10:43:27.495Z"
   },
   {
    "duration": 21,
    "start_time": "2022-11-29T10:43:27.506Z"
   },
   {
    "duration": 27,
    "start_time": "2022-11-29T10:43:27.529Z"
   },
   {
    "duration": 14,
    "start_time": "2022-11-29T10:43:27.558Z"
   },
   {
    "duration": 10,
    "start_time": "2022-11-29T10:43:27.574Z"
   },
   {
    "duration": 4,
    "start_time": "2022-11-29T10:43:27.587Z"
   },
   {
    "duration": 6,
    "start_time": "2022-11-29T10:43:27.593Z"
   },
   {
    "duration": 11,
    "start_time": "2022-11-29T10:43:27.600Z"
   },
   {
    "duration": 3,
    "start_time": "2022-11-29T10:43:27.612Z"
   },
   {
    "duration": 6,
    "start_time": "2022-11-29T10:43:27.617Z"
   },
   {
    "duration": 38,
    "start_time": "2022-11-29T10:43:27.624Z"
   },
   {
    "duration": 14,
    "start_time": "2022-11-29T10:43:27.664Z"
   },
   {
    "duration": 8,
    "start_time": "2022-11-29T10:43:27.680Z"
   },
   {
    "duration": 14,
    "start_time": "2022-11-29T10:43:27.690Z"
   },
   {
    "duration": 8,
    "start_time": "2022-11-29T10:43:27.706Z"
   },
   {
    "duration": 9,
    "start_time": "2022-11-29T10:43:27.716Z"
   },
   {
    "duration": 28,
    "start_time": "2022-11-29T10:43:27.727Z"
   },
   {
    "duration": 12,
    "start_time": "2022-11-29T10:43:27.757Z"
   },
   {
    "duration": 9,
    "start_time": "2022-11-29T10:43:27.771Z"
   },
   {
    "duration": 7,
    "start_time": "2022-11-29T10:43:27.781Z"
   },
   {
    "duration": 26,
    "start_time": "2022-11-29T10:43:27.789Z"
   },
   {
    "duration": 7,
    "start_time": "2022-11-29T10:43:27.817Z"
   },
   {
    "duration": 210,
    "start_time": "2022-11-29T10:43:27.826Z"
   },
   {
    "duration": 56,
    "start_time": "2022-11-29T10:43:28.038Z"
   },
   {
    "duration": 402,
    "start_time": "2022-11-29T10:43:28.096Z"
   },
   {
    "duration": 9,
    "start_time": "2022-11-29T10:43:28.499Z"
   },
   {
    "duration": 329,
    "start_time": "2022-11-29T10:43:28.510Z"
   },
   {
    "duration": 454,
    "start_time": "2022-11-29T10:43:28.841Z"
   },
   {
    "duration": 160,
    "start_time": "2022-11-29T10:43:29.297Z"
   },
   {
    "duration": 24,
    "start_time": "2022-11-29T10:43:29.458Z"
   },
   {
    "duration": 161,
    "start_time": "2022-11-29T10:43:29.484Z"
   },
   {
    "duration": 9,
    "start_time": "2022-11-29T10:43:29.646Z"
   },
   {
    "duration": 9,
    "start_time": "2022-11-29T10:43:29.657Z"
   },
   {
    "duration": 74,
    "start_time": "2022-11-29T10:43:29.668Z"
   },
   {
    "duration": 16,
    "start_time": "2022-11-29T10:43:29.743Z"
   },
   {
    "duration": 18,
    "start_time": "2022-11-29T10:43:29.761Z"
   },
   {
    "duration": 8,
    "start_time": "2022-11-29T10:43:29.780Z"
   },
   {
    "duration": 306,
    "start_time": "2022-11-29T10:43:29.790Z"
   },
   {
    "duration": 305,
    "start_time": "2022-11-29T10:43:30.099Z"
   },
   {
    "duration": 164,
    "start_time": "2022-11-29T10:43:30.407Z"
   },
   {
    "duration": 24,
    "start_time": "2022-11-29T10:43:30.573Z"
   },
   {
    "duration": 4,
    "start_time": "2022-11-29T10:43:30.599Z"
   },
   {
    "duration": 460,
    "start_time": "2022-11-29T10:43:30.605Z"
   },
   {
    "duration": 4,
    "start_time": "2022-11-29T10:43:31.067Z"
   },
   {
    "duration": 39,
    "start_time": "2022-11-29T10:43:31.073Z"
   },
   {
    "duration": 37,
    "start_time": "2022-11-29T10:43:31.113Z"
   },
   {
    "duration": 14,
    "start_time": "2022-11-29T10:43:31.151Z"
   },
   {
    "duration": 16,
    "start_time": "2022-11-29T10:43:31.166Z"
   },
   {
    "duration": 246,
    "start_time": "2022-11-29T10:43:31.183Z"
   },
   {
    "duration": 228,
    "start_time": "2022-11-29T10:43:31.431Z"
   },
   {
    "duration": 143,
    "start_time": "2022-11-29T10:43:31.661Z"
   },
   {
    "duration": 262,
    "start_time": "2022-11-29T10:43:31.806Z"
   },
   {
    "duration": 180,
    "start_time": "2022-11-29T10:43:32.075Z"
   },
   {
    "duration": 159,
    "start_time": "2022-11-29T10:43:32.256Z"
   },
   {
    "duration": 211,
    "start_time": "2022-11-29T10:43:32.417Z"
   },
   {
    "duration": 247,
    "start_time": "2022-11-29T10:43:32.629Z"
   },
   {
    "duration": 299,
    "start_time": "2022-11-29T10:43:32.878Z"
   },
   {
    "duration": 341,
    "start_time": "2022-11-29T10:43:33.179Z"
   },
   {
    "duration": 269,
    "start_time": "2022-11-29T10:43:33.523Z"
   },
   {
    "duration": 248,
    "start_time": "2022-11-29T10:43:33.795Z"
   },
   {
    "duration": 146,
    "start_time": "2022-11-29T10:43:34.045Z"
   },
   {
    "duration": 151,
    "start_time": "2022-11-29T10:43:34.193Z"
   },
   {
    "duration": 301,
    "start_time": "2022-11-29T10:43:34.346Z"
   },
   {
    "duration": 273,
    "start_time": "2022-11-29T10:43:34.655Z"
   },
   {
    "duration": 116,
    "start_time": "2022-11-29T10:43:34.929Z"
   },
   {
    "duration": 171,
    "start_time": "2022-11-29T10:43:35.047Z"
   },
   {
    "duration": 186,
    "start_time": "2022-11-29T10:43:35.220Z"
   },
   {
    "duration": 191,
    "start_time": "2022-11-29T10:43:35.408Z"
   },
   {
    "duration": 181,
    "start_time": "2022-11-29T10:43:35.601Z"
   },
   {
    "duration": 282,
    "start_time": "2022-11-29T10:43:35.783Z"
   },
   {
    "duration": 310,
    "start_time": "2022-11-29T10:43:36.067Z"
   },
   {
    "duration": 308,
    "start_time": "2022-11-29T10:43:36.379Z"
   },
   {
    "duration": 454,
    "start_time": "2022-11-29T10:43:36.689Z"
   },
   {
    "duration": 35,
    "start_time": "2022-11-29T10:43:37.145Z"
   },
   {
    "duration": 10,
    "start_time": "2022-11-29T10:43:37.181Z"
   },
   {
    "duration": 11,
    "start_time": "2022-11-29T10:43:37.193Z"
   },
   {
    "duration": 13,
    "start_time": "2022-11-29T10:43:37.206Z"
   },
   {
    "duration": 184,
    "start_time": "2022-11-29T10:43:37.221Z"
   },
   {
    "duration": 289,
    "start_time": "2022-11-29T10:43:37.407Z"
   },
   {
    "duration": 25,
    "start_time": "2022-11-29T10:43:37.698Z"
   },
   {
    "duration": 2,
    "start_time": "2022-11-29T10:43:37.725Z"
   },
   {
    "duration": 8,
    "start_time": "2022-11-29T10:43:37.728Z"
   },
   {
    "duration": 4711,
    "start_time": "2022-11-29T10:43:37.754Z"
   },
   {
    "duration": 395,
    "start_time": "2022-11-29T10:43:42.467Z"
   },
   {
    "duration": 921,
    "start_time": "2022-11-29T10:43:42.864Z"
   },
   {
    "duration": 188,
    "start_time": "2022-11-29T10:43:43.787Z"
   }
  ],
  "kernelspec": {
   "display_name": "Python 3 (ipykernel)",
   "language": "python",
   "name": "python3"
  },
  "language_info": {
   "codemirror_mode": {
    "name": "ipython",
    "version": 3
   },
   "file_extension": ".py",
   "mimetype": "text/x-python",
   "name": "python",
   "nbconvert_exporter": "python",
   "pygments_lexer": "ipython3",
   "version": "3.9.13"
  },
  "toc": {
   "base_numbering": 1,
   "nav_menu": {},
   "number_sections": true,
   "sideBar": true,
   "skip_h1_title": true,
   "title_cell": "Table of Contents",
   "title_sidebar": "Contents",
   "toc_cell": false,
   "toc_position": {
    "height": "calc(100% - 180px)",
    "left": "10px",
    "top": "150px",
    "width": "251.4px"
   },
   "toc_section_display": true,
   "toc_window_display": true
  }
 },
 "nbformat": 4,
 "nbformat_minor": 5
}
